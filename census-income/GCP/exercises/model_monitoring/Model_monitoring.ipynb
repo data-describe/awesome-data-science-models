{
 "cells": [
  {
   "cell_type": "markdown",
   "id": "66bb60d4-3f1b-45a1-9453-1513e208c411",
   "metadata": {},
   "source": [
    "## Initial setup"
   ]
  },
  {
   "cell_type": "code",
   "execution_count": null,
   "id": "ce485e64-c9fc-4b5d-918d-cf5c4c29c364",
   "metadata": {},
   "outputs": [],
   "source": [
    "import pandas as pd\n",
    "import numpy as np\n",
    "\n",
    "import google.cloud.aiplatform as aiplatform\n",
    "from google.cloud.aiplatform import model_monitoring"
   ]
  },
  {
   "cell_type": "code",
   "execution_count": null,
   "id": "a6484802-2da5-4e72-ad9a-7d94d945f9bb",
   "metadata": {},
   "outputs": [],
   "source": [
    "# Replace values acc. to your project/bucket\n",
    "PROJECT_ID = \"<PROJECT_ID>\"\n",
    "REGION = \"us-central1\""
   ]
  },
  {
   "cell_type": "code",
   "execution_count": null,
   "id": "dcd45527-3952-4220-8935-4b29a4ec6f0f",
   "metadata": {},
   "outputs": [],
   "source": [
    "aiplatform.init(project=PROJECT_ID,\n",
    "                location=REGION)"
   ]
  },
  {
   "cell_type": "markdown",
   "id": "2257e070-5915-475f-bdbc-f50fc4212830",
   "metadata": {},
   "source": [
    "Copy-paste endpoint info from the AutoML notebook e.g. look for something like \"projects/123/locations/us-central1/endpoints/456\""
   ]
  },
  {
   "cell_type": "code",
   "execution_count": null,
   "id": "b702b130-b7a2-437e-a5f9-8e3d1455bb64",
   "metadata": {},
   "outputs": [],
   "source": [
    "endpoint = aiplatform.Endpoint('<endpoint-info>')"
   ]
  },
  {
   "cell_type": "markdown",
   "id": "e673f16b-35a9-4778-bb6e-d9b87af05a8f",
   "metadata": {},
   "source": [
    "## Configure alerting specification"
   ]
  },
  {
   "cell_type": "code",
   "execution_count": null,
   "id": "305a861b-da67-453c-88a3-b8b3b23aad98",
   "metadata": {},
   "outputs": [],
   "source": [
    "USER_EMAIL = \"<email-of-alert-recipient>\"\n",
    "\n",
    "alerting_config = model_monitoring.EmailAlertConfig(user_emails=[USER_EMAIL],\n",
    "                                                    enable_logging=True)"
   ]
  },
  {
   "cell_type": "code",
   "execution_count": null,
   "id": "41cf1f2c-eeed-4419-aff6-e8f41633bd3f",
   "metadata": {},
   "outputs": [],
   "source": [
    "MONITOR_INTERVAL = 1  # least count = 1; measured in hours\n",
    "\n",
    "# Create schedule configuration\n",
    "schedule_config = model_monitoring.ScheduleConfig(monitor_interval=MONITOR_INTERVAL)"
   ]
  },
  {
   "cell_type": "code",
   "execution_count": null,
   "id": "ecaa360a-d563-4618-bb05-8c93cd080ede",
   "metadata": {},
   "outputs": [],
   "source": [
    "SAMPLE_RATE = 0.95  # default value is 0.8 i.e. 80%\n",
    "\n",
    "# Create sampling configuration\n",
    "logging_sampling_strategy = model_monitoring.RandomSampleConfig(sample_rate=SAMPLE_RATE)"
   ]
  },
  {
   "cell_type": "code",
   "execution_count": null,
   "id": "b94568cd-79e8-47e3-9910-05b64e2fdfe8",
   "metadata": {},
   "outputs": [],
   "source": [
    "DRIFT_THRESHOLD_VALUE = 0.05  # default value is 0.3\n",
    "\n",
    "# Set column-wise threshold values\n",
    "DRIFT_THRESHOLDS = {\"<column1-name>\": DRIFT_THRESHOLD_VALUE,\n",
    "                    \"<column2-name>\": DRIFT_THRESHOLD_VALUE,\n",
    "                    \"<column3-name>\": DRIFT_THRESHOLD_VALUE,\n",
    "                    \"<column4-name>\": DRIFT_THRESHOLD_VALUE,\n",
    "                    \"<column5-name>\": DRIFT_THRESHOLD_VALUE}\n",
    "\n",
    "drift_config = model_monitoring.DriftDetectionConfig(drift_thresholds=DRIFT_THRESHOLDS)"
   ]
  },
  {
   "cell_type": "code",
   "execution_count": null,
   "id": "545575c8-df24-4f0c-971d-5c7f287b04d6",
   "metadata": {},
   "outputs": [],
   "source": [
    "TRAIN_DATA_GCS_URI = \"<GCS-path>\"  # source of training csv file\n",
    "TARGET = \"<column-name>\"  # label column\n",
    "\n",
    "SKEW_THRESHOLD_VALUE = 0.05  # default value is 0.3\n",
    "\n",
    "SKEW_THRESHOLDS = {\"<column1-name>\": SKEW_THRESHOLD_VALUE,\n",
    "                   \"<column2-name>\": SKEW_THRESHOLD_VALUE,\n",
    "                   \"<column3-name>\": SKEW_THRESHOLD_VALUE,\n",
    "                   \"<column4-name>\": SKEW_THRESHOLD_VALUE,\n",
    "                   \"<column5-name>\": SKEW_THRESHOLD_VALUE}\n",
    "\n",
    "skew_config = model_monitoring.SkewDetectionConfig(data_source=TRAIN_DATA_GCS_URI,\n",
    "                                                   skew_thresholds=SKEW_THRESHOLDS,\n",
    "                                                   target_field=TARGET,\n",
    "                                                   data_format=\"csv\")"
   ]
  },
  {
   "cell_type": "code",
   "execution_count": null,
   "id": "aa755e7d-5654-41ab-bd92-62998075660f",
   "metadata": {},
   "outputs": [],
   "source": [
    "objective_config = model_monitoring.ObjectiveConfig(\n",
    "                                                    skew_detection_config=skew_config,\n",
    "                                                    drift_detection_config=drift_config,\n",
    "                                                   )"
   ]
  },
  {
   "cell_type": "markdown",
   "id": "9b2e702c-5fa6-4a2d-977c-66e5ff377ce1",
   "metadata": {},
   "source": [
    "## Monitoring"
   ]
  },
  {
   "cell_type": "code",
   "execution_count": null,
   "id": "f2d3ab3c-9604-4994-9849-9fbdb5db13be",
   "metadata": {},
   "outputs": [],
   "source": [
    "monitoring_job = aiplatform.ModelDeploymentMonitoringJob.create(\n",
    "                                                                display_name=\"<your-display-name>\",  # for GCP console\n",
    "                                                                project=PROJECT_ID,\n",
    "                                                                location=REGION,\n",
    "                                                                endpoint=endpoint,\n",
    "                                                                logging_sampling_strategy=logging_sampling_strategy,\n",
    "                                                                schedule_config=schedule_config,\n",
    "                                                                alert_config=alerting_config,\n",
    "                                                                objective_configs=objective_config,\n",
    "                                                               )\n",
    "\n",
    "print(monitoring_job)"
   ]
  },
  {
   "cell_type": "markdown",
   "id": "2196aecd-32b5-45d5-83b2-f92758991de5",
   "metadata": {},
   "source": [
    "Check current status"
   ]
  },
  {
   "cell_type": "code",
   "execution_count": null,
   "id": "bf447d30-eb02-4abb-b31f-6399f60166c1",
   "metadata": {},
   "outputs": [],
   "source": [
    "jobs = monitoring_job.list(filter=\"display_name=<your-display-name>\")  # same as in previous cell\n",
    "job = jobs[0]\n",
    "print(job.state)  # might show pending at the beginning"
   ]
  },
  {
   "cell_type": "markdown",
   "id": "a93ea9ba-942d-4973-84c6-3c70b7c8f4a1",
   "metadata": {},
   "source": [
    "Wait for a few minutes and check again"
   ]
  },
  {
   "cell_type": "code",
   "execution_count": null,
   "id": "2c7f0c09-0d84-4765-aa3d-cc900ae9b717",
   "metadata": {},
   "outputs": [],
   "source": [
    "print(job.state)  # wait till it shows running"
   ]
  },
  {
   "cell_type": "markdown",
   "id": "d6f6e582-ac54-417a-8b88-f8ef5b9f56cc",
   "metadata": {},
   "source": [
    "Generate synthetic data for prediction requests"
   ]
  },
  {
   "cell_type": "code",
   "execution_count": null,
   "id": "1c881f78-e631-4816-8289-8edf0b3c4511",
   "metadata": {},
   "outputs": [],
   "source": [
    "import random\n",
    "\n",
    "instances = []\n",
    "\n",
    "# Set appropriate values, based on each column\n",
    "for _ in range(1000):\n",
    "    new_row = {\n",
    "                \"age\": \"\",\n",
    "                \"workclass\": \"\",\n",
    "                \"fnlwgt\": \"\",\n",
    "                \"education\": \"\",\n",
    "                \"education_num\": \"\",\n",
    "                \"marital_status\": \"\",\n",
    "                \"occupation\": \"\",\n",
    "                \"relationship\": \"\",\n",
    "                \"race\": \"\",\n",
    "                \"sex\": \"\",\n",
    "                \"capital_gain\": \"\",\n",
    "                \"capital_loss\": \"\",\n",
    "                \"hours_per_week\": \"\",\n",
    "                \"native_country\": \"\"\n",
    "              }\n",
    "    instances.append(new_row)"
   ]
  },
  {
   "cell_type": "code",
   "execution_count": null,
   "id": "bbb22dfa-d41f-4cc2-991b-4093834de266",
   "metadata": {},
   "outputs": [],
   "source": [
    "for instance in instances:\n",
    "    response = endpoint.predict(instances=[instance])\n",
    "\n",
    "prediction = response[0]\n",
    "\n",
    "# print the prediction for the first instance\n",
    "print(prediction)"
   ]
  },
  {
   "cell_type": "code",
   "execution_count": null,
   "id": "61fc24c5-2f7e-470c-b428-1ba9ccb09967",
   "metadata": {},
   "outputs": [],
   "source": [
    "instances = []\n",
    "\n",
    "# Set appropriate values, based on each column\n",
    "for _ in range(10):\n",
    "    new_row = {\n",
    "                \"age\": \",\n",
    "                \"workclass\": \"\",\n",
    "                \"fnlwgt\": \"\",\n",
    "                \"education\": \"\",\n",
    "                \"education_num\": \"\",\n",
    "                \"marital_status\": \"\",\n",
    "                \"occupation\": \"\",\n",
    "                \"relationship\": \"\",\n",
    "                \"race\": \"\",\n",
    "                \"sex\": \"\",\n",
    "                \"capital_gain\": \"\",\n",
    "                \"capital_loss\": \"\",\n",
    "                \"hours_per_week\": \"\",\n",
    "                \"native_country\": \"\"\n",
    "              }\n",
    "    instances.append(new_row)"
   ]
  },
  {
   "cell_type": "code",
   "execution_count": null,
   "id": "dfbd2f1f-427e-458f-89a3-6ceefb9aab9a",
   "metadata": {},
   "outputs": [],
   "source": [
    "for instance in instances:\n",
    "    response = endpoint.predict(instances=[instance])\n",
    "\n",
    "prediction = response[0]\n",
    "\n",
    "# print the prediction for the first instance\n",
    "print(prediction)"
   ]
  },
  {
   "cell_type": "markdown",
   "id": "bf303192-4712-4477-9c83-8ca2338662be",
   "metadata": {},
   "source": [
    "Check Vertex AI Endoints (Monitoring) console, to check latest monitoring run - it runs only at regular intervals e.g. every 1 hour, not all the time - of the deployed model and check for alerts. After some time, alerts should show up like this.."
   ]
  },
  {
   "cell_type": "markdown",
   "id": "5548c304-dc81-4174-bd6a-e59add244659",
   "metadata": {},
   "source": [
    "<img src=\"GCP_monitoring_console_alert.jpg\" width=1000 height=600 />"
   ]
  },
  {
   "cell_type": "markdown",
   "id": "614f2c62-98d8-4379-bd1d-8572ff898113",
   "metadata": {},
   "source": [
    "And a corresponding email as well e.g. .."
   ]
  },
  {
   "cell_type": "markdown",
   "id": "10e0eb2d-6d21-4093-b01f-d99211e95c60",
   "metadata": {},
   "source": [
    "<img src=\"GCP_monitoring_email_alert.jpg\" width=1000 height=600 />"
   ]
  },
  {
   "cell_type": "code",
   "execution_count": null,
   "id": "098f4e42-dad2-463e-a507-adfa2f71b904",
   "metadata": {},
   "outputs": [],
   "source": []
  }
 ],
 "metadata": {
  "environment": {
   "kernel": "python3",
   "name": "tf2-gpu.2-8.m103",
   "type": "gcloud",
   "uri": "gcr.io/deeplearning-platform-release/tf2-gpu.2-8:m103"
  },
  "kernelspec": {
   "display_name": "Python 3 (ipykernel)",
   "language": "python",
   "name": "python3"
  },
  "language_info": {
   "codemirror_mode": {
    "name": "ipython",
    "version": 3
   },
   "file_extension": ".py",
   "mimetype": "text/x-python",
   "name": "python",
   "nbconvert_exporter": "python",
   "pygments_lexer": "ipython3",
   "version": "3.7.12"
  }
 },
 "nbformat": 4,
 "nbformat_minor": 5
}

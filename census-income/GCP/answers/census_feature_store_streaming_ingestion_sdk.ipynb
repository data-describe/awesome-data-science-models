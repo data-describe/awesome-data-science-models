{
 "cells": [
  {
   "cell_type": "markdown",
   "metadata": {
    "id": "tvgnzT1CKxrO"
   },
   "source": [
    "## Overview\n",
    "\n",
    "This notebook demonstrates how to use Vertex AI Feature Store's streaming ingestion at the SDK layer.\n",
    "\n",
    "Learn more about [Vertex AI Feature Store](https://cloud.google.com/vertex-ai/docs/featurestore)."
   ]
  },
  {
   "cell_type": "markdown",
   "metadata": {
    "id": "d975e698c9a4"
   },
   "source": [
    "### Objective\n",
    "\n",
    "In this session, you learn how to ingest features from a `Pandas DataFrame` into your Vertex AI Feature Store using `write_feature_values` method from the Vertex AI SDK.\n",
    "\n",
    "This tutorial uses the following Google Cloud ML services and resources:\n",
    "\n",
    "- Vertex AI Feature Store\n",
    "\n",
    "\n",
    "The steps performed include:\n",
    "\n",
    "- Create `Feature Store`\n",
    "- Create new `Entity Type` for your `Feature Store`\n",
    "- Ingest feature values from `Pandas DataFrame` into `Feature Store`'s `Entity Types`."
   ]
  },
  {
   "cell_type": "code",
   "execution_count": 2,
   "metadata": {
    "id": "oM1iC_MfAts1"
   },
   "outputs": [],
   "source": [
    "PROJECT_ID = \"ds-training-380514\"\n",
    "REGION = \"us-central1\""
   ]
  },
  {
   "cell_type": "markdown",
   "metadata": {
    "id": "960505627ddf"
   },
   "source": [
    "### Import libraries"
   ]
  },
  {
   "cell_type": "code",
   "execution_count": 3,
   "metadata": {
    "id": "PyQmSRbKA8r-"
   },
   "outputs": [],
   "source": [
    "import numpy as np\n",
    "import pandas as pd\n",
    "from google.cloud import aiplatform, bigquery"
   ]
  },
  {
   "cell_type": "markdown",
   "metadata": {
    "id": "init_aip:mbsdk,all"
   },
   "source": [
    "### Initialize Vertex AI SDK for Python\n",
    "\n",
    "Initialize the Vertex AI SDK for Python for your project."
   ]
  },
  {
   "cell_type": "code",
   "execution_count": 4,
   "metadata": {
    "id": "0ep8KuQhI_df"
   },
   "outputs": [],
   "source": [
    "aiplatform.init(project=PROJECT_ID, location=REGION)"
   ]
  },
  {
   "cell_type": "code",
   "execution_count": 60,
   "metadata": {},
   "outputs": [],
   "source": [
    "census_df = pd.read_csv(\"gs://aaa-aca-ml-workshop/census-income/adult.test\")"
   ]
  },
  {
   "cell_type": "code",
   "execution_count": 61,
   "metadata": {},
   "outputs": [
    {
     "data": {
      "text/html": [
       "<div>\n",
       "<style scoped>\n",
       "    .dataframe tbody tr th:only-of-type {\n",
       "        vertical-align: middle;\n",
       "    }\n",
       "\n",
       "    .dataframe tbody tr th {\n",
       "        vertical-align: top;\n",
       "    }\n",
       "\n",
       "    .dataframe thead th {\n",
       "        text-align: right;\n",
       "    }\n",
       "</style>\n",
       "<table border=\"1\" class=\"dataframe\">\n",
       "  <thead>\n",
       "    <tr style=\"text-align: right;\">\n",
       "      <th></th>\n",
       "      <th>age</th>\n",
       "      <th>workclass</th>\n",
       "      <th>fnlwgt</th>\n",
       "      <th>education</th>\n",
       "      <th>education-num</th>\n",
       "      <th>marital-status</th>\n",
       "      <th>occupation</th>\n",
       "      <th>relationship</th>\n",
       "      <th>race</th>\n",
       "      <th>sex</th>\n",
       "      <th>capital-gain</th>\n",
       "      <th>capital-loss</th>\n",
       "      <th>hours-per-week</th>\n",
       "      <th>native-country</th>\n",
       "      <th>income</th>\n",
       "    </tr>\n",
       "  </thead>\n",
       "  <tbody>\n",
       "    <tr>\n",
       "      <th>0</th>\n",
       "      <td>|1x3 Cross validator</td>\n",
       "      <td>NaN</td>\n",
       "      <td>NaN</td>\n",
       "      <td>NaN</td>\n",
       "      <td>NaN</td>\n",
       "      <td>NaN</td>\n",
       "      <td>NaN</td>\n",
       "      <td>NaN</td>\n",
       "      <td>NaN</td>\n",
       "      <td>NaN</td>\n",
       "      <td>NaN</td>\n",
       "      <td>NaN</td>\n",
       "      <td>NaN</td>\n",
       "      <td>NaN</td>\n",
       "      <td>NaN</td>\n",
       "    </tr>\n",
       "    <tr>\n",
       "      <th>1</th>\n",
       "      <td>25</td>\n",
       "      <td>Private</td>\n",
       "      <td>226802.0</td>\n",
       "      <td>11th</td>\n",
       "      <td>7.0</td>\n",
       "      <td>Never-married</td>\n",
       "      <td>Machine-op-inspct</td>\n",
       "      <td>Own-child</td>\n",
       "      <td>Black</td>\n",
       "      <td>Male</td>\n",
       "      <td>0.0</td>\n",
       "      <td>0.0</td>\n",
       "      <td>40.0</td>\n",
       "      <td>United-States</td>\n",
       "      <td>&lt;=50K.</td>\n",
       "    </tr>\n",
       "    <tr>\n",
       "      <th>2</th>\n",
       "      <td>38</td>\n",
       "      <td>Private</td>\n",
       "      <td>89814.0</td>\n",
       "      <td>HS-grad</td>\n",
       "      <td>9.0</td>\n",
       "      <td>Married-civ-spouse</td>\n",
       "      <td>Farming-fishing</td>\n",
       "      <td>Husband</td>\n",
       "      <td>White</td>\n",
       "      <td>Male</td>\n",
       "      <td>0.0</td>\n",
       "      <td>0.0</td>\n",
       "      <td>50.0</td>\n",
       "      <td>United-States</td>\n",
       "      <td>&lt;=50K.</td>\n",
       "    </tr>\n",
       "    <tr>\n",
       "      <th>3</th>\n",
       "      <td>28</td>\n",
       "      <td>Local-gov</td>\n",
       "      <td>336951.0</td>\n",
       "      <td>Assoc-acdm</td>\n",
       "      <td>12.0</td>\n",
       "      <td>Married-civ-spouse</td>\n",
       "      <td>Protective-serv</td>\n",
       "      <td>Husband</td>\n",
       "      <td>White</td>\n",
       "      <td>Male</td>\n",
       "      <td>0.0</td>\n",
       "      <td>0.0</td>\n",
       "      <td>40.0</td>\n",
       "      <td>United-States</td>\n",
       "      <td>&gt;50K.</td>\n",
       "    </tr>\n",
       "    <tr>\n",
       "      <th>4</th>\n",
       "      <td>44</td>\n",
       "      <td>Private</td>\n",
       "      <td>160323.0</td>\n",
       "      <td>Some-college</td>\n",
       "      <td>10.0</td>\n",
       "      <td>Married-civ-spouse</td>\n",
       "      <td>Machine-op-inspct</td>\n",
       "      <td>Husband</td>\n",
       "      <td>Black</td>\n",
       "      <td>Male</td>\n",
       "      <td>7688.0</td>\n",
       "      <td>0.0</td>\n",
       "      <td>40.0</td>\n",
       "      <td>United-States</td>\n",
       "      <td>&gt;50K.</td>\n",
       "    </tr>\n",
       "    <tr>\n",
       "      <th>...</th>\n",
       "      <td>...</td>\n",
       "      <td>...</td>\n",
       "      <td>...</td>\n",
       "      <td>...</td>\n",
       "      <td>...</td>\n",
       "      <td>...</td>\n",
       "      <td>...</td>\n",
       "      <td>...</td>\n",
       "      <td>...</td>\n",
       "      <td>...</td>\n",
       "      <td>...</td>\n",
       "      <td>...</td>\n",
       "      <td>...</td>\n",
       "      <td>...</td>\n",
       "      <td>...</td>\n",
       "    </tr>\n",
       "    <tr>\n",
       "      <th>16277</th>\n",
       "      <td>39</td>\n",
       "      <td>Private</td>\n",
       "      <td>215419.0</td>\n",
       "      <td>Bachelors</td>\n",
       "      <td>13.0</td>\n",
       "      <td>Divorced</td>\n",
       "      <td>Prof-specialty</td>\n",
       "      <td>Not-in-family</td>\n",
       "      <td>White</td>\n",
       "      <td>Female</td>\n",
       "      <td>0.0</td>\n",
       "      <td>0.0</td>\n",
       "      <td>36.0</td>\n",
       "      <td>United-States</td>\n",
       "      <td>&lt;=50K.</td>\n",
       "    </tr>\n",
       "    <tr>\n",
       "      <th>16278</th>\n",
       "      <td>64</td>\n",
       "      <td>?</td>\n",
       "      <td>321403.0</td>\n",
       "      <td>HS-grad</td>\n",
       "      <td>9.0</td>\n",
       "      <td>Widowed</td>\n",
       "      <td>?</td>\n",
       "      <td>Other-relative</td>\n",
       "      <td>Black</td>\n",
       "      <td>Male</td>\n",
       "      <td>0.0</td>\n",
       "      <td>0.0</td>\n",
       "      <td>40.0</td>\n",
       "      <td>United-States</td>\n",
       "      <td>&lt;=50K.</td>\n",
       "    </tr>\n",
       "    <tr>\n",
       "      <th>16279</th>\n",
       "      <td>38</td>\n",
       "      <td>Private</td>\n",
       "      <td>374983.0</td>\n",
       "      <td>Bachelors</td>\n",
       "      <td>13.0</td>\n",
       "      <td>Married-civ-spouse</td>\n",
       "      <td>Prof-specialty</td>\n",
       "      <td>Husband</td>\n",
       "      <td>White</td>\n",
       "      <td>Male</td>\n",
       "      <td>0.0</td>\n",
       "      <td>0.0</td>\n",
       "      <td>50.0</td>\n",
       "      <td>United-States</td>\n",
       "      <td>&lt;=50K.</td>\n",
       "    </tr>\n",
       "    <tr>\n",
       "      <th>16280</th>\n",
       "      <td>44</td>\n",
       "      <td>Private</td>\n",
       "      <td>83891.0</td>\n",
       "      <td>Bachelors</td>\n",
       "      <td>13.0</td>\n",
       "      <td>Divorced</td>\n",
       "      <td>Adm-clerical</td>\n",
       "      <td>Own-child</td>\n",
       "      <td>Asian-Pac-Islander</td>\n",
       "      <td>Male</td>\n",
       "      <td>5455.0</td>\n",
       "      <td>0.0</td>\n",
       "      <td>40.0</td>\n",
       "      <td>United-States</td>\n",
       "      <td>&lt;=50K.</td>\n",
       "    </tr>\n",
       "    <tr>\n",
       "      <th>16281</th>\n",
       "      <td>35</td>\n",
       "      <td>Self-emp-inc</td>\n",
       "      <td>182148.0</td>\n",
       "      <td>Bachelors</td>\n",
       "      <td>13.0</td>\n",
       "      <td>Married-civ-spouse</td>\n",
       "      <td>Exec-managerial</td>\n",
       "      <td>Husband</td>\n",
       "      <td>White</td>\n",
       "      <td>Male</td>\n",
       "      <td>0.0</td>\n",
       "      <td>0.0</td>\n",
       "      <td>60.0</td>\n",
       "      <td>United-States</td>\n",
       "      <td>&gt;50K.</td>\n",
       "    </tr>\n",
       "  </tbody>\n",
       "</table>\n",
       "<p>16282 rows × 15 columns</p>\n",
       "</div>"
      ],
      "text/plain": [
       "                        age      workclass    fnlwgt      education  \\\n",
       "0      |1x3 Cross validator            NaN       NaN            NaN   \n",
       "1                        25        Private  226802.0           11th   \n",
       "2                        38        Private   89814.0        HS-grad   \n",
       "3                        28      Local-gov  336951.0     Assoc-acdm   \n",
       "4                        44        Private  160323.0   Some-college   \n",
       "...                     ...            ...       ...            ...   \n",
       "16277                    39        Private  215419.0      Bachelors   \n",
       "16278                    64              ?  321403.0        HS-grad   \n",
       "16279                    38        Private  374983.0      Bachelors   \n",
       "16280                    44        Private   83891.0      Bachelors   \n",
       "16281                    35   Self-emp-inc  182148.0      Bachelors   \n",
       "\n",
       "       education-num       marital-status          occupation  \\\n",
       "0                NaN                  NaN                 NaN   \n",
       "1                7.0        Never-married   Machine-op-inspct   \n",
       "2                9.0   Married-civ-spouse     Farming-fishing   \n",
       "3               12.0   Married-civ-spouse     Protective-serv   \n",
       "4               10.0   Married-civ-spouse   Machine-op-inspct   \n",
       "...              ...                  ...                 ...   \n",
       "16277           13.0             Divorced      Prof-specialty   \n",
       "16278            9.0              Widowed                   ?   \n",
       "16279           13.0   Married-civ-spouse      Prof-specialty   \n",
       "16280           13.0             Divorced        Adm-clerical   \n",
       "16281           13.0   Married-civ-spouse     Exec-managerial   \n",
       "\n",
       "          relationship                 race      sex  capital-gain  \\\n",
       "0                  NaN                  NaN      NaN           NaN   \n",
       "1            Own-child                Black     Male           0.0   \n",
       "2              Husband                White     Male           0.0   \n",
       "3              Husband                White     Male           0.0   \n",
       "4              Husband                Black     Male        7688.0   \n",
       "...                ...                  ...      ...           ...   \n",
       "16277    Not-in-family                White   Female           0.0   \n",
       "16278   Other-relative                Black     Male           0.0   \n",
       "16279          Husband                White     Male           0.0   \n",
       "16280        Own-child   Asian-Pac-Islander     Male        5455.0   \n",
       "16281          Husband                White     Male           0.0   \n",
       "\n",
       "       capital-loss  hours-per-week  native-country   income  \n",
       "0               NaN             NaN             NaN      NaN  \n",
       "1               0.0            40.0   United-States   <=50K.  \n",
       "2               0.0            50.0   United-States   <=50K.  \n",
       "3               0.0            40.0   United-States    >50K.  \n",
       "4               0.0            40.0   United-States    >50K.  \n",
       "...             ...             ...             ...      ...  \n",
       "16277           0.0            36.0   United-States   <=50K.  \n",
       "16278           0.0            40.0   United-States   <=50K.  \n",
       "16279           0.0            50.0   United-States   <=50K.  \n",
       "16280           0.0            40.0   United-States   <=50K.  \n",
       "16281           0.0            60.0   United-States    >50K.  \n",
       "\n",
       "[16282 rows x 15 columns]"
      ]
     },
     "execution_count": 61,
     "metadata": {},
     "output_type": "execute_result"
    }
   ],
   "source": [
    "census_df"
   ]
  },
  {
   "cell_type": "code",
   "execution_count": 62,
   "metadata": {},
   "outputs": [
    {
     "data": {
      "text/plain": [
       "(16282, 15)"
      ]
     },
     "execution_count": 62,
     "metadata": {},
     "output_type": "execute_result"
    }
   ],
   "source": [
    "census_df.shape"
   ]
  },
  {
   "cell_type": "code",
   "execution_count": 63,
   "metadata": {},
   "outputs": [
    {
     "data": {
      "text/plain": [
       "age                object\n",
       "workclass          object\n",
       "fnlwgt            float64\n",
       "education          object\n",
       "education-num     float64\n",
       "marital-status     object\n",
       "occupation         object\n",
       "relationship       object\n",
       "race               object\n",
       "sex                object\n",
       "capital-gain      float64\n",
       "capital-loss      float64\n",
       "hours-per-week    float64\n",
       "native-country     object\n",
       "income             object\n",
       "dtype: object"
      ]
     },
     "execution_count": 63,
     "metadata": {},
     "output_type": "execute_result"
    }
   ],
   "source": [
    "census_df.dtypes"
   ]
  },
  {
   "cell_type": "code",
   "execution_count": 64,
   "metadata": {},
   "outputs": [
    {
     "data": {
      "text/plain": [
       "(16282, 15)"
      ]
     },
     "execution_count": 64,
     "metadata": {},
     "output_type": "execute_result"
    }
   ],
   "source": [
    "census_df.shape"
   ]
  },
  {
   "cell_type": "markdown",
   "metadata": {
    "id": "k5XsEiAuEWUJ"
   },
   "source": [
    "## Download and prepare the data"
   ]
  },
  {
   "cell_type": "markdown",
   "metadata": {
    "id": "QuQe6mSbFbhm"
   },
   "source": [
    "### Prepare the data\n",
    "\n",
    "Feature values to be written to the Feature Store can take the form of a list of `WriteFeatureValuesPayload` objects, a Python `dict` of the form\n",
    "\n",
    "`{entity_id : {feature_id : feature_value}, ...},`\n",
    "\n",
    "or a pandas `Dataframe`, where the `index` column holds the unique entity ID strings and each remaining column represents a feature.  In this notebook, since you use a pandas `DataFrame` for ingesting features we convert the index column data type to `string` to be used as `Entity ID`."
   ]
  },
  {
   "cell_type": "code",
   "execution_count": 65,
   "metadata": {},
   "outputs": [],
   "source": [
    "census_df.columns = census_df.columns.str.replace('-', '_')"
   ]
  },
  {
   "cell_type": "code",
   "execution_count": 66,
   "metadata": {},
   "outputs": [
    {
     "data": {
      "text/plain": [
       "Index(['age', 'workclass', 'fnlwgt', 'education', 'education_num',\n",
       "       'marital_status', 'occupation', 'relationship', 'race', 'sex',\n",
       "       'capital_gain', 'capital_loss', 'hours_per_week', 'native_country',\n",
       "       'income'],\n",
       "      dtype='object')"
      ]
     },
     "execution_count": 66,
     "metadata": {},
     "output_type": "execute_result"
    }
   ],
   "source": [
    "census_df.columns"
   ]
  },
  {
   "cell_type": "code",
   "execution_count": 67,
   "metadata": {
    "id": "cljxzJ3bqDer"
   },
   "outputs": [],
   "source": [
    "# Prepare the data\n",
    "census_df.index = census_df.index.map(str)"
   ]
  },
  {
   "cell_type": "code",
   "execution_count": 68,
   "metadata": {
    "id": "GSxrSdSY2ovn"
   },
   "outputs": [],
   "source": [
    "# Remove null values\n",
    "NA_VALUES = [\"NA\", \".\"]\n",
    "census_df = census_df.replace(to_replace=NA_VALUES, value=np.NaN).dropna()"
   ]
  },
  {
   "cell_type": "markdown",
   "metadata": {
    "id": "vgn4oQmSqdKI"
   },
   "source": [
    "## Create Feature Store and define schemas\n",
    "\n",
    "Vertex AI Feature Store organizes resources hierarchically in the following order:\n",
    "\n",
    "`Featurestore -> EntityType -> Feature`\n",
    "\n",
    "You must create these resources before you can ingest data into Vertex AI Feature Store.\n",
    "\n",
    "Learn more about [Vertex AI Feature Store](https://cloud.google.com/vertex-ai/docs/featurestore)"
   ]
  },
  {
   "cell_type": "markdown",
   "metadata": {
    "id": "yaHwdbGjZWTq"
   },
   "source": [
    "### Create a Feature Store\n",
    "\n",
    "You create a Feature Store using `aiplatform.Featurestore.create` with the following parameters:\n",
    "\n",
    "* `featurestore_id (str)`: The ID to use for this Featurestore, which will become the final component of the Featurestore's resource name. The value must be unique within the project and location.\n",
    "* `online_store_fixed_node_count`: Configuration for online serving resources.\n",
    "* `project`: Project to create EntityType in. If not set, project set in `aiplatform.init` is used.\n",
    "* `location`: Location to create EntityType in. If not set, location set in `aiplatform.init` is used.\n",
    "* `sync`:  Whether to execute this creation synchronously."
   ]
  },
  {
   "cell_type": "code",
   "execution_count": 78,
   "metadata": {
    "id": "cImsONglqfxO"
   },
   "outputs": [
    {
     "name": "stdout",
     "output_type": "stream",
     "text": [
      "Creating Featurestore\n",
      "Create Featurestore backing LRO: projects/354621994428/locations/us-central1/featurestores/census_income_3/operations/2726159710074961920\n",
      "Featurestore created. Resource name: projects/354621994428/locations/us-central1/featurestores/census_income_3\n",
      "To use this Featurestore in another session:\n",
      "featurestore = aiplatform.Featurestore('projects/354621994428/locations/us-central1/featurestores/census_income_3')\n"
     ]
    }
   ],
   "source": [
    "FEATURESTORE_ID = f\"census_income_3\"\n",
    "\n",
    "census_feature_store = aiplatform.Featurestore.create(\n",
    "    featurestore_id=FEATURESTORE_ID,\n",
    "    online_store_fixed_node_count=1,\n",
    "    project=PROJECT_ID,\n",
    "    location=REGION,\n",
    "    sync=True,\n",
    ")"
   ]
  },
  {
   "cell_type": "markdown",
   "metadata": {
    "id": "UfXgSD1VdzKb"
   },
   "source": [
    "##### Verify that the Feature Store is created\n",
    "Check if the Feature Store was successfully created by running the following code block."
   ]
  },
  {
   "cell_type": "code",
   "execution_count": 79,
   "metadata": {
    "id": "oud1OdfQd52r"
   },
   "outputs": [
    {
     "name": "stdout",
     "output_type": "stream",
     "text": [
      "name: \"projects/354621994428/locations/us-central1/featurestores/census_income_3\"\n",
      "create_time {\n",
      "  seconds: 1680781145\n",
      "  nanos: 691867000\n",
      "}\n",
      "update_time {\n",
      "  seconds: 1680781145\n",
      "  nanos: 833884000\n",
      "}\n",
      "etag: \"AMEw9yMmnVhuWsll6DGDWr51vqDPceon7wC52KV0s6Kmar9JIgh2LBUe9OzgHzCo04LI\"\n",
      "online_serving_config {\n",
      "  fixed_node_count: 1\n",
      "}\n",
      "state: STABLE\n",
      "\n"
     ]
    }
   ],
   "source": [
    "fs = aiplatform.Featurestore(\n",
    "    featurestore_name=FEATURESTORE_ID,\n",
    "    project=PROJECT_ID,\n",
    "    location=REGION,\n",
    ")\n",
    "print(fs.gca_resource)"
   ]
  },
  {
   "cell_type": "markdown",
   "metadata": {
    "id": "ep74rSlJWF3c"
   },
   "source": [
    "### Create an EntityType\n",
    "\n",
    "An entity type is a collection of semantically related features. You define your own entity types, based on the concepts that are relevant to your use case.\n",
    "\n",
    "Here, you create an entity type entity type named `census_entity_type` using `create_entity_type` with the following parameters:\n",
    "* `entity_type_id (str)`: The ID to use for the EntityType, which will become the final component of the EntityType's resource name. The value must be unique within a Feature Store.\n",
    "* `description`: Description of the EntityType."
   ]
  },
  {
   "cell_type": "code",
   "execution_count": 80,
   "metadata": {
    "id": "zNzr-FlEr3tI"
   },
   "outputs": [
    {
     "name": "stdout",
     "output_type": "stream",
     "text": [
      "Creating EntityType\n",
      "Create EntityType backing LRO: projects/354621994428/locations/us-central1/featurestores/census_income_3/entityTypes/census_entity_type_3/operations/634237683161366528\n",
      "EntityType created. Resource name: projects/354621994428/locations/us-central1/featurestores/census_income_3/entityTypes/census_entity_type_3\n",
      "To use this EntityType in another session:\n",
      "entity_type = aiplatform.EntityType('projects/354621994428/locations/us-central1/featurestores/census_income_3/entityTypes/census_entity_type_3')\n"
     ]
    }
   ],
   "source": [
    "ENTITY_TYPE_ID = f\"census_entity_type_3\"\n",
    "\n",
    "# Create penguin entity type\n",
    "census_entity_type = census_feature_store.create_entity_type(\n",
    "    entity_type_id=ENTITY_TYPE_ID,\n",
    "    description=\"Census entity type\",\n",
    ")"
   ]
  },
  {
   "cell_type": "markdown",
   "metadata": {
    "id": "CquSdTp7duVw"
   },
   "source": [
    "##### Verify that the EntityType is created\n",
    "Check if the Entity Type was successfully created by running the following code block."
   ]
  },
  {
   "cell_type": "code",
   "execution_count": 81,
   "metadata": {
    "id": "76ocr_hJsG-t"
   },
   "outputs": [
    {
     "name": "stdout",
     "output_type": "stream",
     "text": [
      "name: \"projects/354621994428/locations/us-central1/featurestores/census_income_3/entityTypes/census_entity_type_3\"\n",
      "description: \"Census entity type\"\n",
      "create_time {\n",
      "  seconds: 1680781231\n",
      "  nanos: 214476000\n",
      "}\n",
      "update_time {\n",
      "  seconds: 1680781231\n",
      "  nanos: 214476000\n",
      "}\n",
      "etag: \"AMEw9yP2cpSW1Wtd-WRikLHK3tzThgB5uG_g8rnBmSRCKnPEmdR69J1BgcN9MFUegJg=\"\n",
      "monitoring_config {\n",
      "}\n",
      "\n"
     ]
    }
   ],
   "source": [
    "entity_type = census_feature_store.get_entity_type(entity_type_id=ENTITY_TYPE_ID)\n",
    "\n",
    "print(entity_type.gca_resource)"
   ]
  },
  {
   "cell_type": "code",
   "execution_count": 82,
   "metadata": {},
   "outputs": [],
   "source": [
    "column_json = {}\n",
    "for col in census_df.columns:\n",
    "    type_dict = {}\n",
    "    if census_df[col].dtype == \"O\":\n",
    "        type_dict['value_type'] = \"STRING\"\n",
    "        column_json[col] = type_dict\n",
    "    elif census_df[col].dtype == \"float64\":\n",
    "        type_dict['value_type'] = \"DOUBLE\"\n",
    "        column_json[col] = type_dict\n",
    "    elif census_df[col].dtype == \"int64\":\n",
    "        type_dict['value_type'] = \"INT64\"\n",
    "        column_json[col] = type_dict\n",
    "    elif census_df[col].dtype == \"bool\":\n",
    "        type_dict['value_type'] = \"BOOL\"\n",
    "        column_json[col] = type_dict"
   ]
  },
  {
   "cell_type": "code",
   "execution_count": 83,
   "metadata": {},
   "outputs": [
    {
     "data": {
      "text/plain": [
       "{'age': {'value_type': 'STRING'},\n",
       " 'workclass': {'value_type': 'STRING'},\n",
       " 'fnlwgt': {'value_type': 'DOUBLE'},\n",
       " 'education': {'value_type': 'STRING'},\n",
       " 'education_num': {'value_type': 'DOUBLE'},\n",
       " 'marital_status': {'value_type': 'STRING'},\n",
       " 'occupation': {'value_type': 'STRING'},\n",
       " 'relationship': {'value_type': 'STRING'},\n",
       " 'race': {'value_type': 'STRING'},\n",
       " 'sex': {'value_type': 'STRING'},\n",
       " 'capital_gain': {'value_type': 'DOUBLE'},\n",
       " 'capital_loss': {'value_type': 'DOUBLE'},\n",
       " 'hours_per_week': {'value_type': 'DOUBLE'},\n",
       " 'native_country': {'value_type': 'STRING'},\n",
       " 'income': {'value_type': 'STRING'}}"
      ]
     },
     "execution_count": 83,
     "metadata": {},
     "output_type": "execute_result"
    }
   ],
   "source": [
    "column_json"
   ]
  },
  {
   "cell_type": "code",
   "execution_count": 84,
   "metadata": {},
   "outputs": [],
   "source": [
    "census_feature_configs = column_json"
   ]
  },
  {
   "cell_type": "markdown",
   "metadata": {
    "id": "2vYV2UUFehwZ"
   },
   "source": [
    "### Create Features\n",
    "A feature is a measurable property or attribute of an entity type. . Features can be created within each entity type.\n",
    "\n",
    "When you create a feature, you specify its value type such as `DOUBLE`, and `STRING`. This value determines what value types you can ingest for a particular feature.\n",
    "\n",
    "Learn more about [Feature Value Types](https://cloud.google.com/vertex-ai/docs/reference/rest/v1/projects.locations.featurestores.entityTypes.features)"
   ]
  },
  {
   "cell_type": "markdown",
   "metadata": {
    "id": "AKRXJCPijM8w"
   },
   "source": [
    "You can create features either using `create_feature` or `batch_create_features`. Here, for convinience, you have added all feature configs in one variabel, so we use `batch_create_features`."
   ]
  },
  {
   "cell_type": "code",
   "execution_count": 85,
   "metadata": {
    "id": "tXOI1Onhs46x"
   },
   "outputs": [
    {
     "name": "stdout",
     "output_type": "stream",
     "text": [
      "Batch creating features EntityType entityType: projects/354621994428/locations/us-central1/featurestores/census_income_3/entityTypes/census_entity_type_3\n",
      "Batch create Features EntityType entityType backing LRO: projects/354621994428/locations/us-central1/featurestores/census_income_3/entityTypes/census_entity_type_3/operations/8629815871604260864\n",
      "EntityType entityType Batch created features. Resource name: projects/354621994428/locations/us-central1/featurestores/census_income_3/entityTypes/census_entity_type_3\n"
     ]
    }
   ],
   "source": [
    "census_features = census_entity_type.batch_create_features(\n",
    "    feature_configs=census_feature_configs,\n",
    ")"
   ]
  },
  {
   "cell_type": "code",
   "execution_count": 86,
   "metadata": {},
   "outputs": [
    {
     "data": {
      "text/plain": [
       "[<google.cloud.aiplatform.featurestore.feature.Feature object at 0x7f97fd124050> \n",
       " resource name: projects/354621994428/locations/us-central1/featurestores/census_income_3/entityTypes/census_entity_type_3/features/age,\n",
       " <google.cloud.aiplatform.featurestore.feature.Feature object at 0x7f97fd124610> \n",
       " resource name: projects/354621994428/locations/us-central1/featurestores/census_income_3/entityTypes/census_entity_type_3/features/race,\n",
       " <google.cloud.aiplatform.featurestore.feature.Feature object at 0x7f97fd1241d0> \n",
       " resource name: projects/354621994428/locations/us-central1/featurestores/census_income_3/entityTypes/census_entity_type_3/features/education_num,\n",
       " <google.cloud.aiplatform.featurestore.feature.Feature object at 0x7f97fd124190> \n",
       " resource name: projects/354621994428/locations/us-central1/featurestores/census_income_3/entityTypes/census_entity_type_3/features/hours_per_week,\n",
       " <google.cloud.aiplatform.featurestore.feature.Feature object at 0x7f97fd135290> \n",
       " resource name: projects/354621994428/locations/us-central1/featurestores/census_income_3/entityTypes/census_entity_type_3/features/fnlwgt,\n",
       " <google.cloud.aiplatform.featurestore.feature.Feature object at 0x7f97fd135f10> \n",
       " resource name: projects/354621994428/locations/us-central1/featurestores/census_income_3/entityTypes/census_entity_type_3/features/capital_gain,\n",
       " <google.cloud.aiplatform.featurestore.feature.Feature object at 0x7f97fd135c10> \n",
       " resource name: projects/354621994428/locations/us-central1/featurestores/census_income_3/entityTypes/census_entity_type_3/features/occupation,\n",
       " <google.cloud.aiplatform.featurestore.feature.Feature object at 0x7f97fd135fd0> \n",
       " resource name: projects/354621994428/locations/us-central1/featurestores/census_income_3/entityTypes/census_entity_type_3/features/income,\n",
       " <google.cloud.aiplatform.featurestore.feature.Feature object at 0x7f98144f5210> \n",
       " resource name: projects/354621994428/locations/us-central1/featurestores/census_income_3/entityTypes/census_entity_type_3/features/workclass,\n",
       " <google.cloud.aiplatform.featurestore.feature.Feature object at 0x7f97ff0c81d0> \n",
       " resource name: projects/354621994428/locations/us-central1/featurestores/census_income_3/entityTypes/census_entity_type_3/features/sex,\n",
       " <google.cloud.aiplatform.featurestore.feature.Feature object at 0x7f97ff0c8850> \n",
       " resource name: projects/354621994428/locations/us-central1/featurestores/census_income_3/entityTypes/census_entity_type_3/features/marital_status,\n",
       " <google.cloud.aiplatform.featurestore.feature.Feature object at 0x7f97ff0c8810> \n",
       " resource name: projects/354621994428/locations/us-central1/featurestores/census_income_3/entityTypes/census_entity_type_3/features/native_country,\n",
       " <google.cloud.aiplatform.featurestore.feature.Feature object at 0x7f97ff0c84d0> \n",
       " resource name: projects/354621994428/locations/us-central1/featurestores/census_income_3/entityTypes/census_entity_type_3/features/education,\n",
       " <google.cloud.aiplatform.featurestore.feature.Feature object at 0x7f97ff0c8510> \n",
       " resource name: projects/354621994428/locations/us-central1/featurestores/census_income_3/entityTypes/census_entity_type_3/features/capital_loss,\n",
       " <google.cloud.aiplatform.featurestore.feature.Feature object at 0x7f97ff0c8ad0> \n",
       " resource name: projects/354621994428/locations/us-central1/featurestores/census_income_3/entityTypes/census_entity_type_3/features/relationship]"
      ]
     },
     "execution_count": 86,
     "metadata": {},
     "output_type": "execute_result"
    }
   ],
   "source": [
    "census_entity_type.list_features()"
   ]
  },
  {
   "cell_type": "markdown",
   "metadata": {
    "id": "WBx26pZItUN4"
   },
   "source": [
    "### Write features to the Feature Store\n",
    "Use the `write_feature_values` API to write a feature to the Feature Store with the following parameter:\n",
    "\n",
    "* `instances`: Feature values to be written to the Feature Store that can take the form of a list of WriteFeatureValuesPayload objects, a Python dict, or a pandas Dataframe.\n",
    "\n",
    "This streaming ingestion feature has been introduced to the Vertex AI SDK under the **preview** namespace. Here, you pass the pandas `Dataframe` you created from penguins dataset as `instances` parameter.\n",
    "\n",
    "Learn more about [Streaming ingestion API](https://github.com/googleapis/python-aiplatform/blob/e6933503d2d3a0f8a8f7ef8c178ed50a69ac2268/google/cloud/aiplatform/preview/featurestore/entity_type.py#L36)"
   ]
  },
  {
   "cell_type": "code",
   "execution_count": 87,
   "metadata": {},
   "outputs": [
    {
     "name": "stdout",
     "output_type": "stream",
     "text": [
      "Writing EntityType feature values: projects/354621994428/locations/us-central1/featurestores/census_income_3/entityTypes/census_entity_type_3\n",
      "EntityType feature values written. Resource name: projects/354621994428/locations/us-central1/featurestores/census_income_3/entityTypes/census_entity_type_3\n",
      "Writing EntityType feature values: projects/354621994428/locations/us-central1/featurestores/census_income_3/entityTypes/census_entity_type_3\n",
      "EntityType feature values written. Resource name: projects/354621994428/locations/us-central1/featurestores/census_income_3/entityTypes/census_entity_type_3\n",
      "Writing EntityType feature values: projects/354621994428/locations/us-central1/featurestores/census_income_3/entityTypes/census_entity_type_3\n",
      "EntityType feature values written. Resource name: projects/354621994428/locations/us-central1/featurestores/census_income_3/entityTypes/census_entity_type_3\n",
      "Writing EntityType feature values: projects/354621994428/locations/us-central1/featurestores/census_income_3/entityTypes/census_entity_type_3\n",
      "EntityType feature values written. Resource name: projects/354621994428/locations/us-central1/featurestores/census_income_3/entityTypes/census_entity_type_3\n",
      "Writing EntityType feature values: projects/354621994428/locations/us-central1/featurestores/census_income_3/entityTypes/census_entity_type_3\n",
      "EntityType feature values written. Resource name: projects/354621994428/locations/us-central1/featurestores/census_income_3/entityTypes/census_entity_type_3\n",
      "Writing EntityType feature values: projects/354621994428/locations/us-central1/featurestores/census_income_3/entityTypes/census_entity_type_3\n",
      "EntityType feature values written. Resource name: projects/354621994428/locations/us-central1/featurestores/census_income_3/entityTypes/census_entity_type_3\n",
      "Writing EntityType feature values: projects/354621994428/locations/us-central1/featurestores/census_income_3/entityTypes/census_entity_type_3\n",
      "EntityType feature values written. Resource name: projects/354621994428/locations/us-central1/featurestores/census_income_3/entityTypes/census_entity_type_3\n",
      "Writing EntityType feature values: projects/354621994428/locations/us-central1/featurestores/census_income_3/entityTypes/census_entity_type_3\n",
      "EntityType feature values written. Resource name: projects/354621994428/locations/us-central1/featurestores/census_income_3/entityTypes/census_entity_type_3\n",
      "Writing EntityType feature values: projects/354621994428/locations/us-central1/featurestores/census_income_3/entityTypes/census_entity_type_3\n",
      "EntityType feature values written. Resource name: projects/354621994428/locations/us-central1/featurestores/census_income_3/entityTypes/census_entity_type_3\n",
      "Writing EntityType feature values: projects/354621994428/locations/us-central1/featurestores/census_income_3/entityTypes/census_entity_type_3\n",
      "EntityType feature values written. Resource name: projects/354621994428/locations/us-central1/featurestores/census_income_3/entityTypes/census_entity_type_3\n",
      "Writing EntityType feature values: projects/354621994428/locations/us-central1/featurestores/census_income_3/entityTypes/census_entity_type_3\n",
      "EntityType feature values written. Resource name: projects/354621994428/locations/us-central1/featurestores/census_income_3/entityTypes/census_entity_type_3\n",
      "Writing EntityType feature values: projects/354621994428/locations/us-central1/featurestores/census_income_3/entityTypes/census_entity_type_3\n",
      "EntityType feature values written. Resource name: projects/354621994428/locations/us-central1/featurestores/census_income_3/entityTypes/census_entity_type_3\n",
      "Writing EntityType feature values: projects/354621994428/locations/us-central1/featurestores/census_income_3/entityTypes/census_entity_type_3\n",
      "EntityType feature values written. Resource name: projects/354621994428/locations/us-central1/featurestores/census_income_3/entityTypes/census_entity_type_3\n",
      "Writing EntityType feature values: projects/354621994428/locations/us-central1/featurestores/census_income_3/entityTypes/census_entity_type_3\n",
      "EntityType feature values written. Resource name: projects/354621994428/locations/us-central1/featurestores/census_income_3/entityTypes/census_entity_type_3\n",
      "Writing EntityType feature values: projects/354621994428/locations/us-central1/featurestores/census_income_3/entityTypes/census_entity_type_3\n",
      "EntityType feature values written. Resource name: projects/354621994428/locations/us-central1/featurestores/census_income_3/entityTypes/census_entity_type_3\n",
      "Writing EntityType feature values: projects/354621994428/locations/us-central1/featurestores/census_income_3/entityTypes/census_entity_type_3\n",
      "EntityType feature values written. Resource name: projects/354621994428/locations/us-central1/featurestores/census_income_3/entityTypes/census_entity_type_3\n",
      "Writing EntityType feature values: projects/354621994428/locations/us-central1/featurestores/census_income_3/entityTypes/census_entity_type_3\n",
      "EntityType feature values written. Resource name: projects/354621994428/locations/us-central1/featurestores/census_income_3/entityTypes/census_entity_type_3\n",
      "Writing EntityType feature values: projects/354621994428/locations/us-central1/featurestores/census_income_3/entityTypes/census_entity_type_3\n",
      "EntityType feature values written. Resource name: projects/354621994428/locations/us-central1/featurestores/census_income_3/entityTypes/census_entity_type_3\n",
      "Writing EntityType feature values: projects/354621994428/locations/us-central1/featurestores/census_income_3/entityTypes/census_entity_type_3\n",
      "EntityType feature values written. Resource name: projects/354621994428/locations/us-central1/featurestores/census_income_3/entityTypes/census_entity_type_3\n",
      "Writing EntityType feature values: projects/354621994428/locations/us-central1/featurestores/census_income_3/entityTypes/census_entity_type_3\n",
      "EntityType feature values written. Resource name: projects/354621994428/locations/us-central1/featurestores/census_income_3/entityTypes/census_entity_type_3\n",
      "Writing EntityType feature values: projects/354621994428/locations/us-central1/featurestores/census_income_3/entityTypes/census_entity_type_3\n",
      "EntityType feature values written. Resource name: projects/354621994428/locations/us-central1/featurestores/census_income_3/entityTypes/census_entity_type_3\n",
      "Writing EntityType feature values: projects/354621994428/locations/us-central1/featurestores/census_income_3/entityTypes/census_entity_type_3\n",
      "EntityType feature values written. Resource name: projects/354621994428/locations/us-central1/featurestores/census_income_3/entityTypes/census_entity_type_3\n",
      "Writing EntityType feature values: projects/354621994428/locations/us-central1/featurestores/census_income_3/entityTypes/census_entity_type_3\n",
      "EntityType feature values written. Resource name: projects/354621994428/locations/us-central1/featurestores/census_income_3/entityTypes/census_entity_type_3\n",
      "Writing EntityType feature values: projects/354621994428/locations/us-central1/featurestores/census_income_3/entityTypes/census_entity_type_3\n",
      "EntityType feature values written. Resource name: projects/354621994428/locations/us-central1/featurestores/census_income_3/entityTypes/census_entity_type_3\n",
      "Writing EntityType feature values: projects/354621994428/locations/us-central1/featurestores/census_income_3/entityTypes/census_entity_type_3\n",
      "EntityType feature values written. Resource name: projects/354621994428/locations/us-central1/featurestores/census_income_3/entityTypes/census_entity_type_3\n",
      "Writing EntityType feature values: projects/354621994428/locations/us-central1/featurestores/census_income_3/entityTypes/census_entity_type_3\n",
      "EntityType feature values written. Resource name: projects/354621994428/locations/us-central1/featurestores/census_income_3/entityTypes/census_entity_type_3\n",
      "Writing EntityType feature values: projects/354621994428/locations/us-central1/featurestores/census_income_3/entityTypes/census_entity_type_3\n",
      "EntityType feature values written. Resource name: projects/354621994428/locations/us-central1/featurestores/census_income_3/entityTypes/census_entity_type_3\n",
      "Writing EntityType feature values: projects/354621994428/locations/us-central1/featurestores/census_income_3/entityTypes/census_entity_type_3\n",
      "EntityType feature values written. Resource name: projects/354621994428/locations/us-central1/featurestores/census_income_3/entityTypes/census_entity_type_3\n",
      "Writing EntityType feature values: projects/354621994428/locations/us-central1/featurestores/census_income_3/entityTypes/census_entity_type_3\n",
      "EntityType feature values written. Resource name: projects/354621994428/locations/us-central1/featurestores/census_income_3/entityTypes/census_entity_type_3\n",
      "Writing EntityType feature values: projects/354621994428/locations/us-central1/featurestores/census_income_3/entityTypes/census_entity_type_3\n",
      "EntityType feature values written. Resource name: projects/354621994428/locations/us-central1/featurestores/census_income_3/entityTypes/census_entity_type_3\n",
      "Writing EntityType feature values: projects/354621994428/locations/us-central1/featurestores/census_income_3/entityTypes/census_entity_type_3\n",
      "EntityType feature values written. Resource name: projects/354621994428/locations/us-central1/featurestores/census_income_3/entityTypes/census_entity_type_3\n",
      "Writing EntityType feature values: projects/354621994428/locations/us-central1/featurestores/census_income_3/entityTypes/census_entity_type_3\n",
      "EntityType feature values written. Resource name: projects/354621994428/locations/us-central1/featurestores/census_income_3/entityTypes/census_entity_type_3\n",
      "Writing EntityType feature values: projects/354621994428/locations/us-central1/featurestores/census_income_3/entityTypes/census_entity_type_3\n",
      "EntityType feature values written. Resource name: projects/354621994428/locations/us-central1/featurestores/census_income_3/entityTypes/census_entity_type_3\n",
      "Writing EntityType feature values: projects/354621994428/locations/us-central1/featurestores/census_income_3/entityTypes/census_entity_type_3\n",
      "EntityType feature values written. Resource name: projects/354621994428/locations/us-central1/featurestores/census_income_3/entityTypes/census_entity_type_3\n",
      "Writing EntityType feature values: projects/354621994428/locations/us-central1/featurestores/census_income_3/entityTypes/census_entity_type_3\n",
      "EntityType feature values written. Resource name: projects/354621994428/locations/us-central1/featurestores/census_income_3/entityTypes/census_entity_type_3\n",
      "Writing EntityType feature values: projects/354621994428/locations/us-central1/featurestores/census_income_3/entityTypes/census_entity_type_3\n",
      "EntityType feature values written. Resource name: projects/354621994428/locations/us-central1/featurestores/census_income_3/entityTypes/census_entity_type_3\n",
      "Writing EntityType feature values: projects/354621994428/locations/us-central1/featurestores/census_income_3/entityTypes/census_entity_type_3\n",
      "EntityType feature values written. Resource name: projects/354621994428/locations/us-central1/featurestores/census_income_3/entityTypes/census_entity_type_3\n",
      "Writing EntityType feature values: projects/354621994428/locations/us-central1/featurestores/census_income_3/entityTypes/census_entity_type_3\n",
      "EntityType feature values written. Resource name: projects/354621994428/locations/us-central1/featurestores/census_income_3/entityTypes/census_entity_type_3\n",
      "Writing EntityType feature values: projects/354621994428/locations/us-central1/featurestores/census_income_3/entityTypes/census_entity_type_3\n",
      "EntityType feature values written. Resource name: projects/354621994428/locations/us-central1/featurestores/census_income_3/entityTypes/census_entity_type_3\n",
      "Writing EntityType feature values: projects/354621994428/locations/us-central1/featurestores/census_income_3/entityTypes/census_entity_type_3\n",
      "EntityType feature values written. Resource name: projects/354621994428/locations/us-central1/featurestores/census_income_3/entityTypes/census_entity_type_3\n",
      "Writing EntityType feature values: projects/354621994428/locations/us-central1/featurestores/census_income_3/entityTypes/census_entity_type_3\n",
      "EntityType feature values written. Resource name: projects/354621994428/locations/us-central1/featurestores/census_income_3/entityTypes/census_entity_type_3\n",
      "Writing EntityType feature values: projects/354621994428/locations/us-central1/featurestores/census_income_3/entityTypes/census_entity_type_3\n",
      "EntityType feature values written. Resource name: projects/354621994428/locations/us-central1/featurestores/census_income_3/entityTypes/census_entity_type_3\n",
      "Writing EntityType feature values: projects/354621994428/locations/us-central1/featurestores/census_income_3/entityTypes/census_entity_type_3\n",
      "EntityType feature values written. Resource name: projects/354621994428/locations/us-central1/featurestores/census_income_3/entityTypes/census_entity_type_3\n",
      "Writing EntityType feature values: projects/354621994428/locations/us-central1/featurestores/census_income_3/entityTypes/census_entity_type_3\n",
      "EntityType feature values written. Resource name: projects/354621994428/locations/us-central1/featurestores/census_income_3/entityTypes/census_entity_type_3\n",
      "Writing EntityType feature values: projects/354621994428/locations/us-central1/featurestores/census_income_3/entityTypes/census_entity_type_3\n",
      "EntityType feature values written. Resource name: projects/354621994428/locations/us-central1/featurestores/census_income_3/entityTypes/census_entity_type_3\n",
      "Writing EntityType feature values: projects/354621994428/locations/us-central1/featurestores/census_income_3/entityTypes/census_entity_type_3\n",
      "EntityType feature values written. Resource name: projects/354621994428/locations/us-central1/featurestores/census_income_3/entityTypes/census_entity_type_3\n",
      "Writing EntityType feature values: projects/354621994428/locations/us-central1/featurestores/census_income_3/entityTypes/census_entity_type_3\n",
      "EntityType feature values written. Resource name: projects/354621994428/locations/us-central1/featurestores/census_income_3/entityTypes/census_entity_type_3\n",
      "Writing EntityType feature values: projects/354621994428/locations/us-central1/featurestores/census_income_3/entityTypes/census_entity_type_3\n",
      "EntityType feature values written. Resource name: projects/354621994428/locations/us-central1/featurestores/census_income_3/entityTypes/census_entity_type_3\n",
      "Writing EntityType feature values: projects/354621994428/locations/us-central1/featurestores/census_income_3/entityTypes/census_entity_type_3\n",
      "EntityType feature values written. Resource name: projects/354621994428/locations/us-central1/featurestores/census_income_3/entityTypes/census_entity_type_3\n",
      "Writing EntityType feature values: projects/354621994428/locations/us-central1/featurestores/census_income_3/entityTypes/census_entity_type_3\n",
      "EntityType feature values written. Resource name: projects/354621994428/locations/us-central1/featurestores/census_income_3/entityTypes/census_entity_type_3\n",
      "Writing EntityType feature values: projects/354621994428/locations/us-central1/featurestores/census_income_3/entityTypes/census_entity_type_3\n",
      "EntityType feature values written. Resource name: projects/354621994428/locations/us-central1/featurestores/census_income_3/entityTypes/census_entity_type_3\n",
      "Writing EntityType feature values: projects/354621994428/locations/us-central1/featurestores/census_income_3/entityTypes/census_entity_type_3\n",
      "EntityType feature values written. Resource name: projects/354621994428/locations/us-central1/featurestores/census_income_3/entityTypes/census_entity_type_3\n",
      "Writing EntityType feature values: projects/354621994428/locations/us-central1/featurestores/census_income_3/entityTypes/census_entity_type_3\n",
      "EntityType feature values written. Resource name: projects/354621994428/locations/us-central1/featurestores/census_income_3/entityTypes/census_entity_type_3\n",
      "Writing EntityType feature values: projects/354621994428/locations/us-central1/featurestores/census_income_3/entityTypes/census_entity_type_3\n",
      "EntityType feature values written. Resource name: projects/354621994428/locations/us-central1/featurestores/census_income_3/entityTypes/census_entity_type_3\n",
      "Writing EntityType feature values: projects/354621994428/locations/us-central1/featurestores/census_income_3/entityTypes/census_entity_type_3\n",
      "EntityType feature values written. Resource name: projects/354621994428/locations/us-central1/featurestores/census_income_3/entityTypes/census_entity_type_3\n",
      "Writing EntityType feature values: projects/354621994428/locations/us-central1/featurestores/census_income_3/entityTypes/census_entity_type_3\n",
      "EntityType feature values written. Resource name: projects/354621994428/locations/us-central1/featurestores/census_income_3/entityTypes/census_entity_type_3\n",
      "Writing EntityType feature values: projects/354621994428/locations/us-central1/featurestores/census_income_3/entityTypes/census_entity_type_3\n",
      "EntityType feature values written. Resource name: projects/354621994428/locations/us-central1/featurestores/census_income_3/entityTypes/census_entity_type_3\n",
      "Writing EntityType feature values: projects/354621994428/locations/us-central1/featurestores/census_income_3/entityTypes/census_entity_type_3\n",
      "EntityType feature values written. Resource name: projects/354621994428/locations/us-central1/featurestores/census_income_3/entityTypes/census_entity_type_3\n",
      "Writing EntityType feature values: projects/354621994428/locations/us-central1/featurestores/census_income_3/entityTypes/census_entity_type_3\n",
      "EntityType feature values written. Resource name: projects/354621994428/locations/us-central1/featurestores/census_income_3/entityTypes/census_entity_type_3\n",
      "Writing EntityType feature values: projects/354621994428/locations/us-central1/featurestores/census_income_3/entityTypes/census_entity_type_3\n",
      "EntityType feature values written. Resource name: projects/354621994428/locations/us-central1/featurestores/census_income_3/entityTypes/census_entity_type_3\n",
      "Writing EntityType feature values: projects/354621994428/locations/us-central1/featurestores/census_income_3/entityTypes/census_entity_type_3\n",
      "EntityType feature values written. Resource name: projects/354621994428/locations/us-central1/featurestores/census_income_3/entityTypes/census_entity_type_3\n",
      "Writing EntityType feature values: projects/354621994428/locations/us-central1/featurestores/census_income_3/entityTypes/census_entity_type_3\n",
      "EntityType feature values written. Resource name: projects/354621994428/locations/us-central1/featurestores/census_income_3/entityTypes/census_entity_type_3\n",
      "Writing EntityType feature values: projects/354621994428/locations/us-central1/featurestores/census_income_3/entityTypes/census_entity_type_3\n",
      "EntityType feature values written. Resource name: projects/354621994428/locations/us-central1/featurestores/census_income_3/entityTypes/census_entity_type_3\n",
      "Writing EntityType feature values: projects/354621994428/locations/us-central1/featurestores/census_income_3/entityTypes/census_entity_type_3\n",
      "EntityType feature values written. Resource name: projects/354621994428/locations/us-central1/featurestores/census_income_3/entityTypes/census_entity_type_3\n",
      "Writing EntityType feature values: projects/354621994428/locations/us-central1/featurestores/census_income_3/entityTypes/census_entity_type_3\n",
      "EntityType feature values written. Resource name: projects/354621994428/locations/us-central1/featurestores/census_income_3/entityTypes/census_entity_type_3\n",
      "Writing EntityType feature values: projects/354621994428/locations/us-central1/featurestores/census_income_3/entityTypes/census_entity_type_3\n",
      "EntityType feature values written. Resource name: projects/354621994428/locations/us-central1/featurestores/census_income_3/entityTypes/census_entity_type_3\n",
      "Writing EntityType feature values: projects/354621994428/locations/us-central1/featurestores/census_income_3/entityTypes/census_entity_type_3\n",
      "EntityType feature values written. Resource name: projects/354621994428/locations/us-central1/featurestores/census_income_3/entityTypes/census_entity_type_3\n",
      "Writing EntityType feature values: projects/354621994428/locations/us-central1/featurestores/census_income_3/entityTypes/census_entity_type_3\n",
      "EntityType feature values written. Resource name: projects/354621994428/locations/us-central1/featurestores/census_income_3/entityTypes/census_entity_type_3\n",
      "Writing EntityType feature values: projects/354621994428/locations/us-central1/featurestores/census_income_3/entityTypes/census_entity_type_3\n",
      "EntityType feature values written. Resource name: projects/354621994428/locations/us-central1/featurestores/census_income_3/entityTypes/census_entity_type_3\n",
      "Writing EntityType feature values: projects/354621994428/locations/us-central1/featurestores/census_income_3/entityTypes/census_entity_type_3\n",
      "EntityType feature values written. Resource name: projects/354621994428/locations/us-central1/featurestores/census_income_3/entityTypes/census_entity_type_3\n",
      "Writing EntityType feature values: projects/354621994428/locations/us-central1/featurestores/census_income_3/entityTypes/census_entity_type_3\n",
      "EntityType feature values written. Resource name: projects/354621994428/locations/us-central1/featurestores/census_income_3/entityTypes/census_entity_type_3\n",
      "Writing EntityType feature values: projects/354621994428/locations/us-central1/featurestores/census_income_3/entityTypes/census_entity_type_3\n",
      "EntityType feature values written. Resource name: projects/354621994428/locations/us-central1/featurestores/census_income_3/entityTypes/census_entity_type_3\n",
      "Writing EntityType feature values: projects/354621994428/locations/us-central1/featurestores/census_income_3/entityTypes/census_entity_type_3\n",
      "EntityType feature values written. Resource name: projects/354621994428/locations/us-central1/featurestores/census_income_3/entityTypes/census_entity_type_3\n",
      "Writing EntityType feature values: projects/354621994428/locations/us-central1/featurestores/census_income_3/entityTypes/census_entity_type_3\n",
      "EntityType feature values written. Resource name: projects/354621994428/locations/us-central1/featurestores/census_income_3/entityTypes/census_entity_type_3\n",
      "Writing EntityType feature values: projects/354621994428/locations/us-central1/featurestores/census_income_3/entityTypes/census_entity_type_3\n",
      "EntityType feature values written. Resource name: projects/354621994428/locations/us-central1/featurestores/census_income_3/entityTypes/census_entity_type_3\n",
      "Writing EntityType feature values: projects/354621994428/locations/us-central1/featurestores/census_income_3/entityTypes/census_entity_type_3\n",
      "EntityType feature values written. Resource name: projects/354621994428/locations/us-central1/featurestores/census_income_3/entityTypes/census_entity_type_3\n",
      "Writing EntityType feature values: projects/354621994428/locations/us-central1/featurestores/census_income_3/entityTypes/census_entity_type_3\n",
      "EntityType feature values written. Resource name: projects/354621994428/locations/us-central1/featurestores/census_income_3/entityTypes/census_entity_type_3\n",
      "Writing EntityType feature values: projects/354621994428/locations/us-central1/featurestores/census_income_3/entityTypes/census_entity_type_3\n",
      "EntityType feature values written. Resource name: projects/354621994428/locations/us-central1/featurestores/census_income_3/entityTypes/census_entity_type_3\n",
      "Writing EntityType feature values: projects/354621994428/locations/us-central1/featurestores/census_income_3/entityTypes/census_entity_type_3\n",
      "EntityType feature values written. Resource name: projects/354621994428/locations/us-central1/featurestores/census_income_3/entityTypes/census_entity_type_3\n",
      "Writing EntityType feature values: projects/354621994428/locations/us-central1/featurestores/census_income_3/entityTypes/census_entity_type_3\n",
      "EntityType feature values written. Resource name: projects/354621994428/locations/us-central1/featurestores/census_income_3/entityTypes/census_entity_type_3\n",
      "Writing EntityType feature values: projects/354621994428/locations/us-central1/featurestores/census_income_3/entityTypes/census_entity_type_3\n",
      "EntityType feature values written. Resource name: projects/354621994428/locations/us-central1/featurestores/census_income_3/entityTypes/census_entity_type_3\n",
      "Writing EntityType feature values: projects/354621994428/locations/us-central1/featurestores/census_income_3/entityTypes/census_entity_type_3\n",
      "EntityType feature values written. Resource name: projects/354621994428/locations/us-central1/featurestores/census_income_3/entityTypes/census_entity_type_3\n",
      "Writing EntityType feature values: projects/354621994428/locations/us-central1/featurestores/census_income_3/entityTypes/census_entity_type_3\n",
      "EntityType feature values written. Resource name: projects/354621994428/locations/us-central1/featurestores/census_income_3/entityTypes/census_entity_type_3\n",
      "Writing EntityType feature values: projects/354621994428/locations/us-central1/featurestores/census_income_3/entityTypes/census_entity_type_3\n",
      "EntityType feature values written. Resource name: projects/354621994428/locations/us-central1/featurestores/census_income_3/entityTypes/census_entity_type_3\n",
      "Writing EntityType feature values: projects/354621994428/locations/us-central1/featurestores/census_income_3/entityTypes/census_entity_type_3\n",
      "EntityType feature values written. Resource name: projects/354621994428/locations/us-central1/featurestores/census_income_3/entityTypes/census_entity_type_3\n",
      "Writing EntityType feature values: projects/354621994428/locations/us-central1/featurestores/census_income_3/entityTypes/census_entity_type_3\n",
      "EntityType feature values written. Resource name: projects/354621994428/locations/us-central1/featurestores/census_income_3/entityTypes/census_entity_type_3\n",
      "Writing EntityType feature values: projects/354621994428/locations/us-central1/featurestores/census_income_3/entityTypes/census_entity_type_3\n",
      "EntityType feature values written. Resource name: projects/354621994428/locations/us-central1/featurestores/census_income_3/entityTypes/census_entity_type_3\n",
      "Writing EntityType feature values: projects/354621994428/locations/us-central1/featurestores/census_income_3/entityTypes/census_entity_type_3\n",
      "EntityType feature values written. Resource name: projects/354621994428/locations/us-central1/featurestores/census_income_3/entityTypes/census_entity_type_3\n",
      "Writing EntityType feature values: projects/354621994428/locations/us-central1/featurestores/census_income_3/entityTypes/census_entity_type_3\n",
      "EntityType feature values written. Resource name: projects/354621994428/locations/us-central1/featurestores/census_income_3/entityTypes/census_entity_type_3\n",
      "Writing EntityType feature values: projects/354621994428/locations/us-central1/featurestores/census_income_3/entityTypes/census_entity_type_3\n",
      "EntityType feature values written. Resource name: projects/354621994428/locations/us-central1/featurestores/census_income_3/entityTypes/census_entity_type_3\n",
      "Writing EntityType feature values: projects/354621994428/locations/us-central1/featurestores/census_income_3/entityTypes/census_entity_type_3\n",
      "EntityType feature values written. Resource name: projects/354621994428/locations/us-central1/featurestores/census_income_3/entityTypes/census_entity_type_3\n",
      "Writing EntityType feature values: projects/354621994428/locations/us-central1/featurestores/census_income_3/entityTypes/census_entity_type_3\n",
      "EntityType feature values written. Resource name: projects/354621994428/locations/us-central1/featurestores/census_income_3/entityTypes/census_entity_type_3\n",
      "Writing EntityType feature values: projects/354621994428/locations/us-central1/featurestores/census_income_3/entityTypes/census_entity_type_3\n",
      "EntityType feature values written. Resource name: projects/354621994428/locations/us-central1/featurestores/census_income_3/entityTypes/census_entity_type_3\n",
      "Writing EntityType feature values: projects/354621994428/locations/us-central1/featurestores/census_income_3/entityTypes/census_entity_type_3\n",
      "EntityType feature values written. Resource name: projects/354621994428/locations/us-central1/featurestores/census_income_3/entityTypes/census_entity_type_3\n",
      "Writing EntityType feature values: projects/354621994428/locations/us-central1/featurestores/census_income_3/entityTypes/census_entity_type_3\n",
      "EntityType feature values written. Resource name: projects/354621994428/locations/us-central1/featurestores/census_income_3/entityTypes/census_entity_type_3\n",
      "Writing EntityType feature values: projects/354621994428/locations/us-central1/featurestores/census_income_3/entityTypes/census_entity_type_3\n",
      "EntityType feature values written. Resource name: projects/354621994428/locations/us-central1/featurestores/census_income_3/entityTypes/census_entity_type_3\n",
      "Writing EntityType feature values: projects/354621994428/locations/us-central1/featurestores/census_income_3/entityTypes/census_entity_type_3\n",
      "EntityType feature values written. Resource name: projects/354621994428/locations/us-central1/featurestores/census_income_3/entityTypes/census_entity_type_3\n",
      "Writing EntityType feature values: projects/354621994428/locations/us-central1/featurestores/census_income_3/entityTypes/census_entity_type_3\n",
      "EntityType feature values written. Resource name: projects/354621994428/locations/us-central1/featurestores/census_income_3/entityTypes/census_entity_type_3\n",
      "Writing EntityType feature values: projects/354621994428/locations/us-central1/featurestores/census_income_3/entityTypes/census_entity_type_3\n",
      "EntityType feature values written. Resource name: projects/354621994428/locations/us-central1/featurestores/census_income_3/entityTypes/census_entity_type_3\n",
      "Writing EntityType feature values: projects/354621994428/locations/us-central1/featurestores/census_income_3/entityTypes/census_entity_type_3\n",
      "EntityType feature values written. Resource name: projects/354621994428/locations/us-central1/featurestores/census_income_3/entityTypes/census_entity_type_3\n",
      "Writing EntityType feature values: projects/354621994428/locations/us-central1/featurestores/census_income_3/entityTypes/census_entity_type_3\n",
      "EntityType feature values written. Resource name: projects/354621994428/locations/us-central1/featurestores/census_income_3/entityTypes/census_entity_type_3\n",
      "Writing EntityType feature values: projects/354621994428/locations/us-central1/featurestores/census_income_3/entityTypes/census_entity_type_3\n",
      "EntityType feature values written. Resource name: projects/354621994428/locations/us-central1/featurestores/census_income_3/entityTypes/census_entity_type_3\n",
      "Writing EntityType feature values: projects/354621994428/locations/us-central1/featurestores/census_income_3/entityTypes/census_entity_type_3\n",
      "EntityType feature values written. Resource name: projects/354621994428/locations/us-central1/featurestores/census_income_3/entityTypes/census_entity_type_3\n",
      "Writing EntityType feature values: projects/354621994428/locations/us-central1/featurestores/census_income_3/entityTypes/census_entity_type_3\n",
      "EntityType feature values written. Resource name: projects/354621994428/locations/us-central1/featurestores/census_income_3/entityTypes/census_entity_type_3\n",
      "Writing EntityType feature values: projects/354621994428/locations/us-central1/featurestores/census_income_3/entityTypes/census_entity_type_3\n",
      "EntityType feature values written. Resource name: projects/354621994428/locations/us-central1/featurestores/census_income_3/entityTypes/census_entity_type_3\n",
      "Writing EntityType feature values: projects/354621994428/locations/us-central1/featurestores/census_income_3/entityTypes/census_entity_type_3\n",
      "EntityType feature values written. Resource name: projects/354621994428/locations/us-central1/featurestores/census_income_3/entityTypes/census_entity_type_3\n",
      "Writing EntityType feature values: projects/354621994428/locations/us-central1/featurestores/census_income_3/entityTypes/census_entity_type_3\n",
      "EntityType feature values written. Resource name: projects/354621994428/locations/us-central1/featurestores/census_income_3/entityTypes/census_entity_type_3\n",
      "Writing EntityType feature values: projects/354621994428/locations/us-central1/featurestores/census_income_3/entityTypes/census_entity_type_3\n",
      "EntityType feature values written. Resource name: projects/354621994428/locations/us-central1/featurestores/census_income_3/entityTypes/census_entity_type_3\n",
      "Writing EntityType feature values: projects/354621994428/locations/us-central1/featurestores/census_income_3/entityTypes/census_entity_type_3\n",
      "EntityType feature values written. Resource name: projects/354621994428/locations/us-central1/featurestores/census_income_3/entityTypes/census_entity_type_3\n",
      "Writing EntityType feature values: projects/354621994428/locations/us-central1/featurestores/census_income_3/entityTypes/census_entity_type_3\n",
      "EntityType feature values written. Resource name: projects/354621994428/locations/us-central1/featurestores/census_income_3/entityTypes/census_entity_type_3\n",
      "Writing EntityType feature values: projects/354621994428/locations/us-central1/featurestores/census_income_3/entityTypes/census_entity_type_3\n",
      "EntityType feature values written. Resource name: projects/354621994428/locations/us-central1/featurestores/census_income_3/entityTypes/census_entity_type_3\n",
      "Writing EntityType feature values: projects/354621994428/locations/us-central1/featurestores/census_income_3/entityTypes/census_entity_type_3\n",
      "EntityType feature values written. Resource name: projects/354621994428/locations/us-central1/featurestores/census_income_3/entityTypes/census_entity_type_3\n",
      "Writing EntityType feature values: projects/354621994428/locations/us-central1/featurestores/census_income_3/entityTypes/census_entity_type_3\n",
      "EntityType feature values written. Resource name: projects/354621994428/locations/us-central1/featurestores/census_income_3/entityTypes/census_entity_type_3\n",
      "Writing EntityType feature values: projects/354621994428/locations/us-central1/featurestores/census_income_3/entityTypes/census_entity_type_3\n",
      "EntityType feature values written. Resource name: projects/354621994428/locations/us-central1/featurestores/census_income_3/entityTypes/census_entity_type_3\n",
      "Writing EntityType feature values: projects/354621994428/locations/us-central1/featurestores/census_income_3/entityTypes/census_entity_type_3\n",
      "EntityType feature values written. Resource name: projects/354621994428/locations/us-central1/featurestores/census_income_3/entityTypes/census_entity_type_3\n",
      "Writing EntityType feature values: projects/354621994428/locations/us-central1/featurestores/census_income_3/entityTypes/census_entity_type_3\n",
      "EntityType feature values written. Resource name: projects/354621994428/locations/us-central1/featurestores/census_income_3/entityTypes/census_entity_type_3\n",
      "Writing EntityType feature values: projects/354621994428/locations/us-central1/featurestores/census_income_3/entityTypes/census_entity_type_3\n",
      "EntityType feature values written. Resource name: projects/354621994428/locations/us-central1/featurestores/census_income_3/entityTypes/census_entity_type_3\n",
      "Writing EntityType feature values: projects/354621994428/locations/us-central1/featurestores/census_income_3/entityTypes/census_entity_type_3\n",
      "EntityType feature values written. Resource name: projects/354621994428/locations/us-central1/featurestores/census_income_3/entityTypes/census_entity_type_3\n",
      "Writing EntityType feature values: projects/354621994428/locations/us-central1/featurestores/census_income_3/entityTypes/census_entity_type_3\n",
      "EntityType feature values written. Resource name: projects/354621994428/locations/us-central1/featurestores/census_income_3/entityTypes/census_entity_type_3\n",
      "Writing EntityType feature values: projects/354621994428/locations/us-central1/featurestores/census_income_3/entityTypes/census_entity_type_3\n",
      "EntityType feature values written. Resource name: projects/354621994428/locations/us-central1/featurestores/census_income_3/entityTypes/census_entity_type_3\n",
      "Writing EntityType feature values: projects/354621994428/locations/us-central1/featurestores/census_income_3/entityTypes/census_entity_type_3\n",
      "EntityType feature values written. Resource name: projects/354621994428/locations/us-central1/featurestores/census_income_3/entityTypes/census_entity_type_3\n",
      "Writing EntityType feature values: projects/354621994428/locations/us-central1/featurestores/census_income_3/entityTypes/census_entity_type_3\n",
      "EntityType feature values written. Resource name: projects/354621994428/locations/us-central1/featurestores/census_income_3/entityTypes/census_entity_type_3\n",
      "Writing EntityType feature values: projects/354621994428/locations/us-central1/featurestores/census_income_3/entityTypes/census_entity_type_3\n",
      "EntityType feature values written. Resource name: projects/354621994428/locations/us-central1/featurestores/census_income_3/entityTypes/census_entity_type_3\n",
      "Writing EntityType feature values: projects/354621994428/locations/us-central1/featurestores/census_income_3/entityTypes/census_entity_type_3\n",
      "EntityType feature values written. Resource name: projects/354621994428/locations/us-central1/featurestores/census_income_3/entityTypes/census_entity_type_3\n",
      "Writing EntityType feature values: projects/354621994428/locations/us-central1/featurestores/census_income_3/entityTypes/census_entity_type_3\n",
      "EntityType feature values written. Resource name: projects/354621994428/locations/us-central1/featurestores/census_income_3/entityTypes/census_entity_type_3\n",
      "Writing EntityType feature values: projects/354621994428/locations/us-central1/featurestores/census_income_3/entityTypes/census_entity_type_3\n",
      "EntityType feature values written. Resource name: projects/354621994428/locations/us-central1/featurestores/census_income_3/entityTypes/census_entity_type_3\n",
      "Writing EntityType feature values: projects/354621994428/locations/us-central1/featurestores/census_income_3/entityTypes/census_entity_type_3\n",
      "EntityType feature values written. Resource name: projects/354621994428/locations/us-central1/featurestores/census_income_3/entityTypes/census_entity_type_3\n",
      "Writing EntityType feature values: projects/354621994428/locations/us-central1/featurestores/census_income_3/entityTypes/census_entity_type_3\n",
      "EntityType feature values written. Resource name: projects/354621994428/locations/us-central1/featurestores/census_income_3/entityTypes/census_entity_type_3\n",
      "Writing EntityType feature values: projects/354621994428/locations/us-central1/featurestores/census_income_3/entityTypes/census_entity_type_3\n",
      "EntityType feature values written. Resource name: projects/354621994428/locations/us-central1/featurestores/census_income_3/entityTypes/census_entity_type_3\n",
      "Writing EntityType feature values: projects/354621994428/locations/us-central1/featurestores/census_income_3/entityTypes/census_entity_type_3\n",
      "EntityType feature values written. Resource name: projects/354621994428/locations/us-central1/featurestores/census_income_3/entityTypes/census_entity_type_3\n",
      "Writing EntityType feature values: projects/354621994428/locations/us-central1/featurestores/census_income_3/entityTypes/census_entity_type_3\n",
      "EntityType feature values written. Resource name: projects/354621994428/locations/us-central1/featurestores/census_income_3/entityTypes/census_entity_type_3\n",
      "Writing EntityType feature values: projects/354621994428/locations/us-central1/featurestores/census_income_3/entityTypes/census_entity_type_3\n",
      "EntityType feature values written. Resource name: projects/354621994428/locations/us-central1/featurestores/census_income_3/entityTypes/census_entity_type_3\n",
      "Writing EntityType feature values: projects/354621994428/locations/us-central1/featurestores/census_income_3/entityTypes/census_entity_type_3\n",
      "EntityType feature values written. Resource name: projects/354621994428/locations/us-central1/featurestores/census_income_3/entityTypes/census_entity_type_3\n",
      "Writing EntityType feature values: projects/354621994428/locations/us-central1/featurestores/census_income_3/entityTypes/census_entity_type_3\n",
      "EntityType feature values written. Resource name: projects/354621994428/locations/us-central1/featurestores/census_income_3/entityTypes/census_entity_type_3\n",
      "Writing EntityType feature values: projects/354621994428/locations/us-central1/featurestores/census_income_3/entityTypes/census_entity_type_3\n",
      "EntityType feature values written. Resource name: projects/354621994428/locations/us-central1/featurestores/census_income_3/entityTypes/census_entity_type_3\n",
      "Writing EntityType feature values: projects/354621994428/locations/us-central1/featurestores/census_income_3/entityTypes/census_entity_type_3\n",
      "EntityType feature values written. Resource name: projects/354621994428/locations/us-central1/featurestores/census_income_3/entityTypes/census_entity_type_3\n",
      "Writing EntityType feature values: projects/354621994428/locations/us-central1/featurestores/census_income_3/entityTypes/census_entity_type_3\n",
      "EntityType feature values written. Resource name: projects/354621994428/locations/us-central1/featurestores/census_income_3/entityTypes/census_entity_type_3\n",
      "Writing EntityType feature values: projects/354621994428/locations/us-central1/featurestores/census_income_3/entityTypes/census_entity_type_3\n",
      "EntityType feature values written. Resource name: projects/354621994428/locations/us-central1/featurestores/census_income_3/entityTypes/census_entity_type_3\n",
      "Writing EntityType feature values: projects/354621994428/locations/us-central1/featurestores/census_income_3/entityTypes/census_entity_type_3\n",
      "EntityType feature values written. Resource name: projects/354621994428/locations/us-central1/featurestores/census_income_3/entityTypes/census_entity_type_3\n",
      "Writing EntityType feature values: projects/354621994428/locations/us-central1/featurestores/census_income_3/entityTypes/census_entity_type_3\n",
      "EntityType feature values written. Resource name: projects/354621994428/locations/us-central1/featurestores/census_income_3/entityTypes/census_entity_type_3\n",
      "Writing EntityType feature values: projects/354621994428/locations/us-central1/featurestores/census_income_3/entityTypes/census_entity_type_3\n",
      "EntityType feature values written. Resource name: projects/354621994428/locations/us-central1/featurestores/census_income_3/entityTypes/census_entity_type_3\n",
      "Writing EntityType feature values: projects/354621994428/locations/us-central1/featurestores/census_income_3/entityTypes/census_entity_type_3\n",
      "EntityType feature values written. Resource name: projects/354621994428/locations/us-central1/featurestores/census_income_3/entityTypes/census_entity_type_3\n",
      "Writing EntityType feature values: projects/354621994428/locations/us-central1/featurestores/census_income_3/entityTypes/census_entity_type_3\n",
      "EntityType feature values written. Resource name: projects/354621994428/locations/us-central1/featurestores/census_income_3/entityTypes/census_entity_type_3\n",
      "Writing EntityType feature values: projects/354621994428/locations/us-central1/featurestores/census_income_3/entityTypes/census_entity_type_3\n",
      "EntityType feature values written. Resource name: projects/354621994428/locations/us-central1/featurestores/census_income_3/entityTypes/census_entity_type_3\n",
      "Writing EntityType feature values: projects/354621994428/locations/us-central1/featurestores/census_income_3/entityTypes/census_entity_type_3\n",
      "EntityType feature values written. Resource name: projects/354621994428/locations/us-central1/featurestores/census_income_3/entityTypes/census_entity_type_3\n",
      "Writing EntityType feature values: projects/354621994428/locations/us-central1/featurestores/census_income_3/entityTypes/census_entity_type_3\n",
      "EntityType feature values written. Resource name: projects/354621994428/locations/us-central1/featurestores/census_income_3/entityTypes/census_entity_type_3\n",
      "Writing EntityType feature values: projects/354621994428/locations/us-central1/featurestores/census_income_3/entityTypes/census_entity_type_3\n",
      "EntityType feature values written. Resource name: projects/354621994428/locations/us-central1/featurestores/census_income_3/entityTypes/census_entity_type_3\n",
      "Writing EntityType feature values: projects/354621994428/locations/us-central1/featurestores/census_income_3/entityTypes/census_entity_type_3\n",
      "EntityType feature values written. Resource name: projects/354621994428/locations/us-central1/featurestores/census_income_3/entityTypes/census_entity_type_3\n",
      "Writing EntityType feature values: projects/354621994428/locations/us-central1/featurestores/census_income_3/entityTypes/census_entity_type_3\n",
      "EntityType feature values written. Resource name: projects/354621994428/locations/us-central1/featurestores/census_income_3/entityTypes/census_entity_type_3\n",
      "Writing EntityType feature values: projects/354621994428/locations/us-central1/featurestores/census_income_3/entityTypes/census_entity_type_3\n",
      "EntityType feature values written. Resource name: projects/354621994428/locations/us-central1/featurestores/census_income_3/entityTypes/census_entity_type_3\n",
      "Writing EntityType feature values: projects/354621994428/locations/us-central1/featurestores/census_income_3/entityTypes/census_entity_type_3\n",
      "EntityType feature values written. Resource name: projects/354621994428/locations/us-central1/featurestores/census_income_3/entityTypes/census_entity_type_3\n",
      "Writing EntityType feature values: projects/354621994428/locations/us-central1/featurestores/census_income_3/entityTypes/census_entity_type_3\n",
      "EntityType feature values written. Resource name: projects/354621994428/locations/us-central1/featurestores/census_income_3/entityTypes/census_entity_type_3\n",
      "Writing EntityType feature values: projects/354621994428/locations/us-central1/featurestores/census_income_3/entityTypes/census_entity_type_3\n",
      "EntityType feature values written. Resource name: projects/354621994428/locations/us-central1/featurestores/census_income_3/entityTypes/census_entity_type_3\n",
      "Writing EntityType feature values: projects/354621994428/locations/us-central1/featurestores/census_income_3/entityTypes/census_entity_type_3\n",
      "EntityType feature values written. Resource name: projects/354621994428/locations/us-central1/featurestores/census_income_3/entityTypes/census_entity_type_3\n",
      "Writing EntityType feature values: projects/354621994428/locations/us-central1/featurestores/census_income_3/entityTypes/census_entity_type_3\n",
      "EntityType feature values written. Resource name: projects/354621994428/locations/us-central1/featurestores/census_income_3/entityTypes/census_entity_type_3\n",
      "Writing EntityType feature values: projects/354621994428/locations/us-central1/featurestores/census_income_3/entityTypes/census_entity_type_3\n",
      "EntityType feature values written. Resource name: projects/354621994428/locations/us-central1/featurestores/census_income_3/entityTypes/census_entity_type_3\n",
      "Writing EntityType feature values: projects/354621994428/locations/us-central1/featurestores/census_income_3/entityTypes/census_entity_type_3\n",
      "EntityType feature values written. Resource name: projects/354621994428/locations/us-central1/featurestores/census_income_3/entityTypes/census_entity_type_3\n",
      "Writing EntityType feature values: projects/354621994428/locations/us-central1/featurestores/census_income_3/entityTypes/census_entity_type_3\n",
      "EntityType feature values written. Resource name: projects/354621994428/locations/us-central1/featurestores/census_income_3/entityTypes/census_entity_type_3\n",
      "Writing EntityType feature values: projects/354621994428/locations/us-central1/featurestores/census_income_3/entityTypes/census_entity_type_3\n",
      "EntityType feature values written. Resource name: projects/354621994428/locations/us-central1/featurestores/census_income_3/entityTypes/census_entity_type_3\n",
      "Writing EntityType feature values: projects/354621994428/locations/us-central1/featurestores/census_income_3/entityTypes/census_entity_type_3\n",
      "EntityType feature values written. Resource name: projects/354621994428/locations/us-central1/featurestores/census_income_3/entityTypes/census_entity_type_3\n",
      "Writing EntityType feature values: projects/354621994428/locations/us-central1/featurestores/census_income_3/entityTypes/census_entity_type_3\n",
      "EntityType feature values written. Resource name: projects/354621994428/locations/us-central1/featurestores/census_income_3/entityTypes/census_entity_type_3\n",
      "Writing EntityType feature values: projects/354621994428/locations/us-central1/featurestores/census_income_3/entityTypes/census_entity_type_3\n",
      "EntityType feature values written. Resource name: projects/354621994428/locations/us-central1/featurestores/census_income_3/entityTypes/census_entity_type_3\n",
      "Writing EntityType feature values: projects/354621994428/locations/us-central1/featurestores/census_income_3/entityTypes/census_entity_type_3\n",
      "EntityType feature values written. Resource name: projects/354621994428/locations/us-central1/featurestores/census_income_3/entityTypes/census_entity_type_3\n"
     ]
    }
   ],
   "source": [
    "\n",
    "max_instances = 100\n",
    "\n",
    "num_instances = len(census_df)\n",
    "num_batches, remainder = divmod(num_instances, max_instances)\n",
    "if remainder:\n",
    "    num_batches += 1\n",
    "\n",
    "instance_batches = []\n",
    "for i in range(num_batches):\n",
    "    start_index = i * max_instances\n",
    "    end_index = min((i + 1) * max_instances, num_instances)\n",
    "    instance_batches.append(census_df.iloc[start_index:end_index])\n",
    "\n",
    "for batch in instance_batches:\n",
    "    census_entity_type.preview.write_feature_values(instances=batch)\n"
   ]
  },
  {
   "cell_type": "code",
   "execution_count": 88,
   "metadata": {
    "id": "iUGI-ftltXqE"
   },
   "outputs": [],
   "source": [
    "#census_entity_type.preview.write_feature_values(instances=census_df)"
   ]
  },
  {
   "cell_type": "markdown",
   "metadata": {
    "id": "STq67KHO3q_e"
   },
   "source": [
    "## Read back written features\n",
    "\n",
    "Wait a few seconds for the write to propagate, then do an online read to confirm the write was successful."
   ]
  },
  {
   "cell_type": "code",
   "execution_count": 89,
   "metadata": {
    "id": "lwoMnze43r9G"
   },
   "outputs": [
    {
     "data": {
      "text/html": [
       "<div>\n",
       "<style scoped>\n",
       "    .dataframe tbody tr th:only-of-type {\n",
       "        vertical-align: middle;\n",
       "    }\n",
       "\n",
       "    .dataframe tbody tr th {\n",
       "        vertical-align: top;\n",
       "    }\n",
       "\n",
       "    .dataframe thead th {\n",
       "        text-align: right;\n",
       "    }\n",
       "</style>\n",
       "<table border=\"1\" class=\"dataframe\">\n",
       "  <thead>\n",
       "    <tr style=\"text-align: right;\">\n",
       "      <th></th>\n",
       "      <th>entity_id</th>\n",
       "      <th>education_num</th>\n",
       "      <th>sex</th>\n",
       "      <th>education</th>\n",
       "      <th>fnlwgt</th>\n",
       "      <th>capital_loss</th>\n",
       "      <th>income</th>\n",
       "      <th>occupation</th>\n",
       "      <th>age</th>\n",
       "      <th>workclass</th>\n",
       "      <th>capital_gain</th>\n",
       "      <th>hours_per_week</th>\n",
       "      <th>native_country</th>\n",
       "      <th>race</th>\n",
       "      <th>relationship</th>\n",
       "      <th>marital_status</th>\n",
       "    </tr>\n",
       "  </thead>\n",
       "  <tbody>\n",
       "    <tr>\n",
       "      <th>0</th>\n",
       "      <td>0</td>\n",
       "      <td>NaN</td>\n",
       "      <td>None</td>\n",
       "      <td>None</td>\n",
       "      <td>NaN</td>\n",
       "      <td>NaN</td>\n",
       "      <td>None</td>\n",
       "      <td>None</td>\n",
       "      <td>None</td>\n",
       "      <td>None</td>\n",
       "      <td>NaN</td>\n",
       "      <td>NaN</td>\n",
       "      <td>None</td>\n",
       "      <td>None</td>\n",
       "      <td>None</td>\n",
       "      <td>None</td>\n",
       "    </tr>\n",
       "    <tr>\n",
       "      <th>1</th>\n",
       "      <td>1</td>\n",
       "      <td>7.0</td>\n",
       "      <td>Male</td>\n",
       "      <td>11th</td>\n",
       "      <td>226802.0</td>\n",
       "      <td>0.0</td>\n",
       "      <td>&lt;=50K.</td>\n",
       "      <td>Machine-op-inspct</td>\n",
       "      <td>25</td>\n",
       "      <td>Private</td>\n",
       "      <td>0.0</td>\n",
       "      <td>40.0</td>\n",
       "      <td>United-States</td>\n",
       "      <td>Black</td>\n",
       "      <td>Own-child</td>\n",
       "      <td>Never-married</td>\n",
       "    </tr>\n",
       "    <tr>\n",
       "      <th>2</th>\n",
       "      <td>10</td>\n",
       "      <td>4.0</td>\n",
       "      <td>Male</td>\n",
       "      <td>7th-8th</td>\n",
       "      <td>104996.0</td>\n",
       "      <td>0.0</td>\n",
       "      <td>&lt;=50K.</td>\n",
       "      <td>Craft-repair</td>\n",
       "      <td>55</td>\n",
       "      <td>Private</td>\n",
       "      <td>0.0</td>\n",
       "      <td>10.0</td>\n",
       "      <td>United-States</td>\n",
       "      <td>White</td>\n",
       "      <td>Husband</td>\n",
       "      <td>Married-civ-spouse</td>\n",
       "    </tr>\n",
       "    <tr>\n",
       "      <th>3</th>\n",
       "      <td>11</td>\n",
       "      <td>9.0</td>\n",
       "      <td>Male</td>\n",
       "      <td>HS-grad</td>\n",
       "      <td>184454.0</td>\n",
       "      <td>0.0</td>\n",
       "      <td>&gt;50K.</td>\n",
       "      <td>Machine-op-inspct</td>\n",
       "      <td>65</td>\n",
       "      <td>Private</td>\n",
       "      <td>6418.0</td>\n",
       "      <td>40.0</td>\n",
       "      <td>United-States</td>\n",
       "      <td>White</td>\n",
       "      <td>Husband</td>\n",
       "      <td>Married-civ-spouse</td>\n",
       "    </tr>\n",
       "    <tr>\n",
       "      <th>4</th>\n",
       "      <td>12</td>\n",
       "      <td>13.0</td>\n",
       "      <td>Male</td>\n",
       "      <td>Bachelors</td>\n",
       "      <td>212465.0</td>\n",
       "      <td>0.0</td>\n",
       "      <td>&lt;=50K.</td>\n",
       "      <td>Adm-clerical</td>\n",
       "      <td>36</td>\n",
       "      <td>Federal-gov</td>\n",
       "      <td>0.0</td>\n",
       "      <td>40.0</td>\n",
       "      <td>United-States</td>\n",
       "      <td>White</td>\n",
       "      <td>Husband</td>\n",
       "      <td>Married-civ-spouse</td>\n",
       "    </tr>\n",
       "    <tr>\n",
       "      <th>...</th>\n",
       "      <td>...</td>\n",
       "      <td>...</td>\n",
       "      <td>...</td>\n",
       "      <td>...</td>\n",
       "      <td>...</td>\n",
       "      <td>...</td>\n",
       "      <td>...</td>\n",
       "      <td>...</td>\n",
       "      <td>...</td>\n",
       "      <td>...</td>\n",
       "      <td>...</td>\n",
       "      <td>...</td>\n",
       "      <td>...</td>\n",
       "      <td>...</td>\n",
       "      <td>...</td>\n",
       "      <td>...</td>\n",
       "    </tr>\n",
       "    <tr>\n",
       "      <th>95</th>\n",
       "      <td>95</td>\n",
       "      <td>14.0</td>\n",
       "      <td>Male</td>\n",
       "      <td>Masters</td>\n",
       "      <td>198751.0</td>\n",
       "      <td>0.0</td>\n",
       "      <td>&lt;=50K.</td>\n",
       "      <td>Other-service</td>\n",
       "      <td>34</td>\n",
       "      <td>Private</td>\n",
       "      <td>0.0</td>\n",
       "      <td>40.0</td>\n",
       "      <td>United-States</td>\n",
       "      <td>Amer-Indian-Eskimo</td>\n",
       "      <td>Not-in-family</td>\n",
       "      <td>Never-married</td>\n",
       "    </tr>\n",
       "    <tr>\n",
       "      <th>96</th>\n",
       "      <td>96</td>\n",
       "      <td>9.0</td>\n",
       "      <td>Male</td>\n",
       "      <td>HS-grad</td>\n",
       "      <td>479296.0</td>\n",
       "      <td>0.0</td>\n",
       "      <td>&lt;=50K.</td>\n",
       "      <td>Handlers-cleaners</td>\n",
       "      <td>20</td>\n",
       "      <td>Private</td>\n",
       "      <td>0.0</td>\n",
       "      <td>40.0</td>\n",
       "      <td>United-States</td>\n",
       "      <td>White</td>\n",
       "      <td>Own-child</td>\n",
       "      <td>Never-married</td>\n",
       "    </tr>\n",
       "    <tr>\n",
       "      <th>97</th>\n",
       "      <td>97</td>\n",
       "      <td>13.0</td>\n",
       "      <td>Female</td>\n",
       "      <td>Bachelors</td>\n",
       "      <td>235218.0</td>\n",
       "      <td>0.0</td>\n",
       "      <td>&lt;=50K.</td>\n",
       "      <td>Exec-managerial</td>\n",
       "      <td>25</td>\n",
       "      <td>Private</td>\n",
       "      <td>0.0</td>\n",
       "      <td>40.0</td>\n",
       "      <td>United-States</td>\n",
       "      <td>White</td>\n",
       "      <td>Own-child</td>\n",
       "      <td>Never-married</td>\n",
       "    </tr>\n",
       "    <tr>\n",
       "      <th>98</th>\n",
       "      <td>98</td>\n",
       "      <td>6.0</td>\n",
       "      <td>Male</td>\n",
       "      <td>10th</td>\n",
       "      <td>164877.0</td>\n",
       "      <td>0.0</td>\n",
       "      <td>&lt;=50K.</td>\n",
       "      <td>Farming-fishing</td>\n",
       "      <td>49</td>\n",
       "      <td>Private</td>\n",
       "      <td>0.0</td>\n",
       "      <td>40.0</td>\n",
       "      <td>United-States</td>\n",
       "      <td>White</td>\n",
       "      <td>Husband</td>\n",
       "      <td>Married-civ-spouse</td>\n",
       "    </tr>\n",
       "    <tr>\n",
       "      <th>99</th>\n",
       "      <td>99</td>\n",
       "      <td>9.0</td>\n",
       "      <td>Male</td>\n",
       "      <td>HS-grad</td>\n",
       "      <td>272087.0</td>\n",
       "      <td>0.0</td>\n",
       "      <td>&gt;50K.</td>\n",
       "      <td>Transport-moving</td>\n",
       "      <td>59</td>\n",
       "      <td>Private</td>\n",
       "      <td>0.0</td>\n",
       "      <td>40.0</td>\n",
       "      <td>United-States</td>\n",
       "      <td>White</td>\n",
       "      <td>Husband</td>\n",
       "      <td>Married-civ-spouse</td>\n",
       "    </tr>\n",
       "  </tbody>\n",
       "</table>\n",
       "<p>100 rows × 16 columns</p>\n",
       "</div>"
      ],
      "text/plain": [
       "   entity_id  education_num      sex   education    fnlwgt  capital_loss  \\\n",
       "0          0            NaN     None        None       NaN           NaN   \n",
       "1          1            7.0     Male        11th  226802.0           0.0   \n",
       "2         10            4.0     Male     7th-8th  104996.0           0.0   \n",
       "3         11            9.0     Male     HS-grad  184454.0           0.0   \n",
       "4         12           13.0     Male   Bachelors  212465.0           0.0   \n",
       "..       ...            ...      ...         ...       ...           ...   \n",
       "95        95           14.0     Male     Masters  198751.0           0.0   \n",
       "96        96            9.0     Male     HS-grad  479296.0           0.0   \n",
       "97        97           13.0   Female   Bachelors  235218.0           0.0   \n",
       "98        98            6.0     Male        10th  164877.0           0.0   \n",
       "99        99            9.0     Male     HS-grad  272087.0           0.0   \n",
       "\n",
       "     income          occupation   age     workclass  capital_gain  \\\n",
       "0      None                None  None          None           NaN   \n",
       "1    <=50K.   Machine-op-inspct    25       Private           0.0   \n",
       "2    <=50K.        Craft-repair    55       Private           0.0   \n",
       "3     >50K.   Machine-op-inspct    65       Private        6418.0   \n",
       "4    <=50K.        Adm-clerical    36   Federal-gov           0.0   \n",
       "..      ...                 ...   ...           ...           ...   \n",
       "95   <=50K.       Other-service    34       Private           0.0   \n",
       "96   <=50K.   Handlers-cleaners    20       Private           0.0   \n",
       "97   <=50K.     Exec-managerial    25       Private           0.0   \n",
       "98   <=50K.     Farming-fishing    49       Private           0.0   \n",
       "99    >50K.    Transport-moving    59       Private           0.0   \n",
       "\n",
       "    hours_per_week  native_country                 race    relationship  \\\n",
       "0              NaN            None                 None            None   \n",
       "1             40.0   United-States                Black       Own-child   \n",
       "2             10.0   United-States                White         Husband   \n",
       "3             40.0   United-States                White         Husband   \n",
       "4             40.0   United-States                White         Husband   \n",
       "..             ...             ...                  ...             ...   \n",
       "95            40.0   United-States   Amer-Indian-Eskimo   Not-in-family   \n",
       "96            40.0   United-States                White       Own-child   \n",
       "97            40.0   United-States                White       Own-child   \n",
       "98            40.0   United-States                White         Husband   \n",
       "99            40.0   United-States                White         Husband   \n",
       "\n",
       "         marital_status  \n",
       "0                  None  \n",
       "1         Never-married  \n",
       "2    Married-civ-spouse  \n",
       "3    Married-civ-spouse  \n",
       "4    Married-civ-spouse  \n",
       "..                  ...  \n",
       "95        Never-married  \n",
       "96        Never-married  \n",
       "97        Never-married  \n",
       "98   Married-civ-spouse  \n",
       "99   Married-civ-spouse  \n",
       "\n",
       "[100 rows x 16 columns]"
      ]
     },
     "execution_count": 89,
     "metadata": {},
     "output_type": "execute_result"
    }
   ],
   "source": [
    "ENTITY_IDS = [str(x) for x in range(100)]\n",
    "census_entity_type.read(entity_ids=ENTITY_IDS)"
   ]
  },
  {
   "cell_type": "markdown",
   "metadata": {
    "id": "TpV-iwP9qw9c"
   },
   "source": [
    "## Cleaning up\n",
    "\n",
    "To clean up all Google Cloud resources used in this project, you can [delete the Google Cloud\n",
    "project](https://cloud.google.com/resource-manager/docs/creating-managing-projects#shutting_down_projects) you used for the tutorial.\n",
    "\n",
    "Otherwise, you can delete the individual resources you created in this tutorial:"
   ]
  },
  {
   "cell_type": "code",
   "execution_count": null,
   "metadata": {
    "id": "sx_vKniMq9ZX"
   },
   "outputs": [],
   "source": [
    "census_feature_store.delete(force=True)"
   ]
  }
 ],
 "metadata": {
  "colab": {
   "name": "feature_store_streaming_ingestion_sdk.ipynb",
   "toc_visible": true
  },
  "environment": {
   "kernel": "python3",
   "name": "common-cpu.m104",
   "type": "gcloud",
   "uri": "gcr.io/deeplearning-platform-release/base-cpu:m104"
  },
  "kernelspec": {
   "display_name": "Python 3",
   "language": "python",
   "name": "python3"
  },
  "language_info": {
   "codemirror_mode": {
    "name": "ipython",
    "version": 3
   },
   "file_extension": ".py",
   "mimetype": "text/x-python",
   "name": "python",
   "nbconvert_exporter": "python",
   "pygments_lexer": "ipython3",
   "version": "3.7.12"
  }
 },
 "nbformat": 4,
 "nbformat_minor": 4
}

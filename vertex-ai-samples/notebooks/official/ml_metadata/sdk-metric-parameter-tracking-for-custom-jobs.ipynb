{
 "cells": [
  {
   "cell_type": "code",
   "execution_count": null,
   "metadata": {
    "id": "ur8xi4C7S06n"
   },
   "outputs": [],
   "source": [
    "# Copyright 2021 Google LLC\n",
    "#\n",
    "# Licensed under the Apache License, Version 2.0 (the \"License\");\n",
    "# you may not use this file except in compliance with the License.\n",
    "# You may obtain a copy of the License at\n",
    "#\n",
    "#     https://www.apache.org/licenses/LICENSE-2.0\n",
    "#\n",
    "# Unless required by applicable law or agreed to in writing, software\n",
    "# distributed under the License is distributed on an \"AS IS\" BASIS,\n",
    "# WITHOUT WARRANTIES OR CONDITIONS OF ANY KIND, either express or implied.\n",
    "# See the License for the specific language governing permissions and\n",
    "# limitations under the License."
   ]
  },
  {
   "cell_type": "markdown",
   "metadata": {
    "id": "JAPoU8Sm5E6e"
   },
   "source": [
    "# Vertex AI: Track parameters and metrics for custom training jobs\n",
    "\n",
    "<table align=\"left\">\n",
    "\n",
    "  <td>\n",
    "    <a href=\"https://colab.research.google.com/github/GoogleCloudPlatform/vertex-ai-samples/blob/main/notebooks/official/ml_metadata/sdk-metric-parameter-tracking-for-custom-jobs.ipynb\">\n",
    "      <img src=\"https://cloud.google.com/ml-engine/images/colab-logo-32px.png\" alt=\"Colab logo\"> Run in Colab\n",
    "    </a>\n",
    "  </td>\n",
    "  <td>\n",
    "    <a href=\"https://github.com/GoogleCloudPlatform/vertex-ai-samples/blob/main/notebooks/official/ml_metadata/sdk-metric-parameter-tracking-for-custom-jobs.ipynb\">\n",
    "      <img src=\"https://cloud.google.com/ml-engine/images/github-logo-32px.png\" alt=\"GitHub logo\">\n",
    "      View on GitHub\n",
    "    </a>\n",
    "  </td>\n",
    "  <td>\n",
    "    <a href=\"https://console.cloud.google.com/vertex-ai/workbench/deploy-notebook?download_url=https://raw.githubusercontent.com/GoogleCloudPlatform/vertex-ai-samples/main/notebooks/official/ml_metadata/sdk-metric-parameter-tracking-for-custom-jobs.ipynb\">\n",
    "      <img src=\"https://lh3.googleusercontent.com/UiNooY4LUgW_oTvpsNhPpQzsstV5W8F7rYgxgGBD85cWJoLmrOzhVs_ksK_vgx40SHs7jCqkTkCk=e14-rj-sc0xffffff-h130-w32\" alt=\"Vertex AI logo\">\n",
    "      Open in Vertex AI Workbench\n",
    "    </a>\n",
    "  </td>  \n",
    "</table>"
   ]
  },
  {
   "cell_type": "markdown",
   "metadata": {
    "id": "2e0464050974"
   },
   "source": [
    "## Overview\n",
    "\n",
    "This notebook demonstrates how to track metrics and parameters for Vertex AI custom training jobs, and how to perform detailed analysis using this data.\n",
    "\n",
    "Learn more about [Vertex ML Metadata](https://cloud.google.com/vertex-ai/docs/ml-metadata) and [Custom training](https://cloud.google.com/vertex-ai/docs/training/custom-training)."
   ]
  },
  {
   "cell_type": "markdown",
   "metadata": {
    "id": "b95ab729fccd"
   },
   "source": [
    "### Objective\n",
    "\n",
    "In this notebook, you learn how to use Vertex AI SDK for Python to:\n",
    "\n",
    "This tutorial uses the following Google Cloud ML services and resources:\n",
    "- Vertex AI Dataset\n",
    "- Vertex AI Model\n",
    "- Vertex AI Endpoint\n",
    "- Vertex AI Custom Training Job\n",
    "\n",
    "The steps performed include:\n",
    "- Track training parameters and prediction metrics for a custom training job.\n",
    "- Extract and perform analysis for all parameters and metrics within an Experiment."
   ]
  },
  {
   "cell_type": "markdown",
   "metadata": {
    "id": "9fd87cf689bf"
   },
   "source": [
    "### Dataset\n",
    "\n",
    "This example uses the Abalone Dataset. For more information about this dataset please visit: https://archive.ics.uci.edu/ml/datasets/abalone"
   ]
  },
  {
   "cell_type": "markdown",
   "metadata": {
    "id": "tvgnzT1CKxrO"
   },
   "source": [
    "### Costs \n",
    "\n",
    "\n",
    "This tutorial uses billable components of Google Cloud:\n",
    "\n",
    "* Vertex AI\n",
    "* Cloud Storage\n",
    "\n",
    "Learn about [Vertex AI\n",
    "pricing](https://cloud.google.com/vertex-ai/pricing) and [Cloud Storage\n",
    "pricing](https://cloud.google.com/storage/pricing), and use the [Pricing\n",
    "Calculator](https://cloud.google.com/products/calculator/)\n",
    "to generate a cost estimate based on your projected usage."
   ]
  },
  {
   "cell_type": "markdown",
   "metadata": {
    "id": "i7EUnXsZhAGF"
   },
   "source": [
    "### Installation\n",
    "\n",
    "Install the packages required for executing this notebook."
   ]
  },
  {
   "cell_type": "code",
   "execution_count": 1,
   "metadata": {
    "id": "qblyW_dcyOQA"
   },
   "outputs": [
    {
     "name": "stdout",
     "output_type": "stream",
     "text": [
      "\u001b[33mWARNING: Ignoring invalid distribution -yarrow (/opt/conda/lib/python3.7/site-packages)\u001b[0m\u001b[33m\n",
      "\u001b[0m\u001b[33mWARNING: Ignoring invalid distribution -ensorflow-estimator (/opt/conda/lib/python3.7/site-packages)\u001b[0m\u001b[33m\n",
      "\u001b[0m\u001b[33mWARNING: Ignoring invalid distribution -yarrow (/opt/conda/lib/python3.7/site-packages)\u001b[0m\u001b[33m\n",
      "\u001b[0m\u001b[33mWARNING: Ignoring invalid distribution -ensorflow-estimator (/opt/conda/lib/python3.7/site-packages)\u001b[0m\u001b[33m\n",
      "\u001b[0m\u001b[33mWARNING: Ignoring invalid distribution -yarrow (/opt/conda/lib/python3.7/site-packages)\u001b[0m\u001b[33m\n",
      "\u001b[0m\u001b[33mWARNING: Ignoring invalid distribution -ensorflow-estimator (/opt/conda/lib/python3.7/site-packages)\u001b[0m\u001b[33m\n",
      "\u001b[0m\u001b[33mWARNING: Ignoring invalid distribution -yarrow (/opt/conda/lib/python3.7/site-packages)\u001b[0m\u001b[33m\n",
      "\u001b[0m\u001b[33mWARNING: Ignoring invalid distribution -ensorflow-estimator (/opt/conda/lib/python3.7/site-packages)\u001b[0m\u001b[33m\n",
      "\u001b[0m\u001b[33mWARNING: Ignoring invalid distribution -yarrow (/opt/conda/lib/python3.7/site-packages)\u001b[0m\u001b[33m\n",
      "\u001b[0m\u001b[33mWARNING: Ignoring invalid distribution -ensorflow-estimator (/opt/conda/lib/python3.7/site-packages)\u001b[0m\u001b[33m\n",
      "\u001b[0m\u001b[33mWARNING: Ignoring invalid distribution -yarrow (/opt/conda/lib/python3.7/site-packages)\u001b[0m\u001b[33m\n",
      "\u001b[0m\u001b[33mWARNING: Ignoring invalid distribution -ensorflow-estimator (/opt/conda/lib/python3.7/site-packages)\u001b[0m\u001b[33m\n",
      "\u001b[0m"
     ]
    }
   ],
   "source": [
    "! pip3 install --upgrade tensorflow \\\n",
    "                         google-cloud-aiplatform \\\n",
    "                         scikit-learn -q"
   ]
  },
  {
   "cell_type": "markdown",
   "metadata": {
    "id": "hhq5zEbGg0XX"
   },
   "source": [
    "### Colab only: Uncomment the following cell to restart the kernel."
   ]
  },
  {
   "cell_type": "code",
   "execution_count": null,
   "metadata": {
    "id": "EzrelQZ22IZj"
   },
   "outputs": [],
   "source": [
    "# Automatically restart kernel after installs so that your environment can access the new packages\n",
    "# import IPython\n",
    "\n",
    "# app = IPython.Application.instance()\n",
    "# app.kernel.do_shutdown(True)"
   ]
  },
  {
   "cell_type": "markdown",
   "metadata": {
    "id": "lWEdiXsJg0XY"
   },
   "source": [
    "## Before you begin"
   ]
  },
  {
   "cell_type": "markdown",
   "metadata": {
    "id": "8bc8a29f9001"
   },
   "source": [
    "#### Set your project ID\n",
    "\n",
    "**If you don't know your project ID**, try the following:\n",
    "* Run `gcloud config list`.\n",
    "* Run `gcloud projects list`.\n",
    "* See the support page: [Locate the project ID](https://support.google.com/googleapi/answer/7014113)"
   ]
  },
  {
   "cell_type": "code",
   "execution_count": 2,
   "metadata": {
    "id": "cde8e0876d62"
   },
   "outputs": [
    {
     "name": "stdout",
     "output_type": "stream",
     "text": [
      "Updated property [core/project].\n"
     ]
    }
   ],
   "source": [
    "PROJECT_ID = \"ds-training-380514\"  # @param {type:\"string\"}\n",
    "\n",
    "# Set the project id\n",
    "! gcloud config set project {PROJECT_ID}"
   ]
  },
  {
   "cell_type": "markdown",
   "metadata": {
    "id": "47bc07d4231b"
   },
   "source": [
    "#### Region\n",
    "\n",
    "You can also change the `REGION` variable used by Vertex AI. Learn more about [Vertex AI regions](https://cloud.google.com/vertex-ai/docs/general/locations)."
   ]
  },
  {
   "cell_type": "code",
   "execution_count": 3,
   "metadata": {
    "id": "959545da671a"
   },
   "outputs": [],
   "source": [
    "REGION = \"us-central1\"  # @param {type: \"string\"}"
   ]
  },
  {
   "cell_type": "markdown",
   "metadata": {
    "id": "dr--iN2kAylZ"
   },
   "source": [
    "### Authenticate your Google Cloud account\n",
    "\n",
    "Depending on your Jupyter environment, you may have to manually authenticate. Follow the relevant instructions below."
   ]
  },
  {
   "cell_type": "markdown",
   "metadata": {
    "id": "sBCra4QMA2wR"
   },
   "source": [
    "**1. Vertex AI Workbench**\n",
    "* Do nothing as you are already authenticated."
   ]
  },
  {
   "cell_type": "markdown",
   "metadata": {
    "id": "ad1138a125ea"
   },
   "source": [
    "**2. Local JupyterLab instance, uncomment and run:**"
   ]
  },
  {
   "cell_type": "code",
   "execution_count": null,
   "metadata": {
    "id": "ce6043da7b33"
   },
   "outputs": [],
   "source": [
    "# ! gcloud auth login"
   ]
  },
  {
   "cell_type": "markdown",
   "metadata": {
    "id": "0367eac06a10"
   },
   "source": [
    "**3. Colab, uncomment and run:**"
   ]
  },
  {
   "cell_type": "code",
   "execution_count": null,
   "metadata": {
    "id": "PyQmSRbKA8r-"
   },
   "outputs": [],
   "source": [
    "# from google.colab import auth\n",
    "# auth.authenticate_user()"
   ]
  },
  {
   "cell_type": "markdown",
   "metadata": {
    "id": "c13224697bfb"
   },
   "source": [
    "**4. Service account or other**\n",
    "* See how to grant Cloud Storage permissions to your service account at https://cloud.google.com/storage/docs/gsutil/commands/iam#ch-examples."
   ]
  },
  {
   "cell_type": "markdown",
   "metadata": {
    "id": "zgPO1eR3CYjk"
   },
   "source": [
    "### Create a Cloud Storage bucket\n",
    "\n",
    "Create a storage bucket to store intermediate artifacts such as datasets."
   ]
  },
  {
   "cell_type": "code",
   "execution_count": 4,
   "metadata": {
    "id": "MzGDU7TWdts_"
   },
   "outputs": [],
   "source": [
    "BUCKET_URI = \"gs://ds-training-380514\"  # @param {type:\"string\"}"
   ]
  },
  {
   "cell_type": "markdown",
   "metadata": {
    "id": "-EcIXiGsCePi"
   },
   "source": [
    "**Only if your bucket doesn't already exist**: Run the following cell to create your Cloud Storage bucket."
   ]
  },
  {
   "cell_type": "code",
   "execution_count": null,
   "metadata": {
    "id": "NIq7R4HZCfIc"
   },
   "outputs": [],
   "source": [
    "! gsutil mb -l $REGION -p $PROJECT_ID $BUCKET_URI"
   ]
  },
  {
   "cell_type": "markdown",
   "metadata": {
    "id": "XoEqT2Y4DJmf"
   },
   "source": [
    "### Import libraries and define constants"
   ]
  },
  {
   "cell_type": "markdown",
   "metadata": {
    "id": "Y9Uo3tifg1kx"
   },
   "source": [
    "Import required libraries.\n"
   ]
  },
  {
   "cell_type": "code",
   "execution_count": 5,
   "metadata": {
    "id": "pRUOFELefqf1"
   },
   "outputs": [
    {
     "name": "stderr",
     "output_type": "stream",
     "text": [
      "2023-03-30 11:59:58.829962: I tensorflow/core/platform/cpu_feature_guard.cc:193] This TensorFlow binary is optimized with oneAPI Deep Neural Network Library (oneDNN) to use the following CPU instructions in performance-critical operations:  AVX2 FMA\n",
      "To enable them in other operations, rebuild TensorFlow with the appropriate compiler flags.\n",
      "2023-03-30 12:00:08.343768: W tensorflow/compiler/xla/stream_executor/platform/default/dso_loader.cc:64] Could not load dynamic library 'libnvinfer.so.7'; dlerror: libnvinfer.so.7: cannot open shared object file: No such file or directory; LD_LIBRARY_PATH: /usr/local/cuda/lib64:/usr/local/nccl2/lib:/usr/local/cuda/extras/CUPTI/lib64\n",
      "2023-03-30 12:00:08.345166: W tensorflow/compiler/xla/stream_executor/platform/default/dso_loader.cc:64] Could not load dynamic library 'libnvinfer_plugin.so.7'; dlerror: libnvinfer_plugin.so.7: cannot open shared object file: No such file or directory; LD_LIBRARY_PATH: /usr/local/cuda/lib64:/usr/local/nccl2/lib:/usr/local/cuda/extras/CUPTI/lib64\n",
      "2023-03-30 12:00:08.345185: W tensorflow/compiler/tf2tensorrt/utils/py_utils.cc:38] TF-TRT Warning: Cannot dlopen some TensorRT libraries. If you would like to use Nvidia GPU with TensorRT, please make sure the missing libraries mentioned above are installed properly.\n"
     ]
    }
   ],
   "source": [
    "import os\n",
    "\n",
    "import pandas as pd\n",
    "from google.cloud import aiplatform\n",
    "from sklearn.metrics import mean_absolute_error, mean_squared_error\n",
    "from tensorflow.python.keras.utils import data_utils"
   ]
  },
  {
   "cell_type": "markdown",
   "metadata": {
    "id": "O8XJZB3gR8eL"
   },
   "source": [
    "## Initialize Vertex AI and set an _experiment_\n"
   ]
  },
  {
   "cell_type": "markdown",
   "metadata": {
    "id": "xtXZWmYqJ1bh"
   },
   "source": [
    "Define experiment name."
   ]
  },
  {
   "cell_type": "code",
   "execution_count": 6,
   "metadata": {
    "id": "JIOrI-hoJ46P"
   },
   "outputs": [],
   "source": [
    "EXPERIMENT_NAME = \"my-experiment-unique\""
   ]
  },
  {
   "cell_type": "markdown",
   "metadata": {
    "id": "DKIsYVjj56_X"
   },
   "source": [
    "Initialize the *client* for Vertex AI."
   ]
  },
  {
   "cell_type": "code",
   "execution_count": 7,
   "metadata": {
    "id": "Wrlk2B2nJ7-X"
   },
   "outputs": [],
   "source": [
    "aiplatform.init(\n",
    "    project=PROJECT_ID,\n",
    "    location=REGION,\n",
    "    staging_bucket=BUCKET_URI,\n",
    "    experiment=EXPERIMENT_NAME,\n",
    ")"
   ]
  },
  {
   "cell_type": "markdown",
   "metadata": {
    "id": "6PlilQPFeS_h"
   },
   "source": [
    "## Tracking parameters and metrics in Vertex AI custom training jobs"
   ]
  },
  {
   "cell_type": "markdown",
   "metadata": {
    "id": "f8fd397cc4f6"
   },
   "source": [
    "### Download the Dataset to Cloud Storage"
   ]
  },
  {
   "cell_type": "code",
   "execution_count": 8,
   "metadata": {
    "id": "V_T10yTTqcS_"
   },
   "outputs": [
    {
     "name": "stdout",
     "output_type": "stream",
     "text": [
      "--2023-03-30 12:00:40--  https://storage.googleapis.com/download.tensorflow.org/data/abalone_train.csv\n",
      "Resolving storage.googleapis.com (storage.googleapis.com)... 74.125.142.128, 74.125.195.128, 172.253.117.128, ...\n",
      "Connecting to storage.googleapis.com (storage.googleapis.com)|74.125.142.128|:443... connected.\n",
      "HTTP request sent, awaiting response... 200 OK\n",
      "Length: 145915 (142K) [text/csv]\n",
      "Saving to: ‘abalone_train.csv’\n",
      "\n",
      "abalone_train.csv   100%[===================>] 142.50K  --.-KB/s    in 0.002s  \n",
      "\n",
      "2023-03-30 12:00:40 (74.9 MB/s) - ‘abalone_train.csv’ saved [145915/145915]\n",
      "\n",
      "Copying file://abalone_train.csv [Content-Type=text/csv]...\n",
      "- [1 files][142.5 KiB/142.5 KiB]                                                \n",
      "Operation completed over 1 objects/142.5 KiB.                                    \n"
     ]
    }
   ],
   "source": [
    "!wget https://storage.googleapis.com/download.tensorflow.org/data/abalone_train.csv\n",
    "!gsutil cp abalone_train.csv {BUCKET_URI}/data/\n",
    "\n",
    "gcs_csv_path = f\"{BUCKET_URI}/data/abalone_train.csv\""
   ]
  },
  {
   "cell_type": "markdown",
   "metadata": {
    "id": "35QVNhACqcTJ"
   },
   "source": [
    "### Create a Vertex AI Tabular dataset from CSV data\n",
    "\n",
    "A Vertex AI dataset can be used to create an AutoML model or a custom model. "
   ]
  },
  {
   "cell_type": "code",
   "execution_count": 9,
   "metadata": {
    "id": "4OfCqaYRqcTJ"
   },
   "outputs": [
    {
     "name": "stdout",
     "output_type": "stream",
     "text": [
      "Creating TabularDataset\n",
      "Create TabularDataset backing LRO: projects/354621994428/locations/us-central1/datasets/4852600011189387264/operations/5429174906543669248\n",
      "TabularDataset created. Resource name: projects/354621994428/locations/us-central1/datasets/4852600011189387264\n",
      "To use this TabularDataset in another session:\n",
      "ds = aiplatform.TabularDataset('projects/354621994428/locations/us-central1/datasets/4852600011189387264')\n"
     ]
    },
    {
     "data": {
      "text/plain": [
       "'projects/354621994428/locations/us-central1/datasets/4852600011189387264'"
      ]
     },
     "execution_count": 9,
     "metadata": {},
     "output_type": "execute_result"
    }
   ],
   "source": [
    "ds = aiplatform.TabularDataset.create(display_name=\"abalone\", gcs_source=[gcs_csv_path])\n",
    "\n",
    "ds.resource_name"
   ]
  },
  {
   "cell_type": "markdown",
   "metadata": {
    "id": "VcEOYYolqcTN"
   },
   "source": [
    "### Write the training script\n",
    "\n",
    "Next, you create the training script that is used in the sample custom training job."
   ]
  },
  {
   "cell_type": "code",
   "execution_count": 10,
   "metadata": {
    "id": "OauJqJmJqcTO"
   },
   "outputs": [
    {
     "name": "stdout",
     "output_type": "stream",
     "text": [
      "Writing training_script.py\n"
     ]
    }
   ],
   "source": [
    "%%writefile training_script.py\n",
    "\n",
    "import pandas as pd\n",
    "import argparse\n",
    "import os\n",
    "import tensorflow as tf\n",
    "from tensorflow import keras\n",
    "from tensorflow.keras import layers\n",
    "\n",
    "parser = argparse.ArgumentParser()\n",
    "parser.add_argument('--epochs', dest='epochs',\n",
    "                    default=10, type=int,\n",
    "                    help='Number of epochs.')\n",
    "parser.add_argument('--num_units', dest='num_units',\n",
    "                    default=64, type=int,\n",
    "                    help='Number of unit for first layer.')\n",
    "args = parser.parse_args()\n",
    "\n",
    "col_names = [\"Length\", \"Diameter\", \"Height\", \"Whole weight\", \"Shucked weight\", \"Viscera weight\", \"Shell weight\", \"Age\"]\n",
    "target = \"Age\"\n",
    "\n",
    "def aip_data_to_dataframe(wild_card_path):\n",
    "    return pd.concat([pd.read_csv(fp.numpy().decode(), names=col_names)\n",
    "                      for fp in tf.data.Dataset.list_files([wild_card_path])])\n",
    "\n",
    "def get_features_and_labels(df):\n",
    "    return df.drop(target, axis=1).values, df[target].values\n",
    "\n",
    "def data_prep(wild_card_path):\n",
    "    return get_features_and_labels(aip_data_to_dataframe(wild_card_path))\n",
    "\n",
    "\n",
    "model = tf.keras.Sequential([layers.Dense(args.num_units), layers.Dense(1)])\n",
    "model.compile(loss='mse', optimizer='adam')\n",
    "\n",
    "model.fit(*data_prep(os.environ[\"AIP_TRAINING_DATA_URI\"]),\n",
    "          epochs=args.epochs ,\n",
    "          validation_data=data_prep(os.environ[\"AIP_VALIDATION_DATA_URI\"]))\n",
    "print(model.evaluate(*data_prep(os.environ[\"AIP_TEST_DATA_URI\"])))\n",
    "\n",
    "# save as Vertex AI Managed model\n",
    "tf.saved_model.save(model, os.environ[\"AIP_MODEL_DIR\"])"
   ]
  },
  {
   "cell_type": "markdown",
   "metadata": {
    "id": "Yp2clkOJSDhR"
   },
   "source": [
    "### Launch a custom training job and track its trainig parameters on Vertex ML Metadata"
   ]
  },
  {
   "cell_type": "code",
   "execution_count": 11,
   "metadata": {
    "id": "btb6d48lqcTT"
   },
   "outputs": [],
   "source": [
    "job = aiplatform.CustomTrainingJob(\n",
    "    display_name=\"train-abalone-dist-1-replica\",\n",
    "    script_path=\"training_script.py\",\n",
    "    container_uri=\"us-docker.pkg.dev/vertex-ai/training/tf-cpu.2-8:latest\",\n",
    "    requirements=[\"gcsfs==0.7.1\"],\n",
    "    model_serving_container_image_uri=\"us-docker.pkg.dev/vertex-ai/prediction/tf2-cpu.2-8:latest\",\n",
    ")"
   ]
  },
  {
   "cell_type": "markdown",
   "metadata": {
    "id": "k_QorXXztzPH"
   },
   "source": [
    "Start a new experiment run to track training parameters and start the training job. Note that this operation will take around 10 mins."
   ]
  },
  {
   "cell_type": "code",
   "execution_count": 12,
   "metadata": {
    "id": "oVTORjQpJ7-Y"
   },
   "outputs": [
    {
     "name": "stdout",
     "output_type": "stream",
     "text": [
      "Associating projects/354621994428/locations/us-central1/metadataStores/default/contexts/my-experiment-unique-custom-training-run-unique to Experiment: my-experiment-unique\n",
      "Training script copied to:\n",
      "gs://ds-training-380514/aiplatform-2023-03-30-12:01:06.584-aiplatform_custom_trainer_script-0.1.tar.gz.\n",
      "Training Output directory:\n",
      "gs://ds-training-380514/aiplatform-custom-training-2023-03-30-12:01:06.802 \n",
      "No dataset split provided. The service will use a default split.\n",
      "View Training:\n",
      "https://console.cloud.google.com/ai/platform/locations/us-central1/training/7036188734827528192?project=354621994428\n",
      "CustomTrainingJob projects/354621994428/locations/us-central1/trainingPipelines/7036188734827528192 current state:\n",
      "PipelineState.PIPELINE_STATE_RUNNING\n",
      "CustomTrainingJob projects/354621994428/locations/us-central1/trainingPipelines/7036188734827528192 current state:\n",
      "PipelineState.PIPELINE_STATE_RUNNING\n",
      "CustomTrainingJob projects/354621994428/locations/us-central1/trainingPipelines/7036188734827528192 current state:\n",
      "PipelineState.PIPELINE_STATE_RUNNING\n",
      "CustomTrainingJob projects/354621994428/locations/us-central1/trainingPipelines/7036188734827528192 current state:\n",
      "PipelineState.PIPELINE_STATE_RUNNING\n",
      "View backing custom job:\n",
      "https://console.cloud.google.com/ai/platform/locations/us-central1/training/4405153341949083648?project=354621994428\n",
      "CustomTrainingJob projects/354621994428/locations/us-central1/trainingPipelines/7036188734827528192 current state:\n",
      "PipelineState.PIPELINE_STATE_RUNNING\n",
      "CustomTrainingJob projects/354621994428/locations/us-central1/trainingPipelines/7036188734827528192 current state:\n",
      "PipelineState.PIPELINE_STATE_RUNNING\n",
      "CustomTrainingJob run completed. Resource name: projects/354621994428/locations/us-central1/trainingPipelines/7036188734827528192\n",
      "Model available at projects/354621994428/locations/us-central1/models/4586927215593127936\n"
     ]
    }
   ],
   "source": [
    "aiplatform.start_run(\n",
    "    \"custom-training-run-unique\"\n",
    ")  # Change this to your desired run name\n",
    "parameters = {\"epochs\": 10, \"num_units\": 64}\n",
    "aiplatform.log_params(parameters)\n",
    "\n",
    "model = job.run(\n",
    "    ds,\n",
    "    replica_count=1,\n",
    "    model_display_name=\"abalone-model\",\n",
    "    args=[f\"--epochs={parameters['epochs']}\", f\"--num_units={parameters['num_units']}\"],\n",
    ")"
   ]
  },
  {
   "cell_type": "markdown",
   "metadata": {
    "id": "5vhDsMJNqcTW"
   },
   "source": [
    "### Deploy model and calculate prediction metrics"
   ]
  },
  {
   "cell_type": "markdown",
   "metadata": {
    "id": "O-uCOL3Naap4"
   },
   "source": [
    "Next, deploy your Vertex AI Model resource to a Vertex AI Endpoint resource. This operation will take 10-20 mins."
   ]
  },
  {
   "cell_type": "code",
   "execution_count": 13,
   "metadata": {
    "id": "Y9GH72wWqcTX"
   },
   "outputs": [
    {
     "name": "stdout",
     "output_type": "stream",
     "text": [
      "Creating Endpoint\n",
      "Create Endpoint backing LRO: projects/354621994428/locations/us-central1/endpoints/7161510657844576256/operations/8887939420364210176\n",
      "Endpoint created. Resource name: projects/354621994428/locations/us-central1/endpoints/7161510657844576256\n",
      "To use this Endpoint in another session:\n",
      "endpoint = aiplatform.Endpoint('projects/354621994428/locations/us-central1/endpoints/7161510657844576256')\n",
      "Deploying model to Endpoint : projects/354621994428/locations/us-central1/endpoints/7161510657844576256\n",
      "Deploy Endpoint model backing LRO: projects/354621994428/locations/us-central1/endpoints/7161510657844576256/operations/3686281850751287296\n",
      "Endpoint model deployed. Resource name: projects/354621994428/locations/us-central1/endpoints/7161510657844576256\n"
     ]
    }
   ],
   "source": [
    "endpoint = model.deploy(machine_type=\"n1-standard-4\")"
   ]
  },
  {
   "cell_type": "markdown",
   "metadata": {
    "id": "JY-5skFhasWs"
   },
   "source": [
    "### Prediction dataset preparation and online prediction"
   ]
  },
  {
   "cell_type": "markdown",
   "metadata": {
    "id": "saw50bqwa-dR"
   },
   "source": [
    "Once model is deployed, perform online prediction using the `abalone_test` dataset and calculate prediction metrics.\n",
    "\n",
    "Prepare the prediction dataset."
   ]
  },
  {
   "cell_type": "code",
   "execution_count": 14,
   "metadata": {
    "id": "ABZQmqsWISQv"
   },
   "outputs": [
    {
     "name": "stdout",
     "output_type": "stream",
     "text": [
      "Downloading data from https://storage.googleapis.com/download.tensorflow.org/data/abalone_test.csv\n",
      "40960/37298 [================================] - 0s 0us/step\n"
     ]
    }
   ],
   "source": [
    "def read_data(uri):\n",
    "    dataset_path = data_utils.get_file(\"abalone_test.data\", uri)\n",
    "    col_names = [\n",
    "        \"Length\",\n",
    "        \"Diameter\",\n",
    "        \"Height\",\n",
    "        \"Whole weight\",\n",
    "        \"Shucked weight\",\n",
    "        \"Viscera weight\",\n",
    "        \"Shell weight\",\n",
    "        \"Age\",\n",
    "    ]\n",
    "    dataset = pd.read_csv(\n",
    "        dataset_path,\n",
    "        names=col_names,\n",
    "        na_values=\"?\",\n",
    "        comment=\"\\t\",\n",
    "        sep=\",\",\n",
    "        skipinitialspace=True,\n",
    "    )\n",
    "    return dataset\n",
    "\n",
    "\n",
    "def get_features_and_labels(df):\n",
    "    target = \"Age\"\n",
    "    return df.drop(target, axis=1).values, df[target].values\n",
    "\n",
    "\n",
    "test_dataset, test_labels = get_features_and_labels(\n",
    "    read_data(\n",
    "        \"https://storage.googleapis.com/download.tensorflow.org/data/abalone_test.csv\"\n",
    "    )\n",
    ")"
   ]
  },
  {
   "cell_type": "markdown",
   "metadata": {
    "id": "_HphZ38obJeB"
   },
   "source": [
    "Perform online prediction."
   ]
  },
  {
   "cell_type": "code",
   "execution_count": 15,
   "metadata": {
    "id": "eXD-OvsrKmCt"
   },
   "outputs": [
    {
     "data": {
      "text/plain": [
       "Prediction(predictions=[[11.6570635], [12.4179192], [8.30995369], [11.2555704], [9.44998837], [11.4942579], [8.04625416], [11.5015364], [12.6256666], [14.258544], [10.4109612], [8.78882599], [11.1162481], [11.1384935], [10.9905024], [12.0141649], [10.0356741], [10.829381], [9.27385616], [13.5226498], [11.8629942], [8.17604733], [8.23739624], [11.591115], [10.1016836], [10.2749605], [8.24994373], [8.07177258], [8.55493069], [10.9408979], [6.87312651], [12.315938], [8.7740736], [7.32762623], [8.98581409], [10.0040522], [12.2381487], [8.18380737], [10.7228994], [10.2878428], [10.044116], [13.1154318], [7.66227627], [6.85843515], [10.2487955], [7.13678694], [10.4475117], [8.70794868], [9.99186611], [8.42379379], [8.75914097], [10.5295935], [12.0101385], [9.36510944], [11.7337465], [14.1397161], [11.8258486], [11.4375248], [11.3501539], [9.34701252], [12.1684961], [10.8613329], [12.1507359], [9.37644291], [11.136281], [8.57717419], [11.4814005], [6.36391354], [11.7635689], [12.4600067], [9.22762], [9.98212337], [9.95247078], [11.0064], [10.9272375], [9.7697134], [10.9814825], [11.2941275], [10.5507183], [11.3046255], [5.74753428], [10.4591875], [12.9374056], [9.34879], [10.1261759], [8.62066], [8.15762806], [10.5321455], [11.5179968], [7.07213], [10.8679771], [11.226943], [5.62645], [10.74189], [14.3431635], [7.92878771], [6.78755617], [9.17806244], [10.2506351], [10.2237005], [8.16353416], [7.9658246], [10.8697882], [8.3113184], [7.16475058], [7.8104887], [6.71623039], [9.33638859], [8.58215523], [9.55999279], [11.4037533], [7.82817602], [9.78673267], [10.3381386], [8.37258434], [11.5248575], [8.4987278], [10.7474146], [6.09783125], [8.72946072], [11.5235205], [8.75736904], [12.1891508], [11.466464], [10.0813951], [10.42696], [14.3937283], [7.71735287], [11.8671093], [8.47765541], [9.95327091], [10.8272066], [7.21959066], [7.43690062], [7.36467218], [10.3744383], [7.85957289], [10.9489355], [9.12018204], [9.63375092], [7.75589371], [5.58696079], [9.56390285], [7.448915], [10.1030264], [11.1486721], [11.7093325], [11.5673609], [11.3109655], [10.1028414], [8.81064], [8.5063076], [7.38701582], [9.41347599], [10.9690084], [8.51375103], [9.88853168], [10.9974718], [12.2253103], [7.27004385], [7.33238745], [11.4309607], [12.772933], [9.89134884], [9.42080688], [5.31330776], [9.5487833], [13.112649], [8.47220421], [7.59166718], [8.31185055], [8.94973564], [11.3904486], [9.8866806], [14.0180101], [9.31128597], [11.7952261], [6.63681364], [5.40178919], [8.7239542], [8.4955864], [7.6753583], [12.8062887], [7.87402487], [7.53968334], [9.58709812], [8.3920536], [12.7350607], [12.7417517], [9.05838299], [10.6160536], [12.9143095], [9.34753], [8.18597221], [7.05062914], [10.0346518], [13.3932199], [7.49688482], [8.2785511], [12.2988367], [8.88372707], [12.4264097], [10.5011654], [8.03725529], [10.5071468], [8.3727293], [7.79760456], [10.6137514], [10.7146215], [12.7812567], [6.8763833], [7.0244875], [8.55671406], [11.4193506], [11.4320097], [10.0730953], [7.91420746], [10.1783361], [11.6655264], [12.8853426], [11.2102747], [7.14954138], [11.8956604], [8.286726], [9.81057262], [13.4253626], [8.71869564], [11.5839643], [6.78294086], [9.0459013], [9.70925522], [6.10016155], [11.2651663], [6.39063787], [12.6063528], [12.0521231], [8.6686945], [9.69981861], [10.421752], [10.9454355], [12.368535], [9.14631557], [10.8009539], [9.88960934], [11.5550451], [7.34383345], [13.1138525], [11.1211271], [13.2929268], [10.0056925], [9.80177402], [7.23898077], [9.20325661], [11.7257328], [6.97910786], [10.1708765], [12.3494635], [11.2223139], [12.6620026], [11.6553278], [10.0199423], [5.3479166], [15.4170027], [11.847106], [10.0670929], [9.12763309], [10.5250893], [6.70849419], [10.2880878], [10.5986204], [11.2886038], [8.16047859], [10.4710627], [9.56144428], [10.9633093], [8.51571846], [10.5527239], [11.1546469], [9.4578886], [8.50501442], [7.42460489], [11.4052954], [9.36011124], [8.07015228], [11.3803911], [9.23792839], [12.0019484], [8.87683296], [10.0026293], [9.82111645], [12.6116104], [6.92385721], [7.26036787], [11.5699062], [7.13642788], [10.1643925], [9.01913548], [8.40077114], [8.62917805], [10.2411985], [8.95357609], [11.1092577], [8.52199364], [11.6941843], [12.5444441], [9.72768116], [7.60082769], [11.4465666], [11.9913797], [11.7830162], [9.53498363], [12.0211172], [10.561101], [10.481801], [11.1736937], [10.0278873], [9.2438612], [8.50750256], [9.01526451], [10.5920687], [9.30115414], [11.3558788], [10.1945066], [6.59507847], [7.50465202], [11.8115168], [8.99677849], [11.6534929], [9.1736784], [10.0000544], [6.69819736], [12.0429373], [9.52420712], [10.0402288], [15.0359945], [8.52378654], [10.3815727], [8.80953503], [12.0742989], [9.11493778], [14.5211706], [10.4151354], [11.2723684], [10.8082914], [9.9502], [12.0464926], [13.8108606], [10.8429546], [10.3283558], [8.91634464], [7.05848], [12.0546446], [9.91286469], [10.0894289], [9.7132225], [11.601697], [9.24340725], [8.09922218], [11.581234], [10.4811563], [8.78015327], [8.28947926], [7.37754107], [7.12709188], [10.9530268], [9.87306881], [9.81155777], [9.16873455], [12.369195], [8.36124897], [14.8448381], [7.01856184], [8.86044788], [8.77648449], [6.84064722], [12.4674692], [11.2578211], [11.2252512], [8.76170158], [10.5621452], [11.5839891], [9.81548214], [9.20847], [8.05173302], [6.91033792], [10.4475689], [11.400773], [10.3502235], [6.4132266], [12.9154892], [10.0857553], [7.20804548], [11.3955612], [10.126833], [11.3786278], [13.0622234], [10.5644913], [8.78312302], [9.0194273], [7.62964535], [11.5671005], [8.28902912], [10.2601137], [15.1481714], [10.9468918], [10.2065201], [8.47176838], [10.7644606], [9.36465836], [14.1474886], [6.5397172], [14.4064207], [8.50680923], [11.5377455], [10.3353701], [11.126092], [10.2485218], [7.6643548], [9.97325802], [10.46523], [11.2085609], [11.6585274], [7.22031164], [11.6440573], [6.54450226], [6.69183969], [11.3660154], [8.72568798], [10.8718615], [11.7610455], [8.0640831], [8.82469749], [13.1727114], [6.69781351], [14.2641802], [10.242815], [11.1425352], [10.444562], [8.87504864], [6.48519135], [8.90058231], [7.49294853], [7.47249174], [9.90492535], [8.93516], [8.38401318], [10.3451605], [10.0110788], [7.6046052], [13.1251097], [10.0794764], [9.47652149], [9.9728651], [9.29839134], [10.6727457], [9.24282646], [7.88060045], [11.180356], [11.479229], [9.83024216], [10.8878279], [9.71359253], [6.38095], [12.2120266], [9.01149368], [10.4483166], [6.91191339], [11.8826456], [10.5800047], [9.86083698], [8.66419506], [11.0324068], [7.01735353], [11.8419695], [8.80973053], [9.57052], [11.3267212], [11.9208632], [9.4208], [6.52535725], [11.688343], [9.21627712], [10.0430336], [11.66957], [7.60755777], [9.68755054], [11.1960268], [7.52316427], [10.7317219], [10.367382], [9.93337917], [12.162], [8.02271], [7.27014208], [10.301877], [8.66059399], [11.6523752], [12.5125933], [12.8655376], [10.4963226], [7.4712882], [11.7467728], [9.9422636], [11.2219143], [10.5564814], [7.32150316], [11.5139799], [11.1085396], [10.6543446], [7.14908361], [10.2316294], [6.30913973], [9.21601582], [12.3111925], [11.1474276], [9.03562832], [9.59361458], [9.96821117], [9.71559238], [5.12570858], [11.6998491], [11.0518618], [7.36052465], [9.43766308], [10.6221638], [7.76016283], [10.1488466], [11.1560888], [9.75235081], [9.95774555], [10.1247663], [8.732337], [10.4423981], [7.86025333], [11.6957979], [9.92005062], [9.0665617], [10.0408335], [9.83049488], [10.6018858], [10.1630945], [12.4616652], [7.94824266], [11.7732019], [9.19469452], [12.6460676], [11.2521639], [8.6736517], [7.33000422], [8.56442547], [10.5530138], [8.76796436], [14.0352545], [9.27387714], [7.14706755], [6.97033167], [11.5615768], [11.0772104], [8.09974], [13.0241308], [9.60423], [8.56864262], [11.5417261], [10.2775469], [13.7043428], [9.22925949], [7.35776377], [11.7083921], [12.6867046], [8.58697796], [11.2543097], [6.51096058], [12.6767426], [9.22352314], [8.23416615], [9.71667194], [9.99901485], [12.1792269], [10.2273531], [9.13893], [8.72750759], [11.5350008], [7.07709], [11.532506], [11.5596914], [7.84464407], [11.6526012], [10.3060274], [9.22887135], [7.86957], [13.5349159], [10.3545961], [11.4929142], [7.73750925], [11.028101], [11.3255205], [9.80770588], [7.69196701], [10.3550863], [9.92594051], [10.1951828], [8.21559525], [9.62961388], [9.53518581], [10.1449862], [7.25509119], [12.1538048], [9.73001194], [12.6905107], [7.94736147], [8.50481701], [10.3501902], [12.0252619], [7.77252626], [8.27814579], [11.0670977], [7.2161088], [8.48479939], [10.9933596], [10.5522289], [11.5684404], [14.8319006], [11.9998178], [9.98952389], [10.2365808], [9.5823164], [8.45886135], [12.9541845], [12.043334], [12.3605223], [11.3285913], [10.1517878], [9.17734432], [9.35088158], [7.26442146], [8.21975517], [11.2809629], [10.3237772], [5.5398078], [8.3356123], [11.1024275], [13.6945534], [11.8112688], [11.7419634], [10.6691427], [8.83562183], [11.0380926], [9.03700066], [8.62405777], [7.70171785], [8.73570538], [6.40735483], [11.6271772], [10.9683981], [8.76670837], [9.97019], [11.9177856], [6.91508341], [10.9905539], [12.0017576], [8.71147156], [10.6371756], [7.42783594], [11.1438551], [6.99726391], [12.8687763], [12.3605719], [6.32571363], [11.3885918], [9.63803196], [8.43342495], [11.1075544], [8.71842], [12.2008295], [10.2889509], [11.9892836], [9.59333897], [12.1777401], [9.38615], [9.64433575], [8.88973141], [11.5178289], [10.0480108], [9.01882267], [13.8140593], [8.25405788], [10.9540501], [6.94156265], [9.45209503], [11.0273008], [13.2394819], [11.2867575], [8.31876469], [7.81044769], [12.3773594], [10.7065945], [10.4254103], [8.61175251], [7.55544519], [12.2971849], [13.0429125], [9.72788715], [10.406868], [10.0883102], [11.001832], [11.426856], [11.3182278], [13.2242956], [6.43617821], [11.3879728], [7.26721764], [5.55178499], [9.68317127], [11.0852652], [13.5131969], [9.87491226], [10.9903622], [11.5906649], [11.8218679], [10.8528786], [8.72378731], [10.8989954], [10.5982313], [15.3179569], [9.34031105], [11.2036896], [8.27530479], [12.3255091], [12.0467558], [9.30238438], [8.68199825], [8.96876431], [11.6224699], [10.4238052], [13.2055931], [9.29475689], [9.73620701], [10.5086641], [11.3339], [10.8324614], [7.51688719], [12.077714], [9.94738102], [9.24661], [6.53894663], [13.3145666], [9.97308826], [10.070117], [10.4800386], [6.02591419], [10.6494665], [6.93839407], [8.76983356], [12.5749817], [7.12971354], [10.2202196], [10.6821489], [11.617177], [11.1768808], [8.47281647], [8.38598728], [9.30099], [11.330142], [13.6220846], [8.20386124], [11.0197372], [10.0984545], [10.6716509], [8.79379559], [9.8233], [11.1828451], [6.31940126], [10.7704821], [7.05898333], [9.07155895], [11.2141037], [8.08151817], [11.7975721], [7.19334173], [8.6724453], [8.14707375], [9.21272659], [11.2817678], [8.24750423], [10.0761023], [10.2633181], [11.0547171], [7.14481258], [8.48878193], [9.18570614], [8.33793545], [11.748229], [11.9954958], [8.73483849], [11.5417662], [10.1343565], [10.004302], [9.06285191], [10.9816332], [12.3069267], [9.86514378], [7.13226366], [10.4249964], [8.35353756], [10.3034029], [8.00933361], [9.9549], [13.326664], [11.2451067], [12.1882486], [9.29573], [7.92762089], [6.10343409], [9.78350735], [9.49891567], [12.1097822], [8.13171196], [12.2913485], [9.68539429], [8.41806], [11.1266489], [12.5930624], [10.0759506], [10.3614197], [11.0521688], [8.87977791], [9.02511692], [10.3980322], [13.7814722], [7.6598649], [11.6424026], [12.3186474], [11.9519987], [13.1790981], [9.63486], [6.76626921], [11.2811651], [7.73674536], [9.67375565], [11.9128628], [8.44847202], [10.720542], [10.4351892], [13.8918257], [10.6954184], [10.8672886], [10.1515608], [11.2492552], [9.61856], [10.7749729]], deployed_model_id='3220920357523292160', model_version_id='1', model_resource_name='projects/354621994428/locations/us-central1/models/4586927215593127936', explanations=None)"
      ]
     },
     "execution_count": 15,
     "metadata": {},
     "output_type": "execute_result"
    }
   ],
   "source": [
    "prediction = endpoint.predict(test_dataset.tolist())\n",
    "prediction"
   ]
  },
  {
   "cell_type": "markdown",
   "metadata": {
    "id": "TDKiv_O7bNwE"
   },
   "source": [
    "Calculate and track prediction evaluation metrics."
   ]
  },
  {
   "cell_type": "code",
   "execution_count": 16,
   "metadata": {
    "id": "cj0fHucbKopn"
   },
   "outputs": [],
   "source": [
    "mse = mean_squared_error(test_labels, prediction.predictions)\n",
    "mae = mean_absolute_error(test_labels, prediction.predictions)\n",
    "\n",
    "aiplatform.log_metrics({\"mse\": mse, \"mae\": mae})"
   ]
  },
  {
   "cell_type": "markdown",
   "metadata": {
    "id": "CCGmesdIbbHf"
   },
   "source": [
    "### Extract all parameters and metrics created during this experiment."
   ]
  },
  {
   "cell_type": "code",
   "execution_count": 17,
   "metadata": {
    "id": "KlcEBou-Pl4Z"
   },
   "outputs": [
    {
     "data": {
      "text/html": [
       "<div>\n",
       "<style scoped>\n",
       "    .dataframe tbody tr th:only-of-type {\n",
       "        vertical-align: middle;\n",
       "    }\n",
       "\n",
       "    .dataframe tbody tr th {\n",
       "        vertical-align: top;\n",
       "    }\n",
       "\n",
       "    .dataframe thead th {\n",
       "        text-align: right;\n",
       "    }\n",
       "</style>\n",
       "<table border=\"1\" class=\"dataframe\">\n",
       "  <thead>\n",
       "    <tr style=\"text-align: right;\">\n",
       "      <th></th>\n",
       "      <th>experiment_name</th>\n",
       "      <th>run_name</th>\n",
       "      <th>run_type</th>\n",
       "      <th>state</th>\n",
       "      <th>param.num_units</th>\n",
       "      <th>param.epochs</th>\n",
       "      <th>metric.mse</th>\n",
       "      <th>metric.mae</th>\n",
       "    </tr>\n",
       "  </thead>\n",
       "  <tbody>\n",
       "    <tr>\n",
       "      <th>0</th>\n",
       "      <td>my-experiment-unique</td>\n",
       "      <td>custom-training-run-unique</td>\n",
       "      <td>system.ExperimentRun</td>\n",
       "      <td>RUNNING</td>\n",
       "      <td>64.0</td>\n",
       "      <td>10.0</td>\n",
       "      <td>7.131057</td>\n",
       "      <td>1.905821</td>\n",
       "    </tr>\n",
       "  </tbody>\n",
       "</table>\n",
       "</div>"
      ],
      "text/plain": [
       "        experiment_name                    run_name              run_type  \\\n",
       "0  my-experiment-unique  custom-training-run-unique  system.ExperimentRun   \n",
       "\n",
       "     state  param.num_units  param.epochs  metric.mse  metric.mae  \n",
       "0  RUNNING             64.0          10.0    7.131057    1.905821  "
      ]
     },
     "execution_count": 17,
     "metadata": {},
     "output_type": "execute_result"
    }
   ],
   "source": [
    "aiplatform.get_experiment_df()"
   ]
  },
  {
   "cell_type": "markdown",
   "metadata": {
    "id": "WTHvPMweMlP1"
   },
   "source": [
    "### View data in the Cloud Console"
   ]
  },
  {
   "cell_type": "markdown",
   "metadata": {
    "id": "F19_5lw0MqXv"
   },
   "source": [
    "Parameters and metrics can also be viewed in the Cloud Console. \n"
   ]
  },
  {
   "cell_type": "code",
   "execution_count": 18,
   "metadata": {
    "id": "GmN9vE9pqqzt"
   },
   "outputs": [
    {
     "name": "stdout",
     "output_type": "stream",
     "text": [
      "Vertex AI Experiments:\n",
      "https://console.cloud.google.com/ai/platform/experiments/experiments?folder=&organizationId=&project=ds-training-380514\n"
     ]
    }
   ],
   "source": [
    "print(\"Vertex AI Experiments:\")\n",
    "print(\n",
    "    f\"https://console.cloud.google.com/ai/platform/experiments/experiments?folder=&organizationId=&project={PROJECT_ID}\"\n",
    ")"
   ]
  },
  {
   "cell_type": "markdown",
   "metadata": {
    "id": "TpV-iwP9qw9c"
   },
   "source": [
    "## Cleaning up\n",
    "\n",
    "To clean up all Google Cloud resources used in this project, you can [delete the Google Cloud\n",
    "project](https://cloud.google.com/resource-manager/docs/creating-managing-projects#shutting_down_projects) you used for the tutorial.\n",
    "\n",
    "Otherwise, you can delete the individual resources you created in this tutorial:\n",
    "Training Job\n",
    "Model\n",
    "Cloud Storage Bucket\n",
    "\n",
    "* Vertex AI Dataset\n",
    "* Training Job\n",
    "* Model\n",
    "* Endpoint\n",
    "* Cloud Storage Bucket\n"
   ]
  },
  {
   "cell_type": "code",
   "execution_count": 19,
   "metadata": {
    "id": "rwPZoZISHhaY"
   },
   "outputs": [
    {
     "name": "stdout",
     "output_type": "stream",
     "text": [
      "Deleting TabularDataset : projects/354621994428/locations/us-central1/datasets/4852600011189387264\n",
      "Delete TabularDataset  backing LRO: projects/354621994428/locations/us-central1/operations/1451370535668678656\n",
      "TabularDataset deleted. . Resource name: projects/354621994428/locations/us-central1/datasets/4852600011189387264\n",
      "Deleting Context : projects/354621994428/locations/us-central1/metadataStores/default/contexts/my-experiment-unique-custom-training-run-unique\n",
      "Delete Context  backing LRO: projects/354621994428/locations/us-central1/metadataStores/default/contexts/my-experiment-unique-custom-training-run-unique/operations/7275650753765572608\n",
      "Context deleted. . Resource name: projects/354621994428/locations/us-central1/metadataStores/default/contexts/my-experiment-unique-custom-training-run-unique\n",
      "Deleting Context : projects/354621994428/locations/us-central1/metadataStores/default/contexts/my-experiment-unique\n",
      "Delete Context  backing LRO: projects/354621994428/locations/us-central1/metadataStores/default/contexts/my-experiment-unique/operations/1961403193468387328\n",
      "Context deleted. . Resource name: projects/354621994428/locations/us-central1/metadataStores/default/contexts/my-experiment-unique\n",
      "Deleting CustomTrainingJob : projects/354621994428/locations/us-central1/trainingPipelines/7036188734827528192\n",
      "Delete CustomTrainingJob  backing LRO: projects/354621994428/locations/us-central1/operations/1181154558026448896\n",
      "CustomTrainingJob deleted. . Resource name: projects/354621994428/locations/us-central1/trainingPipelines/7036188734827528192\n",
      "Undeploying Endpoint model: projects/354621994428/locations/us-central1/endpoints/7161510657844576256\n",
      "Undeploy Endpoint model backing LRO: projects/354621994428/locations/us-central1/endpoints/7161510657844576256/operations/5947088863691276288\n",
      "Endpoint model undeployed. Resource name: projects/354621994428/locations/us-central1/endpoints/7161510657844576256\n",
      "Deleting Endpoint : projects/354621994428/locations/us-central1/endpoints/7161510657844576256\n",
      "Delete Endpoint  backing LRO: projects/354621994428/locations/us-central1/operations/8676270237877796864\n",
      "Endpoint deleted. . Resource name: projects/354621994428/locations/us-central1/endpoints/7161510657844576256\n",
      "Deleting Model : projects/354621994428/locations/us-central1/models/4586927215593127936\n",
      "Delete Model  backing LRO: projects/354621994428/locations/us-central1/operations/9124378400801161216\n",
      "Model deleted. . Resource name: projects/354621994428/locations/us-central1/models/4586927215593127936\n"
     ]
    }
   ],
   "source": [
    "# Warning: Setting this to true will delete everything in your bucket\n",
    "delete_bucket = False\n",
    "\n",
    "# Delete dataset\n",
    "ds.delete()\n",
    "\n",
    "# Delete experiment\n",
    "experiment = aiplatform.Experiment(\n",
    "    experiment_name=EXPERIMENT_NAME, project=PROJECT_ID, location=REGION\n",
    ")\n",
    "experiment.delete()\n",
    "\n",
    "# Delete the training job\n",
    "job.delete()\n",
    "\n",
    "# Undeploy model from endpoint\n",
    "endpoint.undeploy_all()\n",
    "\n",
    "# Delete the endpoint\n",
    "endpoint.delete()\n",
    "\n",
    "# Delete the model\n",
    "model.delete()\n",
    "\n",
    "\n",
    "if delete_bucket or os.getenv(\"IS_TESTING\"):\n",
    "    ! gsutil -m rm -r $BUCKET_URI"
   ]
  }
 ],
 "metadata": {
  "colab": {
   "collapsed_sections": [],
   "name": "sdk-metric-parameter-tracking-for-custom-jobs.ipynb",
   "toc_visible": true
  },
  "environment": {
   "kernel": "python3",
   "name": "tf2-gpu.2-8.m104",
   "type": "gcloud",
   "uri": "gcr.io/deeplearning-platform-release/tf2-gpu.2-8:m104"
  },
  "kernelspec": {
   "display_name": "Python 3 (ipykernel)",
   "language": "python",
   "name": "python3"
  },
  "language_info": {
   "codemirror_mode": {
    "name": "ipython",
    "version": 3
   },
   "file_extension": ".py",
   "mimetype": "text/x-python",
   "name": "python",
   "nbconvert_exporter": "python",
   "pygments_lexer": "ipython3",
   "version": "3.7.12"
  }
 },
 "nbformat": 4,
 "nbformat_minor": 4
}

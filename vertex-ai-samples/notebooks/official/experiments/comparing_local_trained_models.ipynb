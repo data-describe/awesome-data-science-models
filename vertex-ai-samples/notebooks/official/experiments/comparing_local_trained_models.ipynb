{
 "cells": [
  {
   "cell_type": "code",
   "execution_count": null,
   "metadata": {
    "id": "ur8xi4C7S06n"
   },
   "outputs": [],
   "source": [
    "# Copyright 2022 Google LLC\n",
    "#\n",
    "# Licensed under the Apache License, Version 2.0 (the \"License\");\n",
    "# you may not use this file except in compliance with the License.\n",
    "# You may obtain a copy of the License at\n",
    "#\n",
    "#     https://www.apache.org/licenses/LICENSE-2.0\n",
    "#\n",
    "# Unless required by applicable law or agreed to in writing, software\n",
    "# distributed under the License is distributed on an \"AS IS\" BASIS,\n",
    "# WITHOUT WARRANTIES OR CONDITIONS OF ANY KIND, either express or implied.\n",
    "# See the License for the specific language governing permissions and\n",
    "# limitations under the License."
   ]
  },
  {
   "cell_type": "markdown",
   "metadata": {
    "id": "JAPoU8Sm5E6e"
   },
   "source": [
    "# Vertex AI: Track parameters and metrics for locally trained models\n",
    "\n",
    "<table align=\"left\">\n",
    "\n",
    "  <td>\n",
    "    <a href=\"https://colab.research.google.com/github/GoogleCloudPlatform/vertex-ai-samples/blob/main/notebooks/official/experiments/comparing_local_trained_models.ipynb\">\n",
    "      <img src=\"https://cloud.google.com/ml-engine/images/colab-logo-32px.png\" alt=\"Colab logo\"> Run in Colab\n",
    "    </a>\n",
    "  </td>\n",
    "  <td>\n",
    "    <a href=\"https://github.com/GoogleCloudPlatform/vertex-ai-samples/blob/main/notebooks/official/experiments/comparing_local_trained_models.ipynb\">\n",
    "      <img src=\"https://cloud.google.com/ml-engine/images/github-logo-32px.png\" alt=\"GitHub logo\">\n",
    "      View on GitHub\n",
    "    </a>\n",
    "  </td>\n",
    "  <td>\n",
    "    <a href=\"https://console.cloud.google.com/vertex-ai/workbench/deploy-notebook?download_url=https://raw.githubusercontent.com/GoogleCloudPlatform/vertex-ai-samples/main/notebooks/official/experiments/comparing_local_trained_models.ipynb\">\n",
    "      <img src=\"https://lh3.googleusercontent.com/UiNooY4LUgW_oTvpsNhPpQzsstV5W8F7rYgxgGBD85cWJoLmrOzhVs_ksK_vgx40SHs7jCqkTkCk=e14-rj-sc0xffffff-h130-w32\" alt=\"Vertex AI logo\">\n",
    "      Open in Vertex AI Workbench\n",
    "    </a>\n",
    "  </td>                                                                                               \n",
    "</table>"
   ]
  },
  {
   "cell_type": "markdown",
   "metadata": {
    "id": "7c5ad9693bbb"
   },
   "source": [
    "## Overview\n",
    "\n",
    "As a Data Scientist, you probably start running model experiments locally on your notebook. Depending on the framework you use, you would need to track parameters, training time series and evaluation metrics. In this way, you would be able to explain the modelling approach you would choose. \n",
    "\n",
    "Learn more about [Vertex AI Experiments](https://cloud.google.com/vertex-ai/docs/experiments/intro-vertex-ai-experiments)."
   ]
  },
  {
   "cell_type": "markdown",
   "metadata": {
    "id": "209510393d45"
   },
   "source": [
    "### Objective\n",
    "\n",
    "In this tutorial, you learn how to use Vertex AI Experiments to compare and evaluate model experiments.\n",
    "\n",
    "This tutorial uses the following Google Cloud ML services and resources:\n",
    "\n",
    "- Vertex AI Workbench\n",
    "- Vertex AI Experiments\n",
    "\n",
    "The steps performed include:\n",
    "\n",
    "- log the model parameters\n",
    "- log the loss and metrics on every epoch to TensorBoard\n",
    "- log the evaluation metrics\n"
   ]
  },
  {
   "cell_type": "markdown",
   "metadata": {
    "id": "6f14730ed9af"
   },
   "source": [
    "### Dataset\n",
    "\n",
    "In this notebook, we will train a simple distributed neural network (DNN) model to predict automobile's miles per gallon (MPG) based on automobile information in the [auto-mpg dataset](https://www.kaggle.com/devanshbesain/exploration-and-analysis-auto-mpg).\n"
   ]
  },
  {
   "cell_type": "markdown",
   "metadata": {
    "id": "tvgnzT1CKxrO"
   },
   "source": [
    "### Costs \n",
    "\n",
    "This tutorial uses billable components of Google Cloud:\n",
    "\n",
    "* Vertex AI\n",
    "* Vertex AI TensorBoard\n",
    "* Cloud Storage\n",
    "\n",
    "Learn about [Vertex AI\n",
    "pricing](https://cloud.google.com/vertex-ai/pricing) and [Cloud Storage\n",
    "pricing](https://cloud.google.com/storage/pricing), and use the [Pricing\n",
    "Calculator](https://cloud.google.com/products/calculator/)\n",
    "to generate a cost estimate based on your projected usage."
   ]
  },
  {
   "cell_type": "markdown",
   "metadata": {
    "id": "gCuSR8GkAgzl"
   },
   "source": [
    "### Set up your local development environment\n",
    "\n",
    "**If you are using Colab or Vertex AI Workbench Notebooks**, your environment already meets\n",
    "all the requirements to run this notebook. You can skip this step.\n",
    "\n",
    "**Otherwise**, make sure your environment meets this notebook's requirements.\n",
    "You need the following:\n",
    "\n",
    "* The Google Cloud SDK\n",
    "* Git\n",
    "* Python 3\n",
    "* virtualenv\n",
    "* Jupyter notebook running in a virtual environment with Python 3\n",
    "\n",
    "The Google Cloud guide to [Setting up a Python development\n",
    "environment](https://cloud.google.com/python/setup) and the [Jupyter\n",
    "installation guide](https://jupyter.org/install) provide detailed instructions\n",
    "for meeting these requirements. The following steps provide a condensed set of\n",
    "instructions:\n",
    "\n",
    "1. [Install and initialize the Cloud SDK.](https://cloud.google.com/sdk/docs/)\n",
    "\n",
    "1. [Install Python 3.](https://cloud.google.com/python/setup#installing_python)\n",
    "\n",
    "1. [Install\n",
    "   virtualenv](https://cloud.google.com/python/setup#installing_and_using_virtualenv)\n",
    "   and create a virtual environment that uses Python 3. Activate the virtual environment.\n",
    "\n",
    "1. To install Jupyter, run `pip3 install jupyter` on the\n",
    "command-line in a terminal shell.\n",
    "\n",
    "1. To launch Jupyter, run `jupyter notebook` on the command-line in a terminal shell.\n",
    "\n",
    "1. Open this notebook in the Jupyter Notebook Dashboard."
   ]
  },
  {
   "cell_type": "markdown",
   "metadata": {
    "id": "i7EUnXsZhAGF"
   },
   "source": [
    "### Install additional packages\n",
    "\n",
    "Install additional package dependencies not installed in your notebook environment, such as TensorFlow and Vertex AI SDK. Use the latest major GA version of each package."
   ]
  },
  {
   "cell_type": "code",
   "execution_count": null,
   "metadata": {
    "id": "IaYsrh0Tc17L"
   },
   "outputs": [],
   "source": [
    "import os\n",
    "\n",
    "# The Vertex AI Workbench Notebook product has specific requirements\n",
    "IS_WORKBENCH_NOTEBOOK = os.getenv(\"DL_ANACONDA_HOME\") and not os.getenv(\"VIRTUAL_ENV\")\n",
    "IS_USER_MANAGED_WORKBENCH_NOTEBOOK = os.path.exists(\n",
    "    \"/opt/deeplearning/metadata/env_version\"\n",
    ")\n",
    "\n",
    "# Vertex AI Notebook requires dependencies to be installed with '--user'\n",
    "USER_FLAG = \"\"\n",
    "if IS_WORKBENCH_NOTEBOOK:\n",
    "    USER_FLAG = \"--user\"\n",
    "\n",
    "# ! pip3 install {USER_FLAG} tensorflow==2.8 google-cloud-aiplatform -q --no-warn-conflicts"
   ]
  },
  {
   "cell_type": "markdown",
   "metadata": {
    "id": "hhq5zEbGg0XX"
   },
   "source": [
    "### Restart the kernel\n",
    "\n",
    "After you install the additional packages, you need to restart the notebook kernel so it can find the packages."
   ]
  },
  {
   "cell_type": "code",
   "execution_count": null,
   "metadata": {
    "id": "EzrelQZ22IZj"
   },
   "outputs": [],
   "source": [
    "# # Automatically restart kernel after installs\n",
    "# import os\n",
    "\n",
    "# if not os.getenv(\"IS_TESTING\"):\n",
    "#     # Automatically restart kernel after installs\n",
    "#     import IPython\n",
    "\n",
    "#     app = IPython.Application.instance()\n",
    "#     app.kernel.do_shutdown(True)"
   ]
  },
  {
   "cell_type": "markdown",
   "metadata": {
    "id": "lWEdiXsJg0XY"
   },
   "source": [
    "## Before you begin"
   ]
  },
  {
   "cell_type": "markdown",
   "metadata": {
    "id": "BF1j6f9HApxa"
   },
   "source": [
    "### Set up your Google Cloud project\n",
    "\n",
    "**The following steps are required, regardless of your notebook environment.**\n",
    "\n",
    "1. [Select or create a Google Cloud project](https://console.cloud.google.com/cloud-resource-manager). When you first create an account, you get a $300 free credit towards your compute/storage costs.\n",
    "\n",
    "1. [Make sure that billing is enabled for your project](https://cloud.google.com/billing/docs/how-to/modify-project).\n",
    "\n",
    "1. [Enable APIs](https://console.cloud.google.com/flows/enableapi?apiid=cloudresourcemanager.googleapis.com,aiplatform.googleapis.com).\n",
    "\n",
    "1. If you are running this notebook locally, you will need to install the [Cloud SDK](https://cloud.google.com/sdk).\n",
    "\n",
    "1. Enter your project ID in the cell below. Then run the cell to make sure the\n",
    "Cloud SDK uses the right project for all the commands in this notebook.\n",
    "\n",
    "**Note**: Jupyter runs lines prefixed with `!` as shell commands, and it interpolates Python variables prefixed with `$` into these commands."
   ]
  },
  {
   "cell_type": "markdown",
   "metadata": {
    "id": "WReHDGG5g0XY"
   },
   "source": [
    "#### Set your project ID\n",
    "\n",
    "**If you don't know your project ID**, you may be able to get your project ID using `gcloud`."
   ]
  },
  {
   "cell_type": "code",
   "execution_count": 1,
   "metadata": {
    "id": "cd85f5c794e5"
   },
   "outputs": [],
   "source": [
    "PROJECT_ID = \"[your-project-id]\"  # @param {type:\"string\"}"
   ]
  },
  {
   "cell_type": "code",
   "execution_count": 2,
   "metadata": {
    "id": "oM1iC_MfAts1"
   },
   "outputs": [
    {
     "name": "stdout",
     "output_type": "stream",
     "text": [
      "Project ID: mwpmltr\n"
     ]
    }
   ],
   "source": [
    "if PROJECT_ID == \"\" or PROJECT_ID is None or PROJECT_ID == \"[your-project-id]\":\n",
    "    # Get your GCP project id from gcloud\n",
    "    shell_output = ! gcloud config list --format 'value(core.project)' 2>/dev/null\n",
    "    PROJECT_ID = shell_output[0]\n",
    "    print(\"Project ID:\", PROJECT_ID)"
   ]
  },
  {
   "cell_type": "code",
   "execution_count": 3,
   "metadata": {
    "id": "30e64c0eda41"
   },
   "outputs": [
    {
     "name": "stdout",
     "output_type": "stream",
     "text": [
      "Updated property [core/project].\n"
     ]
    }
   ],
   "source": [
    "! gcloud config set project $PROJECT_ID"
   ]
  },
  {
   "cell_type": "markdown",
   "metadata": {
    "id": "717d548a9e90"
   },
   "source": [
    "#### Get your project number {TODO: Include these cells if the notebook uses a project number}\n",
    "Now that the project ID is set, you get your corresponding project number."
   ]
  },
  {
   "cell_type": "code",
   "execution_count": 4,
   "metadata": {
    "id": "7647b76e5fd7"
   },
   "outputs": [
    {
     "name": "stdout",
     "output_type": "stream",
     "text": [
      "Project Number: 55590906972\n"
     ]
    }
   ],
   "source": [
    "shell_output = ! gcloud projects list --filter=\"PROJECT_ID:'{PROJECT_ID}'\" --format='value(PROJECT_NUMBER)'\n",
    "PROJECT_NUMBER = shell_output[0]\n",
    "print(\"Project Number:\", PROJECT_NUMBER)"
   ]
  },
  {
   "cell_type": "markdown",
   "metadata": {
    "id": "region"
   },
   "source": [
    "#### Region\n",
    "\n",
    "You can also change the `REGION` variable, which is used for operations\n",
    "throughout the rest of this notebook.  Below are regions supported for Vertex AI. We recommend that you choose the region closest to you.\n",
    "\n",
    "- Americas: `us-central1`\n",
    "- Europe: `europe-west4`\n",
    "- Asia Pacific: `asia-east1`\n",
    "\n",
    "You may not use a multi-regional bucket for training with Vertex AI. Not all regions provide support for all Vertex AI services.\n",
    "\n",
    "Learn more about [Vertex AI regions](https://cloud.google.com/vertex-ai/docs/general/locations)."
   ]
  },
  {
   "cell_type": "code",
   "execution_count": 5,
   "metadata": {
    "id": "region"
   },
   "outputs": [],
   "source": [
    "REGION = \"[your-region]\"  # @param {type: \"string\"}\n",
    "\n",
    "if REGION == \"[your-region]\":\n",
    "    REGION = \"us-central1\""
   ]
  },
  {
   "cell_type": "markdown",
   "metadata": {
    "id": "06571eb4063b"
   },
   "source": [
    "#### UUID\n",
    "\n",
    "If you are in a live tutorial session, you might be using a shared test account or project. To avoid name collisions between users on resources created, you create a uuid for each instance session, and append it onto the name of resources you create in this tutorial."
   ]
  },
  {
   "cell_type": "code",
   "execution_count": null,
   "metadata": {
    "id": "697568e92bd6"
   },
   "outputs": [],
   "source": [
    "# import random\n",
    "# import string\n",
    "\n",
    "\n",
    "# # Generate a uuid of a specifed length(default=8)\n",
    "# def generate_uuid(length: int = 8) -> str:\n",
    "#     return \"\".join(random.choices(string.ascii_lowercase + string.digits, k=length))\n",
    "\n",
    "\n",
    "# UUID = generate_uuid()"
   ]
  },
  {
   "cell_type": "code",
   "execution_count": 6,
   "metadata": {},
   "outputs": [],
   "source": [
    "UUID='0obvksai'"
   ]
  },
  {
   "cell_type": "markdown",
   "metadata": {
    "id": "05030c0446bc"
   },
   "source": [
    "### Authenticate your Google Cloud account\n",
    "\n",
    "**If you are using Vertex AI Workbench Notebooks**, your environment is already\n",
    "authenticated. Skip this step.\n",
    "\n",
    "**If you are using Colab**, run the cell below and follow the instructions\n",
    "when prompted to authenticate your account via oAuth.\n",
    "\n",
    "**Otherwise**, follow these steps:\n",
    "\n",
    "1. In the Cloud Console, go to the [**Create service account key**\n",
    "   page](https://console.cloud.google.com/apis/credentials/serviceaccountkey).\n",
    "\n",
    "2. Click **Create service account**.\n",
    "\n",
    "3. In the **Service account name** field, enter a name, and\n",
    "   click **Create**.\n",
    "\n",
    "4. In the **Grant this service account access to project** section, click the **Role** drop-down list. Type and select\n",
    "the following role into the filter box:\n",
    "\n",
    "    *   Storage Admin\n",
    "    *   Storage Object Admin\n",
    "    *   Service Account User\n",
    "    *   Vertex AI Administrator\n",
    "\n",
    "\n",
    "5. Click *Create*. A JSON file that contains your key downloads to your\n",
    "local environment.\n",
    "\n",
    "6. Enter the path to your service account key as the\n",
    "`GOOGLE_APPLICATION_CREDENTIALS` variable in the cell below and run the cell."
   ]
  },
  {
   "cell_type": "code",
   "execution_count": 7,
   "metadata": {
    "id": "201e8e760d22"
   },
   "outputs": [],
   "source": [
    "# If you are running this notebook in Colab, run this cell and follow the\n",
    "# instructions to authenticate your GCP account. This provides access to your\n",
    "# Cloud Storage bucket and lets you submit training jobs and prediction\n",
    "# requests.\n",
    "\n",
    "import os\n",
    "import sys\n",
    "\n",
    "# If on Vertex AI Workbench, then don't execute this code\n",
    "IS_COLAB = \"google.colab\" in sys.modules\n",
    "if not os.path.exists(\"/opt/deeplearning/metadata/env_version\") and not os.getenv(\n",
    "    \"DL_ANACONDA_HOME\"\n",
    "):\n",
    "    if \"google.colab\" in sys.modules:\n",
    "        from google.colab import auth as google_auth\n",
    "\n",
    "        google_auth.authenticate_user()\n",
    "\n",
    "    # If you are running this notebook locally, replace the string below with the\n",
    "    # path to your service account key and run this cell to authenticate your GCP\n",
    "    # account.\n",
    "    elif not os.getenv(\"IS_TESTING\"):\n",
    "        %env GOOGLE_APPLICATION_CREDENTIALS ''"
   ]
  },
  {
   "cell_type": "markdown",
   "metadata": {
    "id": "818dcc274793"
   },
   "source": [
    "### Create a Cloud Storage bucket\n",
    "\n",
    "**The following steps are required, regardless of your notebook environment.**\n",
    "\n",
    "When you initialize the Vertex SDK for Python, you specify a Cloud Storage staging bucket. The staging bucket is where all the data associated with your dataset and model resources are retained across sessions.\n",
    "\n",
    "Set the name of your Cloud Storage bucket below. Bucket names must be globally unique across all Google Cloud projects, including those outside of your organization."
   ]
  },
  {
   "cell_type": "code",
   "execution_count": 8,
   "metadata": {
    "id": "f78cf4290843"
   },
   "outputs": [],
   "source": [
    "BUCKET_NAME = \"[your-bucket-name]\"  # @param {type:\"string\"}\n",
    "BUCKET_URI = f\"gs://{BUCKET_NAME}\""
   ]
  },
  {
   "cell_type": "code",
   "execution_count": 9,
   "metadata": {
    "id": "0a407d8b11f6"
   },
   "outputs": [],
   "source": [
    "if BUCKET_NAME == \"\" or BUCKET_NAME is None or BUCKET_NAME == \"[your-bucket-name]\":\n",
    "    BUCKET_NAME = PROJECT_ID + \"-aip-\" + UUID\n",
    "    BUCKET_URI = f\"gs://{BUCKET_NAME}\""
   ]
  },
  {
   "cell_type": "markdown",
   "metadata": {
    "id": "a8a62bec0259"
   },
   "source": [
    "**Only if your bucket doesn't already exist**: Run the following cell to create your Cloud Storage bucket."
   ]
  },
  {
   "cell_type": "code",
   "execution_count": null,
   "metadata": {
    "id": "91c46850b49b"
   },
   "outputs": [],
   "source": [
    "# ! gsutil mb -l $REGION -p $PROJECT_ID $BUCKET_URI"
   ]
  },
  {
   "cell_type": "markdown",
   "metadata": {
    "id": "4e69d430073b"
   },
   "source": [
    "Finally, validate access to your Cloud Storage bucket by examining its contents:"
   ]
  },
  {
   "cell_type": "code",
   "execution_count": 10,
   "metadata": {
    "id": "835eaacd691f"
   },
   "outputs": [],
   "source": [
    "! gsutil ls -al $BUCKET_URI"
   ]
  },
  {
   "cell_type": "markdown",
   "metadata": {
    "id": "sBCra4QMA2wR"
   },
   "source": [
    "**If you are using Colab**, run the cell below and follow the instructions\n",
    "when prompted to authenticate your account via oAuth.\n",
    "\n",
    "**Otherwise**, follow these steps:\n",
    "\n",
    "1. In the Cloud Console, go to the [**Create service account key**\n",
    "   page](https://console.cloud.google.com/apis/credentials/serviceaccountkey).\n",
    "\n",
    "2. Click **Create service account**.\n",
    "\n",
    "3. In the **Service account name** field, enter a name, and\n",
    "   click **Create**.\n",
    "\n",
    "4. In the **Grant this service account access to project** section, click the **Role** drop-down list. Type \"Vertex AI\"\n",
    "into the filter box, and select\n",
    "   **Vertex AI Administrator**. Type \"Storage Object Admin\" into the filter box, and select **Storage Object Admin**.\n",
    "\n",
    "5. Click *Create*. A JSON file that contains your key downloads to your\n",
    "local environment.\n",
    "\n",
    "6. Enter the path to your service account key as the\n",
    "`GOOGLE_APPLICATION_CREDENTIALS` variable in the cell below and run the cell."
   ]
  },
  {
   "cell_type": "code",
   "execution_count": 11,
   "metadata": {
    "id": "PyQmSRbKA8r-"
   },
   "outputs": [],
   "source": [
    "import os\n",
    "import sys\n",
    "\n",
    "# If you are running this notebook in Colab, run this cell and follow the\n",
    "# instructions to authenticate your GCP account. This provides access to your\n",
    "# Cloud Storage bucket and lets you submit training jobs and prediction\n",
    "# requests.\n",
    "\n",
    "# If on Google Cloud Notebooks, then don't execute this code\n",
    "if not os.path.exists(\"/opt/deeplearning/metadata/env_version\"):\n",
    "    if \"google.colab\" in sys.modules:\n",
    "        from google.colab import auth as google_auth\n",
    "\n",
    "        google_auth.authenticate_user()\n",
    "\n",
    "    # If you are running this notebook locally, replace the string below with the\n",
    "    # path to your service account key and run this cell to authenticate your GCP\n",
    "    # account.\n",
    "    elif not os.getenv(\"IS_TESTING\"):\n",
    "        %env GOOGLE_APPLICATION_CREDENTIALS ''"
   ]
  },
  {
   "cell_type": "markdown",
   "metadata": {
    "id": "XoEqT2Y4DJmf"
   },
   "source": [
    "### Import libraries"
   ]
  },
  {
   "cell_type": "code",
   "execution_count": 12,
   "metadata": {
    "id": "pRUOFELefqf1"
   },
   "outputs": [
    {
     "name": "stderr",
     "output_type": "stream",
     "text": [
      "2023-03-18 17:36:38.647978: W tensorflow/stream_executor/platform/default/dso_loader.cc:64] Could not load dynamic library 'libcudart.so.11.0'; dlerror: libcudart.so.11.0: cannot open shared object file: No such file or directory\n",
      "2023-03-18 17:36:38.648023: I tensorflow/stream_executor/cuda/cudart_stub.cc:29] Ignore above cudart dlerror if you do not have a GPU set up on your machine.\n"
     ]
    }
   ],
   "source": [
    "import matplotlib.pyplot as plt\n",
    "import pandas as pd\n",
    "from google.cloud import aiplatform as vertex_ai\n",
    "from tensorflow.python.keras import Sequential, layers\n",
    "from tensorflow.python.keras.utils import data_utils"
   ]
  },
  {
   "cell_type": "markdown",
   "metadata": {
    "id": "xtXZWmYqJ1bh"
   },
   "source": [
    "### Define constants"
   ]
  },
  {
   "cell_type": "code",
   "execution_count": 13,
   "metadata": {
    "id": "JIOrI-hoJ46P"
   },
   "outputs": [],
   "source": [
    "EXPERIMENT_NAME = \"[your-experiment-name]\"  # @param {type:\"string\"}"
   ]
  },
  {
   "cell_type": "markdown",
   "metadata": {
    "id": "jWQLXXNVN4Lv"
   },
   "source": [
    "If EXPERIMENT_NAME is not set, set a default one below:"
   ]
  },
  {
   "cell_type": "code",
   "execution_count": 14,
   "metadata": {
    "id": "Q1QInYWOKsmo"
   },
   "outputs": [],
   "source": [
    "if EXPERIMENT_NAME == \"[your-experiment-name]\" or EXPERIMENT_NAME is None:\n",
    "    EXPERIMENT_NAME = \"my-experiment-\" + UUID"
   ]
  },
  {
   "cell_type": "markdown",
   "metadata": {
    "id": "O8XJZB3gR8eL"
   },
   "source": [
    "### Initialize Vertex AI SDK for Python\n",
    "\n",
    "Initialize the Vertex AI SDK for Python for your project and corresponding bucket."
   ]
  },
  {
   "cell_type": "code",
   "execution_count": 15,
   "metadata": {
    "id": "o_wnT10RJ7-W"
   },
   "outputs": [],
   "source": [
    "vertex_ai.init(project=PROJECT_ID, location=REGION)"
   ]
  },
  {
   "cell_type": "markdown",
   "metadata": {
    "id": "bba904753a2c"
   },
   "source": [
    "### Create TensorBoard instance using Vertex AI TensorBoard\n",
    "\n",
    "You can upload your TensorBoard logs by first creating a Vertex AI TensorBoard instance.\n",
    "\n",
    "**Notice** that if you did not activate yet, Vertex AI TensorBoard charges a monthly fee of $300 per unique active user. \n",
    "\n",
    "Learn more about [TensorBoard overview](https://cloud.google.com/vertex-ai/docs/experiments/tensorboard-overview)."
   ]
  },
  {
   "cell_type": "code",
   "execution_count": 16,
   "metadata": {
    "id": "d9800e386d0c"
   },
   "outputs": [
    {
     "name": "stdout",
     "output_type": "stream",
     "text": [
      "Creating Tensorboard\n",
      "Create Tensorboard backing LRO: projects/55590906972/locations/us-central1/tensorboards/4134841019600470016/operations/5521300786811764736\n",
      "Tensorboard created. Resource name: projects/55590906972/locations/us-central1/tensorboards/4134841019600470016\n",
      "To use this Tensorboard in another session:\n",
      "tb = aiplatform.Tensorboard('projects/55590906972/locations/us-central1/tensorboards/4134841019600470016')\n"
     ]
    }
   ],
   "source": [
    "vertex_ai_tb = vertex_ai.Tensorboard.create()"
   ]
  },
  {
   "cell_type": "code",
   "execution_count": 17,
   "metadata": {
    "id": "a600e376bf37"
   },
   "outputs": [],
   "source": [
    "vertex_ai.init(experiment=EXPERIMENT_NAME, experiment_tensorboard=vertex_ai_tb)"
   ]
  },
  {
   "cell_type": "markdown",
   "metadata": {
    "id": "12ab31563365"
   },
   "source": [
    "## Training with Vertex AI Experiments\n",
    "\n",
    "Vertex AI enables users to track the steps (for example, preprocessing, training) of an experiment run, and track inputs (for example, algorithm, parameters, datasets) and outputs (for example, models, checkpoints, metrics) of those steps. \n",
    "\n",
    "To better understanding how parameters and metrics are stored and organized, the following concepts are explained:\n",
    "\n",
    "1. **Experiments** describe a context that groups your runs and the artifacts you create into a logical session. For example, in this notebook you create an Experiment and log data to that experiment.\n",
    "\n",
    "1. **Run** represents a single path/avenue that you executed while performing an experiment. A run includes artifacts that you used as inputs or outputs, and parameters that you used in this execution. An Experiment can contain multiple runs. \n",
    "\n",
    "You can use the  Vertex AI SDK for Python to track metrics and parameters models trained locally for each experiment across several experiment runs. \n",
    "\n",
    "In the following example, you train a simple distributed neural network (DNN) model to predict automobile's miles per gallon (MPG) based on automobile information in the [auto-mpg dataset](https://www.kaggle.com/devanshbesain/exploration-and-analysis-auto-mpg)."
   ]
  },
  {
   "cell_type": "code",
   "execution_count": 18,
   "metadata": {
    "id": "bfe39f7b7f16"
   },
   "outputs": [],
   "source": [
    "# Helpers ----------------------------------------------------------------------\n",
    "\n",
    "\n",
    "def read_data(uri):\n",
    "    \"\"\"\n",
    "    Read data\n",
    "    Args:\n",
    "        uri: path to data\n",
    "    Returns:\n",
    "        pandas dataframe\n",
    "    \"\"\"\n",
    "    dataset_path = data_utils.get_file(\"auto-mpg.data\", uri)\n",
    "    column_names = [\n",
    "        \"MPG\",\n",
    "        \"Cylinders\",\n",
    "        \"Displacement\",\n",
    "        \"Horsepower\",\n",
    "        \"Weight\",\n",
    "        \"Acceleration\",\n",
    "        \"Model Year\",\n",
    "        \"Origin\",\n",
    "    ]\n",
    "    raw_dataset = pd.read_csv(\n",
    "        dataset_path,\n",
    "        names=column_names,\n",
    "        na_values=\"?\",\n",
    "        comment=\"\\t\",\n",
    "        sep=\" \",\n",
    "        skipinitialspace=True,\n",
    "    )\n",
    "    dataset = raw_dataset.dropna()\n",
    "    dataset[\"Origin\"] = dataset[\"Origin\"].map(\n",
    "        lambda x: {1: \"USA\", 2: \"Europe\", 3: \"Japan\"}.get(x)\n",
    "    )\n",
    "    dataset = pd.get_dummies(dataset, prefix=\"\", prefix_sep=\"\")\n",
    "    return dataset\n",
    "\n",
    "\n",
    "def train_test_split(dataset, split_frac=0.8, random_state=0):\n",
    "    \"\"\"\n",
    "    Split data into train and test\n",
    "    Args:\n",
    "        dataset: pandas dataframe\n",
    "        split_frac: fraction of data to use for training\n",
    "        random_state: random seed\n",
    "    Returns:\n",
    "        train and test dataframes\n",
    "    \"\"\"\n",
    "    train_dataset = dataset.sample(frac=split_frac, random_state=random_state)\n",
    "    test_dataset = dataset.drop(train_dataset.index)\n",
    "    train_labels = train_dataset.pop(\"MPG\")\n",
    "    test_labels = test_dataset.pop(\"MPG\")\n",
    "\n",
    "    return train_dataset, test_dataset, train_labels, test_labels\n",
    "\n",
    "\n",
    "def normalize_dataset(train_dataset, test_dataset):\n",
    "    \"\"\"\n",
    "    Normalize data\n",
    "    Args:\n",
    "        train_dataset: pandas dataframe\n",
    "        test_dataset: pandas dataframe\n",
    "\n",
    "    Returns:\n",
    "\n",
    "    \"\"\"\n",
    "    train_stats = train_dataset.describe()\n",
    "    train_stats = train_stats.transpose()\n",
    "\n",
    "    def norm(x):\n",
    "        return (x - train_stats[\"mean\"]) / train_stats[\"std\"]\n",
    "\n",
    "    normed_train_data = norm(train_dataset)\n",
    "    normed_test_data = norm(test_dataset)\n",
    "\n",
    "    return normed_train_data, normed_test_data\n",
    "\n",
    "\n",
    "def build_model(num_units, dropout_rate):\n",
    "    \"\"\"\n",
    "    Build model\n",
    "    Args:\n",
    "        num_units: number of units in hidden layer\n",
    "        dropout_rate: dropout rate\n",
    "    Returns:\n",
    "        compiled model\n",
    "    \"\"\"\n",
    "    model = Sequential(\n",
    "        [\n",
    "            layers.Dense(\n",
    "                num_units,\n",
    "                activation=\"relu\",\n",
    "                input_shape=[9],\n",
    "            ),\n",
    "            layers.Dropout(rate=dropout_rate),\n",
    "            layers.Dense(num_units, activation=\"relu\"),\n",
    "            layers.Dense(1),\n",
    "        ]\n",
    "    )\n",
    "\n",
    "    model.compile(loss=\"mse\", optimizer=\"adam\", metrics=[\"mae\", \"mse\"])\n",
    "    return model\n",
    "\n",
    "\n",
    "def train(\n",
    "    model,\n",
    "    train_data,\n",
    "    train_labels,\n",
    "    validation_split=0.2,\n",
    "    epochs=10,\n",
    "):\n",
    "    \"\"\"\n",
    "    Train model\n",
    "    Args:\n",
    "        train_data: pandas dataframe\n",
    "        train_labels: pandas dataframe\n",
    "        model: compiled model\n",
    "        validation_split: fraction of data to use for validation\n",
    "        epochs: number of epochs to train for\n",
    "    Returns:\n",
    "        history\n",
    "    \"\"\"\n",
    "    history = model.fit(\n",
    "        train_data, train_labels, epochs=epochs, validation_split=validation_split\n",
    "    )\n",
    "\n",
    "    return history"
   ]
  },
  {
   "cell_type": "markdown",
   "metadata": {
    "id": "u-iTnzt3B6Z_"
   },
   "source": [
    "### Run experiment and evaluate experiment runs\n",
    "\n",
    "You define several experiment configurations, run experiments and track them in Vertex AI Experiments"
   ]
  },
  {
   "cell_type": "code",
   "execution_count": 19,
   "metadata": {
    "id": "i2wnpu8_7JfV"
   },
   "outputs": [
    {
     "name": "stderr",
     "output_type": "stream",
     "text": [
      "/opt/conda/lib/python3.7/site-packages/ipykernel_launcher.py:33: SettingWithCopyWarning: \n",
      "A value is trying to be set on a copy of a slice from a DataFrame.\n",
      "Try using .loc[row_indexer,col_indexer] = value instead\n",
      "\n",
      "See the caveats in the documentation: https://pandas.pydata.org/pandas-docs/stable/user_guide/indexing.html#returning-a-view-versus-a-copy\n"
     ]
    },
    {
     "name": "stdout",
     "output_type": "stream",
     "text": [
      "Associating projects/55590906972/locations/us-central1/metadataStores/default/contexts/my-experiment-0obvksai-auto-mpg-local-run-0 to Experiment: my-experiment-0obvksai\n"
     ]
    },
    {
     "name": "stderr",
     "output_type": "stream",
     "text": [
      "2023-03-18 17:37:04.985418: W tensorflow/stream_executor/platform/default/dso_loader.cc:64] Could not load dynamic library 'libcuda.so.1'; dlerror: libcuda.so.1: cannot open shared object file: No such file or directory\n",
      "2023-03-18 17:37:04.985474: W tensorflow/stream_executor/cuda/cuda_driver.cc:269] failed call to cuInit: UNKNOWN ERROR (303)\n",
      "2023-03-18 17:37:04.985501: I tensorflow/stream_executor/cuda/cuda_diagnostics.cc:156] kernel driver does not appear to be running on this host (aaa-aca-workshop-bjacob): /proc/driver/nvidia/version does not exist\n",
      "2023-03-18 17:37:04.985822: I tensorflow/core/platform/cpu_feature_guard.cc:151] This TensorFlow binary is optimized with oneAPI Deep Neural Network Library (oneDNN) to use the following CPU instructions in performance-critical operations:  AVX2 FMA\n",
      "To enable them in other operations, rebuild TensorFlow with the appropriate compiler flags.\n"
     ]
    },
    {
     "name": "stdout",
     "output_type": "stream",
     "text": [
      "Epoch 1/3\n",
      "8/8 [==============================] - 1s 25ms/step - loss: 622.8967 - mae: 23.7018 - mse: 622.8967 - val_loss: 646.6120 - val_mae: 24.1691 - val_mse: 646.6120\n",
      "Epoch 2/3\n",
      "8/8 [==============================] - 0s 5ms/step - loss: 614.4867 - mae: 23.5325 - mse: 614.4867 - val_loss: 637.7242 - val_mae: 23.9891 - val_mse: 637.7242\n",
      "Epoch 3/3\n",
      "8/8 [==============================] - 0s 5ms/step - loss: 606.9105 - mae: 23.3744 - mse: 606.9105 - val_loss: 629.4601 - val_mae: 23.8196 - val_mse: 629.4601\n",
      "3/3 - 0s - loss: 646.0430 - mae: 24.0717 - mse: 646.0430\n",
      "Associating projects/55590906972/locations/us-central1/metadataStores/default/contexts/my-experiment-0obvksai-auto-mpg-local-run-1 to Experiment: my-experiment-0obvksai\n",
      "Epoch 1/10\n",
      "8/8 [==============================] - 1s 21ms/step - loss: 598.7259 - mae: 23.1842 - mse: 598.7259 - val_loss: 622.2471 - val_mae: 23.6352 - val_mse: 622.2471\n",
      "Epoch 2/10\n",
      "8/8 [==============================] - 0s 4ms/step - loss: 588.2034 - mae: 22.9763 - mse: 588.2034 - val_loss: 611.9056 - val_mae: 23.4313 - val_mse: 611.9056\n",
      "Epoch 3/10\n",
      "8/8 [==============================] - 0s 4ms/step - loss: 580.7175 - mae: 22.8163 - mse: 580.7175 - val_loss: 601.8084 - val_mae: 23.2288 - val_mse: 601.8084\n",
      "Epoch 4/10\n",
      "8/8 [==============================] - 0s 4ms/step - loss: 569.5614 - mae: 22.5935 - mse: 569.5614 - val_loss: 591.8558 - val_mae: 23.0268 - val_mse: 591.8558\n",
      "Epoch 5/10\n",
      "8/8 [==============================] - 0s 4ms/step - loss: 559.9229 - mae: 22.3992 - mse: 559.9229 - val_loss: 581.1590 - val_mae: 22.8085 - val_mse: 581.1590\n",
      "Epoch 6/10\n",
      "8/8 [==============================] - 0s 4ms/step - loss: 548.0330 - mae: 22.1495 - mse: 548.0330 - val_loss: 568.8665 - val_mae: 22.5571 - val_mse: 568.8665\n",
      "Epoch 7/10\n",
      "8/8 [==============================] - 0s 4ms/step - loss: 536.7538 - mae: 21.9008 - mse: 536.7538 - val_loss: 555.1443 - val_mae: 22.2736 - val_mse: 555.1443\n",
      "Epoch 8/10\n",
      "8/8 [==============================] - 0s 4ms/step - loss: 522.1888 - mae: 21.6090 - mse: 522.1888 - val_loss: 540.1415 - val_mae: 21.9587 - val_mse: 540.1415\n",
      "Epoch 9/10\n",
      "8/8 [==============================] - 0s 4ms/step - loss: 506.7068 - mae: 21.2657 - mse: 506.7068 - val_loss: 523.6322 - val_mae: 21.6074 - val_mse: 523.6322\n",
      "Epoch 10/10\n",
      "8/8 [==============================] - 0s 4ms/step - loss: 490.0060 - mae: 20.9155 - mse: 490.0060 - val_loss: 505.2565 - val_mae: 21.2130 - val_mse: 505.2565\n",
      "3/3 - 0s - loss: 515.6949 - mae: 21.3751 - mse: 515.6949\n",
      "Associating projects/55590906972/locations/us-central1/metadataStores/default/contexts/my-experiment-0obvksai-auto-mpg-local-run-2 to Experiment: my-experiment-0obvksai\n",
      "Epoch 1/10\n",
      "8/8 [==============================] - 1s 22ms/step - loss: 586.9194 - mae: 22.9101 - mse: 586.9194 - val_loss: 602.1052 - val_mae: 23.2150 - val_mse: 602.1052\n",
      "Epoch 2/10\n",
      "8/8 [==============================] - 0s 4ms/step - loss: 578.9581 - mae: 22.7095 - mse: 578.9581 - val_loss: 593.2268 - val_mae: 22.9944 - val_mse: 593.2268\n",
      "Epoch 3/10\n",
      "8/8 [==============================] - 0s 4ms/step - loss: 570.2628 - mae: 22.4888 - mse: 570.2628 - val_loss: 584.3157 - val_mae: 22.7688 - val_mse: 584.3157\n",
      "Epoch 4/10\n",
      "8/8 [==============================] - 0s 4ms/step - loss: 561.4758 - mae: 22.2675 - mse: 561.4758 - val_loss: 575.2617 - val_mae: 22.5337 - val_mse: 575.2617\n",
      "Epoch 5/10\n",
      "8/8 [==============================] - 0s 4ms/step - loss: 553.2042 - mae: 22.0477 - mse: 553.2042 - val_loss: 565.8205 - val_mae: 22.2853 - val_mse: 565.8205\n",
      "Epoch 6/10\n",
      "8/8 [==============================] - 0s 4ms/step - loss: 547.3425 - mae: 21.8800 - mse: 547.3425 - val_loss: 556.0089 - val_mae: 22.0221 - val_mse: 556.0089\n",
      "Epoch 7/10\n",
      "8/8 [==============================] - 0s 4ms/step - loss: 536.3417 - mae: 21.5956 - mse: 536.3417 - val_loss: 545.4871 - val_mae: 21.7382 - val_mse: 545.4871\n",
      "Epoch 8/10\n",
      "8/8 [==============================] - 0s 4ms/step - loss: 526.7302 - mae: 21.3635 - mse: 526.7302 - val_loss: 534.2475 - val_mae: 21.4273 - val_mse: 534.2475\n",
      "Epoch 9/10\n",
      "8/8 [==============================] - 0s 4ms/step - loss: 516.3491 - mae: 21.0463 - mse: 516.3491 - val_loss: 522.1487 - val_mae: 21.0876 - val_mse: 522.1487\n",
      "Epoch 10/10\n",
      "8/8 [==============================] - 0s 4ms/step - loss: 504.4914 - mae: 20.6903 - mse: 504.4914 - val_loss: 509.2577 - val_mae: 20.7143 - val_mse: 509.2577\n",
      "3/3 - 0s - loss: 540.8790 - mae: 21.3607 - mse: 540.8790\n",
      "Associating projects/55590906972/locations/us-central1/metadataStores/default/contexts/my-experiment-0obvksai-auto-mpg-local-run-3 to Experiment: my-experiment-0obvksai\n",
      "Epoch 1/10\n",
      "8/8 [==============================] - 1s 21ms/step - loss: 578.0884 - mae: 22.6946 - mse: 578.0884 - val_loss: 589.4818 - val_mae: 22.8836 - val_mse: 589.4818\n",
      "Epoch 2/10\n",
      "8/8 [==============================] - 0s 4ms/step - loss: 558.9212 - mae: 22.2743 - mse: 558.9212 - val_loss: 567.9365 - val_mae: 22.4059 - val_mse: 567.9365\n",
      "Epoch 3/10\n",
      "8/8 [==============================] - 0s 4ms/step - loss: 537.9950 - mae: 21.8082 - mse: 537.9950 - val_loss: 545.3012 - val_mae: 21.8922 - val_mse: 545.3012\n",
      "Epoch 4/10\n",
      "8/8 [==============================] - 0s 4ms/step - loss: 517.8907 - mae: 21.3490 - mse: 517.8907 - val_loss: 520.6917 - val_mae: 21.3228 - val_mse: 520.6917\n",
      "Epoch 5/10\n",
      "8/8 [==============================] - 0s 4ms/step - loss: 494.6203 - mae: 20.7730 - mse: 494.6203 - val_loss: 493.4680 - val_mae: 20.6748 - val_mse: 493.4680\n",
      "Epoch 6/10\n",
      "8/8 [==============================] - 0s 4ms/step - loss: 465.1446 - mae: 20.0584 - mse: 465.1446 - val_loss: 462.8630 - val_mae: 19.9209 - val_mse: 462.8630\n",
      "Epoch 7/10\n",
      "8/8 [==============================] - 0s 4ms/step - loss: 439.5343 - mae: 19.4196 - mse: 439.5343 - val_loss: 428.0772 - val_mae: 19.0392 - val_mse: 428.0772\n",
      "Epoch 8/10\n",
      "8/8 [==============================] - 0s 4ms/step - loss: 402.5314 - mae: 18.4657 - mse: 402.5314 - val_loss: 389.1950 - val_mae: 18.0123 - val_mse: 389.1950\n",
      "Epoch 9/10\n",
      "8/8 [==============================] - 0s 4ms/step - loss: 364.4861 - mae: 17.4670 - mse: 364.4861 - val_loss: 345.8677 - val_mae: 16.8154 - val_mse: 345.8677\n",
      "Epoch 10/10\n",
      "8/8 [==============================] - 0s 4ms/step - loss: 322.4532 - mae: 16.2846 - mse: 322.4532 - val_loss: 298.6671 - val_mae: 15.4529 - val_mse: 298.6671\n",
      "3/3 - 0s - loss: 314.9536 - mae: 15.9918 - mse: 314.9536\n",
      "Associating projects/55590906972/locations/us-central1/metadataStores/default/contexts/my-experiment-0obvksai-auto-mpg-local-run-4 to Experiment: my-experiment-0obvksai\n",
      "Epoch 1/10\n",
      "8/8 [==============================] - 0s 19ms/step - loss: 612.7253 - mae: 23.5486 - mse: 612.7253 - val_loss: 631.8678 - val_mae: 23.9130 - val_mse: 631.8678\n",
      "Epoch 2/10\n",
      "8/8 [==============================] - 0s 4ms/step - loss: 600.0791 - mae: 23.2595 - mse: 600.0791 - val_loss: 620.1116 - val_mae: 23.6531 - val_mse: 620.1116\n",
      "Epoch 3/10\n",
      "8/8 [==============================] - 0s 4ms/step - loss: 588.0618 - mae: 22.9919 - mse: 588.0618 - val_loss: 608.4700 - val_mae: 23.3887 - val_mse: 608.4700\n",
      "Epoch 4/10\n",
      "8/8 [==============================] - 0s 4ms/step - loss: 577.6700 - mae: 22.7468 - mse: 577.6700 - val_loss: 596.3115 - val_mae: 23.1031 - val_mse: 596.3115\n",
      "Epoch 5/10\n",
      "8/8 [==============================] - 0s 4ms/step - loss: 564.5337 - mae: 22.4218 - mse: 564.5337 - val_loss: 583.2169 - val_mae: 22.7822 - val_mse: 583.2169\n",
      "Epoch 6/10\n",
      "8/8 [==============================] - 0s 4ms/step - loss: 551.9789 - mae: 22.1136 - mse: 551.9789 - val_loss: 568.3854 - val_mae: 22.4052 - val_mse: 568.3854\n",
      "Epoch 7/10\n",
      "8/8 [==============================] - 0s 4ms/step - loss: 536.0331 - mae: 21.7289 - mse: 536.0331 - val_loss: 550.8091 - val_mae: 21.9493 - val_mse: 550.8091\n",
      "Epoch 8/10\n",
      "8/8 [==============================] - 0s 4ms/step - loss: 519.2612 - mae: 21.2698 - mse: 519.2612 - val_loss: 530.3757 - val_mae: 21.4121 - val_mse: 530.3757\n",
      "Epoch 9/10\n",
      "8/8 [==============================] - 0s 4ms/step - loss: 496.3467 - mae: 20.6792 - mse: 496.3467 - val_loss: 506.2468 - val_mae: 20.7571 - val_mse: 506.2468\n",
      "Epoch 10/10\n",
      "8/8 [==============================] - 0s 4ms/step - loss: 476.7004 - mae: 20.0605 - mse: 476.7004 - val_loss: 478.5807 - val_mae: 19.9869 - val_mse: 478.5807\n",
      "3/3 - 0s - loss: 497.9545 - mae: 20.3638 - mse: 497.9545\n"
     ]
    }
   ],
   "source": [
    "# Define experiment parameters\n",
    "parameters = [\n",
    "    {\"num_units\": 16, \"dropout_rate\": 0.1, \"epochs\": 3},\n",
    "    {\"num_units\": 16, \"dropout_rate\": 0.1, \"epochs\": 10},\n",
    "    {\"num_units\": 16, \"dropout_rate\": 0.2, \"epochs\": 10},\n",
    "    {\"num_units\": 32, \"dropout_rate\": 0.1, \"epochs\": 10},\n",
    "    {\"num_units\": 32, \"dropout_rate\": 0.2, \"epochs\": 10},\n",
    "]\n",
    "\n",
    "# Read data\n",
    "dataset = read_data(\n",
    "    \"http://archive.ics.uci.edu/ml/machine-learning-databases/auto-mpg/auto-mpg.data\"\n",
    ")\n",
    "\n",
    "# Split data\n",
    "train_dataset, test_dataset, train_labels, test_labels = train_test_split(dataset)\n",
    "\n",
    "# Normalize data\n",
    "normed_train_data, normed_test_data = normalize_dataset(train_dataset, test_dataset)\n",
    "\n",
    "# Run experiments\n",
    "for i, params in enumerate(parameters):\n",
    "\n",
    "    # Initialize Vertex AI Experiment run\n",
    "    vertex_ai.start_run(run=f\"auto-mpg-local-run-{i}\")\n",
    "\n",
    "    # Log training parameters\n",
    "    vertex_ai.log_params(params)\n",
    "\n",
    "    # Build model\n",
    "    model = build_model(\n",
    "        num_units=params[\"num_units\"], dropout_rate=params[\"dropout_rate\"]\n",
    "    )\n",
    "\n",
    "    # Train model\n",
    "    history = train(\n",
    "        model,\n",
    "        normed_train_data,\n",
    "        train_labels,\n",
    "        epochs=params[\"epochs\"],\n",
    "    )\n",
    "\n",
    "    # Log additional parameters\n",
    "    vertex_ai.log_params(history.params)\n",
    "\n",
    "    # Log metrics per epochs\n",
    "    for idx in range(0, history.params[\"epochs\"]):\n",
    "        vertex_ai.log_time_series_metrics(\n",
    "            {\n",
    "                \"train_mae\": history.history[\"mae\"][idx],\n",
    "                \"train_mse\": history.history[\"mse\"][idx],\n",
    "            }\n",
    "        )\n",
    "\n",
    "    # Log final metrics\n",
    "    loss, mae, mse = model.evaluate(normed_test_data, test_labels, verbose=2)\n",
    "    vertex_ai.log_metrics({\"eval_loss\": loss, \"eval_mae\": mae, \"eval_mse\": mse})\n",
    "\n",
    "    vertex_ai.end_run()"
   ]
  },
  {
   "cell_type": "markdown",
   "metadata": {
    "id": "jZLrJZTfL7tE"
   },
   "source": [
    "### Extract parameters and metrics into a dataframe for analysis\n",
    "\n",
    "We can also extract all parameters and metrics associated with any Experiment into a dataframe for further analysis."
   ]
  },
  {
   "cell_type": "code",
   "execution_count": 20,
   "metadata": {
    "id": "jbRf1WoH_vbY"
   },
   "outputs": [
    {
     "data": {
      "text/html": [
       "<div>\n",
       "<style scoped>\n",
       "    .dataframe tbody tr th:only-of-type {\n",
       "        vertical-align: middle;\n",
       "    }\n",
       "\n",
       "    .dataframe tbody tr th {\n",
       "        vertical-align: top;\n",
       "    }\n",
       "\n",
       "    .dataframe thead th {\n",
       "        text-align: right;\n",
       "    }\n",
       "</style>\n",
       "<table border=\"1\" class=\"dataframe\">\n",
       "  <thead>\n",
       "    <tr style=\"text-align: right;\">\n",
       "      <th></th>\n",
       "      <th>0</th>\n",
       "      <th>1</th>\n",
       "      <th>2</th>\n",
       "      <th>3</th>\n",
       "      <th>4</th>\n",
       "      <th>5</th>\n",
       "      <th>6</th>\n",
       "      <th>7</th>\n",
       "      <th>8</th>\n",
       "      <th>9</th>\n",
       "    </tr>\n",
       "  </thead>\n",
       "  <tbody>\n",
       "    <tr>\n",
       "      <th>experiment_name</th>\n",
       "      <td>my-experiment-0obvksai</td>\n",
       "      <td>my-experiment-0obvksai</td>\n",
       "      <td>my-experiment-0obvksai</td>\n",
       "      <td>my-experiment-0obvksai</td>\n",
       "      <td>my-experiment-0obvksai</td>\n",
       "      <td>my-experiment-0obvksai</td>\n",
       "      <td>my-experiment-0obvksai</td>\n",
       "      <td>my-experiment-0obvksai</td>\n",
       "      <td>my-experiment-0obvksai</td>\n",
       "      <td>my-experiment-0obvksai</td>\n",
       "    </tr>\n",
       "    <tr>\n",
       "      <th>run_name</th>\n",
       "      <td>auto-mpg-local-run-4</td>\n",
       "      <td>auto-mpg-local-run-3</td>\n",
       "      <td>auto-mpg-local-run-2</td>\n",
       "      <td>auto-mpg-local-run-1</td>\n",
       "      <td>auto-mpg-local-run-0</td>\n",
       "      <td>auto-mpg-local-run-4</td>\n",
       "      <td>auto-mpg-local-run-3</td>\n",
       "      <td>auto-mpg-local-run-2</td>\n",
       "      <td>auto-mpg-local-run-1</td>\n",
       "      <td>auto-mpg-local-run-0</td>\n",
       "    </tr>\n",
       "    <tr>\n",
       "      <th>run_type</th>\n",
       "      <td>system.ExperimentRun</td>\n",
       "      <td>system.ExperimentRun</td>\n",
       "      <td>system.ExperimentRun</td>\n",
       "      <td>system.ExperimentRun</td>\n",
       "      <td>system.ExperimentRun</td>\n",
       "      <td>system.Run</td>\n",
       "      <td>system.Run</td>\n",
       "      <td>system.Run</td>\n",
       "      <td>system.Run</td>\n",
       "      <td>system.Run</td>\n",
       "    </tr>\n",
       "    <tr>\n",
       "      <th>state</th>\n",
       "      <td>COMPLETE</td>\n",
       "      <td>COMPLETE</td>\n",
       "      <td>COMPLETE</td>\n",
       "      <td>COMPLETE</td>\n",
       "      <td>COMPLETE</td>\n",
       "      <td>STATE_UNSPECIFIED</td>\n",
       "      <td>STATE_UNSPECIFIED</td>\n",
       "      <td>STATE_UNSPECIFIED</td>\n",
       "      <td>STATE_UNSPECIFIED</td>\n",
       "      <td>STATE_UNSPECIFIED</td>\n",
       "    </tr>\n",
       "    <tr>\n",
       "      <th>param.dropout_rate</th>\n",
       "      <td>0.2</td>\n",
       "      <td>0.1</td>\n",
       "      <td>0.2</td>\n",
       "      <td>0.1</td>\n",
       "      <td>0.1</td>\n",
       "      <td>0.2</td>\n",
       "      <td>0.1</td>\n",
       "      <td>0.2</td>\n",
       "      <td>0.1</td>\n",
       "      <td>0.1</td>\n",
       "    </tr>\n",
       "    <tr>\n",
       "      <th>param.steps</th>\n",
       "      <td>8.0</td>\n",
       "      <td>8.0</td>\n",
       "      <td>8.0</td>\n",
       "      <td>8.0</td>\n",
       "      <td>8.0</td>\n",
       "      <td>8.0</td>\n",
       "      <td>8.0</td>\n",
       "      <td>8.0</td>\n",
       "      <td>8.0</td>\n",
       "      <td>8.0</td>\n",
       "    </tr>\n",
       "    <tr>\n",
       "      <th>param.epochs</th>\n",
       "      <td>10.0</td>\n",
       "      <td>10.0</td>\n",
       "      <td>10.0</td>\n",
       "      <td>10.0</td>\n",
       "      <td>3.0</td>\n",
       "      <td>10.0</td>\n",
       "      <td>10.0</td>\n",
       "      <td>10.0</td>\n",
       "      <td>10.0</td>\n",
       "      <td>3.0</td>\n",
       "    </tr>\n",
       "    <tr>\n",
       "      <th>param.num_units</th>\n",
       "      <td>32.0</td>\n",
       "      <td>32.0</td>\n",
       "      <td>16.0</td>\n",
       "      <td>16.0</td>\n",
       "      <td>16.0</td>\n",
       "      <td>32.0</td>\n",
       "      <td>32.0</td>\n",
       "      <td>16.0</td>\n",
       "      <td>16.0</td>\n",
       "      <td>16.0</td>\n",
       "    </tr>\n",
       "    <tr>\n",
       "      <th>param.verbose</th>\n",
       "      <td>1.0</td>\n",
       "      <td>1.0</td>\n",
       "      <td>1.0</td>\n",
       "      <td>1.0</td>\n",
       "      <td>1.0</td>\n",
       "      <td>1.0</td>\n",
       "      <td>1.0</td>\n",
       "      <td>1.0</td>\n",
       "      <td>1.0</td>\n",
       "      <td>1.0</td>\n",
       "    </tr>\n",
       "    <tr>\n",
       "      <th>metric.eval_loss</th>\n",
       "      <td>497.954529</td>\n",
       "      <td>314.953644</td>\n",
       "      <td>540.879028</td>\n",
       "      <td>515.694885</td>\n",
       "      <td>646.042969</td>\n",
       "      <td>370.000488</td>\n",
       "      <td>358.033905</td>\n",
       "      <td>507.404358</td>\n",
       "      <td>550.917847</td>\n",
       "      <td>610.503479</td>\n",
       "    </tr>\n",
       "    <tr>\n",
       "      <th>metric.eval_mae</th>\n",
       "      <td>20.363802</td>\n",
       "      <td>15.991846</td>\n",
       "      <td>21.36068</td>\n",
       "      <td>21.375135</td>\n",
       "      <td>24.071674</td>\n",
       "      <td>17.806631</td>\n",
       "      <td>17.695683</td>\n",
       "      <td>20.983765</td>\n",
       "      <td>21.749825</td>\n",
       "      <td>23.228006</td>\n",
       "    </tr>\n",
       "    <tr>\n",
       "      <th>metric.eval_mse</th>\n",
       "      <td>497.954529</td>\n",
       "      <td>314.953644</td>\n",
       "      <td>540.879028</td>\n",
       "      <td>515.694885</td>\n",
       "      <td>646.042969</td>\n",
       "      <td>370.000488</td>\n",
       "      <td>358.033905</td>\n",
       "      <td>507.404358</td>\n",
       "      <td>550.917847</td>\n",
       "      <td>610.503479</td>\n",
       "    </tr>\n",
       "    <tr>\n",
       "      <th>metric.train_mse</th>\n",
       "      <td>NaN</td>\n",
       "      <td>NaN</td>\n",
       "      <td>NaN</td>\n",
       "      <td>NaN</td>\n",
       "      <td>NaN</td>\n",
       "      <td>374.808411</td>\n",
       "      <td>362.778351</td>\n",
       "      <td>480.96698</td>\n",
       "      <td>520.511841</td>\n",
       "      <td>572.925415</td>\n",
       "    </tr>\n",
       "    <tr>\n",
       "      <th>metric.train_mae</th>\n",
       "      <td>NaN</td>\n",
       "      <td>NaN</td>\n",
       "      <td>NaN</td>\n",
       "      <td>NaN</td>\n",
       "      <td>NaN</td>\n",
       "      <td>17.901899</td>\n",
       "      <td>17.896084</td>\n",
       "      <td>20.454298</td>\n",
       "      <td>21.23645</td>\n",
       "      <td>22.55892</td>\n",
       "    </tr>\n",
       "    <tr>\n",
       "      <th>time_series_metric.train_mae</th>\n",
       "      <td>20.060539</td>\n",
       "      <td>16.284616</td>\n",
       "      <td>20.690277</td>\n",
       "      <td>20.915501</td>\n",
       "      <td>23.374357</td>\n",
       "      <td>NaN</td>\n",
       "      <td>NaN</td>\n",
       "      <td>NaN</td>\n",
       "      <td>NaN</td>\n",
       "      <td>NaN</td>\n",
       "    </tr>\n",
       "    <tr>\n",
       "      <th>time_series_metric.train_mse</th>\n",
       "      <td>476.700378</td>\n",
       "      <td>322.453247</td>\n",
       "      <td>504.491364</td>\n",
       "      <td>490.005951</td>\n",
       "      <td>606.910461</td>\n",
       "      <td>NaN</td>\n",
       "      <td>NaN</td>\n",
       "      <td>NaN</td>\n",
       "      <td>NaN</td>\n",
       "      <td>NaN</td>\n",
       "    </tr>\n",
       "  </tbody>\n",
       "</table>\n",
       "</div>"
      ],
      "text/plain": [
       "                                                   0                       1  \\\n",
       "experiment_name               my-experiment-0obvksai  my-experiment-0obvksai   \n",
       "run_name                        auto-mpg-local-run-4    auto-mpg-local-run-3   \n",
       "run_type                        system.ExperimentRun    system.ExperimentRun   \n",
       "state                                       COMPLETE                COMPLETE   \n",
       "param.dropout_rate                               0.2                     0.1   \n",
       "param.steps                                      8.0                     8.0   \n",
       "param.epochs                                    10.0                    10.0   \n",
       "param.num_units                                 32.0                    32.0   \n",
       "param.verbose                                    1.0                     1.0   \n",
       "metric.eval_loss                          497.954529              314.953644   \n",
       "metric.eval_mae                            20.363802               15.991846   \n",
       "metric.eval_mse                           497.954529              314.953644   \n",
       "metric.train_mse                                 NaN                     NaN   \n",
       "metric.train_mae                                 NaN                     NaN   \n",
       "time_series_metric.train_mae               20.060539               16.284616   \n",
       "time_series_metric.train_mse              476.700378              322.453247   \n",
       "\n",
       "                                                   2                       3  \\\n",
       "experiment_name               my-experiment-0obvksai  my-experiment-0obvksai   \n",
       "run_name                        auto-mpg-local-run-2    auto-mpg-local-run-1   \n",
       "run_type                        system.ExperimentRun    system.ExperimentRun   \n",
       "state                                       COMPLETE                COMPLETE   \n",
       "param.dropout_rate                               0.2                     0.1   \n",
       "param.steps                                      8.0                     8.0   \n",
       "param.epochs                                    10.0                    10.0   \n",
       "param.num_units                                 16.0                    16.0   \n",
       "param.verbose                                    1.0                     1.0   \n",
       "metric.eval_loss                          540.879028              515.694885   \n",
       "metric.eval_mae                             21.36068               21.375135   \n",
       "metric.eval_mse                           540.879028              515.694885   \n",
       "metric.train_mse                                 NaN                     NaN   \n",
       "metric.train_mae                                 NaN                     NaN   \n",
       "time_series_metric.train_mae               20.690277               20.915501   \n",
       "time_series_metric.train_mse              504.491364              490.005951   \n",
       "\n",
       "                                                   4                       5  \\\n",
       "experiment_name               my-experiment-0obvksai  my-experiment-0obvksai   \n",
       "run_name                        auto-mpg-local-run-0    auto-mpg-local-run-4   \n",
       "run_type                        system.ExperimentRun              system.Run   \n",
       "state                                       COMPLETE       STATE_UNSPECIFIED   \n",
       "param.dropout_rate                               0.1                     0.2   \n",
       "param.steps                                      8.0                     8.0   \n",
       "param.epochs                                     3.0                    10.0   \n",
       "param.num_units                                 16.0                    32.0   \n",
       "param.verbose                                    1.0                     1.0   \n",
       "metric.eval_loss                          646.042969              370.000488   \n",
       "metric.eval_mae                            24.071674               17.806631   \n",
       "metric.eval_mse                           646.042969              370.000488   \n",
       "metric.train_mse                                 NaN              374.808411   \n",
       "metric.train_mae                                 NaN               17.901899   \n",
       "time_series_metric.train_mae               23.374357                     NaN   \n",
       "time_series_metric.train_mse              606.910461                     NaN   \n",
       "\n",
       "                                                   6                       7  \\\n",
       "experiment_name               my-experiment-0obvksai  my-experiment-0obvksai   \n",
       "run_name                        auto-mpg-local-run-3    auto-mpg-local-run-2   \n",
       "run_type                                  system.Run              system.Run   \n",
       "state                              STATE_UNSPECIFIED       STATE_UNSPECIFIED   \n",
       "param.dropout_rate                               0.1                     0.2   \n",
       "param.steps                                      8.0                     8.0   \n",
       "param.epochs                                    10.0                    10.0   \n",
       "param.num_units                                 32.0                    16.0   \n",
       "param.verbose                                    1.0                     1.0   \n",
       "metric.eval_loss                          358.033905              507.404358   \n",
       "metric.eval_mae                            17.695683               20.983765   \n",
       "metric.eval_mse                           358.033905              507.404358   \n",
       "metric.train_mse                          362.778351               480.96698   \n",
       "metric.train_mae                           17.896084               20.454298   \n",
       "time_series_metric.train_mae                     NaN                     NaN   \n",
       "time_series_metric.train_mse                     NaN                     NaN   \n",
       "\n",
       "                                                   8                       9  \n",
       "experiment_name               my-experiment-0obvksai  my-experiment-0obvksai  \n",
       "run_name                        auto-mpg-local-run-1    auto-mpg-local-run-0  \n",
       "run_type                                  system.Run              system.Run  \n",
       "state                              STATE_UNSPECIFIED       STATE_UNSPECIFIED  \n",
       "param.dropout_rate                               0.1                     0.1  \n",
       "param.steps                                      8.0                     8.0  \n",
       "param.epochs                                    10.0                     3.0  \n",
       "param.num_units                                 16.0                    16.0  \n",
       "param.verbose                                    1.0                     1.0  \n",
       "metric.eval_loss                          550.917847              610.503479  \n",
       "metric.eval_mae                            21.749825               23.228006  \n",
       "metric.eval_mse                           550.917847              610.503479  \n",
       "metric.train_mse                          520.511841              572.925415  \n",
       "metric.train_mae                            21.23645                22.55892  \n",
       "time_series_metric.train_mae                     NaN                     NaN  \n",
       "time_series_metric.train_mse                     NaN                     NaN  "
      ]
     },
     "execution_count": 20,
     "metadata": {},
     "output_type": "execute_result"
    }
   ],
   "source": [
    "experiment_df = vertex_ai.get_experiment_df()\n",
    "experiment_df.T"
   ]
  },
  {
   "cell_type": "markdown",
   "metadata": {
    "id": "EYuYgqVCMKU1"
   },
   "source": [
    "### Visualizing an experiment's parameters and metrics\n",
    "\n",
    "You use parallel coordinates plotting to visualize experiment's parameters and metrics"
   ]
  },
  {
   "cell_type": "code",
   "execution_count": 21,
   "metadata": {
    "id": "r8orCj8iJuO1"
   },
   "outputs": [
    {
     "data": {
      "text/plain": [
       "<matplotlib.legend.Legend at 0x7f1875ef8210>"
      ]
     },
     "execution_count": 21,
     "metadata": {},
     "output_type": "execute_result"
    },
    {
     "data": {
      "image/png": "[encoded data removed]",
      "text/plain": [
       "<Figure size 1500x500 with 1 Axes>"
      ]
     },
     "metadata": {},
     "output_type": "display_data"
    }
   ],
   "source": [
    "plt.rcParams[\"figure.figsize\"] = [15, 5]\n",
    "\n",
    "ax = pd.plotting.parallel_coordinates(\n",
    "    experiment_df.reset_index(level=0),\n",
    "    \"run_name\",\n",
    "    cols=[\n",
    "        \"param.num_units\",\n",
    "        \"param.dropout_rate\",\n",
    "        \"param.epochs\",\n",
    "        \"metric.eval_loss\",\n",
    "        \"metric.eval_mse\",\n",
    "        \"metric.eval_mae\",\n",
    "    ],\n",
    "    color=[\"blue\", \"green\", \"pink\", \"red\"],\n",
    ")\n",
    "ax.set_yscale(\"symlog\")\n",
    "ax.legend(bbox_to_anchor=(1.0, 0.5))"
   ]
  },
  {
   "cell_type": "markdown",
   "metadata": {
    "id": "WTHvPMweMlP1"
   },
   "source": [
    "## Visualizing experiments in Cloud Console\n",
    "\n",
    "Run the following to get the URL of Vertex AI Experiments for your project.\n"
   ]
  },
  {
   "cell_type": "code",
   "execution_count": 22,
   "metadata": {
    "id": "GmN9vE9pqqzt"
   },
   "outputs": [
    {
     "name": "stdout",
     "output_type": "stream",
     "text": [
      "Vertex AI Experiments:\n",
      "https://console.cloud.google.com/ai/platform/experiments/experiments?folder=&organizationId=&project=mwpmltr\n"
     ]
    }
   ],
   "source": [
    "print(\"Vertex AI Experiments:\")\n",
    "print(\n",
    "    f\"https://console.cloud.google.com/ai/platform/experiments/experiments?folder=&organizationId=&project={PROJECT_ID}\"\n",
    ")"
   ]
  },
  {
   "cell_type": "markdown",
   "metadata": {
    "id": "TpV-iwP9qw9c"
   },
   "source": [
    "## Cleaning up\n",
    "\n",
    "To clean up all Google Cloud resources used in this project, you can [delete the Google Cloud\n",
    "project](https://cloud.google.com/resource-manager/docs/creating-managing-projects#shutting_down_projects) you used for the tutorial.\n",
    "\n",
    "Otherwise, you can delete the individual resources you created in this tutorial."
   ]
  },
  {
   "cell_type": "code",
   "execution_count": 23,
   "metadata": {
    "id": "659e822f49c1"
   },
   "outputs": [
    {
     "name": "stdout",
     "output_type": "stream",
     "text": [
      "Deleting TensorboardRun : projects/55590906972/locations/us-central1/tensorboards/4134841019600470016/experiments/my-experiment-0obvksai/runs/auto-mpg-local-run-4\n",
      "Delete TensorboardRun  backing LRO: projects/55590906972/locations/us-central1/tensorboards/4134841019600470016/experiments/my-experiment-0obvksai/operations/6931138576411262976\n",
      "TensorboardRun deleted. . Resource name: projects/55590906972/locations/us-central1/tensorboards/4134841019600470016/experiments/my-experiment-0obvksai/runs/auto-mpg-local-run-4\n",
      "Deleting Artifact : projects/55590906972/locations/us-central1/metadataStores/default/artifacts/my-experiment-0obvksai-auto-mpg-local-run-4-tb-run\n",
      "Delete Artifact  backing LRO: projects/55590906972/locations/us-central1/metadataStores/default/artifacts/my-experiment-0obvksai-auto-mpg-local-run-4-tb-run/operations/7395009338030424064\n",
      "Artifact deleted. . Resource name: projects/55590906972/locations/us-central1/metadataStores/default/artifacts/my-experiment-0obvksai-auto-mpg-local-run-4-tb-run\n",
      "Deleting Context : projects/55590906972/locations/us-central1/metadataStores/default/contexts/my-experiment-0obvksai-auto-mpg-local-run-4\n",
      "Delete Context  backing LRO: projects/55590906972/locations/us-central1/metadataStores/default/contexts/my-experiment-0obvksai-auto-mpg-local-run-4/operations/1378200235863441408\n",
      "Context deleted. . Resource name: projects/55590906972/locations/us-central1/metadataStores/default/contexts/my-experiment-0obvksai-auto-mpg-local-run-4\n",
      "Deleting TensorboardRun : projects/55590906972/locations/us-central1/tensorboards/4134841019600470016/experiments/my-experiment-0obvksai/runs/auto-mpg-local-run-3\n",
      "Delete TensorboardRun  backing LRO: projects/55590906972/locations/us-central1/tensorboards/4134841019600470016/experiments/my-experiment-0obvksai/operations/3769400531764641792\n",
      "TensorboardRun deleted. . Resource name: projects/55590906972/locations/us-central1/tensorboards/4134841019600470016/experiments/my-experiment-0obvksai/runs/auto-mpg-local-run-3\n",
      "Deleting Artifact : projects/55590906972/locations/us-central1/metadataStores/default/artifacts/my-experiment-0obvksai-auto-mpg-local-run-3-tb-run\n",
      "Delete Artifact  backing LRO: projects/55590906972/locations/us-central1/metadataStores/default/artifacts/my-experiment-0obvksai-auto-mpg-local-run-3-tb-run/operations/7219157846330441728\n",
      "Artifact deleted. . Resource name: projects/55590906972/locations/us-central1/metadataStores/default/artifacts/my-experiment-0obvksai-auto-mpg-local-run-3-tb-run\n",
      "Deleting Context : projects/55590906972/locations/us-central1/metadataStores/default/contexts/my-experiment-0obvksai-auto-mpg-local-run-3\n",
      "Delete Context  backing LRO: projects/55590906972/locations/us-central1/metadataStores/default/contexts/my-experiment-0obvksai-auto-mpg-local-run-3/operations/8043527684371775488\n",
      "Context deleted. . Resource name: projects/55590906972/locations/us-central1/metadataStores/default/contexts/my-experiment-0obvksai-auto-mpg-local-run-3\n",
      "Deleting TensorboardRun : projects/55590906972/locations/us-central1/tensorboards/4134841019600470016/experiments/my-experiment-0obvksai/runs/auto-mpg-local-run-2\n",
      "Delete TensorboardRun  backing LRO: projects/55590906972/locations/us-central1/tensorboards/4134841019600470016/experiments/my-experiment-0obvksai/operations/2679529421940981760\n",
      "TensorboardRun deleted. . Resource name: projects/55590906972/locations/us-central1/tensorboards/4134841019600470016/experiments/my-experiment-0obvksai/runs/auto-mpg-local-run-2\n",
      "Deleting Artifact : projects/55590906972/locations/us-central1/metadataStores/default/artifacts/my-experiment-0obvksai-auto-mpg-local-run-2-tb-run\n",
      "Delete Artifact  backing LRO: projects/55590906972/locations/us-central1/metadataStores/default/artifacts/my-experiment-0obvksai-auto-mpg-local-run-2-tb-run/operations/1630401814996189184\n",
      "Artifact deleted. . Resource name: projects/55590906972/locations/us-central1/metadataStores/default/artifacts/my-experiment-0obvksai-auto-mpg-local-run-2-tb-run\n",
      "Deleting Context : projects/55590906972/locations/us-central1/metadataStores/default/contexts/my-experiment-0obvksai-auto-mpg-local-run-2\n",
      "Delete Context  backing LRO: projects/55590906972/locations/us-central1/metadataStores/default/contexts/my-experiment-0obvksai-auto-mpg-local-run-2/operations/1454550323296206848\n",
      "Context deleted. . Resource name: projects/55590906972/locations/us-central1/metadataStores/default/contexts/my-experiment-0obvksai-auto-mpg-local-run-2\n",
      "Deleting TensorboardRun : projects/55590906972/locations/us-central1/tensorboards/4134841019600470016/experiments/my-experiment-0obvksai/runs/auto-mpg-local-run-1\n",
      "Delete TensorboardRun  backing LRO: projects/55590906972/locations/us-central1/tensorboards/4134841019600470016/experiments/my-experiment-0obvksai/operations/5863785464724455424\n",
      "TensorboardRun deleted. . Resource name: projects/55590906972/locations/us-central1/tensorboards/4134841019600470016/experiments/my-experiment-0obvksai/runs/auto-mpg-local-run-1\n",
      "Deleting Artifact : projects/55590906972/locations/us-central1/metadataStores/default/artifacts/my-experiment-0obvksai-auto-mpg-local-run-1-tb-run\n",
      "Delete Artifact  backing LRO: projects/55590906972/locations/us-central1/metadataStores/default/artifacts/my-experiment-0obvksai-auto-mpg-local-run-1-tb-run/operations/6066236341723594752\n",
      "Artifact deleted. . Resource name: projects/55590906972/locations/us-central1/metadataStores/default/artifacts/my-experiment-0obvksai-auto-mpg-local-run-1-tb-run\n",
      "Deleting Context : projects/55590906972/locations/us-central1/metadataStores/default/contexts/my-experiment-0obvksai-auto-mpg-local-run-1\n",
      "Delete Context  backing LRO: projects/55590906972/locations/us-central1/metadataStores/default/contexts/my-experiment-0obvksai-auto-mpg-local-run-1/operations/5989886254290829312\n",
      "Context deleted. . Resource name: projects/55590906972/locations/us-central1/metadataStores/default/contexts/my-experiment-0obvksai-auto-mpg-local-run-1\n",
      "Deleting TensorboardRun : projects/55590906972/locations/us-central1/tensorboards/4134841019600470016/experiments/my-experiment-0obvksai/runs/auto-mpg-local-run-0\n",
      "Delete TensorboardRun  backing LRO: projects/55590906972/locations/us-central1/tensorboards/4134841019600470016/experiments/my-experiment-0obvksai/operations/8381086550192029696\n",
      "TensorboardRun deleted. . Resource name: projects/55590906972/locations/us-central1/tensorboards/4134841019600470016/experiments/my-experiment-0obvksai/runs/auto-mpg-local-run-0\n",
      "Deleting Artifact : projects/55590906972/locations/us-central1/metadataStores/default/artifacts/my-experiment-0obvksai-auto-mpg-local-run-0-tb-run\n",
      "Delete Artifact  backing LRO: projects/55590906972/locations/us-central1/metadataStores/default/artifacts/my-experiment-0obvksai-auto-mpg-local-run-0-tb-run/operations/3256201280476938240\n",
      "Artifact deleted. . Resource name: projects/55590906972/locations/us-central1/metadataStores/default/artifacts/my-experiment-0obvksai-auto-mpg-local-run-0-tb-run\n",
      "Deleting Context : projects/55590906972/locations/us-central1/metadataStores/default/contexts/my-experiment-0obvksai-auto-mpg-local-run-0\n",
      "Delete Context  backing LRO: projects/55590906972/locations/us-central1/metadataStores/default/contexts/my-experiment-0obvksai-auto-mpg-local-run-0/operations/8448640544602587136\n",
      "Context deleted. . Resource name: projects/55590906972/locations/us-central1/metadataStores/default/contexts/my-experiment-0obvksai-auto-mpg-local-run-0\n",
      "Experiment run auto-mpg-local-run-4 does not have a backing tensorboard run. Skipping deletion.\n",
      "Deleting Execution : projects/55590906972/locations/us-central1/metadataStores/default/executions/my-experiment-0obvksai-auto-mpg-local-run-4\n",
      "Delete Execution  backing LRO: projects/55590906972/locations/us-central1/metadataStores/default/executions/my-experiment-0obvksai-auto-mpg-local-run-4/operations/2220373366181724160\n",
      "Execution deleted. . Resource name: projects/55590906972/locations/us-central1/metadataStores/default/executions/my-experiment-0obvksai-auto-mpg-local-run-4\n",
      "Deleting Artifact : projects/55590906972/locations/us-central1/metadataStores/default/artifacts/my-experiment-0obvksai-auto-mpg-local-run-4-metrics\n",
      "Delete Artifact  backing LRO: projects/55590906972/locations/us-central1/metadataStores/default/artifacts/my-experiment-0obvksai-auto-mpg-local-run-4-metrics/operations/5539526291553779712\n",
      "Artifact deleted. . Resource name: projects/55590906972/locations/us-central1/metadataStores/default/artifacts/my-experiment-0obvksai-auto-mpg-local-run-4-metrics\n",
      "Experiment run auto-mpg-local-run-3 does not have a backing tensorboard run. Skipping deletion.\n",
      "Deleting Execution : projects/55590906972/locations/us-central1/metadataStores/default/executions/my-experiment-0obvksai-auto-mpg-local-run-3\n",
      "Delete Execution  backing LRO: projects/55590906972/locations/us-central1/metadataStores/default/executions/my-experiment-0obvksai-auto-mpg-local-run-3/operations/5845559959982440448\n",
      "Execution deleted. . Resource name: projects/55590906972/locations/us-central1/metadataStores/default/executions/my-experiment-0obvksai-auto-mpg-local-run-3\n",
      "Deleting Artifact : projects/55590906972/locations/us-central1/metadataStores/default/artifacts/my-experiment-0obvksai-auto-mpg-local-run-3-metrics\n",
      "Delete Artifact  backing LRO: projects/55590906972/locations/us-central1/metadataStores/default/artifacts/my-experiment-0obvksai-auto-mpg-local-run-3-metrics/operations/3684043245077135360\n",
      "Artifact deleted. . Resource name: projects/55590906972/locations/us-central1/metadataStores/default/artifacts/my-experiment-0obvksai-auto-mpg-local-run-3-metrics\n",
      "Experiment run auto-mpg-local-run-2 does not have a backing tensorboard run. Skipping deletion.\n",
      "Deleting Execution : projects/55590906972/locations/us-central1/metadataStores/default/executions/my-experiment-0obvksai-auto-mpg-local-run-2\n",
      "Delete Execution  backing LRO: projects/55590906972/locations/us-central1/metadataStores/default/executions/my-experiment-0obvksai-auto-mpg-local-run-2/operations/3557942455510761472\n",
      "Execution deleted. . Resource name: projects/55590906972/locations/us-central1/metadataStores/default/executions/my-experiment-0obvksai-auto-mpg-local-run-2\n",
      "Deleting Artifact : projects/55590906972/locations/us-central1/metadataStores/default/artifacts/my-experiment-0obvksai-auto-mpg-local-run-2-metrics\n",
      "Delete Artifact  backing LRO: projects/55590906972/locations/us-central1/metadataStores/default/artifacts/my-experiment-0obvksai-auto-mpg-local-run-2-metrics/operations/162228336473407488\n",
      "Artifact deleted. . Resource name: projects/55590906972/locations/us-central1/metadataStores/default/artifacts/my-experiment-0obvksai-auto-mpg-local-run-2-metrics\n",
      "Experiment run auto-mpg-local-run-1 does not have a backing tensorboard run. Skipping deletion.\n",
      "Deleting Execution : projects/55590906972/locations/us-central1/metadataStores/default/executions/my-experiment-0obvksai-auto-mpg-local-run-1\n",
      "Delete Execution  backing LRO: projects/55590906972/locations/us-central1/metadataStores/default/executions/my-experiment-0obvksai-auto-mpg-local-run-1/operations/8295729263504523264\n",
      "Execution deleted. . Resource name: projects/55590906972/locations/us-central1/metadataStores/default/executions/my-experiment-0obvksai-auto-mpg-local-run-1\n",
      "Deleting Artifact : projects/55590906972/locations/us-central1/metadataStores/default/artifacts/my-experiment-0obvksai-auto-mpg-local-run-1-metrics\n",
      "Delete Artifact  backing LRO: projects/55590906972/locations/us-central1/metadataStores/default/artifacts/my-experiment-0obvksai-auto-mpg-local-run-1-metrics/operations/801739483560017920\n",
      "Artifact deleted. . Resource name: projects/55590906972/locations/us-central1/metadataStores/default/artifacts/my-experiment-0obvksai-auto-mpg-local-run-1-metrics\n",
      "Experiment run auto-mpg-local-run-0 does not have a backing tensorboard run. Skipping deletion.\n",
      "Deleting Execution : projects/55590906972/locations/us-central1/metadataStores/default/executions/my-experiment-0obvksai-auto-mpg-local-run-0\n",
      "Delete Execution  backing LRO: projects/55590906972/locations/us-central1/metadataStores/default/executions/my-experiment-0obvksai-auto-mpg-local-run-0/operations/2278920161337540608\n",
      "Execution deleted. . Resource name: projects/55590906972/locations/us-central1/metadataStores/default/executions/my-experiment-0obvksai-auto-mpg-local-run-0\n",
      "Deleting Artifact : projects/55590906972/locations/us-central1/metadataStores/default/artifacts/my-experiment-0obvksai-auto-mpg-local-run-0-metrics\n",
      "Delete Artifact  backing LRO: projects/55590906972/locations/us-central1/metadataStores/default/artifacts/my-experiment-0obvksai-auto-mpg-local-run-0-metrics/operations/7867887298904326144\n",
      "Artifact deleted. . Resource name: projects/55590906972/locations/us-central1/metadataStores/default/artifacts/my-experiment-0obvksai-auto-mpg-local-run-0-metrics\n",
      "Deleting Context : projects/55590906972/locations/us-central1/metadataStores/default/contexts/my-experiment-0obvksai\n",
      "Delete Context  backing LRO: projects/55590906972/locations/us-central1/metadataStores/default/contexts/my-experiment-0obvksai/operations/1166531053377028096\n",
      "Context deleted. . Resource name: projects/55590906972/locations/us-central1/metadataStores/default/contexts/my-experiment-0obvksai\n",
      "Deleting Tensorboard : projects/55590906972/locations/us-central1/tensorboards/4134841019600470016\n",
      "Delete Tensorboard  backing LRO: projects/55590906972/locations/us-central1/operations/3539716950768746496\n",
      "Tensorboard deleted. . Resource name: projects/55590906972/locations/us-central1/tensorboards/4134841019600470016\n"
     ]
    }
   ],
   "source": [
    "# Delete experiment\n",
    "exp = vertex_ai.Experiment(EXPERIMENT_NAME)\n",
    "exp.delete(delete_backing_tensorboard_runs=True)\n",
    "\n",
    "# Delete Tensorboard\n",
    "vertex_ai_tb.delete()\n",
    "\n",
    "# Delete Cloud Storage objects that were created\n",
    "delete_bucket = False\n",
    "\n",
    "if delete_bucket or os.getenv(\"IS_TESTING\"):\n",
    "    ! gsutil rm -rf {BUCKET_URI}"
   ]
  },
  {
   "cell_type": "code",
   "execution_count": null,
   "metadata": {},
   "outputs": [],
   "source": []
  }
 ],
 "metadata": {
  "colab": {
   "collapsed_sections": [],
   "name": "comparing_local_trained_models.ipynb",
   "toc_visible": true
  },
  "environment": {
   "kernel": "python3",
   "name": "common-cpu.m103",
   "type": "gcloud",
   "uri": "gcr.io/deeplearning-platform-release/base-cpu:m103"
  },
  "kernelspec": {
   "display_name": "Python 3",
   "language": "python",
   "name": "python3"
  },
  "language_info": {
   "codemirror_mode": {
    "name": "ipython",
    "version": 3
   },
   "file_extension": ".py",
   "mimetype": "text/x-python",
   "name": "python",
   "nbconvert_exporter": "python",
   "pygments_lexer": "ipython3",
   "version": "3.7.12"
  }
 },
 "nbformat": 4,
 "nbformat_minor": 4
}

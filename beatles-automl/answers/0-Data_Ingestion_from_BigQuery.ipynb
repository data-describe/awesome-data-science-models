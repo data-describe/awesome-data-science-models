{
 "cells": [
  {
   "cell_type": "markdown",
   "metadata": {
    "tags": []
   },
   "source": [
    "# Data Ingestion from BigQuery"
   ]
  },
  {
   "cell_type": "markdown",
   "metadata": {},
   "source": [
    "<strong>Step 1: Exploratory Data Analysis</strong>"
   ]
  },
  {
   "cell_type": "code",
   "execution_count": null,
   "metadata": {},
   "outputs": [],
   "source": [
    "%%bigquery all_artists_df\n",
    "\n",
    "SELECT artist_name,\n",
    "       count(*) AS num_listens_per_artist\n",
    "FROM   `listenbrainz.listenbrainz.listen`\n",
    "GROUP  BY artist_name\n",
    "ORDER  BY count(*) DESC; "
   ]
  },
  {
   "cell_type": "code",
   "execution_count": null,
   "metadata": {},
   "outputs": [],
   "source": [
    "all_artists_df.head()"
   ]
  },
  {
   "cell_type": "code",
   "execution_count": null,
   "metadata": {},
   "outputs": [],
   "source": [
    "all_artists_df.shape"
   ]
  },
  {
   "cell_type": "code",
   "execution_count": null,
   "metadata": {
    "tags": []
   },
   "outputs": [],
   "source": [
    "all_artists_df.num_listens_per_artist.plot(kind='hist')"
   ]
  },
  {
   "cell_type": "code",
   "execution_count": null,
   "metadata": {
    "tags": []
   },
   "outputs": [],
   "source": [
    "all_artists_df.describe()"
   ]
  },
  {
   "cell_type": "code",
   "execution_count": null,
   "metadata": {},
   "outputs": [],
   "source": [
    "all_artists_df[all_artists_df.num_listens_per_artist > 58000].shape"
   ]
  },
  {
   "cell_type": "code",
   "execution_count": null,
   "metadata": {},
   "outputs": [],
   "source": [
    "359/1098460"
   ]
  },
  {
   "cell_type": "code",
   "execution_count": null,
   "metadata": {},
   "outputs": [],
   "source": [
    "all_artists_df[all_artists_df.num_listens_per_artist > 50000].plot(kind='hist')"
   ]
  },
  {
   "cell_type": "markdown",
   "metadata": {},
   "source": [
    "<strong>Step 2: Ingest Artists Data from Listen Brainz Dataset</strong>\n",
    "\n",
    "This query gets a list of the top 300 most popular artists from the Listen Brainz data table, as determined by the number of user listen events."
   ]
  },
  {
   "cell_type": "code",
   "execution_count": null,
   "metadata": {},
   "outputs": [],
   "source": [
    "%%bigquery artists_df\n",
    "\n",
    "SELECT artist_name\n",
    "FROM   `listenbrainz.listenbrainz.listen`\n",
    "GROUP  BY artist_name\n",
    "ORDER  BY count(*) DESC\n",
    "LIMIT  300; "
   ]
  },
  {
   "cell_type": "code",
   "execution_count": null,
   "metadata": {},
   "outputs": [],
   "source": [
    "artists_df.head(10).sort_values(by='artist_name')"
   ]
  },
  {
   "cell_type": "markdown",
   "metadata": {},
   "source": [
    "<strong>Step 3: Ingest User Listening Data</strong>\n",
    "\n",
    "This query gets a corresponding list of user listens for each artist in the top 300 list."
   ]
  },
  {
   "cell_type": "code",
   "execution_count": null,
   "metadata": {},
   "outputs": [],
   "source": [
    "%%bigquery play_counts_df\n",
    "\n",
    "SELECT user_name,\n",
    "       artist_name,\n",
    "       count(*) AS cnt\n",
    "FROM   `listenbrainz.listenbrainz.listen`\n",
    "WHERE  artist_name IN (SELECT artist_name\n",
    "                       FROM   `listenbrainz.listenbrainz.listen`\n",
    "                       GROUP  BY artist_name\n",
    "                       ORDER  BY count(*) DESC\n",
    "                       LIMIT  300)\n",
    "GROUP  BY user_name,\n",
    "          artist_name; "
   ]
  },
  {
   "cell_type": "code",
   "execution_count": null,
   "metadata": {},
   "outputs": [],
   "source": [
    "play_counts_df.head()"
   ]
  },
  {
   "cell_type": "code",
   "execution_count": null,
   "metadata": {},
   "outputs": [],
   "source": [
    "play_counts_df.isna().sum()"
   ]
  },
  {
   "cell_type": "code",
   "execution_count": null,
   "metadata": {},
   "outputs": [],
   "source": [
    "play_counts_df.shape"
   ]
  },
  {
   "cell_type": "markdown",
   "metadata": {},
   "source": [
    "<strong>Step 3: Write the two ingested datasets out to static files in the working directory</strong>\n",
    "\n",
    "The output files are in the 'feather' format, which is a portable file format for storing pandas dataframes. See [here](https://arrow.apache.org/docs/python/feather.html) for more details."
   ]
  },
  {
   "cell_type": "code",
   "execution_count": null,
   "metadata": {},
   "outputs": [],
   "source": [
    "artists_df.to_feather(\"input_data/artist_df.feather\")"
   ]
  },
  {
   "cell_type": "code",
   "execution_count": null,
   "metadata": {},
   "outputs": [],
   "source": [
    "play_counts_df.to_feather(\"input_data/play_counts_df.feather\")"
   ]
  }
 ],
 "metadata": {
  "environment": {
   "kernel": "python3",
   "name": "common-cpu.m98",
   "type": "gcloud",
   "uri": "gcr.io/deeplearning-platform-release/base-cpu:m98"
  },
  "kernelspec": {
   "display_name": "Python 3",
   "language": "python",
   "name": "python3"
  },
  "language_info": {
   "codemirror_mode": {
    "name": "ipython",
    "version": 3
   },
   "file_extension": ".py",
   "mimetype": "text/x-python",
   "name": "python",
   "nbconvert_exporter": "python",
   "pygments_lexer": "ipython3",
   "version": "3.7.12"
  }
 },
 "nbformat": 4,
 "nbformat_minor": 4
}

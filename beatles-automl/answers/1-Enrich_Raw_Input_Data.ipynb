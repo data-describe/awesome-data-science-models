{
 "cells": [
  {
   "cell_type": "markdown",
   "metadata": {
    "tags": []
   },
   "source": [
    "# Enrich Raw Input Data\n",
    "\n",
    "The data pulled from the BigQuery ListenBrainz dataset is pretty sparse and contains only the artist's name, the user's name, and the corresponding number of listen that user has for that artist. In order to train a prediction algorithm, we must enrich the raw input data by leveraging third party data providers to provide descriptors of the artist's music which may inform user preference.\n",
    "\n",
    "We use the [Last FM API](http://last.fm/api/) to get the data for each artist. In our code below we assume that the first matching artist is the correct one.\n",
    "\n",
    "Our <font color=\"darkblue\"><strong>working hypothesis</strong></font> is that if the user in question does not like any musicians that are tagged as \"rock\" artists, then they probably won't like The Beatles."
   ]
  },
  {
   "cell_type": "code",
   "execution_count": null,
   "metadata": {},
   "outputs": [],
   "source": [
    "import requests\n",
    "import pandas as pd"
   ]
  },
  {
   "cell_type": "code",
   "execution_count": null,
   "metadata": {},
   "outputs": [],
   "source": [
    "lastfm_api_keys = dict([x.split('\\t') for x in open('lastfm.conf').read().split('\\n')])"
   ]
  },
  {
   "cell_type": "code",
   "execution_count": null,
   "metadata": {},
   "outputs": [],
   "source": [
    "artists_df = pd.read_feather(\"input_data/artist_df.feather\")"
   ]
  },
  {
   "cell_type": "markdown",
   "metadata": {},
   "source": [
    "For each artist in our `artists_df` dataframe, we perform the following steps:\n",
    "\n",
    "1. Search Last FM for the artist name\n",
    "2. Grab the id for that artist (mbid)\n",
    "3. Call getInfo to get more data on the artist\n",
    "4. Get the tags\n",
    "5. Add the tags to the columns and set as True: meaning we saw that tag for that artist\n",
    "\n"
   ]
  },
  {
   "cell_type": "code",
   "execution_count": null,
   "metadata": {},
   "outputs": [],
   "source": [
    "def get_artist_tags(artist_name: str) -> list:\n",
    "    \"\"\"For a provided musical artist, searches Last FM for corresponding 'tag' data, then returns that data\"\"\"\n",
    "    \n",
    "    tags = []\n",
    "    \n",
    "    search_response = requests.get(\n",
    "        url=lastfm_api_keys['API Root'],\n",
    "        params=dict(\n",
    "            method=\"artist.search\",\n",
    "            artist=artist_name,\n",
    "            api_key=lastfm_api_keys['API key'],\n",
    "            format=\"json\"\n",
    "        )\n",
    "    ).json()\n",
    "    \n",
    "    mbid = search_response['results']['artistmatches']['artist'][0]['mbid']  # unique identifier for a particular artist\n",
    "    \n",
    "    tag_response = requests.get(\n",
    "        url=lastfm_api_keys['API Root'],\n",
    "        params=dict(\n",
    "            method=\"artist.getInfo\",\n",
    "            artist=artist_name,\n",
    "            mbid=mbid,\n",
    "            api_key=lastfm_api_keys['API key'],\n",
    "            format=\"json\"\n",
    "        )\n",
    "    ).json()\n",
    "    \n",
    "    tags = [\"tag_{}\".format(x['name'].lower().replace(\"-\", \" \")) for x in tag_response['artist']['tags']['tag']]\n",
    "    \n",
    "    return tags"
   ]
  },
  {
   "cell_type": "code",
   "execution_count": null,
   "metadata": {},
   "outputs": [],
   "source": [
    "get_artist_tags(\"The White Stripes\")"
   ]
  },
  {
   "cell_type": "markdown",
   "metadata": {},
   "source": [
    "Now that we've defined our function to get the data we need, let's iterate over our dataset and retrieve tag information for all of our artists."
   ]
  },
  {
   "cell_type": "markdown",
   "metadata": {},
   "source": [
    "The code block below takes a while to run, and for no good reason that I can see.\n",
    "\n",
    "Let's do this instead - let's "
   ]
  },
  {
   "cell_type": "code",
   "execution_count": null,
   "metadata": {},
   "outputs": [],
   "source": [
    "artists_df['artist_name'].head()"
   ]
  },
  {
   "cell_type": "markdown",
   "metadata": {},
   "source": [
    "Running the code below results in a couple of issues:\n",
    "1. The LastFM API obviously has some sort of rate limiting, and some artists are skipped\n",
    "2. Performance for iterating over dataframes is slow\n",
    "3. We receive an additional PerformanceWarning for the DataFrame being highly fragmented, a result of calling `frame.insert` too many times"
   ]
  },
  {
   "cell_type": "code",
   "execution_count": null,
   "metadata": {
    "tags": []
   },
   "outputs": [],
   "source": [
    "for index, row in artists_df.iterrows():\n",
    "    artist_name = row['artist_name']\n",
    "    \n",
    "    try:\n",
    "        tags = get_artist_tags(artist_name)\n",
    "        \n",
    "        for tag in tags:\n",
    "            artists_df.at[index, tag] = True\n",
    "            \n",
    "    except Exception as e:\n",
    "        print(e)"
   ]
  },
  {
   "cell_type": "markdown",
   "metadata": {},
   "source": [
    "After retrieving the tag data from LastFM API we then fill any missing information with a default of 'False'."
   ]
  },
  {
   "cell_type": "code",
   "execution_count": null,
   "metadata": {
    "tags": []
   },
   "outputs": [],
   "source": [
    "artists_df.fillna(False, inplace=True)\n",
    "artists_df.head(5)"
   ]
  },
  {
   "cell_type": "markdown",
   "metadata": {},
   "source": [
    "Finally we output the enriched data to a portable file format."
   ]
  },
  {
   "cell_type": "code",
   "execution_count": null,
   "metadata": {},
   "outputs": [],
   "source": [
    "artists_df.to_feather(\"enriched_data/band_tags.feather\")"
   ]
  }
 ],
 "metadata": {
  "environment": {
   "kernel": "python3",
   "name": "common-cpu.m98",
   "type": "gcloud",
   "uri": "gcr.io/deeplearning-platform-release/base-cpu:m98"
  },
  "kernelspec": {
   "display_name": "Python 3",
   "language": "python",
   "name": "python3"
  },
  "language_info": {
   "codemirror_mode": {
    "name": "ipython",
    "version": 3
   },
   "file_extension": ".py",
   "mimetype": "text/x-python",
   "name": "python",
   "nbconvert_exporter": "python",
   "pygments_lexer": "ipython3",
   "version": "3.7.12"
  }
 },
 "nbformat": 4,
 "nbformat_minor": 4
}

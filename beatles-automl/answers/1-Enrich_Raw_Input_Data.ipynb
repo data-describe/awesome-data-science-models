{
 "cells": [
  {
   "cell_type": "markdown",
   "metadata": {
    "tags": []
   },
   "source": [
    "# Enrich Raw Input Data\n",
    "\n",
    "The data pulled from the BigQuery ListenBrainz dataset is pretty sparse and contains only the artist's name, the user's name, and the corresponding number of listen that user has for that artist. In order to train a prediction algorithm, we must enrich the raw input data by leveraging third party data providers to provide descriptors of the artist's music which may inform user preference.\n",
    "\n",
    "We use the [Last FM API](http://last.fm/api/) to get the data for each artist. In our code below we assume that the first matching artist is the correct one.\n",
    "\n",
    "Our <font color=\"darkblue\"><strong>working hypothesis</strong></font> is that if the user in question does not like any musicians that are tagged as \"rock\" artists, then they probably won't like The Beatles."
   ]
  },
  {
   "cell_type": "code",
   "execution_count": 1,
   "metadata": {},
   "outputs": [],
   "source": [
    "import requests\n",
    "import pandas as pd"
   ]
  },
  {
   "cell_type": "code",
   "execution_count": 2,
   "metadata": {},
   "outputs": [],
   "source": [
    "lastfm_api_keys = dict([x.split('\\t') for x in open('lastfm.conf').read().split('\\n')])"
   ]
  },
  {
   "cell_type": "code",
   "execution_count": 3,
   "metadata": {},
   "outputs": [],
   "source": [
    "artists_df = pd.read_feather(\"input_data/artist_df.feather\")"
   ]
  },
  {
   "cell_type": "markdown",
   "metadata": {},
   "source": [
    "For each artist in our `artists_df` dataframe, we perform the following steps:\n",
    "\n",
    "1. Search Last FM for the artist name\n",
    "2. Grab the id for that artist (mbid)\n",
    "3. Call getInfo to get more data on the artist\n",
    "4. Get the tags\n",
    "5. Add the tags to the columns and set as True: meaning we saw that tag for that artist\n",
    "\n"
   ]
  },
  {
   "cell_type": "code",
   "execution_count": 4,
   "metadata": {},
   "outputs": [],
   "source": [
    "def get_artist_tags(artist_name: str) -> list:\n",
    "    \"\"\"For a provided musical artist, searches Last FM for corresponding 'tag' data, then returns that data\"\"\"\n",
    "    \n",
    "    tags = []\n",
    "    \n",
    "    search_response = requests.get(\n",
    "        url=lastfm_api_keys['API Root'],\n",
    "        params=dict(\n",
    "            method=\"artist.search\",\n",
    "            artist=artist_name,\n",
    "            api_key=lastfm_api_keys['API key'],\n",
    "            format=\"json\"\n",
    "        )\n",
    "    ).json()\n",
    "    \n",
    "    mbid = search_response['results']['artistmatches']['artist'][0]['mbid']  # unique identifier for a particular artist\n",
    "    \n",
    "    tag_response = requests.get(\n",
    "        url=lastfm_api_keys['API Root'],\n",
    "        params=dict(\n",
    "            method=\"artist.getInfo\",\n",
    "            artist=artist_name,\n",
    "            mbid=mbid,\n",
    "            api_key=lastfm_api_keys['API key'],\n",
    "            format=\"json\"\n",
    "        )\n",
    "    ).json()\n",
    "    \n",
    "    tags = [\"tag_{}\".format(x['name'].lower().replace(\"-\", \" \")) for x in tag_response['artist']['tags']['tag']]\n",
    "    \n",
    "    return tags"
   ]
  },
  {
   "cell_type": "code",
   "execution_count": 5,
   "metadata": {},
   "outputs": [
    {
     "data": {
      "text/plain": [
       "['tag_rock',\n",
       " 'tag_alternative',\n",
       " 'tag_alternative rock',\n",
       " 'tag_indie',\n",
       " 'tag_indie rock']"
      ]
     },
     "execution_count": 5,
     "metadata": {},
     "output_type": "execute_result"
    }
   ],
   "source": [
    "get_artist_tags(\"The White Stripes\")"
   ]
  },
  {
   "cell_type": "markdown",
   "metadata": {},
   "source": [
    "Now that we've defined our function to get the data we need, let's iterate over our dataset and retrieve tag information for all of our artists."
   ]
  },
  {
   "cell_type": "markdown",
   "metadata": {},
   "source": [
    "The code block below takes a while to run, and for no good reason that I can see.\n",
    "\n",
    "Let's do this instead - let's "
   ]
  },
  {
   "cell_type": "code",
   "execution_count": 6,
   "metadata": {},
   "outputs": [
    {
     "data": {
      "text/plain": [
       "0      Radiohead\n",
       "1    The Beatles\n",
       "2     Pink Floyd\n",
       "3      Daft Punk\n",
       "4           Muse\n",
       "Name: artist_name, dtype: object"
      ]
     },
     "execution_count": 6,
     "metadata": {},
     "output_type": "execute_result"
    }
   ],
   "source": [
    "artists_df['artist_name'].head()"
   ]
  },
  {
   "cell_type": "markdown",
   "metadata": {},
   "source": [
    "Running the code below results in a couple of issues:\n",
    "1. The LastFM API obviously has some sort of rate limiting, and some artists are skipped\n",
    "2. Performance for iterating over dataframes is slow\n",
    "3. We receive an additional PerformanceWarning for the DataFrame being highly fragmented, a result of calling `frame.insert` too many times"
   ]
  },
  {
   "cell_type": "code",
   "execution_count": 7,
   "metadata": {
    "tags": []
   },
   "outputs": [
    {
     "name": "stdout",
     "output_type": "stream",
     "text": [
      "HTTPConnectionPool(host='ws.audioscrobbler.com', port=80): Max retries exceeded with url: /2.0/?method=artist.search&artist=Massive+Attack&api_key=74eef7c44309c5e7e9f35c1a783e774a&format=json (Caused by NewConnectionError('<urllib3.connection.HTTPConnection object at 0x7f00b473bdd0>: Failed to establish a new connection: [Errno 101] Network is unreachable'))\n",
      "HTTPConnectionPool(host='ws.audioscrobbler.com', port=80): Max retries exceeded with url: /2.0/?method=artist.search&artist=Bob+Dylan&api_key=74eef7c44309c5e7e9f35c1a783e774a&format=json (Caused by NewConnectionError('<urllib3.connection.HTTPConnection object at 0x7f00b46d4650>: Failed to establish a new connection: [Errno 101] Network is unreachable'))\n"
     ]
    },
    {
     "name": "stderr",
     "output_type": "stream",
     "text": [
      "/opt/conda/lib/python3.7/site-packages/pandas/core/indexing.py:1684: PerformanceWarning: DataFrame is highly fragmented.  This is usually the result of calling `frame.insert` many times, which has poor performance.  Consider joining all columns at once using pd.concat(axis=1) instead.  To get a de-fragmented frame, use `newframe = frame.copy()`\n",
      "  self.obj[key] = infer_fill_value(value)\n"
     ]
    },
    {
     "name": "stdout",
     "output_type": "stream",
     "text": [
      "HTTPConnectionPool(host='ws.audioscrobbler.com', port=80): Max retries exceeded with url: /2.0/?method=artist.search&artist=Hans+Zimmer&api_key=74eef7c44309c5e7e9f35c1a783e774a&format=json (Caused by NewConnectionError('<urllib3.connection.HTTPConnection object at 0x7f00b4655d90>: Failed to establish a new connection: [Errno 101] Network is unreachable'))\n",
      "HTTPConnectionPool(host='ws.audioscrobbler.com', port=80): Max retries exceeded with url: /2.0/?method=artist.search&artist=Alice+in+Chains&api_key=74eef7c44309c5e7e9f35c1a783e774a&format=json (Caused by NewConnectionError('<urllib3.connection.HTTPConnection object at 0x7f00b4655690>: Failed to establish a new connection: [Errno 101] Network is unreachable'))\n",
      "HTTPConnectionPool(host='ws.audioscrobbler.com', port=80): Max retries exceeded with url: /2.0/?method=artist.search&artist=Coheed+and+Cambria&api_key=74eef7c44309c5e7e9f35c1a783e774a&format=json (Caused by NewConnectionError('<urllib3.connection.HTTPConnection object at 0x7f00b464e8d0>: Failed to establish a new connection: [Errno 101] Network is unreachable'))\n",
      "HTTPConnectionPool(host='ws.audioscrobbler.com', port=80): Max retries exceeded with url: /2.0/?method=artist.search&artist=Bob+Marley+%26+The+Wailers&api_key=74eef7c44309c5e7e9f35c1a783e774a&format=json (Caused by NewConnectionError('<urllib3.connection.HTTPConnection object at 0x7f00b4654790>: Failed to establish a new connection: [Errno 101] Network is unreachable'))\n",
      "HTTPConnectionPool(host='ws.audioscrobbler.com', port=80): Max retries exceeded with url: /2.0/?method=artist.search&artist=Childish+Gambino&api_key=74eef7c44309c5e7e9f35c1a783e774a&format=json (Caused by NewConnectionError('<urllib3.connection.HTTPConnection object at 0x7f00b4676050>: Failed to establish a new connection: [Errno 101] Network is unreachable'))\n",
      "HTTPConnectionPool(host='ws.audioscrobbler.com', port=80): Max retries exceeded with url: /2.0/?method=artist.search&artist=Vangelis&api_key=74eef7c44309c5e7e9f35c1a783e774a&format=json (Caused by NewConnectionError('<urllib3.connection.HTTPConnection object at 0x7f00b418f450>: Failed to establish a new connection: [Errno 101] Network is unreachable'))\n",
      "HTTPConnectionPool(host='ws.audioscrobbler.com', port=80): Max retries exceeded with url: /2.0/?method=artist.search&artist=A+Tribe+Called+Quest&api_key=74eef7c44309c5e7e9f35c1a783e774a&format=json (Caused by NewConnectionError('<urllib3.connection.HTTPConnection object at 0x7f00b41b1f50>: Failed to establish a new connection: [Errno 101] Network is unreachable'))\n"
     ]
    }
   ],
   "source": [
    "for index, row in artists_df.iterrows():\n",
    "    artist_name = row['artist_name']\n",
    "    \n",
    "    try:\n",
    "        tags = get_artist_tags(artist_name)\n",
    "        \n",
    "        for tag in tags:\n",
    "            artists_df.at[index, tag] = True\n",
    "            \n",
    "    except Exception as e:\n",
    "        print(e)"
   ]
  },
  {
   "cell_type": "markdown",
   "metadata": {},
   "source": [
    "After retrieving the tag data from LastFM API we then fill any missing information with a default of 'False'."
   ]
  },
  {
   "cell_type": "code",
   "execution_count": 8,
   "metadata": {
    "tags": []
   },
   "outputs": [
    {
     "data": {
      "text/html": [
       "<div>\n",
       "<style scoped>\n",
       "    .dataframe tbody tr th:only-of-type {\n",
       "        vertical-align: middle;\n",
       "    }\n",
       "\n",
       "    .dataframe tbody tr th {\n",
       "        vertical-align: top;\n",
       "    }\n",
       "\n",
       "    .dataframe thead th {\n",
       "        text-align: right;\n",
       "    }\n",
       "</style>\n",
       "<table border=\"1\" class=\"dataframe\">\n",
       "  <thead>\n",
       "    <tr style=\"text-align: right;\">\n",
       "      <th></th>\n",
       "      <th>artist_name</th>\n",
       "      <th>tag_alternative</th>\n",
       "      <th>tag_alternative rock</th>\n",
       "      <th>tag_rock</th>\n",
       "      <th>tag_indie</th>\n",
       "      <th>tag_electronic</th>\n",
       "      <th>tag_classic rock</th>\n",
       "      <th>tag_british</th>\n",
       "      <th>tag_60s</th>\n",
       "      <th>tag_pop</th>\n",
       "      <th>...</th>\n",
       "      <th>tag_jay z</th>\n",
       "      <th>tag_shoegazer</th>\n",
       "      <th>tag_hair metal</th>\n",
       "      <th>tag_rapcore</th>\n",
       "      <th>tag_underground hip hop</th>\n",
       "      <th>tag_symphonic black metal</th>\n",
       "      <th>tag_darkwave</th>\n",
       "      <th>tag_world</th>\n",
       "      <th>tag_latin</th>\n",
       "      <th>tag_spanish</th>\n",
       "    </tr>\n",
       "  </thead>\n",
       "  <tbody>\n",
       "    <tr>\n",
       "      <th>0</th>\n",
       "      <td>Radiohead</td>\n",
       "      <td>True</td>\n",
       "      <td>True</td>\n",
       "      <td>True</td>\n",
       "      <td>True</td>\n",
       "      <td>True</td>\n",
       "      <td>False</td>\n",
       "      <td>False</td>\n",
       "      <td>False</td>\n",
       "      <td>False</td>\n",
       "      <td>...</td>\n",
       "      <td>False</td>\n",
       "      <td>False</td>\n",
       "      <td>False</td>\n",
       "      <td>False</td>\n",
       "      <td>False</td>\n",
       "      <td>False</td>\n",
       "      <td>False</td>\n",
       "      <td>False</td>\n",
       "      <td>False</td>\n",
       "      <td>False</td>\n",
       "    </tr>\n",
       "    <tr>\n",
       "      <th>1</th>\n",
       "      <td>The Beatles</td>\n",
       "      <td>False</td>\n",
       "      <td>False</td>\n",
       "      <td>True</td>\n",
       "      <td>False</td>\n",
       "      <td>False</td>\n",
       "      <td>True</td>\n",
       "      <td>True</td>\n",
       "      <td>True</td>\n",
       "      <td>True</td>\n",
       "      <td>...</td>\n",
       "      <td>False</td>\n",
       "      <td>False</td>\n",
       "      <td>False</td>\n",
       "      <td>False</td>\n",
       "      <td>False</td>\n",
       "      <td>False</td>\n",
       "      <td>False</td>\n",
       "      <td>False</td>\n",
       "      <td>False</td>\n",
       "      <td>False</td>\n",
       "    </tr>\n",
       "    <tr>\n",
       "      <th>2</th>\n",
       "      <td>Pink Floyd</td>\n",
       "      <td>False</td>\n",
       "      <td>False</td>\n",
       "      <td>True</td>\n",
       "      <td>False</td>\n",
       "      <td>False</td>\n",
       "      <td>True</td>\n",
       "      <td>False</td>\n",
       "      <td>False</td>\n",
       "      <td>False</td>\n",
       "      <td>...</td>\n",
       "      <td>False</td>\n",
       "      <td>False</td>\n",
       "      <td>False</td>\n",
       "      <td>False</td>\n",
       "      <td>False</td>\n",
       "      <td>False</td>\n",
       "      <td>False</td>\n",
       "      <td>False</td>\n",
       "      <td>False</td>\n",
       "      <td>False</td>\n",
       "    </tr>\n",
       "    <tr>\n",
       "      <th>3</th>\n",
       "      <td>Daft Punk</td>\n",
       "      <td>False</td>\n",
       "      <td>False</td>\n",
       "      <td>False</td>\n",
       "      <td>False</td>\n",
       "      <td>True</td>\n",
       "      <td>False</td>\n",
       "      <td>False</td>\n",
       "      <td>False</td>\n",
       "      <td>False</td>\n",
       "      <td>...</td>\n",
       "      <td>False</td>\n",
       "      <td>False</td>\n",
       "      <td>False</td>\n",
       "      <td>False</td>\n",
       "      <td>False</td>\n",
       "      <td>False</td>\n",
       "      <td>False</td>\n",
       "      <td>False</td>\n",
       "      <td>False</td>\n",
       "      <td>False</td>\n",
       "    </tr>\n",
       "    <tr>\n",
       "      <th>4</th>\n",
       "      <td>Muse</td>\n",
       "      <td>True</td>\n",
       "      <td>True</td>\n",
       "      <td>True</td>\n",
       "      <td>False</td>\n",
       "      <td>False</td>\n",
       "      <td>False</td>\n",
       "      <td>False</td>\n",
       "      <td>False</td>\n",
       "      <td>False</td>\n",
       "      <td>...</td>\n",
       "      <td>False</td>\n",
       "      <td>False</td>\n",
       "      <td>False</td>\n",
       "      <td>False</td>\n",
       "      <td>False</td>\n",
       "      <td>False</td>\n",
       "      <td>False</td>\n",
       "      <td>False</td>\n",
       "      <td>False</td>\n",
       "      <td>False</td>\n",
       "    </tr>\n",
       "  </tbody>\n",
       "</table>\n",
       "<p>5 rows × 214 columns</p>\n",
       "</div>"
      ],
      "text/plain": [
       "   artist_name  tag_alternative  tag_alternative rock  tag_rock  tag_indie  \\\n",
       "0    Radiohead             True                  True      True       True   \n",
       "1  The Beatles            False                 False      True      False   \n",
       "2   Pink Floyd            False                 False      True      False   \n",
       "3    Daft Punk            False                 False     False      False   \n",
       "4         Muse             True                  True      True      False   \n",
       "\n",
       "   tag_electronic  tag_classic rock  tag_british  tag_60s  tag_pop  ...  \\\n",
       "0            True             False        False    False    False  ...   \n",
       "1           False              True         True     True     True  ...   \n",
       "2           False              True        False    False    False  ...   \n",
       "3            True             False        False    False    False  ...   \n",
       "4           False             False        False    False    False  ...   \n",
       "\n",
       "   tag_jay z  tag_shoegazer  tag_hair metal  tag_rapcore  \\\n",
       "0      False          False           False        False   \n",
       "1      False          False           False        False   \n",
       "2      False          False           False        False   \n",
       "3      False          False           False        False   \n",
       "4      False          False           False        False   \n",
       "\n",
       "   tag_underground hip hop  tag_symphonic black metal  tag_darkwave  \\\n",
       "0                    False                      False         False   \n",
       "1                    False                      False         False   \n",
       "2                    False                      False         False   \n",
       "3                    False                      False         False   \n",
       "4                    False                      False         False   \n",
       "\n",
       "   tag_world  tag_latin  tag_spanish  \n",
       "0      False      False        False  \n",
       "1      False      False        False  \n",
       "2      False      False        False  \n",
       "3      False      False        False  \n",
       "4      False      False        False  \n",
       "\n",
       "[5 rows x 214 columns]"
      ]
     },
     "execution_count": 8,
     "metadata": {},
     "output_type": "execute_result"
    }
   ],
   "source": [
    "artists_df.fillna(False, inplace=True)\n",
    "artists_df.head(5)"
   ]
  },
  {
   "cell_type": "markdown",
   "metadata": {},
   "source": [
    "Finally we output the enriched data to a portable file format."
   ]
  },
  {
   "cell_type": "code",
   "execution_count": 9,
   "metadata": {},
   "outputs": [],
   "source": [
    "artists_df.to_feather(\"enriched_data/band_tags.feather\")"
   ]
  }
 ],
 "metadata": {
  "environment": {
   "kernel": "python3",
   "name": "common-cpu.m103",
   "type": "gcloud",
   "uri": "gcr.io/deeplearning-platform-release/base-cpu:m103"
  },
  "kernelspec": {
   "display_name": "Python 3",
   "language": "python",
   "name": "python3"
  },
  "language_info": {
   "codemirror_mode": {
    "name": "ipython",
    "version": 3
   },
   "file_extension": ".py",
   "mimetype": "text/x-python",
   "name": "python",
   "nbconvert_exporter": "python",
   "pygments_lexer": "ipython3",
   "version": "3.7.12"
  }
 },
 "nbformat": 4,
 "nbformat_minor": 4
}

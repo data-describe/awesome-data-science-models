{
 "cells": [
  {
   "cell_type": "markdown",
   "metadata": {},
   "source": [
    "# Run Batch Inference\n",
    "\n",
    "Now that we've trained our model, we can run batch inference using the Vertex AI API.\n",
    "\n",
    "Note that it is not possible to use the Vertex AI SDK, as apparently running batch inference is not yet a feature within that SDK. Meaning we have to use curl."
   ]
  },
  {
   "cell_type": "code",
   "execution_count": 1,
   "metadata": {},
   "outputs": [],
   "source": [
    "import pandas as pd\n",
    "import json"
   ]
  },
  {
   "cell_type": "code",
   "execution_count": null,
   "metadata": {},
   "outputs": [],
   "source": [
    "# the csv file we're using for testing needs to be in Google Cloud Storage"
   ]
  },
  {
   "cell_type": "code",
   "execution_count": 26,
   "metadata": {},
   "outputs": [
    {
     "name": "stdout",
     "output_type": "stream",
     "text": [
      "Copying file://test_data/inference_sample.csv [Content-Type=text/csv]...\n",
      "/ [1 files][ 18.8 KiB/ 18.8 KiB]                                                \n",
      "Operation completed over 1 objects/18.8 KiB.                                     \n"
     ]
    }
   ],
   "source": [
    "!gsutil cp test_data/inference_sample.csv gs://aaa-aca-ml-workshop/beatles/inference_sample.csv"
   ]
  },
  {
   "cell_type": "code",
   "execution_count": 2,
   "metadata": {},
   "outputs": [],
   "source": [
    "inference_sample = pd.read_feather(\"test_data/inference_sample.feather\")"
   ]
  },
  {
   "cell_type": "code",
   "execution_count": 3,
   "metadata": {},
   "outputs": [
    {
     "data": {
      "text/html": [
       "<div>\n",
       "<style scoped>\n",
       "    .dataframe tbody tr th:only-of-type {\n",
       "        vertical-align: middle;\n",
       "    }\n",
       "\n",
       "    .dataframe tbody tr th {\n",
       "        vertical-align: top;\n",
       "    }\n",
       "\n",
       "    .dataframe thead th {\n",
       "        text-align: right;\n",
       "    }\n",
       "</style>\n",
       "<table border=\"1\" class=\"dataframe\">\n",
       "  <thead>\n",
       "    <tr style=\"text-align: right;\">\n",
       "      <th></th>\n",
       "      <th>user_name</th>\n",
       "      <th>30_Seconds_to_Mars</th>\n",
       "      <th>65daysofstatic</th>\n",
       "      <th>A_Perfect_Circle</th>\n",
       "      <th>A_Tribe_Called_Quest</th>\n",
       "      <th>ABBA</th>\n",
       "      <th>ACDC</th>\n",
       "      <th>Adele</th>\n",
       "      <th>Aerosmith</th>\n",
       "      <th>Air</th>\n",
       "      <th>...</th>\n",
       "      <th>tag_shoegazer</th>\n",
       "      <th>tag_hair_metal</th>\n",
       "      <th>tag_rapcore</th>\n",
       "      <th>tag_underground_hip_hop</th>\n",
       "      <th>tag_symphonic_black_metal</th>\n",
       "      <th>tag_darkwave</th>\n",
       "      <th>tag_world</th>\n",
       "      <th>tag_latin</th>\n",
       "      <th>tag_spanish</th>\n",
       "      <th>Like_The_Beatles</th>\n",
       "    </tr>\n",
       "  </thead>\n",
       "  <tbody>\n",
       "    <tr>\n",
       "      <th>0</th>\n",
       "      <td>thegiant</td>\n",
       "      <td>1.0</td>\n",
       "      <td>NaN</td>\n",
       "      <td>NaN</td>\n",
       "      <td>None</td>\n",
       "      <td>NaN</td>\n",
       "      <td>NaN</td>\n",
       "      <td>11.0</td>\n",
       "      <td>1.0</td>\n",
       "      <td>NaN</td>\n",
       "      <td>...</td>\n",
       "      <td>0.0</td>\n",
       "      <td>0.0</td>\n",
       "      <td>0.0</td>\n",
       "      <td>0.0</td>\n",
       "      <td>0.0</td>\n",
       "      <td>0.0</td>\n",
       "      <td>0.0</td>\n",
       "      <td>0.0</td>\n",
       "      <td>0.0</td>\n",
       "      <td>True</td>\n",
       "    </tr>\n",
       "    <tr>\n",
       "      <th>1</th>\n",
       "      <td>nezter</td>\n",
       "      <td>NaN</td>\n",
       "      <td>NaN</td>\n",
       "      <td>NaN</td>\n",
       "      <td>None</td>\n",
       "      <td>NaN</td>\n",
       "      <td>NaN</td>\n",
       "      <td>NaN</td>\n",
       "      <td>NaN</td>\n",
       "      <td>3.0</td>\n",
       "      <td>...</td>\n",
       "      <td>0.0</td>\n",
       "      <td>0.0</td>\n",
       "      <td>0.0</td>\n",
       "      <td>1.0</td>\n",
       "      <td>0.0</td>\n",
       "      <td>0.0</td>\n",
       "      <td>0.0</td>\n",
       "      <td>1.0</td>\n",
       "      <td>1.0</td>\n",
       "      <td>False</td>\n",
       "    </tr>\n",
       "    <tr>\n",
       "      <th>2</th>\n",
       "      <td>augustohp</td>\n",
       "      <td>NaN</td>\n",
       "      <td>52.0</td>\n",
       "      <td>502.0</td>\n",
       "      <td>None</td>\n",
       "      <td>1.0</td>\n",
       "      <td>452.0</td>\n",
       "      <td>1.0</td>\n",
       "      <td>215.0</td>\n",
       "      <td>14.0</td>\n",
       "      <td>...</td>\n",
       "      <td>0.0</td>\n",
       "      <td>2.0</td>\n",
       "      <td>1.0</td>\n",
       "      <td>0.0</td>\n",
       "      <td>0.0</td>\n",
       "      <td>0.0</td>\n",
       "      <td>0.0</td>\n",
       "      <td>1.0</td>\n",
       "      <td>1.0</td>\n",
       "      <td>True</td>\n",
       "    </tr>\n",
       "    <tr>\n",
       "      <th>3</th>\n",
       "      <td>stalphonzo</td>\n",
       "      <td>NaN</td>\n",
       "      <td>NaN</td>\n",
       "      <td>NaN</td>\n",
       "      <td>None</td>\n",
       "      <td>NaN</td>\n",
       "      <td>6.0</td>\n",
       "      <td>NaN</td>\n",
       "      <td>NaN</td>\n",
       "      <td>NaN</td>\n",
       "      <td>...</td>\n",
       "      <td>0.0</td>\n",
       "      <td>0.0</td>\n",
       "      <td>0.0</td>\n",
       "      <td>0.0</td>\n",
       "      <td>0.0</td>\n",
       "      <td>0.0</td>\n",
       "      <td>0.0</td>\n",
       "      <td>0.0</td>\n",
       "      <td>0.0</td>\n",
       "      <td>True</td>\n",
       "    </tr>\n",
       "    <tr>\n",
       "      <th>4</th>\n",
       "      <td>davenall</td>\n",
       "      <td>NaN</td>\n",
       "      <td>NaN</td>\n",
       "      <td>NaN</td>\n",
       "      <td>None</td>\n",
       "      <td>NaN</td>\n",
       "      <td>NaN</td>\n",
       "      <td>NaN</td>\n",
       "      <td>NaN</td>\n",
       "      <td>NaN</td>\n",
       "      <td>...</td>\n",
       "      <td>0.0</td>\n",
       "      <td>0.0</td>\n",
       "      <td>0.0</td>\n",
       "      <td>0.0</td>\n",
       "      <td>0.0</td>\n",
       "      <td>0.0</td>\n",
       "      <td>0.0</td>\n",
       "      <td>0.0</td>\n",
       "      <td>0.0</td>\n",
       "      <td>False</td>\n",
       "    </tr>\n",
       "  </tbody>\n",
       "</table>\n",
       "<p>5 rows × 514 columns</p>\n",
       "</div>"
      ],
      "text/plain": [
       "    user_name  30_Seconds_to_Mars  65daysofstatic  A_Perfect_Circle  \\\n",
       "0    thegiant                 1.0             NaN               NaN   \n",
       "1      nezter                 NaN             NaN               NaN   \n",
       "2   augustohp                 NaN            52.0             502.0   \n",
       "3  stalphonzo                 NaN             NaN               NaN   \n",
       "4    davenall                 NaN             NaN               NaN   \n",
       "\n",
       "  A_Tribe_Called_Quest  ABBA   ACDC  Adele  Aerosmith   Air  ...  \\\n",
       "0                 None   NaN    NaN   11.0        1.0   NaN  ...   \n",
       "1                 None   NaN    NaN    NaN        NaN   3.0  ...   \n",
       "2                 None   1.0  452.0    1.0      215.0  14.0  ...   \n",
       "3                 None   NaN    6.0    NaN        NaN   NaN  ...   \n",
       "4                 None   NaN    NaN    NaN        NaN   NaN  ...   \n",
       "\n",
       "   tag_shoegazer  tag_hair_metal  tag_rapcore  tag_underground_hip_hop  \\\n",
       "0            0.0             0.0          0.0                      0.0   \n",
       "1            0.0             0.0          0.0                      1.0   \n",
       "2            0.0             2.0          1.0                      0.0   \n",
       "3            0.0             0.0          0.0                      0.0   \n",
       "4            0.0             0.0          0.0                      0.0   \n",
       "\n",
       "   tag_symphonic_black_metal tag_darkwave  tag_world  tag_latin  tag_spanish  \\\n",
       "0                        0.0          0.0        0.0        0.0          0.0   \n",
       "1                        0.0          0.0        0.0        1.0          1.0   \n",
       "2                        0.0          0.0        0.0        1.0          1.0   \n",
       "3                        0.0          0.0        0.0        0.0          0.0   \n",
       "4                        0.0          0.0        0.0        0.0          0.0   \n",
       "\n",
       "   Like_The_Beatles  \n",
       "0              True  \n",
       "1             False  \n",
       "2              True  \n",
       "3              True  \n",
       "4             False  \n",
       "\n",
       "[5 rows x 514 columns]"
      ]
     },
     "execution_count": 3,
     "metadata": {},
     "output_type": "execute_result"
    }
   ],
   "source": [
    "inference_sample.head()"
   ]
  },
  {
   "cell_type": "code",
   "execution_count": 27,
   "metadata": {},
   "outputs": [],
   "source": [
    "# parameters\n",
    "LOCATION = \"us-central1\"\n",
    "PROJECT = \"ds-training-380514\"\n",
    "BATCH_JOB_NAME = \"foobar\"\n",
    "MODEL_ID = \"projects/354621994428/locations/us-central1/models/5489591077625135104\"\n",
    "URI = \"gs://aaa-aca-ml-workshop/beatles/inference_sample.csv\"\n",
    "OUTPUT_URI_PREFIX = \"gs://aaa-aca-ml-workshop/beatles/batch_prediction_output\"\n",
    "MACHINE_TYPE = \"e2-standard-2\"\n",
    "STARTING_REPLICA_COUNT = 1\n",
    "MAX_REPLICA_COUNT = 10  # default\n",
    "GENERATE_EXPLANATION = \"false\"  # default value"
   ]
  },
  {
   "cell_type": "code",
   "execution_count": 28,
   "metadata": {},
   "outputs": [],
   "source": [
    "request_body = {\n",
    "    \"displayName\": BATCH_JOB_NAME,\n",
    "    \"model\": MODEL_ID,\n",
    "    \"inputConfig\": {\n",
    "        \"instancesFormat\": \"csv\",\n",
    "        \"gcsSource\": {\n",
    "            \"uris\": [\n",
    "                URI\n",
    "            ]\n",
    "        },\n",
    "    },\n",
    "    \"outputConfig\": {\n",
    "        \"predictionsFormat\": \"csv\",\n",
    "        \"gcsDestination\": {\n",
    "            \"outputUriPrefix\": OUTPUT_URI_PREFIX\n",
    "        }\n",
    "    },\n",
    "    \"dedicatedResources\": {\n",
    "        \"machineSpec\": {\n",
    "            \"machineType\": MACHINE_TYPE,\n",
    "            \"acceleratorCount\": \"0\"\n",
    "        },\n",
    "        \"startingReplicaCount\": STARTING_REPLICA_COUNT,\n",
    "        \"maxReplicaCount\": MAX_REPLICA_COUNT\n",
    "    },\n",
    "    \"generateExplanation\": GENERATE_EXPLANATION\n",
    "}"
   ]
  },
  {
   "cell_type": "code",
   "execution_count": 29,
   "metadata": {},
   "outputs": [
    {
     "data": {
      "text/plain": [
       "{'displayName': 'foobar',\n",
       " 'model': 'projects/354621994428/locations/us-central1/models/5489591077625135104',\n",
       " 'inputConfig': {'instancesFormat': 'csv',\n",
       "  'gcsSource': {'uris': ['gs://aaa-aca-ml-workshop/beatles/inference_sample.csv']}},\n",
       " 'outputConfig': {'predictionsFormat': 'csv',\n",
       "  'gcsDestination': {'outputUriPrefix': 'gs://aaa-aca-ml-workshop/beatles/batch_prediction_output'}},\n",
       " 'dedicatedResources': {'machineSpec': {'machineType': 'e2-standard-2',\n",
       "   'acceleratorCount': '0'},\n",
       "  'startingReplicaCount': 1,\n",
       "  'maxReplicaCount': 10},\n",
       " 'generateExplanation': 'false'}"
      ]
     },
     "execution_count": 29,
     "metadata": {},
     "output_type": "execute_result"
    }
   ],
   "source": [
    "request_body"
   ]
  },
  {
   "cell_type": "code",
   "execution_count": 30,
   "metadata": {},
   "outputs": [],
   "source": [
    "with open(\"request.json\", \"w\") as outfile:\n",
    "    outfile.write(json.dumps(request_body))"
   ]
  },
  {
   "cell_type": "code",
   "execution_count": 31,
   "metadata": {},
   "outputs": [],
   "source": [
    "api_endpoint = f\"https://{LOCATION}-aiplatform.googleapis.com/v1/projects/{PROJECT}/locations/{LOCATION}/batchPredictionJobs\""
   ]
  },
  {
   "cell_type": "code",
   "execution_count": 32,
   "metadata": {},
   "outputs": [
    {
     "name": "stdout",
     "output_type": "stream",
     "text": [
      "{\n",
      "  \"name\": \"projects/354621994428/locations/us-central1/batchPredictionJobs/2378639062748626944\",\n",
      "  \"displayName\": \"foobar\",\n",
      "  \"model\": \"projects/354621994428/locations/us-central1/models/5489591077625135104\",\n",
      "  \"inputConfig\": {\n",
      "    \"instancesFormat\": \"csv\",\n",
      "    \"gcsSource\": {\n",
      "      \"uris\": [\n",
      "        \"gs://aaa-aca-ml-workshop/beatles/inference_sample.csv\"\n",
      "      ]\n",
      "    }\n",
      "  },\n",
      "  \"outputConfig\": {\n",
      "    \"predictionsFormat\": \"csv\",\n",
      "    \"gcsDestination\": {\n",
      "      \"outputUriPrefix\": \"gs://aaa-aca-ml-workshop/beatles/batch_prediction_output\"\n",
      "    }\n",
      "  },\n",
      "  \"dedicatedResources\": {\n",
      "    \"machineSpec\": {\n",
      "      \"machineType\": \"e2-standard-2\"\n",
      "    },\n",
      "    \"startingReplicaCount\": 1,\n",
      "    \"maxReplicaCount\": 10\n",
      "  },\n",
      "  \"manualBatchTuningParameters\": {\n",
      "    \"batchSize\": 1000\n",
      "  },\n",
      "  \"state\": \"JOB_STATE_PENDING\",\n",
      "  \"createTime\": \"2023-03-27T14:18:15.866757Z\",\n",
      "  \"updateTime\": \"2023-03-27T14:18:15.866757Z\",\n",
      "  \"modelVersionId\": \"1\",\n",
      "  \"disableContainerLogging\": true\n",
      "}\n"
     ]
    }
   ],
   "source": [
    "!curl -X POST \\\n",
    "    -H \"Authorization: Bearer $(gcloud auth print-access-token)\" \\\n",
    "    -H \"Content-Type: application/json; charset=utf-8\" \\\n",
    "    -d @request.json \\\n",
    "    {api_endpoint}"
   ]
  },
  {
   "cell_type": "code",
   "execution_count": 25,
   "metadata": {},
   "outputs": [
    {
     "name": "stdout",
     "output_type": "stream",
     "text": [
      "CommandException: One or more URLs matched no objects.\n"
     ]
    }
   ],
   "source": [
    "!gsutil ls gs://aaa-aca-ml-workshop/beatles/batch_prediction_output/prediction-beatles_automl_file_out_2200_tags-automl-2022_11_29T11_41_37_878Z"
   ]
  },
  {
   "cell_type": "code",
   "execution_count": 17,
   "metadata": {},
   "outputs": [
    {
     "name": "stdout",
     "output_type": "stream",
     "text": [
      "CommandException: No URLs matched: gs://aaa-aca-ml-workshop/beatles/batch_prediction_output/prediction-beatles_automl_file_out_2200_tags-automl-2022_11_29T11_41_37_878Z/prediction.errors_stats-00000-of-00001.csv\n"
     ]
    }
   ],
   "source": [
    "!gsutil cp gs://aaa-aca-ml-workshop/beatles/batch_prediction_output/prediction-beatles_automl_file_out_2200_tags-automl-2022_11_29T11_41_37_878Z/prediction.errors_stats-00000-of-00001.csv errors_stats-00000-of-00001.csv"
   ]
  },
  {
   "cell_type": "code",
   "execution_count": 18,
   "metadata": {},
   "outputs": [
    {
     "data": {
      "text/html": [
       "<div>\n",
       "<style scoped>\n",
       "    .dataframe tbody tr th:only-of-type {\n",
       "        vertical-align: middle;\n",
       "    }\n",
       "\n",
       "    .dataframe tbody tr th {\n",
       "        vertical-align: top;\n",
       "    }\n",
       "\n",
       "    .dataframe thead th {\n",
       "        text-align: right;\n",
       "    }\n",
       "</style>\n",
       "<table border=\"1\" class=\"dataframe\">\n",
       "  <thead>\n",
       "    <tr style=\"text-align: right;\">\n",
       "      <th></th>\n",
       "      <th>user_name</th>\n",
       "      <th>30_Seconds_to_Mars</th>\n",
       "      <th>65daysofstatic</th>\n",
       "      <th>A_Perfect_Circle</th>\n",
       "      <th>A_Tribe_Called_Quest</th>\n",
       "      <th>ABBA</th>\n",
       "      <th>ACDC</th>\n",
       "      <th>Adele</th>\n",
       "      <th>Aerosmith</th>\n",
       "      <th>Air</th>\n",
       "      <th>...</th>\n",
       "      <th>tag_hair_metal</th>\n",
       "      <th>tag_rapcore</th>\n",
       "      <th>tag_underground_hip_hop</th>\n",
       "      <th>tag_symphonic_black_metal</th>\n",
       "      <th>tag_darkwave</th>\n",
       "      <th>tag_world</th>\n",
       "      <th>tag_latin</th>\n",
       "      <th>tag_spanish</th>\n",
       "      <th>Like_The_Beatles</th>\n",
       "      <th>errors_Like_The_Beatles</th>\n",
       "    </tr>\n",
       "  </thead>\n",
       "  <tbody>\n",
       "  </tbody>\n",
       "</table>\n",
       "<p>0 rows × 515 columns</p>\n",
       "</div>"
      ],
      "text/plain": [
       "Empty DataFrame\n",
       "Columns: [user_name, 30_Seconds_to_Mars, 65daysofstatic, A_Perfect_Circle, A_Tribe_Called_Quest, ABBA, ACDC, Adele, Aerosmith, Air, Alanis_Morissette, Alice_in_Chains, Amon_Amarth, Amon_Tobin, Amorphis, Anal_Cunt, Anathema, Animal_Collective, Aphex_Twin, Apocalyptica, Arcade_Fire, Arctic_Monkeys, Audioslave, Autechre, Avenged_Sevenfold, Avril_Lavigne, Ayreon, Bad_Religion, Beach_House, Beastie_Boys, Beck, Belle_and_Sebastian, Beyonc, Bjork, Black_Sabbath, Blind_Guardian, Bloc_Party, Blur, Boards_of_Canada, Bob_Dylan, Bob_Marley_and_The_Wailers, Bon_Iver, Bon_Jovi, Bonobo, Brand_New, Breaking_Benjamin, Brian_Eno, Britney_Spears, Broken_Social_Scene, Bruce_Springsteen, Burial, Bush, CHVRCHES, Cake, Calvin_Harris, Carly_Rae_Jepsen, Childish_Gambino, Children_of_Bodom, Cocteau_Twins, Coheed_and_Cambria, Coldplay, Cradle_of_Filth, Creedence_Clearwater_Revival, Crystal_Castles, DJ_Shadow, Daft_Punk, Dark_Tranquillity, Dave_Matthews_Band, David_Bowie, Dead_Can_Dance, Death_Cab_for_Cutie, Death_Grips, Deep_Purple, Deftones, Depeche_Mode, Dire_Straits, Disturbed, Drake, Dream_Theater, Duran_Duran, Eels, Electric_Light_Orchestra, Ellie_Goulding, Elliott_Smith, Elton_John, Eluveitie, Elvis_Presley, Eminem, Ennio_Morricone, Enter_Shikari, Enya, Evanescence, Explosions_in_the_Sky, Faith_No_More, Fall_Out_Boy, Fleet_Foxes, Fleetwood_Mac, Florence__and__the_Machine, Flying_Lotus, Foals, ...]\n",
       "Index: []\n",
       "\n",
       "[0 rows x 515 columns]"
      ]
     },
     "execution_count": 18,
     "metadata": {},
     "output_type": "execute_result"
    }
   ],
   "source": [
    "pd.read_csv('errors_stats-00000-of-00001.csv')"
   ]
  },
  {
   "cell_type": "code",
   "execution_count": null,
   "metadata": {},
   "outputs": [],
   "source": [
    "!gsutil cp gs://aaa-aca-ml-workshop/beatles/batch_prediction_output/prediction-beatles_automl_file_out_2200_tags-automl-2022_11_29T11_41_37_878Z/prediction.results-00000-of-00002.csv results_1.csv"
   ]
  },
  {
   "cell_type": "code",
   "execution_count": null,
   "metadata": {},
   "outputs": [],
   "source": [
    "!gsutil cp gs://aaa-aca-ml-workshop/beatles/batch_prediction_output/prediction-beatles_automl_file_out_2200_tags-automl-2022_11_29T11_41_37_878Z/prediction.results-00001-of-00002.csv results_2.csv"
   ]
  },
  {
   "cell_type": "code",
   "execution_count": null,
   "metadata": {},
   "outputs": [],
   "source": [
    "results_1 = pd.read_csv('results_1.csv')\n",
    "results_2 = pd.read_csv('results_2.csv')"
   ]
  },
  {
   "cell_type": "code",
   "execution_count": null,
   "metadata": {},
   "outputs": [],
   "source": [
    "results_1.shape"
   ]
  },
  {
   "cell_type": "code",
   "execution_count": null,
   "metadata": {},
   "outputs": [],
   "source": [
    "results_2.shape"
   ]
  },
  {
   "cell_type": "code",
   "execution_count": null,
   "metadata": {},
   "outputs": [],
   "source": [
    "results_10 = pd.concat([results_1, results_2])"
   ]
  },
  {
   "cell_type": "code",
   "execution_count": null,
   "metadata": {},
   "outputs": [],
   "source": [
    "results_10"
   ]
  },
  {
   "cell_type": "code",
   "execution_count": null,
   "metadata": {},
   "outputs": [],
   "source": [
    "results_10.columns"
   ]
  },
  {
   "cell_type": "code",
   "execution_count": null,
   "metadata": {},
   "outputs": [],
   "source": [
    "results_10.loc[:, 'prediction'] = results_10.Like_The_Beatles_True_scores > results_10.Like_The_Beatles_False_scores"
   ]
  },
  {
   "cell_type": "code",
   "execution_count": null,
   "metadata": {},
   "outputs": [],
   "source": [
    "from sklearn.metrics import confusion_matrix"
   ]
  },
  {
   "cell_type": "code",
   "execution_count": null,
   "metadata": {},
   "outputs": [],
   "source": [
    "confusion_matrix(results_10.Like_The_Beatles, results_10.prediction)"
   ]
  },
  {
   "cell_type": "code",
   "execution_count": null,
   "metadata": {},
   "outputs": [],
   "source": [
    "confusion_matrix(results_10.Like_The_Beatles, results_10.prediction, normalize='true') * 100"
   ]
  },
  {
   "cell_type": "code",
   "execution_count": null,
   "metadata": {},
   "outputs": [],
   "source": [
    "tn, fp, fn, tp = confusion_matrix(results_10.Like_The_Beatles, results_10.prediction).ravel()"
   ]
  },
  {
   "cell_type": "code",
   "execution_count": null,
   "metadata": {},
   "outputs": [],
   "source": [
    "print(tn)\n",
    "print(fp)\n",
    "print(fn)\n",
    "print(tp)"
   ]
  },
  {
   "cell_type": "code",
   "execution_count": null,
   "metadata": {},
   "outputs": [],
   "source": []
  }
 ],
 "metadata": {
  "environment": {
   "kernel": "python3",
   "name": "common-cpu.m104",
   "type": "gcloud",
   "uri": "gcr.io/deeplearning-platform-release/base-cpu:m104"
  },
  "kernelspec": {
   "display_name": "Python 3",
   "language": "python",
   "name": "python3"
  },
  "language_info": {
   "codemirror_mode": {
    "name": "ipython",
    "version": 3
   },
   "file_extension": ".py",
   "mimetype": "text/x-python",
   "name": "python",
   "nbconvert_exporter": "python",
   "pygments_lexer": "ipython3",
   "version": "3.7.12"
  }
 },
 "nbformat": 4,
 "nbformat_minor": 4
}

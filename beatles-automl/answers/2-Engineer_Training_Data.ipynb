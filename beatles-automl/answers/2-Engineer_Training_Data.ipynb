{
 "cells": [
  {
   "cell_type": "markdown",
   "metadata": {},
   "source": [
    "# Engineer Training Data\n",
    "\n",
    "Now that we have enriched the artist data with descriptive information about each artist, our next step is to join and refine the input data so that it can be used to train an AutoML classification model. \n"
   ]
  },
  {
   "cell_type": "code",
   "execution_count": 1,
   "metadata": {},
   "outputs": [],
   "source": [
    "import pandas as pd"
   ]
  },
  {
   "cell_type": "code",
   "execution_count": 2,
   "metadata": {},
   "outputs": [],
   "source": [
    "play_counts_df = pd.read_feather(\"input_data/play_counts_df.feather\")"
   ]
  },
  {
   "cell_type": "code",
   "execution_count": 3,
   "metadata": {},
   "outputs": [
    {
     "data": {
      "text/html": [
       "<div>\n",
       "<style scoped>\n",
       "    .dataframe tbody tr th:only-of-type {\n",
       "        vertical-align: middle;\n",
       "    }\n",
       "\n",
       "    .dataframe tbody tr th {\n",
       "        vertical-align: top;\n",
       "    }\n",
       "\n",
       "    .dataframe thead th {\n",
       "        text-align: right;\n",
       "    }\n",
       "</style>\n",
       "<table border=\"1\" class=\"dataframe\">\n",
       "  <thead>\n",
       "    <tr style=\"text-align: right;\">\n",
       "      <th></th>\n",
       "      <th>user_name</th>\n",
       "      <th>artist_name</th>\n",
       "      <th>cnt</th>\n",
       "    </tr>\n",
       "  </thead>\n",
       "  <tbody>\n",
       "    <tr>\n",
       "      <th>0</th>\n",
       "      <td>munhoz</td>\n",
       "      <td>U2</td>\n",
       "      <td>31</td>\n",
       "    </tr>\n",
       "    <tr>\n",
       "      <th>1</th>\n",
       "      <td>pblsnchz</td>\n",
       "      <td>Black Sabbath</td>\n",
       "      <td>47</td>\n",
       "    </tr>\n",
       "    <tr>\n",
       "      <th>2</th>\n",
       "      <td>gbcox</td>\n",
       "      <td>U2</td>\n",
       "      <td>5856</td>\n",
       "    </tr>\n",
       "    <tr>\n",
       "      <th>3</th>\n",
       "      <td>tomcpc</td>\n",
       "      <td>U2</td>\n",
       "      <td>901</td>\n",
       "    </tr>\n",
       "    <tr>\n",
       "      <th>4</th>\n",
       "      <td>jerry_c</td>\n",
       "      <td>U2</td>\n",
       "      <td>584</td>\n",
       "    </tr>\n",
       "  </tbody>\n",
       "</table>\n",
       "</div>"
      ],
      "text/plain": [
       "  user_name    artist_name   cnt\n",
       "0    munhoz             U2    31\n",
       "1  pblsnchz  Black Sabbath    47\n",
       "2     gbcox             U2  5856\n",
       "3    tomcpc             U2   901\n",
       "4   jerry_c             U2   584"
      ]
     },
     "execution_count": 3,
     "metadata": {},
     "output_type": "execute_result"
    }
   ],
   "source": [
    "play_counts_df.head()"
   ]
  },
  {
   "cell_type": "markdown",
   "metadata": {},
   "source": [
    "Pivot the table, using the user_name as the index. This groups the data by user_name and retrieves a count per user of the number of listens for each artist."
   ]
  },
  {
   "cell_type": "code",
   "execution_count": 4,
   "metadata": {},
   "outputs": [
    {
     "data": {
      "text/html": [
       "<div>\n",
       "<style scoped>\n",
       "    .dataframe tbody tr th:only-of-type {\n",
       "        vertical-align: middle;\n",
       "    }\n",
       "\n",
       "    .dataframe tbody tr th {\n",
       "        vertical-align: top;\n",
       "    }\n",
       "\n",
       "    .dataframe thead th {\n",
       "        text-align: right;\n",
       "    }\n",
       "</style>\n",
       "<table border=\"1\" class=\"dataframe\">\n",
       "  <thead>\n",
       "    <tr style=\"text-align: right;\">\n",
       "      <th></th>\n",
       "      <th>user_name</th>\n",
       "      <th>30 Seconds to Mars</th>\n",
       "      <th>65daysofstatic</th>\n",
       "      <th>A Perfect Circle</th>\n",
       "      <th>A Tribe Called Quest</th>\n",
       "      <th>ABBA</th>\n",
       "      <th>AC/DC</th>\n",
       "      <th>Adele</th>\n",
       "      <th>Aerosmith</th>\n",
       "      <th>Air</th>\n",
       "      <th>...</th>\n",
       "      <th>ZZ Top</th>\n",
       "      <th>alt-J</th>\n",
       "      <th>blink-182</th>\n",
       "      <th>deadmau5</th>\n",
       "      <th>久石譲</th>\n",
       "      <th>川井憲次</th>\n",
       "      <th>梶浦由記</th>\n",
       "      <th>植松伸夫</th>\n",
       "      <th>菅野よう子</th>\n",
       "      <th>近藤浩治</th>\n",
       "    </tr>\n",
       "  </thead>\n",
       "  <tbody>\n",
       "    <tr>\n",
       "      <th>0</th>\n",
       "      <td>-andor-</td>\n",
       "      <td>&lt;NA&gt;</td>\n",
       "      <td>46</td>\n",
       "      <td>&lt;NA&gt;</td>\n",
       "      <td>43</td>\n",
       "      <td>7</td>\n",
       "      <td>13</td>\n",
       "      <td>&lt;NA&gt;</td>\n",
       "      <td>4</td>\n",
       "      <td>71</td>\n",
       "      <td>...</td>\n",
       "      <td>12</td>\n",
       "      <td>&lt;NA&gt;</td>\n",
       "      <td>&lt;NA&gt;</td>\n",
       "      <td>29</td>\n",
       "      <td>&lt;NA&gt;</td>\n",
       "      <td>1</td>\n",
       "      <td>&lt;NA&gt;</td>\n",
       "      <td>&lt;NA&gt;</td>\n",
       "      <td>&lt;NA&gt;</td>\n",
       "      <td>&lt;NA&gt;</td>\n",
       "    </tr>\n",
       "    <tr>\n",
       "      <th>1</th>\n",
       "      <td>-dAtA-TRoN-</td>\n",
       "      <td>&lt;NA&gt;</td>\n",
       "      <td>&lt;NA&gt;</td>\n",
       "      <td>&lt;NA&gt;</td>\n",
       "      <td>&lt;NA&gt;</td>\n",
       "      <td>&lt;NA&gt;</td>\n",
       "      <td>&lt;NA&gt;</td>\n",
       "      <td>&lt;NA&gt;</td>\n",
       "      <td>&lt;NA&gt;</td>\n",
       "      <td>&lt;NA&gt;</td>\n",
       "      <td>...</td>\n",
       "      <td>&lt;NA&gt;</td>\n",
       "      <td>&lt;NA&gt;</td>\n",
       "      <td>&lt;NA&gt;</td>\n",
       "      <td>&lt;NA&gt;</td>\n",
       "      <td>&lt;NA&gt;</td>\n",
       "      <td>&lt;NA&gt;</td>\n",
       "      <td>&lt;NA&gt;</td>\n",
       "      <td>&lt;NA&gt;</td>\n",
       "      <td>&lt;NA&gt;</td>\n",
       "      <td>&lt;NA&gt;</td>\n",
       "    </tr>\n",
       "    <tr>\n",
       "      <th>2</th>\n",
       "      <td>-nils-</td>\n",
       "      <td>&lt;NA&gt;</td>\n",
       "      <td>2</td>\n",
       "      <td>49</td>\n",
       "      <td>&lt;NA&gt;</td>\n",
       "      <td>&lt;NA&gt;</td>\n",
       "      <td>&lt;NA&gt;</td>\n",
       "      <td>&lt;NA&gt;</td>\n",
       "      <td>&lt;NA&gt;</td>\n",
       "      <td>&lt;NA&gt;</td>\n",
       "      <td>...</td>\n",
       "      <td>8</td>\n",
       "      <td>&lt;NA&gt;</td>\n",
       "      <td>&lt;NA&gt;</td>\n",
       "      <td>&lt;NA&gt;</td>\n",
       "      <td>&lt;NA&gt;</td>\n",
       "      <td>12</td>\n",
       "      <td>&lt;NA&gt;</td>\n",
       "      <td>&lt;NA&gt;</td>\n",
       "      <td>&lt;NA&gt;</td>\n",
       "      <td>&lt;NA&gt;</td>\n",
       "    </tr>\n",
       "    <tr>\n",
       "      <th>3</th>\n",
       "      <td>00dani</td>\n",
       "      <td>&lt;NA&gt;</td>\n",
       "      <td>1</td>\n",
       "      <td>&lt;NA&gt;</td>\n",
       "      <td>&lt;NA&gt;</td>\n",
       "      <td>&lt;NA&gt;</td>\n",
       "      <td>&lt;NA&gt;</td>\n",
       "      <td>&lt;NA&gt;</td>\n",
       "      <td>&lt;NA&gt;</td>\n",
       "      <td>&lt;NA&gt;</td>\n",
       "      <td>...</td>\n",
       "      <td>&lt;NA&gt;</td>\n",
       "      <td>3</td>\n",
       "      <td>&lt;NA&gt;</td>\n",
       "      <td>&lt;NA&gt;</td>\n",
       "      <td>&lt;NA&gt;</td>\n",
       "      <td>&lt;NA&gt;</td>\n",
       "      <td>&lt;NA&gt;</td>\n",
       "      <td>8</td>\n",
       "      <td>&lt;NA&gt;</td>\n",
       "      <td>10</td>\n",
       "    </tr>\n",
       "    <tr>\n",
       "      <th>4</th>\n",
       "      <td>00void</td>\n",
       "      <td>3</td>\n",
       "      <td>425</td>\n",
       "      <td>1</td>\n",
       "      <td>&lt;NA&gt;</td>\n",
       "      <td>&lt;NA&gt;</td>\n",
       "      <td>1</td>\n",
       "      <td>&lt;NA&gt;</td>\n",
       "      <td>12</td>\n",
       "      <td>17</td>\n",
       "      <td>...</td>\n",
       "      <td>6</td>\n",
       "      <td>&lt;NA&gt;</td>\n",
       "      <td>11</td>\n",
       "      <td>&lt;NA&gt;</td>\n",
       "      <td>&lt;NA&gt;</td>\n",
       "      <td>&lt;NA&gt;</td>\n",
       "      <td>&lt;NA&gt;</td>\n",
       "      <td>&lt;NA&gt;</td>\n",
       "      <td>&lt;NA&gt;</td>\n",
       "      <td>&lt;NA&gt;</td>\n",
       "    </tr>\n",
       "  </tbody>\n",
       "</table>\n",
       "<p>5 rows × 301 columns</p>\n",
       "</div>"
      ],
      "text/plain": [
       "     user_name 30 Seconds to Mars 65daysofstatic A Perfect Circle  \\\n",
       "0      -andor-               <NA>             46             <NA>   \n",
       "1  -dAtA-TRoN-               <NA>           <NA>             <NA>   \n",
       "2       -nils-               <NA>              2               49   \n",
       "3       00dani               <NA>              1             <NA>   \n",
       "4       00void                  3            425                1   \n",
       "\n",
       "  A Tribe Called Quest  ABBA AC/DC Adele Aerosmith   Air  ... ZZ Top alt-J  \\\n",
       "0                   43     7    13  <NA>         4    71  ...     12  <NA>   \n",
       "1                 <NA>  <NA>  <NA>  <NA>      <NA>  <NA>  ...   <NA>  <NA>   \n",
       "2                 <NA>  <NA>  <NA>  <NA>      <NA>  <NA>  ...      8  <NA>   \n",
       "3                 <NA>  <NA>  <NA>  <NA>      <NA>  <NA>  ...   <NA>     3   \n",
       "4                 <NA>  <NA>     1  <NA>        12    17  ...      6  <NA>   \n",
       "\n",
       "  blink-182 deadmau5   久石譲  川井憲次  梶浦由記  植松伸夫 菅野よう子  近藤浩治  \n",
       "0      <NA>       29  <NA>     1  <NA>  <NA>  <NA>  <NA>  \n",
       "1      <NA>     <NA>  <NA>  <NA>  <NA>  <NA>  <NA>  <NA>  \n",
       "2      <NA>     <NA>  <NA>    12  <NA>  <NA>  <NA>  <NA>  \n",
       "3      <NA>     <NA>  <NA>  <NA>  <NA>     8  <NA>    10  \n",
       "4        11     <NA>  <NA>  <NA>  <NA>  <NA>  <NA>  <NA>  \n",
       "\n",
       "[5 rows x 301 columns]"
      ]
     },
     "execution_count": 4,
     "metadata": {},
     "output_type": "execute_result"
    }
   ],
   "source": [
    "play_counts_pivot_df = pd.DataFrame(play_counts_df.pivot(index='user_name', columns='artist_name', values='cnt').to_records())\n",
    "play_counts_pivot_df.head()"
   ]
  },
  {
   "cell_type": "code",
   "execution_count": 5,
   "metadata": {},
   "outputs": [
    {
     "data": {
      "text/plain": [
       "20"
      ]
     },
     "execution_count": 5,
     "metadata": {},
     "output_type": "execute_result"
    }
   ],
   "source": [
    "# Double check that this value is 20\n",
    "play_counts_pivot_df[play_counts_pivot_df.user_name == \"-nils-\"].iloc[0]['Muse']"
   ]
  },
  {
   "cell_type": "markdown",
   "metadata": {},
   "source": [
    "In addition to the artist data for each user, we would also like to use information about the user's preferences for certain genres or styles of artist. To obtain features that represent this information, we're going to use the enriched artist data that was generated using the [1-Enrich_Raw_Input_Data.ipynb](./1-Enrich_Raw_Input_Data.ipynb) file.\n",
    "\n",
    "Our goal here is to create a count for each user of the total number of times a particular LastFM tag is represented in that user's listening history. To do this, we'll join the user data with the tag data using 'artist' as the join key, then sum the tag columns to get a count for the total number of times a particular tag shows up in a user's listening history."
   ]
  },
  {
   "cell_type": "code",
   "execution_count": 6,
   "metadata": {
    "tags": []
   },
   "outputs": [
    {
     "data": {
      "text/html": [
       "<div>\n",
       "<style scoped>\n",
       "    .dataframe tbody tr th:only-of-type {\n",
       "        vertical-align: middle;\n",
       "    }\n",
       "\n",
       "    .dataframe tbody tr th {\n",
       "        vertical-align: top;\n",
       "    }\n",
       "\n",
       "    .dataframe thead th {\n",
       "        text-align: right;\n",
       "    }\n",
       "</style>\n",
       "<table border=\"1\" class=\"dataframe\">\n",
       "  <thead>\n",
       "    <tr style=\"text-align: right;\">\n",
       "      <th></th>\n",
       "      <th>artist_name</th>\n",
       "      <th>tag_alternative</th>\n",
       "      <th>tag_alternative rock</th>\n",
       "      <th>tag_rock</th>\n",
       "      <th>tag_indie</th>\n",
       "      <th>tag_electronic</th>\n",
       "      <th>tag_classic rock</th>\n",
       "      <th>tag_british</th>\n",
       "      <th>tag_60s</th>\n",
       "      <th>tag_pop</th>\n",
       "      <th>...</th>\n",
       "      <th>tag_jay z</th>\n",
       "      <th>tag_shoegazer</th>\n",
       "      <th>tag_hair metal</th>\n",
       "      <th>tag_rapcore</th>\n",
       "      <th>tag_underground hip hop</th>\n",
       "      <th>tag_symphonic black metal</th>\n",
       "      <th>tag_darkwave</th>\n",
       "      <th>tag_world</th>\n",
       "      <th>tag_latin</th>\n",
       "      <th>tag_spanish</th>\n",
       "    </tr>\n",
       "  </thead>\n",
       "  <tbody>\n",
       "    <tr>\n",
       "      <th>0</th>\n",
       "      <td>Radiohead</td>\n",
       "      <td>True</td>\n",
       "      <td>True</td>\n",
       "      <td>True</td>\n",
       "      <td>True</td>\n",
       "      <td>True</td>\n",
       "      <td>False</td>\n",
       "      <td>False</td>\n",
       "      <td>False</td>\n",
       "      <td>False</td>\n",
       "      <td>...</td>\n",
       "      <td>False</td>\n",
       "      <td>False</td>\n",
       "      <td>False</td>\n",
       "      <td>False</td>\n",
       "      <td>False</td>\n",
       "      <td>False</td>\n",
       "      <td>False</td>\n",
       "      <td>False</td>\n",
       "      <td>False</td>\n",
       "      <td>False</td>\n",
       "    </tr>\n",
       "    <tr>\n",
       "      <th>1</th>\n",
       "      <td>The Beatles</td>\n",
       "      <td>False</td>\n",
       "      <td>False</td>\n",
       "      <td>True</td>\n",
       "      <td>False</td>\n",
       "      <td>False</td>\n",
       "      <td>True</td>\n",
       "      <td>True</td>\n",
       "      <td>True</td>\n",
       "      <td>True</td>\n",
       "      <td>...</td>\n",
       "      <td>False</td>\n",
       "      <td>False</td>\n",
       "      <td>False</td>\n",
       "      <td>False</td>\n",
       "      <td>False</td>\n",
       "      <td>False</td>\n",
       "      <td>False</td>\n",
       "      <td>False</td>\n",
       "      <td>False</td>\n",
       "      <td>False</td>\n",
       "    </tr>\n",
       "    <tr>\n",
       "      <th>2</th>\n",
       "      <td>Pink Floyd</td>\n",
       "      <td>False</td>\n",
       "      <td>False</td>\n",
       "      <td>True</td>\n",
       "      <td>False</td>\n",
       "      <td>False</td>\n",
       "      <td>True</td>\n",
       "      <td>False</td>\n",
       "      <td>False</td>\n",
       "      <td>False</td>\n",
       "      <td>...</td>\n",
       "      <td>False</td>\n",
       "      <td>False</td>\n",
       "      <td>False</td>\n",
       "      <td>False</td>\n",
       "      <td>False</td>\n",
       "      <td>False</td>\n",
       "      <td>False</td>\n",
       "      <td>False</td>\n",
       "      <td>False</td>\n",
       "      <td>False</td>\n",
       "    </tr>\n",
       "    <tr>\n",
       "      <th>3</th>\n",
       "      <td>Daft Punk</td>\n",
       "      <td>False</td>\n",
       "      <td>False</td>\n",
       "      <td>False</td>\n",
       "      <td>False</td>\n",
       "      <td>True</td>\n",
       "      <td>False</td>\n",
       "      <td>False</td>\n",
       "      <td>False</td>\n",
       "      <td>False</td>\n",
       "      <td>...</td>\n",
       "      <td>False</td>\n",
       "      <td>False</td>\n",
       "      <td>False</td>\n",
       "      <td>False</td>\n",
       "      <td>False</td>\n",
       "      <td>False</td>\n",
       "      <td>False</td>\n",
       "      <td>False</td>\n",
       "      <td>False</td>\n",
       "      <td>False</td>\n",
       "    </tr>\n",
       "    <tr>\n",
       "      <th>4</th>\n",
       "      <td>Muse</td>\n",
       "      <td>True</td>\n",
       "      <td>True</td>\n",
       "      <td>True</td>\n",
       "      <td>False</td>\n",
       "      <td>False</td>\n",
       "      <td>False</td>\n",
       "      <td>False</td>\n",
       "      <td>False</td>\n",
       "      <td>False</td>\n",
       "      <td>...</td>\n",
       "      <td>False</td>\n",
       "      <td>False</td>\n",
       "      <td>False</td>\n",
       "      <td>False</td>\n",
       "      <td>False</td>\n",
       "      <td>False</td>\n",
       "      <td>False</td>\n",
       "      <td>False</td>\n",
       "      <td>False</td>\n",
       "      <td>False</td>\n",
       "    </tr>\n",
       "  </tbody>\n",
       "</table>\n",
       "<p>5 rows × 214 columns</p>\n",
       "</div>"
      ],
      "text/plain": [
       "   artist_name  tag_alternative  tag_alternative rock  tag_rock  tag_indie  \\\n",
       "0    Radiohead             True                  True      True       True   \n",
       "1  The Beatles            False                 False      True      False   \n",
       "2   Pink Floyd            False                 False      True      False   \n",
       "3    Daft Punk            False                 False     False      False   \n",
       "4         Muse             True                  True      True      False   \n",
       "\n",
       "   tag_electronic  tag_classic rock  tag_british  tag_60s  tag_pop  ...  \\\n",
       "0            True             False        False    False    False  ...   \n",
       "1           False              True         True     True     True  ...   \n",
       "2           False              True        False    False    False  ...   \n",
       "3            True             False        False    False    False  ...   \n",
       "4           False             False        False    False    False  ...   \n",
       "\n",
       "   tag_jay z  tag_shoegazer  tag_hair metal  tag_rapcore  \\\n",
       "0      False          False           False        False   \n",
       "1      False          False           False        False   \n",
       "2      False          False           False        False   \n",
       "3      False          False           False        False   \n",
       "4      False          False           False        False   \n",
       "\n",
       "   tag_underground hip hop  tag_symphonic black metal  tag_darkwave  \\\n",
       "0                    False                      False         False   \n",
       "1                    False                      False         False   \n",
       "2                    False                      False         False   \n",
       "3                    False                      False         False   \n",
       "4                    False                      False         False   \n",
       "\n",
       "   tag_world  tag_latin  tag_spanish  \n",
       "0      False      False        False  \n",
       "1      False      False        False  \n",
       "2      False      False        False  \n",
       "3      False      False        False  \n",
       "4      False      False        False  \n",
       "\n",
       "[5 rows x 214 columns]"
      ]
     },
     "execution_count": 6,
     "metadata": {},
     "output_type": "execute_result"
    }
   ],
   "source": [
    "band_tags = pd.read_feather(\"enriched_data/band_tags.feather\")\n",
    "band_tags.head()"
   ]
  },
  {
   "cell_type": "code",
   "execution_count": 7,
   "metadata": {},
   "outputs": [
    {
     "data": {
      "text/plain": [
       "['artist_name',\n",
       " 'tag_alternative',\n",
       " 'tag_alternative rock',\n",
       " 'tag_rock',\n",
       " 'tag_indie',\n",
       " 'tag_electronic',\n",
       " 'tag_classic rock',\n",
       " 'tag_british',\n",
       " 'tag_60s',\n",
       " 'tag_pop',\n",
       " 'tag_progressive rock',\n",
       " 'tag_psychedelic rock',\n",
       " 'tag_psychedelic',\n",
       " 'tag_house',\n",
       " 'tag_dance']"
      ]
     },
     "execution_count": 7,
     "metadata": {},
     "output_type": "execute_result"
    }
   ],
   "source": [
    "list(band_tags.columns)[:15]"
   ]
  },
  {
   "cell_type": "code",
   "execution_count": 8,
   "metadata": {
    "tags": []
   },
   "outputs": [],
   "source": [
    "play_counts_with_tags_df = pd.merge(play_counts_df, band_tags, on='artist_name', how='left')\n",
    "# prevent data leakage by removing Beatles data from the tag df\n",
    "play_counts_with_tags_df_no_beatles = play_counts_with_tags_df[play_counts_with_tags_df['artist_name']!='The Beatles'].copy()\n",
    "user_tag_counts_df = play_counts_with_tags_df_no_beatles.drop(columns=['artist_name','cnt']).groupby('user_name').sum().reset_index()\n",
    "user_artist_tag_counts_df = pd.merge(play_counts_pivot_df, user_tag_counts_df, on='user_name', how='left')"
   ]
  },
  {
   "cell_type": "code",
   "execution_count": 9,
   "metadata": {},
   "outputs": [
    {
     "data": {
      "text/html": [
       "<div>\n",
       "<style scoped>\n",
       "    .dataframe tbody tr th:only-of-type {\n",
       "        vertical-align: middle;\n",
       "    }\n",
       "\n",
       "    .dataframe tbody tr th {\n",
       "        vertical-align: top;\n",
       "    }\n",
       "\n",
       "    .dataframe thead th {\n",
       "        text-align: right;\n",
       "    }\n",
       "</style>\n",
       "<table border=\"1\" class=\"dataframe\">\n",
       "  <thead>\n",
       "    <tr style=\"text-align: right;\">\n",
       "      <th></th>\n",
       "      <th>user_name</th>\n",
       "      <th>30 Seconds to Mars</th>\n",
       "      <th>65daysofstatic</th>\n",
       "      <th>A Perfect Circle</th>\n",
       "      <th>A Tribe Called Quest</th>\n",
       "      <th>ABBA</th>\n",
       "      <th>AC/DC</th>\n",
       "      <th>Adele</th>\n",
       "      <th>Aerosmith</th>\n",
       "      <th>Air</th>\n",
       "      <th>...</th>\n",
       "      <th>tag_jay z</th>\n",
       "      <th>tag_shoegazer</th>\n",
       "      <th>tag_hair metal</th>\n",
       "      <th>tag_rapcore</th>\n",
       "      <th>tag_underground hip hop</th>\n",
       "      <th>tag_symphonic black metal</th>\n",
       "      <th>tag_darkwave</th>\n",
       "      <th>tag_world</th>\n",
       "      <th>tag_latin</th>\n",
       "      <th>tag_spanish</th>\n",
       "    </tr>\n",
       "  </thead>\n",
       "  <tbody>\n",
       "    <tr>\n",
       "      <th>0</th>\n",
       "      <td>-andor-</td>\n",
       "      <td>&lt;NA&gt;</td>\n",
       "      <td>46</td>\n",
       "      <td>&lt;NA&gt;</td>\n",
       "      <td>43</td>\n",
       "      <td>7</td>\n",
       "      <td>13</td>\n",
       "      <td>&lt;NA&gt;</td>\n",
       "      <td>4</td>\n",
       "      <td>71</td>\n",
       "      <td>...</td>\n",
       "      <td>1.0</td>\n",
       "      <td>1.0</td>\n",
       "      <td>1.0</td>\n",
       "      <td>1.0</td>\n",
       "      <td>0.0</td>\n",
       "      <td>0.0</td>\n",
       "      <td>0.0</td>\n",
       "      <td>0.0</td>\n",
       "      <td>1.0</td>\n",
       "      <td>1.0</td>\n",
       "    </tr>\n",
       "    <tr>\n",
       "      <th>1</th>\n",
       "      <td>-dAtA-TRoN-</td>\n",
       "      <td>&lt;NA&gt;</td>\n",
       "      <td>&lt;NA&gt;</td>\n",
       "      <td>&lt;NA&gt;</td>\n",
       "      <td>&lt;NA&gt;</td>\n",
       "      <td>&lt;NA&gt;</td>\n",
       "      <td>&lt;NA&gt;</td>\n",
       "      <td>&lt;NA&gt;</td>\n",
       "      <td>&lt;NA&gt;</td>\n",
       "      <td>&lt;NA&gt;</td>\n",
       "      <td>...</td>\n",
       "      <td>0.0</td>\n",
       "      <td>0.0</td>\n",
       "      <td>0.0</td>\n",
       "      <td>0.0</td>\n",
       "      <td>0.0</td>\n",
       "      <td>0.0</td>\n",
       "      <td>0.0</td>\n",
       "      <td>0.0</td>\n",
       "      <td>0.0</td>\n",
       "      <td>0.0</td>\n",
       "    </tr>\n",
       "    <tr>\n",
       "      <th>2</th>\n",
       "      <td>-nils-</td>\n",
       "      <td>&lt;NA&gt;</td>\n",
       "      <td>2</td>\n",
       "      <td>49</td>\n",
       "      <td>&lt;NA&gt;</td>\n",
       "      <td>&lt;NA&gt;</td>\n",
       "      <td>&lt;NA&gt;</td>\n",
       "      <td>&lt;NA&gt;</td>\n",
       "      <td>&lt;NA&gt;</td>\n",
       "      <td>&lt;NA&gt;</td>\n",
       "      <td>...</td>\n",
       "      <td>1.0</td>\n",
       "      <td>1.0</td>\n",
       "      <td>0.0</td>\n",
       "      <td>0.0</td>\n",
       "      <td>0.0</td>\n",
       "      <td>0.0</td>\n",
       "      <td>1.0</td>\n",
       "      <td>1.0</td>\n",
       "      <td>0.0</td>\n",
       "      <td>0.0</td>\n",
       "    </tr>\n",
       "    <tr>\n",
       "      <th>3</th>\n",
       "      <td>00dani</td>\n",
       "      <td>&lt;NA&gt;</td>\n",
       "      <td>1</td>\n",
       "      <td>&lt;NA&gt;</td>\n",
       "      <td>&lt;NA&gt;</td>\n",
       "      <td>&lt;NA&gt;</td>\n",
       "      <td>&lt;NA&gt;</td>\n",
       "      <td>&lt;NA&gt;</td>\n",
       "      <td>&lt;NA&gt;</td>\n",
       "      <td>&lt;NA&gt;</td>\n",
       "      <td>...</td>\n",
       "      <td>0.0</td>\n",
       "      <td>0.0</td>\n",
       "      <td>0.0</td>\n",
       "      <td>0.0</td>\n",
       "      <td>0.0</td>\n",
       "      <td>0.0</td>\n",
       "      <td>0.0</td>\n",
       "      <td>0.0</td>\n",
       "      <td>0.0</td>\n",
       "      <td>0.0</td>\n",
       "    </tr>\n",
       "    <tr>\n",
       "      <th>4</th>\n",
       "      <td>00void</td>\n",
       "      <td>3</td>\n",
       "      <td>425</td>\n",
       "      <td>1</td>\n",
       "      <td>&lt;NA&gt;</td>\n",
       "      <td>&lt;NA&gt;</td>\n",
       "      <td>1</td>\n",
       "      <td>&lt;NA&gt;</td>\n",
       "      <td>12</td>\n",
       "      <td>17</td>\n",
       "      <td>...</td>\n",
       "      <td>0.0</td>\n",
       "      <td>1.0</td>\n",
       "      <td>2.0</td>\n",
       "      <td>1.0</td>\n",
       "      <td>0.0</td>\n",
       "      <td>0.0</td>\n",
       "      <td>1.0</td>\n",
       "      <td>1.0</td>\n",
       "      <td>0.0</td>\n",
       "      <td>0.0</td>\n",
       "    </tr>\n",
       "  </tbody>\n",
       "</table>\n",
       "<p>5 rows × 514 columns</p>\n",
       "</div>"
      ],
      "text/plain": [
       "     user_name 30 Seconds to Mars 65daysofstatic A Perfect Circle  \\\n",
       "0      -andor-               <NA>             46             <NA>   \n",
       "1  -dAtA-TRoN-               <NA>           <NA>             <NA>   \n",
       "2       -nils-               <NA>              2               49   \n",
       "3       00dani               <NA>              1             <NA>   \n",
       "4       00void                  3            425                1   \n",
       "\n",
       "  A Tribe Called Quest  ABBA AC/DC Adele Aerosmith   Air  ... tag_jay z  \\\n",
       "0                   43     7    13  <NA>         4    71  ...       1.0   \n",
       "1                 <NA>  <NA>  <NA>  <NA>      <NA>  <NA>  ...       0.0   \n",
       "2                 <NA>  <NA>  <NA>  <NA>      <NA>  <NA>  ...       1.0   \n",
       "3                 <NA>  <NA>  <NA>  <NA>      <NA>  <NA>  ...       0.0   \n",
       "4                 <NA>  <NA>     1  <NA>        12    17  ...       0.0   \n",
       "\n",
       "  tag_shoegazer tag_hair metal tag_rapcore tag_underground hip hop  \\\n",
       "0           1.0            1.0         1.0                     0.0   \n",
       "1           0.0            0.0         0.0                     0.0   \n",
       "2           1.0            0.0         0.0                     0.0   \n",
       "3           0.0            0.0         0.0                     0.0   \n",
       "4           1.0            2.0         1.0                     0.0   \n",
       "\n",
       "  tag_symphonic black metal tag_darkwave tag_world tag_latin tag_spanish  \n",
       "0                       0.0          0.0       0.0       1.0         1.0  \n",
       "1                       0.0          0.0       0.0       0.0         0.0  \n",
       "2                       0.0          1.0       1.0       0.0         0.0  \n",
       "3                       0.0          0.0       0.0       0.0         0.0  \n",
       "4                       0.0          1.0       1.0       0.0         0.0  \n",
       "\n",
       "[5 rows x 514 columns]"
      ]
     },
     "execution_count": 9,
     "metadata": {},
     "output_type": "execute_result"
    }
   ],
   "source": [
    "user_artist_tag_counts_df.head()"
   ]
  },
  {
   "cell_type": "markdown",
   "metadata": {},
   "source": [
    "Set a Target column to turn this into a classification problem, if they play Beatles (even once) then label is True. Then drop the column 'The Beatles' in order to prevent data leakage."
   ]
  },
  {
   "cell_type": "code",
   "execution_count": 10,
   "metadata": {},
   "outputs": [],
   "source": [
    "import numpy as np\n",
    "user_artist_tag_counts_df['Like The Beatles'] =  user_artist_tag_counts_df['The Beatles'].notnull()\n",
    "user_artist_tag_counts_df.drop('The Beatles', axis=1, inplace=True)"
   ]
  },
  {
   "cell_type": "markdown",
   "metadata": {},
   "source": [
    "We need to clean up the column names as Cloud AutoML is very picky and will fail if you do things like have Unicode file names. I wish Google will fix this. I'll complain ;)"
   ]
  },
  {
   "cell_type": "code",
   "execution_count": 11,
   "metadata": {},
   "outputs": [],
   "source": [
    "user_artist_tag_counts_df.columns = user_artist_tag_counts_df.columns.str.replace(\"post-roc\", \"post roc1\", regex=False)\n",
    "user_artist_tag_counts_df.columns = user_artist_tag_counts_df.columns.str.replace(\"trip-hop\", \"trip hop1\", regex=False)\n",
    "user_artist_tag_counts_df.columns = user_artist_tag_counts_df.columns.str.replace(\" \", \"_\", regex=False)\n",
    "user_artist_tag_counts_df.columns = user_artist_tag_counts_df.columns.str.replace(\"/\", \"\", regex=False)\n",
    "user_artist_tag_counts_df.columns = user_artist_tag_counts_df.columns.str.replace(\"é\", \"\", regex=False)\n",
    "user_artist_tag_counts_df.columns = user_artist_tag_counts_df.columns.str.replace(\"ö\", \"o\", regex=False)\n",
    "user_artist_tag_counts_df.columns = user_artist_tag_counts_df.columns.str.replace(\"+\", \"_and_\", regex=False)\n",
    "user_artist_tag_counts_df.columns = user_artist_tag_counts_df.columns.str.replace(\"&\", \"and\", regex=False)\n",
    "user_artist_tag_counts_df.columns = user_artist_tag_counts_df.columns.str.replace(\"!\", \"\", regex=False)\n",
    "user_artist_tag_counts_df.columns = user_artist_tag_counts_df.columns.str.replace(\"-\", \"_\", regex=False)\n",
    "user_artist_tag_counts_df.columns = user_artist_tag_counts_df.columns.str.replace(\".\", \"\", regex=False)\n",
    "user_artist_tag_counts_df.columns = user_artist_tag_counts_df.columns.str.replace(\"ó\", \"o\", regex=False)\n",
    "user_artist_tag_counts_df.columns = user_artist_tag_counts_df.columns.str.replace(\"'\", \"\", regex=False)\n",
    "\n",
    "# Japanese Artists\n",
    "user_artist_tag_counts_df.columns = user_artist_tag_counts_df.columns.str.replace(\"久石譲\", \"Joe_Hisaishi\", regex=False)\n",
    "user_artist_tag_counts_df.columns = user_artist_tag_counts_df.columns.str.replace(\"川井憲次\", \"Kenji_Kawai\", regex=False)\n",
    "user_artist_tag_counts_df.columns = user_artist_tag_counts_df.columns.str.replace(\"梶浦由記\", \"Yuki_Kajiura\", regex=False)\n",
    "user_artist_tag_counts_df.columns = user_artist_tag_counts_df.columns.str.replace(\"植松伸夫\", \"Nobuo_Uematsu\", regex=False)\n",
    "user_artist_tag_counts_df.columns = user_artist_tag_counts_df.columns.str.replace(\"菅野よう子\", \"Yoko_Kanno\", regex=False)\n",
    "user_artist_tag_counts_df.columns = user_artist_tag_counts_df.columns.str.replace(\"近藤浩治\", \"Koji_Kondo\", regex=False)"
   ]
  },
  {
   "cell_type": "markdown",
   "metadata": {},
   "source": [
    "Let's set aside a random sample of data as a holdout set in order to test the trained and deployed model."
   ]
  },
  {
   "cell_type": "code",
   "execution_count": 12,
   "metadata": {},
   "outputs": [
    {
     "data": {
      "text/plain": [
       "(2495, 514)"
      ]
     },
     "execution_count": 12,
     "metadata": {},
     "output_type": "execute_result"
    }
   ],
   "source": [
    "user_artist_tag_counts_df.shape"
   ]
  },
  {
   "cell_type": "code",
   "execution_count": 13,
   "metadata": {},
   "outputs": [
    {
     "data": {
      "text/plain": [
       "<AxesSubplot:ylabel='Like_The_Beatles'>"
      ]
     },
     "execution_count": 13,
     "metadata": {},
     "output_type": "execute_result"
    },
    {
     "data": {
      "image/png": "[encoded data removed]",
      "text/plain": [
       "<Figure size 640x480 with 1 Axes>"
      ]
     },
     "metadata": {},
     "output_type": "display_data"
    }
   ],
   "source": [
    "user_artist_tag_counts_df.Like_The_Beatles.value_counts().plot(kind='pie')"
   ]
  },
  {
   "cell_type": "code",
   "execution_count": 14,
   "metadata": {},
   "outputs": [
    {
     "data": {
      "text/plain": [
       "(2495, 514)"
      ]
     },
     "execution_count": 14,
     "metadata": {},
     "output_type": "execute_result"
    }
   ],
   "source": [
    "user_artist_tag_counts_df.shape"
   ]
  },
  {
   "cell_type": "code",
   "execution_count": 15,
   "metadata": {},
   "outputs": [],
   "source": [
    "# pull 10 data points to test online model serving"
   ]
  },
  {
   "cell_type": "code",
   "execution_count": 16,
   "metadata": {},
   "outputs": [],
   "source": [
    "inference_sample = user_artist_tag_counts_df.sample(n=10, random_state=42)\n",
    "inference_sample.reset_index(drop=True).to_feather(\"test_data/inference_sample.feather\")"
   ]
  },
  {
   "cell_type": "code",
   "execution_count": 17,
   "metadata": {},
   "outputs": [],
   "source": [
    "remainder = user_artist_tag_counts_df.drop(inference_sample.index)\n",
    "train_sample = remainder.sample(n=1985, random_state=42)\n",
    "remainder = remainder.drop(train_sample.index)\n",
    "validation_sample = remainder.sample(n=250, random_state=42)\n",
    "test_sample = remainder.drop(validation_sample.index)"
   ]
  },
  {
   "cell_type": "code",
   "execution_count": 18,
   "metadata": {},
   "outputs": [],
   "source": [
    "train_sample.loc[:, \"data_split\"] = \"TRAIN\"\n",
    "validation_sample.loc[:, \"data_split\"] = \"VALIDATE\"\n",
    "test_sample.loc[:, \"data_split\"] = \"TEST\""
   ]
  },
  {
   "cell_type": "code",
   "execution_count": 19,
   "metadata": {},
   "outputs": [
    {
     "data": {
      "text/plain": [
       "True"
      ]
     },
     "execution_count": 19,
     "metadata": {},
     "output_type": "execute_result"
    }
   ],
   "source": [
    "# Confirm that these numbers add up the way they should\n",
    "train_sample.shape[0] + validation_sample.shape[0] + test_sample.shape[0] + inference_sample.shape[0] == user_artist_tag_counts_df.shape[0]"
   ]
  },
  {
   "cell_type": "code",
   "execution_count": 20,
   "metadata": {},
   "outputs": [],
   "source": [
    "input_data_df = pd.concat([train_sample, validation_sample, test_sample])"
   ]
  },
  {
   "cell_type": "code",
   "execution_count": 21,
   "metadata": {},
   "outputs": [
    {
     "data": {
      "text/plain": [
       "(2485, 515)"
      ]
     },
     "execution_count": 21,
     "metadata": {},
     "output_type": "execute_result"
    }
   ],
   "source": [
    "input_data_df.shape"
   ]
  },
  {
   "cell_type": "code",
   "execution_count": 22,
   "metadata": {},
   "outputs": [],
   "source": [
    "input_data_df.to_csv(\"training_data/file_out_2485_tags.csv\", index=None, encoding=\"utf-8\")"
   ]
  },
  {
   "cell_type": "markdown",
   "metadata": {},
   "source": [
    "Running head on the output CSV file will serve as a quick gut check to make sure that everything looks good in the CSV file."
   ]
  },
  {
   "cell_type": "code",
   "execution_count": 23,
   "metadata": {},
   "outputs": [
    {
     "data": {
      "text/plain": [
       "TRAIN       1985\n",
       "VALIDATE     250\n",
       "TEST         250\n",
       "Name: data_split, dtype: int64"
      ]
     },
     "execution_count": 23,
     "metadata": {},
     "output_type": "execute_result"
    }
   ],
   "source": [
    "input_data_df.data_split.value_counts()"
   ]
  },
  {
   "cell_type": "code",
   "execution_count": 24,
   "metadata": {},
   "outputs": [
    {
     "data": {
      "text/plain": [
       "TRAIN       0.798793\n",
       "VALIDATE    0.100604\n",
       "TEST        0.100604\n",
       "Name: data_split, dtype: float64"
      ]
     },
     "execution_count": 24,
     "metadata": {},
     "output_type": "execute_result"
    }
   ],
   "source": [
    "input_data_df.data_split.value_counts() / len(input_data_df)"
   ]
  },
  {
   "cell_type": "code",
   "execution_count": 25,
   "metadata": {
    "tags": []
   },
   "outputs": [
    {
     "name": "stdout",
     "output_type": "stream",
     "text": [
      "user_name,30_Seconds_to_Mars,65daysofstatic,A_Perfect_Circle,A_Tribe_Called_Quest,ABBA,ACDC,Adele,Aerosmith,Air,Alanis_Morissette,Alice_in_Chains,Amon_Amarth,Amon_Tobin,Amorphis,Anal_Cunt,Anathema,Animal_Collective,Aphex_Twin,Apocalyptica,Arcade_Fire,Arctic_Monkeys,Audioslave,Autechre,Avenged_Sevenfold,Avril_Lavigne,Ayreon,Bad_Religion,Beach_House,Beastie_Boys,Beck,Belle_and_Sebastian,Beyonc,Bjork,Black_Sabbath,Blind_Guardian,Bloc_Party,Blur,Boards_of_Canada,Bob_Dylan,Bob_Marley_and_The_Wailers,Bon_Iver,Bon_Jovi,Bonobo,Brand_New,Breaking_Benjamin,Brian_Eno,Britney_Spears,Broken_Social_Scene,Bruce_Springsteen,Burial,Bush,CHVRCHES,Cake,Calvin_Harris,Carly_Rae_Jepsen,Childish_Gambino,Children_of_Bodom,Cocteau_Twins,Coheed_and_Cambria,Coldplay,Cradle_of_Filth,Creedence_Clearwater_Revival,Crystal_Castles,DJ_Shadow,Daft_Punk,Dark_Tranquillity,Dave_Matthews_Band,David_Bowie,Dead_Can_Dance,Death_Cab_for_Cutie,Death_Grips,Deep_Purple,Deftones,Depeche_Mode,Dire_Straits,Disturbed,Drake,Dream_Theater,Duran_Duran,Eels,Electric_Light_Orchestra,Ellie_Goulding,Elliott_Smith,Elton_John,Eluveitie,Elvis_Presley,Eminem,Ennio_Morricone,Enter_Shikari,Enya,Evanescence,Explosions_in_the_Sky,Faith_No_More,Fall_Out_Boy,Fleet_Foxes,Fleetwood_Mac,Florence__and__the_Machine,Flying_Lotus,Foals,Foo_Fighters,Four_Tet,Frank_Ocean,Frank_Sinatra,Frank_Zappa,Franz_Ferdinand,Garbage,Genesis,God_Is_An_Astronaut,Gojira,Gorillaz,Green_Day,Grimes,Guns_N_Roses,Hans_Zimmer,Howard_Shore,Imagine_Dragons,In_Flames,Incubus,Infected_Mushroom,Interpol,Iron_Maiden,Jay_Z,Jeremy_Soule,Jimi_Hendrix,Jimmy_Eat_World,Johann_Sebastian_Bach,John_Williams,Johnny_Cash,Joy_Division,Judas_Priest,Justice,Kamelot,Kanye_West,Kasabian,Katatonia,Kate_Bush,Katy_Perry,Kendrick_Lamar,King_Crimson,Kings_of_Leon,Korn,Kraftwerk,LCD_Soundsystem,Lady_Gaga,Lana_Del_Rey,Led_Zeppelin,Limp_Bizkit,Linkin_Park,Lorde,Loreena_McKennitt,Ludwig_van_Beethoven,M83,MGMT,Madonna,Marillion,Marilyn_Manson,Marina_and_the_Diamonds,Maroon_5,Martin_ODonnell_and_Michael_Salvatori,Massive_Attack,Mastodon,Megadeth,Metallica,Metric,Michael_Jackson,Michael_Z_Land,Mike_Oldfield,Miles_Davis,Moby,Modest_Mouse,Mogwai,Motorhead,Mumford_and_Sons,Muse,My_Bloody_Valentine,My_Chemical_Romance,NOFX,Neil_Young,Neutral_Milk_Hotel,New_Order,Nick_Cave_and_The_Bad_Seeds,Nickelback,Nightwish,Nine_Inch_Nails,Nirvana,Nujabes,Oasis,Opeth,PJ_Harvey,Panic_at_the_Disco,Pantera,Papa_Roach,Paradise_Lost,Paramore,Pavement,Pearl_Jam,Pendulum,Pet_Shop_Boys,Phoenix,Pink_Floyd,Pixies,Placebo,Porcupine_Tree,Portishead,Portugal_The_Man,Queen,Queens_of_the_Stone_Age,REM,Radiohead,Rage_Against_the_Machine,Rammstein,Ramones,Ratatat,Red_Hot_Chili_Peppers,Regina_Spektor,Rihanna,Rise_Against,Run_the_Jewels,Rush,Royksopp,Scorpions,Shakira,Sia,Sigur_Ros,Simon_and_Garfunkel,Slayer,Slipknot,Slowdive,Snow_Patrol,Soilwork,Sonic_Youth,Soundgarden,Spoon,Sufjan_Stevens,Sum_41,System_of_a_Down,Talking_Heads,Tame_Impala,Taylor_Swift,Tegan_and_Sara,The_Beach_Boys,The_Black_Keys,The_Chemical_Brothers,The_Clash,The_Cranberries,The_Cure,The_Decemberists,The_Doors,The_Flaming_Lips,The_Flashbulb,The_Killers,The_Kinks,The_Knife,The_Mars_Volta,The_Mountain_Goats,The_National,The_Offspring,The_Police,The_Prodigy,The_Rolling_Stones,The_Shins,The_Smashing_Pumpkins,The_Smiths,The_Strokes,The_Velvet_Underground,The_Weeknd,The_White_Stripes,The_Who,The_xx,They_Might_Be_Giants,Thievery_Corporation,Three_Days_Grace,Tom_Waits,Tool,Tori_Amos,Tycho,U2,Ulver,Vampire_Weekend,Vangelis,Venetian_Snares,Weezer,Whitesnake,Wilco,Within_Temptation,Wolfgang_Amadeus_Mozart,Yann_Tiersen,Yeah_Yeah_Yeahs,Yes,ZZ_Top,alt_J,blink_182,deadmau5,Joe_Hisaishi,Kenji_Kawai,Yuki_Kajiura,Nobuo_Uematsu,Yoko_Kanno,Koji_Kondo,tag_alternative,tag_alternative_rock,tag_rock,tag_indie,tag_electronic,tag_classic_rock,tag_british,tag_60s,tag_pop,tag_progressive_rock,tag_psychedelic_rock,tag_psychedelic,tag_house,tag_dance,tag_electronica,tag_techno,tag_seen_live,tag_industrial,tag_industrial_rock,tag_idm,tag_ambient,tag_experimental,tag_britpop,tag_thrash_metal,tag_metal,tag_heavy_metal,tag_hard_rock,tag_80s,tag_glam_rock,tag_funk_rock,tag_funk,tag_nu_metal,tag_soundtrack,tag_video_game_music,tag_instrumental,tag_monkey_island,tag_game_music,tag_70s,tag_grunge,tag_90s,tag_japanese,tag_nintendo,tag_new_wave,tag_synthpop,tag_synth_pop,tag_hip_hop,tag_rap,tag_rnb,tag_kanye_west,tag_indie_rock,tag_chillout,tag_nwobhm,tag_symphonic_metal,tag_power_metal,tag_gothic_metal,tag_female_fronted_metal,tag_punk_rock,tag_punk,tag_pop_punk,tag_alternative_metal,tag_canadian,tag_melodic_death_metal,tag_death_metal,tag_swedish,tag_industrial_metal,tag_german,tag_stoner_rock,tag_progressive_metal,tag_post_punk,tag_female_vocalists,tag_indie_pop,tag_eminem,tag_irish,tag_west_coast,tag_compton,tag_female_vocalist,tag_classical,tag_composers,tag_star_wars,tag_progressive,tag_new_age,tag_blues,tag_icelandic,tag_progressive_death_metal,tag_blues_rock,tag_post_rock,tag_folk,tag_singer_songwriter,tag_8_bit,tag_new_rave,tag_electro,tag_downtempo,tag_trip_hop,tag_ninja_tune,tag_shoegaze,tag_melodic_hardcore,tag_hardcore,tag_emo,tag_doom_metal,tag_depressive_rock,tag_speed_metal,tag_jazz,tag_baroque,tag_political,tag_country,tag_acoustic,tag_norwegian,tag_ariana_grande,tag_american,tag_pop_rock,tag_anime,tag_j_pop,tag_lord_of_the_rings,tag_soul,tag_gothic_rock,tag_gothic,tag_atmospheric,tag_big_beat,tag_sludge,tag_sludge_metal,tag_freak_folk,tag_drum_and_bass,tag_drum_n_bass,tag_dnb,tag_surf,tag_disco,tag_jazz_hop,tag_experimental_rap,tag_experimental_hip_hop,tag_classic,tag_piano,tag_progressive_house,tag_minimal,tag_britney_spears,tag_legend,tag_guitar,tag_final_fantasy,tag_metalcore,tag_math_rock,tag_viking_metal,tag_dream_pop,tag_australian,tag_southern_rock,tag_electropop,tag_turntablism,tag_swing,tag_oldies,tag_vocal_jazz,tag_easy_listening,tag_trumpet,tag_fusion,tag_bebop,tag_romantic,tag_new_zealand,tag_french,tag_randb,tag_ofwgkta,tag_british_invasion,tag_groove_metal,tag_grindcore,tag_noisecore,tag_noisegrind,tag_comedy,tag_black_metal,tag_avant_garde,tag_composer,tag_italian,tag_dubstep,tag_celtic,tag_alt_country,tag_finnish,tag_lounge,tag_prog_rnb,tag_lo_fi,tag_ska_punk,tag_ska,tag_breakcore,tag_instrumental_hip_hop,tag_psytrance,tag_trance,tag_goa,tag_folk_metal,tag_pagan_metal,tag_celtic_metal,tag_celtic_folk_metal,tag_folk_rock,tag_ethereal,tag_elephant_6,tag_post_hardcore,tag_trancecore,tag_nintendocore,tag_jam,tag_acoustic_rock,tag_orchestral,tag_melodic_metal,tag_ost,tag_rock_n_roll,tag_rock_and_roll,tag_proto_punk,tag_halo,tag_game_soundtracks,tag_geek_rock,tag_east_coast_rap,tag_jay_z,tag_shoegazer,tag_hair_metal,tag_rapcore,tag_underground_hip_hop,tag_symphonic_black_metal,tag_darkwave,tag_world,tag_latin,tag_spanish,Like_The_Beatles,data_split\n",
      "kxze,119,,1,,,23,57,210,,,,,,,,,,,,1,464,2,,249,475,,8,,,,,384,64,191,,12,16,,,1,1,5,3,1,216,1,845,,,,23,359,,287,568,16,1,,,188,,,259,,428,,,11,,,,9,,,25,213,50,,,,,2899,,3,,,35,,,,1583,,12,1203,,,258,,6,35,,1,,,39,,,,,21,750,648,109,5,1,108,,8,5,,166,,5,,71,,,,1,1,,,82,3,,,2439,4,,79,,,1,6354,3176,,23,996,1272,,,2,26,1105,,1,2548,115,,,,8,60,,112,,,,3,2,,,,103,,233,,,,,,35,151,,24,,155,,,3988,,45,,4135,,24,244,41,172,2,,120,,,2,231,1,,1,11,1,,2,59,4,1674,27,,14,,33,91,747,,,1,71,,7,,,22,,,13,192,,76,530,,,9,,10,1,20,,,,,373,2,1,,,,31,14,,4,1,1,,21,,185,55,23,23,,,1770,,,,1,7,,18,,,3,,,2,,,4,27,,2,71,5,,,1,3,,,70.0,30.0,83.0,48.0,30.0,21.0,17.0,3.0,20.0,6.0,2.0,5.0,2.0,8.0,7.0,1.0,35.0,2.0,0.0,1.0,3.0,4.0,4.0,3.0,25.0,10.0,21.0,14.0,2.0,1.0,2.0,6.0,4.0,2.0,3.0,0.0,2.0,1.0,6.0,3.0,2.0,0.0,4.0,3.0,0.0,8.0,4.0,6.0,1.0,20.0,4.0,2.0,2.0,2.0,2.0,2.0,8.0,9.0,6.0,1.0,7.0,1.0,1.0,1.0,2.0,1.0,1.0,0.0,3.0,23.0,10.0,1.0,2.0,1.0,1.0,1.0,2.0,1.0,0.0,3.0,0.0,3.0,1.0,0.0,1.0,1.0,2.0,6.0,1.0,1.0,4.0,3.0,2.0,1.0,1.0,1.0,2.0,7.0,0.0,0.0,2.0,0.0,0.0,2.0,1.0,3.0,0.0,0.0,0.0,3.0,1.0,1.0,1.0,4.0,1.0,2.0,0.0,0.0,0.0,0.0,0.0,1.0,1.0,1.0,0.0,1.0,0.0,0.0,0.0,0.0,2.0,1.0,1.0,1.0,1.0,1.0,1.0,1.0,1.0,0.0,1.0,1.0,0.0,1.0,0.0,0.0,0.0,0.0,0.0,0.0,0.0,0.0,0.0,1.0,1.0,1.0,1.0,1.0,0.0,0.0,0.0,0.0,0.0,0.0,0.0,0.0,0.0,1.0,0.0,0.0,1.0,0.0,1.0,0.0,0.0,0.0,0.0,0.0,1.0,1.0,1.0,0.0,0.0,0.0,0.0,0.0,0.0,0.0,0.0,0.0,0.0,0.0,0.0,1.0,0.0,0.0,0.0,0.0,0.0,0.0,0.0,0.0,0.0,0.0,0.0,1.0,1.0,0.0,0.0,0.0,0.0,1.0,1.0,False,TRAIN\n",
      "fwenerson,,,,,,,,,,,,,,,,,,,,,,,,,,,,,,,,,,,,,,,,,,,,,,,,,,,,,,,,,,,,,,,,,,,,,,,,,,,,,,,,,,,,,,,,,,,,,,,,,,,,,,,,,,,,,,,,,,,,,,,,,,,,,,,,,,,,,,,,,,,,,,,,,,,,,,,,,,,,,,,,,,,,,,,,,,,,,,,,,,,,,,,,,3,,,,,,,,,,,,,,,,,,,,,,,,,,,,,,,,,,,,,,,,,,,,,,,,,,,,,,,,,,,,,,,,,,,,,,,,,,,,,,,,,,,,,,,,,,,,,,,,,,,,,,,,,,,,,,,,,,,1.0,1.0,1.0,0.0,0.0,0.0,0.0,0.0,0.0,0.0,0.0,0.0,0.0,0.0,0.0,0.0,0.0,0.0,0.0,0.0,0.0,0.0,0.0,0.0,0.0,0.0,0.0,0.0,0.0,0.0,0.0,0.0,0.0,0.0,0.0,0.0,0.0,0.0,1.0,1.0,0.0,0.0,0.0,0.0,0.0,0.0,0.0,0.0,0.0,0.0,0.0,0.0,0.0,0.0,0.0,0.0,0.0,0.0,0.0,0.0,0.0,0.0,0.0,0.0,0.0,0.0,0.0,0.0,0.0,0.0,0.0,0.0,0.0,0.0,0.0,0.0,0.0,0.0,0.0,0.0,0.0,0.0,0.0,0.0,0.0,0.0,0.0,0.0,0.0,0.0,0.0,0.0,0.0,0.0,0.0,0.0,0.0,0.0,0.0,0.0,0.0,0.0,0.0,0.0,0.0,0.0,0.0,0.0,0.0,0.0,0.0,0.0,0.0,0.0,0.0,0.0,0.0,0.0,0.0,0.0,0.0,0.0,0.0,0.0,0.0,0.0,0.0,0.0,0.0,0.0,0.0,0.0,0.0,0.0,0.0,0.0,0.0,0.0,0.0,0.0,0.0,0.0,0.0,0.0,0.0,0.0,0.0,0.0,0.0,0.0,0.0,0.0,0.0,0.0,0.0,0.0,0.0,0.0,0.0,0.0,0.0,0.0,0.0,0.0,0.0,0.0,0.0,0.0,0.0,0.0,0.0,0.0,0.0,0.0,0.0,0.0,0.0,0.0,0.0,0.0,0.0,0.0,0.0,0.0,0.0,0.0,0.0,0.0,0.0,0.0,0.0,0.0,0.0,0.0,0.0,0.0,0.0,0.0,0.0,0.0,0.0,0.0,0.0,0.0,0.0,0.0,0.0,0.0,0.0,0.0,0.0,0.0,0.0,False,TRAIN\n",
      "thejadedlocal,,56,,13,,74,,40,,,13,,,,195,,4,27,,66,531,114,1,7,,,5,1,179,279,1,1,,16,,32,,12,10,,,9,,3,,,1,,19,,1,218,24,42,4,92,,,,5,,97,498,,879,,,44,,34,1408,101,81,,,10,8,6,13,1,9,10,,,,1,,2,1,,2,3,9,65,40,4,,1,21,137,,2,,,192,,,,15,424,63,30,17,7,,17,,,,340,1,108,,1,14,,7,5,43,,86,,620,,,,1,171,,19,,55,31,1,,67,,138,2,,,16,1,,,,,16,,11,,1,969,200,,,,,25,2420,1,31,,,25,1,41,,93,,,,1,130,2,,,,,48,71,27,,10,,2,,,33,,46,,,,179,5,43,,42,163,176,90,1394,17,,2,128,293,19,27,5,,,,,50,,,,,5,6,6,50,53,15,,512,,77,,845,25,70,,,636,16,,,4,3,,46,1,3,131,2,,59,83,197,1,999,16,39,68,17,4,,,1,,,,32,13,,17,,,123,13,14,,,,5,2,,1,67,314,,,,,,,73.0,25.0,87.0,57.0,31.0,29.0,12.0,5.0,13.0,7.0,2.0,6.0,2.0,8.0,11.0,2.0,50.0,2.0,1.0,4.0,7.0,11.0,1.0,4.0,23.0,10.0,21.0,13.0,2.0,1.0,1.0,5.0,2.0,0.0,6.0,0.0,0.0,5.0,6.0,3.0,0.0,0.0,4.0,2.0,1.0,12.0,7.0,6.0,1.0,35.0,4.0,1.0,1.0,2.0,1.0,1.0,10.0,11.0,6.0,1.0,7.0,0.0,1.0,0.0,1.0,2.0,1.0,2.0,5.0,13.0,10.0,0.0,1.0,1.0,1.0,1.0,2.0,1.0,1.0,4.0,0.0,4.0,0.0,1.0,1.0,4.0,9.0,7.0,1.0,1.0,5.0,2.0,0.0,0.0,2.0,1.0,3.0,6.0,0.0,0.0,3.0,0.0,0.0,2.0,1.0,1.0,1.0,0.0,0.0,2.0,0.0,0.0,0.0,2.0,1.0,1.0,0.0,1.0,0.0,0.0,1.0,0.0,0.0,0.0,0.0,1.0,0.0,1.0,1.0,0.0,0.0,1.0,1.0,1.0,1.0,1.0,0.0,1.0,2.0,0.0,3.0,1.0,1.0,1.0,0.0,0.0,1.0,0.0,0.0,0.0,0.0,0.0,0.0,1.0,2.0,1.0,1.0,1.0,1.0,1.0,1.0,1.0,1.0,0.0,0.0,1.0,1.0,1.0,0.0,1.0,0.0,0.0,1.0,3.0,1.0,1.0,0.0,1.0,0.0,0.0,0.0,0.0,0.0,0.0,0.0,1.0,0.0,1.0,1.0,1.0,1.0,0.0,0.0,0.0,0.0,0.0,1.0,1.0,1.0,0.0,0.0,0.0,1.0,1.0,0.0,2.0,0.0,1.0,0.0,0.0,0.0,0.0,0.0,True,TRAIN\n",
      "Lv1Slime,2,1,11,45,1,,,2,20,,12,,18,,,,,33,5,10,49,6,22,339,,,14,2,23,75,,,3,2,,3,7,66,,,4,,78,8,6,7,,3,,26,9,3,42,54,1,94,,1,6,2,,,140,50,113,,,2,,7,22,,18,1,,4,14,,,,,2,1,,,,14,,1819,,2,5,1,531,1,,2,164,2,14,25,25,,,40,5,,9,,2179,10,10,,,,2,2,2,8,2,4,3,,,14,,,,,2,87,,18,4,,,1,49,,9,22,,33,,1,2,8,25,1,,,28,86,8,,47,1,,,53,5,13,26,2,,,,,12,37,13,3,2,31,,20,1,,,1,,4,,73,19,25,3,,5,94,5,3,,5,,7,48,,29,,4,3,,18,2,1,22,1,63,16,5,3,173,40,,14,652,106,,11,,,,2,2,1,15,,,,,8,5,8,7,53,1,14,,1,,43,18,3,,1,4,1,1,11,21,,9,,,,21,,18,5,10,21,,34,3,12,70,,11,,17,9,,,,48,,,22,,8,10,2,,,,,12,,,1,6,3182,,,,1,,,88.0,33.0,83.0,64.0,48.0,13.0,14.0,2.0,10.0,3.0,2.0,6.0,2.0,8.0,18.0,3.0,56.0,4.0,1.0,8.0,11.0,15.0,3.0,4.0,27.0,9.0,17.0,11.0,2.0,1.0,1.0,8.0,1.0,1.0,7.0,0.0,1.0,4.0,6.0,3.0,2.0,0.0,4.0,3.0,1.0,14.0,8.0,6.0,1.0,32.0,8.0,2.0,1.0,1.0,0.0,0.0,10.0,11.0,6.0,1.0,9.0,1.0,1.0,3.0,2.0,1.0,1.0,1.0,6.0,19.0,12.0,1.0,0.0,1.0,1.0,0.0,0.0,0.0,0.0,1.0,0.0,2.0,2.0,0.0,1.0,7.0,8.0,7.0,1.0,1.0,5.0,4.0,6.0,2.0,2.0,1.0,3.0,7.0,0.0,0.0,3.0,0.0,0.0,2.0,0.0,5.0,1.0,1.0,1.0,1.0,0.0,0.0,0.0,1.0,1.0,1.0,0.0,1.0,1.0,1.0,0.0,1.0,1.0,1.0,0.0,2.0,1.0,1.0,1.0,0.0,0.0,1.0,1.0,0.0,0.0,0.0,1.0,1.0,2.0,0.0,3.0,1.0,0.0,1.0,1.0,0.0,0.0,0.0,0.0,0.0,0.0,0.0,0.0,1.0,2.0,1.0,1.0,0.0,1.0,0.0,0.0,0.0,0.0,0.0,0.0,0.0,0.0,2.0,0.0,0.0,1.0,1.0,1.0,1.0,1.0,1.0,2.0,1.0,1.0,1.0,1.0,0.0,0.0,0.0,0.0,1.0,1.0,0.0,1.0,1.0,1.0,0.0,0.0,0.0,0.0,0.0,0.0,0.0,1.0,0.0,0.0,0.0,1.0,1.0,0.0,1.0,1.0,1.0,0.0,0.0,0.0,0.0,0.0,True,TRAIN\n",
      "flowerpunk,,,,24,,,,,,,,11,126,18,,1,181,194,,215,,,389,,,,,18,92,,11,,389,,,6,,442,,,5,,,,,309,,,,152,,21,,,,,4,17,,,3,,211,58,26,,,1320,12,,317,,,1,,,,,,,,,11,,9,,,65,,,,8,195,,15,3,,155,,2,65,41,,1052,,1,,,26,,,95,,1,,,,,,65,,4,,,,562,,,233,,3,,23,,13,115,,143,1,,,20,80,58,118,,,,,,207,96,17,,,634,,,,19,11,,2,,,,,4,39,46,,,,,285,,,,23,11,,,,3,227,,6,145,10,,,,,,813,7,,10,7,,136,114,,23,,,,313,1498,,,,,,,,16,12,,,,,,24,,,,96,,,149,,10,10,,,131,8,,,66,,8,,,393,,,439,,,22,4,,3,97,,,,,53,34,87,,,,,38,6,,,,,,,2,,81,8,,5,78,,286,,,,,,,,,,,14,,,2,,45.0,11.0,30.0,41.0,34.0,7.0,5.0,3.0,6.0,3.0,1.0,3.0,1.0,5.0,16.0,2.0,38.0,2.0,1.0,7.0,13.0,16.0,1.0,1.0,9.0,1.0,2.0,9.0,1.0,0.0,0.0,0.0,3.0,0.0,5.0,0.0,0.0,1.0,4.0,3.0,2.0,0.0,7.0,5.0,1.0,9.0,6.0,2.0,1.0,21.0,4.0,0.0,0.0,1.0,2.0,0.0,1.0,1.0,0.0,0.0,2.0,4.0,6.0,2.0,1.0,2.0,0.0,6.0,9.0,7.0,7.0,0.0,0.0,1.0,1.0,1.0,3.0,2.0,0.0,1.0,0.0,2.0,2.0,2.0,0.0,3.0,6.0,6.0,1.0,1.0,4.0,2.0,3.0,1.0,4.0,1.0,1.0,0.0,3.0,1.0,0.0,3.0,1.0,0.0,0.0,2.0,0.0,0.0,0.0,0.0,2.0,1.0,0.0,1.0,0.0,1.0,1.0,1.0,1.0,1.0,1.0,0.0,0.0,0.0,1.0,0.0,0.0,1.0,1.0,1.0,0.0,0.0,0.0,0.0,0.0,0.0,0.0,0.0,0.0,1.0,5.0,1.0,0.0,1.0,1.0,0.0,0.0,0.0,0.0,1.0,1.0,1.0,1.0,0.0,2.0,1.0,1.0,1.0,0.0,0.0,0.0,0.0,0.0,2.0,1.0,1.0,1.0,1.0,0.0,1.0,1.0,0.0,0.0,4.0,0.0,0.0,1.0,1.0,0.0,0.0,0.0,1.0,1.0,1.0,1.0,1.0,2.0,1.0,0.0,0.0,0.0,0.0,0.0,0.0,0.0,1.0,0.0,0.0,0.0,0.0,0.0,0.0,1.0,1.0,1.0,0.0,0.0,1.0,1.0,1.0,1.0,0.0,0.0,True,TRAIN\n",
      "ainen,,,,,,,,,,,,,,,,,,,,,,,,,,,,,,,,,,,,,,,,,,,1,,,,,,,,,,,,,,,,,,,,,,,,,,,,,,,,,,,,,,,,,,,,,,,,,,,,,,,,,,,,,,,,,,,,,,,,,,,,,,,,,,,,,,,,,,,,,,,,,,,,,,,,,,,,,,,,,,,,,,,,,,,,,,,,,,,,,,,,,,,,,,,,,,,,,,,,,,,,,,,,,,,,,,,,,,,,,,,,,,,,,,,,,,,,,,,,,,,,,,,,,,,,,,,,,,,,,,,,,,,,,,,,,,,,,,,,,1,,,,,,,,,,,,,,,,,,,,,,,,0.0,0.0,0.0,0.0,2.0,0.0,0.0,0.0,0.0,0.0,0.0,0.0,0.0,0.0,0.0,0.0,0.0,0.0,0.0,1.0,1.0,0.0,0.0,0.0,0.0,0.0,0.0,0.0,0.0,0.0,0.0,0.0,0.0,0.0,0.0,0.0,0.0,0.0,0.0,0.0,0.0,0.0,0.0,0.0,0.0,0.0,0.0,0.0,0.0,0.0,2.0,0.0,0.0,0.0,0.0,0.0,0.0,0.0,0.0,0.0,0.0,0.0,0.0,0.0,0.0,0.0,0.0,0.0,0.0,0.0,0.0,0.0,0.0,0.0,0.0,0.0,0.0,0.0,0.0,0.0,0.0,0.0,0.0,0.0,0.0,0.0,0.0,0.0,0.0,0.0,0.0,2.0,1.0,1.0,0.0,0.0,0.0,0.0,0.0,0.0,0.0,0.0,0.0,0.0,0.0,0.0,0.0,0.0,0.0,0.0,0.0,0.0,0.0,0.0,0.0,0.0,0.0,0.0,0.0,0.0,0.0,0.0,0.0,0.0,0.0,0.0,0.0,0.0,0.0,0.0,0.0,0.0,0.0,0.0,0.0,0.0,0.0,0.0,0.0,0.0,0.0,0.0,0.0,0.0,0.0,0.0,0.0,0.0,0.0,0.0,0.0,0.0,0.0,0.0,0.0,0.0,0.0,0.0,0.0,0.0,0.0,0.0,0.0,0.0,0.0,0.0,0.0,0.0,0.0,0.0,0.0,0.0,0.0,0.0,0.0,0.0,0.0,0.0,0.0,0.0,0.0,0.0,0.0,0.0,0.0,0.0,0.0,0.0,0.0,0.0,0.0,0.0,0.0,0.0,0.0,0.0,0.0,0.0,0.0,0.0,0.0,0.0,0.0,0.0,0.0,0.0,0.0,0.0,0.0,0.0,0.0,0.0,0.0,False,TRAIN\n",
      "gore92,121,,30,1,,1,39,3,1,,,2,,,,,,,,2,14,11,,14,4,,6,1,1,7,,3,2,59,,32,12,3,6,,,4,,430,25,,1,,,,2,1,,1,1,,,,,,2,,,1,2,,,4,,,,,996,3,,220,405,,2,,,1,,,,30,479,30,109,,3,,,6,,2,,,4,,,,35,,1,,,146,,2,6,,2,830,,115,15,,1,,9,,,,99,7,,45,,,,,2,,285,,2,21,,,8,,1,23,25,1,1,443,1,,19,9,4,,,1235,,14,,1,13,9,1,3,1,,,,15,,,,1,2,1,6,30,1,,,,1,,,393,1,,,,15,4,3,3,1,,1,12,13,2,,34,110,1,,,18,6,,,2,1378,,1,15,,379,8,,2,,,19,161,11,,2,986,,,,,,,,77,579,,3,2,,1,2,1,,1,4,,,,,55,4,,,,,20,,1523,5,,,1,,,1,1,,,,,6,,,,,1,,,713,,,,,,94,2,40,,,2,39,,,1,,,,,59.0,23.0,72.0,37.0,24.0,17.0,10.0,3.0,21.0,5.0,1.0,4.0,1.0,9.0,8.0,3.0,34.0,3.0,0.0,1.0,5.0,2.0,1.0,4.0,28.0,8.0,17.0,12.0,2.0,1.0,2.0,8.0,3.0,0.0,7.0,0.0,0.0,3.0,3.0,2.0,2.0,0.0,5.0,3.0,2.0,10.0,5.0,6.0,1.0,15.0,4.0,1.0,0.0,1.0,3.0,0.0,8.0,9.0,6.0,1.0,7.0,2.0,4.0,2.0,2.0,2.0,1.0,3.0,2.0,21.0,7.0,1.0,2.0,1.0,1.0,1.0,5.0,3.0,0.0,2.0,0.0,3.0,2.0,0.0,1.0,3.0,4.0,6.0,0.0,0.0,1.0,1.0,3.0,0.0,2.0,1.0,3.0,7.0,2.0,1.0,2.0,1.0,1.0,2.0,2.0,3.0,0.0,1.0,1.0,3.0,1.0,0.0,0.0,3.0,1.0,1.0,0.0,1.0,1.0,1.0,0.0,1.0,1.0,1.0,1.0,1.0,1.0,0.0,0.0,2.0,2.0,0.0,0.0,1.0,1.0,0.0,0.0,1.0,1.0,1.0,2.0,1.0,0.0,1.0,1.0,1.0,2.0,1.0,1.0,0.0,0.0,0.0,1.0,1.0,2.0,0.0,0.0,1.0,1.0,0.0,0.0,0.0,0.0,1.0,0.0,1.0,1.0,1.0,0.0,0.0,0.0,0.0,1.0,1.0,1.0,1.0,0.0,0.0,1.0,1.0,1.0,0.0,0.0,0.0,0.0,1.0,0.0,0.0,1.0,1.0,1.0,0.0,0.0,0.0,0.0,1.0,1.0,1.0,0.0,0.0,0.0,0.0,0.0,0.0,0.0,1.0,1.0,0.0,1.0,0.0,0.0,1.0,1.0,False,TRAIN\n",
      "skropotkin,2,2,,55,,,2,,4,,157,,10,,,,5,292,1,88,24,,,,,,1,2,335,10,4,,262,1,,48,10,2,442,527,1,,4,,,,,,4,101,,1,143,3,,2,,,1,2,,13,325,322,354,,,549,2,,107,4,125,2,39,,2,,2,11,,3,1,1,,14,176,15,,,,,,,1,1,2,23,68,1,24,4,,,6,3,,,,69,,2,2,,,1,,1,,6,3,58,,119,,1,,39,78,,87,,197,2,,1,1,140,,1,19,1,246,,,216,2,,2,,,6,4,,,81,,1,,131,1,2,,3,8,,,99,43,,34,15,,145,3,,,1,,,2,1,,104,499,,1,,596,,20,2,,,185,62,,,2,220,451,3,,418,,4,2,,643,246,,6,7,80,1,5,2,114,,3,4,,,3,9,2,,2,,,603,4,,,,111,,4,,,7,561,127,241,,544,1,340,1,,3,,237,5,,2,,,80,738,1,59,,201,204,6,79,6,20,,,1,,4,1,,125,,7,,,,,1,,,,146,,,190,,1,,,,,,,74.0,26.0,80.0,62.0,38.0,26.0,14.0,5.0,13.0,6.0,3.0,7.0,2.0,8.0,15.0,3.0,47.0,3.0,1.0,4.0,8.0,11.0,3.0,3.0,18.0,8.0,13.0,12.0,2.0,1.0,2.0,5.0,1.0,0.0,7.0,0.0,0.0,3.0,5.0,3.0,0.0,0.0,4.0,4.0,2.0,13.0,8.0,6.0,1.0,32.0,5.0,1.0,1.0,1.0,0.0,0.0,4.0,4.0,0.0,1.0,6.0,0.0,0.0,1.0,1.0,2.0,1.0,2.0,6.0,15.0,10.0,1.0,1.0,1.0,1.0,0.0,2.0,1.0,0.0,0.0,0.0,6.0,2.0,0.0,1.0,4.0,9.0,15.0,1.0,1.0,6.0,2.0,4.0,2.0,3.0,1.0,1.0,1.0,0.0,0.0,3.0,1.0,1.0,2.0,1.0,3.0,1.0,1.0,1.0,2.0,0.0,0.0,0.0,3.0,0.0,1.0,0.0,1.0,1.0,1.0,1.0,0.0,0.0,0.0,1.0,1.0,0.0,1.0,1.0,0.0,3.0,1.0,1.0,0.0,0.0,2.0,0.0,0.0,2.0,0.0,4.0,1.0,1.0,1.0,1.0,0.0,1.0,0.0,0.0,1.0,1.0,1.0,0.0,1.0,2.0,1.0,1.0,0.0,1.0,0.0,0.0,0.0,0.0,0.0,0.0,1.0,1.0,2.0,0.0,1.0,1.0,0.0,1.0,2.0,0.0,0.0,0.0,1.0,0.0,0.0,0.0,0.0,0.0,0.0,0.0,2.0,1.0,0.0,0.0,0.0,0.0,0.0,0.0,0.0,0.0,0.0,1.0,1.0,1.0,0.0,0.0,0.0,1.0,1.0,1.0,0.0,1.0,1.0,0.0,1.0,1.0,0.0,0.0,True,TRAIN\n",
      "pushaTea,,1,8,747,,24,43,28,28,,,,,,1,,167,209,,133,7,22,1,,,,1,8,25,244,44,12,6,,,,3,28,472,283,52,1,6,,,21,1,37,59,6,,1,221,7,7,113,,9,,2,,371,53,109,7,,,174,,6,1,,,,157,,107,,,,,2,147,86,,136,111,,,7,,98,,,2,114,1,11,,14,,,2,127,1,,1,,,62,3,76,1,,,6,,,,9,4,453,,465,3,2,21,63,5,,1,,80,1,,,14,104,3,7,,,81,41,5,563,,,15,,,1,40,,,,1,1,,21,,,22,,26,,,44,,288,,13,24,6,14,,,342,72,18,,,,55,396,,104,,55,,,1,,2,1426,68,,,,134,727,3,4,,3,210,169,72,938,113,,7,399,386,486,104,,149,,,,29,,118,108,,,,1,,25,73,26,2,,167,145,136,5,,72,279,,341,,25,1,88,264,,13,220,,518,8,80,7,172,1,929,84,432,175,164,347,2,307,191,18,33,,,1164,1,22,7,104,,50,,,613,,1337,,,,94,14,5,68,7,,,,,,,,80.0,25.0,94.0,68.0,33.0,33.0,16.0,6.0,19.0,11.0,3.0,8.0,1.0,9.0,10.0,2.0,47.0,2.0,1.0,4.0,9.0,17.0,4.0,1.0,11.0,4.0,14.0,15.0,2.0,1.0,2.0,2.0,1.0,0.0,5.0,0.0,0.0,4.0,6.0,3.0,0.0,0.0,6.0,1.0,0.0,13.0,8.0,6.0,1.0,37.0,3.0,1.0,0.0,0.0,0.0,0.0,6.0,6.0,3.0,1.0,6.0,0.0,0.0,0.0,0.0,1.0,1.0,2.0,9.0,21.0,11.0,1.0,2.0,1.0,1.0,1.0,2.0,2.0,1.0,5.0,1.0,7.0,2.0,0.0,2.0,5.0,14.0,16.0,1.0,1.0,3.0,3.0,2.0,1.0,3.0,0.0,0.0,2.0,0.0,0.0,1.0,3.0,1.0,2.0,2.0,6.0,0.0,1.0,1.0,2.0,0.0,0.0,0.0,3.0,0.0,0.0,0.0,0.0,0.0,0.0,1.0,0.0,0.0,0.0,1.0,1.0,0.0,1.0,1.0,0.0,3.0,0.0,0.0,1.0,1.0,2.0,0.0,0.0,1.0,0.0,4.0,1.0,2.0,1.0,1.0,1.0,2.0,1.0,1.0,1.0,1.0,1.0,0.0,1.0,1.0,0.0,0.0,1.0,0.0,1.0,1.0,1.0,1.0,0.0,0.0,0.0,0.0,2.0,1.0,1.0,0.0,0.0,1.0,4.0,0.0,0.0,0.0,1.0,0.0,0.0,0.0,0.0,0.0,0.0,0.0,2.0,1.0,1.0,0.0,0.0,0.0,0.0,0.0,0.0,0.0,0.0,1.0,1.0,1.0,0.0,0.0,1.0,1.0,1.0,0.0,1.0,0.0,1.0,0.0,0.0,0.0,1.0,1.0,True,TRAIN\n"
     ]
    }
   ],
   "source": [
    "!head training_data/file_out_2485_tags.csv"
   ]
  },
  {
   "cell_type": "markdown",
   "metadata": {},
   "source": [
    "The line below copies the CSV file that was just output to a GCS bucket in Google Cloud."
   ]
  },
  {
   "cell_type": "code",
   "execution_count": 26,
   "metadata": {},
   "outputs": [
    {
     "name": "stdout",
     "output_type": "stream",
     "text": [
      "Copying file://training_data/file_out_2485_tags.csv [Content-Type=text/csv]...\n",
      "/ [1 files][  3.2 MiB/  3.2 MiB]                                                \n",
      "Operation completed over 1 objects/3.2 MiB.                                      \n"
     ]
    }
   ],
   "source": [
    "!gsutil cp training_data/file_out_2485_tags.csv gs://csalling-docai-datasets-regional/beatles/file_out_2485_tags.csv"
   ]
  },
  {
   "cell_type": "markdown",
   "metadata": {},
   "source": [
    "Note that normally I wouldn't use a bucket obviously intended for a different application, but right now for some reason we can only create buckets that are in Finland, so I'm using an older bucket I had lying around for experimentation purposes."
   ]
  }
 ],
 "metadata": {
  "environment": {
   "kernel": "python3",
   "name": "common-cpu.m103",
   "type": "gcloud",
   "uri": "gcr.io/deeplearning-platform-release/base-cpu:m103"
  },
  "kernelspec": {
   "display_name": "Python 3",
   "language": "python",
   "name": "python3"
  },
  "language_info": {
   "codemirror_mode": {
    "name": "ipython",
    "version": 3
   },
   "file_extension": ".py",
   "mimetype": "text/x-python",
   "name": "python",
   "nbconvert_exporter": "python",
   "pygments_lexer": "ipython3",
   "version": "3.7.12"
  }
 },
 "nbformat": 4,
 "nbformat_minor": 4
}

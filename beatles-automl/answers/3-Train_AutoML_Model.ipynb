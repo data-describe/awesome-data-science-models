{
 "cells": [
  {
   "cell_type": "markdown",
   "id": "e0ec81a0-dffe-49e7-87db-64fa359aea68",
   "metadata": {},
   "source": [
    "# Train AutoML Model\n",
    "\n",
    "To train and host our classification model, we will be using AutoML Tabular Datasets in Google Cloud Vertex AI. We will be training a classification algorithm in order to predict whether a particular user likes the Beatles (essentially a binary classification problem).\n"
   ]
  },
  {
   "cell_type": "markdown",
   "id": "6a4946fb-8924-47de-ba9a-43e7256800ef",
   "metadata": {},
   "source": [
    "First, we must create our Vertex AI Dataset."
   ]
  },
  {
   "cell_type": "code",
   "execution_count": 1,
   "id": "6f930f43-6503-414f-9bf9-8d9d8cfc8ee3",
   "metadata": {},
   "outputs": [],
   "source": [
    "PROJECT_NAME = 'mwpmltr'\n",
    "LOCATION = \"us-central1\"\n",
    "MODEL_NAME = \"beatles_automl_file_out_2485_tags\"\n",
    "TARGET_COLUMN = \"Like_The_Beatles\""
   ]
  },
  {
   "cell_type": "code",
   "execution_count": 2,
   "id": "03397b70-de4c-4a68-b2e6-16e3ed8e01ca",
   "metadata": {},
   "outputs": [],
   "source": [
    "from google.cloud import aiplatform"
   ]
  },
  {
   "cell_type": "code",
   "execution_count": 3,
   "id": "f4317be3-6dce-4012-90a4-3dac4099ceca",
   "metadata": {},
   "outputs": [],
   "source": [
    "def create_and_import_dataset_tabular_gcs_sample(\n",
    "    display_name: str,\n",
    "    project: str,\n",
    "    location: str,\n",
    "    gcs_source: list,\n",
    ") -> None:\n",
    "    \"\"\"Creates a AutoML Tabular Dataset in Google Cloud Vertex AI\"\"\"\n",
    "    aiplatform.init(project=project, location=location)\n",
    "\n",
    "    dataset = aiplatform.TabularDataset.create(\n",
    "        display_name=display_name,\n",
    "        gcs_source=gcs_source,\n",
    "    )\n",
    "\n",
    "    dataset.wait()\n",
    "\n",
    "    print(f'\\tDataset: \"{dataset.display_name}\"')\n",
    "    print(f'\\tname: \"{dataset.resource_name}\"')"
   ]
  },
  {
   "cell_type": "code",
   "execution_count": 4,
   "id": "5bf29fdd-092d-46c0-ae6e-e658c9f69857",
   "metadata": {},
   "outputs": [
    {
     "name": "stdout",
     "output_type": "stream",
     "text": [
      "Creating TabularDataset\n",
      "Create TabularDataset backing LRO: projects/55590906972/locations/us-central1/datasets/6508517299178176512/operations/4289139678214356992\n",
      "TabularDataset created. Resource name: projects/55590906972/locations/us-central1/datasets/6508517299178176512\n",
      "To use this TabularDataset in another session:\n",
      "ds = aiplatform.TabularDataset('projects/55590906972/locations/us-central1/datasets/6508517299178176512')\n",
      "\tDataset: \"beatles_automl_file_out_2485_tags_v1\"\n",
      "\tname: \"projects/55590906972/locations/us-central1/datasets/6508517299178176512\"\n"
     ]
    }
   ],
   "source": [
    "dataset_name = f'{MODEL_NAME}_v1'\n",
    "create_and_import_dataset_tabular_gcs_sample(dataset_name, PROJECT_NAME, LOCATION, 'gs://csalling-docai-datasets-regional/beatles/file_out_2485_tags.csv')"
   ]
  },
  {
   "cell_type": "code",
   "execution_count": 5,
   "id": "e9cd1280-5446-41e5-96a5-02f2e495b620",
   "metadata": {
    "tags": []
   },
   "outputs": [
    {
     "name": "stdout",
     "output_type": "stream",
     "text": [
      "No column transformations provided, so now retrieving columns from dataset in order to set default column transformations.\n",
      "The column transformation of type 'auto' was set for the following columns: ['tag_romantic', 'tag_blues_rock', 'tag_ninja_tune', 'tag_stoner_rock', 'tag_gothic_metal', 'Mumford_and_Sons', 'Pavement', 'Cake', 'The_Offspring', 'Soilwork', 'Death_Cab_for_Cutie', 'Paramore', 'Portishead', 'Tame_Impala', 'tag_hip_hop', 'tag_speed_metal', 'The_Decemberists', 'Ellie_Goulding', 'tag_french', 'tag_lord_of_the_rings', 'tag_vocal_jazz', 'tag_jam', 'Phoenix', 'Florence__and__the_Machine', 'ZZ_Top', 'tag_math_rock', 'Eels', 'Bon_Iver', 'Breaking_Benjamin', 'tag_blues', 'Queens_of_the_Stone_Age', 'tag_industrial_metal', 'Duran_Duran', 'Alanis_Morissette', 'The_National', 'Thievery_Corporation', 'Nirvana', 'tag_folk_metal', 'The_Black_Keys', 'tag_atmospheric', 'Kate_Bush', 'Four_Tet', 'user_name', 'Blind_Guardian', 'tag_composers', 'tag_electro', 'CHVRCHES', 'tag_britney_spears', 'tag_game_music', 'tag_swedish', 'Bush', 'Gorillaz', 'tag_rock_and_roll', 'Elton_John', 'Mastodon', 'Judas_Priest', 'tag_nintendo', 'Johnny_Cash', 'Lorde', 'tag_psytrance', 'Brian_Eno', 'Beck', 'Vangelis', 'tag_comedy', 'Deftones', 'tag_melodic_hardcore', 'tag_ska_punk', 'tag_guitar', 'Adele', 'Fall_Out_Boy', 'tag_singer_songwriter', 'Beach_House', 'Bloc_Party', 'Garbage', 'tag_west_coast', 'Kasabian', 'The_Cure', 'Michael_Z_Land', 'tag_electronica', 'Amon_Amarth', 'tag_ska', 'Autechre', 'The_xx', 'tag_punk_rock', 'tag_legend', 'Pink_Floyd', 'The_Killers', 'tag_shoegaze', 'Simon_and_Garfunkel', 'tag_classic_rock', 'The_Prodigy', 'tag_techno', 'tag_70s', 'Jay_Z', 'Kamelot', 'Cradle_of_Filth', 'tag_indie_pop', 'Death_Grips', 'Kendrick_Lamar', 'tag_80s', 'tag_jazz_hop', 'tag_pop', 'tag_progressive_rock', 'tag_hair_metal', 'Dire_Straits', 'Lady_Gaga', 'Mike_Oldfield', 'tag_soul', 'tag_bebop', 'tag_freak_folk', 'Metric', 'tag_drum_n_bass', 'tag_turntablism', 'The_Chemical_Brothers', 'Bob_Dylan', 'Gojira', 'Korn', 'Evanescence', 'Britney_Spears', 'King_Crimson', 'tag_glam_rock', 'Children_of_Bodom', 'Faith_No_More', 'Marina_and_the_Diamonds', 'Imagine_Dragons', 'The_Police', 'tag_new_zealand', 'tag_pagan_metal', 'Drake', 'Neil_Young', 'tag_progressive', 'The_White_Stripes', 'tag_proto_punk', 'LCD_Soundsystem', 'Blur', 'Nickelback', 'tag_rap', 'Massive_Attack', 'In_Flames', 'Regina_Spektor', 'tag_gothic_rock', 'Royksopp', 'Eminem', 'Sonic_Youth', 'tag_underground_hip_hop', 'Justice', 'tag_canadian', 'Michael_Jackson', 'tag_melodic_metal', 'Ludwig_van_Beethoven', 'Johann_Sebastian_Bach', 'Three_Days_Grace', 'tag_shoegazer', 'Rage_Against_the_Machine', 'Boards_of_Canada', 'Modest_Mouse', '30_Seconds_to_Mars', 'tag_darkwave', 'Franz_Ferdinand', 'tag_new_rave', 'Koji_Kondo', 'A_Tribe_Called_Quest', 'tag_world', 'tag_minimal', 'Air', 'Ayreon', 'Sigur_Ros', 'tag_60s', 'Grimes', 'deadmau5', 'tag_eminem', 'tag_groove_metal', 'tag_indie', 'Yes', 'Yeah_Yeah_Yeahs', 'Whitesnake', 'tag_lounge', 'tag_east_coast_rap', 'Jeremy_Soule', 'tag_celtic', 'tag_electropop', 'tag_baroque', 'tag_heavy_metal', 'tag_fusion', 'Nine_Inch_Nails', 'Avenged_Sevenfold', 'tag_progressive_metal', 'Red_Hot_Chili_Peppers', 'Megadeth', 'Flying_Lotus', 'tag_oldies', 'tag_grunge', 'Tom_Waits', 'tag_experimental_rap', 'Rush', 'Martin_ODonnell_and_Michael_Salvatori', 'tag_celtic_folk_metal', 'tag_ost', 'Beyonc', 'tag_halo', 'Explosions_in_the_Sky', 'Loreena_McKennitt', 'tag_alt_country', 'tag_female_vocalist', 'tag_symphonic_metal', 'REM', 'tag_post_punk', 'Muse', 'tag_ambient', 'Howard_Shore', 'Yuki_Kajiura', 'tag_classical', 'tag_rnb', 'Nightwish', 'tag_sludge', 'Kraftwerk', 'Portugal_The_Man', 'Animal_Collective', 'Carly_Rae_Jepsen', 'Nujabes', 'God_Is_An_Astronaut', 'ACDC', 'tag_sludge_metal', 'The_Kinks', 'Pantera', 'Porcupine_Tree', 'My_Bloody_Valentine', 'Placebo', 'Frank_Ocean', 'Disturbed', '65daysofstatic', 'Bon_Jovi', 'tag_pop_punk', 'tag_hardcore', 'Moby', 'Paradise_Lost', 'The_Doors', 'A_Perfect_Circle', 'Radiohead', 'tag_soundtrack', 'Wilco', 'Katy_Perry', 'Slayer', 'Kanye_West', 'Metallica', 'Depeche_Mode', 'The_Who', 'Anathema', 'tag_alternative', 'Aerosmith', 'tag_experimental', 'tag_new_wave', 'tag_funk_rock', 'Frank_Sinatra', 'tag_celtic_metal', 'Fleet_Foxes', 'tag_emo', 'Frank_Zappa', 'tag_chillout', 'tag_rock', 'My_Chemical_Romance', 'tag_noisegrind', 'The_Flashbulb', 'Talking_Heads', 'tag_acoustic', 'tag_downtempo', 'Deep_Purple', 'tag_grindcore', 'tag_trumpet', 'Yoko_Kanno', 'Enter_Shikari', 'Wolfgang_Amadeus_Mozart', 'tag_piano', 'Run_the_Jewels', 'NOFX', 'tag_elephant_6', 'tag_rapcore', 'Tegan_and_Sara', 'tag_rock_n_roll', 'Pearl_Jam', 'Led_Zeppelin', 'Broken_Social_Scene', 'Sufjan_Stevens', 'tag_country', 'tag_experimental_hip_hop', 'The_Smiths', 'The_Velvet_Underground', 'The_Flaming_Lips', 'tag_video_game_music', 'Belle_and_Sebastian', 'tag_black_metal', 'Interpol', 'Kings_of_Leon', 'tag_italian', 'The_Mars_Volta', 'tag_seen_live', 'Linkin_Park', 'tag_noisecore', 'The_Cranberries', 'Madonna', 'Ulver', 'tag_90s', 'Hans_Zimmer', 'tag_new_age', 'Anal_Cunt', 'Spoon', 'Rihanna', 'tag_j_pop', 'tag_american', 'Audioslave', 'Jimmy_Eat_World', 'tag_power_metal', 'System_of_a_Down', 'tag_indie_rock', 'Bjork', 'Black_Sabbath', 'tag_drum_and_bass', 'Genesis', 'tag_psychedelic_rock', 'tag_nintendocore', 'Bad_Religion', 'tag_trance', 'Electric_Light_Orchestra', 'Pendulum', 'tag_trip_hop', 'Fleetwood_Mac', 'tag_folk_rock', 'Joe_Hisaishi', 'tag_big_beat', 'Pixies', 'Green_Day', 'tag_britpop', 'tag_prog_rnb', 'tag_easy_listening', 'Guns_N_Roses', 'tag_punk', 'Dream_Theater', 'tag_german', 'Foals', 'tag_dance', 'tag_finnish', 'Oasis', 'Coldplay', 'Eluveitie', 'Bonobo', 'tag_progressive_house', 'tag_house', 'Crystal_Castles', 'tag_ofwgkta', 'tag_composer', 'tag_dnb', 'tag_avant_garde', 'Burial', 'tag_industrial', 'tag_psychedelic', 'tag_jay_z', 'Creedence_Clearwater_Revival', 'John_Williams', 'tag_compton', 'tag_icelandic', 'Arctic_Monkeys', 'Neutral_Milk_Hotel', 'tag_doom_metal', 'Calvin_Harris', 'tag_orchestral', 'M83', 'Panic_at_the_Disco', 'tag_irish', 'tag_swing', 'Shakira', 'Venetian_Snares', 'tag_political', 'tag_idm', 'Weezer', 'The_Rolling_Stones', 'Elliott_Smith', 'tag_female_fronted_metal', 'David_Bowie', 'tag_nwobhm', 'tag_8_bit', 'Rise_Against', 'PJ_Harvey', 'tag_british', 'Daft_Punk', 'tag_surf', 'Marilyn_Manson', 'Slipknot', 'Motorhead', 'They_Might_Be_Giants', 'tag_folk', 'tag_australian', 'The_Knife', 'tag_thrash_metal', 'Queen', 'U2', 'Bob_Marley_and_The_Wailers', 'Mogwai', 'tag_latin', 'The_Beach_Boys', 'Dead_Can_Dance', 'Sia', 'Papa_Roach', 'Brand_New', 'MGMT', 'tag_breakcore', 'tag_goa', 'tag_dubstep', 'Childish_Gambino', 'Nobuo_Uematsu', 'Soundgarden', 'tag_spanish', 'Apocalyptica', 'tag_symphonic_black_metal', 'Arcade_Fire', 'tag_ariana_grande', 'Sum_41', 'Yann_Tiersen', 'tag_norwegian', 'tag_trancecore', 'tag_viking_metal', 'Snow_Patrol', 'The_Shins', 'tag_jazz', 'Vampire_Weekend', 'tag_randb', 'tag_southern_rock', 'tag_final_fantasy', 'Joy_Division', 'Coheed_and_Cambria', 'tag_lo_fi', 'Lana_Del_Rey', 'tag_post_rock', 'Aphex_Twin', 'tag_death_metal', 'Ramones', 'DJ_Shadow', 'The_Strokes', 'tag_melodic_death_metal', 'Katatonia', 'data_split', 'tag_nu_metal', 'Nick_Cave_and_The_Bad_Seeds', 'tag_metalcore', 'Kenji_Kawai', 'The_Mountain_Goats', 'tag_anime', 'tag_game_soundtracks', 'Pet_Shop_Boys', 'Tool', 'tag_instrumental', 'Alice_in_Chains', 'tag_progressive_death_metal', 'tag_british_invasion', 'The_Weeknd', 'tag_alternative_rock', 'Dark_Tranquillity', 'Limp_Bizkit', 'Elvis_Presley', 'tag_pop_rock', 'Marillion', 'Ratatat', 'tag_hard_rock', 'tag_depressive_rock', 'Within_Temptation', 'Jimi_Hendrix', 'Scorpions', 'tag_synthpop', 'The_Clash', 'alt_J', 'ABBA', 'Cocteau_Twins', 'Beastie_Boys', 'tag_classic', 'Incubus', 'Ennio_Morricone', 'tag_disco', 'tag_post_hardcore', 'Tori_Amos', 'tag_star_wars', 'tag_gothic', 'Miles_Davis', 'New_Order', 'tag_synth_pop', 'Opeth', 'tag_monkey_island', 'Rammstein', 'blink_182', 'tag_funk', 'Slowdive', 'Enya', 'tag_industrial_rock', 'tag_japanese', 'tag_female_vocalists', 'Amon_Tobin', 'tag_acoustic_rock', 'Dave_Matthews_Band', 'tag_alternative_metal', 'Tycho', 'tag_electronic', 'Avril_Lavigne', 'tag_geek_rock', 'Infected_Mushroom', 'The_Smashing_Pumpkins', 'tag_instrumental_hip_hop', 'Taylor_Swift', 'tag_kanye_west', 'Maroon_5', 'Amorphis', 'tag_dream_pop', 'Foo_Fighters', 'Iron_Maiden', 'Bruce_Springsteen', 'tag_ethereal', 'tag_metal'].\n",
      "View Training:\n",
      "https://console.cloud.google.com/ai/platform/locations/us-central1/training/7259960516678778880?project=55590906972\n",
      "AutoMLTabularTrainingJob projects/55590906972/locations/us-central1/trainingPipelines/7259960516678778880 current state:\n",
      "PipelineState.PIPELINE_STATE_RUNNING\n",
      "AutoMLTabularTrainingJob projects/55590906972/locations/us-central1/trainingPipelines/7259960516678778880 current state:\n",
      "PipelineState.PIPELINE_STATE_RUNNING\n",
      "AutoMLTabularTrainingJob projects/55590906972/locations/us-central1/trainingPipelines/7259960516678778880 current state:\n",
      "PipelineState.PIPELINE_STATE_RUNNING\n",
      "AutoMLTabularTrainingJob projects/55590906972/locations/us-central1/trainingPipelines/7259960516678778880 current state:\n",
      "PipelineState.PIPELINE_STATE_RUNNING\n",
      "AutoMLTabularTrainingJob projects/55590906972/locations/us-central1/trainingPipelines/7259960516678778880 current state:\n",
      "PipelineState.PIPELINE_STATE_RUNNING\n",
      "AutoMLTabularTrainingJob projects/55590906972/locations/us-central1/trainingPipelines/7259960516678778880 current state:\n",
      "PipelineState.PIPELINE_STATE_RUNNING\n",
      "AutoMLTabularTrainingJob projects/55590906972/locations/us-central1/trainingPipelines/7259960516678778880 current state:\n",
      "PipelineState.PIPELINE_STATE_RUNNING\n",
      "AutoMLTabularTrainingJob projects/55590906972/locations/us-central1/trainingPipelines/7259960516678778880 current state:\n",
      "PipelineState.PIPELINE_STATE_RUNNING\n",
      "AutoMLTabularTrainingJob projects/55590906972/locations/us-central1/trainingPipelines/7259960516678778880 current state:\n",
      "PipelineState.PIPELINE_STATE_RUNNING\n",
      "AutoMLTabularTrainingJob projects/55590906972/locations/us-central1/trainingPipelines/7259960516678778880 current state:\n",
      "PipelineState.PIPELINE_STATE_RUNNING\n",
      "AutoMLTabularTrainingJob projects/55590906972/locations/us-central1/trainingPipelines/7259960516678778880 current state:\n",
      "PipelineState.PIPELINE_STATE_RUNNING\n",
      "AutoMLTabularTrainingJob projects/55590906972/locations/us-central1/trainingPipelines/7259960516678778880 current state:\n",
      "PipelineState.PIPELINE_STATE_RUNNING\n",
      "AutoMLTabularTrainingJob projects/55590906972/locations/us-central1/trainingPipelines/7259960516678778880 current state:\n",
      "PipelineState.PIPELINE_STATE_RUNNING\n",
      "AutoMLTabularTrainingJob projects/55590906972/locations/us-central1/trainingPipelines/7259960516678778880 current state:\n",
      "PipelineState.PIPELINE_STATE_RUNNING\n",
      "AutoMLTabularTrainingJob projects/55590906972/locations/us-central1/trainingPipelines/7259960516678778880 current state:\n",
      "PipelineState.PIPELINE_STATE_RUNNING\n",
      "AutoMLTabularTrainingJob projects/55590906972/locations/us-central1/trainingPipelines/7259960516678778880 current state:\n",
      "PipelineState.PIPELINE_STATE_RUNNING\n",
      "AutoMLTabularTrainingJob projects/55590906972/locations/us-central1/trainingPipelines/7259960516678778880 current state:\n",
      "PipelineState.PIPELINE_STATE_RUNNING\n",
      "AutoMLTabularTrainingJob projects/55590906972/locations/us-central1/trainingPipelines/7259960516678778880 current state:\n",
      "PipelineState.PIPELINE_STATE_RUNNING\n",
      "AutoMLTabularTrainingJob projects/55590906972/locations/us-central1/trainingPipelines/7259960516678778880 current state:\n",
      "PipelineState.PIPELINE_STATE_RUNNING\n",
      "AutoMLTabularTrainingJob projects/55590906972/locations/us-central1/trainingPipelines/7259960516678778880 current state:\n",
      "PipelineState.PIPELINE_STATE_RUNNING\n",
      "AutoMLTabularTrainingJob projects/55590906972/locations/us-central1/trainingPipelines/7259960516678778880 current state:\n",
      "PipelineState.PIPELINE_STATE_RUNNING\n",
      "AutoMLTabularTrainingJob projects/55590906972/locations/us-central1/trainingPipelines/7259960516678778880 current state:\n",
      "PipelineState.PIPELINE_STATE_RUNNING\n",
      "AutoMLTabularTrainingJob projects/55590906972/locations/us-central1/trainingPipelines/7259960516678778880 current state:\n",
      "PipelineState.PIPELINE_STATE_RUNNING\n",
      "AutoMLTabularTrainingJob projects/55590906972/locations/us-central1/trainingPipelines/7259960516678778880 current state:\n",
      "PipelineState.PIPELINE_STATE_RUNNING\n",
      "AutoMLTabularTrainingJob projects/55590906972/locations/us-central1/trainingPipelines/7259960516678778880 current state:\n",
      "PipelineState.PIPELINE_STATE_RUNNING\n",
      "AutoMLTabularTrainingJob projects/55590906972/locations/us-central1/trainingPipelines/7259960516678778880 current state:\n",
      "PipelineState.PIPELINE_STATE_RUNNING\n",
      "AutoMLTabularTrainingJob projects/55590906972/locations/us-central1/trainingPipelines/7259960516678778880 current state:\n",
      "PipelineState.PIPELINE_STATE_RUNNING\n",
      "AutoMLTabularTrainingJob projects/55590906972/locations/us-central1/trainingPipelines/7259960516678778880 current state:\n",
      "PipelineState.PIPELINE_STATE_RUNNING\n",
      "AutoMLTabularTrainingJob projects/55590906972/locations/us-central1/trainingPipelines/7259960516678778880 current state:\n",
      "PipelineState.PIPELINE_STATE_RUNNING\n",
      "AutoMLTabularTrainingJob projects/55590906972/locations/us-central1/trainingPipelines/7259960516678778880 current state:\n",
      "PipelineState.PIPELINE_STATE_RUNNING\n",
      "AutoMLTabularTrainingJob projects/55590906972/locations/us-central1/trainingPipelines/7259960516678778880 current state:\n",
      "PipelineState.PIPELINE_STATE_RUNNING\n",
      "AutoMLTabularTrainingJob projects/55590906972/locations/us-central1/trainingPipelines/7259960516678778880 current state:\n",
      "PipelineState.PIPELINE_STATE_RUNNING\n",
      "AutoMLTabularTrainingJob projects/55590906972/locations/us-central1/trainingPipelines/7259960516678778880 current state:\n",
      "PipelineState.PIPELINE_STATE_RUNNING\n",
      "AutoMLTabularTrainingJob projects/55590906972/locations/us-central1/trainingPipelines/7259960516678778880 current state:\n",
      "PipelineState.PIPELINE_STATE_RUNNING\n",
      "AutoMLTabularTrainingJob projects/55590906972/locations/us-central1/trainingPipelines/7259960516678778880 current state:\n",
      "PipelineState.PIPELINE_STATE_RUNNING\n",
      "AutoMLTabularTrainingJob projects/55590906972/locations/us-central1/trainingPipelines/7259960516678778880 current state:\n",
      "PipelineState.PIPELINE_STATE_RUNNING\n",
      "AutoMLTabularTrainingJob projects/55590906972/locations/us-central1/trainingPipelines/7259960516678778880 current state:\n",
      "PipelineState.PIPELINE_STATE_RUNNING\n",
      "AutoMLTabularTrainingJob projects/55590906972/locations/us-central1/trainingPipelines/7259960516678778880 current state:\n",
      "PipelineState.PIPELINE_STATE_RUNNING\n",
      "AutoMLTabularTrainingJob projects/55590906972/locations/us-central1/trainingPipelines/7259960516678778880 current state:\n",
      "PipelineState.PIPELINE_STATE_RUNNING\n",
      "AutoMLTabularTrainingJob projects/55590906972/locations/us-central1/trainingPipelines/7259960516678778880 current state:\n",
      "PipelineState.PIPELINE_STATE_RUNNING\n",
      "AutoMLTabularTrainingJob projects/55590906972/locations/us-central1/trainingPipelines/7259960516678778880 current state:\n",
      "PipelineState.PIPELINE_STATE_RUNNING\n",
      "AutoMLTabularTrainingJob projects/55590906972/locations/us-central1/trainingPipelines/7259960516678778880 current state:\n",
      "PipelineState.PIPELINE_STATE_RUNNING\n",
      "AutoMLTabularTrainingJob projects/55590906972/locations/us-central1/trainingPipelines/7259960516678778880 current state:\n",
      "PipelineState.PIPELINE_STATE_RUNNING\n",
      "AutoMLTabularTrainingJob projects/55590906972/locations/us-central1/trainingPipelines/7259960516678778880 current state:\n",
      "PipelineState.PIPELINE_STATE_RUNNING\n",
      "AutoMLTabularTrainingJob projects/55590906972/locations/us-central1/trainingPipelines/7259960516678778880 current state:\n",
      "PipelineState.PIPELINE_STATE_RUNNING\n",
      "AutoMLTabularTrainingJob projects/55590906972/locations/us-central1/trainingPipelines/7259960516678778880 current state:\n",
      "PipelineState.PIPELINE_STATE_RUNNING\n",
      "AutoMLTabularTrainingJob projects/55590906972/locations/us-central1/trainingPipelines/7259960516678778880 current state:\n",
      "PipelineState.PIPELINE_STATE_RUNNING\n",
      "AutoMLTabularTrainingJob projects/55590906972/locations/us-central1/trainingPipelines/7259960516678778880 current state:\n",
      "PipelineState.PIPELINE_STATE_RUNNING\n",
      "AutoMLTabularTrainingJob projects/55590906972/locations/us-central1/trainingPipelines/7259960516678778880 current state:\n",
      "PipelineState.PIPELINE_STATE_RUNNING\n",
      "AutoMLTabularTrainingJob projects/55590906972/locations/us-central1/trainingPipelines/7259960516678778880 current state:\n",
      "PipelineState.PIPELINE_STATE_RUNNING\n",
      "AutoMLTabularTrainingJob projects/55590906972/locations/us-central1/trainingPipelines/7259960516678778880 current state:\n",
      "PipelineState.PIPELINE_STATE_RUNNING\n",
      "AutoMLTabularTrainingJob projects/55590906972/locations/us-central1/trainingPipelines/7259960516678778880 current state:\n",
      "PipelineState.PIPELINE_STATE_RUNNING\n",
      "AutoMLTabularTrainingJob projects/55590906972/locations/us-central1/trainingPipelines/7259960516678778880 current state:\n",
      "PipelineState.PIPELINE_STATE_RUNNING\n",
      "AutoMLTabularTrainingJob projects/55590906972/locations/us-central1/trainingPipelines/7259960516678778880 current state:\n",
      "PipelineState.PIPELINE_STATE_RUNNING\n",
      "AutoMLTabularTrainingJob projects/55590906972/locations/us-central1/trainingPipelines/7259960516678778880 current state:\n",
      "PipelineState.PIPELINE_STATE_RUNNING\n",
      "AutoMLTabularTrainingJob projects/55590906972/locations/us-central1/trainingPipelines/7259960516678778880 current state:\n",
      "PipelineState.PIPELINE_STATE_RUNNING\n",
      "AutoMLTabularTrainingJob projects/55590906972/locations/us-central1/trainingPipelines/7259960516678778880 current state:\n",
      "PipelineState.PIPELINE_STATE_RUNNING\n",
      "AutoMLTabularTrainingJob projects/55590906972/locations/us-central1/trainingPipelines/7259960516678778880 current state:\n",
      "PipelineState.PIPELINE_STATE_RUNNING\n",
      "AutoMLTabularTrainingJob run completed. Resource name: projects/55590906972/locations/us-central1/trainingPipelines/7259960516678778880\n",
      "Model available at projects/55590906972/locations/us-central1/models/8993391587719380992\n"
     ]
    }
   ],
   "source": [
    "dataset = aiplatform.TabularDataset('projects/55590906972/locations/us-central1/datasets/2545107734534029312')\n",
    "\n",
    "job = aiplatform.AutoMLTabularTrainingJob(\n",
    "    display_name=f\"{MODEL_NAME}-automl\",\n",
    "    optimization_prediction_type=\"classification\"\n",
    ")\n",
    "\n",
    "model = job.run(\n",
    "    dataset=dataset,\n",
    "    target_column=TARGET_COLUMN,\n",
    "    predefined_split_column_name=\"data_split\",\n",
    "    budget_milli_node_hours=1000,\n",
    "    model_display_name=f\"{MODEL_NAME}-automl\",\n",
    "    disable_early_stopping=False,\n",
    ")"
   ]
  },
  {
   "cell_type": "code",
   "execution_count": null,
   "id": "81fef6c5-0de8-4560-aaf3-4fa9cfc84946",
   "metadata": {},
   "outputs": [],
   "source": []
  }
 ],
 "metadata": {
  "environment": {
   "kernel": "python3",
   "name": "common-cpu.m103",
   "type": "gcloud",
   "uri": "gcr.io/deeplearning-platform-release/base-cpu:m103"
  },
  "kernelspec": {
   "display_name": "Python 3",
   "language": "python",
   "name": "python3"
  },
  "language_info": {
   "codemirror_mode": {
    "name": "ipython",
    "version": 3
   },
   "file_extension": ".py",
   "mimetype": "text/x-python",
   "name": "python",
   "nbconvert_exporter": "python",
   "pygments_lexer": "ipython3",
   "version": "3.7.12"
  }
 },
 "nbformat": 4,
 "nbformat_minor": 5
}

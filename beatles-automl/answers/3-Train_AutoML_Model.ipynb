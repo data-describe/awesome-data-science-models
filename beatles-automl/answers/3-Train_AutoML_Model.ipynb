{
 "cells": [
  {
   "cell_type": "markdown",
   "id": "e0ec81a0-dffe-49e7-87db-64fa359aea68",
   "metadata": {},
   "source": [
    "# Train AutoML Model\n",
    "\n",
    "To train and host our classification model, we will be using AutoML Tabular Datasets in Google Cloud Vertex AI. We will be training a classification algorithm in order to predict whether a particular user likes the Beatles (essentially a binary classification problem).\n"
   ]
  },
  {
   "cell_type": "markdown",
   "id": "6a4946fb-8924-47de-ba9a-43e7256800ef",
   "metadata": {},
   "source": [
    "First, we must create our Vertex AI Dataset."
   ]
  },
  {
   "cell_type": "code",
   "execution_count": null,
   "id": "6f930f43-6503-414f-9bf9-8d9d8cfc8ee3",
   "metadata": {},
   "outputs": [],
   "source": [
    "PROJECT_NAME = 'mwpmltr'\n",
    "LOCATION = \"us-central1\"\n",
    "MODEL_NAME = \"beatles_automl_file_out_2485_tags\"\n",
    "TARGET_COLUMN = \"Like_The_Beatles\""
   ]
  },
  {
   "cell_type": "code",
   "execution_count": null,
   "id": "03397b70-de4c-4a68-b2e6-16e3ed8e01ca",
   "metadata": {},
   "outputs": [],
   "source": [
    "from google.cloud import aiplatform"
   ]
  },
  {
   "cell_type": "code",
   "execution_count": null,
   "id": "f4317be3-6dce-4012-90a4-3dac4099ceca",
   "metadata": {},
   "outputs": [],
   "source": [
    "def create_and_import_dataset_tabular_gcs_sample(\n",
    "    display_name: str,\n",
    "    project: str,\n",
    "    location: str,\n",
    "    gcs_source: list,\n",
    ") -> None:\n",
    "    \"\"\"Creates a AutoML Tabular Dataset in Google Cloud Vertex AI\"\"\"\n",
    "    aiplatform.init(project=project, location=location)\n",
    "\n",
    "    dataset = aiplatform.TabularDataset.create(\n",
    "        display_name=display_name,\n",
    "        gcs_source=gcs_source,\n",
    "    )\n",
    "\n",
    "    dataset.wait()\n",
    "\n",
    "    print(f'\\tDataset: \"{dataset.display_name}\"')\n",
    "    print(f'\\tname: \"{dataset.resource_name}\"')"
   ]
  },
  {
   "cell_type": "code",
   "execution_count": null,
   "id": "5bf29fdd-092d-46c0-ae6e-e658c9f69857",
   "metadata": {},
   "outputs": [],
   "source": [
    "dataset_name = f'{MODEL_NAME}_v1'\n",
    "create_and_import_dataset_tabular_gcs_sample(dataset_name, PROJECT_NAME, LOCATION, 'gs://csalling-docai-datasets-regional/beatles/file_out_2485_tags.csv')"
   ]
  },
  {
   "cell_type": "code",
   "execution_count": null,
   "id": "e9cd1280-5446-41e5-96a5-02f2e495b620",
   "metadata": {
    "tags": []
   },
   "outputs": [],
   "source": [
    "dataset = aiplatform.TabularDataset('projects/55590906972/locations/us-central1/datasets/2545107734534029312')\n",
    "\n",
    "job = aiplatform.AutoMLTabularTrainingJob(\n",
    "    display_name=f\"{MODEL_NAME}-automl\",\n",
    "    optimization_prediction_type=\"classification\"\n",
    ")\n",
    "\n",
    "model = job.run(\n",
    "    dataset=dataset,\n",
    "    target_column=TARGET_COLUMN,\n",
    "    predefined_split_column_name=\"data_split\",\n",
    "    budget_milli_node_hours=1000,\n",
    "    model_display_name=f\"{MODEL_NAME}-automl\",\n",
    "    disable_early_stopping=False,\n",
    ")"
   ]
  },
  {
   "cell_type": "code",
   "execution_count": null,
   "id": "81fef6c5-0de8-4560-aaf3-4fa9cfc84946",
   "metadata": {},
   "outputs": [],
   "source": []
  }
 ],
 "metadata": {
  "environment": {
   "kernel": "python3",
   "name": "common-cpu.m98",
   "type": "gcloud",
   "uri": "gcr.io/deeplearning-platform-release/base-cpu:m98"
  },
  "kernelspec": {
   "display_name": "Python 3",
   "language": "python",
   "name": "python3"
  },
  "language_info": {
   "codemirror_mode": {
    "name": "ipython",
    "version": 3
   },
   "file_extension": ".py",
   "mimetype": "text/x-python",
   "name": "python",
   "nbconvert_exporter": "python",
   "pygments_lexer": "ipython3",
   "version": "3.7.12"
  }
 },
 "nbformat": 4,
 "nbformat_minor": 5
}

{
 "cells": [
  {
   "cell_type": "markdown",
   "id": "e0ec81a0-dffe-49e7-87db-64fa359aea68",
   "metadata": {},
   "source": [
    "# Train AutoML Model\n",
    "\n",
    "To train and host our classification model, we will be using AutoML Tabular Datasets in Google Cloud Vertex AI. We will be training a classification algorithm in order to predict whether a particular user likes the Beatles (essentially a binary classification problem).\n"
   ]
  },
  {
   "cell_type": "markdown",
   "id": "6a4946fb-8924-47de-ba9a-43e7256800ef",
   "metadata": {},
   "source": [
    "First, we must create our Vertex AI Dataset."
   ]
  },
  {
   "cell_type": "code",
   "execution_count": 6,
   "id": "6f930f43-6503-414f-9bf9-8d9d8cfc8ee3",
   "metadata": {},
   "outputs": [],
   "source": [
    "PROJECT_NAME = 'ds-training-380514'\n",
    "LOCATION = \"us-central1\"\n",
    "MODEL_NAME = \"beatles_automl_file_out_2485_tags\"\n",
    "TARGET_COLUMN = \"Like_The_Beatles\""
   ]
  },
  {
   "cell_type": "code",
   "execution_count": 7,
   "id": "03397b70-de4c-4a68-b2e6-16e3ed8e01ca",
   "metadata": {},
   "outputs": [],
   "source": [
    "from google.cloud import aiplatform"
   ]
  },
  {
   "cell_type": "code",
   "execution_count": 8,
   "id": "f4317be3-6dce-4012-90a4-3dac4099ceca",
   "metadata": {},
   "outputs": [],
   "source": [
    "def create_and_import_dataset_tabular_gcs_sample(\n",
    "    display_name: str,\n",
    "    project: str,\n",
    "    location: str,\n",
    "    gcs_source: list,\n",
    ") -> None:\n",
    "    \"\"\"Creates a AutoML Tabular Dataset in Google Cloud Vertex AI\"\"\"\n",
    "    aiplatform.init(project=project, location=location)\n",
    "\n",
    "    dataset = aiplatform.TabularDataset.create(\n",
    "        display_name=display_name,\n",
    "        gcs_source=gcs_source,\n",
    "    )\n",
    "\n",
    "    dataset.wait()\n",
    "\n",
    "    print(f'\\tDataset: \"{dataset.display_name}\"')\n",
    "    print(f'\\tname: \"{dataset.resource_name}\"')"
   ]
  },
  {
   "cell_type": "code",
   "execution_count": 9,
   "id": "5bf29fdd-092d-46c0-ae6e-e658c9f69857",
   "metadata": {},
   "outputs": [
    {
     "name": "stdout",
     "output_type": "stream",
     "text": [
      "Creating TabularDataset\n",
      "Create TabularDataset backing LRO: projects/354621994428/locations/us-central1/datasets/6306981215853346816/operations/8613369376675987456\n",
      "TabularDataset created. Resource name: projects/354621994428/locations/us-central1/datasets/6306981215853346816\n",
      "To use this TabularDataset in another session:\n",
      "ds = aiplatform.TabularDataset('projects/354621994428/locations/us-central1/datasets/6306981215853346816')\n",
      "\tDataset: \"beatles_automl_file_out_2485_tags_v1\"\n",
      "\tname: \"projects/354621994428/locations/us-central1/datasets/6306981215853346816\"\n"
     ]
    }
   ],
   "source": [
    "dataset_name = f'{MODEL_NAME}_v1'\n",
    "create_and_import_dataset_tabular_gcs_sample(dataset_name, PROJECT_NAME, LOCATION, 'gs://aaa-aca-ml-workshop/beatles/file_out_2485_tags.csv')"
   ]
  },
  {
   "cell_type": "code",
   "execution_count": 10,
   "id": "e9cd1280-5446-41e5-96a5-02f2e495b620",
   "metadata": {
    "tags": []
   },
   "outputs": [
    {
     "name": "stdout",
     "output_type": "stream",
     "text": [
      "No column transformations provided, so now retrieving columns from dataset in order to set default column transformations.\n",
      "The column transformation of type 'auto' was set for the following columns: ['Children_of_Bodom', 'tag_celtic', 'tag_latin', 'tag_power_metal', 'Beastie_Boys', 'tag_surf', 'Anathema', 'Animal_Collective', 'Imagine_Dragons', 'Opeth', 'user_name', 'The_Shins', 'tag_math_rock', 'tag_funk_rock', 'tag_japanese', 'tag_pop_rock', '65daysofstatic', 'Bjork', 'Audioslave', 'Grimes', 'Ludwig_van_Beethoven', 'tag_classical', 'Elvis_Presley', 'tag_lord_of_the_rings', 'tag_elephant_6', 'tag_legend', 'tag_experimental_hip_hop', 'Nujabes', 'Infected_Mushroom', 'tag_alternative_rock', 'tag_dnb', 'tag_noisegrind', 'tag_metalcore', 'tag_90s', 'tag_comedy', 'Joy_Division', 'tag_viking_metal', 'Kanye_West', 'Genesis', 'tag_thrash_metal', 'tag_post_hardcore', 'Belle_and_Sebastian', 'tag_gothic_metal', 'John_Williams', 'A_Tribe_Called_Quest', 'Sufjan_Stevens', 'tag_final_fantasy', 'tag_west_coast', 'Duran_Duran', 'tag_drum_n_bass', 'Ayreon', 'tag_depressive_rock', 'tag_british_invasion', 'My_Bloody_Valentine', 'Dave_Matthews_Band', 'tag_electronica', 'Neil_Young', 'Howard_Shore', 'Amon_Tobin', 'tag_monkey_island', 'Florence__and__the_Machine', 'Nightwish', 'Miles_Davis', 'tag_nintendo', 'tag_new_age', 'tag_punk', 'Kamelot', 'tag_electropop', 'The_Kinks', 'Pearl_Jam', 'Slayer', 'Within_Temptation', 'tag_nwobhm', 'tag_melodic_metal', 'tag_east_coast_rap', 'Boards_of_Canada', 'tag_female_vocalist', 'tag_idm', 'tag_rnb', 'A_Perfect_Circle', 'DJ_Shadow', 'Explosions_in_the_Sky', 'tag_disco', 'Avenged_Sevenfold', 'Beck', 'Nobuo_Uematsu', 'Yes', 'tag_synthpop', 'Talking_Heads', 'Loreena_McKennitt', 'tag_video_game_music', 'tag_funk', 'tag_shoegaze', 'tag_darkwave', 'Kenji_Kawai', 'tag_soundtrack', 'New_Order', 'Johann_Sebastian_Bach', 'Vampire_Weekend', 'tag_ska', 'Mumford_and_Sons', 'tag_southern_rock', 'Dead_Can_Dance', 'Fall_Out_Boy', 'tag_trancecore', 'Justice', 'tag_fusion', 'Placebo', 'tag_nintendocore', 'tag_swing', 'tag_speed_metal', 'Simon_and_Garfunkel', 'data_split', 'Aerosmith', 'tag_proto_punk', 'Nick_Cave_and_The_Bad_Seeds', 'Pink_Floyd', 'Snow_Patrol', 'Anal_Cunt', 'Three_Days_Grace', 'Moby', 'They_Might_Be_Giants', 'tag_j_pop', 'Weezer', 'Fleetwood_Mac', 'tag_dubstep', 'Britney_Spears', 'Royksopp', 'tag_canadian', 'Hans_Zimmer', 'tag_hardcore', 'Judas_Priest', 'Fleet_Foxes', 'The_Smashing_Pumpkins', 'Jay_Z', 'tag_singer_songwriter', 'tag_symphonic_metal', 'tag_italian', 'blink_182', 'Tegan_and_Sara', 'tag_piano', 'Regina_Spektor', 'The_White_Stripes', 'tag_trip_hop', 'tag_drum_and_bass', 'Garbage', 'tag_indie_rock', 'Mogwai', 'Portugal_The_Man', 'Yeah_Yeah_Yeahs', 'Ellie_Goulding', 'Papa_Roach', 'tag_progressive_rock', 'Sia', 'Johnny_Cash', 'Cradle_of_Filth', 'tag_melodic_hardcore', 'The_Cure', 'tag_female_fronted_metal', 'tag_synth_pop', 'LCD_Soundsystem', 'Tori_Amos', 'tag_celtic_folk_metal', 'Pixies', 'Jimmy_Eat_World', 'Green_Day', 'Death_Cab_for_Cutie', 'The_Police', 'ACDC', 'tag_compton', 'King_Crimson', 'Metric', 'tag_noisecore', 'Evanescence', 'tag_death_metal', 'Incubus', 'Nirvana', 'tag_acoustic', 'Amorphis', 'tag_political', 'Korn', 'tag_instrumental_hip_hop', 'tag_rock_n_roll', 'Kendrick_Lamar', 'The_Clash', 'Eels', 'Led_Zeppelin', 'The_National', 'tag_blues', 'Queen', 'Slipknot', 'Martin_ODonnell_and_Michael_Salvatori', 'tag_pop_punk', 'tag_romantic', 'The_Velvet_Underground', 'tag_sludge', 'The_Who', 'tag_oldies', 'Motorhead', 'Katy_Perry', 'Lorde', 'Mastodon', 'The_Doors', 'System_of_a_Down', 'Bad_Religion', 'Bon_Iver', 'Elliott_Smith', 'tag_lounge', 'Alice_in_Chains', 'Bon_Jovi', 'tag_soul', 'The_Beach_Boys', 'tag_game_music', 'tag_experimental_rap', 'tag_easy_listening', 'The_xx', 'tag_stoner_rock', 'tag_ninja_tune', 'Eminem', 'Soundgarden', 'tag_80s', 'Brand_New', 'Madonna', 'tag_world', 'tag_experimental', 'Adele', 'tag_german', 'tag_progressive_death_metal', 'Nine_Inch_Nails', 'tag_avant_garde', 'Coheed_and_Cambria', 'Ennio_Morricone', 'U2', 'tag_minimal', 'Kings_of_Leon', 'Vangelis', 'Linkin_Park', 'Arctic_Monkeys', 'Neutral_Milk_Hotel', 'Enya', 'tag_ambient', 'tag_new_rave', 'Panic_at_the_Disco', 'Red_Hot_Chili_Peppers', 'Daft_Punk', 'Electric_Light_Orchestra', 'Jeremy_Soule', 'ABBA', 'tag_techno', 'tag_alternative_metal', 'tag_spanish', 'tag_industrial_rock', 'The_Knife', 'Bloc_Party', 'tag_ariana_grande', 'tag_metal', 'NOFX', 'tag_freak_folk', 'tag_jay_z', 'tag_70s', 'Yoko_Kanno', 'Frank_Ocean', 'Franz_Ferdinand', 'Amon_Amarth', 'Beach_House', 'Pendulum', 'tag_lo_fi', 'tag_baroque', 'Ulver', 'Interpol', 'M83', 'tag_vocal_jazz', 'tag_bebop', 'tag_female_vocalists', 'Alanis_Morissette', 'Pantera', 'tag_gothic_rock', 'Marina_and_the_Diamonds', 'The_Mountain_Goats', 'Shakira', 'tag_industrial_metal', 'Oasis', 'tag_blues_rock', 'tag_electro', 'tag_black_metal', 'Rammstein', 'tag_big_beat', 'Koji_Kondo', 'tag_chillout', 'tag_post_punk', 'tag_jam', 'tag_progressive_metal', 'Limp_Bizkit', 'tag_psychedelic', 'Air', 'alt_J', 'tag_psychedelic_rock', 'tag_ethereal', 'tag_seen_live', 'Coldplay', 'Paradise_Lost', 'tag_classic_rock', 'tag_classic', 'Rush', 'Dark_Tranquillity', 'tag_progressive_house', 'Dire_Straits', 'ZZ_Top', 'tag_australian', 'Childish_Gambino', 'Ratatat', 'tag_downtempo', 'tag_anime', 'tag_psytrance', 'tag_folk', 'CHVRCHES', 'tag_icelandic', 'tag_celtic_metal', 'Flying_Lotus', 'tag_electronic', 'David_Bowie', 'tag_folk_metal', 'Thievery_Corporation', 'Run_the_Jewels', 'Michael_Z_Land', 'Wilco', 'Whitesnake', 'The_Chemical_Brothers', 'The_Weeknd', 'Beyonc', 'tag_alt_country', 'tag_trumpet', 'tag_turntablism', 'Avril_Lavigne', 'Rage_Against_the_Machine', 'tag_indie', 'tag_game_soundtracks', 'Modest_Mouse', 'tag_british', 'Jimi_Hendrix', 'Iron_Maiden', 'Deep_Purple', 'tag_nu_metal', 'My_Chemical_Romance', 'tag_hard_rock', 'tag_ska_punk', 'tag_shoegazer', 'Frank_Sinatra', 'The_Mars_Volta', 'tag_groove_metal', 'Drake', 'God_Is_An_Astronaut', 'tag_emo', 'Metallica', 'tag_instrumental', 'tag_indie_pop', 'The_Offspring', 'tag_finnish', 'Pavement', 'Arcade_Fire', 'Death_Grips', 'Foo_Fighters', 'Marillion', 'Muse', 'tag_britpop', 'Calvin_Harris', 'Massive_Attack', 'Sum_41', 'tag_folk_rock', 'tag_grunge', 'Sonic_Youth', 'Queens_of_the_Stone_Age', 'Bush', 'tag_symphonic_black_metal', 'The_Flashbulb', 'tag_country', 'Rise_Against', 'Deftones', 'tag_prog_rnb', 'The_Rolling_Stones', 'tag_atmospheric', 'Yann_Tiersen', 'Dream_Theater', 'Michael_Jackson', 'Soilwork', 'tag_star_wars', 'tag_halo', 'Four_Tet', 'Disturbed', 'Cocteau_Twins', 'tag_trance', 'tag_hip_hop', 'Brian_Eno', 'Depeche_Mode', 'tag_gothic', 'tag_sludge_metal', 'tag_swedish', 'The_Smiths', 'tag_jazz', 'Enter_Shikari', 'tag_glam_rock', 'tag_rock', 'Yuki_Kajiura', 'Tom_Waits', 'Carly_Rae_Jepsen', 'The_Strokes', 'tag_britney_spears', 'tag_post_rock', 'Crystal_Castles', 'Frank_Zappa', 'Bob_Dylan', 'REM', 'Cake', 'Megadeth', 'tag_randb', 'tag_doom_metal', 'tag_new_wave', 'tag_acoustic_rock', 'Black_Sabbath', 'tag_melodic_death_metal', 'tag_alternative', 'tag_rock_and_roll', 'Joe_Hisaishi', 'tag_new_zealand', 'tag_house', 'The_Decemberists', 'tag_guitar', 'tag_dance', 'tag_progressive', 'tag_dream_pop', 'Apocalyptica', 'tag_60s', 'Marilyn_Manson', 'tag_jazz_hop', 'tag_pagan_metal', 'Autechre', 'tag_8_bit', 'Burial', 'tag_punk_rock', 'Paramore', 'Radiohead', 'tag_breakcore', 'Elton_John', 'Guns_N_Roses', 'tag_geek_rock', 'Wolfgang_Amadeus_Mozart', 'tag_rapcore', 'tag_ost', 'deadmau5', 'tag_composers', 'tag_hair_metal', 'The_Killers', '30_Seconds_to_Mars', 'Taylor_Swift', 'tag_rap', 'Lady_Gaga', 'tag_goa', 'Spoon', 'Lana_Del_Rey', 'tag_orchestral', 'Phoenix', 'tag_pop', 'tag_eminem', 'Scorpions', 'Sigur_Ros', 'Maroon_5', 'Tycho', 'Foals', 'tag_composer', 'Pet_Shop_Boys', 'tag_heavy_metal', 'Broken_Social_Scene', 'Bob_Marley_and_The_Wailers', 'Rihanna', 'Portishead', 'Kate_Bush', 'Nickelback', 'Tame_Impala', 'PJ_Harvey', 'Faith_No_More', 'tag_underground_hip_hop', 'The_Cranberries', 'Kasabian', 'In_Flames', 'tag_french', 'Breaking_Benjamin', 'Kraftwerk', 'The_Black_Keys', 'tag_norwegian', 'tag_ofwgkta', 'Aphex_Twin', 'The_Prodigy', 'Eluveitie', 'tag_kanye_west', 'Mike_Oldfield', 'tag_industrial', 'tag_irish', 'Gojira', 'Tool', 'Creedence_Clearwater_Revival', 'Porcupine_Tree', 'Gorillaz', 'Bonobo', 'Ramones', 'tag_american', 'Slowdive', 'Bruce_Springsteen', 'Katatonia', 'Blind_Guardian', 'tag_grindcore', 'Blur', 'The_Flaming_Lips', 'Venetian_Snares', 'MGMT'].\n",
      "View Training:\n",
      "https://console.cloud.google.com/ai/platform/locations/us-central1/training/7260558651004289024?project=354621994428\n",
      "AutoMLTabularTrainingJob projects/354621994428/locations/us-central1/trainingPipelines/7260558651004289024 current state:\n",
      "PipelineState.PIPELINE_STATE_PENDING\n",
      "AutoMLTabularTrainingJob projects/354621994428/locations/us-central1/trainingPipelines/7260558651004289024 current state:\n",
      "PipelineState.PIPELINE_STATE_PENDING\n",
      "AutoMLTabularTrainingJob projects/354621994428/locations/us-central1/trainingPipelines/7260558651004289024 current state:\n",
      "PipelineState.PIPELINE_STATE_PENDING\n",
      "AutoMLTabularTrainingJob projects/354621994428/locations/us-central1/trainingPipelines/7260558651004289024 current state:\n",
      "PipelineState.PIPELINE_STATE_PENDING\n",
      "AutoMLTabularTrainingJob projects/354621994428/locations/us-central1/trainingPipelines/7260558651004289024 current state:\n",
      "PipelineState.PIPELINE_STATE_PENDING\n",
      "AutoMLTabularTrainingJob projects/354621994428/locations/us-central1/trainingPipelines/7260558651004289024 current state:\n",
      "PipelineState.PIPELINE_STATE_RUNNING\n",
      "AutoMLTabularTrainingJob projects/354621994428/locations/us-central1/trainingPipelines/7260558651004289024 current state:\n",
      "PipelineState.PIPELINE_STATE_RUNNING\n",
      "AutoMLTabularTrainingJob projects/354621994428/locations/us-central1/trainingPipelines/7260558651004289024 current state:\n",
      "PipelineState.PIPELINE_STATE_RUNNING\n",
      "AutoMLTabularTrainingJob projects/354621994428/locations/us-central1/trainingPipelines/7260558651004289024 current state:\n",
      "PipelineState.PIPELINE_STATE_RUNNING\n",
      "AutoMLTabularTrainingJob projects/354621994428/locations/us-central1/trainingPipelines/7260558651004289024 current state:\n",
      "PipelineState.PIPELINE_STATE_RUNNING\n",
      "AutoMLTabularTrainingJob projects/354621994428/locations/us-central1/trainingPipelines/7260558651004289024 current state:\n",
      "PipelineState.PIPELINE_STATE_RUNNING\n",
      "AutoMLTabularTrainingJob projects/354621994428/locations/us-central1/trainingPipelines/7260558651004289024 current state:\n",
      "PipelineState.PIPELINE_STATE_RUNNING\n",
      "AutoMLTabularTrainingJob projects/354621994428/locations/us-central1/trainingPipelines/7260558651004289024 current state:\n",
      "PipelineState.PIPELINE_STATE_RUNNING\n",
      "AutoMLTabularTrainingJob projects/354621994428/locations/us-central1/trainingPipelines/7260558651004289024 current state:\n",
      "PipelineState.PIPELINE_STATE_RUNNING\n",
      "AutoMLTabularTrainingJob projects/354621994428/locations/us-central1/trainingPipelines/7260558651004289024 current state:\n",
      "PipelineState.PIPELINE_STATE_RUNNING\n",
      "AutoMLTabularTrainingJob projects/354621994428/locations/us-central1/trainingPipelines/7260558651004289024 current state:\n",
      "PipelineState.PIPELINE_STATE_RUNNING\n",
      "AutoMLTabularTrainingJob projects/354621994428/locations/us-central1/trainingPipelines/7260558651004289024 current state:\n",
      "PipelineState.PIPELINE_STATE_RUNNING\n",
      "AutoMLTabularTrainingJob projects/354621994428/locations/us-central1/trainingPipelines/7260558651004289024 current state:\n",
      "PipelineState.PIPELINE_STATE_RUNNING\n",
      "AutoMLTabularTrainingJob projects/354621994428/locations/us-central1/trainingPipelines/7260558651004289024 current state:\n",
      "PipelineState.PIPELINE_STATE_RUNNING\n",
      "AutoMLTabularTrainingJob projects/354621994428/locations/us-central1/trainingPipelines/7260558651004289024 current state:\n",
      "PipelineState.PIPELINE_STATE_RUNNING\n",
      "AutoMLTabularTrainingJob projects/354621994428/locations/us-central1/trainingPipelines/7260558651004289024 current state:\n",
      "PipelineState.PIPELINE_STATE_RUNNING\n",
      "AutoMLTabularTrainingJob projects/354621994428/locations/us-central1/trainingPipelines/7260558651004289024 current state:\n",
      "PipelineState.PIPELINE_STATE_RUNNING\n",
      "AutoMLTabularTrainingJob projects/354621994428/locations/us-central1/trainingPipelines/7260558651004289024 current state:\n",
      "PipelineState.PIPELINE_STATE_RUNNING\n",
      "AutoMLTabularTrainingJob projects/354621994428/locations/us-central1/trainingPipelines/7260558651004289024 current state:\n",
      "PipelineState.PIPELINE_STATE_RUNNING\n",
      "AutoMLTabularTrainingJob projects/354621994428/locations/us-central1/trainingPipelines/7260558651004289024 current state:\n",
      "PipelineState.PIPELINE_STATE_RUNNING\n",
      "AutoMLTabularTrainingJob projects/354621994428/locations/us-central1/trainingPipelines/7260558651004289024 current state:\n",
      "PipelineState.PIPELINE_STATE_RUNNING\n",
      "AutoMLTabularTrainingJob projects/354621994428/locations/us-central1/trainingPipelines/7260558651004289024 current state:\n",
      "PipelineState.PIPELINE_STATE_RUNNING\n",
      "AutoMLTabularTrainingJob projects/354621994428/locations/us-central1/trainingPipelines/7260558651004289024 current state:\n",
      "PipelineState.PIPELINE_STATE_RUNNING\n",
      "AutoMLTabularTrainingJob projects/354621994428/locations/us-central1/trainingPipelines/7260558651004289024 current state:\n",
      "PipelineState.PIPELINE_STATE_RUNNING\n",
      "AutoMLTabularTrainingJob projects/354621994428/locations/us-central1/trainingPipelines/7260558651004289024 current state:\n",
      "PipelineState.PIPELINE_STATE_RUNNING\n",
      "AutoMLTabularTrainingJob projects/354621994428/locations/us-central1/trainingPipelines/7260558651004289024 current state:\n",
      "PipelineState.PIPELINE_STATE_RUNNING\n",
      "AutoMLTabularTrainingJob projects/354621994428/locations/us-central1/trainingPipelines/7260558651004289024 current state:\n",
      "PipelineState.PIPELINE_STATE_RUNNING\n",
      "AutoMLTabularTrainingJob projects/354621994428/locations/us-central1/trainingPipelines/7260558651004289024 current state:\n",
      "PipelineState.PIPELINE_STATE_RUNNING\n",
      "AutoMLTabularTrainingJob projects/354621994428/locations/us-central1/trainingPipelines/7260558651004289024 current state:\n",
      "PipelineState.PIPELINE_STATE_RUNNING\n",
      "AutoMLTabularTrainingJob projects/354621994428/locations/us-central1/trainingPipelines/7260558651004289024 current state:\n",
      "PipelineState.PIPELINE_STATE_RUNNING\n",
      "AutoMLTabularTrainingJob projects/354621994428/locations/us-central1/trainingPipelines/7260558651004289024 current state:\n",
      "PipelineState.PIPELINE_STATE_RUNNING\n",
      "AutoMLTabularTrainingJob projects/354621994428/locations/us-central1/trainingPipelines/7260558651004289024 current state:\n",
      "PipelineState.PIPELINE_STATE_RUNNING\n",
      "AutoMLTabularTrainingJob projects/354621994428/locations/us-central1/trainingPipelines/7260558651004289024 current state:\n",
      "PipelineState.PIPELINE_STATE_RUNNING\n",
      "AutoMLTabularTrainingJob projects/354621994428/locations/us-central1/trainingPipelines/7260558651004289024 current state:\n",
      "PipelineState.PIPELINE_STATE_RUNNING\n",
      "AutoMLTabularTrainingJob projects/354621994428/locations/us-central1/trainingPipelines/7260558651004289024 current state:\n",
      "PipelineState.PIPELINE_STATE_RUNNING\n",
      "AutoMLTabularTrainingJob projects/354621994428/locations/us-central1/trainingPipelines/7260558651004289024 current state:\n",
      "PipelineState.PIPELINE_STATE_RUNNING\n",
      "AutoMLTabularTrainingJob projects/354621994428/locations/us-central1/trainingPipelines/7260558651004289024 current state:\n",
      "PipelineState.PIPELINE_STATE_RUNNING\n",
      "AutoMLTabularTrainingJob projects/354621994428/locations/us-central1/trainingPipelines/7260558651004289024 current state:\n",
      "PipelineState.PIPELINE_STATE_RUNNING\n",
      "AutoMLTabularTrainingJob projects/354621994428/locations/us-central1/trainingPipelines/7260558651004289024 current state:\n",
      "PipelineState.PIPELINE_STATE_RUNNING\n",
      "AutoMLTabularTrainingJob projects/354621994428/locations/us-central1/trainingPipelines/7260558651004289024 current state:\n",
      "PipelineState.PIPELINE_STATE_RUNNING\n",
      "AutoMLTabularTrainingJob projects/354621994428/locations/us-central1/trainingPipelines/7260558651004289024 current state:\n",
      "PipelineState.PIPELINE_STATE_RUNNING\n",
      "AutoMLTabularTrainingJob projects/354621994428/locations/us-central1/trainingPipelines/7260558651004289024 current state:\n",
      "PipelineState.PIPELINE_STATE_RUNNING\n",
      "AutoMLTabularTrainingJob projects/354621994428/locations/us-central1/trainingPipelines/7260558651004289024 current state:\n",
      "PipelineState.PIPELINE_STATE_RUNNING\n",
      "AutoMLTabularTrainingJob projects/354621994428/locations/us-central1/trainingPipelines/7260558651004289024 current state:\n",
      "PipelineState.PIPELINE_STATE_RUNNING\n",
      "AutoMLTabularTrainingJob projects/354621994428/locations/us-central1/trainingPipelines/7260558651004289024 current state:\n",
      "PipelineState.PIPELINE_STATE_RUNNING\n",
      "AutoMLTabularTrainingJob projects/354621994428/locations/us-central1/trainingPipelines/7260558651004289024 current state:\n",
      "PipelineState.PIPELINE_STATE_RUNNING\n",
      "AutoMLTabularTrainingJob projects/354621994428/locations/us-central1/trainingPipelines/7260558651004289024 current state:\n",
      "PipelineState.PIPELINE_STATE_RUNNING\n",
      "AutoMLTabularTrainingJob projects/354621994428/locations/us-central1/trainingPipelines/7260558651004289024 current state:\n",
      "PipelineState.PIPELINE_STATE_RUNNING\n",
      "AutoMLTabularTrainingJob projects/354621994428/locations/us-central1/trainingPipelines/7260558651004289024 current state:\n",
      "PipelineState.PIPELINE_STATE_RUNNING\n",
      "AutoMLTabularTrainingJob projects/354621994428/locations/us-central1/trainingPipelines/7260558651004289024 current state:\n",
      "PipelineState.PIPELINE_STATE_RUNNING\n",
      "AutoMLTabularTrainingJob projects/354621994428/locations/us-central1/trainingPipelines/7260558651004289024 current state:\n",
      "PipelineState.PIPELINE_STATE_RUNNING\n",
      "AutoMLTabularTrainingJob projects/354621994428/locations/us-central1/trainingPipelines/7260558651004289024 current state:\n",
      "PipelineState.PIPELINE_STATE_RUNNING\n",
      "AutoMLTabularTrainingJob projects/354621994428/locations/us-central1/trainingPipelines/7260558651004289024 current state:\n",
      "PipelineState.PIPELINE_STATE_RUNNING\n",
      "AutoMLTabularTrainingJob projects/354621994428/locations/us-central1/trainingPipelines/7260558651004289024 current state:\n",
      "PipelineState.PIPELINE_STATE_RUNNING\n",
      "AutoMLTabularTrainingJob projects/354621994428/locations/us-central1/trainingPipelines/7260558651004289024 current state:\n",
      "PipelineState.PIPELINE_STATE_RUNNING\n",
      "AutoMLTabularTrainingJob run completed. Resource name: projects/354621994428/locations/us-central1/trainingPipelines/7260558651004289024\n",
      "Model available at projects/354621994428/locations/us-central1/models/5489591077625135104\n"
     ]
    }
   ],
   "source": [
    "dataset = aiplatform.TabularDataset('projects/354621994428/locations/us-central1/datasets/6306981215853346816')\n",
    "\n",
    "job = aiplatform.AutoMLTabularTrainingJob(\n",
    "    display_name=f\"{MODEL_NAME}-automl\",\n",
    "    optimization_prediction_type=\"classification\"\n",
    ")\n",
    "\n",
    "model = job.run(\n",
    "    dataset=dataset,\n",
    "    target_column=TARGET_COLUMN,\n",
    "    predefined_split_column_name=\"data_split\",\n",
    "    budget_milli_node_hours=1000,\n",
    "    model_display_name=f\"{MODEL_NAME}-automl\",\n",
    "    disable_early_stopping=False,\n",
    ")"
   ]
  },
  {
   "cell_type": "code",
   "execution_count": null,
   "id": "81fef6c5-0de8-4560-aaf3-4fa9cfc84946",
   "metadata": {},
   "outputs": [],
   "source": []
  }
 ],
 "metadata": {
  "environment": {
   "kernel": "python3",
   "name": "common-cpu.m104",
   "type": "gcloud",
   "uri": "gcr.io/deeplearning-platform-release/base-cpu:m104"
  },
  "kernelspec": {
   "display_name": "Python 3",
   "language": "python",
   "name": "python3"
  },
  "language_info": {
   "codemirror_mode": {
    "name": "ipython",
    "version": 3
   },
   "file_extension": ".py",
   "mimetype": "text/x-python",
   "name": "python",
   "nbconvert_exporter": "python",
   "pygments_lexer": "ipython3",
   "version": "3.7.12"
  }
 },
 "nbformat": 4,
 "nbformat_minor": 5
}

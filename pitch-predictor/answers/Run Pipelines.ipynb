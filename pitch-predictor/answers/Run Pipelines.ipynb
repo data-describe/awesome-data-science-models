{
 "cells": [
  {
   "cell_type": "code",
   "execution_count": 6,
   "metadata": {},
   "outputs": [],
   "source": [
    "import datetime\n",
    "import glob\n",
    "import os\n",
    "import subprocess\n",
    "\n",
    "import kfp"
   ]
  },
  {
   "cell_type": "code",
   "execution_count": 7,
   "metadata": {},
   "outputs": [],
   "source": [
    "KUBEFLOW_URI = \"https://52f46cb5ee9f784b-dot-us-central2.pipelines.googleusercontent.com/\""
   ]
  },
  {
   "cell_type": "markdown",
   "metadata": {},
   "source": [
    "# Build Components\n",
    "Since we are using custom Kubeflow components, we need to build the images for each of these custom components before they can be used in the pipeline."
   ]
  },
  {
   "cell_type": "code",
   "execution_count": 20,
   "metadata": {},
   "outputs": [],
   "source": [
    "os.chdir(\"..\")"
   ]
  },
  {
   "cell_type": "code",
   "execution_count": 23,
   "metadata": {},
   "outputs": [],
   "source": [
    "for component_folder in glob.glob(\"./components/**\"):\n",
    "    os.chdir(component_folder)\n",
    "    subprocess.call([\"gcloud\", \"builds\", \"submit\", \"--async\"])\n",
    "    os.chdir(\"../..\")"
   ]
  },
  {
   "cell_type": "markdown",
   "metadata": {},
   "source": [
    "# Execute Single model (SI)\n",
    "We will first test out the Kubeflow Pipeline by executing a single (subset) XGBoost model."
   ]
  },
  {
   "cell_type": "markdown",
   "metadata": {},
   "source": [
    "## Compiling the pipeline \n",
    "The Kubeflow pipeline needs to be compiled from the Python definition"
   ]
  },
  {
   "cell_type": "code",
   "execution_count": 4,
   "metadata": {
    "collapsed": true,
    "jupyter": {
     "outputs_hidden": true
    }
   },
   "outputs": [
    {
     "name": "stdout",
     "output_type": "stream",
     "text": [
      "/opt/conda/lib/python3.7/site-packages/kfp/dsl/_container_op.py:1028: FutureWarning: Please create reusable components instead of constructing ContainerOp instances directly. Reusable components are shareable, portable and have compatibility and support guarantees. Please see the documentation: https://www.kubeflow.org/docs/pipelines/sdk/component-development/#writing-your-component-definition-file The components can be created manually (or, in case of python, using kfp.components.create_component_from_func or func_to_container_op) and then loaded using kfp.components.load_component_from_file, load_component_from_uri or load_component_from_text: https://kubeflow-pipelines.readthedocs.io/en/stable/source/kfp.components.html#kfp.components.load_component_from_file\n",
      "  category=FutureWarning,\n"
     ]
    }
   ],
   "source": [
    "#!python ./pipelines/baseball-pipeline-single.py"
   ]
  },
  {
   "cell_type": "markdown",
   "metadata": {},
   "source": [
    "## Submitting the pipeline to the Kubeflow cluster"
   ]
  },
  {
   "cell_type": "code",
   "execution_count": 6,
   "metadata": {},
   "outputs": [],
   "source": [
    "client = kfp.Client(KUBEFLOW_URI)"
   ]
  },
  {
   "cell_type": "code",
   "execution_count": 29,
   "metadata": {},
   "outputs": [
    {
     "data": {
      "text/html": [
       "<a href=https://52f46cb5ee9f784b-dot-us-central2.pipelines.googleusercontent.com//#/pipelines/details/01b4ebd2-56e2-46d5-b86f-5352e1399b52>Pipeline details</a>."
      ],
      "text/plain": [
       "<IPython.core.display.HTML object>"
      ]
     },
     "metadata": {},
     "output_type": "display_data"
    }
   ],
   "source": [
    "pipeline = client.upload_pipeline(\n",
    "    \"./pipelines/baseball-pipeline-single.py.zip\", \n",
    "    pipeline_name=\"baseball-pipeline-single\"\n",
    ")"
   ]
  },
  {
   "cell_type": "code",
   "execution_count": null,
   "metadata": {},
   "outputs": [],
   "source": [
    "# Upload a new version\n",
    "# version = client._upload_api.upload_pipeline_version(\n",
    "#     \"./pipelines/baseball-pipeline-single.py.zip\", \n",
    "#     pipelineid=pipeline.id,\n",
    "#     name=\"v1\"\n",
    "# )"
   ]
  },
  {
   "source": [
    "default_exp_id = client.experiments.list_experiment().experiments[0].id"
   ],
   "cell_type": "code",
   "metadata": {},
   "execution_count": null,
   "outputs": []
  },
  {
   "cell_type": "code",
   "execution_count": 33,
   "metadata": {},
   "outputs": [
    {
     "data": {
      "text/html": [
       "<a href=\"https://52f46cb5ee9f784b-dot-us-central2.pipelines.googleusercontent.com//#/runs/details/97637878-8cd1-4575-bc37-0ca902b18670\" target=\"_blank\" >Run details</a>."
      ],
      "text/plain": [
       "<IPython.core.display.HTML object>"
      ]
     },
     "metadata": {},
     "output_type": "display_data"
    },
    {
     "data": {
      "text/plain": [
       "{'created_at': datetime.datetime(2020, 12, 6, 0, 38, 52, tzinfo=tzlocal()),\n",
       " 'description': None,\n",
       " 'error': None,\n",
       " 'finished_at': datetime.datetime(1970, 1, 1, 0, 0, tzinfo=tzlocal()),\n",
       " 'id': '97637878-8cd1-4575-bc37-0ca902b18670',\n",
       " 'metrics': None,\n",
       " 'name': 'xgb_single_1206003852',\n",
       " 'pipeline_spec': {'parameters': None,\n",
       "                   'pipeline_id': '01b4ebd2-56e2-46d5-b86f-5352e1399b52',\n",
       "                   'pipeline_manifest': None,\n",
       "                   'pipeline_name': 'baseball-pipeline-single',\n",
       "                   'workflow_manifest': '{\"kind\":\"Workflow\",\"apiVersion\":\"argoproj.io/v1alpha1\",\"metadata\":{\"generateName\":\"sequential-pipeline-\",\"creationTimestamp\":null,\"labels\":{\"pipelines.kubeflow.org/kfp_sdk_version\":\"1.1.2\"},\"annotations\":{\"pipelines.kubeflow.org/kfp_sdk_version\":\"1.1.2\",\"pipelines.kubeflow.org/pipeline_compilation_time\":\"2020-12-06T00:26:39.113245\",\"pipelines.kubeflow.org/pipeline_spec\":\"{\\\\\"description\\\\\": '\n",
       "                                        '\\\\\"A pipeline with sequential '\n",
       "                                        'steps.\\\\\", \\\\\"name\\\\\": \\\\\"Sequential '\n",
       "                                        'pipeline\\\\\"}\"}},\"spec\":{\"templates\":[{\"name\":\"collect-stats\",\"inputs\":{},\"outputs\":{},\"metadata\":{},\"container\":{\"name\":\"\",\"image\":\"gcr.io/ross-kubeflow/collect-stats:latest\",\"env\":[{\"name\":\"GOOGLE_APPLICATION_CREDENTIALS\",\"value\":\"/secret/gcp-credentials/user-gcp-sa.json\"},{\"name\":\"CLOUDSDK_AUTH_CREDENTIAL_FILE_OVERRIDE\",\"value\":\"/secret/gcp-credentials/user-gcp-sa.json\"}],\"resources\":{},\"volumeMounts\":[{\"name\":\"gcp-credentials-user-gcp-sa\",\"mountPath\":\"/secret/gcp-credentials\"}]},\"volumes\":[{\"name\":\"gcp-credentials-user-gcp-sa\",\"secret\":{\"secretName\":\"user-gcp-sa\"}}]},{\"name\":\"evaluate-models\",\"inputs\":{},\"outputs\":{\"artifacts\":[{\"name\":\"evaluate-models-data\",\"path\":\"/root/dummy.txt\"}]},\"metadata\":{},\"container\":{\"name\":\"\",\"image\":\"gcr.io/ross-kubeflow/evaluate-model:latest\",\"args\":[\"--pitch_type\",\"FT\"],\"env\":[{\"name\":\"GOOGLE_APPLICATION_CREDENTIALS\",\"value\":\"/secret/gcp-credentials/user-gcp-sa.json\"},{\"name\":\"CLOUDSDK_AUTH_CREDENTIAL_FILE_OVERRIDE\",\"value\":\"/secret/gcp-credentials/user-gcp-sa.json\"}],\"resources\":{},\"volumeMounts\":[{\"name\":\"gcp-credentials-user-gcp-sa\",\"mountPath\":\"/secret/gcp-credentials\"}]},\"volumes\":[{\"name\":\"gcp-credentials-user-gcp-sa\",\"secret\":{\"secretName\":\"user-gcp-sa\"}}]},{\"name\":\"feature-engineering\",\"inputs\":{},\"outputs\":{},\"metadata\":{},\"container\":{\"name\":\"\",\"image\":\"gcr.io/ross-kubeflow/feature-eng:latest\",\"env\":[{\"name\":\"GOOGLE_APPLICATION_CREDENTIALS\",\"value\":\"/secret/gcp-credentials/user-gcp-sa.json\"},{\"name\":\"CLOUDSDK_AUTH_CREDENTIAL_FILE_OVERRIDE\",\"value\":\"/secret/gcp-credentials/user-gcp-sa.json\"}],\"resources\":{},\"volumeMounts\":[{\"name\":\"gcp-credentials-user-gcp-sa\",\"mountPath\":\"/secret/gcp-credentials\"}]},\"volumes\":[{\"name\":\"gcp-credentials-user-gcp-sa\",\"secret\":{\"secretName\":\"user-gcp-sa\"}}]},{\"name\":\"find-threshold\",\"inputs\":{},\"outputs\":{},\"metadata\":{},\"container\":{\"name\":\"\",\"image\":\"gcr.io/ross-kubeflow/find-threshold:latest\",\"args\":[\"--pitch_type\",\"FT\"],\"env\":[{\"name\":\"GOOGLE_APPLICATION_CREDENTIALS\",\"value\":\"/secret/gcp-credentials/user-gcp-sa.json\"},{\"name\":\"CLOUDSDK_AUTH_CREDENTIAL_FILE_OVERRIDE\",\"value\":\"/secret/gcp-credentials/user-gcp-sa.json\"}],\"resources\":{},\"volumeMounts\":[{\"name\":\"gcp-credentials-user-gcp-sa\",\"mountPath\":\"/secret/gcp-credentials\"}]},\"volumes\":[{\"name\":\"gcp-credentials-user-gcp-sa\",\"secret\":{\"secretName\":\"user-gcp-sa\"}}]},{\"name\":\"host-model\",\"inputs\":{},\"outputs\":{},\"metadata\":{},\"container\":{\"name\":\"\",\"image\":\"gcr.io/ross-kubeflow/host-xgboost:latest\",\"args\":[\"--pitch_type\",\"FT\"],\"env\":[{\"name\":\"GOOGLE_APPLICATION_CREDENTIALS\",\"value\":\"/secret/gcp-credentials/user-gcp-sa.json\"},{\"name\":\"CLOUDSDK_AUTH_CREDENTIAL_FILE_OVERRIDE\",\"value\":\"/secret/gcp-credentials/user-gcp-sa.json\"}],\"resources\":{},\"volumeMounts\":[{\"name\":\"gcp-credentials-user-gcp-sa\",\"mountPath\":\"/secret/gcp-credentials\"}]},\"volumes\":[{\"name\":\"gcp-credentials-user-gcp-sa\",\"secret\":{\"secretName\":\"user-gcp-sa\"}}]},{\"name\":\"sequential-pipeline\",\"inputs\":{},\"outputs\":{},\"metadata\":{},\"dag\":{\"tasks\":[{\"name\":\"collect-stats\",\"template\":\"collect-stats\",\"arguments\":{}},{\"name\":\"evaluate-models\",\"template\":\"evaluate-models\",\"arguments\":{},\"dependencies\":[\"find-threshold\"]},{\"name\":\"feature-engineering\",\"template\":\"feature-engineering\",\"arguments\":{},\"dependencies\":[\"collect-stats\"]},{\"name\":\"find-threshold\",\"template\":\"find-threshold\",\"arguments\":{},\"dependencies\":[\"host-model\"]},{\"name\":\"host-model\",\"template\":\"host-model\",\"arguments\":{},\"dependencies\":[\"train-xgboost\"]},{\"name\":\"split-train-test-val\",\"template\":\"split-train-test-val\",\"arguments\":{},\"dependencies\":[\"feature-engineering\"]},{\"name\":\"train-xgboost\",\"template\":\"train-xgboost\",\"arguments\":{},\"dependencies\":[\"tune-hyperparameters\"]},{\"name\":\"tune-hyperparameters\",\"template\":\"tune-hyperparameters\",\"arguments\":{},\"dependencies\":[\"split-train-test-val\"]}]}},{\"name\":\"split-train-test-val\",\"inputs\":{},\"outputs\":{},\"metadata\":{},\"container\":{\"name\":\"\",\"image\":\"gcr.io/ross-kubeflow/train-test-val:latest\",\"args\":[\"--pitch_type\",\"FT\"],\"env\":[{\"name\":\"GOOGLE_APPLICATION_CREDENTIALS\",\"value\":\"/secret/gcp-credentials/user-gcp-sa.json\"},{\"name\":\"CLOUDSDK_AUTH_CREDENTIAL_FILE_OVERRIDE\",\"value\":\"/secret/gcp-credentials/user-gcp-sa.json\"}],\"resources\":{},\"volumeMounts\":[{\"name\":\"gcp-credentials-user-gcp-sa\",\"mountPath\":\"/secret/gcp-credentials\"}]},\"volumes\":[{\"name\":\"gcp-credentials-user-gcp-sa\",\"secret\":{\"secretName\":\"user-gcp-sa\"}}]},{\"name\":\"train-xgboost\",\"inputs\":{},\"outputs\":{},\"metadata\":{},\"container\":{\"name\":\"\",\"image\":\"gcr.io/ross-kubeflow/train-xgboost:latest\",\"args\":[\"--pitch_type\",\"FT\"],\"env\":[{\"name\":\"GOOGLE_APPLICATION_CREDENTIALS\",\"value\":\"/secret/gcp-credentials/user-gcp-sa.json\"},{\"name\":\"CLOUDSDK_AUTH_CREDENTIAL_FILE_OVERRIDE\",\"value\":\"/secret/gcp-credentials/user-gcp-sa.json\"}],\"resources\":{},\"volumeMounts\":[{\"name\":\"gcp-credentials-user-gcp-sa\",\"mountPath\":\"/secret/gcp-credentials\"}]},\"volumes\":[{\"name\":\"gcp-credentials-user-gcp-sa\",\"secret\":{\"secretName\":\"user-gcp-sa\"}}]},{\"name\":\"tune-hyperparameters\",\"inputs\":{},\"outputs\":{},\"metadata\":{},\"container\":{\"name\":\"\",\"image\":\"gcr.io/ross-kubeflow/tune-hp:latest\",\"args\":[\"--pitch_type\",\"FT\"],\"env\":[{\"name\":\"GOOGLE_APPLICATION_CREDENTIALS\",\"value\":\"/secret/gcp-credentials/user-gcp-sa.json\"},{\"name\":\"CLOUDSDK_AUTH_CREDENTIAL_FILE_OVERRIDE\",\"value\":\"/secret/gcp-credentials/user-gcp-sa.json\"}],\"resources\":{},\"volumeMounts\":[{\"name\":\"gcp-credentials-user-gcp-sa\",\"mountPath\":\"/secret/gcp-credentials\"}]},\"volumes\":[{\"name\":\"gcp-credentials-user-gcp-sa\",\"secret\":{\"secretName\":\"user-gcp-sa\"}}]}],\"entrypoint\":\"sequential-pipeline\",\"arguments\":{},\"serviceAccountName\":\"pipeline-runner\"},\"status\":{\"startedAt\":null,\"finishedAt\":null}}'},\n",
       " 'resource_references': [{'key': {'id': 'efc6890d-bbb7-4d5f-8896-a51455cbf835',\n",
       "                                  'type': 'EXPERIMENT'},\n",
       "                          'name': 'Default',\n",
       "                          'relationship': 'OWNER'},\n",
       "                         {'key': {'id': '01b4ebd2-56e2-46d5-b86f-5352e1399b52',\n",
       "                                  'type': 'PIPELINE_VERSION'},\n",
       "                          'name': 'baseball-pipeline-single',\n",
       "                          'relationship': 'CREATOR'}],\n",
       " 'scheduled_at': datetime.datetime(1970, 1, 1, 0, 0, tzinfo=tzlocal()),\n",
       " 'service_account': 'pipeline-runner',\n",
       " 'status': None,\n",
       " 'storage_state': None}"
      ]
     },
     "execution_count": 33,
     "metadata": {},
     "output_type": "execute_result"
    }
   ],
   "source": [
    "client.run_pipeline(\n",
    "    experiment_id=default_exp_id,\n",
    "    job_name=f\"xgb_single_{datetime.datetime.now().strftime('%m%d%H%M%S')}\",\n",
    "    pipeline_id=pipeline.id\n",
    "    #version=version.id\n",
    ")"
   ]
  },
  {
   "cell_type": "code",
   "execution_count": null,
   "metadata": {},
   "outputs": [],
   "source": []
  }
 ],
 "metadata": {
  "environment": {
   "name": "tf2-2-3-gpu.2-3.m59",
   "type": "gcloud",
   "uri": "gcr.io/deeplearning-platform-release/tf2-2-3-gpu.2-3:m59"
  },
  "kernelspec": {
   "display_name": "Python 3",
   "language": "python",
   "name": "python3"
  },
  "language_info": {
   "codemirror_mode": {
    "name": "ipython",
    "version": 3
   },
   "file_extension": ".py",
   "mimetype": "text/x-python",
   "name": "python",
   "nbconvert_exporter": "python",
   "pygments_lexer": "ipython3",
   "version": "3.7.8"
  }
 },
 "nbformat": 4,
 "nbformat_minor": 4
}
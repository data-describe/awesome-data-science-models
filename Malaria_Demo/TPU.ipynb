{
 "cells": [
  {
   "cell_type": "code",
   "execution_count": 3,
   "metadata": {},
   "outputs": [
    {
     "name": "stdout",
     "output_type": "stream",
     "text": [
      "env: PROJECT_ID=mwpmltr\n",
      "env: BUCKET_ID=bipin_bucket\n",
      "env: PACKAGE_PATH=trainer.trainer\n",
      "env: RUNTIME_VERSION=2.3\n",
      "env: PYTHON_VERSION=3.7\n",
      "env: REGION=us-central1\n"
     ]
    }
   ],
   "source": [
    "%env PROJECT_ID=mwpmltr\n",
    "%env BUCKET_ID=bipin_bucket\n",
    "%env PACKAGE_PATH=trainer.trainer\n",
    "%env RUNTIME_VERSION=2.3\n",
    "%env PYTHON_VERSION=3.7\n",
    "%env REGION=us-central1"
   ]
  },
  {
   "cell_type": "code",
   "execution_count": 4,
   "metadata": {},
   "outputs": [
    {
     "name": "stdout",
     "output_type": "stream",
     "text": [
      "env: JOB_NAME=tensorflow_job_20200903_135003\n",
      "\u001b[1;31mERROR:\u001b[0m (gcloud.ai-platform.jobs.submit.training) INVALID_ARGUMENT: Field: runtime_version Error: The specified runtime version '2.3' is not supported for TPU training. Please specify a different runtime version. See https://cloud.google.com/ml-engine/docs/runtime-version-list for a list of supported versions\n",
      "- '@type': type.googleapis.com/google.rpc.BadRequest\n",
      "  fieldViolations:\n",
      "  - description: The specified runtime version '2.3' is not supported for TPU training.\n",
      "      Please specify a different runtime version. See https://cloud.google.com/ml-engine/docs/runtime-version-list\n",
      "      for a list of supported versions\n",
      "    field: runtime_version\n",
      "\u001b[1;31mERROR:\u001b[0m (gcloud.ai-platform.jobs.stream-logs) NOT_FOUND: Field: name Error: The specified job was not found.\n",
      "- '@type': type.googleapis.com/google.rpc.BadRequest\n",
      "  fieldViolations:\n",
      "  - description: The specified job was not found.\n",
      "    field: name\n",
      "\u001b[1;31mERROR:\u001b[0m (gcloud.ai-platform.jobs.describe) NOT_FOUND: Field: name Error: The specified job was not found.\n",
      "- '@type': type.googleapis.com/google.rpc.BadRequest\n",
      "  fieldViolations:\n",
      "  - description: The specified job was not found.\n",
      "    field: name\n"
     ]
    }
   ],
   "source": [
    "now = !date +\"%Y%m%d_%H%M%S\"\n",
    "%env JOB_NAME=tensorflow_job_$now.s\n",
    "\n",
    "!gcloud ai-platform jobs submit training $JOB_NAME \\\n",
    "  --scale-tier BASIC_TPU \\\n",
    "  --package-path trainer/ \\\n",
    "  --module-name trainer.trainer \\\n",
    "  --region $REGION \\\n",
    "  --python-version 3.7 \\\n",
    "  --runtime-version 2.1 \\\n",
    "  --job-dir gs://${BUCKET_ID}/keras-job-dir-${JOB_NAME} \\\n",
    "  -- \\\n",
    "  --project-id $PROJECT_ID \\\n",
    "  --bucket-name ${BUCKET_ID} \\\n",
    "  --tputrain True\n",
    "                \n",
    "# Stream logs so that training is done before subsequent cells are run.\n",
    "# Remove  '> /dev/null' to see step-by-step output of the model build steps.\n",
    "!gcloud ai-platform jobs stream-logs $JOB_NAME > /dev/null\n",
    "\n",
    "# Model should exit with status \"SUCCEEDED\"\n",
    "!gcloud ai-platform jobs describe $JOB_NAME --format=\"value(state)\""
   ]
  },
  {
   "cell_type": "code",
   "execution_count": null,
   "metadata": {},
   "outputs": [],
   "source": []
  }
 ],
 "metadata": {
  "environment": {
   "name": "tf2-gpu.2-1.m54",
   "type": "gcloud",
   "uri": "gcr.io/deeplearning-platform-release/tf2-gpu.2-1:m54"
  },
  "kernelspec": {
   "display_name": "Python 3",
   "language": "python",
   "name": "python3"
  },
  "language_info": {
   "codemirror_mode": {
    "name": "ipython",
    "version": 3
   },
   "file_extension": ".py",
   "mimetype": "text/x-python",
   "name": "python",
   "nbconvert_exporter": "python",
   "pygments_lexer": "ipython3",
   "version": "3.7.8"
  }
 },
 "nbformat": 4,
 "nbformat_minor": 4
}

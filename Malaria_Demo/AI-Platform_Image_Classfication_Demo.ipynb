{
 "cells": [
  {
   "cell_type": "markdown",
   "metadata": {},
   "source": [
    "# Recusion Cellular Image Clasification with AI-Platform"
   ]
  },
  {
   "cell_type": "markdown",
   "metadata": {},
   "source": [
    "# How to bring your model to AI Platform\n",
    "Getting your model ready for predictions can be done in 5 steps:\n",
    "1. Save your model to a file\n",
    "2. Upload the saved model to [Google Cloud Storage](https://cloud.google.com/storage)\n",
    "3. Create a model resource on AI Platform\n",
    "4. Create a model version \n",
    "5. Make an online prediction"
   ]
  },
  {
   "cell_type": "markdown",
   "metadata": {},
   "source": [
    "# Prerequisites\n",
    "Before we begin, let’s cover some of the different tools you’ll use to get online prediction up and running on AI Platform. \n",
    "\n",
    "[Google Cloud Platform](https://cloud.google.com/) (GCP) lets you build and host applications and websites, store data, and analyze data on Google's scalable infrastructure.\n",
    "\n",
    "[AI Platform](https://cloud.google.com/ml-engine/) is a managed service that enables you to easily build machine learning models that work on any type of data, of any size.\n",
    "\n",
    "[Google Cloud Storage](https://cloud.google.com/storage/) (GCS) is a unified object storage for developers and enterprises, from live data serving to data analytics/ML to data archiving.\n",
    "\n",
    "[Cloud SDK](https://cloud.google.com/sdk/) is a command line tool which allows you to interact with Google Cloud products. In order to run this notebook, make sure that Cloud SDK is [installed](https://cloud.google.com/sdk/downloads) in the same environment as your Jupyter kernel.\n"
   ]
  },
  {
   "cell_type": "code",
   "execution_count": 1,
   "metadata": {},
   "outputs": [
    {
     "name": "stdout",
     "output_type": "stream",
     "text": [
      "env: PROJECT_ID=mwpmltr\n",
      "env: BUCKET_ID=cellular_img_demo\n",
      "env: PACKAGE_PATH=trainer\n",
      "env: MODULE_NAME=trainer.task\n",
      "env: RUNTIME_VERSION=1.15\n",
      "env: PYTHON_VERSION=3.7\n",
      "env: REGION=us-central1\n"
     ]
    }
   ],
   "source": [
    "%env PROJECT_ID=mwpmltr\n",
    "%env BUCKET_ID=cellular_img_demo\n",
    "%env PACKAGE_PATH=trainer\n",
    "%env MODULE_NAME=trainer.task\n",
    "%env RUNTIME_VERSION=1.15\n",
    "%env PYTHON_VERSION=3.7\n",
    "%env REGION=us-central1"
   ]
  },
  {
   "cell_type": "code",
   "execution_count": 2,
   "metadata": {},
   "outputs": [],
   "source": [
    "# Create BUCKET_NAME if it does not exist.\n",
    "#!gsutil mb gs://${BUCKET_ID}"
   ]
  },
  {
   "cell_type": "code",
   "execution_count": 3,
   "metadata": {},
   "outputs": [],
   "source": [
    "#copy data to the bucket\n",
    "\n",
    "#This might take a while as we are copying images\n",
    "#!gsutil -m cp -r gs://cellular-model-bucket/data gs://${BUCKET_ID}/data"
   ]
  },
  {
   "cell_type": "code",
   "execution_count": null,
   "metadata": {},
   "outputs": [
    {
     "name": "stdout",
     "output_type": "stream",
     "text": [
      "env: JOB_NAME=tensorflow_job_20200903_065928\n",
      "Job [tensorflow_job_20200903_065928] submitted successfully.\n",
      "Your job is still active. You may view the status of your job with the command\n",
      "\n",
      "  $ gcloud ai-platform jobs describe tensorflow_job_20200903_065928\n",
      "\n",
      "or continue streaming the logs with the command\n",
      "\n",
      "  $ gcloud ai-platform jobs stream-logs tensorflow_job_20200903_065928\n",
      "jobId: tensorflow_job_20200903_065928\n",
      "state: QUEUED\n"
     ]
    }
   ],
   "source": [
    "now = !date +\"%Y%m%d_%H%M%S\"\n",
    "%env JOB_NAME=tensorflow_job_$now.s\n",
    "\n",
    "!gcloud ai-platform jobs submit training $JOB_NAME \\\n",
    "  --package-path trainer/ \\\n",
    "  --module-name trainer.trainer \\\n",
    "  --region $REGION \\\n",
    "  --python-version 3.7 \\\n",
    "  --runtime-version 2.1 \\\n",
    "  --job-dir gs://${BUCKET_ID}/keras-job-dir-${JOB_NAME} \\\n",
    "  -- \\\n",
    "  --project-id $PROJECT_ID \\\n",
    "  --bucket-name ${BUCKET_ID} \n",
    "                \n",
    "# Stream logs so that training is done before subsequent cells are run.\n",
    "# Remove  '> /dev/null' to see step-by-step output of the model build steps.\n",
    "!gcloud ai-platform jobs stream-logs $JOB_NAME > /dev/null\n",
    "\n",
    "# Model should exit with status \"SUCCEEDED\"\n",
    "!gcloud ai-platform jobs describe $JOB_NAME --format=\"value(state)\""
   ]
  },
  {
   "cell_type": "code",
   "execution_count": null,
   "metadata": {},
   "outputs": [],
   "source": [
    "now = !date +\"%Y%m%d_%H%M%S\"\n",
    "%env JOB_NAME=tensorflow_job_$now.s\n",
    "\n",
    "!gcloud ai-platform jobs submit training $JOB_NAME \\\n",
    "  --scale-tier BASIC_TPU \\\n",
    "  --package-path trainer/ \\\n",
    "  --module-name trainer.trainer \\\n",
    "  --region $REGION \\\n",
    "  --python-version 3.7 \\\n",
    "  --runtime-version 2.1 \\\n",
    "  --job-dir gs://${BUCKET_ID}/keras-job-dir-${JOB_NAME} \\\n",
    "  -- \\\n",
    "  --project-id $PROJECT_ID \\\n",
    "  --bucket-name ${BUCKET_ID} \\\n",
    "  --tputrain True\n",
    "                \n",
    "# Stream logs so that training is done before subsequent cells are run.\n",
    "# Remove  '> /dev/null' to see step-by-step output of the model build steps.\n",
    "!gcloud ai-platform jobs stream-logs $JOB_NAME > /dev/null\n",
    "\n",
    "# Model should exit with status \"SUCCEEDED\"\n",
    "!gcloud ai-platform jobs describe $JOB_NAME --format=\"value(state)\""
   ]
  },
  {
   "cell_type": "code",
   "execution_count": null,
   "metadata": {},
   "outputs": [],
   "source": []
  }
 ],
 "metadata": {
  "environment": {
   "name": "tf2-gpu.2-1.m54",
   "type": "gcloud",
   "uri": "gcr.io/deeplearning-platform-release/tf2-gpu.2-1:m54"
  },
  "kernelspec": {
   "display_name": "Python 3",
   "language": "python",
   "name": "python3"
  },
  "language_info": {
   "codemirror_mode": {
    "name": "ipython",
    "version": 3
   },
   "file_extension": ".py",
   "mimetype": "text/x-python",
   "name": "python",
   "nbconvert_exporter": "python",
   "pygments_lexer": "ipython3",
   "version": "3.7.8"
  }
 },
 "nbformat": 4,
 "nbformat_minor": 4
}

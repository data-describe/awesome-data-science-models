{
 "cells": [
  {
   "cell_type": "markdown",
   "id": "2133adf2-ffaf-4828-a28a-93ef9870db01",
   "metadata": {},
   "source": [
    "### Import libraries and define constants"
   ]
  },
  {
   "cell_type": "code",
   "execution_count": null,
   "id": "c5a3d2e4-38b0-4e42-8f5b-3e4ae84b9229",
   "metadata": {},
   "outputs": [],
   "source": [
    "import matplotlib\n",
    "import pandas as pd\n",
    "import warnings\n",
    "warnings.simplefilter(action='ignore', category=FutureWarning)\n",
    "#import data_describe as mw\n",
    "matplotlib.style.use('ggplot')\n",
    "pd.set_option('display.max_rows', 100)\n",
    "pd.set_option('display.width', 100)\n",
    "pd.set_option('max_columns', None)\n",
    "warnings.filterwarnings('ignore')"
   ]
  },
  {
   "cell_type": "code",
   "execution_count": null,
   "id": "0ad01fdb-d780-47ae-ac7a-971deacdc306",
   "metadata": {},
   "outputs": [],
   "source": [
    "import os\n",
    "from datetime import datetime\n",
    "from google.cloud import bigquery\n",
    "import pandas as pd\n",
    "from collections import Counter\n",
    "from google.cloud import aiplatform\n",
    "from google.cloud.aiplatform import Feature, Featurestore\n",
    "from google.cloud.aiplatform_v1.types import featurestore_service"
   ]
  },
  {
   "cell_type": "code",
   "execution_count": null,
   "id": "1b802ba2-8505-48dd-9b1a-834b70074949",
   "metadata": {},
   "outputs": [],
   "source": [
    "from google.cloud.aiplatform_v1 import (FeaturestoreOnlineServingServiceClient,\n",
    "                                        FeaturestoreServiceClient)\n",
    "\n",
    "from google.cloud.aiplatform_v1.types import FeatureSelector, IdMatcher\n",
    "from google.cloud.aiplatform_v1.types import entity_type as entity_type_pb2\n",
    "from google.cloud.aiplatform_v1.types import feature as feature_pb2\n",
    "from google.cloud.aiplatform_v1.types import featurestore as featurestore_pb2\n",
    "\n",
    "from google.cloud.aiplatform_v1.types import featurestore_online_service as featurestore_online_service_pb2\n",
    "\n",
    "from google.cloud.aiplatform_v1.types import featurestore_service as featurestore_service_pb2\n",
    "\n",
    "from google.cloud.aiplatform_v1.types import io as io_pb2\n",
    "from google.protobuf.duration_pb2 import Duration"
   ]
  },
  {
   "cell_type": "code",
   "execution_count": null,
   "id": "2674207b-3f43-4d65-a939-931453239aa4",
   "metadata": {},
   "outputs": [],
   "source": [
    "PROJECT_ID = \"ds-training-380514\"\n",
    "REGION = \"us-central1\"  # @param {type:\"string\"}\n",
    "ONLINE_STORE_FIXED_NODE_COUNT=1\n",
    "    \n",
    "print(f'Project ID: {PROJECT_ID}\\nRegion : {REGION}')"
   ]
  },
  {
   "cell_type": "code",
   "execution_count": null,
   "id": "bee56c63-c7c0-4b42-980b-3fed9556f5fc",
   "metadata": {},
   "outputs": [],
   "source": [
    "aiplatform.init(project=PROJECT_ID, location=REGION)"
   ]
  },
  {
   "cell_type": "code",
   "execution_count": null,
   "id": "568ac1fd-0f04-416b-b828-7c6e206cfa6f",
   "metadata": {},
   "outputs": [],
   "source": [
    "bucket = \"chicago-taxi-ay\"\n",
    "!gsutil mb -c standard -l {REGION} gs://{bucket}"
   ]
  },
  {
   "cell_type": "code",
   "execution_count": null,
   "id": "ae62f8db-1857-4447-8c0f-09348dc3a8c3",
   "metadata": {},
   "outputs": [],
   "source": [
    "API_ENDPOINT = \"us-central1-aiplatform.googleapis.com\"  # @param {type:\"string\"}"
   ]
  },
  {
   "cell_type": "code",
   "execution_count": null,
   "id": "fa9d6850-c88c-45a0-a89b-9e48b15c3468",
   "metadata": {},
   "outputs": [],
   "source": [
    "# admin_client for CRUD \n",
    "admin_client = FeaturestoreServiceClient(client_options={\"api_endpoint\": API_ENDPOINT})\n",
    "\n",
    "# data_client for reading feature values\n",
    "data_client = FeaturestoreOnlineServingServiceClient(\n",
    "                                                     client_options={\"api_endpoint\": API_ENDPOINT}\n",
    "                                                    )"
   ]
  },
  {
   "cell_type": "code",
   "execution_count": null,
   "id": "8e89c76b-4f15-4738-a13d-97b57075464d",
   "metadata": {},
   "outputs": [],
   "source": [
    "# resource path of feature-store\n",
    "BASE_RESOURCE_PATH = admin_client.common_location_path(PROJECT_ID, REGION)"
   ]
  },
  {
   "cell_type": "markdown",
   "id": "7b393bec-a510-45d6-b3ab-5556a957495a",
   "metadata": {},
   "source": [
    "## Create FeatureStore\n",
    "The method to create a Featurestore returns a\n",
    "[long-running operation](https://google.aip.dev/151) (LRO). An LRO starts an asynchronous job. LROs are returned for other API\n",
    "methods too, such as updating or deleting a featurestore. Running the code cell will create a featurestore and print the process log."
   ]
  },
  {
   "cell_type": "markdown",
   "id": "cc38c57f-615d-4751-b30b-4667e8713615",
   "metadata": {},
   "source": [
    "a value of zero for ONLINE_STORE_FIXED_NODE_COUNT mean no online feature store "
   ]
  },
  {
   "cell_type": "code",
   "execution_count": null,
   "id": "c90d1788-6ed0-455b-9eac-a2e26e42118c",
   "metadata": {},
   "outputs": [],
   "source": [
    "FEATURESTORE_ID = \"teststore3\"\n",
    "\n",
    "try:\n",
    "    # long-running-operation; \n",
    "    create_lro = admin_client.create_featurestore(\n",
    "                    featurestore_service_pb2.CreateFeaturestoreRequest(\n",
    "                        parent=BASE_RESOURCE_PATH,\n",
    "                        featurestore_id=FEATURESTORE_ID,\n",
    "                        featurestore=featurestore_pb2.Featurestore(\n",
    "                            online_serving_config=featurestore_pb2.Featurestore.OnlineServingConfig(\n",
    "                                fixed_node_count=ONLINE_STORE_FIXED_NODE_COUNT\n",
    "                            ),\n",
    "                        ),\n",
    "                    )\n",
    "                )\n",
    "    # Wait for LRO to finish and get the LRO result.\n",
    "    print(create_lro.result())\n",
    "except Exception as e:\n",
    "    print(e)"
   ]
  },
  {
   "cell_type": "markdown",
   "id": "f70c7813-7ab7-44d3-9786-456d8a8ac7e7",
   "metadata": {},
   "source": [
    "### Alternative method of creating Feature store \n",
    "\n",
    "fs = Featurestore.create(\n",
    "    featurestore_id=FEATURESTORE_ID,\n",
    "    online_store_fixed_node_count=ONLINE_STORE_FIXED_NODE_COUNT,\n",
    "    project=PROJECT_ID,\n",
    "    location=REGION,\n",
    "    sync=True,\n",
    ")"
   ]
  },
  {
   "cell_type": "markdown",
   "id": "7c87a686-39c7-4f11-88a3-853b3de020ef",
   "metadata": {},
   "source": [
    "#### Get details of the Feature store"
   ]
  },
  {
   "cell_type": "code",
   "execution_count": null,
   "id": "2ad8f51f-4a58-47a3-a69c-f668fb1973a3",
   "metadata": {},
   "outputs": [],
   "source": [
    "fs = Featurestore(\n",
    "    featurestore_name=FEATURESTORE_ID,\n",
    "    project=PROJECT_ID,\n",
    "    location=REGION,\n",
    ")\n",
    "print(fs.gca_resource)"
   ]
  },
  {
   "cell_type": "markdown",
   "id": "79624493-8a03-41d2-b4a8-c73b3e834390",
   "metadata": {},
   "source": [
    "## Create Entity-Type\n",
    "Entity types can be created within the Featurestore class. Below, create the Users entity type and Movies entity type. A process log will be printed out."
   ]
  },
  {
   "cell_type": "markdown",
   "id": "f53e5206-289a-4ad0-aa4b-123843774384",
   "metadata": {},
   "source": [
    "Entity-Type 1: taxis"
   ]
  },
  {
   "cell_type": "code",
   "execution_count": null,
   "id": "eaf31cc6-121f-45d6-9d4e-063ee41faf47",
   "metadata": {},
   "outputs": [],
   "source": [
    "try:\n",
    "    users_entity_type_lro = admin_client.create_entity_type(\n",
    "                                featurestore_service_pb2.CreateEntityTypeRequest(\n",
    "                                    parent=admin_client.featurestore_path(PROJECT_ID,\n",
    "                                                                          REGION,\n",
    "                                                                          FEATURESTORE_ID),\n",
    "                                    entity_type_id=\"taxis\",\n",
    "                                    entity_type=entity_type_pb2.EntityType(\n",
    "                                                        description=\"taxi details\",\n",
    "                                                                          ),\n",
    "                                                                                )\n",
    "                                                            )\n",
    "    # wait for EntityType creation operation\n",
    "    print(users_entity_type_lro.result())\n",
    "except Exception as e:\n",
    "    print(e)"
   ]
  },
  {
   "cell_type": "markdown",
   "id": "f6f82d4d-a8a1-457d-8ee1-352b9403ddff",
   "metadata": {},
   "source": [
    "Entity-Type 2: companies"
   ]
  },
  {
   "cell_type": "code",
   "execution_count": null,
   "id": "58c05a11-b666-49be-adce-ee367d4028d3",
   "metadata": {},
   "outputs": [],
   "source": [
    "try:\n",
    "    products_entity_type_lro = admin_client.create_entity_type(\n",
    "                                    featurestore_service_pb2.CreateEntityTypeRequest(\n",
    "                                        parent=admin_client.featurestore_path(PROJECT_ID,\n",
    "                                                                              REGION,\n",
    "                                                                              FEATURESTORE_ID),\n",
    "                                        entity_type_id=\"companies\",\n",
    "                                        entity_type=entity_type_pb2.EntityType(description=\"company details\"),\n",
    "                                                                                    )\n",
    "                                                              )\n",
    "\n",
    "    # wait for EntityType creation operation\n",
    "    print(products_entity_type_lro.result())\n",
    "except Exception as e:\n",
    "    print(e)"
   ]
  },
  {
   "cell_type": "code",
   "execution_count": null,
   "id": "a517f4e6-397c-4eb7-8100-959756ca1990",
   "metadata": {},
   "outputs": [],
   "source": [
    "### Alterative function to create entity\n",
    "# Create users entity type\n",
    "users_entity_type = fs.create_entity_type(\n",
    "    entity_type_id=\"taxis\",\n",
    "    description=\"taxi details\",\n",
    ")"
   ]
  },
  {
   "cell_type": "markdown",
   "id": "e225e23c-c940-4730-9750-add00d5be20e",
   "metadata": {},
   "source": [
    "To retrieve an entity type or check that it has been created use the [get_entity_type](https://github.com/googleapis/python-aiplatform/blob/main/google/cloud/aiplatform/featurestore/featurestore.py#L106) or [list_entity_types](https://github.com/googleapis/python-aiplatform/blob/main/google/cloud/aiplatform/featurestore/featurestore.py#L278) methods on the Featurestore object."
   ]
  },
  {
   "cell_type": "code",
   "execution_count": null,
   "id": "e1ce3c61-7289-4391-9319-fab1e3fd5e56",
   "metadata": {},
   "outputs": [],
   "source": [
    "taxis_entity_type = fs.get_entity_type(entity_type_id=\"taxis\")\n",
    "companies_entity_type = fs.get_entity_type(entity_type_id=\"companies\")\n",
    "print(taxis_entity_type)\n",
    "print(companies_entity_type)"
   ]
  },
  {
   "cell_type": "code",
   "execution_count": null,
   "id": "f3018187-c28f-4a22-869e-d045fecfd113",
   "metadata": {},
   "outputs": [],
   "source": [
    "fs.list_entity_types()"
   ]
  },
  {
   "cell_type": "markdown",
   "id": "f3456d1e-cfb8-4c33-aa36-121217884c02",
   "metadata": {},
   "source": [
    "## Enable monitoring on EntityType e.g. train-serving skew"
   ]
  },
  {
   "cell_type": "code",
   "execution_count": null,
   "id": "810552cd-b1d0-4c00-a067-22e6d913279f",
   "metadata": {},
   "outputs": [],
   "source": [
    "from google.cloud.aiplatform_v1beta1 import \\\n",
    "    FeaturestoreServiceClient as v1beta1_FeaturestoreServiceClient\n",
    "\n",
    "from google.cloud.aiplatform_v1beta1.types import \\\n",
    "    entity_type as v1beta1_entity_type_pb2\n",
    "\n",
    "from google.cloud.aiplatform_v1beta1.types import \\\n",
    "    featurestore_monitoring as v1beta1_featurestore_monitoring_pb2\n",
    "\n",
    "from google.cloud.aiplatform_v1beta1.types import \\\n",
    "    featurestore_service as v1beta1_featurestore_service_pb2"
   ]
  },
  {
   "cell_type": "code",
   "execution_count": null,
   "id": "5efab9c8-4f7f-4a97-968c-6dd9b65d6a73",
   "metadata": {},
   "outputs": [],
   "source": [
    "v1beta1_admin_client = v1beta1_FeaturestoreServiceClient(\n",
    "                                                         client_options={\"api_endpoint\": API_ENDPOINT}\n",
    "                                                        )"
   ]
  },
  {
   "cell_type": "code",
   "execution_count": null,
   "id": "130756fb-45b5-4ca7-99ec-675b2f0bf8d8",
   "metadata": {},
   "outputs": [],
   "source": [
    "# Enable monitoring\n",
    "# All Features belonging to this Entity-Type will, by default, inherit the monitoring config.\n",
    "\n",
    "v1beta1_admin_client.update_entity_type(\n",
    "    v1beta1_featurestore_service_pb2.UpdateEntityTypeRequest(\n",
    "        entity_type=v1beta1_entity_type_pb2.EntityType(\n",
    "                        name=admin_client.entity_type_path(\n",
    "                                                           PROJECT_ID,\n",
    "                                                           REGION,\n",
    "                                                           FEATURESTORE_ID,\n",
    "                                                           \"taxis\"\n",
    "                                                          ),\n",
    "                        monitoring_config=v1beta1_featurestore_monitoring_pb2.FeaturestoreMonitoringConfig(\n",
    "                            snapshot_analysis=v1beta1_featurestore_monitoring_pb2.FeaturestoreMonitoringConfig.SnapshotAnalysis(\n",
    "                                                        monitoring_interval=Duration(seconds=86400),  # 1 day\n",
    "                                                                                                                               ),\n",
    "                                                                                                          ),\n",
    "                                                    ),\n",
    "                                                           )\n",
    "                                       )"
   ]
  },
  {
   "cell_type": "code",
   "execution_count": null,
   "id": "ae046166-4052-492c-974c-c2c2c4a39c34",
   "metadata": {},
   "outputs": [],
   "source": [
    "# Enable monitoring\n",
    "# All Features belonging to this Entity-Type will, by default, inherit the monitoring config.\n",
    "\n",
    "v1beta1_admin_client.update_entity_type(\n",
    "    v1beta1_featurestore_service_pb2.UpdateEntityTypeRequest(\n",
    "        entity_type=v1beta1_entity_type_pb2.EntityType(\n",
    "                        name=admin_client.entity_type_path(\n",
    "                                                           PROJECT_ID,\n",
    "                                                           REGION,\n",
    "                                                           FEATURESTORE_ID,\n",
    "                                                           \"companies\"\n",
    "                                                          ),\n",
    "                        monitoring_config=v1beta1_featurestore_monitoring_pb2.FeaturestoreMonitoringConfig(\n",
    "                            snapshot_analysis=v1beta1_featurestore_monitoring_pb2.FeaturestoreMonitoringConfig.SnapshotAnalysis(\n",
    "                                                        monitoring_interval=Duration(seconds=86400),  # 1 day\n",
    "                                                        staleness_days=1,\n",
    "                                                                                                                               ),\n",
    "                                                                                                          ),\n",
    "                                                    ),\n",
    "                                                           )\n",
    "                                       )"
   ]
  },
  {
   "cell_type": "markdown",
   "id": "f63887b3-5312-4d5f-b45d-314c3e7dd0ef",
   "metadata": {
    "tags": []
   },
   "source": [
    "## Create Features"
   ]
  },
  {
   "cell_type": "markdown",
   "id": "dea73804-dfb9-41f7-8c73-afab0829c4bc",
   "metadata": {},
   "source": [
    "**Note**: feature_id must begin with a lowercase or underscore and can only contain lowercase, numbers, and underscores.\n",
    "Features can be created within each entity type. Add defining features to the Users entity type and Movies entity type by using the following methods."
   ]
  },
  {
   "cell_type": "markdown",
   "id": "32b9cc2f-39d4-495c-8c1e-76c1ebb83cb2",
   "metadata": {},
   "source": [
    "For Entity-Type 1 i.e. 'taxis'"
   ]
  },
  {
   "cell_type": "code",
   "execution_count": null,
   "id": "07f81ef1-3dbf-433b-8169-23fc7de3c6a3",
   "metadata": {},
   "outputs": [],
   "source": [
    "try:\n",
    "    admin_client.batch_create_features(\n",
    "        parent=admin_client.entity_type_path(\n",
    "                                             PROJECT_ID, \n",
    "                                             REGION, \n",
    "                                             FEATURESTORE_ID, \n",
    "                                             \"taxis\"\n",
    "                                            ),\n",
    "        requests=[\n",
    "            # 1 for each column\n",
    "            featurestore_service_pb2.CreateFeatureRequest(\n",
    "                                                feature=feature_pb2.Feature(\n",
    "                                                    value_type=feature_pb2.Feature.ValueType.INT64,\n",
    "                                                    description=\"10 days rolling trip count of individual taxi\",\n",
    "                                                                           ),\n",
    "                                                feature_id=\"_10d_rolling_trip_count\",\n",
    "                                                         ),\n",
    "            featurestore_service_pb2.CreateFeatureRequest(\n",
    "                                                feature=feature_pb2.Feature(\n",
    "                                                    value_type=feature_pb2.Feature.ValueType.DOUBLE,\n",
    "                                                    description=\"10 days rolling average fare of individual taxi\",\n",
    "                                                                           ),\n",
    "                                                feature_id=\"_10d_rolling_avg_fare\",\n",
    "                                                         ),\n",
    "            featurestore_service_pb2.CreateFeatureRequest(\n",
    "                                                feature=feature_pb2.Feature(\n",
    "                                                    value_type=feature_pb2.Feature.ValueType.DOUBLE,\n",
    "                                                    description=\"10 days rolling average tips of individual taxi\",\n",
    "                                                                           ),\n",
    "                                                feature_id=\"_10d_rolling_avg_tips\",\n",
    "                                                         ),\n",
    "            featurestore_service_pb2.CreateFeatureRequest(\n",
    "                                                feature=feature_pb2.Feature(\n",
    "                                                    value_type=feature_pb2.Feature.ValueType.INT64,\n",
    "                                                    description=\"10 days rolling trip with tips count of individual taxi\",\n",
    "                                                                           ),\n",
    "                                                feature_id=\"_10d_rolling_tips_count\",\n",
    "                                                         ),\n",
    "            featurestore_service_pb2.CreateFeatureRequest(\n",
    "                                                feature=feature_pb2.Feature(\n",
    "                                                    value_type=feature_pb2.Feature.ValueType.DOUBLE,\n",
    "                                                    description=\"10 days rolling average miles of individual taxi\",\n",
    "                                                                           ),\n",
    "                                                feature_id=\"_10d_rolling_avg_miles\",\n",
    "                                                         ),\n",
    "            featurestore_service_pb2.CreateFeatureRequest(\n",
    "                                                feature=feature_pb2.Feature(\n",
    "                                                    value_type=feature_pb2.Feature.ValueType.DOUBLE,\n",
    "                                                    description=\"10 days rolling average trip duration in second of individual taxi\",\n",
    "                                                                           ),\n",
    "                                                feature_id=\"_10d_rolling_avg_seconds\",\n",
    "                                                         ),\n",
    "            featurestore_service_pb2.CreateFeatureRequest(\n",
    "                                                feature=feature_pb2.Feature(\n",
    "                                                    value_type=feature_pb2.Feature.ValueType.DOUBLE,\n",
    "                                                    description=\"10 days rolling probability of trip with tips of individual taxi\",\n",
    "                                                                           ),\n",
    "                                                feature_id=\"_10d_rolling_tips_proba\",\n",
    "                                                         ),\n",
    "                ],\n",
    "    ).result()\n",
    "except Exception as e:\n",
    "    print(e)"
   ]
  },
  {
   "cell_type": "markdown",
   "id": "92b6c43d-af56-4b02-a881-74e80c608030",
   "metadata": {},
   "source": [
    "Adding target/label column"
   ]
  },
  {
   "cell_type": "markdown",
   "id": "05346bf0-d7e9-40a9-982c-f320c35c047b",
   "metadata": {},
   "source": [
    "For Entity-Type 2 i.e. 'companies'"
   ]
  },
  {
   "cell_type": "code",
   "execution_count": null,
   "id": "4290b63b-0a40-4b9a-9cb8-cdae523b3874",
   "metadata": {},
   "outputs": [],
   "source": [
    "try:\n",
    "    admin_client.batch_create_features(\n",
    "        parent=admin_client.entity_type_path(\n",
    "                                             PROJECT_ID, \n",
    "                                             REGION, \n",
    "                                             FEATURESTORE_ID, \n",
    "                                             \"companies\"\n",
    "                                            ),\n",
    "        requests=[\n",
    "            # 1 for each column\n",
    "            featurestore_service_pb2.CreateFeatureRequest(\n",
    "                                                feature=feature_pb2.Feature(\n",
    "                                                    value_type=feature_pb2.Feature.ValueType.INT64,\n",
    "                                                    description=\"10 days rolling trip count of all taxis under company\",\n",
    "                                                                           ),\n",
    "                                                feature_id=\"_10d_rolling_comp_trip_count\",\n",
    "                                                         ),\n",
    "            featurestore_service_pb2.CreateFeatureRequest(\n",
    "                                                feature=feature_pb2.Feature(\n",
    "                                                    value_type=feature_pb2.Feature.ValueType.DOUBLE,\n",
    "                                                    description=\"10 days rolling average fare of all taxis under company\",\n",
    "                                                                           ),\n",
    "                                                feature_id=\"_10d_rolling_comp_avg_fare\",\n",
    "                                                         ),\n",
    "            featurestore_service_pb2.CreateFeatureRequest(\n",
    "                                                feature=feature_pb2.Feature(\n",
    "                                                    value_type=feature_pb2.Feature.ValueType.DOUBLE,\n",
    "                                                    description=\"10 days rolling average tips of all taxis under company\",\n",
    "                                                                           ),\n",
    "                                                feature_id=\"_10d_rolling_comp_avg_tips\",\n",
    "                                                         ),\n",
    "            featurestore_service_pb2.CreateFeatureRequest(\n",
    "                                                feature=feature_pb2.Feature(\n",
    "                                                    value_type=feature_pb2.Feature.ValueType.INT64,\n",
    "                                                    description=\"10 days rolling trip with tips count of all taxis under company\",\n",
    "                                                                           ),\n",
    "                                                feature_id=\"_10d_rolling_comp_tips_count\",\n",
    "                                                         ),\n",
    "            featurestore_service_pb2.CreateFeatureRequest(\n",
    "                                                feature=feature_pb2.Feature(\n",
    "                                                    value_type=feature_pb2.Feature.ValueType.DOUBLE,\n",
    "                                                    description=\"10 days rolling average miles of all taxis under company\",\n",
    "                                                                           ),\n",
    "                                                feature_id=\"_10d_rolling_comp_avg_miles\",\n",
    "                                                         ),\n",
    "            featurestore_service_pb2.CreateFeatureRequest(\n",
    "                                                feature=feature_pb2.Feature(\n",
    "                                                    value_type=feature_pb2.Feature.ValueType.DOUBLE,\n",
    "                                                    description=\"10 days rolling average trip duration in second of all taxis under company\",\n",
    "                                                                           ),\n",
    "                                                feature_id=\"_10d_rolling_comp_avg_seconds\",\n",
    "                                                         ),\n",
    "            featurestore_service_pb2.CreateFeatureRequest(\n",
    "                                                feature=feature_pb2.Feature(\n",
    "                                                    value_type=feature_pb2.Feature.ValueType.DOUBLE,\n",
    "                                                    description=\"10 days rolling probability of trip with tips of all taxis under company\",\n",
    "                                                                           ),\n",
    "                                                feature_id=\"_10d_rolling_comp_tips_proba\",\n",
    "                                                         ),\n",
    "                ],\n",
    "    ).result()\n",
    "except Exception as e:\n",
    "    print(e)"
   ]
  },
  {
   "cell_type": "markdown",
   "id": "18af79c8-b4cf-49bf-ae86-0e6c2c9cb407",
   "metadata": {},
   "source": [
    "## Feature Transformation"
   ]
  },
  {
   "cell_type": "code",
   "execution_count": null,
   "id": "71fcaf63-0bbc-464b-82b8-868e6be9d122",
   "metadata": {},
   "outputs": [],
   "source": [
    "from google.cloud import bigquery\n",
    "\n",
    "client = bigquery.Client(project=PROJECT_ID)"
   ]
  },
  {
   "cell_type": "code",
   "execution_count": null,
   "id": "4cb73d75-ed8e-486e-aa06-0daec67017c0",
   "metadata": {},
   "outputs": [],
   "source": [
    "sql = \"\"\"\n",
    "SELECT \n",
    "    *\n",
    "FROM `bigquery-public-data.chicago_taxi_trips.taxi_trips` where trip_end_timestamp >= '2023-01-01'\n",
    "\"\"\"\n",
    "df = client.query(sql).to_dataframe()"
   ]
  },
  {
   "cell_type": "code",
   "execution_count": null,
   "id": "5996e652-ad05-4c2a-b932-3286e4217c8e",
   "metadata": {},
   "outputs": [],
   "source": [
    "df_all = df.copy()\n",
    "print(df.shape)\n",
    "df.head()"
   ]
  },
  {
   "cell_type": "code",
   "execution_count": null,
   "id": "ba1225bc-11e7-43cd-b223-6052cca7271d",
   "metadata": {},
   "outputs": [],
   "source": [
    "df = df[df['fare']>0]\n",
    "df['tips_percent']=df.apply(lambda x: (x['tips']*100)/x['fare'], axis=1)\n",
    "df['tips_flag'] = df['tips'].transform(lambda x: 1 if x>0 else 0)\n",
    "df['date'] = df['trip_start_timestamp'].transform(lambda x: x.date())\n",
    "df['date'] = df.date.astype('datetime64')\n",
    "print(df.shape)\n",
    "df.head(2)"
   ]
  },
  {
   "cell_type": "code",
   "execution_count": null,
   "id": "571816a6-4f76-4749-b090-43d9a72507e6",
   "metadata": {},
   "outputs": [],
   "source": [
    "print(df.shape)"
   ]
  },
  {
   "cell_type": "code",
   "execution_count": null,
   "id": "00dd1439-5726-465a-ae53-3ffa32f126f4",
   "metadata": {},
   "outputs": [],
   "source": [
    "df_all2 = df.copy()\n",
    "print(df_all2.shape)\n",
    "df_all2.head()"
   ]
  },
  {
   "cell_type": "code",
   "execution_count": null,
   "id": "11a11003-0964-46e0-ae19-5e2194ee3914",
   "metadata": {},
   "outputs": [],
   "source": [
    "company_df = df.copy()\n",
    "company_df = company_df.groupby(['company','date']).agg({'fare':['count','mean'],'tips':'mean','tips_flag':'sum',\n",
    "                                                   'trip_miles':'mean','trip_seconds':'mean'}).reset_index()\n",
    "company_df.columns = company_df.columns.map(''.join)\n",
    "company_df = company_df.rename(columns={'farecount':'comp_trip_count','faremean':'comp_avg_fare','tipsmean':'comp_avg_tips',\n",
    "                                        'tips_flagsum':'comp_tips_count','trip_milesmean':'comp_avg_miles','trip_secondsmean':'comp_avg_seconds'})\n",
    "\n",
    "company_df = company_df.groupby('company').rolling('10D', on='date').agg({'comp_trip_count':'sum','comp_avg_fare':'mean','comp_avg_tips':'mean',\n",
    "                                                          'comp_tips_count':'sum','comp_avg_miles':'mean','comp_avg_seconds':'mean'}).reset_index()\n",
    "company_df.columns = ['_10d_rolling_'+i if i not in ['company','date'] else i for i in company_df.columns]\n",
    "company_df['_10d_rolling_comp_tips_proba'] = company_df.apply(lambda x: x['_10d_rolling_comp_tips_count']/x['_10d_rolling_comp_trip_count'] \n",
    "                                                  if x['_10d_rolling_comp_trip_count']!=0 else 0, axis=1)\n",
    "company_df['update_timestamp'] = company_df['date'].apply(pd.to_datetime, utc=True)\n",
    "company_df['update_timestamp'] = company_df['update_timestamp'].apply(lambda x: x.isoformat())\n",
    "company_df = company_df.drop(columns=['date'])\n",
    "company_df['_10d_rolling_comp_trip_count'] = company_df['_10d_rolling_comp_trip_count'].astype('int')\n",
    "company_df['_10d_rolling_comp_tips_count'] = company_df['_10d_rolling_comp_tips_count'].astype('int')\n",
    "company_df.head()"
   ]
  },
  {
   "cell_type": "code",
   "execution_count": null,
   "id": "80a4258a-b48e-4834-a53c-a5d3c722aa15",
   "metadata": {},
   "outputs": [],
   "source": [
    "taxi_df = df.copy()\n",
    "taxi_df = taxi_df.fillna(0).groupby(['taxi_id','date']).agg({'fare':['count','mean'],'tips':'mean','tips_flag':'sum',\n",
    "                                                   'trip_miles':'mean','trip_seconds':'mean'}).reset_index()\n",
    "taxi_df.columns = taxi_df.columns.map(''.join)\n",
    "taxi_df = taxi_df.rename(columns={'farecount':'trip_count','faremean':'avg_fare','tipsmean':'avg_tips','tips_flagsum':'tips_count',\n",
    "                                  'trip_milesmean':'avg_miles','trip_secondsmean':'avg_seconds'})\n",
    "\n",
    "taxi_df = taxi_df.groupby('taxi_id').rolling('10D', on='date').agg({'trip_count':'sum','avg_fare':'mean','avg_tips':'mean',\n",
    "                                                          'tips_count':'sum','avg_miles':'mean','avg_seconds':'mean'}).reset_index()\n",
    "taxi_df.columns = ['_10d_rolling_'+i if i not in ['taxi_id','date'] else i for i in taxi_df.columns]\n",
    "taxi_df['_10d_rolling_tips_proba'] = taxi_df.apply(lambda x: x['_10d_rolling_tips_count']/x['_10d_rolling_trip_count'] \n",
    "                                                   if x['_10d_rolling_trip_count']!=0 else 0, axis=1)\n",
    "taxi_df['update_timestamp'] = taxi_df['date'].apply(pd.to_datetime, utc=True)\n",
    "taxi_df['update_timestamp'] = taxi_df['update_timestamp'].apply(lambda x: x.isoformat())\n",
    "taxi_df = taxi_df.drop(columns=['date'])\n",
    "taxi_df['_10d_rolling_trip_count'] = taxi_df['_10d_rolling_trip_count'].astype('int')\n",
    "taxi_df['_10d_rolling_tips_count'] = taxi_df['_10d_rolling_tips_count'].astype('int')\n",
    "taxi_df.head()"
   ]
  },
  {
   "cell_type": "code",
   "execution_count": null,
   "id": "6a3152cc-536e-4d7f-95d8-2f1585a5738f",
   "metadata": {},
   "outputs": [],
   "source": [
    "taxi_df_all = taxi_df.copy()\n",
    "print(taxi_df.shape)\n",
    "company_df_all = company_df.copy()\n",
    "company_df.shape"
   ]
  },
  {
   "cell_type": "code",
   "execution_count": null,
   "id": "c2f90af4-5c21-4ffd-a4f0-0ed58898186f",
   "metadata": {},
   "outputs": [],
   "source": [
    "taxi_df = taxi_df[:200]\n",
    "company_df = company_df[:200]"
   ]
  },
  {
   "cell_type": "code",
   "execution_count": null,
   "id": "2da98b53-4d5f-46c1-a644-d988f385c18e",
   "metadata": {},
   "outputs": [],
   "source": [
    "print(f'taxi_df shape: {taxi_df.shape}\\ncompany_df shape: {company_df.shape}')"
   ]
  },
  {
   "cell_type": "code",
   "execution_count": null,
   "id": "85b3c92e-9c22-4816-8905-fc85fd7e1171",
   "metadata": {},
   "outputs": [],
   "source": [
    "TIMESTAMP = datetime.now().strftime(\"%Y%m%d%H%M%S\")\n",
    "taxi_df_csv_filename = f'transformed_taxi_features_{TIMESTAMP}.csv'\n",
    "company_df_csv_filename = f'transformed_company_features_{TIMESTAMP}.csv'\n",
    "\n",
    "taxi_df.to_csv(f'gs://{bucket}/feature_store/transformed/{taxi_df_csv_filename}', index=False)\n",
    "company_df.to_csv(f'gs://{bucket}/feature_store/transformed/{company_df_csv_filename}', index=False)"
   ]
  },
  {
   "cell_type": "markdown",
   "id": "49f5e7dd-dee9-47ef-87af-be6429df54d5",
   "metadata": {},
   "source": [
    "## Import Feature Values\n",
    "You need to import feature values before you can use them for online/offline serving. We can  import feature values from GCS BigQuery or a Pandas dataframe.\n",
    "When importing, specify the following in your request:\n",
    "\n",
    "*   IDs of the features to import \n",
    "*   Data source URI\n",
    "*   Data source format: BigQuery Table/Avro/CSV\n",
    "No matter what format you are using, each imported entity *must* have an ID; also, each entity can *optionally* have a timestamp, specifying when the feature values are generated. "
   ]
  },
  {
   "cell_type": "code",
   "execution_count": null,
   "id": "31247b0a-3e9a-480c-9159-2a614be859e3",
   "metadata": {},
   "outputs": [],
   "source": [
    "def protobuf_timestamp(input_timestamp: str):\n",
    "    import pandas as pd\n",
    "    from google.protobuf.timestamp_pb2 import Timestamp\n",
    "    from datetime import datetime\n",
    "    from dateutil.parser import parse\n",
    "    \n",
    "    output_timestamp = datetime.timestamp(parse(input_timestamp))\n",
    "    seconds = int(output_timestamp)\n",
    "    millis  = int(round((output_timestamp - seconds),3) * 10**9)\n",
    "    output_timestamp = Timestamp(seconds=seconds, nanos=millis)\n",
    "    return output_timestamp"
   ]
  },
  {
   "cell_type": "code",
   "execution_count": null,
   "id": "0c0f9958-f581-4e95-ae67-0ac1d72ad562",
   "metadata": {},
   "outputs": [],
   "source": [
    "df = pd.read_csv(f'gs://{bucket}/feature_store/transformed/{company_df_csv_filename}')\n",
    "df.head()"
   ]
  },
  {
   "cell_type": "code",
   "execution_count": null,
   "id": "7e947548-59a1-45cf-8bc3-81e1cf972b16",
   "metadata": {},
   "outputs": [],
   "source": [
    "pb_timestamp = protobuf_timestamp(df['update_timestamp'][0])"
   ]
  },
  {
   "cell_type": "markdown",
   "id": "23f7971c-b1d3-4d6b-946c-4f88b171c471",
   "metadata": {},
   "source": [
    "Entity-Type 1 'taxis'"
   ]
  },
  {
   "cell_type": "code",
   "execution_count": null,
   "id": "9a202cc2-bbe5-4471-8ff2-8bf1789c50e0",
   "metadata": {},
   "outputs": [],
   "source": [
    "import_users_request = featurestore_service_pb2.ImportFeatureValuesRequest(\n",
    "    entity_type=admin_client.entity_type_path(\n",
    "                                              PROJECT_ID,\n",
    "                                              REGION,\n",
    "                                              FEATURESTORE_ID,\n",
    "                                              \"taxis\"\n",
    "                                             ),\n",
    "    csv_source=io_pb2.CsvSource(\n",
    "                                  # Source\n",
    "                                  gcs_source=io_pb2.GcsSource(\n",
    "                                    uris=[\n",
    "                                          f'gs://{bucket}/feature_store/transformed/{taxi_df_csv_filename}'\n",
    "                                         ]\n",
    "                                                             )\n",
    "                                 ),\n",
    "    entity_id_field=\"taxi_id\",\n",
    "    feature_specs=[\n",
    "                    # Features\n",
    "                    featurestore_service_pb2.ImportFeatureValuesRequest.FeatureSpec(id=\"_10d_rolling_trip_count\"),\n",
    "                    featurestore_service_pb2.ImportFeatureValuesRequest.FeatureSpec(id=\"_10d_rolling_avg_fare\"),\n",
    "                    featurestore_service_pb2.ImportFeatureValuesRequest.FeatureSpec(id=\"_10d_rolling_avg_tips\"),\n",
    "                    featurestore_service_pb2.ImportFeatureValuesRequest.FeatureSpec(id=\"_10d_rolling_tips_count\"),\n",
    "                    featurestore_service_pb2.ImportFeatureValuesRequest.FeatureSpec(id=\"_10d_rolling_avg_miles\"),\n",
    "                    featurestore_service_pb2.ImportFeatureValuesRequest.FeatureSpec(id=\"_10d_rolling_avg_seconds\"),\n",
    "                    featurestore_service_pb2.ImportFeatureValuesRequest.FeatureSpec(id=\"_10d_rolling_tips_proba\"),\n",
    "                  ],\n",
    "    feature_time_field='update_timestamp',\n",
    "    worker_count=1,\n",
    ")"
   ]
  },
  {
   "cell_type": "code",
   "execution_count": null,
   "id": "f93ad7d3-4c02-4ee2-b269-96621baa93a3",
   "metadata": {},
   "outputs": [],
   "source": [
    "# Start to import\n",
    "ingestion_lro = admin_client.import_feature_values(import_users_request)"
   ]
  },
  {
   "cell_type": "code",
   "execution_count": null,
   "id": "84061d14-1956-4ec5-9480-5d941bf31649",
   "metadata": {},
   "outputs": [],
   "source": [
    "# Polls for the LRO status and prints when the LRO has completed\n",
    "ingestion_lro.result()"
   ]
  },
  {
   "cell_type": "markdown",
   "id": "1b49f69e-0f9c-4cc8-a9fd-9b3f560aaa99",
   "metadata": {},
   "source": [
    "**Note**: UI console is showing this ingestion job as success."
   ]
  },
  {
   "cell_type": "markdown",
   "id": "083fdedb-5cbb-4305-9136-b71864227496",
   "metadata": {},
   "source": [
    "Entity-Type 2 'companies'"
   ]
  },
  {
   "cell_type": "code",
   "execution_count": null,
   "id": "e1bc5347-094a-47ed-8a1e-c8148b633c70",
   "metadata": {},
   "outputs": [],
   "source": [
    "import_users_request = featurestore_service_pb2.ImportFeatureValuesRequest(\n",
    "    entity_type=admin_client.entity_type_path(\n",
    "                                              PROJECT_ID,\n",
    "                                              REGION,\n",
    "                                              FEATURESTORE_ID,\n",
    "                                              \"companies\"\n",
    "                                             ),\n",
    "    csv_source=io_pb2.CsvSource(\n",
    "                                  # Source\n",
    "                                  gcs_source=io_pb2.GcsSource(\n",
    "                                    uris=[\n",
    "                                          f'gs://{bucket}/feature_store/transformed/{company_df_csv_filename}'\n",
    "                                         ]\n",
    "                                                             )\n",
    "                                 ),\n",
    "    entity_id_field=\"company\",\n",
    "    feature_specs=[\n",
    "                    # Features\n",
    "                    featurestore_service_pb2.ImportFeatureValuesRequest.FeatureSpec(id=\"_10d_rolling_comp_trip_count\"),\n",
    "                    featurestore_service_pb2.ImportFeatureValuesRequest.FeatureSpec(id=\"_10d_rolling_comp_avg_fare\"),\n",
    "                    featurestore_service_pb2.ImportFeatureValuesRequest.FeatureSpec(id=\"_10d_rolling_comp_avg_tips\"),\n",
    "                    featurestore_service_pb2.ImportFeatureValuesRequest.FeatureSpec(id=\"_10d_rolling_comp_tips_count\"),\n",
    "                    featurestore_service_pb2.ImportFeatureValuesRequest.FeatureSpec(id=\"_10d_rolling_comp_avg_miles\"),\n",
    "                    featurestore_service_pb2.ImportFeatureValuesRequest.FeatureSpec(id=\"_10d_rolling_comp_avg_seconds\"),\n",
    "                    featurestore_service_pb2.ImportFeatureValuesRequest.FeatureSpec(id=\"_10d_rolling_comp_tips_proba\"),\n",
    "                  ],\n",
    "    #feature_time_field='update_timestamp',\n",
    "    feature_time=pb_timestamp,\n",
    "    worker_count=1,\n",
    ")"
   ]
  },
  {
   "cell_type": "code",
   "execution_count": null,
   "id": "adf9299d-e612-41d3-9812-b435f0c03a72",
   "metadata": {},
   "outputs": [],
   "source": [
    "# Start to import\n",
    "ingestion_lro = admin_client.import_feature_values(import_users_request)"
   ]
  },
  {
   "cell_type": "code",
   "execution_count": null,
   "id": "9ebf147d-ef95-4fa4-b9a9-9fdfca88de84",
   "metadata": {},
   "outputs": [],
   "source": [
    "# Polls for the LRO status and prints when the LRO has completed\n",
    "ingestion_lro.result()"
   ]
  },
  {
   "cell_type": "code",
   "execution_count": null,
   "id": "3a5f1ef9-561b-4133-94f7-7bf3f6062902",
   "metadata": {},
   "outputs": [],
   "source": [
    "taxi_df['taxi_id'].values[0]"
   ]
  },
  {
   "cell_type": "markdown",
   "id": "da67c0bc-4677-4c89-83de-9b3e697c7c78",
   "metadata": {},
   "source": [
    "## Online Serving\n",
    "[Online serving](https://cloud.google.com/vertex-ai/docs/featurestore/serving-online)\n",
    "lets you serve feature values for small batches of entities. It's designed for latency-sensitive service, such as online model prediction."
   ]
  },
  {
   "cell_type": "code",
   "execution_count": null,
   "id": "bd17eecf-399a-45a5-b5ac-ccc2f81a8e12",
   "metadata": {},
   "outputs": [],
   "source": [
    "# Fetch the following features\n",
    "feature_selector = FeatureSelector(\n",
    "    id_matcher=IdMatcher(ids=['_10d_rolling_trip_count', '_10d_rolling_avg_fare', '_10d_rolling_avg_tips', '_10d_rolling_tips_count', \n",
    "                              '_10d_rolling_avg_miles', '_10d_rolling_avg_seconds', '_10d_rolling_tips_proba',  'update_timestamp']\n",
    "                        )\n",
    ")\n",
    "data_client.read_feature_values(\n",
    "    featurestore_online_service_pb2.ReadFeatureValuesRequest(\n",
    "        # Fetch from the following feature store/entity type\n",
    "        entity_type=admin_client.entity_type_path(\n",
    "            PROJECT_ID,\n",
    "            REGION,\n",
    "            FEATURESTORE_ID,\n",
    "            'taxis'\n",
    "        ),\n",
    "        # Fetch the user features having a specific ID\n",
    "        entity_id=taxi_df['taxi_id'].values[0],\n",
    "        feature_selector=feature_selector,\n",
    "    )\n",
    ")"
   ]
  },
  {
   "cell_type": "markdown",
   "id": "3d052977-b699-431e-bb17-507aecf11de5",
   "metadata": {},
   "source": [
    "### Read one entity per request\n",
    "\n",
    "With the Python SDK, it is easy to read feature values of one entity. By default, the SDK will return the  latest value of each feature, meaning the feature values with the most recent  timestamp.\n",
    "\n",
    "To read feature values, specify the entity type ID and features to read. By default all the features of an entity type will be selected. The response will output and display the selected entity type ID and the selected feature values as a Pandas dataframe."
   ]
  },
  {
   "cell_type": "code",
   "execution_count": null,
   "id": "ea9c1c4c-d74b-4a53-99b6-6d807c964b14",
   "metadata": {},
   "outputs": [],
   "source": [
    "fs = Featurestore(\n",
    "    featurestore_name=FEATURESTORE_ID,\n",
    "    project=PROJECT_ID,\n",
    "    location=REGION,\n",
    ")\n",
    "print(fs.gca_resource)"
   ]
  },
  {
   "cell_type": "code",
   "execution_count": null,
   "id": "72cb7f3b-d3c5-4df9-ac37-2f9b796f202f",
   "metadata": {},
   "outputs": [],
   "source": [
    "taxis_entity_type = fs.get_entity_type(entity_type_id=\"taxis\")\n",
    "companies_entity_type = fs.get_entity_type(entity_type_id=\"companies\")\n",
    "print(taxis_entity_type)\n",
    "print(companies_entity_type)"
   ]
  },
  {
   "cell_type": "code",
   "execution_count": null,
   "id": "efcfba27-2c2d-4307-bc6e-127531d5d9b0",
   "metadata": {},
   "outputs": [],
   "source": [
    "taxis_entity_type.read(entity_ids=taxi_df['taxi_id'].values[0])"
   ]
  },
  {
   "cell_type": "markdown",
   "id": "b3942820-705e-4906-9a44-f0c084fb35a3",
   "metadata": {},
   "source": [
    "### Read multiple entities per request\n",
    "\n",
    "To read feature values from multiple entities, specify the different entity type IDs. By default all the features of an entity type will be selected. Note that fetching only a small number of entities is recommended when using this SDK due to its latency-sensitive nature."
   ]
  },
  {
   "cell_type": "code",
   "execution_count": null,
   "id": "38097304-b0d5-49c0-9b84-500f174f9d1b",
   "metadata": {},
   "outputs": [],
   "source": [
    "taxis_entity_type.read(entity_ids=[taxi_df['taxi_id'].values[0], taxi_df['taxi_id'].values[1]])"
   ]
  },
  {
   "cell_type": "code",
   "execution_count": null,
   "id": "9e05eaaa-6261-44d3-bd2e-cd9f2a50bb73",
   "metadata": {},
   "outputs": [],
   "source": [
    "# Fetch the following features\n",
    "feature_selector = FeatureSelector(\n",
    "    id_matcher=IdMatcher(ids=['_10d_rolling_comp_trip_count', '_10d_rolling_comp_avg_fare', '_10d_rolling_comp_avg_tips',\n",
    "                              '_10d_rolling_comp_tips_count', '_10d_rolling_comp_avg_miles', '_10d_rolling_comp_avg_seconds',\n",
    "                              '_10d_rolling_comp_tips_proba', 'update_timestamp']\n",
    "                        )\n",
    ")\n",
    "data_client.read_feature_values(\n",
    "    featurestore_online_service_pb2.ReadFeatureValuesRequest(\n",
    "        # Fetch from the following feature store/entity type\n",
    "        entity_type=admin_client.entity_type_path(\n",
    "            PROJECT_ID,\n",
    "            REGION,\n",
    "            FEATURESTORE_ID,\n",
    "            'companies'\n",
    "        ),\n",
    "        # Fetch the user features having a specific ID\n",
    "        entity_id='24 Seven Taxi',\n",
    "        feature_selector=feature_selector,\n",
    "    )\n",
    ")"
   ]
  },
  {
   "cell_type": "markdown",
   "id": "9cf3df74-c70b-4bbe-9f22-e3d1c18798ac",
   "metadata": {},
   "source": [
    "## Create Batch Request CSV File"
   ]
  },
  {
   "cell_type": "code",
   "execution_count": null,
   "id": "1b696fd9-fae1-43e2-879f-868d15d6a799",
   "metadata": {},
   "outputs": [],
   "source": [
    "INPUT_CSV_FILE = f'gs://{bucket}/transformed/feature_store/batch_request.csv'"
   ]
  },
  {
   "cell_type": "code",
   "execution_count": null,
   "id": "4b0d5aa9-aeed-43ca-afd6-dad5c7c638fa",
   "metadata": {},
   "outputs": [],
   "source": [
    "df_all2.head()"
   ]
  },
  {
   "cell_type": "code",
   "execution_count": null,
   "id": "71a74a48-47d4-48cc-9794-01b013d83401",
   "metadata": {},
   "outputs": [],
   "source": [
    "batch_df = df_all2[df_all2['date']<'2023-05-23']"
   ]
  },
  {
   "cell_type": "code",
   "execution_count": null,
   "id": "fc1e6cc2-e4a5-4405-9c08-d74d734c692b",
   "metadata": {},
   "outputs": [],
   "source": [
    "batch_df = batch_df.groupby(['taxi_id','company'])['date'].max().reset_index()"
   ]
  },
  {
   "cell_type": "code",
   "execution_count": null,
   "id": "beeb709f-57d7-471c-9998-c3d7f5314cab",
   "metadata": {},
   "outputs": [],
   "source": [
    "batch_df['timestamp'] = batch_df['date'].apply(pd.to_datetime, utc=True)\n",
    "batch_df['timestamp'] = batch_df['timestamp'].apply(lambda x: x.isoformat())\n",
    "batch_df = batch_df.drop(columns=['date'])\n",
    "batch_df = batch_df.rename(columns={'taxi_id':'taxis','company':'companies'})"
   ]
  },
  {
   "cell_type": "code",
   "execution_count": null,
   "id": "e85d0e76-7ac9-49fd-8575-48481b793d25",
   "metadata": {},
   "outputs": [],
   "source": [
    "batch_df.head()"
   ]
  },
  {
   "cell_type": "code",
   "execution_count": null,
   "id": "00d8861a-c767-43c8-812f-09cde8e0a429",
   "metadata": {},
   "outputs": [],
   "source": [
    "batch_df.to_csv(INPUT_CSV_FILE, index=False)"
   ]
  },
  {
   "cell_type": "markdown",
   "id": "8ab6db12-fd53-4b3d-8b49-6b61d005ae6d",
   "metadata": {},
   "source": [
    "## Create BQ dataset for output"
   ]
  },
  {
   "cell_type": "code",
   "execution_count": null,
   "id": "e8998444-fc34-414d-9b6d-82c72c7a641b",
   "metadata": {},
   "outputs": [],
   "source": [
    "# Output dataset\n",
    "DESTINATION_DATA_SET = \"chicago_taxi\"  # @param {type:\"string\"}\n",
    "\n",
    "# Output table\n",
    "# Make sure that the table does NOT already exists\n",
    "# Reason: BatchReadFeatureValues API cannot overwrite an existing table\n",
    "DESTINATION_TABLE_NAME = \"batch_request\"  # @param {type:\"string\"}\n",
    "TIMESTAMP = datetime.now().strftime(\"%Y%m%d%H%M%S\")\n",
    "DESTINATION_TABLE_NAME = \"{prefix}_{timestamp}\".format(\n",
    "                                                     prefix=DESTINATION_TABLE_NAME,\n",
    "                                                     timestamp=TIMESTAMP\n",
    "                                                    )\n",
    "\n",
    "DESTINATION_PATTERN = \"bq://{project}.{dataset}.{table}\"\n",
    "DESTINATION_TABLE_URI = DESTINATION_PATTERN.format(\n",
    "                                                   project=PROJECT_ID,\n",
    "                                                   dataset=DESTINATION_DATA_SET,\n",
    "                                                   table=DESTINATION_TABLE_NAME\n",
    "                                                  )"
   ]
  },
  {
   "cell_type": "code",
   "execution_count": null,
   "id": "2bf1114a-0184-4db5-be9d-a7300b11c9c9",
   "metadata": {},
   "outputs": [],
   "source": [
    "try:\n",
    "    # Create dataset\n",
    "    client = bigquery.Client(project=PROJECT_ID)\n",
    "    dataset_id = \"{}.{}\".format(client.project, DESTINATION_DATA_SET)\n",
    "    dataset = bigquery.Dataset(dataset_id)\n",
    "    dataset.location = REGION\n",
    "    dataset = client.create_dataset(dataset)\n",
    "\n",
    "    print(\"Created dataset {}.{}\".format(client.project, dataset.dataset_id))\n",
    "except Exception as e:\n",
    "    print(e)"
   ]
  },
  {
   "cell_type": "markdown",
   "id": "b9a8c60c-249d-4899-8782-fd270993b613",
   "metadata": {},
   "source": [
    "## Batch Serving"
   ]
  },
  {
   "cell_type": "code",
   "execution_count": null,
   "id": "db9d3a7d-0d0b-4335-8504-e6d9d4356076",
   "metadata": {},
   "outputs": [],
   "source": [
    "batch_serving_request = featurestore_service_pb2.BatchReadFeatureValuesRequest(\n",
    "    # featurestore info\n",
    "    featurestore=admin_client.featurestore_path(PROJECT_ID,\n",
    "                                                REGION,\n",
    "                                                FEATURESTORE_ID),\n",
    "    # URL for the label data i.e. Table 1\n",
    "    csv_read_instances=io_pb2.CsvSource(gcs_source=io_pb2.GcsSource(uris=[INPUT_CSV_FILE])),\n",
    "    destination=featurestore_service_pb2.FeatureValueDestination(\n",
    "        bigquery_destination=io_pb2.BigQueryDestination(\n",
    "            # Output to BigQuery table created earlier\n",
    "            output_uri=DESTINATION_TABLE_URI\n",
    "        )\n",
    "    ),\n",
    "    entity_type_specs=[\n",
    "        featurestore_service_pb2.BatchReadFeatureValuesRequest.EntityTypeSpec(\n",
    "            # Read the specific features from the 'users' entity-type\n",
    "            entity_type_id=\"taxis\",\n",
    "            feature_selector=FeatureSelector(\n",
    "                id_matcher=IdMatcher(ids=[\n",
    "                    # features, use \"*\" if you want to select all features\n",
    "                    '_10d_rolling_trip_count', '_10d_rolling_avg_fare', '_10d_rolling_avg_tips', '_10d_rolling_tips_count',\n",
    "                    '_10d_rolling_avg_miles', '_10d_rolling_avg_seconds', '_10d_rolling_tips_proba']\n",
    "                                    )\n",
    "            ),\n",
    "        ),\n",
    "        featurestore_service_pb2.BatchReadFeatureValuesRequest.EntityTypeSpec(\n",
    "            # Read the specific feature values of the 'products' entity-type\n",
    "            entity_type_id=\"companies\",\n",
    "            feature_selector=FeatureSelector(\n",
    "                id_matcher=IdMatcher(ids=[\n",
    "                    '_10d_rolling_comp_trip_count', '_10d_rolling_comp_avg_fare', '_10d_rolling_comp_avg_tips',\n",
    "                    '_10d_rolling_comp_tips_count', '_10d_rolling_comp_avg_miles', '_10d_rolling_comp_avg_seconds',\n",
    "                    '_10d_rolling_comp_tips_proba'])\n",
    "            ),\n",
    "        ),\n",
    "    ],\n",
    ")"
   ]
  },
  {
   "cell_type": "code",
   "execution_count": null,
   "id": "11c4a7c7-87b0-4c67-8511-06e154797f90",
   "metadata": {},
   "outputs": [],
   "source": [
    "# Execute the batch read\n",
    "batch_serving_lro = admin_client.batch_read_feature_values(batch_serving_request)"
   ]
  },
  {
   "cell_type": "code",
   "execution_count": null,
   "id": "a03775dd-67b0-4624-aff3-805c6df6ce60",
   "metadata": {},
   "outputs": [],
   "source": [
    "# This long runing operation will poll until the batch read finishes.\n",
    "batch_serving_lro.result()"
   ]
  },
  {
   "cell_type": "markdown",
   "id": "80a7f581-dbd8-4091-81c5-baf862150d32",
   "metadata": {},
   "source": [
    "### List of Feature store functions"
   ]
  },
  {
   "cell_type": "code",
   "execution_count": null,
   "id": "38000d74-86e6-463a-830c-4e67fcc0df69",
   "metadata": {},
   "outputs": [],
   "source": [
    "fs = Featurestore(\n",
    "    featurestore_name=FEATURESTORE_ID,\n",
    "    project=PROJECT_ID,\n",
    "    location=REGION,\n",
    ")\n",
    "print(fs.gca_resource)"
   ]
  },
  {
   "cell_type": "code",
   "execution_count": null,
   "id": "9799096d-ae06-4d85-9cf3-79c409043e53",
   "metadata": {},
   "outputs": [],
   "source": [
    "fs.list_entity_types()"
   ]
  },
  {
   "cell_type": "code",
   "execution_count": null,
   "id": "42f10c2b-17d2-40d5-b998-c6f4bc990ec0",
   "metadata": {},
   "outputs": [],
   "source": [
    "taxis_entity_type = fs.get_entity_type(entity_type_id=\"taxis\")\n",
    "companies_entity_type = fs.get_entity_type(entity_type_id=\"companies\")\n",
    "print(taxis_entity_type)\n",
    "print(companies_entity_type)"
   ]
  },
  {
   "cell_type": "code",
   "execution_count": null,
   "id": "4b0339ff-849d-4366-b0d5-a24ca3272edb",
   "metadata": {},
   "outputs": [],
   "source": [
    "taxis_entity_type.list_features()"
   ]
  },
  {
   "cell_type": "code",
   "execution_count": null,
   "id": "fbc800f8-f705-44d2-9c0d-ecc4f39b5fdc",
   "metadata": {},
   "outputs": [],
   "source": [
    "companies_entity_type.list_features()"
   ]
  },
  {
   "cell_type": "markdown",
   "id": "9fe37612-192b-4e68-ba6a-26b5710b1541",
   "metadata": {},
   "source": [
    "## Search created features\n",
    "\n",
    "While the `list_features` method allows you to easily view all features of a single\n",
    "entity type, the [search](https://github.com/googleapis/python-aiplatform/blob/main/google/cloud/aiplatform/featurestore/feature.py#L352) method in the Feature class searches across all featurestores and entity types in a given location (such as `us-central1`), and returns a list of features. This can help you discover features that were created by someone else.\n",
    "\n",
    "You can query based on feature properties including feature ID, entity type ID, and feature description. You can also limit results by filtering on a specific featurestore, feature value type, and/or labels. Some search examples are shown below. \n",
    "\n",
    "Search for all features within a featurestore with the code snippet below."
   ]
  },
  {
   "cell_type": "code",
   "execution_count": null,
   "id": "b63725cd-2208-4b8a-a039-c904d1d6fa67",
   "metadata": {},
   "outputs": [],
   "source": [
    "my_features = Feature.search(query=\"featurestore_id={}\".format(FEATURESTORE_ID))\n",
    "my_features"
   ]
  },
  {
   "cell_type": "code",
   "execution_count": null,
   "id": "9a06ec92-b71c-4600-8b66-994c258d9b60",
   "metadata": {},
   "outputs": [],
   "source": [
    "double_features = Feature.search(\n",
    "    query=\"value_type=DOUBLE AND featurestore_id={}\".format(FEATURESTORE_ID)\n",
    ")\n",
    "double_features[0].gca_resource"
   ]
  },
  {
   "cell_type": "markdown",
   "id": "f05cb4dc-e385-4a04-857a-4d3a3ba6ba29",
   "metadata": {},
   "source": [
    "Or, limit the search results to features with specific keywords in their ID and type."
   ]
  },
  {
   "cell_type": "code",
   "execution_count": null,
   "id": "05852ce9-42e5-4d80-8cf5-8182eddff418",
   "metadata": {},
   "outputs": [],
   "source": [
    "title_features = Feature.search(\n",
    "    query=\"feature_id:avg_fare AND value_type=DOUBLE AND featurestore_id={}\".format(\n",
    "        FEATURESTORE_ID\n",
    "    )\n",
    ")\n",
    "title_features[0].gca_resource"
   ]
  },
  {
   "cell_type": "code",
   "execution_count": null,
   "id": "d9a2e8d3-7e40-4fd8-b012-39a9ce4984d8",
   "metadata": {},
   "outputs": [],
   "source": [
    "title_features = Feature.search(\n",
    "    query=\"feature_id:_10d_rolling_comp AND value_type=DOUBLE AND featurestore_id={}\".format(\n",
    "        FEATURESTORE_ID\n",
    "    )\n",
    ")\n",
    "title_features[0].gca_resource"
   ]
  },
  {
   "cell_type": "code",
   "execution_count": null,
   "id": "428a7c4a-481f-44e8-8261-a06203bd87de",
   "metadata": {},
   "outputs": [],
   "source": []
  },
  {
   "cell_type": "markdown",
   "id": "8d6eb77e-5756-40d3-b10e-994ef57410a2",
   "metadata": {},
   "source": [
    "# Delete Feature Store"
   ]
  },
  {
   "cell_type": "markdown",
   "id": "501044a3-2df3-4b2c-9c60-56107bbb0ce2",
   "metadata": {},
   "source": [
    "admin_client.delete_featurestore(\n",
    "    request=featurestore_service_pb2.DeleteFeaturestoreRequest(\n",
    "        name=admin_client.featurestore_path('mwp-mlops-black-friday-350521', 'us-central1', 'teststore2'),\n",
    "        force=True,\n",
    "    )\n",
    ").result()"
   ]
  },
  {
   "cell_type": "code",
   "execution_count": null,
   "id": "1dc2d136-8dda-46f4-8239-050a78d7d31c",
   "metadata": {},
   "outputs": [],
   "source": [
    "print('test')"
   ]
  },
  {
   "cell_type": "code",
   "execution_count": null,
   "id": "3fafa92c-09c9-461c-afeb-4e23acee579f",
   "metadata": {},
   "outputs": [],
   "source": []
  }
 ],
 "metadata": {
  "environment": {
   "kernel": "python3",
   "name": "common-cpu.m105",
   "type": "gcloud",
   "uri": "gcr.io/deeplearning-platform-release/base-cpu:m105"
  },
  "kernelspec": {
   "display_name": "Python 3 (ipykernel)",
   "language": "python",
   "name": "python3"
  },
  "language_info": {
   "codemirror_mode": {
    "name": "ipython",
    "version": 3
   },
   "file_extension": ".py",
   "mimetype": "text/x-python",
   "name": "python",
   "nbconvert_exporter": "python",
   "pygments_lexer": "ipython3",
   "version": "3.7.12"
  }
 },
 "nbformat": 4,
 "nbformat_minor": 5
}

{
 "cells": [
  {
   "cell_type": "markdown",
   "id": "e8ba7f4f",
   "metadata": {},
   "source": [
    "# 01 - Data Analysis and Preparation\n",
    "\n",
    "This notebook covers the following tasks:\n",
    "\n",
    "1. Perform exploratory data analysis and visualization.\n",
    "2. Prepare the data for the ML task in BigQuery.\n",
    "3. Generate and fix a ` TFDV schema` for the source data.\n",
    "4. Create a `Vertex Dataset resource` dataset.\n"
   ]
  },
  {
   "cell_type": "markdown",
   "id": "b481a247",
   "metadata": {},
   "source": [
    "## Dataset\n",
    "\n",
    "The [Chicago Taxi Trips](https://pantheon.corp.google.com/marketplace/details/city-of-chicago-public-data/chicago-taxi-trips) dataset is one of [public datasets hosted with BigQuery](https://cloud.google.com/bigquery/public-data/), which includes taxi trips from 2013 to the present, reported to the City of Chicago in its role as a regulatory agency. The `taxi_trips` table size is 70.72 GB and includes more than 195 million records. The dataset includes information about the trips, like pickup and dropoff datetime and location, passengers count, miles travelled, and trip toll. \n",
    "\n",
    "The ML task is to predict whether a given trip will result in a tip > 20%."
   ]
  },
  {
   "cell_type": "markdown",
   "id": "4fedd0ac",
   "metadata": {},
   "source": [
    "## Setup"
   ]
  },
  {
   "cell_type": "markdown",
   "id": "b25967c9",
   "metadata": {},
   "source": [
    "### Import libraries"
   ]
  },
  {
   "cell_type": "code",
   "execution_count": 1,
   "id": "fa2cf3f1",
   "metadata": {},
   "outputs": [
    {
     "name": "stderr",
     "output_type": "stream",
     "text": [
      "2023-03-27 18:21:48.591622: W tensorflow/stream_executor/platform/default/dso_loader.cc:64] Could not load dynamic library 'libcudart.so.11.0'; dlerror: libcudart.so.11.0: cannot open shared object file: No such file or directory\n",
      "2023-03-27 18:21:48.591670: I tensorflow/stream_executor/cuda/cudart_stub.cc:29] Ignore above cudart dlerror if you do not have a GPU set up on your machine.\n"
     ]
    }
   ],
   "source": [
    "import os\n",
    "import pandas as pd\n",
    "import tensorflow as tf\n",
    "import tensorflow_data_validation as tfdv\n",
    "from google.cloud import bigquery\n",
    "import matplotlib.pyplot as plt\n",
    "\n",
    "from google.cloud import aiplatform as vertex_ai"
   ]
  },
  {
   "cell_type": "markdown",
   "id": "9bd0ee37",
   "metadata": {},
   "source": [
    "### Setup Google Cloud project"
   ]
  },
  {
   "cell_type": "code",
   "execution_count": 2,
   "id": "c7e4712e",
   "metadata": {},
   "outputs": [
    {
     "name": "stdout",
     "output_type": "stream",
     "text": [
      "Project ID: ds-training-380514\n",
      "Region: us-central1\n"
     ]
    }
   ],
   "source": [
    "PROJECT = '[your-project-id]' # Change to your project id.\n",
    "REGION = 'us-central1' # Change to your region.\n",
    "\n",
    "if PROJECT == \"\" or PROJECT is None or PROJECT == \"[your-project-id]\":\n",
    "    # Get your GCP project id from gcloud\n",
    "    shell_output = !gcloud config list --format 'value(core.project)' 2>/dev/null\n",
    "    PROJECT = shell_output[0]\n",
    "    \n",
    "print(\"Project ID:\", PROJECT)\n",
    "print(\"Region:\", REGION)"
   ]
  },
  {
   "cell_type": "markdown",
   "id": "384a817b",
   "metadata": {},
   "source": [
    "### Set configurations"
   ]
  },
  {
   "cell_type": "code",
   "execution_count": 3,
   "id": "b71d0738",
   "metadata": {},
   "outputs": [],
   "source": [
    "BQ_DATASET_NAME = 'playground_us' # Change to your BQ dataset name.\n",
    "BQ_TABLE_NAME = 'chicago_taxitrips_prep'\n",
    "BQ_LOCATION = 'US'\n",
    "\n",
    "DATASET_DISPLAY_NAME = 'chicago-taxi-tips'\n",
    "\n",
    "RAW_SCHEMA_DIR = 'src/raw_schema'"
   ]
  },
  {
   "cell_type": "markdown",
   "id": "39395512",
   "metadata": {},
   "source": [
    "## 1. Explore the data in BigQuery"
   ]
  },
  {
   "cell_type": "code",
   "execution_count": 4,
   "id": "9e4300d3",
   "metadata": {},
   "outputs": [
    {
     "data": {
      "application/vnd.jupyter.widget-view+json": {
       "model_id": "53338f50a807418fbd0124ab48db6f60",
       "version_major": 2,
       "version_minor": 0
      },
      "text/plain": [
       "Query is running:   0%|          |"
      ]
     },
     "metadata": {},
     "output_type": "display_data"
    },
    {
     "data": {
      "application/vnd.jupyter.widget-view+json": {
       "model_id": "110abf570db04a4e9830a69185b76279",
       "version_major": 2,
       "version_minor": 0
      },
      "text/plain": [
       "Downloading:   0%|          |"
      ]
     },
     "metadata": {},
     "output_type": "display_data"
    }
   ],
   "source": [
    "%%bigquery data\n",
    "\n",
    "SELECT \n",
    "    CAST(EXTRACT(DAYOFWEEK FROM trip_start_timestamp) AS string) AS trip_dayofweek, \n",
    "    FORMAT_DATE('%A',cast(trip_start_timestamp as date)) AS trip_dayname,\n",
    "    COUNT(*) as trip_count,\n",
    "FROM `bigquery-public-data.chicago_taxi_trips.taxi_trips`\n",
    "WHERE\n",
    "    EXTRACT(YEAR FROM trip_start_timestamp) = 2015 \n",
    "GROUP BY\n",
    "    trip_dayofweek,\n",
    "    trip_dayname\n",
    "ORDER BY\n",
    "    trip_dayofweek\n",
    ";"
   ]
  },
  {
   "cell_type": "code",
   "execution_count": 5,
   "id": "699804c5",
   "metadata": {},
   "outputs": [
    {
     "data": {
      "text/html": [
       "<div>\n",
       "<style scoped>\n",
       "    .dataframe tbody tr th:only-of-type {\n",
       "        vertical-align: middle;\n",
       "    }\n",
       "\n",
       "    .dataframe tbody tr th {\n",
       "        vertical-align: top;\n",
       "    }\n",
       "\n",
       "    .dataframe thead th {\n",
       "        text-align: right;\n",
       "    }\n",
       "</style>\n",
       "<table border=\"1\" class=\"dataframe\">\n",
       "  <thead>\n",
       "    <tr style=\"text-align: right;\">\n",
       "      <th></th>\n",
       "      <th>trip_dayofweek</th>\n",
       "      <th>trip_dayname</th>\n",
       "      <th>trip_count</th>\n",
       "    </tr>\n",
       "  </thead>\n",
       "  <tbody>\n",
       "    <tr>\n",
       "      <th>0</th>\n",
       "      <td>1</td>\n",
       "      <td>Sunday</td>\n",
       "      <td>4141130</td>\n",
       "    </tr>\n",
       "    <tr>\n",
       "      <th>1</th>\n",
       "      <td>2</td>\n",
       "      <td>Monday</td>\n",
       "      <td>4105815</td>\n",
       "    </tr>\n",
       "    <tr>\n",
       "      <th>2</th>\n",
       "      <td>3</td>\n",
       "      <td>Tuesday</td>\n",
       "      <td>4378750</td>\n",
       "    </tr>\n",
       "    <tr>\n",
       "      <th>3</th>\n",
       "      <td>4</td>\n",
       "      <td>Wednesday</td>\n",
       "      <td>4542711</td>\n",
       "    </tr>\n",
       "    <tr>\n",
       "      <th>4</th>\n",
       "      <td>5</td>\n",
       "      <td>Thursday</td>\n",
       "      <td>4918158</td>\n",
       "    </tr>\n",
       "    <tr>\n",
       "      <th>5</th>\n",
       "      <td>6</td>\n",
       "      <td>Friday</td>\n",
       "      <td>5289798</td>\n",
       "    </tr>\n",
       "    <tr>\n",
       "      <th>6</th>\n",
       "      <td>7</td>\n",
       "      <td>Saturday</td>\n",
       "      <td>5009165</td>\n",
       "    </tr>\n",
       "  </tbody>\n",
       "</table>\n",
       "</div>"
      ],
      "text/plain": [
       "  trip_dayofweek trip_dayname  trip_count\n",
       "0              1       Sunday     4141130\n",
       "1              2       Monday     4105815\n",
       "2              3      Tuesday     4378750\n",
       "3              4    Wednesday     4542711\n",
       "4              5     Thursday     4918158\n",
       "5              6       Friday     5289798\n",
       "6              7     Saturday     5009165"
      ]
     },
     "execution_count": 5,
     "metadata": {},
     "output_type": "execute_result"
    }
   ],
   "source": [
    "data"
   ]
  },
  {
   "cell_type": "code",
   "execution_count": 6,
   "id": "a7f2447e",
   "metadata": {},
   "outputs": [
    {
     "data": {
      "text/plain": [
       "<AxesSubplot:xlabel='trip_dayname'>"
      ]
     },
     "execution_count": 6,
     "metadata": {},
     "output_type": "execute_result"
    },
    {
     "data": {
      "image/png": "[encoded data removed]",
      "text/plain": [
       "<Figure size 640x480 with 1 Axes>"
      ]
     },
     "metadata": {},
     "output_type": "display_data"
    }
   ],
   "source": [
    "data.plot(kind='bar', x='trip_dayname', y='trip_count')"
   ]
  },
  {
   "cell_type": "markdown",
   "id": "a7782c69",
   "metadata": {},
   "source": [
    "## 2. Create data for the ML task\n",
    "\n",
    "We add a `ML_use` column for pre-splitting the data, where 80% of the datsa items are set to `UNASSIGNED` while the other 20% is set to `TEST`.\n",
    "\n",
    "This column is used during training to split the dataset for training and test.\n",
    "\n",
    "In the training phase, the `UNASSIGNED` are split into `train` and `eval`. The `TEST` split is will be used for the final model validation."
   ]
  },
  {
   "cell_type": "markdown",
   "id": "7987d132",
   "metadata": {},
   "source": [
    "### Create destination BigQuery dataset"
   ]
  },
  {
   "cell_type": "code",
   "execution_count": 7,
   "id": "56a7f6d6",
   "metadata": {},
   "outputs": [
    {
     "name": "stdout",
     "output_type": "stream",
     "text": [
      "BigQuery error in mk operation: Dataset 'ds-training-380514:playground_us'\n",
      "already exists.\n",
      "If the error provided does not help solve your issue, please run the command\n",
      "again with the `--apilog=stderr flag`.\n"
     ]
    }
   ],
   "source": [
    "!bq --location=US mk -d \\\n",
    "$PROJECT:$BQ_DATASET_NAME"
   ]
  },
  {
   "cell_type": "code",
   "execution_count": 8,
   "id": "832f99ba",
   "metadata": {},
   "outputs": [],
   "source": [
    "sample_size = 1000000\n",
    "year = 2020"
   ]
  },
  {
   "cell_type": "code",
   "execution_count": 9,
   "id": "1b19789f",
   "metadata": {},
   "outputs": [],
   "source": [
    "sql_script = '''\n",
    "CREATE OR REPLACE TABLE `@PROJECT.@DATASET.@TABLE` \n",
    "AS (\n",
    "    WITH\n",
    "      taxitrips AS (\n",
    "      SELECT\n",
    "        trip_start_timestamp,\n",
    "        trip_seconds,\n",
    "        trip_miles,\n",
    "        payment_type,\n",
    "        pickup_longitude,\n",
    "        pickup_latitude,\n",
    "        dropoff_longitude,\n",
    "        dropoff_latitude,\n",
    "        tips,\n",
    "        fare\n",
    "      FROM\n",
    "        `bigquery-public-data.chicago_taxi_trips.taxi_trips`\n",
    "      WHERE 1=1 \n",
    "      AND pickup_longitude IS NOT NULL\n",
    "      AND pickup_latitude IS NOT NULL\n",
    "      AND dropoff_longitude IS NOT NULL\n",
    "      AND dropoff_latitude IS NOT NULL\n",
    "      AND trip_miles > 0\n",
    "      AND trip_seconds > 0\n",
    "      AND fare > 0\n",
    "      AND EXTRACT(YEAR FROM trip_start_timestamp) = @YEAR\n",
    "    )\n",
    "\n",
    "    SELECT\n",
    "      trip_start_timestamp,\n",
    "      EXTRACT(MONTH from trip_start_timestamp) as trip_month,\n",
    "      EXTRACT(DAY from trip_start_timestamp) as trip_day,\n",
    "      EXTRACT(DAYOFWEEK from trip_start_timestamp) as trip_day_of_week,\n",
    "      EXTRACT(HOUR from trip_start_timestamp) as trip_hour,\n",
    "      trip_seconds,\n",
    "      trip_miles,\n",
    "      payment_type,\n",
    "      ST_AsText(\n",
    "          ST_SnapToGrid(ST_GeogPoint(pickup_longitude, pickup_latitude), 0.1)\n",
    "      ) AS pickup_grid,\n",
    "      ST_AsText(\n",
    "          ST_SnapToGrid(ST_GeogPoint(dropoff_longitude, dropoff_latitude), 0.1)\n",
    "      ) AS dropoff_grid,\n",
    "      ST_Distance(\n",
    "          ST_GeogPoint(pickup_longitude, pickup_latitude), \n",
    "          ST_GeogPoint(dropoff_longitude, dropoff_latitude)\n",
    "      ) AS euclidean,\n",
    "      CONCAT(\n",
    "          ST_AsText(ST_SnapToGrid(ST_GeogPoint(pickup_longitude,\n",
    "              pickup_latitude), 0.1)), \n",
    "          ST_AsText(ST_SnapToGrid(ST_GeogPoint(dropoff_longitude,\n",
    "              dropoff_latitude), 0.1))\n",
    "      ) AS loc_cross,\n",
    "      IF((tips/fare >= 0.2), 1, 0) AS tip_bin,\n",
    "      IF(RAND() <= 0.8, 'UNASSIGNED', 'TEST') AS ML_use\n",
    "    FROM\n",
    "      taxitrips\n",
    "    LIMIT @LIMIT\n",
    ")\n",
    "'''"
   ]
  },
  {
   "cell_type": "code",
   "execution_count": 10,
   "id": "6f1d2837",
   "metadata": {},
   "outputs": [],
   "source": [
    "sql_script = sql_script.replace(\n",
    "    '@PROJECT', PROJECT).replace(\n",
    "    '@DATASET', BQ_DATASET_NAME).replace(\n",
    "    '@TABLE', BQ_TABLE_NAME).replace(\n",
    "    '@YEAR', str(year)).replace(\n",
    "    '@LIMIT', str(sample_size))"
   ]
  },
  {
   "cell_type": "code",
   "execution_count": 11,
   "id": "27acb6b5",
   "metadata": {},
   "outputs": [
    {
     "name": "stdout",
     "output_type": "stream",
     "text": [
      "\n",
      "CREATE OR REPLACE TABLE `ds-training-380514.playground_us.chicago_taxitrips_prep` \n",
      "AS (\n",
      "    WITH\n",
      "      taxitrips AS (\n",
      "      SELECT\n",
      "        trip_start_timestamp,\n",
      "        trip_seconds,\n",
      "        trip_miles,\n",
      "        payment_type,\n",
      "        pickup_longitude,\n",
      "        pickup_latitude,\n",
      "        dropoff_longitude,\n",
      "        dropoff_latitude,\n",
      "        tips,\n",
      "        fare\n",
      "      FROM\n",
      "        `bigquery-public-data.chicago_taxi_trips.taxi_trips`\n",
      "      WHERE 1=1 \n",
      "      AND pickup_longitude IS NOT NULL\n",
      "      AND pickup_latitude IS NOT NULL\n",
      "      AND dropoff_longitude IS NOT NULL\n",
      "      AND dropoff_latitude IS NOT NULL\n",
      "      AND trip_miles > 0\n",
      "      AND trip_seconds > 0\n",
      "      AND fare > 0\n",
      "      AND EXTRACT(YEAR FROM trip_start_timestamp) = 2020\n",
      "    )\n",
      "\n",
      "    SELECT\n",
      "      trip_start_timestamp,\n",
      "      EXTRACT(MONTH from trip_start_timestamp) as trip_month,\n",
      "      EXTRACT(DAY from trip_start_timestamp) as trip_day,\n",
      "      EXTRACT(DAYOFWEEK from trip_start_timestamp) as trip_day_of_week,\n",
      "      EXTRACT(HOUR from trip_start_timestamp) as trip_hour,\n",
      "      trip_seconds,\n",
      "      trip_miles,\n",
      "      payment_type,\n",
      "      ST_AsText(\n",
      "          ST_SnapToGrid(ST_GeogPoint(pickup_longitude, pickup_latitude), 0.1)\n",
      "      ) AS pickup_grid,\n",
      "      ST_AsText(\n",
      "          ST_SnapToGrid(ST_GeogPoint(dropoff_longitude, dropoff_latitude), 0.1)\n",
      "      ) AS dropoff_grid,\n",
      "      ST_Distance(\n",
      "          ST_GeogPoint(pickup_longitude, pickup_latitude), \n",
      "          ST_GeogPoint(dropoff_longitude, dropoff_latitude)\n",
      "      ) AS euclidean,\n",
      "      CONCAT(\n",
      "          ST_AsText(ST_SnapToGrid(ST_GeogPoint(pickup_longitude,\n",
      "              pickup_latitude), 0.1)), \n",
      "          ST_AsText(ST_SnapToGrid(ST_GeogPoint(dropoff_longitude,\n",
      "              dropoff_latitude), 0.1))\n",
      "      ) AS loc_cross,\n",
      "      IF((tips/fare >= 0.2), 1, 0) AS tip_bin,\n",
      "      IF(RAND() <= 0.8, 'UNASSIGNED', 'TEST') AS ML_use\n",
      "    FROM\n",
      "      taxitrips\n",
      "    LIMIT 1000000\n",
      ")\n",
      "\n"
     ]
    }
   ],
   "source": [
    "print(sql_script)"
   ]
  },
  {
   "cell_type": "code",
   "execution_count": 12,
   "id": "88f31e8c",
   "metadata": {},
   "outputs": [],
   "source": [
    "bq_client = bigquery.Client(project=PROJECT, location=BQ_LOCATION)\n",
    "job = bq_client.query(sql_script)\n",
    "_ = job.result()"
   ]
  },
  {
   "cell_type": "code",
   "execution_count": 13,
   "id": "b32eea6f",
   "metadata": {},
   "outputs": [
    {
     "data": {
      "application/vnd.jupyter.widget-view+json": {
       "model_id": "9fc8dc7bcc434e96b5f880a59a859e36",
       "version_major": 2,
       "version_minor": 0
      },
      "text/plain": [
       "Query is running:   0%|          |"
      ]
     },
     "metadata": {},
     "output_type": "display_data"
    },
    {
     "data": {
      "application/vnd.jupyter.widget-view+json": {
       "model_id": "02d9b8f4b91949ad9264b56804f29c7a",
       "version_major": 2,
       "version_minor": 0
      },
      "text/plain": [
       "Downloading:   0%|          |"
      ]
     },
     "metadata": {},
     "output_type": "display_data"
    },
    {
     "data": {
      "text/html": [
       "<div>\n",
       "<style scoped>\n",
       "    .dataframe tbody tr th:only-of-type {\n",
       "        vertical-align: middle;\n",
       "    }\n",
       "\n",
       "    .dataframe tbody tr th {\n",
       "        vertical-align: top;\n",
       "    }\n",
       "\n",
       "    .dataframe thead th {\n",
       "        text-align: right;\n",
       "    }\n",
       "</style>\n",
       "<table border=\"1\" class=\"dataframe\">\n",
       "  <thead>\n",
       "    <tr style=\"text-align: right;\">\n",
       "      <th></th>\n",
       "      <th>ML_use</th>\n",
       "      <th>f0_</th>\n",
       "    </tr>\n",
       "  </thead>\n",
       "  <tbody>\n",
       "    <tr>\n",
       "      <th>0</th>\n",
       "      <td>UNASSIGNED</td>\n",
       "      <td>800277</td>\n",
       "    </tr>\n",
       "    <tr>\n",
       "      <th>1</th>\n",
       "      <td>TEST</td>\n",
       "      <td>199723</td>\n",
       "    </tr>\n",
       "  </tbody>\n",
       "</table>\n",
       "</div>"
      ],
      "text/plain": [
       "       ML_use     f0_\n",
       "0  UNASSIGNED  800277\n",
       "1        TEST  199723"
      ]
     },
     "execution_count": 13,
     "metadata": {},
     "output_type": "execute_result"
    }
   ],
   "source": [
    "%%bigquery --project {PROJECT}\n",
    "\n",
    "SELECT ML_use, COUNT(*)\n",
    "FROM playground_us.chicago_taxitrips_prep # Change to your BQ dataset and table names.\n",
    "GROUP BY ML_use"
   ]
  },
  {
   "cell_type": "markdown",
   "id": "7fcc75fc",
   "metadata": {},
   "source": [
    "### Load a sample data to a Pandas DataFrame"
   ]
  },
  {
   "cell_type": "code",
   "execution_count": 14,
   "id": "f252a846",
   "metadata": {},
   "outputs": [
    {
     "data": {
      "application/vnd.jupyter.widget-view+json": {
       "model_id": "40376cb859a7440aa012fa0fd59c6281",
       "version_major": 2,
       "version_minor": 0
      },
      "text/plain": [
       "Query is running:   0%|          |"
      ]
     },
     "metadata": {},
     "output_type": "display_data"
    },
    {
     "data": {
      "application/vnd.jupyter.widget-view+json": {
       "model_id": "8aef1d45095f476fb46c35dabf62694e",
       "version_major": 2,
       "version_minor": 0
      },
      "text/plain": [
       "Downloading:   0%|          |"
      ]
     },
     "metadata": {},
     "output_type": "display_data"
    }
   ],
   "source": [
    "%%bigquery sample_data --project {PROJECT}\n",
    "\n",
    "SELECT * EXCEPT (trip_start_timestamp, ML_use)\n",
    "FROM playground_us.chicago_taxitrips_prep # Change to your BQ dataset and table names."
   ]
  },
  {
   "cell_type": "code",
   "execution_count": 15,
   "id": "798809d2",
   "metadata": {},
   "outputs": [
    {
     "data": {
      "text/html": [
       "<div>\n",
       "<style scoped>\n",
       "    .dataframe tbody tr th:only-of-type {\n",
       "        vertical-align: middle;\n",
       "    }\n",
       "\n",
       "    .dataframe tbody tr th {\n",
       "        vertical-align: top;\n",
       "    }\n",
       "\n",
       "    .dataframe thead th {\n",
       "        text-align: right;\n",
       "    }\n",
       "</style>\n",
       "<table border=\"1\" class=\"dataframe\">\n",
       "  <thead>\n",
       "    <tr style=\"text-align: right;\">\n",
       "      <th></th>\n",
       "      <th>0</th>\n",
       "      <th>1</th>\n",
       "      <th>2</th>\n",
       "      <th>3</th>\n",
       "      <th>4</th>\n",
       "    </tr>\n",
       "  </thead>\n",
       "  <tbody>\n",
       "    <tr>\n",
       "      <th>trip_month</th>\n",
       "      <td>1</td>\n",
       "      <td>2</td>\n",
       "      <td>2</td>\n",
       "      <td>1</td>\n",
       "      <td>2</td>\n",
       "    </tr>\n",
       "    <tr>\n",
       "      <th>trip_day</th>\n",
       "      <td>19</td>\n",
       "      <td>10</td>\n",
       "      <td>10</td>\n",
       "      <td>29</td>\n",
       "      <td>7</td>\n",
       "    </tr>\n",
       "    <tr>\n",
       "      <th>trip_day_of_week</th>\n",
       "      <td>1</td>\n",
       "      <td>2</td>\n",
       "      <td>2</td>\n",
       "      <td>4</td>\n",
       "      <td>6</td>\n",
       "    </tr>\n",
       "    <tr>\n",
       "      <th>trip_hour</th>\n",
       "      <td>0</td>\n",
       "      <td>17</td>\n",
       "      <td>17</td>\n",
       "      <td>7</td>\n",
       "      <td>11</td>\n",
       "    </tr>\n",
       "    <tr>\n",
       "      <th>trip_seconds</th>\n",
       "      <td>356</td>\n",
       "      <td>621</td>\n",
       "      <td>1093</td>\n",
       "      <td>7</td>\n",
       "      <td>229</td>\n",
       "    </tr>\n",
       "    <tr>\n",
       "      <th>trip_miles</th>\n",
       "      <td>1.64</td>\n",
       "      <td>1.1</td>\n",
       "      <td>0.75</td>\n",
       "      <td>0.03</td>\n",
       "      <td>0.49</td>\n",
       "    </tr>\n",
       "    <tr>\n",
       "      <th>payment_type</th>\n",
       "      <td>Cash</td>\n",
       "      <td>Credit Card</td>\n",
       "      <td>Cash</td>\n",
       "      <td>Cash</td>\n",
       "      <td>Cash</td>\n",
       "    </tr>\n",
       "    <tr>\n",
       "      <th>pickup_grid</th>\n",
       "      <td>POINT(-87.6 42)</td>\n",
       "      <td>POINT(-87.6 42)</td>\n",
       "      <td>POINT(-87.6 42)</td>\n",
       "      <td>POINT(-87.6 42)</td>\n",
       "      <td>POINT(-87.6 42)</td>\n",
       "    </tr>\n",
       "    <tr>\n",
       "      <th>dropoff_grid</th>\n",
       "      <td>POINT(-87.6 42)</td>\n",
       "      <td>POINT(-87.6 42)</td>\n",
       "      <td>POINT(-87.6 42)</td>\n",
       "      <td>POINT(-87.6 42)</td>\n",
       "      <td>POINT(-87.6 42)</td>\n",
       "    </tr>\n",
       "    <tr>\n",
       "      <th>euclidean</th>\n",
       "      <td>0.0</td>\n",
       "      <td>0.0</td>\n",
       "      <td>0.0</td>\n",
       "      <td>0.0</td>\n",
       "      <td>0.0</td>\n",
       "    </tr>\n",
       "    <tr>\n",
       "      <th>loc_cross</th>\n",
       "      <td>POINT(-87.6 42)POINT(-87.6 42)</td>\n",
       "      <td>POINT(-87.6 42)POINT(-87.6 42)</td>\n",
       "      <td>POINT(-87.6 42)POINT(-87.6 42)</td>\n",
       "      <td>POINT(-87.6 42)POINT(-87.6 42)</td>\n",
       "      <td>POINT(-87.6 42)POINT(-87.6 42)</td>\n",
       "    </tr>\n",
       "    <tr>\n",
       "      <th>tip_bin</th>\n",
       "      <td>0</td>\n",
       "      <td>1</td>\n",
       "      <td>0</td>\n",
       "      <td>0</td>\n",
       "      <td>0</td>\n",
       "    </tr>\n",
       "  </tbody>\n",
       "</table>\n",
       "</div>"
      ],
      "text/plain": [
       "                                               0  \\\n",
       "trip_month                                     1   \n",
       "trip_day                                      19   \n",
       "trip_day_of_week                               1   \n",
       "trip_hour                                      0   \n",
       "trip_seconds                                 356   \n",
       "trip_miles                                  1.64   \n",
       "payment_type                                Cash   \n",
       "pickup_grid                      POINT(-87.6 42)   \n",
       "dropoff_grid                     POINT(-87.6 42)   \n",
       "euclidean                                    0.0   \n",
       "loc_cross         POINT(-87.6 42)POINT(-87.6 42)   \n",
       "tip_bin                                        0   \n",
       "\n",
       "                                               1  \\\n",
       "trip_month                                     2   \n",
       "trip_day                                      10   \n",
       "trip_day_of_week                               2   \n",
       "trip_hour                                     17   \n",
       "trip_seconds                                 621   \n",
       "trip_miles                                   1.1   \n",
       "payment_type                         Credit Card   \n",
       "pickup_grid                      POINT(-87.6 42)   \n",
       "dropoff_grid                     POINT(-87.6 42)   \n",
       "euclidean                                    0.0   \n",
       "loc_cross         POINT(-87.6 42)POINT(-87.6 42)   \n",
       "tip_bin                                        1   \n",
       "\n",
       "                                               2  \\\n",
       "trip_month                                     2   \n",
       "trip_day                                      10   \n",
       "trip_day_of_week                               2   \n",
       "trip_hour                                     17   \n",
       "trip_seconds                                1093   \n",
       "trip_miles                                  0.75   \n",
       "payment_type                                Cash   \n",
       "pickup_grid                      POINT(-87.6 42)   \n",
       "dropoff_grid                     POINT(-87.6 42)   \n",
       "euclidean                                    0.0   \n",
       "loc_cross         POINT(-87.6 42)POINT(-87.6 42)   \n",
       "tip_bin                                        0   \n",
       "\n",
       "                                               3  \\\n",
       "trip_month                                     1   \n",
       "trip_day                                      29   \n",
       "trip_day_of_week                               4   \n",
       "trip_hour                                      7   \n",
       "trip_seconds                                   7   \n",
       "trip_miles                                  0.03   \n",
       "payment_type                                Cash   \n",
       "pickup_grid                      POINT(-87.6 42)   \n",
       "dropoff_grid                     POINT(-87.6 42)   \n",
       "euclidean                                    0.0   \n",
       "loc_cross         POINT(-87.6 42)POINT(-87.6 42)   \n",
       "tip_bin                                        0   \n",
       "\n",
       "                                               4  \n",
       "trip_month                                     2  \n",
       "trip_day                                       7  \n",
       "trip_day_of_week                               6  \n",
       "trip_hour                                     11  \n",
       "trip_seconds                                 229  \n",
       "trip_miles                                  0.49  \n",
       "payment_type                                Cash  \n",
       "pickup_grid                      POINT(-87.6 42)  \n",
       "dropoff_grid                     POINT(-87.6 42)  \n",
       "euclidean                                    0.0  \n",
       "loc_cross         POINT(-87.6 42)POINT(-87.6 42)  \n",
       "tip_bin                                        0  "
      ]
     },
     "execution_count": 15,
     "metadata": {},
     "output_type": "execute_result"
    }
   ],
   "source": [
    "sample_data.head().T"
   ]
  },
  {
   "cell_type": "code",
   "execution_count": 16,
   "id": "23595838",
   "metadata": {},
   "outputs": [
    {
     "data": {
      "text/plain": [
       "0    634947\n",
       "1    365053\n",
       "Name: tip_bin, dtype: Int64"
      ]
     },
     "execution_count": 16,
     "metadata": {},
     "output_type": "execute_result"
    }
   ],
   "source": [
    "sample_data.tip_bin.value_counts()"
   ]
  },
  {
   "cell_type": "code",
   "execution_count": 17,
   "id": "3d06bb64",
   "metadata": {},
   "outputs": [
    {
     "data": {
      "text/plain": [
       "<AxesSubplot:>"
      ]
     },
     "execution_count": 17,
     "metadata": {},
     "output_type": "execute_result"
    },
    {
     "data": {
      "image/png": "[encoded data removed]",
      "text/plain": [
       "<Figure size 640x480 with 1 Axes>"
      ]
     },
     "metadata": {},
     "output_type": "display_data"
    }
   ],
   "source": [
    "sample_data.euclidean.hist()"
   ]
  },
  {
   "cell_type": "markdown",
   "id": "10aae180",
   "metadata": {},
   "source": [
    "## 3. Generate raw data schema\n",
    "\n",
    "The [TensorFlow Data Validation (TFDV)](https://www.tensorflow.org/tfx/data_validation/get_started) data schema will be used in:\n",
    "1. Identify the raw data types and shapes in the data transformation.\n",
    "2. Create the serving input signature for the custom model.\n",
    "3. Validate the new raw training data in the TFX pipeline."
   ]
  },
  {
   "cell_type": "code",
   "execution_count": 18,
   "id": "4087d5fa",
   "metadata": {},
   "outputs": [],
   "source": [
    "stats = tfdv.generate_statistics_from_dataframe(\n",
    "    dataframe=sample_data,\n",
    "    stats_options=tfdv.StatsOptions(\n",
    "        label_feature='tip_bin',\n",
    "        weight_feature=None,\n",
    "        sample_rate=1,\n",
    "        num_top_values=50\n",
    "    )\n",
    ")"
   ]
  },
  {
   "cell_type": "code",
   "execution_count": 19,
   "id": "091fbd77",
   "metadata": {},
   "outputs": [
    {
     "data": {
      "text/html": [
       "<iframe id='facets-iframe' width=\"100%\" height=\"500px\"></iframe>\n",
       "        <script>\n",
       "        facets_iframe = document.getElementById('facets-iframe');\n",
       "        facets_html = '<script src=\"https://cdnjs.cloudflare.com/ajax/libs/webcomponentsjs/1.3.3/webcomponents-lite.js\"><\\/script><link rel=\"import\" href=\"https://raw.githubusercontent.com/PAIR-code/facets/master/facets-dist/facets-jupyter.html\"><facets-overview proto-input=\"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\"></facets-overview>';\n",
       "        facets_iframe.srcdoc = facets_html;\n",
       "         facets_iframe.id = \"\";\n",
       "         setTimeout(() => {\n",
       "           facets_iframe.setAttribute('height', facets_iframe.contentWindow.document.body.offsetHeight + 'px')\n",
       "         }, 1500)\n",
       "         </script>"
      ],
      "text/plain": [
       "<IPython.core.display.HTML object>"
      ]
     },
     "metadata": {},
     "output_type": "display_data"
    }
   ],
   "source": [
    "tfdv.visualize_statistics(stats)"
   ]
  },
  {
   "cell_type": "code",
   "execution_count": 20,
   "id": "d251e09b",
   "metadata": {},
   "outputs": [
    {
     "data": {
      "text/html": [
       "<div>\n",
       "<style scoped>\n",
       "    .dataframe tbody tr th:only-of-type {\n",
       "        vertical-align: middle;\n",
       "    }\n",
       "\n",
       "    .dataframe tbody tr th {\n",
       "        vertical-align: top;\n",
       "    }\n",
       "\n",
       "    .dataframe thead th {\n",
       "        text-align: right;\n",
       "    }\n",
       "</style>\n",
       "<table border=\"1\" class=\"dataframe\">\n",
       "  <thead>\n",
       "    <tr style=\"text-align: right;\">\n",
       "      <th></th>\n",
       "      <th>Type</th>\n",
       "      <th>Presence</th>\n",
       "      <th>Valency</th>\n",
       "      <th>Domain</th>\n",
       "    </tr>\n",
       "    <tr>\n",
       "      <th>Feature name</th>\n",
       "      <th></th>\n",
       "      <th></th>\n",
       "      <th></th>\n",
       "      <th></th>\n",
       "    </tr>\n",
       "  </thead>\n",
       "  <tbody>\n",
       "    <tr>\n",
       "      <th>'trip_month'</th>\n",
       "      <td>INT</td>\n",
       "      <td>required</td>\n",
       "      <td></td>\n",
       "      <td>-</td>\n",
       "    </tr>\n",
       "    <tr>\n",
       "      <th>'trip_day'</th>\n",
       "      <td>INT</td>\n",
       "      <td>required</td>\n",
       "      <td></td>\n",
       "      <td>-</td>\n",
       "    </tr>\n",
       "    <tr>\n",
       "      <th>'trip_day_of_week'</th>\n",
       "      <td>INT</td>\n",
       "      <td>required</td>\n",
       "      <td></td>\n",
       "      <td>-</td>\n",
       "    </tr>\n",
       "    <tr>\n",
       "      <th>'trip_hour'</th>\n",
       "      <td>INT</td>\n",
       "      <td>required</td>\n",
       "      <td></td>\n",
       "      <td>-</td>\n",
       "    </tr>\n",
       "    <tr>\n",
       "      <th>'trip_seconds'</th>\n",
       "      <td>INT</td>\n",
       "      <td>required</td>\n",
       "      <td></td>\n",
       "      <td>-</td>\n",
       "    </tr>\n",
       "    <tr>\n",
       "      <th>'trip_miles'</th>\n",
       "      <td>FLOAT</td>\n",
       "      <td>required</td>\n",
       "      <td></td>\n",
       "      <td>-</td>\n",
       "    </tr>\n",
       "    <tr>\n",
       "      <th>'payment_type'</th>\n",
       "      <td>STRING</td>\n",
       "      <td>required</td>\n",
       "      <td></td>\n",
       "      <td>'payment_type'</td>\n",
       "    </tr>\n",
       "    <tr>\n",
       "      <th>'pickup_grid'</th>\n",
       "      <td>STRING</td>\n",
       "      <td>required</td>\n",
       "      <td></td>\n",
       "      <td>'pickup_grid'</td>\n",
       "    </tr>\n",
       "    <tr>\n",
       "      <th>'dropoff_grid'</th>\n",
       "      <td>STRING</td>\n",
       "      <td>required</td>\n",
       "      <td></td>\n",
       "      <td>'dropoff_grid'</td>\n",
       "    </tr>\n",
       "    <tr>\n",
       "      <th>'euclidean'</th>\n",
       "      <td>FLOAT</td>\n",
       "      <td>required</td>\n",
       "      <td></td>\n",
       "      <td>-</td>\n",
       "    </tr>\n",
       "    <tr>\n",
       "      <th>'loc_cross'</th>\n",
       "      <td>BYTES</td>\n",
       "      <td>required</td>\n",
       "      <td></td>\n",
       "      <td>-</td>\n",
       "    </tr>\n",
       "    <tr>\n",
       "      <th>'tip_bin'</th>\n",
       "      <td>INT</td>\n",
       "      <td>required</td>\n",
       "      <td></td>\n",
       "      <td>-</td>\n",
       "    </tr>\n",
       "  </tbody>\n",
       "</table>\n",
       "</div>"
      ],
      "text/plain": [
       "                      Type  Presence Valency          Domain\n",
       "Feature name                                                \n",
       "'trip_month'           INT  required                       -\n",
       "'trip_day'             INT  required                       -\n",
       "'trip_day_of_week'     INT  required                       -\n",
       "'trip_hour'            INT  required                       -\n",
       "'trip_seconds'         INT  required                       -\n",
       "'trip_miles'         FLOAT  required                       -\n",
       "'payment_type'      STRING  required          'payment_type'\n",
       "'pickup_grid'       STRING  required           'pickup_grid'\n",
       "'dropoff_grid'      STRING  required          'dropoff_grid'\n",
       "'euclidean'          FLOAT  required                       -\n",
       "'loc_cross'          BYTES  required                       -\n",
       "'tip_bin'              INT  required                       -"
      ]
     },
     "metadata": {},
     "output_type": "display_data"
    },
    {
     "data": {
      "text/html": [
       "<div>\n",
       "<style scoped>\n",
       "    .dataframe tbody tr th:only-of-type {\n",
       "        vertical-align: middle;\n",
       "    }\n",
       "\n",
       "    .dataframe tbody tr th {\n",
       "        vertical-align: top;\n",
       "    }\n",
       "\n",
       "    .dataframe thead th {\n",
       "        text-align: right;\n",
       "    }\n",
       "</style>\n",
       "<table border=\"1\" class=\"dataframe\">\n",
       "  <thead>\n",
       "    <tr style=\"text-align: right;\">\n",
       "      <th></th>\n",
       "      <th>Values</th>\n",
       "    </tr>\n",
       "    <tr>\n",
       "      <th>Domain</th>\n",
       "      <th></th>\n",
       "    </tr>\n",
       "  </thead>\n",
       "  <tbody>\n",
       "    <tr>\n",
       "      <th>'payment_type'</th>\n",
       "      <td>'Cash', 'Credit Card', 'Dispute', 'Mobile', 'No Charge', 'Prcard', 'Prepaid', 'Unknown'</td>\n",
       "    </tr>\n",
       "    <tr>\n",
       "      <th>'pickup_grid'</th>\n",
       "      <td>'POINT(-87.5 41.7)', 'POINT(-87.6 41.7)', 'POINT(-87.6 41.8)', 'POINT(-87.6 41.9)', 'POINT(-87.6 42)', 'POINT(-87.7 41.7)', 'POINT(-87.7 41.8)', 'POINT(-87.7 41.9)', 'POINT(-87.7 42)', 'POINT(-87.8 41.8)', 'POINT(-87.8 41.9)', 'POINT(-87.8 42)', 'POINT(-87.9 42)'</td>\n",
       "    </tr>\n",
       "    <tr>\n",
       "      <th>'dropoff_grid'</th>\n",
       "      <td>'POINT(-87.5 41.7)', 'POINT(-87.6 41.7)', 'POINT(-87.6 41.8)', 'POINT(-87.6 41.9)', 'POINT(-87.6 42)', 'POINT(-87.7 41.7)', 'POINT(-87.7 41.8)', 'POINT(-87.7 41.9)', 'POINT(-87.7 42)', 'POINT(-87.8 41.8)', 'POINT(-87.8 41.9)', 'POINT(-87.8 42)', 'POINT(-87.9 42)'</td>\n",
       "    </tr>\n",
       "  </tbody>\n",
       "</table>\n",
       "</div>"
      ],
      "text/plain": [
       "                                                                                                                                                                                                                                                                                 Values\n",
       "Domain                                                                                                                                                                                                                                                                                 \n",
       "'payment_type'                                                                                                                                                                                  'Cash', 'Credit Card', 'Dispute', 'Mobile', 'No Charge', 'Prcard', 'Prepaid', 'Unknown'\n",
       "'pickup_grid'   'POINT(-87.5 41.7)', 'POINT(-87.6 41.7)', 'POINT(-87.6 41.8)', 'POINT(-87.6 41.9)', 'POINT(-87.6 42)', 'POINT(-87.7 41.7)', 'POINT(-87.7 41.8)', 'POINT(-87.7 41.9)', 'POINT(-87.7 42)', 'POINT(-87.8 41.8)', 'POINT(-87.8 41.9)', 'POINT(-87.8 42)', 'POINT(-87.9 42)'\n",
       "'dropoff_grid'  'POINT(-87.5 41.7)', 'POINT(-87.6 41.7)', 'POINT(-87.6 41.8)', 'POINT(-87.6 41.9)', 'POINT(-87.6 42)', 'POINT(-87.7 41.7)', 'POINT(-87.7 41.8)', 'POINT(-87.7 41.9)', 'POINT(-87.7 42)', 'POINT(-87.8 41.8)', 'POINT(-87.8 41.9)', 'POINT(-87.8 42)', 'POINT(-87.9 42)'"
      ]
     },
     "metadata": {},
     "output_type": "display_data"
    }
   ],
   "source": [
    "schema = tfdv.infer_schema(statistics=stats)\n",
    "tfdv.display_schema(schema=schema)"
   ]
  },
  {
   "cell_type": "code",
   "execution_count": 21,
   "id": "502c49f1",
   "metadata": {},
   "outputs": [],
   "source": [
    "raw_schema_location = os.path.join(RAW_SCHEMA_DIR, 'schema.pbtxt')\n",
    "tfdv.write_schema_text(schema, raw_schema_location)"
   ]
  },
  {
   "cell_type": "markdown",
   "id": "59df0723",
   "metadata": {},
   "source": [
    "## 4. Create Vertex Dataset resource"
   ]
  },
  {
   "cell_type": "code",
   "execution_count": 22,
   "id": "90d9b605",
   "metadata": {},
   "outputs": [],
   "source": [
    "vertex_ai.init(\n",
    "    project=PROJECT,\n",
    "    location=REGION\n",
    ")"
   ]
  },
  {
   "cell_type": "markdown",
   "id": "464ab920",
   "metadata": {},
   "source": [
    "### Create the dataset resource"
   ]
  },
  {
   "cell_type": "code",
   "execution_count": 23,
   "id": "a0a1707a",
   "metadata": {},
   "outputs": [
    {
     "name": "stdout",
     "output_type": "stream",
     "text": [
      "Creating TabularDataset\n",
      "Create TabularDataset backing LRO: projects/354621994428/locations/us-central1/datasets/6320492014735458304/operations/331355215057911808\n",
      "TabularDataset created. Resource name: projects/354621994428/locations/us-central1/datasets/6320492014735458304\n",
      "To use this TabularDataset in another session:\n",
      "ds = aiplatform.TabularDataset('projects/354621994428/locations/us-central1/datasets/6320492014735458304')\n"
     ]
    },
    {
     "data": {
      "text/plain": [
       "name: \"projects/354621994428/locations/us-central1/datasets/6320492014735458304\"\n",
       "display_name: \"chicago-taxi-tips\"\n",
       "metadata_schema_uri: \"gs://google-cloud-aiplatform/schema/dataset/metadata/tabular_1.0.0.yaml\"\n",
       "create_time {\n",
       "  seconds: 1679941348\n",
       "  nanos: 421094000\n",
       "}\n",
       "update_time {\n",
       "  seconds: 1679941348\n",
       "  nanos: 868696000\n",
       "}\n",
       "etag: \"AMEw9yPd2yixbEJ3WEZbg6mEoi9iLmr1sy8Z1FkMTfDpf9NiGY7sVK-DRn4ck2Y5Rokj\"\n",
       "metadata {\n",
       "  struct_value {\n",
       "    fields {\n",
       "      key: \"inputConfig\"\n",
       "      value {\n",
       "        struct_value {\n",
       "          fields {\n",
       "            key: \"bigquerySource\"\n",
       "            value {\n",
       "              struct_value {\n",
       "                fields {\n",
       "                  key: \"uri\"\n",
       "                  value {\n",
       "                    string_value: \"bq://ds-training-380514.playground_us.chicago_taxitrips_prep\"\n",
       "                  }\n",
       "                }\n",
       "              }\n",
       "            }\n",
       "          }\n",
       "        }\n",
       "      }\n",
       "    }\n",
       "  }\n",
       "}\n",
       "metadata_artifact: \"projects/354621994428/locations/us-central1/metadataStores/default/artifacts/96408b10-d7b1-421e-940a-835ccfdccf27\""
      ]
     },
     "execution_count": 23,
     "metadata": {},
     "output_type": "execute_result"
    }
   ],
   "source": [
    "bq_uri = f\"bq://{PROJECT}.{BQ_DATASET_NAME}.{BQ_TABLE_NAME}\"\n",
    "\n",
    "dataset = vertex_ai.TabularDataset.create(\n",
    "    display_name=DATASET_DISPLAY_NAME, bq_source=bq_uri)\n",
    "\n",
    "dataset.gca_resource"
   ]
  },
  {
   "cell_type": "markdown",
   "id": "c761fadb",
   "metadata": {},
   "source": [
    "### Get the dataset resource\n",
    "\n",
    "The dataset resource is retrieved by display name. Because multiple datasets can have the same display name, we retrieve the most recent updated one."
   ]
  },
  {
   "cell_type": "code",
   "execution_count": 24,
   "id": "d78b7f4d",
   "metadata": {},
   "outputs": [
    {
     "name": "stdout",
     "output_type": "stream",
     "text": [
      "Dataset resource name: projects/354621994428/locations/us-central1/datasets/6320492014735458304\n",
      "Dataset BigQuery source: bq://ds-training-380514.playground_us.chicago_taxitrips_prep\n"
     ]
    }
   ],
   "source": [
    "dataset = vertex_ai.TabularDataset.list(\n",
    "    filter=f\"display_name={DATASET_DISPLAY_NAME}\", \n",
    "    order_by=\"update_time\")[-1]\n",
    "\n",
    "print(\"Dataset resource name:\", dataset.resource_name)\n",
    "print(\"Dataset BigQuery source:\", dataset.gca_resource.metadata['inputConfig']['bigquerySource']['uri'])"
   ]
  },
  {
   "cell_type": "code",
   "execution_count": null,
   "id": "569249de",
   "metadata": {},
   "outputs": [],
   "source": []
  }
 ],
 "metadata": {
  "environment": {
   "kernel": "python3",
   "name": "common-cpu.m104",
   "type": "gcloud",
   "uri": "gcr.io/deeplearning-platform-release/base-cpu:m104"
  },
  "kernelspec": {
   "display_name": "Python 3",
   "language": "python",
   "name": "python3"
  },
  "language_info": {
   "codemirror_mode": {
    "name": "ipython",
    "version": 3
   },
   "file_extension": ".py",
   "mimetype": "text/x-python",
   "name": "python",
   "nbconvert_exporter": "python",
   "pygments_lexer": "ipython3",
   "version": "3.7.12"
  }
 },
 "nbformat": 4,
 "nbformat_minor": 5
}

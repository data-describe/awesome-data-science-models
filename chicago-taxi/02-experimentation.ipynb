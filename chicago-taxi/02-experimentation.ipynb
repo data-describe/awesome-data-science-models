{
 "cells": [
  {
   "cell_type": "markdown",
   "id": "1eae86f7",
   "metadata": {},
   "source": [
    "# 02 - ML Experimentation with Custom Model\n",
    "\n",
    "The purpose of this notebook is to use [custom training](https://cloud.google.com/ai-platform-unified/docs/training/custom-training) to train a keras classifier to predict whether a given trip will result in a tip > 20%. The notebook covers the following tasks:\n",
    "1. Preprocess the data locally using Apache Beam.\n",
    "2. Train and test custom model locally using a Keras implementation.\n",
    "3. Submit a Dataflow job to preprocess the data at scale.\n",
    "4. Submit a custom training job to Vertex AI using a [pre-built container](https://cloud.google.com/ai-platform-unified/docs/training/pre-built-containers).\n",
    "5. Upload the trained model to Vertex AI.\n",
    "6. Track experiment parameters from [Vertex AI Metadata](https://cloud.google.com/vertex-ai/docs/ml-metadata/introduction).\n",
    "7. Submit a [hyperparameter tuning job](https://cloud.google.com/vertex-ai/docs/training/hyperparameter-tuning-overview) to Vertex AI.\n",
    "\n",
    "We use [Vertex TensorBoard](https://cloud.google.com/vertex-ai/docs/experiments/tensorboard-overview) \n",
    "and [Vertex ML Metadata](https://cloud.google.com/vertex-ai/docs/ml-metadata/introduction) to  track, visualize, and compare ML experiments."
   ]
  },
  {
   "cell_type": "markdown",
   "id": "b5205917",
   "metadata": {},
   "source": [
    "## Setup"
   ]
  },
  {
   "cell_type": "markdown",
   "id": "624c6cfe",
   "metadata": {},
   "source": [
    "### Import libraries"
   ]
  },
  {
   "cell_type": "code",
   "execution_count": 1,
   "id": "4171d42a",
   "metadata": {},
   "outputs": [
    {
     "name": "stderr",
     "output_type": "stream",
     "text": [
      "2023-03-27 22:39:34.950916: W tensorflow/stream_executor/platform/default/dso_loader.cc:64] Could not load dynamic library 'libcudart.so.11.0'; dlerror: libcudart.so.11.0: cannot open shared object file: No such file or directory\n",
      "2023-03-27 22:39:34.950970: I tensorflow/stream_executor/cuda/cudart_stub.cc:29] Ignore above cudart dlerror if you do not have a GPU set up on your machine.\n"
     ]
    },
    {
     "name": "stdout",
     "output_type": "stream",
     "text": [
      "TensorFlow: 2.8.4\n",
      "TensorFlow Transform: 1.8.0\n"
     ]
    }
   ],
   "source": [
    "import os\n",
    "import logging\n",
    "from datetime import datetime\n",
    "import numpy as np\n",
    "\n",
    "import tensorflow as tf\n",
    "import tensorflow_transform as tft\n",
    "import tensorflow.keras as keras\n",
    "\n",
    "from google.cloud import aiplatform as vertex_ai\n",
    "from google.cloud.aiplatform import hyperparameter_tuning as hp_tuning\n",
    "\n",
    "from src.common import features, datasource_utils\n",
    "from src.model_training import data, model, defaults, trainer, exporter\n",
    "from src.preprocessing import etl\n",
    "\n",
    "logging.getLogger().setLevel(logging.INFO)\n",
    "tf.get_logger().setLevel('INFO')\n",
    "\n",
    "print(f\"TensorFlow: {tf.__version__}\")\n",
    "print(f\"TensorFlow Transform: {tft.__version__}\")"
   ]
  },
  {
   "cell_type": "markdown",
   "id": "fde361cf",
   "metadata": {},
   "source": [
    "### Setup Google Cloud project"
   ]
  },
  {
   "cell_type": "code",
   "execution_count": 2,
   "id": "31fce242",
   "metadata": {},
   "outputs": [
    {
     "name": "stdout",
     "output_type": "stream",
     "text": [
      "Creating gs://ds-training-380514/...\n",
      "ServiceException: 409 A Cloud Storage bucket named 'ds-training-380514' already exists. Try another name. Bucket names must be globally unique across all Google Cloud projects, including those outside of your organization.\n",
      "\n",
      "Project ID: ds-training-380514\n",
      "Region: us-central1\n",
      "Bucket name: ds-training-380514\n",
      "Service Account: 354621994428-compute@developer.gserviceaccount.com\n",
      "Vertex API Parent URI: projects/ds-training-380514/locations/us-central1\n"
     ]
    }
   ],
   "source": [
    "PROJECT = '[your-project-id]' # Change to your project id.\n",
    "REGION = 'us-central1' # Change to your region.\n",
    "SERVICE_ACCOUNT = None\n",
    "BUCKET = None\n",
    "\n",
    "if PROJECT == \"\" or PROJECT is None or PROJECT == \"[your-project-id]\":\n",
    "    # Get your GCP project id from gcloud\n",
    "    shell_output = !gcloud config list --format 'value(core.project)' 2>/dev/null\n",
    "    PROJECT = shell_output[0]\n",
    "    \n",
    "if SERVICE_ACCOUNT == \"\" or SERVICE_ACCOUNT is None or SERVICE_ACCOUNT == \"[your-service-account]\":\n",
    "    # Get your GCP project id from gcloud\n",
    "    shell_output = !gcloud config list --format 'value(core.account)' 2>/dev/null\n",
    "    SERVICE_ACCOUNT = shell_output[0]\n",
    "    \n",
    "if BUCKET == \"\" or BUCKET is None or BUCKET == \"[your-bucket-name]\":\n",
    "    # Get your bucket name to GCP project id\n",
    "    BUCKET = PROJECT\n",
    "    # Try to create the bucket if it doesn'exists\n",
    "    ! gsutil mb -l $REGION gs://$BUCKET\n",
    "    print(\"\")\n",
    "    \n",
    "PARENT = f\"projects/{PROJECT}/locations/{REGION}\"\n",
    "    \n",
    "print(\"Project ID:\", PROJECT)\n",
    "print(\"Region:\", REGION)\n",
    "print(\"Bucket name:\", BUCKET)\n",
    "print(\"Service Account:\", SERVICE_ACCOUNT)\n",
    "print(\"Vertex API Parent URI:\", PARENT)"
   ]
  },
  {
   "cell_type": "markdown",
   "id": "26cfd33f",
   "metadata": {},
   "source": [
    "### Set configurations"
   ]
  },
  {
   "cell_type": "code",
   "execution_count": 3,
   "id": "b363e822",
   "metadata": {},
   "outputs": [],
   "source": [
    "VERSION = 'v01'\n",
    "DATASET_DISPLAY_NAME = 'chicago-taxi-tips'\n",
    "MODEL_DISPLAY_NAME = f'{DATASET_DISPLAY_NAME}-classifier-{VERSION}'\n",
    "\n",
    "WORKSPACE = f'gs://{BUCKET}/{DATASET_DISPLAY_NAME}'\n",
    "EXPERIMENT_ARTIFACTS_DIR = os.path.join(WORKSPACE, 'experiments')\n",
    "RAW_SCHEMA_LOCATION = 'src/raw_schema/schema.pbtxt'\n",
    "\n",
    "TENSORBOARD_DISPLAY_NAME = f'tb-{DATASET_DISPLAY_NAME}'\n",
    "EXPERIMENT_NAME = f'{MODEL_DISPLAY_NAME}'"
   ]
  },
  {
   "cell_type": "markdown",
   "id": "e2cf63d9",
   "metadata": {},
   "source": [
    "## Create Vertex TensorBoard instance "
   ]
  },
  {
   "cell_type": "code",
   "execution_count": 4,
   "id": "1cf8ef5c",
   "metadata": {},
   "outputs": [
    {
     "name": "stdout",
     "output_type": "stream",
     "text": [
      "Creating Tensorboard\n",
      "Create Tensorboard backing LRO: projects/354621994428/locations/us-central1/tensorboards/8667151094595452928/operations/5202561162012524544\n",
      "Tensorboard created. Resource name: projects/354621994428/locations/us-central1/tensorboards/8667151094595452928\n",
      "To use this Tensorboard in another session:\n",
      "tb = aiplatform.Tensorboard('projects/354621994428/locations/us-central1/tensorboards/8667151094595452928')\n",
      "TensorBoard resource name: projects/354621994428/locations/us-central1/tensorboards/8667151094595452928\n"
     ]
    }
   ],
   "source": [
    "tensorboard_resource = vertex_ai.Tensorboard.create(display_name=TENSORBOARD_DISPLAY_NAME)\n",
    "tensorboard_resource_name = tensorboard_resource.gca_resource.name\n",
    "print(\"TensorBoard resource name:\", tensorboard_resource_name)"
   ]
  },
  {
   "cell_type": "markdown",
   "id": "670a3859",
   "metadata": {},
   "source": [
    "## Initialize workspace"
   ]
  },
  {
   "cell_type": "code",
   "execution_count": 5,
   "id": "7d03fba1",
   "metadata": {},
   "outputs": [
    {
     "name": "stdout",
     "output_type": "stream",
     "text": [
      "Workspace is ready.\n",
      "Experiment directory: gs://ds-training-380514/chicago-taxi-tips/experiments\n"
     ]
    }
   ],
   "source": [
    "REMOVE_EXPERIMENT_ARTIFACTS = False\n",
    "\n",
    "if tf.io.gfile.exists(EXPERIMENT_ARTIFACTS_DIR) and REMOVE_EXPERIMENT_ARTIFACTS:\n",
    "    print(\"Removing previous experiment artifacts...\")\n",
    "    tf.io.gfile.rmtree(EXPERIMENT_ARTIFACTS_DIR)\n",
    "\n",
    "if not tf.io.gfile.exists(EXPERIMENT_ARTIFACTS_DIR):\n",
    "    print(\"Creating new experiment artifacts directory...\")\n",
    "    tf.io.gfile.mkdir(EXPERIMENT_ARTIFACTS_DIR)\n",
    "\n",
    "print(\"Workspace is ready.\")\n",
    "print(\"Experiment directory:\", EXPERIMENT_ARTIFACTS_DIR)"
   ]
  },
  {
   "cell_type": "markdown",
   "id": "bd08e503",
   "metadata": {},
   "source": [
    "## Initialize Vertex AI experiment"
   ]
  },
  {
   "cell_type": "code",
   "execution_count": 6,
   "id": "f3aefc2c",
   "metadata": {},
   "outputs": [
    {
     "name": "stdout",
     "output_type": "stream",
     "text": [
      "Associating projects/354621994428/locations/us-central1/metadataStores/default/contexts/chicago-taxi-tips-classifier-v01-run-local-20230327223943 to Experiment: chicago-taxi-tips-classifier-v01\n",
      "Experiment run directory: gs://ds-training-380514/chicago-taxi-tips/experiments/chicago-taxi-tips-classifier-v01/run-local-20230327223943\n"
     ]
    }
   ],
   "source": [
    "vertex_ai.init(\n",
    "    project=PROJECT,\n",
    "    location=REGION,\n",
    "    staging_bucket=BUCKET,\n",
    "    experiment=EXPERIMENT_NAME\n",
    ")\n",
    "\n",
    "run_id = f\"run-local-{datetime.now().strftime('%Y%m%d%H%M%S')}\"\n",
    "vertex_ai.start_run(run_id)\n",
    "\n",
    "EXPERIMENT_RUN_DIR = os.path.join(EXPERIMENT_ARTIFACTS_DIR, EXPERIMENT_NAME, run_id)\n",
    "print(\"Experiment run directory:\", EXPERIMENT_RUN_DIR)"
   ]
  },
  {
   "cell_type": "markdown",
   "id": "f9c8cee2",
   "metadata": {},
   "source": [
    "## 1. Preprocess the data using Apache Beam\n",
    "\n",
    "The Apache Beam pipeline of data preprocessing is implemented in the [preprocessing](src/preprocessing) directory."
   ]
  },
  {
   "cell_type": "code",
   "execution_count": 7,
   "id": "84a613a2",
   "metadata": {},
   "outputs": [],
   "source": [
    "EXPORTED_DATA_PREFIX = os.path.join(EXPERIMENT_RUN_DIR, 'exported_data')\n",
    "TRANSFORMED_DATA_PREFIX = os.path.join(EXPERIMENT_RUN_DIR, 'transformed_data')\n",
    "TRANSFORM_ARTIFACTS_DIR = os.path.join(EXPERIMENT_RUN_DIR, 'transform_artifacts')"
   ]
  },
  {
   "cell_type": "code",
   "execution_count": 8,
   "id": "17dcfb0d-c5d9-4472-8ddb-577fe2751a98",
   "metadata": {},
   "outputs": [
    {
     "name": "stdout",
     "output_type": "stream",
     "text": [
      "EXPORTED_DATA_PREFIX=gs://ds-training-380514/chicago-taxi-tips/experiments/chicago-taxi-tips-classifier-v01/run-local-20230327223943/exported_data\n",
      "TRANSFORMED_DATA_PREFIX=gs://ds-training-380514/chicago-taxi-tips/experiments/chicago-taxi-tips-classifier-v01/run-local-20230327223943/transformed_data\n",
      "TRANSFORM_ARTIFACTS_DIR= gs://ds-training-380514/chicago-taxi-tips/experiments/chicago-taxi-tips-classifier-v01/run-local-20230327223943/transform_artifacts\n"
     ]
    }
   ],
   "source": [
    "print(f\"EXPORTED_DATA_PREFIX={EXPORTED_DATA_PREFIX}\")\n",
    "print(f\"TRANSFORMED_DATA_PREFIX={TRANSFORMED_DATA_PREFIX}\")\n",
    "print(f\"TRANSFORM_ARTIFACTS_DIR= {TRANSFORM_ARTIFACTS_DIR}\")"
   ]
  },
  {
   "cell_type": "markdown",
   "id": "264b81f3",
   "metadata": {},
   "source": [
    "### Get Source Query from Managed Dataset"
   ]
  },
  {
   "cell_type": "code",
   "execution_count": 9,
   "id": "c9b8ad0f",
   "metadata": {},
   "outputs": [
    {
     "name": "stdout",
     "output_type": "stream",
     "text": [
      "\n",
      "    SELECT \n",
      "        IF(trip_month IS NULL, -1, trip_month) trip_month,\n",
      "        IF(trip_day IS NULL, -1, trip_day) trip_day,\n",
      "        IF(trip_day_of_week IS NULL, -1, trip_day_of_week) trip_day_of_week,\n",
      "        IF(trip_hour IS NULL, -1, trip_hour) trip_hour,\n",
      "        IF(trip_seconds IS NULL, -1, trip_seconds) trip_seconds,\n",
      "        IF(trip_miles IS NULL, -1, trip_miles) trip_miles,\n",
      "        IF(payment_type IS NULL, 'NA', payment_type) payment_type,\n",
      "        IF(pickup_grid IS NULL, 'NA', pickup_grid) pickup_grid,\n",
      "        IF(dropoff_grid IS NULL, 'NA', dropoff_grid) dropoff_grid,\n",
      "        IF(euclidean IS NULL, -1, euclidean) euclidean,\n",
      "        IF(loc_cross IS NULL, 'NA', loc_cross) loc_cross,\n",
      "        tip_bin\n",
      "    FROM playground_us.chicago_taxitrips_prep \n",
      "    WHERE ML_use = 'UNASSIGNED'\n",
      "    LIMIT 5120\n"
     ]
    }
   ],
   "source": [
    "ML_USE = 'UNASSIGNED'\n",
    "LIMIT = 5120\n",
    "\n",
    "raw_data_query = datasource_utils.get_training_source_query(\n",
    "    project=PROJECT, \n",
    "    region=REGION, \n",
    "    dataset_display_name=DATASET_DISPLAY_NAME, \n",
    "    ml_use=ML_USE, \n",
    "    limit=LIMIT\n",
    ")\n",
    "\n",
    "print(raw_data_query)"
   ]
  },
  {
   "cell_type": "markdown",
   "id": "6047eac1",
   "metadata": {},
   "source": [
    "### Test Data Preprocessing Locally"
   ]
  },
  {
   "cell_type": "code",
   "execution_count": 10,
   "id": "ac9b5b05",
   "metadata": {},
   "outputs": [],
   "source": [
    "args = {\n",
    "    'runner': 'DirectRunner',\n",
    "    'raw_data_query': raw_data_query,\n",
    "    'write_raw_data': True,\n",
    "    'exported_data_prefix': EXPORTED_DATA_PREFIX,\n",
    "    'transformed_data_prefix': TRANSFORMED_DATA_PREFIX,\n",
    "    'transform_artifact_dir': TRANSFORM_ARTIFACTS_DIR,\n",
    "    'temporary_dir': os.path.join(WORKSPACE, 'tmp'),\n",
    "    'gcs_location': f'gs://{BUCKET}/bq_tmp',\n",
    "    'project': PROJECT\n",
    "}"
   ]
  },
  {
   "cell_type": "code",
   "execution_count": 11,
   "id": "6c225f37",
   "metadata": {},
   "outputs": [],
   "source": [
    "vertex_ai.log_params(args)"
   ]
  },
  {
   "cell_type": "code",
   "execution_count": 12,
   "id": "56ece730",
   "metadata": {},
   "outputs": [
    {
     "name": "stdout",
     "output_type": "stream",
     "text": [
      "WARNING:tensorflow:You are passing instance dicts and DatasetMetadata to TFT which will not provide optimal performance. Consider following the TFT guide to upgrade to the TFXIO format (Apache Arrow RecordBatch).\n",
      "WARNING:tensorflow:From /opt/conda/lib/python3.7/site-packages/tensorflow_transform/tf_utils.py:326: Tensor.experimental_ref (from tensorflow.python.framework.ops) is deprecated and will be removed in a future version.\n",
      "Instructions for updating:\n",
      "Use ref() instead.\n"
     ]
    },
    {
     "name": "stderr",
     "output_type": "stream",
     "text": [
      "2023-03-27 22:39:44.723973: W tensorflow/stream_executor/platform/default/dso_loader.cc:64] Could not load dynamic library 'libcuda.so.1'; dlerror: libcuda.so.1: cannot open shared object file: No such file or directory\n",
      "2023-03-27 22:39:44.724022: W tensorflow/stream_executor/cuda/cuda_driver.cc:269] failed call to cuInit: UNKNOWN ERROR (303)\n",
      "2023-03-27 22:39:44.724046: I tensorflow/stream_executor/cuda/cuda_diagnostics.cc:156] kernel driver does not appear to be running on this host (bobby-jacob-mavenwave): /proc/driver/nvidia/version does not exist\n",
      "2023-03-27 22:39:44.724486: I tensorflow/core/platform/cpu_feature_guard.cc:151] This TensorFlow binary is optimized with oneAPI Deep Neural Network Library (oneDNN) to use the following CPU instructions in performance-critical operations:  AVX2 FMA\n",
      "To enable them in other operations, rebuild TensorFlow with the appropriate compiler flags.\n"
     ]
    },
    {
     "name": "stdout",
     "output_type": "stream",
     "text": [
      "WARNING:tensorflow:You are passing instance dicts and DatasetMetadata to TFT which will not provide optimal performance. Consider following the TFT guide to upgrade to the TFXIO format (Apache Arrow RecordBatch).\n",
      "WARNING:tensorflow:You are passing instance dicts and DatasetMetadata to TFT which will not provide optimal performance. Consider following the TFT guide to upgrade to the TFXIO format (Apache Arrow RecordBatch).\n"
     ]
    },
    {
     "name": "stderr",
     "output_type": "stream",
     "text": [
      "2023-03-27 22:40:21.084451: W tensorflow/python/util/util.cc:368] Sets are not currently considered sequences, but this may change in the future, so consider avoiding using them.\n"
     ]
    },
    {
     "name": "stdout",
     "output_type": "stream",
     "text": [
      "INFO:tensorflow:Assets written to: gs://ds-training-380514/chicago-taxi-tips/tmp/tftransform_tmp/94724cfac0ae40f8bc25aed653739aa6/assets\n",
      "INFO:tensorflow:struct2tensor is not available.\n",
      "INFO:tensorflow:tensorflow_decision_forests is not available.\n",
      "INFO:tensorflow:tensorflow_text is not available.\n",
      "INFO:tensorflow:Assets written to: gs://ds-training-380514/chicago-taxi-tips/tmp/tftransform_tmp/ac003dadc184454cbb6c4b552c108eb3/assets\n",
      "INFO:tensorflow:struct2tensor is not available.\n",
      "INFO:tensorflow:tensorflow_decision_forests is not available.\n",
      "INFO:tensorflow:tensorflow_text is not available.\n",
      "INFO:tensorflow:struct2tensor is not available.\n",
      "INFO:tensorflow:tensorflow_decision_forests is not available.\n",
      "INFO:tensorflow:tensorflow_text is not available.\n"
     ]
    }
   ],
   "source": [
    "%%capture\n",
    "print(\"Data preprocessing started...\")\n",
    "etl.run_transform_pipeline(args)\n",
    "print(\"Data preprocessing completed.\")"
   ]
  },
  {
   "cell_type": "code",
   "execution_count": 13,
   "id": "a10911e3",
   "metadata": {},
   "outputs": [
    {
     "name": "stdout",
     "output_type": "stream",
     "text": [
      "gs://ds-training-380514/chicago-taxi-tips/experiments/chicago-taxi-tips-classifier-v01/run-local-20230327223943/exported_data/\n",
      "gs://ds-training-380514/chicago-taxi-tips/experiments/chicago-taxi-tips-classifier-v01/run-local-20230327223943/transform_artifacts/\n",
      "gs://ds-training-380514/chicago-taxi-tips/experiments/chicago-taxi-tips-classifier-v01/run-local-20230327223943/transformed_data/\n"
     ]
    }
   ],
   "source": [
    "!gsutil ls {EXPERIMENT_RUN_DIR}"
   ]
  },
  {
   "cell_type": "markdown",
   "id": "74d252ab",
   "metadata": {},
   "source": [
    "## 2. Train a custom model locally using a Keras\n",
    "\n",
    "The `Keras` implementation of the custom model is in the [model_training](src/model_training) directory."
   ]
  },
  {
   "cell_type": "code",
   "execution_count": 14,
   "id": "c59f7710",
   "metadata": {},
   "outputs": [],
   "source": [
    "LOG_DIR = os.path.join(EXPERIMENT_RUN_DIR, 'logs')\n",
    "EXPORT_DIR = os.path.join(EXPERIMENT_RUN_DIR, 'model')"
   ]
  },
  {
   "cell_type": "code",
   "execution_count": 15,
   "id": "cee0c16f-b663-48dc-8aa7-50403bf1783f",
   "metadata": {},
   "outputs": [
    {
     "name": "stdout",
     "output_type": "stream",
     "text": [
      "gs://ds-training-380514/chicago-taxi-tips/experiments/chicago-taxi-tips-classifier-v01/run-local-20230327223943/logs\n",
      "gs://ds-training-380514/chicago-taxi-tips/experiments/chicago-taxi-tips-classifier-v01/run-local-20230327223943/model\n"
     ]
    }
   ],
   "source": [
    "print(LOG_DIR)\n",
    "print(EXPORT_DIR)"
   ]
  },
  {
   "cell_type": "markdown",
   "id": "7a212f14",
   "metadata": {},
   "source": [
    "### Read transformed data"
   ]
  },
  {
   "cell_type": "code",
   "execution_count": 16,
   "id": "204c8580",
   "metadata": {},
   "outputs": [
    {
     "data": {
      "text/plain": [
       "{'dropoff_grid_xf': FixedLenFeature(shape=[], dtype=tf.int64, default_value=None),\n",
       " 'euclidean_xf': FixedLenFeature(shape=[], dtype=tf.float32, default_value=None),\n",
       " 'loc_cross_xf': FixedLenFeature(shape=[], dtype=tf.int64, default_value=None),\n",
       " 'payment_type_xf': FixedLenFeature(shape=[], dtype=tf.int64, default_value=None),\n",
       " 'pickup_grid_xf': FixedLenFeature(shape=[], dtype=tf.int64, default_value=None),\n",
       " 'tip_bin': FixedLenFeature(shape=[], dtype=tf.int64, default_value=None),\n",
       " 'trip_day_of_week_xf': FixedLenFeature(shape=[], dtype=tf.int64, default_value=None),\n",
       " 'trip_day_xf': FixedLenFeature(shape=[], dtype=tf.int64, default_value=None),\n",
       " 'trip_hour_xf': FixedLenFeature(shape=[], dtype=tf.int64, default_value=None),\n",
       " 'trip_miles_xf': FixedLenFeature(shape=[], dtype=tf.float32, default_value=None),\n",
       " 'trip_month_xf': FixedLenFeature(shape=[], dtype=tf.int64, default_value=None),\n",
       " 'trip_seconds_xf': FixedLenFeature(shape=[], dtype=tf.float32, default_value=None)}"
      ]
     },
     "execution_count": 16,
     "metadata": {},
     "output_type": "execute_result"
    }
   ],
   "source": [
    "tft_output = tft.TFTransformOutput(TRANSFORM_ARTIFACTS_DIR)\n",
    "transform_feature_spec = tft_output.transformed_feature_spec()\n",
    "transform_feature_spec"
   ]
  },
  {
   "cell_type": "code",
   "execution_count": 17,
   "id": "0802ce3a",
   "metadata": {},
   "outputs": [
    {
     "name": "stdout",
     "output_type": "stream",
     "text": [
      "dropoff_grid_xf <dtype: 'int64'>: [0, 0, 0]\n",
      "euclidean_xf <dtype: 'float32'>: [-0.846295952796936, 0.5646443963050842, 0.6452082395553589]\n",
      "loc_cross_xf <dtype: 'int64'>: [0, 0, 0]\n",
      "payment_type_xf <dtype: 'int64'>: [0, 0, 0]\n",
      "pickup_grid_xf <dtype: 'int64'>: [0, 0, 0]\n",
      "trip_day_of_week_xf <dtype: 'int64'>: [0, 4, 4]\n",
      "trip_day_xf <dtype: 'int64'>: [9, 24, 21]\n",
      "trip_hour_xf <dtype: 'int64'>: [21, 20, 11]\n",
      "trip_miles_xf <dtype: 'float32'>: [0.4045217037200928, -0.30162057280540466, -0.174350768327713]\n",
      "trip_month_xf <dtype: 'int64'>: [0, 1, 1]\n",
      "trip_seconds_xf <dtype: 'float32'>: [0.22258223593235016, -0.19465206563472748, -0.18432681262493134]\n",
      "target: [0, 0, 0]\n"
     ]
    }
   ],
   "source": [
    "train_data_file_pattern = os.path.join(TRANSFORMED_DATA_PREFIX,'train/data-*.gz')\n",
    "eval_data_file_pattern = os.path.join(TRANSFORMED_DATA_PREFIX,'eval/data-*.gz')\n",
    "\n",
    "for input_features, target in data.get_dataset(\n",
    "    train_data_file_pattern, transform_feature_spec, batch_size=3).take(1):\n",
    "    for key in input_features:\n",
    "        print(f\"{key} {input_features[key].dtype}: {input_features[key].numpy().tolist()}\")\n",
    "    print(f\"target: {target.numpy().tolist()}\")"
   ]
  },
  {
   "cell_type": "markdown",
   "id": "d0f363d4",
   "metadata": {},
   "source": [
    "### Create hyperparameters"
   ]
  },
  {
   "cell_type": "code",
   "execution_count": 18,
   "id": "b4fced82",
   "metadata": {},
   "outputs": [
    {
     "data": {
      "text/plain": [
       "{'hidden_units': [64, 32],\n",
       " 'learning_rate': 0.0001,\n",
       " 'batch_size': 512,\n",
       " 'num_epochs': 10}"
      ]
     },
     "execution_count": 18,
     "metadata": {},
     "output_type": "execute_result"
    }
   ],
   "source": [
    "hyperparams = {\n",
    "    \"hidden_units\": [64, 32]\n",
    "}\n",
    "\n",
    "hyperparams = defaults.update_hyperparams(hyperparams)\n",
    "hyperparams"
   ]
  },
  {
   "cell_type": "markdown",
   "id": "3c17b65e",
   "metadata": {},
   "source": [
    "### Create and test model inputs and outputs"
   ]
  },
  {
   "cell_type": "code",
   "execution_count": 19,
   "id": "a05b0f63",
   "metadata": {},
   "outputs": [
    {
     "name": "stdout",
     "output_type": "stream",
     "text": [
      "Model: \"model\"\n",
      "__________________________________________________________________________________________________\n",
      " Layer (type)                   Output Shape         Param #     Connected to                     \n",
      "==================================================================================================\n",
      " trip_month_xf (InputLayer)     [(None,)]            0           []                               \n",
      "                                                                                                  \n",
      " trip_day_xf (InputLayer)       [(None,)]            0           []                               \n",
      "                                                                                                  \n",
      " trip_day_of_week_xf (InputLaye  [(None,)]           0           []                               \n",
      " r)                                                                                               \n",
      "                                                                                                  \n",
      " trip_hour_xf (InputLayer)      [(None,)]            0           []                               \n",
      "                                                                                                  \n",
      " trip_seconds_xf (InputLayer)   [(None,)]            0           []                               \n",
      "                                                                                                  \n",
      " trip_miles_xf (InputLayer)     [(None,)]            0           []                               \n",
      "                                                                                                  \n",
      " payment_type_xf (InputLayer)   [(None,)]            0           []                               \n",
      "                                                                                                  \n",
      " pickup_grid_xf (InputLayer)    [(None,)]            0           []                               \n",
      "                                                                                                  \n",
      " dropoff_grid_xf (InputLayer)   [(None,)]            0           []                               \n",
      "                                                                                                  \n",
      " euclidean_xf (InputLayer)      [(None,)]            0           []                               \n",
      "                                                                                                  \n",
      " loc_cross_xf (InputLayer)      [(None,)]            0           []                               \n",
      "                                                                                                  \n",
      " trip_month_xf_embedding (Embed  (None, 2)           18          ['trip_month_xf[0][0]']          \n",
      " ding)                                                                                            \n",
      "                                                                                                  \n",
      " trip_day_xf_embedding (Embeddi  (None, 4)           128         ['trip_day_xf[0][0]']            \n",
      " ng)                                                                                              \n",
      "                                                                                                  \n",
      " trip_day_of_week_xf_onehot (Ca  (None, 7)           0           ['trip_day_of_week_xf[0][0]']    \n",
      " tegoryEncoding)                                                                                  \n",
      "                                                                                                  \n",
      " trip_hour_xf_embedding (Embedd  (None, 3)           75          ['trip_hour_xf[0][0]']           \n",
      " ing)                                                                                             \n",
      "                                                                                                  \n",
      " tf.expand_dims (TFOpLambda)    (None, 1)            0           ['trip_seconds_xf[0][0]']        \n",
      "                                                                                                  \n",
      " tf.expand_dims_1 (TFOpLambda)  (None, 1)            0           ['trip_miles_xf[0][0]']          \n",
      "                                                                                                  \n",
      " payment_type_xf_onehot (Catego  (None, 6)           0           ['payment_type_xf[0][0]']        \n",
      " ryEncoding)                                                                                      \n",
      "                                                                                                  \n",
      " pickup_grid_xf_embedding (Embe  (None, 3)           9           ['pickup_grid_xf[0][0]']         \n",
      " dding)                                                                                           \n",
      "                                                                                                  \n",
      " dropoff_grid_xf_embedding (Emb  (None, 3)           12          ['dropoff_grid_xf[0][0]']        \n",
      " edding)                                                                                          \n",
      "                                                                                                  \n",
      " tf.expand_dims_2 (TFOpLambda)  (None, 1)            0           ['euclidean_xf[0][0]']           \n",
      "                                                                                                  \n",
      " loc_cross_xf_embedding (Embedd  (None, 10)          60          ['loc_cross_xf[0][0]']           \n",
      " ing)                                                                                             \n",
      "                                                                                                  \n",
      " combines_inputs (Concatenate)  (None, 41)           0           ['trip_month_xf_embedding[0][0]',\n",
      "                                                                  'trip_day_xf_embedding[0][0]',  \n",
      "                                                                  'trip_day_of_week_xf_onehot[0][0\n",
      "                                                                 ]',                              \n",
      "                                                                  'trip_hour_xf_embedding[0][0]', \n",
      "                                                                  'tf.expand_dims[0][0]',         \n",
      "                                                                  'tf.expand_dims_1[0][0]',       \n",
      "                                                                  'payment_type_xf_onehot[0][0]', \n",
      "                                                                  'pickup_grid_xf_embedding[0][0]'\n",
      "                                                                 , 'dropoff_grid_xf_embedding[0][0\n",
      "                                                                 ]',                              \n",
      "                                                                  'tf.expand_dims_2[0][0]',       \n",
      "                                                                  'loc_cross_xf_embedding[0][0]'] \n",
      "                                                                                                  \n",
      " feedforward_network (Sequentia  (None, 32)          4768        ['combines_inputs[0][0]']        \n",
      " l)                                                                                               \n",
      "                                                                                                  \n",
      " logits (Dense)                 (None, 1)            33          ['feedforward_network[0][0]']    \n",
      "                                                                                                  \n",
      "==================================================================================================\n",
      "Total params: 5,103\n",
      "Trainable params: 5,103\n",
      "Non-trainable params: 0\n",
      "__________________________________________________________________________________________________\n"
     ]
    }
   ],
   "source": [
    "classifier = model.create_binary_classifier(tft_output, hyperparams)\n",
    "classifier.summary()"
   ]
  },
  {
   "cell_type": "code",
   "execution_count": 20,
   "id": "ad4d33eb",
   "metadata": {},
   "outputs": [
    {
     "data": {
      "image/png": "[encoded data removed]",
      "text/plain": [
       "<IPython.core.display.Image object>"
      ]
     },
     "execution_count": 20,
     "metadata": {},
     "output_type": "execute_result"
    }
   ],
   "source": [
    "keras.utils.plot_model(\n",
    "    classifier, \n",
    "    show_shapes=True, \n",
    "    show_dtype=True\n",
    ")"
   ]
  },
  {
   "cell_type": "code",
   "execution_count": 21,
   "id": "f06e056e",
   "metadata": {},
   "outputs": [
    {
     "data": {
      "text/plain": [
       "<tf.Tensor: shape=(3, 1), dtype=float32, numpy=\n",
       "array([[ 0.11148095],\n",
       "       [-0.06537776],\n",
       "       [-0.06502326]], dtype=float32)>"
      ]
     },
     "execution_count": 21,
     "metadata": {},
     "output_type": "execute_result"
    }
   ],
   "source": [
    "classifier(input_features)"
   ]
  },
  {
   "cell_type": "markdown",
   "id": "1d451ef7",
   "metadata": {},
   "source": [
    "### Train the model locally."
   ]
  },
  {
   "cell_type": "code",
   "execution_count": 22,
   "id": "153efc48",
   "metadata": {},
   "outputs": [],
   "source": [
    "logging.getLogger().setLevel(logging.INFO)\n",
    "\n",
    "hyperparams[\"learning_rate\"] = 0.001\n",
    "hyperparams[\"num_epochs\"] = 5\n",
    "hyperparams[\"batch_size\"] = 512\n",
    "\n",
    "# vertex_ai.log_params(hyperparams)"
   ]
  },
  {
   "cell_type": "code",
   "execution_count": 23,
   "id": "a91c4924",
   "metadata": {},
   "outputs": [
    {
     "name": "stdout",
     "output_type": "stream",
     "text": [
      "Epoch 1/5\n",
      "7/7 [==============================] - 3s 284ms/step - loss: 0.5632 - accuracy: 0.8892 - val_loss: 0.5017 - val_accuracy: 0.9043\n",
      "Epoch 2/5\n",
      "7/7 [==============================] - 1s 104ms/step - loss: 0.4735 - accuracy: 0.8917 - val_loss: 0.4164 - val_accuracy: 0.9053\n",
      "Epoch 3/5\n",
      "7/7 [==============================] - 1s 103ms/step - loss: 0.4009 - accuracy: 0.8915 - val_loss: 0.3488 - val_accuracy: 0.9033\n",
      "Epoch 4/5\n",
      "7/7 [==============================] - 1s 116ms/step - loss: 0.3433 - accuracy: 0.8903 - val_loss: 0.2917 - val_accuracy: 0.9053\n",
      "Epoch 5/5\n",
      "7/7 [==============================] - 1s 101ms/step - loss: 0.2967 - accuracy: 0.8917 - val_loss: 0.2547 - val_accuracy: 0.9043\n"
     ]
    }
   ],
   "source": [
    "classifier = trainer.train(\n",
    "    train_data_dir=train_data_file_pattern,\n",
    "    eval_data_dir=eval_data_file_pattern,\n",
    "    tft_output_dir=TRANSFORM_ARTIFACTS_DIR,\n",
    "    hyperparams=hyperparams,\n",
    "    log_dir=LOG_DIR,\n",
    ")"
   ]
  },
  {
   "cell_type": "code",
   "execution_count": 24,
   "id": "ebbce8e8",
   "metadata": {},
   "outputs": [
    {
     "name": "stdout",
     "output_type": "stream",
     "text": [
      "2/2 [==============================] - 0s 26ms/step - loss: 0.2525 - accuracy: 0.9053\n"
     ]
    }
   ],
   "source": [
    "val_loss, val_accuracy = trainer.evaluate(\n",
    "    model=classifier,\n",
    "    data_dir=eval_data_file_pattern,\n",
    "    raw_schema_location=RAW_SCHEMA_LOCATION,\n",
    "    tft_output_dir=TRANSFORM_ARTIFACTS_DIR,\n",
    "    hyperparams=hyperparams,\n",
    ")"
   ]
  },
  {
   "cell_type": "code",
   "execution_count": 25,
   "id": "30e58239",
   "metadata": {},
   "outputs": [],
   "source": [
    "vertex_ai.log_metrics(\n",
    "    {\"val_loss\": val_loss, \"val_accuracy\": val_accuracy})"
   ]
  },
  {
   "cell_type": "code",
   "execution_count": 26,
   "id": "cff3c829",
   "metadata": {},
   "outputs": [
    {
     "name": "stdout",
     "output_type": "stream",
     "text": [
      "2023-03-27 22:41:40.313176: W tensorflow/stream_executor/platform/default/dso_loader.cc:64] Could not load dynamic library 'libcudart.so.11.0'; dlerror: libcudart.so.11.0: cannot open shared object file: No such file or directory\n",
      "2023-03-27 22:41:40.313230: I tensorflow/stream_executor/cuda/cudart_stub.cc:29] Ignore above cudart dlerror if you do not have a GPU set up on your machine.\n",
      "2023-03-27 22:41:42.181958: W tensorflow/stream_executor/platform/default/dso_loader.cc:64] Could not load dynamic library 'libcuda.so.1'; dlerror: libcuda.so.1: cannot open shared object file: No such file or directory\n",
      "2023-03-27 22:41:42.182015: W tensorflow/stream_executor/cuda/cuda_driver.cc:269] failed call to cuInit: UNKNOWN ERROR (303)\n",
      "2023-03-27 22:41:42.182042: I tensorflow/stream_executor/cuda/cuda_diagnostics.cc:156] kernel driver does not appear to be running on this host (bobby-jacob-mavenwave): /proc/driver/nvidia/version does not exist\n",
      "View your Tensorboard at https://us-central1.tensorboard.googleusercontent.com/experiment/projects+354621994428+locations+us-central1+tensorboards+8667151094595452928+experiments+chicago-taxi-tips-classifier-v01\n",
      "Traceback (most recent call last):\n",
      "  File \"/opt/conda/lib/python3.7/site-packages/google/api_core/grpc_helpers.py\", line 65, in error_remapped_callable\n",
      "    return callable_(*args, **kwargs)\n",
      "  File \"/opt/conda/lib/python3.7/site-packages/grpc/_channel.py\", line 946, in __call__\n",
      "    return _end_unary_response_blocking(state, call, False, None)\n",
      "  File \"/opt/conda/lib/python3.7/site-packages/grpc/_channel.py\", line 849, in _end_unary_response_blocking\n",
      "    raise _InactiveRpcError(state)\n",
      "grpc._channel._InactiveRpcError: <_InactiveRpcError of RPC that terminated with:\n",
      "\tstatus = StatusCode.UNAVAILABLE\n",
      "\tdetails = \"502:Bad Gateway\"\n",
      "\tdebug_error_string = \"UNKNOWN:Error received from peer ipv4:172.217.219.95:443 {grpc_message:\"502:Bad Gateway\", grpc_status:14, created_time:\"2023-03-27T22:42:43.153685017+00:00\"}\"\n",
      ">\n",
      "\n",
      "The above exception was the direct cause of the following exception:\n",
      "\n",
      "Traceback (most recent call last):\n",
      "  File \"/opt/conda/bin/tb-gcp-uploader\", line 10, in <module>\n",
      "    sys.exit(run_main())\n",
      "  File \"/opt/conda/lib/python3.7/site-packages/google/cloud/aiplatform/tensorboard/uploader_main.py\", line 185, in run_main\n",
      "    app.run(main, flags_parser=flags_parser)\n",
      "  File \"/opt/conda/lib/python3.7/site-packages/absl/app.py\", line 308, in run\n",
      "    _run_main(main, args)\n",
      "  File \"/opt/conda/lib/python3.7/site-packages/absl/app.py\", line 254, in _run_main\n",
      "    sys.exit(main(argv))\n",
      "  File \"/opt/conda/lib/python3.7/site-packages/google/cloud/aiplatform/tensorboard/uploader_main.py\", line 158, in main\n",
      "    tb_uploader.start_uploading()\n",
      "  File \"/opt/conda/lib/python3.7/site-packages/google/cloud/aiplatform/tensorboard/uploader.py\", line 383, in start_uploading\n",
      "    self._pre_create_runs_and_time_series()\n",
      "  File \"/opt/conda/lib/python3.7/site-packages/google/cloud/aiplatform/tensorboard/uploader.py\", line 451, in _pre_create_runs_and_time_series\n",
      "    run_tag_name_to_time_series_proto\n",
      "  File \"/opt/conda/lib/python3.7/site-packages/google/cloud/aiplatform/tensorboard/uploader_utils.py\", line 153, in batch_create_time_series\n",
      "    requests=requests,\n",
      "  File \"/opt/conda/lib/python3.7/site-packages/google/cloud/aiplatform_v1/services/tensorboard_service/client.py\", line 2789, in batch_create_tensorboard_time_series\n",
      "    metadata=metadata,\n",
      "  File \"/opt/conda/lib/python3.7/site-packages/google/api_core/gapic_v1/method.py\", line 113, in __call__\n",
      "    return wrapped_func(*args, **kwargs)\n",
      "  File \"/opt/conda/lib/python3.7/site-packages/google/api_core/grpc_helpers.py\", line 67, in error_remapped_callable\n",
      "    raise exceptions.from_grpc_error(exc) from exc\n",
      "google.api_core.exceptions.ServiceUnavailable: 503 502:Bad Gateway\n"
     ]
    }
   ],
   "source": [
    "!tb-gcp-uploader --tensorboard_resource_name={tensorboard_resource_name} \\\n",
    "  --logdir={LOG_DIR} \\\n",
    "  --experiment_name={EXPERIMENT_NAME} --one_shot=True"
   ]
  },
  {
   "cell_type": "markdown",
   "id": "44268d04",
   "metadata": {},
   "source": [
    "### Export the trained model"
   ]
  },
  {
   "cell_type": "code",
   "execution_count": 27,
   "id": "e2cf46d6",
   "metadata": {},
   "outputs": [
    {
     "name": "stdout",
     "output_type": "stream",
     "text": [
      "INFO:tensorflow:struct2tensor is not available.\n",
      "INFO:tensorflow:tensorflow_decision_forests is not available.\n",
      "INFO:tensorflow:tensorflow_text is not available.\n",
      "INFO:tensorflow:Assets written to: gs://ds-training-380514/chicago-taxi-tips/experiments/chicago-taxi-tips-classifier-v01/run-local-20230327223943/model/assets\n"
     ]
    }
   ],
   "source": [
    "saved_model_dir = os.path.join(EXPORT_DIR)\n",
    "\n",
    "exporter.export_serving_model(\n",
    "    classifier=classifier,\n",
    "    serving_model_dir=saved_model_dir,\n",
    "    raw_schema_location=RAW_SCHEMA_LOCATION,\n",
    "    tft_output_dir=TRANSFORM_ARTIFACTS_DIR,\n",
    ")"
   ]
  },
  {
   "cell_type": "markdown",
   "id": "dba1ba3e",
   "metadata": {},
   "source": [
    "### Inspect model serving signatures"
   ]
  },
  {
   "cell_type": "code",
   "execution_count": 28,
   "id": "cb8989c2",
   "metadata": {},
   "outputs": [
    {
     "name": "stdout",
     "output_type": "stream",
     "text": [
      "2023-03-27 22:43:00.337501: W tensorflow/stream_executor/platform/default/dso_loader.cc:64] Could not load dynamic library 'libcudart.so.11.0'; dlerror: libcudart.so.11.0: cannot open shared object file: No such file or directory\n",
      "2023-03-27 22:43:00.337551: I tensorflow/stream_executor/cuda/cudart_stub.cc:29] Ignore above cudart dlerror if you do not have a GPU set up on your machine.\n",
      "The given SavedModel SignatureDef contains the following input(s):\n",
      "  inputs['examples'] tensor_info:\n",
      "      dtype: DT_STRING\n",
      "      shape: (-1)\n",
      "      name: serving_tf_example_examples:0\n",
      "The given SavedModel SignatureDef contains the following output(s):\n",
      "  outputs['probabilities'] tensor_info:\n",
      "      dtype: DT_FLOAT\n",
      "      shape: (-1, 1)\n",
      "      name: StatefulPartitionedCall_41:0\n",
      "Method name is: tensorflow/serving/predict\n"
     ]
    }
   ],
   "source": [
    "!saved_model_cli show --dir={saved_model_dir} --tag_set=serve --signature_def=serving_tf_example"
   ]
  },
  {
   "cell_type": "code",
   "execution_count": 29,
   "id": "7517a78b",
   "metadata": {},
   "outputs": [
    {
     "name": "stdout",
     "output_type": "stream",
     "text": [
      "2023-03-27 22:43:03.700854: W tensorflow/stream_executor/platform/default/dso_loader.cc:64] Could not load dynamic library 'libcudart.so.11.0'; dlerror: libcudart.so.11.0: cannot open shared object file: No such file or directory\n",
      "2023-03-27 22:43:03.700903: I tensorflow/stream_executor/cuda/cudart_stub.cc:29] Ignore above cudart dlerror if you do not have a GPU set up on your machine.\n",
      "The given SavedModel SignatureDef contains the following input(s):\n",
      "  inputs['dropoff_grid'] tensor_info:\n",
      "      dtype: DT_STRING\n",
      "      shape: (-1, 1)\n",
      "      name: serving_default_dropoff_grid:0\n",
      "  inputs['euclidean'] tensor_info:\n",
      "      dtype: DT_FLOAT\n",
      "      shape: (-1, 1)\n",
      "      name: serving_default_euclidean:0\n",
      "  inputs['loc_cross'] tensor_info:\n",
      "      dtype: DT_STRING\n",
      "      shape: (-1, 1)\n",
      "      name: serving_default_loc_cross:0\n",
      "  inputs['payment_type'] tensor_info:\n",
      "      dtype: DT_STRING\n",
      "      shape: (-1, 1)\n",
      "      name: serving_default_payment_type:0\n",
      "  inputs['pickup_grid'] tensor_info:\n",
      "      dtype: DT_STRING\n",
      "      shape: (-1, 1)\n",
      "      name: serving_default_pickup_grid:0\n",
      "  inputs['trip_day'] tensor_info:\n",
      "      dtype: DT_INT64\n",
      "      shape: (-1, 1)\n",
      "      name: serving_default_trip_day:0\n",
      "  inputs['trip_day_of_week'] tensor_info:\n",
      "      dtype: DT_INT64\n",
      "      shape: (-1, 1)\n",
      "      name: serving_default_trip_day_of_week:0\n",
      "  inputs['trip_hour'] tensor_info:\n",
      "      dtype: DT_INT64\n",
      "      shape: (-1, 1)\n",
      "      name: serving_default_trip_hour:0\n",
      "  inputs['trip_miles'] tensor_info:\n",
      "      dtype: DT_FLOAT\n",
      "      shape: (-1, 1)\n",
      "      name: serving_default_trip_miles:0\n",
      "  inputs['trip_month'] tensor_info:\n",
      "      dtype: DT_INT64\n",
      "      shape: (-1, 1)\n",
      "      name: serving_default_trip_month:0\n",
      "  inputs['trip_seconds'] tensor_info:\n",
      "      dtype: DT_INT64\n",
      "      shape: (-1, 1)\n",
      "      name: serving_default_trip_seconds:0\n",
      "The given SavedModel SignatureDef contains the following output(s):\n",
      "  outputs['classes'] tensor_info:\n",
      "      dtype: DT_STRING\n",
      "      shape: (-1, 2)\n",
      "      name: StatefulPartitionedCall_40:0\n",
      "  outputs['scores'] tensor_info:\n",
      "      dtype: DT_FLOAT\n",
      "      shape: (-1, 2)\n",
      "      name: StatefulPartitionedCall_40:1\n",
      "Method name is: tensorflow/serving/predict\n"
     ]
    }
   ],
   "source": [
    "!saved_model_cli show --dir={saved_model_dir} --tag_set=serve --signature_def=serving_default"
   ]
  },
  {
   "cell_type": "markdown",
   "id": "7f68ecd0",
   "metadata": {},
   "source": [
    "### Test the exported SavedModel"
   ]
  },
  {
   "cell_type": "code",
   "execution_count": 30,
   "id": "965d7d03",
   "metadata": {},
   "outputs": [
    {
     "name": "stdout",
     "output_type": "stream",
     "text": [
      "Saved model is loaded.\n"
     ]
    }
   ],
   "source": [
    "serving_model = tf.saved_model.load(saved_model_dir)\n",
    "print(\"Saved model is loaded.\")"
   ]
  },
  {
   "cell_type": "code",
   "execution_count": 31,
   "id": "395f6ac6",
   "metadata": {},
   "outputs": [
    {
     "name": "stdout",
     "output_type": "stream",
     "text": [
      "probabilities: [[0.10981545]\n",
      " [0.07959303]\n",
      " [0.10693768]]\n"
     ]
    }
   ],
   "source": [
    "# Test the serving_tf_example with TF Examples\n",
    "\n",
    "file_names = tf.data.TFRecordDataset.list_files(EXPORTED_DATA_PREFIX + '/data-*.tfrecord')\n",
    "for batch in tf.data.TFRecordDataset(file_names).batch(3).take(1):\n",
    "    predictions = serving_model.signatures['serving_tf_example'](batch)\n",
    "    for key in predictions:\n",
    "        print(f\"{key}: {predictions[key]}\")"
   ]
  },
  {
   "cell_type": "code",
   "execution_count": 32,
   "id": "41f041d6",
   "metadata": {},
   "outputs": [],
   "source": [
    "# Test the serving_default with feature dictionary\n",
    "\n",
    "import tensorflow_data_validation as tfdv\n",
    "from tensorflow_transform.tf_metadata import schema_utils\n",
    "\n",
    "raw_schema = tfdv.load_schema_text(RAW_SCHEMA_LOCATION)\n",
    "raw_feature_spec = schema_utils.schema_as_feature_spec(raw_schema).feature_spec"
   ]
  },
  {
   "cell_type": "code",
   "execution_count": 33,
   "id": "3d51e9ef",
   "metadata": {},
   "outputs": [],
   "source": [
    "instance = {\n",
    "    \"dropoff_grid\": \"POINT(-87.6 41.9)\",\n",
    "    \"euclidean\": 2064.2696,\n",
    "    \"loc_cross\": \"\",\n",
    "    \"payment_type\": \"Credit Card\",\n",
    "    \"pickup_grid\": \"POINT(-87.6 41.9)\",\n",
    "    \"trip_miles\": 1.37,\n",
    "    \"trip_day\": 12,\n",
    "    \"trip_hour\": 6,\n",
    "    \"trip_month\": 2,\n",
    "    \"trip_day_of_week\": 4,\n",
    "    \"trip_seconds\": 555,\n",
    "}\n",
    "\n",
    "for feature_name in instance:\n",
    "    dtype = raw_feature_spec[feature_name].dtype\n",
    "    instance[feature_name] = tf.constant([[instance[feature_name]]], dtype)"
   ]
  },
  {
   "cell_type": "code",
   "execution_count": 34,
   "id": "6469de0d",
   "metadata": {},
   "outputs": [
    {
     "name": "stdout",
     "output_type": "stream",
     "text": [
      "scores: [[0.2756467 0.7243533]]\n",
      "classes: [[b'tip<20%' b'tip>=20%']]\n"
     ]
    }
   ],
   "source": [
    "predictions = serving_model.signatures['serving_default'](**instance)\n",
    "for key in predictions:\n",
    "    print(f\"{key}: {predictions[key].numpy()}\")"
   ]
  },
  {
   "cell_type": "markdown",
   "id": "8cec2080",
   "metadata": {},
   "source": [
    "## Start a new Vertex AI experiment run"
   ]
  },
  {
   "cell_type": "code",
   "execution_count": 35,
   "id": "1d87d0f9",
   "metadata": {},
   "outputs": [
    {
     "name": "stdout",
     "output_type": "stream",
     "text": [
      "Associating projects/354621994428/locations/us-central1/metadataStores/default/contexts/chicago-taxi-tips-classifier-v01-run-gcp-20230327224312 to Experiment: chicago-taxi-tips-classifier-v01\n",
      "Experiment run directory: gs://ds-training-380514/chicago-taxi-tips/experiments/chicago-taxi-tips-classifier-v01/run-gcp-20230327224312\n"
     ]
    }
   ],
   "source": [
    "vertex_ai.init(\n",
    "    project=PROJECT,\n",
    "    staging_bucket=BUCKET,\n",
    "    experiment=EXPERIMENT_NAME)\n",
    "\n",
    "run_id = f\"run-gcp-{datetime.now().strftime('%Y%m%d%H%M%S')}\"\n",
    "vertex_ai.start_run(run_id)\n",
    "\n",
    "EXPERIMENT_RUN_DIR = os.path.join(EXPERIMENT_ARTIFACTS_DIR, EXPERIMENT_NAME, run_id)\n",
    "print(\"Experiment run directory:\", EXPERIMENT_RUN_DIR)"
   ]
  },
  {
   "cell_type": "markdown",
   "id": "8ade27b7",
   "metadata": {},
   "source": [
    "## 3. Submit a Data Processing Job to Dataflow"
   ]
  },
  {
   "cell_type": "code",
   "execution_count": 36,
   "id": "2d903ff5",
   "metadata": {},
   "outputs": [],
   "source": [
    "# EXPORTED_DATA_PREFIX = os.path.join(EXPERIMENT_RUN_DIR, 'exported_data')\n",
    "# TRANSFORMED_DATA_PREFIX = os.path.join(EXPERIMENT_RUN_DIR, 'transformed_data')\n",
    "# TRANSFORM_ARTIFACTS_DIR = os.path.join(EXPERIMENT_RUN_DIR, 'transform_artifacts')"
   ]
  },
  {
   "cell_type": "code",
   "execution_count": 37,
   "id": "3fac3380",
   "metadata": {},
   "outputs": [],
   "source": [
    "# ML_USE = 'UNASSIGNED'\n",
    "# # LIMIT = 1000000\n",
    "# LIMIT = 10000\n",
    "# raw_data_query = datasource_utils.get_training_source_query(\n",
    "#     project=PROJECT, \n",
    "#     region=REGION, \n",
    "#     dataset_display_name=DATASET_DISPLAY_NAME, \n",
    "#     ml_use=ML_USE, \n",
    "#     limit=LIMIT\n",
    "# )\n",
    "\n",
    "# etl_job_name = f\"etl-{MODEL_DISPLAY_NAME}-{run_id}\"\n",
    "\n",
    "# args = {\n",
    "#     'job_name': etl_job_name,\n",
    "#     'runner': 'DataflowRunner',\n",
    "#     'raw_data_query': raw_data_query,\n",
    "#     'exported_data_prefix': EXPORTED_DATA_PREFIX,\n",
    "#     'transformed_data_prefix': TRANSFORMED_DATA_PREFIX,\n",
    "#     'transform_artifact_dir': TRANSFORM_ARTIFACTS_DIR,\n",
    "#     'write_raw_data': False,\n",
    "#     'temporary_dir': os.path.join(WORKSPACE, 'tmp'),\n",
    "#     'gcs_location': os.path.join(WORKSPACE, 'bq_tmp'),\n",
    "#     'project': PROJECT,\n",
    "#     'region': REGION,\n",
    "#     'setup_file': './setup.py',\n",
    "#     'no_use_public_ips': True\n",
    "# }"
   ]
  },
  {
   "cell_type": "code",
   "execution_count": 38,
   "id": "c909d3ca",
   "metadata": {},
   "outputs": [],
   "source": [
    "# vertex_ai.log_params(args)"
   ]
  },
  {
   "cell_type": "code",
   "execution_count": 39,
   "id": "014e5512",
   "metadata": {},
   "outputs": [],
   "source": [
    "# logging.getLogger().setLevel(logging.ERROR)\n",
    "\n",
    "# print(\"Data preprocessing started...\")\n",
    "# etl.run_transform_pipeline(args)\n",
    "# print(\"Data preprocessing completed.\")"
   ]
  },
  {
   "cell_type": "code",
   "execution_count": 40,
   "id": "92a21c21",
   "metadata": {},
   "outputs": [],
   "source": [
    "# !gsutil ls {EXPERIMENT_RUN_DIR}"
   ]
  },
  {
   "cell_type": "markdown",
   "id": "e5c4dfa8",
   "metadata": {},
   "source": [
    "## 4. Submit a Custom Training Job to Vertex AI"
   ]
  },
  {
   "cell_type": "code",
   "execution_count": 41,
   "id": "5a092f85-e75b-4faa-9ac0-1dac1590d3a3",
   "metadata": {},
   "outputs": [],
   "source": [
    "# Fix this error:\n",
    "# ImportError: /lib/x86_64-linux-gnu/libstdc++.so.6: version `GLIBCXX_3.4.30' not found\n",
    "LD_LIBRARY_PATH = f'/opt/conda/lib/'\n",
    "os.environ[\"LD_LIBRARY_PATH\"] = LD_LIBRARY_PATH"
   ]
  },
  {
   "cell_type": "code",
   "execution_count": 42,
   "id": "50db6947",
   "metadata": {},
   "outputs": [],
   "source": [
    "LOG_DIR = os.path.join(EXPERIMENT_RUN_DIR, 'logs')\n",
    "EXPORT_DIR = os.path.join(EXPERIMENT_RUN_DIR, 'model')"
   ]
  },
  {
   "cell_type": "code",
   "execution_count": 43,
   "id": "b7fd7b1f-bc5b-48d6-b4e5-c32412ab4461",
   "metadata": {},
   "outputs": [
    {
     "name": "stdout",
     "output_type": "stream",
     "text": [
      "gs://ds-training-380514/chicago-taxi-tips/experiments/chicago-taxi-tips-classifier-v01/run-gcp-20230327224312/logs \n",
      " gs://ds-training-380514/chicago-taxi-tips/experiments/chicago-taxi-tips-classifier-v01/run-gcp-20230327224312/model\n"
     ]
    }
   ],
   "source": [
    "print(LOG_DIR, \"\\n\", EXPORT_DIR)"
   ]
  },
  {
   "cell_type": "markdown",
   "id": "4e998139",
   "metadata": {},
   "source": [
    "### Test the training task locally"
   ]
  },
  {
   "cell_type": "code",
   "execution_count": 44,
   "id": "9382ba6f",
   "metadata": {},
   "outputs": [
    {
     "name": "stdout",
     "output_type": "stream",
     "text": [
      "2023-03-27 22:43:13.702144: W tensorflow/stream_executor/platform/default/dso_loader.cc:64] Could not load dynamic library 'libcudart.so.11.0'; dlerror: libcudart.so.11.0: cannot open shared object file: No such file or directory; LD_LIBRARY_PATH: /opt/conda/lib/\n",
      "2023-03-27 22:43:13.702193: I tensorflow/stream_executor/cuda/cudart_stub.cc:29] Ignore above cudart dlerror if you do not have a GPU set up on your machine.\n",
      "INFO:root:Python Version = 3.7.12 | packaged by conda-forge | (default, Oct 26 2021, 06:08:21) \n",
      "[GCC 9.4.0]\n",
      "INFO:root:TensorFlow Version = 2.8.4\n",
      "INFO:root:TF_CONFIG = Not found\n",
      "2023-03-27 22:43:17.854337: I tensorflow/core/platform/cpu_feature_guard.cc:151] This TensorFlow binary is optimized with oneAPI Deep Neural Network Library (oneDNN) to use the following CPU instructions in performance-critical operations:  AVX2 FMA\n",
      "To enable them in other operations, rebuild TensorFlow with the appropriate compiler flags.\n",
      "2023-03-27 22:43:17.855708: W tensorflow/stream_executor/platform/default/dso_loader.cc:64] Could not load dynamic library 'libcuda.so.1'; dlerror: libcuda.so.1: cannot open shared object file: No such file or directory; LD_LIBRARY_PATH: /opt/conda/lib/\n",
      "2023-03-27 22:43:17.855744: W tensorflow/stream_executor/cuda/cuda_driver.cc:269] failed call to cuInit: UNKNOWN ERROR (303)\n",
      "2023-03-27 22:43:17.855774: I tensorflow/stream_executor/cuda/cuda_diagnostics.cc:156] kernel driver does not appear to be running on this host (bobby-jacob-mavenwave): /proc/driver/nvidia/version does not exist\n",
      "INFO:root:DEVICES = [name: \"/device:CPU:0\"\n",
      "device_type: \"CPU\"\n",
      "memory_limit: 268435456\n",
      "locality {\n",
      "}\n",
      "incarnation: 14239499041978769333\n",
      "xla_global_id: -1\n",
      "]\n",
      "INFO:root:Task started...\n",
      "INFO:root:Hyperparameter: {'model_dir': 'gs://ds-training-380514/chicago-taxi-tips/experiments/chicago-taxi-tips-classifier-v01/run-gcp-20230327224312/model', 'log_dir': 'gs://ds-training-380514/chicago-taxi-tips/experiments/chicago-taxi-tips-classifier-v01/run-gcp-20230327224312/logs', 'train_data_dir': 'gs://ds-training-380514/chicago-taxi-tips/experiments/chicago-taxi-tips-classifier-v01/run-local-20230327223943/transformed_data/train/*', 'eval_data_dir': 'gs://ds-training-380514/chicago-taxi-tips/experiments/chicago-taxi-tips-classifier-v01/run-local-20230327223943/transformed_data/eval/*', 'tft_output_dir': 'gs://ds-training-380514/chicago-taxi-tips/experiments/chicago-taxi-tips-classifier-v01/run-local-20230327223943/transform_artifacts', 'learning_rate': 0.001, 'batch_size': 512, 'hidden_units': [32, 32], 'num_epochs': 3, 'project': 'ds-training-380514', 'region': 'us-central1', 'staging_bucket': 'ds-training-380514', 'experiment_name': 'chicago-taxi-tips-classifier-v01', 'run_name': 'run-gcp-20230327224312'}\n",
      "INFO:root:Using Vertex AI experiment: chicago-taxi-tips-classifier-v01\n",
      "Traceback (most recent call last):\n",
      "  File \"/opt/conda/lib/python3.7/site-packages/google/api_core/grpc_helpers.py\", line 65, in error_remapped_callable\n",
      "    return callable_(*args, **kwargs)\n",
      "  File \"/opt/conda/lib/python3.7/site-packages/grpc/_channel.py\", line 946, in __call__\n",
      "    return _end_unary_response_blocking(state, call, False, None)\n",
      "  File \"/opt/conda/lib/python3.7/site-packages/grpc/_channel.py\", line 849, in _end_unary_response_blocking\n",
      "    raise _InactiveRpcError(state)\n",
      "grpc._channel._InactiveRpcError: <_InactiveRpcError of RPC that terminated with:\n",
      "\tstatus = StatusCode.ALREADY_EXISTS\n",
      "\tdetails = \"Context with name projects/354621994428/locations/us-central1/metadataStores/default/contexts/chicago-taxi-tips-classifier-v01-run-gcp-20230327224312 already exists\"\n",
      "\tdebug_error_string = \"UNKNOWN:Error received from peer ipv4:173.194.196.95:443 {grpc_message:\"Context with name projects/354621994428/locations/us-central1/metadataStores/default/contexts/chicago-taxi-tips-classifier-v01-run-gcp-20230327224312 already exists\", grpc_status:6, created_time:\"2023-03-27T22:43:18.209305174+00:00\"}\"\n",
      ">\n",
      "\n",
      "The above exception was the direct cause of the following exception:\n",
      "\n",
      "Traceback (most recent call last):\n",
      "  File \"/opt/conda/lib/python3.7/runpy.py\", line 193, in _run_module_as_main\n",
      "    \"__main__\", mod_spec)\n",
      "  File \"/opt/conda/lib/python3.7/runpy.py\", line 85, in _run_code\n",
      "    exec(code, run_globals)\n",
      "  File \"/home/jupyter/awesome-data-science-models/chicago-taxi/src/model_training/task.py\", line 155, in <module>\n",
      "    main()\n",
      "  File \"/home/jupyter/awesome-data-science-models/chicago-taxi/src/model_training/task.py\", line 100, in main\n",
      "    vertex_ai.start_run(run_id)\n",
      "  File \"/opt/conda/lib/python3.7/site-packages/google/cloud/aiplatform/metadata/metadata.py\", line 409, in start_run\n",
      "    run_name=run, experiment=self._experiment, tensorboard=tensorboard\n",
      "  File \"/opt/conda/lib/python3.7/site-packages/google/cloud/aiplatform/metadata/experiment_run_resource.py\", line 695, in create\n",
      "    metadata_context = _create_context()\n",
      "  File \"/opt/conda/lib/python3.7/site-packages/google/cloud/aiplatform/metadata/experiment_run_resource.py\", line 692, in _create_context\n",
      "    credentials=credentials,\n",
      "  File \"/opt/conda/lib/python3.7/site-packages/google/cloud/aiplatform/metadata/context.py\", line 245, in _create\n",
      "    metadata=metadata,\n",
      "  File \"/opt/conda/lib/python3.7/site-packages/google/cloud/aiplatform/metadata/context.py\", line 278, in _create_resource\n",
      "    context_id=resource_id,\n",
      "  File \"/opt/conda/lib/python3.7/site-packages/google/cloud/aiplatform_v1/services/metadata_service/client.py\", line 1886, in create_context\n",
      "    metadata=metadata,\n",
      "  File \"/opt/conda/lib/python3.7/site-packages/google/api_core/gapic_v1/method.py\", line 113, in __call__\n",
      "    return wrapped_func(*args, **kwargs)\n",
      "  File \"/opt/conda/lib/python3.7/site-packages/google/api_core/grpc_helpers.py\", line 67, in error_remapped_callable\n",
      "    raise exceptions.from_grpc_error(exc) from exc\n",
      "google.api_core.exceptions.AlreadyExists: 409 Context with name projects/354621994428/locations/us-central1/metadataStores/default/contexts/chicago-taxi-tips-classifier-v01-run-gcp-20230327224312 already exists\n"
     ]
    }
   ],
   "source": [
    "!python -m src.model_training.task \\\n",
    "    --model-dir={EXPORT_DIR} \\\n",
    "    --log-dir={LOG_DIR} \\\n",
    "    --train-data-dir={TRANSFORMED_DATA_PREFIX}/train/* \\\n",
    "    --eval-data-dir={TRANSFORMED_DATA_PREFIX}/eval/*  \\\n",
    "    --tft-output-dir={TRANSFORM_ARTIFACTS_DIR} \\\n",
    "    --num-epochs=3 \\\n",
    "    --hidden-units=32,32 \\\n",
    "    --experiment-name={EXPERIMENT_NAME} \\\n",
    "    --run-name={run_id} \\\n",
    "    --project={PROJECT} \\\n",
    "    --region={REGION} \\\n",
    "    --staging-bucket={BUCKET}"
   ]
  },
  {
   "cell_type": "markdown",
   "id": "5077e9d4",
   "metadata": {},
   "source": [
    "### Prepare training package"
   ]
  },
  {
   "cell_type": "code",
   "execution_count": 45,
   "id": "d526a189",
   "metadata": {},
   "outputs": [
    {
     "name": "stdout",
     "output_type": "stream",
     "text": [
      "Trainer package upload location: gs://ds-training-380514/chicago-taxi-tips/trainer_packages\n"
     ]
    }
   ],
   "source": [
    "TRAINER_PACKAGE_DIR = os.path.join(WORKSPACE, 'trainer_packages')\n",
    "TRAINER_PACKAGE_NAME = f'{MODEL_DISPLAY_NAME}_trainer'\n",
    "print(\"Trainer package upload location:\", TRAINER_PACKAGE_DIR)"
   ]
  },
  {
   "cell_type": "code",
   "execution_count": 46,
   "id": "550cc9eb",
   "metadata": {},
   "outputs": [
    {
     "name": "stdout",
     "output_type": "stream",
     "text": [
      "rm: cannot remove 'src/*/.ipynb_checkpoints/': No such file or directory\n",
      "chicago-taxi-tips-classifier-v01_trainer/\n",
      "chicago-taxi-tips-classifier-v01_trainer/src/\n",
      "chicago-taxi-tips-classifier-v01_trainer/src/tfx_pipelines/\n",
      "chicago-taxi-tips-classifier-v01_trainer/src/tfx_pipelines/prediction_pipeline.py\n",
      "chicago-taxi-tips-classifier-v01_trainer/src/tfx_pipelines/training_pipeline.py\n",
      "chicago-taxi-tips-classifier-v01_trainer/src/tfx_pipelines/config.py\n",
      "chicago-taxi-tips-classifier-v01_trainer/src/tfx_pipelines/components.py\n",
      "chicago-taxi-tips-classifier-v01_trainer/src/tfx_pipelines/__init__.py\n",
      "chicago-taxi-tips-classifier-v01_trainer/src/tfx_pipelines/runner.py\n",
      "chicago-taxi-tips-classifier-v01_trainer/src/preprocessing/\n",
      "chicago-taxi-tips-classifier-v01_trainer/src/preprocessing/etl.py\n",
      "chicago-taxi-tips-classifier-v01_trainer/src/preprocessing/transformations.py\n",
      "chicago-taxi-tips-classifier-v01_trainer/src/preprocessing/__init__.py\n",
      "chicago-taxi-tips-classifier-v01_trainer/src/pipeline_triggering/\n",
      "chicago-taxi-tips-classifier-v01_trainer/src/pipeline_triggering/requirements.txt\n",
      "chicago-taxi-tips-classifier-v01_trainer/src/pipeline_triggering/main.py\n",
      "chicago-taxi-tips-classifier-v01_trainer/src/pipeline_triggering/__init__.py\n",
      "chicago-taxi-tips-classifier-v01_trainer/src/tests/\n",
      "chicago-taxi-tips-classifier-v01_trainer/src/tests/model_tests.py\n",
      "chicago-taxi-tips-classifier-v01_trainer/src/tests/etl_tests.py\n",
      "chicago-taxi-tips-classifier-v01_trainer/src/tests/model_deployment_tests.py\n",
      "chicago-taxi-tips-classifier-v01_trainer/src/tests/pipeline_deployment_tests.py\n",
      "chicago-taxi-tips-classifier-v01_trainer/src/tests/__init__.py\n",
      "chicago-taxi-tips-classifier-v01_trainer/src/tests/datasource_utils_tests.py\n",
      "chicago-taxi-tips-classifier-v01_trainer/src/__init__.py\n",
      "chicago-taxi-tips-classifier-v01_trainer/src/raw_schema/\n",
      "chicago-taxi-tips-classifier-v01_trainer/src/raw_schema/schema.pbtxt\n",
      "chicago-taxi-tips-classifier-v01_trainer/src/__pycache__/\n",
      "chicago-taxi-tips-classifier-v01_trainer/src/__pycache__/__init__.cpython-37.pyc\n",
      "chicago-taxi-tips-classifier-v01_trainer/src/common/\n",
      "chicago-taxi-tips-classifier-v01_trainer/src/common/datasource_utils.py\n",
      "chicago-taxi-tips-classifier-v01_trainer/src/common/features.py\n",
      "chicago-taxi-tips-classifier-v01_trainer/src/common/__init__.py\n",
      "chicago-taxi-tips-classifier-v01_trainer/src/model_training/\n",
      "chicago-taxi-tips-classifier-v01_trainer/src/model_training/model.py\n",
      "chicago-taxi-tips-classifier-v01_trainer/src/model_training/defaults.py\n",
      "chicago-taxi-tips-classifier-v01_trainer/src/model_training/task.py\n",
      "chicago-taxi-tips-classifier-v01_trainer/src/model_training/__init__.py\n",
      "chicago-taxi-tips-classifier-v01_trainer/src/model_training/data.py\n",
      "chicago-taxi-tips-classifier-v01_trainer/src/model_training/exporter.py\n",
      "chicago-taxi-tips-classifier-v01_trainer/src/model_training/trainer.py\n",
      "chicago-taxi-tips-classifier-v01_trainer/src/model_training/runner.py\n",
      "chicago-taxi-tips-classifier-v01_trainer/setup.py\n",
      "Copying file://chicago-taxi-tips-classifier-v01_trainer.tar.gz [Content-Type=application/x-tar]...\n",
      "/ [1 files][ 17.9 KiB/ 17.9 KiB]                                                \n",
      "Operation completed over 1 objects/17.9 KiB.                                     \n"
     ]
    }
   ],
   "source": [
    "!rm -r src/*/__pycache__/\n",
    "!rm -r src/*/.ipynb_checkpoints/\n",
    "!rm -f {TRAINER_PACKAGE_NAME}.tar {TRAINER_PACKAGE_NAME}.tar.gz\n",
    "\n",
    "!mkdir {TRAINER_PACKAGE_NAME}\n",
    "\n",
    "!cp setup.py {TRAINER_PACKAGE_NAME}/\n",
    "!cp -r src {TRAINER_PACKAGE_NAME}/\n",
    "!tar cvf {TRAINER_PACKAGE_NAME}.tar {TRAINER_PACKAGE_NAME}\n",
    "!gzip {TRAINER_PACKAGE_NAME}.tar\n",
    "!gsutil cp {TRAINER_PACKAGE_NAME}.tar.gz {TRAINER_PACKAGE_DIR}/\n",
    "!rm -r {TRAINER_PACKAGE_NAME}\n",
    "!rm -r {TRAINER_PACKAGE_NAME}.tar.gz"
   ]
  },
  {
   "cell_type": "markdown",
   "id": "7c3af757",
   "metadata": {},
   "source": [
    "### Prepare the training job"
   ]
  },
  {
   "cell_type": "code",
   "execution_count": 47,
   "id": "e01bf43e",
   "metadata": {},
   "outputs": [
    {
     "name": "stdout",
     "output_type": "stream",
     "text": [
      "Training image: us-docker.pkg.dev/vertex-ai/training/tf-cpu.2-8:latest\n"
     ]
    }
   ],
   "source": [
    "# Note: Training runtime is spelled 'tf-cpu.*\" while in later notebooks, serving runtime is spelled 'tf2-cpu.*\"\n",
    "TRAIN_RUNTIME = 'tf-cpu.2-8'\n",
    "TRAIN_IMAGE = f\"us-docker.pkg.dev/vertex-ai/training/{TRAIN_RUNTIME}:latest\"\n",
    "print(\"Training image:\", TRAIN_IMAGE)"
   ]
  },
  {
   "cell_type": "code",
   "execution_count": 48,
   "id": "6d18dba5",
   "metadata": {},
   "outputs": [],
   "source": [
    "num_epochs = 2\n",
    "learning_rate = 0.001\n",
    "hidden_units = \"64,64\"\n",
    "\n",
    "trainer_args = [\n",
    "    f'--train-data-dir={TRANSFORMED_DATA_PREFIX + \"/train/*\"}',\n",
    "    f'--eval-data-dir={TRANSFORMED_DATA_PREFIX + \"/eval/*\"}',\n",
    "    f'--tft-output-dir={TRANSFORM_ARTIFACTS_DIR}',\n",
    "    f'--num-epochs={num_epochs}',\n",
    "    f'--learning-rate={learning_rate}',\n",
    "    f'--project={PROJECT}',\n",
    "    f'--region={REGION}',\n",
    "    f'--staging-bucket={BUCKET}',\n",
    "    f'--experiment-name={EXPERIMENT_NAME}'\n",
    "]"
   ]
  },
  {
   "cell_type": "code",
   "execution_count": 49,
   "id": "0a30d0d3",
   "metadata": {},
   "outputs": [],
   "source": [
    "package_uri = os.path.join(TRAINER_PACKAGE_DIR, f'{TRAINER_PACKAGE_NAME}.tar.gz')\n",
    "\n",
    "worker_pool_specs = [\n",
    "    {\n",
    "        \"replica_count\": 1,\n",
    "        \"machine_spec\": {\n",
    "            \"machine_type\": 'n1-standard-4',\n",
    "            \"accelerator_count\": 0\n",
    "    },\n",
    "        \"python_package_spec\": {\n",
    "            \"executor_image_uri\": TRAIN_IMAGE,\n",
    "            \"package_uris\": [package_uri],\n",
    "            \"python_module\": \"src.model_training.task\",\n",
    "            \"args\": trainer_args,\n",
    "        }\n",
    "    }\n",
    "]"
   ]
  },
  {
   "cell_type": "markdown",
   "id": "788d6e99",
   "metadata": {},
   "source": [
    "### Submit the training job"
   ]
  },
  {
   "cell_type": "code",
   "execution_count": 50,
   "id": "4544105b",
   "metadata": {},
   "outputs": [
    {
     "name": "stdout",
     "output_type": "stream",
     "text": [
      "Submitting a custom training job...\n",
      "Creating CustomJob\n",
      "CustomJob created. Resource name: projects/354621994428/locations/us-central1/customJobs/2464840774366265344\n",
      "To use this CustomJob in another session:\n",
      "custom_job = aiplatform.CustomJob.get('projects/354621994428/locations/us-central1/customJobs/2464840774366265344')\n",
      "View Custom Job:\n",
      "https://console.cloud.google.com/ai/platform/locations/us-central1/training/2464840774366265344?project=354621994428\n",
      "View Tensorboard:\n",
      "https://us-central1.tensorboard.googleusercontent.com/experiment/projects+354621994428+locations+us-central1+tensorboards+8667151094595452928+experiments+2464840774366265344\n",
      "CustomJob projects/354621994428/locations/us-central1/customJobs/2464840774366265344 current state:\n",
      "JobState.JOB_STATE_PENDING\n",
      "CustomJob projects/354621994428/locations/us-central1/customJobs/2464840774366265344 current state:\n",
      "JobState.JOB_STATE_PENDING\n",
      "CustomJob projects/354621994428/locations/us-central1/customJobs/2464840774366265344 current state:\n",
      "JobState.JOB_STATE_PENDING\n",
      "CustomJob projects/354621994428/locations/us-central1/customJobs/2464840774366265344 current state:\n",
      "JobState.JOB_STATE_PENDING\n",
      "CustomJob projects/354621994428/locations/us-central1/customJobs/2464840774366265344 current state:\n",
      "JobState.JOB_STATE_PENDING\n",
      "CustomJob projects/354621994428/locations/us-central1/customJobs/2464840774366265344 current state:\n",
      "JobState.JOB_STATE_PENDING\n",
      "CustomJob projects/354621994428/locations/us-central1/customJobs/2464840774366265344 current state:\n",
      "JobState.JOB_STATE_PENDING\n",
      "CustomJob projects/354621994428/locations/us-central1/customJobs/2464840774366265344 current state:\n",
      "JobState.JOB_STATE_PENDING\n",
      "CustomJob projects/354621994428/locations/us-central1/customJobs/2464840774366265344 current state:\n",
      "JobState.JOB_STATE_PENDING\n",
      "CustomJob projects/354621994428/locations/us-central1/customJobs/2464840774366265344 current state:\n",
      "JobState.JOB_STATE_PENDING\n",
      "CustomJob projects/354621994428/locations/us-central1/customJobs/2464840774366265344 current state:\n",
      "JobState.JOB_STATE_PENDING\n",
      "CustomJob projects/354621994428/locations/us-central1/customJobs/2464840774366265344 current state:\n",
      "JobState.JOB_STATE_PENDING\n",
      "CustomJob projects/354621994428/locations/us-central1/customJobs/2464840774366265344 current state:\n",
      "JobState.JOB_STATE_PENDING\n",
      "CustomJob projects/354621994428/locations/us-central1/customJobs/2464840774366265344 current state:\n",
      "JobState.JOB_STATE_PENDING\n",
      "CustomJob projects/354621994428/locations/us-central1/customJobs/2464840774366265344 current state:\n",
      "JobState.JOB_STATE_PENDING\n",
      "CustomJob projects/354621994428/locations/us-central1/customJobs/2464840774366265344 current state:\n",
      "JobState.JOB_STATE_PENDING\n",
      "CustomJob projects/354621994428/locations/us-central1/customJobs/2464840774366265344 current state:\n",
      "JobState.JOB_STATE_PENDING\n",
      "CustomJob projects/354621994428/locations/us-central1/customJobs/2464840774366265344 current state:\n",
      "JobState.JOB_STATE_PENDING\n",
      "CustomJob projects/354621994428/locations/us-central1/customJobs/2464840774366265344 current state:\n",
      "JobState.JOB_STATE_PENDING\n",
      "CustomJob projects/354621994428/locations/us-central1/customJobs/2464840774366265344 current state:\n",
      "JobState.JOB_STATE_PENDING\n",
      "CustomJob projects/354621994428/locations/us-central1/customJobs/2464840774366265344 current state:\n",
      "JobState.JOB_STATE_PENDING\n",
      "CustomJob projects/354621994428/locations/us-central1/customJobs/2464840774366265344 current state:\n",
      "JobState.JOB_STATE_PENDING\n",
      "CustomJob projects/354621994428/locations/us-central1/customJobs/2464840774366265344 current state:\n",
      "JobState.JOB_STATE_PENDING\n",
      "CustomJob projects/354621994428/locations/us-central1/customJobs/2464840774366265344 current state:\n",
      "JobState.JOB_STATE_PENDING\n",
      "CustomJob projects/354621994428/locations/us-central1/customJobs/2464840774366265344 current state:\n",
      "JobState.JOB_STATE_PENDING\n",
      "CustomJob projects/354621994428/locations/us-central1/customJobs/2464840774366265344 current state:\n",
      "JobState.JOB_STATE_PENDING\n",
      "CustomJob projects/354621994428/locations/us-central1/customJobs/2464840774366265344 current state:\n",
      "JobState.JOB_STATE_PENDING\n",
      "CustomJob projects/354621994428/locations/us-central1/customJobs/2464840774366265344 current state:\n",
      "JobState.JOB_STATE_PENDING\n",
      "CustomJob projects/354621994428/locations/us-central1/customJobs/2464840774366265344 current state:\n",
      "JobState.JOB_STATE_PENDING\n",
      "CustomJob projects/354621994428/locations/us-central1/customJobs/2464840774366265344 current state:\n",
      "JobState.JOB_STATE_PENDING\n",
      "CustomJob projects/354621994428/locations/us-central1/customJobs/2464840774366265344 current state:\n",
      "JobState.JOB_STATE_PENDING\n",
      "CustomJob projects/354621994428/locations/us-central1/customJobs/2464840774366265344 current state:\n",
      "JobState.JOB_STATE_PENDING\n",
      "CustomJob projects/354621994428/locations/us-central1/customJobs/2464840774366265344 current state:\n",
      "JobState.JOB_STATE_PENDING\n",
      "CustomJob projects/354621994428/locations/us-central1/customJobs/2464840774366265344 current state:\n",
      "JobState.JOB_STATE_PENDING\n",
      "CustomJob projects/354621994428/locations/us-central1/customJobs/2464840774366265344 current state:\n",
      "JobState.JOB_STATE_PENDING\n",
      "CustomJob projects/354621994428/locations/us-central1/customJobs/2464840774366265344 current state:\n",
      "JobState.JOB_STATE_PENDING\n",
      "CustomJob projects/354621994428/locations/us-central1/customJobs/2464840774366265344 current state:\n",
      "JobState.JOB_STATE_PENDING\n",
      "CustomJob projects/354621994428/locations/us-central1/customJobs/2464840774366265344 current state:\n",
      "JobState.JOB_STATE_PENDING\n",
      "CustomJob projects/354621994428/locations/us-central1/customJobs/2464840774366265344 current state:\n",
      "JobState.JOB_STATE_PENDING\n",
      "CustomJob projects/354621994428/locations/us-central1/customJobs/2464840774366265344 current state:\n",
      "JobState.JOB_STATE_PENDING\n",
      "CustomJob projects/354621994428/locations/us-central1/customJobs/2464840774366265344 current state:\n",
      "JobState.JOB_STATE_PENDING\n",
      "CustomJob projects/354621994428/locations/us-central1/customJobs/2464840774366265344 current state:\n",
      "JobState.JOB_STATE_RUNNING\n",
      "CustomJob projects/354621994428/locations/us-central1/customJobs/2464840774366265344 current state:\n",
      "JobState.JOB_STATE_RUNNING\n",
      "CustomJob projects/354621994428/locations/us-central1/customJobs/2464840774366265344 current state:\n",
      "JobState.JOB_STATE_RUNNING\n",
      "CustomJob projects/354621994428/locations/us-central1/customJobs/2464840774366265344 current state:\n",
      "JobState.JOB_STATE_RUNNING\n",
      "CustomJob projects/354621994428/locations/us-central1/customJobs/2464840774366265344 current state:\n",
      "JobState.JOB_STATE_RUNNING\n",
      "CustomJob projects/354621994428/locations/us-central1/customJobs/2464840774366265344 current state:\n",
      "JobState.JOB_STATE_RUNNING\n",
      "CustomJob projects/354621994428/locations/us-central1/customJobs/2464840774366265344 current state:\n",
      "JobState.JOB_STATE_RUNNING\n",
      "CustomJob projects/354621994428/locations/us-central1/customJobs/2464840774366265344 current state:\n",
      "JobState.JOB_STATE_RUNNING\n",
      "CustomJob projects/354621994428/locations/us-central1/customJobs/2464840774366265344 current state:\n",
      "JobState.JOB_STATE_RUNNING\n",
      "CustomJob projects/354621994428/locations/us-central1/customJobs/2464840774366265344 current state:\n",
      "JobState.JOB_STATE_RUNNING\n",
      "CustomJob projects/354621994428/locations/us-central1/customJobs/2464840774366265344 current state:\n",
      "JobState.JOB_STATE_RUNNING\n",
      "CustomJob projects/354621994428/locations/us-central1/customJobs/2464840774366265344 current state:\n",
      "JobState.JOB_STATE_RUNNING\n",
      "CustomJob projects/354621994428/locations/us-central1/customJobs/2464840774366265344 current state:\n",
      "JobState.JOB_STATE_RUNNING\n",
      "CustomJob projects/354621994428/locations/us-central1/customJobs/2464840774366265344 current state:\n",
      "JobState.JOB_STATE_FAILED\n"
     ]
    },
    {
     "ename": "RuntimeError",
     "evalue": "Job failed with:\ncode: 3\nmessage: \"The replica workerpool0-0 exited with a non-zero status of 1. \\nTraceback (most recent call last):\\n  File \\\"/opt/conda/lib/python3.7/runpy.py\\\", line 193, in _run_module_as_main\\n    \\\"__main__\\\", mod_spec)\\n  File \\\"/opt/conda/lib/python3.7/runpy.py\\\", line 85, in _run_code\\n    exec(code, run_globals)\\n  File \\\"/root/.local/lib/python3.7/site-packages/src/model_training/task.py\\\", line 27, in <module>\\n    from src.model_training import defaults, trainer, exporter\\n  File \\\"/root/.local/lib/python3.7/site-packages/src/model_training/trainer.py\\\", line 18, in <module>\\n    import tensorflow_transform as tft\\n  File \\\"/opt/conda/lib/python3.7/site-packages/tensorflow_transform/__init__.py\\\", line 19, in <module>\\n    from tensorflow_transform.analyzers import *\\n  File \\\"/opt/conda/lib/python3.7/site-packages/tensorflow_transform/analyzers.py\\\", line 39, in <module>\\n    from tensorflow_transform import analyzer_nodes\\n  File \\\"/opt/conda/lib/python3.7/site-packages/tensorflow_transform/analyzer_nodes.py\\\", line 36, in <module>\\n    from tensorflow_transform import nodes\\n  File \\\"/opt/conda/lib/python3.7/site-packages/tensorflow_transform/nodes.py\\\", line 33, in <module>\\n    from future.utils import with_metaclass\\nModuleNotFoundError: No module named \\'future\\'\\n\\nTo find out more about why your job exited please check the logs: https://console.cloud.google.com/logs/viewer?project=354621994428&resource=ml_job%2Fjob_id%2F2464840774366265344&advancedFilter=resource.type%3D%22ml_job%22%0Aresource.labels.job_id%3D%222464840774366265344%22\"\n",
     "output_type": "error",
     "traceback": [
      "\u001b[0;31m---------------------------------------------------------------------------\u001b[0m",
      "\u001b[0;31mRuntimeError\u001b[0m                              Traceback (most recent call last)",
      "\u001b[0;32m/var/tmp/ipykernel_30446/715272727.py\u001b[0m in \u001b[0;36m<module>\u001b[0;34m\u001b[0m\n\u001b[1;32m     12\u001b[0m     \u001b[0mservice_account\u001b[0m\u001b[0;34m=\u001b[0m\u001b[0mSERVICE_ACCOUNT\u001b[0m\u001b[0;34m,\u001b[0m\u001b[0;34m\u001b[0m\u001b[0;34m\u001b[0m\u001b[0m\n\u001b[1;32m     13\u001b[0m     \u001b[0mtensorboard\u001b[0m\u001b[0;34m=\u001b[0m\u001b[0mtensorboard_resource_name\u001b[0m\u001b[0;34m,\u001b[0m\u001b[0;34m\u001b[0m\u001b[0;34m\u001b[0m\u001b[0m\n\u001b[0;32m---> 14\u001b[0;31m     \u001b[0msync\u001b[0m\u001b[0;34m=\u001b[0m\u001b[0;32mTrue\u001b[0m\u001b[0;34m\u001b[0m\u001b[0;34m\u001b[0m\u001b[0m\n\u001b[0m\u001b[1;32m     15\u001b[0m )\n",
      "\u001b[0;32m/opt/conda/lib/python3.7/site-packages/google/cloud/aiplatform/jobs.py\u001b[0m in \u001b[0;36mrun\u001b[0;34m(self, service_account, network, timeout, restart_job_on_worker_restart, enable_web_access, tensorboard, sync, create_request_timeout)\u001b[0m\n\u001b[1;32m   1604\u001b[0m             \u001b[0mtensorboard\u001b[0m\u001b[0;34m=\u001b[0m\u001b[0mtensorboard\u001b[0m\u001b[0;34m,\u001b[0m\u001b[0;34m\u001b[0m\u001b[0;34m\u001b[0m\u001b[0m\n\u001b[1;32m   1605\u001b[0m             \u001b[0msync\u001b[0m\u001b[0;34m=\u001b[0m\u001b[0msync\u001b[0m\u001b[0;34m,\u001b[0m\u001b[0;34m\u001b[0m\u001b[0;34m\u001b[0m\u001b[0m\n\u001b[0;32m-> 1606\u001b[0;31m             \u001b[0mcreate_request_timeout\u001b[0m\u001b[0;34m=\u001b[0m\u001b[0mcreate_request_timeout\u001b[0m\u001b[0;34m,\u001b[0m\u001b[0;34m\u001b[0m\u001b[0;34m\u001b[0m\u001b[0m\n\u001b[0m\u001b[1;32m   1607\u001b[0m         )\n\u001b[1;32m   1608\u001b[0m \u001b[0;34m\u001b[0m\u001b[0m\n",
      "\u001b[0;32m/opt/conda/lib/python3.7/site-packages/google/cloud/aiplatform/base.py\u001b[0m in \u001b[0;36mwrapper\u001b[0;34m(*args, **kwargs)\u001b[0m\n\u001b[1;32m    808\u001b[0m                 \u001b[0;32mif\u001b[0m \u001b[0mself\u001b[0m\u001b[0;34m:\u001b[0m\u001b[0;34m\u001b[0m\u001b[0;34m\u001b[0m\u001b[0m\n\u001b[1;32m    809\u001b[0m                     \u001b[0mVertexAiResourceNounWithFutureManager\u001b[0m\u001b[0;34m.\u001b[0m\u001b[0mwait\u001b[0m\u001b[0;34m(\u001b[0m\u001b[0mself\u001b[0m\u001b[0;34m)\u001b[0m\u001b[0;34m\u001b[0m\u001b[0;34m\u001b[0m\u001b[0m\n\u001b[0;32m--> 810\u001b[0;31m                 \u001b[0;32mreturn\u001b[0m \u001b[0mmethod\u001b[0m\u001b[0;34m(\u001b[0m\u001b[0;34m*\u001b[0m\u001b[0margs\u001b[0m\u001b[0;34m,\u001b[0m \u001b[0;34m**\u001b[0m\u001b[0mkwargs\u001b[0m\u001b[0;34m)\u001b[0m\u001b[0;34m\u001b[0m\u001b[0;34m\u001b[0m\u001b[0m\n\u001b[0m\u001b[1;32m    811\u001b[0m \u001b[0;34m\u001b[0m\u001b[0m\n\u001b[1;32m    812\u001b[0m             \u001b[0;31m# callbacks to call within the Future (in same Thread)\u001b[0m\u001b[0;34m\u001b[0m\u001b[0;34m\u001b[0m\u001b[0;34m\u001b[0m\u001b[0m\n",
      "\u001b[0;32m/opt/conda/lib/python3.7/site-packages/google/cloud/aiplatform/jobs.py\u001b[0m in \u001b[0;36m_run\u001b[0;34m(self, service_account, network, timeout, restart_job_on_worker_restart, enable_web_access, tensorboard, sync, create_request_timeout)\u001b[0m\n\u001b[1;32m   1671\u001b[0m         )\n\u001b[1;32m   1672\u001b[0m \u001b[0;34m\u001b[0m\u001b[0m\n\u001b[0;32m-> 1673\u001b[0;31m         \u001b[0mself\u001b[0m\u001b[0;34m.\u001b[0m\u001b[0m_block_until_complete\u001b[0m\u001b[0;34m(\u001b[0m\u001b[0;34m)\u001b[0m\u001b[0;34m\u001b[0m\u001b[0;34m\u001b[0m\u001b[0m\n\u001b[0m\u001b[1;32m   1674\u001b[0m \u001b[0;34m\u001b[0m\u001b[0m\n\u001b[1;32m   1675\u001b[0m     def submit(\n",
      "\u001b[0;32m/opt/conda/lib/python3.7/site-packages/google/cloud/aiplatform/jobs.py\u001b[0m in \u001b[0;36m_block_until_complete\u001b[0;34m(self)\u001b[0m\n\u001b[1;32m   1067\u001b[0m         \u001b[0;31m# JOB_STATE_FAILED or JOB_STATE_CANCELLED.\u001b[0m\u001b[0;34m\u001b[0m\u001b[0;34m\u001b[0m\u001b[0;34m\u001b[0m\u001b[0m\n\u001b[1;32m   1068\u001b[0m         \u001b[0;32mif\u001b[0m \u001b[0mself\u001b[0m\u001b[0;34m.\u001b[0m\u001b[0m_gca_resource\u001b[0m\u001b[0;34m.\u001b[0m\u001b[0mstate\u001b[0m \u001b[0;32min\u001b[0m \u001b[0m_JOB_ERROR_STATES\u001b[0m\u001b[0;34m:\u001b[0m\u001b[0;34m\u001b[0m\u001b[0;34m\u001b[0m\u001b[0m\n\u001b[0;32m-> 1069\u001b[0;31m             \u001b[0;32mraise\u001b[0m \u001b[0mRuntimeError\u001b[0m\u001b[0;34m(\u001b[0m\u001b[0;34m\"Job failed with:\\n%s\"\u001b[0m \u001b[0;34m%\u001b[0m \u001b[0mself\u001b[0m\u001b[0;34m.\u001b[0m\u001b[0m_gca_resource\u001b[0m\u001b[0;34m.\u001b[0m\u001b[0merror\u001b[0m\u001b[0;34m)\u001b[0m\u001b[0;34m\u001b[0m\u001b[0;34m\u001b[0m\u001b[0m\n\u001b[0m\u001b[1;32m   1070\u001b[0m         \u001b[0;32melse\u001b[0m\u001b[0;34m:\u001b[0m\u001b[0;34m\u001b[0m\u001b[0;34m\u001b[0m\u001b[0m\n\u001b[1;32m   1071\u001b[0m             \u001b[0m_LOGGER\u001b[0m\u001b[0;34m.\u001b[0m\u001b[0mlog_action_completed_against_resource\u001b[0m\u001b[0;34m(\u001b[0m\u001b[0;34m\"run\"\u001b[0m\u001b[0;34m,\u001b[0m \u001b[0;34m\"completed\"\u001b[0m\u001b[0;34m,\u001b[0m \u001b[0mself\u001b[0m\u001b[0;34m)\u001b[0m\u001b[0;34m\u001b[0m\u001b[0;34m\u001b[0m\u001b[0m\n",
      "\u001b[0;31mRuntimeError\u001b[0m: Job failed with:\ncode: 3\nmessage: \"The replica workerpool0-0 exited with a non-zero status of 1. \\nTraceback (most recent call last):\\n  File \\\"/opt/conda/lib/python3.7/runpy.py\\\", line 193, in _run_module_as_main\\n    \\\"__main__\\\", mod_spec)\\n  File \\\"/opt/conda/lib/python3.7/runpy.py\\\", line 85, in _run_code\\n    exec(code, run_globals)\\n  File \\\"/root/.local/lib/python3.7/site-packages/src/model_training/task.py\\\", line 27, in <module>\\n    from src.model_training import defaults, trainer, exporter\\n  File \\\"/root/.local/lib/python3.7/site-packages/src/model_training/trainer.py\\\", line 18, in <module>\\n    import tensorflow_transform as tft\\n  File \\\"/opt/conda/lib/python3.7/site-packages/tensorflow_transform/__init__.py\\\", line 19, in <module>\\n    from tensorflow_transform.analyzers import *\\n  File \\\"/opt/conda/lib/python3.7/site-packages/tensorflow_transform/analyzers.py\\\", line 39, in <module>\\n    from tensorflow_transform import analyzer_nodes\\n  File \\\"/opt/conda/lib/python3.7/site-packages/tensorflow_transform/analyzer_nodes.py\\\", line 36, in <module>\\n    from tensorflow_transform import nodes\\n  File \\\"/opt/conda/lib/python3.7/site-packages/tensorflow_transform/nodes.py\\\", line 33, in <module>\\n    from future.utils import with_metaclass\\nModuleNotFoundError: No module named \\'future\\'\\n\\nTo find out more about why your job exited please check the logs: https://console.cloud.google.com/logs/viewer?project=354621994428&resource=ml_job%2Fjob_id%2F2464840774366265344&advancedFilter=resource.type%3D%22ml_job%22%0Aresource.labels.job_id%3D%222464840774366265344%22\"\n"
     ]
    }
   ],
   "source": [
    "# print(\"Submitting a custom training job...\")\n",
    "\n",
    "# training_job_display_name = f\"{TRAINER_PACKAGE_NAME}_{run_id}\"\n",
    "\n",
    "# training_job = vertex_ai.CustomJob(\n",
    "#     display_name=training_job_display_name,\n",
    "#     worker_pool_specs=worker_pool_specs,\n",
    "#     base_output_dir=EXPERIMENT_RUN_DIR,\n",
    "# )\n",
    "\n",
    "# training_job.run(\n",
    "#     service_account=SERVICE_ACCOUNT,\n",
    "#     tensorboard=tensorboard_resource_name,\n",
    "#     sync=True\n",
    "# )"
   ]
  },
  {
   "cell_type": "markdown",
   "id": "c2896b59",
   "metadata": {},
   "source": [
    "## 5. Upload exported model to Vertex AI Models"
   ]
  },
  {
   "cell_type": "code",
   "execution_count": 51,
   "id": "e86b288b",
   "metadata": {},
   "outputs": [
    {
     "name": "stdout",
     "output_type": "stream",
     "text": [
      "CommandException: One or more URLs matched no objects.\n"
     ]
    }
   ],
   "source": [
    "!gsutil ls {EXPORT_DIR}"
   ]
  },
  {
   "cell_type": "markdown",
   "id": "f40e0c39",
   "metadata": {},
   "source": [
    "### Generate the Explanation metadata"
   ]
  },
  {
   "cell_type": "code",
   "execution_count": null,
   "id": "e3d5df4c",
   "metadata": {},
   "outputs": [],
   "source": [
    "explanation_config = features.generate_explanation_config()\n",
    "explanation_config"
   ]
  },
  {
   "cell_type": "markdown",
   "id": "85cd0587",
   "metadata": {},
   "source": [
    "### Upload model"
   ]
  },
  {
   "cell_type": "code",
   "execution_count": null,
   "id": "a6d0dbb2",
   "metadata": {},
   "outputs": [],
   "source": [
    "# SERVING_RUNTIME='tf-cpu.2-8'\n",
    "# SERVING_IMAGE = f\"us-docker.pkg.dev/vertex-ai/prediction/{SERVING_RUNTIME}:latest\"\n",
    "# print(\"Serving image:\", SERVING_IMAGE)"
   ]
  },
  {
   "cell_type": "code",
   "execution_count": null,
   "id": "1b24abd6",
   "metadata": {},
   "outputs": [],
   "source": [
    "# explanation_metadata = vertex_ai.explain.ExplanationMetadata(\n",
    "#     inputs=explanation_config[\"inputs\"],\n",
    "#     outputs=explanation_config[\"outputs\"],\n",
    "# )\n",
    "# explanation_parameters = vertex_ai.explain.ExplanationParameters(\n",
    "#     explanation_config[\"params\"]\n",
    "# )\n",
    "\n",
    "# vertex_model = vertex_ai.Model.upload(\n",
    "#     display_name=MODEL_DISPLAY_NAME,\n",
    "#     artifact_uri=EXPORT_DIR,\n",
    "#     serving_container_image_uri=SERVING_IMAGE,\n",
    "#     parameters_schema_uri=None,\n",
    "#     instance_schema_uri=None,\n",
    "#     explanation_metadata=explanation_metadata,\n",
    "#     explanation_parameters=explanation_parameters,\n",
    "#     labels={\n",
    "#         'dataset_name': DATASET_DISPLAY_NAME,\n",
    "#         'experiment': run_id\n",
    "#     }\n",
    "# )"
   ]
  },
  {
   "cell_type": "code",
   "execution_count": null,
   "id": "51756dbb",
   "metadata": {},
   "outputs": [],
   "source": [
    "# vertex_model.gca_resource"
   ]
  },
  {
   "cell_type": "markdown",
   "id": "4aa55220",
   "metadata": {},
   "source": [
    "## 6. Extract experiment run parameters"
   ]
  },
  {
   "cell_type": "code",
   "execution_count": null,
   "id": "07808f8a",
   "metadata": {},
   "outputs": [],
   "source": [
    "experiment_df = vertex_ai.get_experiment_df()\n",
    "experiment_df = experiment_df[experiment_df.experiment_name == EXPERIMENT_NAME]\n",
    "experiment_df.T"
   ]
  },
  {
   "cell_type": "code",
   "execution_count": null,
   "id": "367183aa",
   "metadata": {},
   "outputs": [],
   "source": [
    "print(\"Vertex AI Experiments:\")\n",
    "print(\n",
    "    f\"https://console.cloud.google.com/vertex-ai/locations{REGION}/experiments/{EXPERIMENT_NAME}/metrics?project={PROJECT}\"\n",
    ")"
   ]
  },
  {
   "cell_type": "markdown",
   "id": "c96618f6",
   "metadata": {},
   "source": [
    "## 7. Submit a Hyperparameter Tuning Job to Vertex AI\n",
    "\n",
    "For more information about configuring a hyperparameter study, refer to [Vertex AI Hyperparameter job configuration](https://cloud.google.com/vertex-ai/docs/training/using-hyperparameter-tuning)."
   ]
  },
  {
   "cell_type": "markdown",
   "id": "bc1b87cd",
   "metadata": {},
   "source": [
    "### Configure a hyperparameter job"
   ]
  },
  {
   "cell_type": "code",
   "execution_count": 52,
   "id": "66ffa249",
   "metadata": {},
   "outputs": [],
   "source": [
    "metric_spec = {\n",
    "    'ACCURACY': 'maximize'\n",
    "}\n",
    "\n",
    "parameter_spec = {\n",
    "    'learning-rate': hp_tuning.DoubleParameterSpec(min=0.0001, max=0.01, scale='log'),\n",
    "    'hidden-units': hp_tuning.CategoricalParameterSpec(values=[\"32,32\", \"64,64\", \"128,128\"])\n",
    "}"
   ]
  },
  {
   "cell_type": "code",
   "execution_count": 53,
   "id": "d2454dc5",
   "metadata": {},
   "outputs": [],
   "source": [
    "tuning_job_display_name = f\"hpt_{TRAINER_PACKAGE_NAME}_{run_id}\"\n",
    "\n",
    "hp_tuning_job = vertex_ai.HyperparameterTuningJob(\n",
    "    display_name=tuning_job_display_name,\n",
    "    custom_job=training_job,\n",
    "    metric_spec=metric_spec,\n",
    "    parameter_spec=parameter_spec,\n",
    "    max_trial_count=4,\n",
    "    parallel_trial_count=2,\n",
    "    search_algorithm=None # Bayesian optimization.\n",
    ")"
   ]
  },
  {
   "cell_type": "markdown",
   "id": "b8e4ee22",
   "metadata": {},
   "source": [
    "### Submit the hyperparameter tuning job"
   ]
  },
  {
   "cell_type": "code",
   "execution_count": 54,
   "id": "dc5b434d",
   "metadata": {},
   "outputs": [
    {
     "name": "stdout",
     "output_type": "stream",
     "text": [
      "Submitting a hyperparameter tunning job...\n",
      "Creating HyperparameterTuningJob\n",
      "HyperparameterTuningJob created. Resource name: projects/354621994428/locations/us-central1/hyperparameterTuningJobs/4651338393454641152\n",
      "To use this HyperparameterTuningJob in another session:\n",
      "hpt_job = aiplatform.HyperparameterTuningJob.get('projects/354621994428/locations/us-central1/hyperparameterTuningJobs/4651338393454641152')\n",
      "View HyperparameterTuningJob:\n",
      "https://console.cloud.google.com/ai/platform/locations/us-central1/training/4651338393454641152?project=354621994428\n",
      "View Tensorboard:\n",
      "https://us-central1.tensorboard.googleusercontent.com/experiment/projects+354621994428+locations+us-central1+tensorboards+8667151094595452928+experiments+4651338393454641152\n",
      "HyperparameterTuningJob projects/354621994428/locations/us-central1/hyperparameterTuningJobs/4651338393454641152 current state:\n",
      "JobState.JOB_STATE_PENDING\n",
      "HyperparameterTuningJob projects/354621994428/locations/us-central1/hyperparameterTuningJobs/4651338393454641152 current state:\n",
      "JobState.JOB_STATE_RUNNING\n",
      "HyperparameterTuningJob projects/354621994428/locations/us-central1/hyperparameterTuningJobs/4651338393454641152 current state:\n",
      "JobState.JOB_STATE_RUNNING\n",
      "HyperparameterTuningJob projects/354621994428/locations/us-central1/hyperparameterTuningJobs/4651338393454641152 current state:\n",
      "JobState.JOB_STATE_RUNNING\n",
      "HyperparameterTuningJob projects/354621994428/locations/us-central1/hyperparameterTuningJobs/4651338393454641152 current state:\n",
      "JobState.JOB_STATE_RUNNING\n",
      "HyperparameterTuningJob projects/354621994428/locations/us-central1/hyperparameterTuningJobs/4651338393454641152 current state:\n",
      "JobState.JOB_STATE_RUNNING\n",
      "HyperparameterTuningJob projects/354621994428/locations/us-central1/hyperparameterTuningJobs/4651338393454641152 current state:\n",
      "JobState.JOB_STATE_RUNNING\n",
      "HyperparameterTuningJob projects/354621994428/locations/us-central1/hyperparameterTuningJobs/4651338393454641152 current state:\n",
      "JobState.JOB_STATE_RUNNING\n",
      "HyperparameterTuningJob projects/354621994428/locations/us-central1/hyperparameterTuningJobs/4651338393454641152 current state:\n",
      "JobState.JOB_STATE_RUNNING\n",
      "HyperparameterTuningJob projects/354621994428/locations/us-central1/hyperparameterTuningJobs/4651338393454641152 current state:\n",
      "JobState.JOB_STATE_RUNNING\n",
      "HyperparameterTuningJob projects/354621994428/locations/us-central1/hyperparameterTuningJobs/4651338393454641152 current state:\n",
      "JobState.JOB_STATE_RUNNING\n",
      "HyperparameterTuningJob projects/354621994428/locations/us-central1/hyperparameterTuningJobs/4651338393454641152 current state:\n",
      "JobState.JOB_STATE_RUNNING\n",
      "HyperparameterTuningJob projects/354621994428/locations/us-central1/hyperparameterTuningJobs/4651338393454641152 current state:\n",
      "JobState.JOB_STATE_RUNNING\n",
      "HyperparameterTuningJob projects/354621994428/locations/us-central1/hyperparameterTuningJobs/4651338393454641152 current state:\n",
      "JobState.JOB_STATE_RUNNING\n",
      "HyperparameterTuningJob projects/354621994428/locations/us-central1/hyperparameterTuningJobs/4651338393454641152 current state:\n",
      "JobState.JOB_STATE_RUNNING\n",
      "HyperparameterTuningJob projects/354621994428/locations/us-central1/hyperparameterTuningJobs/4651338393454641152 current state:\n",
      "JobState.JOB_STATE_RUNNING\n",
      "HyperparameterTuningJob projects/354621994428/locations/us-central1/hyperparameterTuningJobs/4651338393454641152 current state:\n",
      "JobState.JOB_STATE_RUNNING\n",
      "HyperparameterTuningJob projects/354621994428/locations/us-central1/hyperparameterTuningJobs/4651338393454641152 current state:\n",
      "JobState.JOB_STATE_RUNNING\n",
      "HyperparameterTuningJob projects/354621994428/locations/us-central1/hyperparameterTuningJobs/4651338393454641152 current state:\n",
      "JobState.JOB_STATE_RUNNING\n",
      "HyperparameterTuningJob projects/354621994428/locations/us-central1/hyperparameterTuningJobs/4651338393454641152 current state:\n",
      "JobState.JOB_STATE_RUNNING\n",
      "HyperparameterTuningJob projects/354621994428/locations/us-central1/hyperparameterTuningJobs/4651338393454641152 current state:\n",
      "JobState.JOB_STATE_RUNNING\n",
      "HyperparameterTuningJob projects/354621994428/locations/us-central1/hyperparameterTuningJobs/4651338393454641152 current state:\n",
      "JobState.JOB_STATE_RUNNING\n",
      "HyperparameterTuningJob projects/354621994428/locations/us-central1/hyperparameterTuningJobs/4651338393454641152 current state:\n",
      "JobState.JOB_STATE_RUNNING\n",
      "HyperparameterTuningJob projects/354621994428/locations/us-central1/hyperparameterTuningJobs/4651338393454641152 current state:\n",
      "JobState.JOB_STATE_RUNNING\n",
      "HyperparameterTuningJob projects/354621994428/locations/us-central1/hyperparameterTuningJobs/4651338393454641152 current state:\n",
      "JobState.JOB_STATE_RUNNING\n",
      "HyperparameterTuningJob projects/354621994428/locations/us-central1/hyperparameterTuningJobs/4651338393454641152 current state:\n",
      "JobState.JOB_STATE_RUNNING\n",
      "HyperparameterTuningJob projects/354621994428/locations/us-central1/hyperparameterTuningJobs/4651338393454641152 current state:\n",
      "JobState.JOB_STATE_RUNNING\n",
      "HyperparameterTuningJob projects/354621994428/locations/us-central1/hyperparameterTuningJobs/4651338393454641152 current state:\n",
      "JobState.JOB_STATE_RUNNING\n",
      "HyperparameterTuningJob projects/354621994428/locations/us-central1/hyperparameterTuningJobs/4651338393454641152 current state:\n",
      "JobState.JOB_STATE_RUNNING\n",
      "HyperparameterTuningJob projects/354621994428/locations/us-central1/hyperparameterTuningJobs/4651338393454641152 current state:\n",
      "JobState.JOB_STATE_RUNNING\n",
      "HyperparameterTuningJob projects/354621994428/locations/us-central1/hyperparameterTuningJobs/4651338393454641152 current state:\n",
      "JobState.JOB_STATE_RUNNING\n",
      "HyperparameterTuningJob projects/354621994428/locations/us-central1/hyperparameterTuningJobs/4651338393454641152 current state:\n",
      "JobState.JOB_STATE_RUNNING\n",
      "HyperparameterTuningJob projects/354621994428/locations/us-central1/hyperparameterTuningJobs/4651338393454641152 current state:\n",
      "JobState.JOB_STATE_RUNNING\n",
      "HyperparameterTuningJob projects/354621994428/locations/us-central1/hyperparameterTuningJobs/4651338393454641152 current state:\n",
      "JobState.JOB_STATE_RUNNING\n",
      "HyperparameterTuningJob projects/354621994428/locations/us-central1/hyperparameterTuningJobs/4651338393454641152 current state:\n",
      "JobState.JOB_STATE_RUNNING\n",
      "HyperparameterTuningJob projects/354621994428/locations/us-central1/hyperparameterTuningJobs/4651338393454641152 current state:\n",
      "JobState.JOB_STATE_RUNNING\n",
      "HyperparameterTuningJob projects/354621994428/locations/us-central1/hyperparameterTuningJobs/4651338393454641152 current state:\n",
      "JobState.JOB_STATE_RUNNING\n",
      "HyperparameterTuningJob projects/354621994428/locations/us-central1/hyperparameterTuningJobs/4651338393454641152 current state:\n",
      "JobState.JOB_STATE_RUNNING\n",
      "HyperparameterTuningJob projects/354621994428/locations/us-central1/hyperparameterTuningJobs/4651338393454641152 current state:\n",
      "JobState.JOB_STATE_RUNNING\n",
      "HyperparameterTuningJob projects/354621994428/locations/us-central1/hyperparameterTuningJobs/4651338393454641152 current state:\n",
      "JobState.JOB_STATE_RUNNING\n",
      "HyperparameterTuningJob projects/354621994428/locations/us-central1/hyperparameterTuningJobs/4651338393454641152 current state:\n",
      "JobState.JOB_STATE_RUNNING\n",
      "HyperparameterTuningJob projects/354621994428/locations/us-central1/hyperparameterTuningJobs/4651338393454641152 current state:\n",
      "JobState.JOB_STATE_RUNNING\n",
      "HyperparameterTuningJob projects/354621994428/locations/us-central1/hyperparameterTuningJobs/4651338393454641152 current state:\n",
      "JobState.JOB_STATE_RUNNING\n",
      "HyperparameterTuningJob projects/354621994428/locations/us-central1/hyperparameterTuningJobs/4651338393454641152 current state:\n",
      "JobState.JOB_STATE_RUNNING\n",
      "HyperparameterTuningJob projects/354621994428/locations/us-central1/hyperparameterTuningJobs/4651338393454641152 current state:\n",
      "JobState.JOB_STATE_RUNNING\n",
      "HyperparameterTuningJob projects/354621994428/locations/us-central1/hyperparameterTuningJobs/4651338393454641152 current state:\n",
      "JobState.JOB_STATE_RUNNING\n",
      "HyperparameterTuningJob projects/354621994428/locations/us-central1/hyperparameterTuningJobs/4651338393454641152 current state:\n",
      "JobState.JOB_STATE_RUNNING\n",
      "HyperparameterTuningJob projects/354621994428/locations/us-central1/hyperparameterTuningJobs/4651338393454641152 current state:\n",
      "JobState.JOB_STATE_RUNNING\n",
      "HyperparameterTuningJob projects/354621994428/locations/us-central1/hyperparameterTuningJobs/4651338393454641152 current state:\n",
      "JobState.JOB_STATE_RUNNING\n",
      "HyperparameterTuningJob projects/354621994428/locations/us-central1/hyperparameterTuningJobs/4651338393454641152 current state:\n",
      "JobState.JOB_STATE_RUNNING\n",
      "HyperparameterTuningJob projects/354621994428/locations/us-central1/hyperparameterTuningJobs/4651338393454641152 current state:\n",
      "JobState.JOB_STATE_RUNNING\n",
      "HyperparameterTuningJob projects/354621994428/locations/us-central1/hyperparameterTuningJobs/4651338393454641152 current state:\n",
      "JobState.JOB_STATE_RUNNING\n",
      "HyperparameterTuningJob projects/354621994428/locations/us-central1/hyperparameterTuningJobs/4651338393454641152 current state:\n",
      "JobState.JOB_STATE_RUNNING\n",
      "HyperparameterTuningJob projects/354621994428/locations/us-central1/hyperparameterTuningJobs/4651338393454641152 current state:\n",
      "JobState.JOB_STATE_RUNNING\n",
      "HyperparameterTuningJob projects/354621994428/locations/us-central1/hyperparameterTuningJobs/4651338393454641152 current state:\n",
      "JobState.JOB_STATE_RUNNING\n",
      "HyperparameterTuningJob projects/354621994428/locations/us-central1/hyperparameterTuningJobs/4651338393454641152 current state:\n",
      "JobState.JOB_STATE_RUNNING\n",
      "HyperparameterTuningJob projects/354621994428/locations/us-central1/hyperparameterTuningJobs/4651338393454641152 current state:\n",
      "JobState.JOB_STATE_RUNNING\n",
      "HyperparameterTuningJob projects/354621994428/locations/us-central1/hyperparameterTuningJobs/4651338393454641152 current state:\n",
      "JobState.JOB_STATE_RUNNING\n",
      "HyperparameterTuningJob projects/354621994428/locations/us-central1/hyperparameterTuningJobs/4651338393454641152 current state:\n",
      "JobState.JOB_STATE_RUNNING\n",
      "HyperparameterTuningJob projects/354621994428/locations/us-central1/hyperparameterTuningJobs/4651338393454641152 current state:\n",
      "JobState.JOB_STATE_RUNNING\n",
      "HyperparameterTuningJob projects/354621994428/locations/us-central1/hyperparameterTuningJobs/4651338393454641152 current state:\n",
      "JobState.JOB_STATE_RUNNING\n",
      "HyperparameterTuningJob projects/354621994428/locations/us-central1/hyperparameterTuningJobs/4651338393454641152 current state:\n",
      "JobState.JOB_STATE_RUNNING\n",
      "HyperparameterTuningJob projects/354621994428/locations/us-central1/hyperparameterTuningJobs/4651338393454641152 current state:\n",
      "JobState.JOB_STATE_RUNNING\n",
      "HyperparameterTuningJob projects/354621994428/locations/us-central1/hyperparameterTuningJobs/4651338393454641152 current state:\n",
      "JobState.JOB_STATE_RUNNING\n",
      "HyperparameterTuningJob projects/354621994428/locations/us-central1/hyperparameterTuningJobs/4651338393454641152 current state:\n",
      "JobState.JOB_STATE_RUNNING\n",
      "HyperparameterTuningJob projects/354621994428/locations/us-central1/hyperparameterTuningJobs/4651338393454641152 current state:\n",
      "JobState.JOB_STATE_RUNNING\n",
      "HyperparameterTuningJob projects/354621994428/locations/us-central1/hyperparameterTuningJobs/4651338393454641152 current state:\n",
      "JobState.JOB_STATE_RUNNING\n",
      "HyperparameterTuningJob projects/354621994428/locations/us-central1/hyperparameterTuningJobs/4651338393454641152 current state:\n",
      "JobState.JOB_STATE_RUNNING\n",
      "HyperparameterTuningJob projects/354621994428/locations/us-central1/hyperparameterTuningJobs/4651338393454641152 current state:\n",
      "JobState.JOB_STATE_RUNNING\n",
      "HyperparameterTuningJob projects/354621994428/locations/us-central1/hyperparameterTuningJobs/4651338393454641152 current state:\n",
      "JobState.JOB_STATE_RUNNING\n",
      "HyperparameterTuningJob projects/354621994428/locations/us-central1/hyperparameterTuningJobs/4651338393454641152 current state:\n",
      "JobState.JOB_STATE_RUNNING\n",
      "HyperparameterTuningJob projects/354621994428/locations/us-central1/hyperparameterTuningJobs/4651338393454641152 current state:\n",
      "JobState.JOB_STATE_RUNNING\n",
      "HyperparameterTuningJob projects/354621994428/locations/us-central1/hyperparameterTuningJobs/4651338393454641152 current state:\n",
      "JobState.JOB_STATE_RUNNING\n",
      "HyperparameterTuningJob projects/354621994428/locations/us-central1/hyperparameterTuningJobs/4651338393454641152 current state:\n",
      "JobState.JOB_STATE_RUNNING\n",
      "HyperparameterTuningJob projects/354621994428/locations/us-central1/hyperparameterTuningJobs/4651338393454641152 current state:\n",
      "JobState.JOB_STATE_RUNNING\n",
      "HyperparameterTuningJob projects/354621994428/locations/us-central1/hyperparameterTuningJobs/4651338393454641152 current state:\n",
      "JobState.JOB_STATE_RUNNING\n",
      "HyperparameterTuningJob projects/354621994428/locations/us-central1/hyperparameterTuningJobs/4651338393454641152 current state:\n",
      "JobState.JOB_STATE_RUNNING\n",
      "HyperparameterTuningJob projects/354621994428/locations/us-central1/hyperparameterTuningJobs/4651338393454641152 current state:\n",
      "JobState.JOB_STATE_RUNNING\n",
      "HyperparameterTuningJob projects/354621994428/locations/us-central1/hyperparameterTuningJobs/4651338393454641152 current state:\n",
      "JobState.JOB_STATE_RUNNING\n",
      "HyperparameterTuningJob projects/354621994428/locations/us-central1/hyperparameterTuningJobs/4651338393454641152 current state:\n",
      "JobState.JOB_STATE_RUNNING\n",
      "HyperparameterTuningJob projects/354621994428/locations/us-central1/hyperparameterTuningJobs/4651338393454641152 current state:\n",
      "JobState.JOB_STATE_RUNNING\n",
      "HyperparameterTuningJob projects/354621994428/locations/us-central1/hyperparameterTuningJobs/4651338393454641152 current state:\n",
      "JobState.JOB_STATE_RUNNING\n",
      "HyperparameterTuningJob projects/354621994428/locations/us-central1/hyperparameterTuningJobs/4651338393454641152 current state:\n",
      "JobState.JOB_STATE_RUNNING\n",
      "HyperparameterTuningJob projects/354621994428/locations/us-central1/hyperparameterTuningJobs/4651338393454641152 current state:\n",
      "JobState.JOB_STATE_RUNNING\n",
      "HyperparameterTuningJob projects/354621994428/locations/us-central1/hyperparameterTuningJobs/4651338393454641152 current state:\n",
      "JobState.JOB_STATE_RUNNING\n",
      "HyperparameterTuningJob projects/354621994428/locations/us-central1/hyperparameterTuningJobs/4651338393454641152 current state:\n",
      "JobState.JOB_STATE_RUNNING\n",
      "HyperparameterTuningJob projects/354621994428/locations/us-central1/hyperparameterTuningJobs/4651338393454641152 current state:\n",
      "JobState.JOB_STATE_RUNNING\n",
      "HyperparameterTuningJob projects/354621994428/locations/us-central1/hyperparameterTuningJobs/4651338393454641152 current state:\n",
      "JobState.JOB_STATE_RUNNING\n",
      "HyperparameterTuningJob projects/354621994428/locations/us-central1/hyperparameterTuningJobs/4651338393454641152 current state:\n",
      "JobState.JOB_STATE_RUNNING\n",
      "HyperparameterTuningJob projects/354621994428/locations/us-central1/hyperparameterTuningJobs/4651338393454641152 current state:\n",
      "JobState.JOB_STATE_RUNNING\n",
      "HyperparameterTuningJob projects/354621994428/locations/us-central1/hyperparameterTuningJobs/4651338393454641152 current state:\n",
      "JobState.JOB_STATE_RUNNING\n",
      "HyperparameterTuningJob projects/354621994428/locations/us-central1/hyperparameterTuningJobs/4651338393454641152 current state:\n",
      "JobState.JOB_STATE_RUNNING\n",
      "HyperparameterTuningJob projects/354621994428/locations/us-central1/hyperparameterTuningJobs/4651338393454641152 current state:\n",
      "JobState.JOB_STATE_RUNNING\n",
      "HyperparameterTuningJob projects/354621994428/locations/us-central1/hyperparameterTuningJobs/4651338393454641152 current state:\n",
      "JobState.JOB_STATE_RUNNING\n",
      "HyperparameterTuningJob projects/354621994428/locations/us-central1/hyperparameterTuningJobs/4651338393454641152 current state:\n",
      "JobState.JOB_STATE_RUNNING\n",
      "HyperparameterTuningJob projects/354621994428/locations/us-central1/hyperparameterTuningJobs/4651338393454641152 current state:\n",
      "JobState.JOB_STATE_RUNNING\n",
      "HyperparameterTuningJob projects/354621994428/locations/us-central1/hyperparameterTuningJobs/4651338393454641152 current state:\n",
      "JobState.JOB_STATE_RUNNING\n",
      "HyperparameterTuningJob projects/354621994428/locations/us-central1/hyperparameterTuningJobs/4651338393454641152 current state:\n",
      "JobState.JOB_STATE_RUNNING\n",
      "HyperparameterTuningJob projects/354621994428/locations/us-central1/hyperparameterTuningJobs/4651338393454641152 current state:\n",
      "JobState.JOB_STATE_RUNNING\n",
      "HyperparameterTuningJob projects/354621994428/locations/us-central1/hyperparameterTuningJobs/4651338393454641152 current state:\n",
      "JobState.JOB_STATE_RUNNING\n",
      "HyperparameterTuningJob projects/354621994428/locations/us-central1/hyperparameterTuningJobs/4651338393454641152 current state:\n",
      "JobState.JOB_STATE_RUNNING\n",
      "HyperparameterTuningJob projects/354621994428/locations/us-central1/hyperparameterTuningJobs/4651338393454641152 current state:\n",
      "JobState.JOB_STATE_RUNNING\n",
      "HyperparameterTuningJob projects/354621994428/locations/us-central1/hyperparameterTuningJobs/4651338393454641152 current state:\n",
      "JobState.JOB_STATE_RUNNING\n",
      "HyperparameterTuningJob projects/354621994428/locations/us-central1/hyperparameterTuningJobs/4651338393454641152 current state:\n",
      "JobState.JOB_STATE_RUNNING\n",
      "HyperparameterTuningJob projects/354621994428/locations/us-central1/hyperparameterTuningJobs/4651338393454641152 current state:\n",
      "JobState.JOB_STATE_RUNNING\n",
      "HyperparameterTuningJob projects/354621994428/locations/us-central1/hyperparameterTuningJobs/4651338393454641152 current state:\n",
      "JobState.JOB_STATE_RUNNING\n",
      "HyperparameterTuningJob projects/354621994428/locations/us-central1/hyperparameterTuningJobs/4651338393454641152 current state:\n",
      "JobState.JOB_STATE_RUNNING\n",
      "HyperparameterTuningJob projects/354621994428/locations/us-central1/hyperparameterTuningJobs/4651338393454641152 current state:\n",
      "JobState.JOB_STATE_RUNNING\n",
      "HyperparameterTuningJob projects/354621994428/locations/us-central1/hyperparameterTuningJobs/4651338393454641152 current state:\n",
      "JobState.JOB_STATE_RUNNING\n",
      "HyperparameterTuningJob projects/354621994428/locations/us-central1/hyperparameterTuningJobs/4651338393454641152 current state:\n",
      "JobState.JOB_STATE_RUNNING\n",
      "HyperparameterTuningJob projects/354621994428/locations/us-central1/hyperparameterTuningJobs/4651338393454641152 current state:\n",
      "JobState.JOB_STATE_RUNNING\n",
      "HyperparameterTuningJob projects/354621994428/locations/us-central1/hyperparameterTuningJobs/4651338393454641152 current state:\n",
      "JobState.JOB_STATE_RUNNING\n",
      "HyperparameterTuningJob projects/354621994428/locations/us-central1/hyperparameterTuningJobs/4651338393454641152 current state:\n",
      "JobState.JOB_STATE_RUNNING\n",
      "HyperparameterTuningJob projects/354621994428/locations/us-central1/hyperparameterTuningJobs/4651338393454641152 current state:\n",
      "JobState.JOB_STATE_FAILED\n"
     ]
    },
    {
     "ename": "RuntimeError",
     "evalue": "Job failed with:\ncode: 3\nmessage: \"Hyperparameter Tuning Trial #2 Failed before any other successful trials were completed. The failed trial had parameters: learning-rate=0.00036308465366153848, hidden-units=32,32, .  The trial\\'s error message was: The replica workerpool0-0 exited with a non-zero status of 1. \\nTraceback (most recent call last):\\n  File \\\"/opt/conda/lib/python3.7/runpy.py\\\", line 193, in _run_module_as_main\\n    \\\"__main__\\\", mod_spec)\\n  File \\\"/opt/conda/lib/python3.7/runpy.py\\\", line 85, in _run_code\\n    exec(code, run_globals)\\n  File \\\"/root/.local/lib/python3.7/site-packages/src/model_training/task.py\\\", line 27, in <module>\\n    from src.model_training import defaults, trainer, exporter\\n  File \\\"/root/.local/lib/python3.7/site-packages/src/model_training/trainer.py\\\", line 18, in <module>\\n    import tensorflow_transform as tft\\n  File \\\"/opt/conda/lib/python3.7/site-packages/tensorflow_transform/__init__.py\\\", line 19, in <module>\\n    from tensorflow_transform.analyzers import *\\n  File \\\"/opt/conda/lib/python3.7/site-packages/tensorflow_transform/analyzers.py\\\", line 39, in <module>\\n    from tensorflow_transform import analyzer_nodes\\n  File \\\"/opt/conda/lib/python3.7/site-packages/tensorflow_transform/analyzer_nodes.py\\\", line 36, in <module>\\n    from tensorflow_transform import nodes\\n  File \\\"/opt/conda/lib/python3.7/site-packages/tensorflow_transform/nodes.py\\\", line 33, in <module>\\n    from future.utils import with_metaclass\\nModuleNotFoundError: No module named \\'future\\'\\n\\nTo find out more about why your job exited please check the logs: https://console.cloud.google.com/logs/viewer?project=354621994428&resource=ml_job%2Fjob_id%2F4651338393454641152&advancedFilter=resource.type%3D%22ml_job%22%0Aresource.labels.job_id%3D%224651338393454641152%22\"\n",
     "output_type": "error",
     "traceback": [
      "\u001b[0;31m---------------------------------------------------------------------------\u001b[0m",
      "\u001b[0;31mRuntimeError\u001b[0m                              Traceback (most recent call last)",
      "\u001b[0;32m/var/tmp/ipykernel_30446/379028101.py\u001b[0m in \u001b[0;36m<module>\u001b[0;34m\u001b[0m\n\u001b[1;32m      5\u001b[0m     \u001b[0mtensorboard\u001b[0m\u001b[0;34m=\u001b[0m\u001b[0mtensorboard_resource_name\u001b[0m\u001b[0;34m,\u001b[0m\u001b[0;34m\u001b[0m\u001b[0;34m\u001b[0m\u001b[0m\n\u001b[1;32m      6\u001b[0m     \u001b[0mrestart_job_on_worker_restart\u001b[0m\u001b[0;34m=\u001b[0m\u001b[0;32mFalse\u001b[0m\u001b[0;34m,\u001b[0m\u001b[0;34m\u001b[0m\u001b[0;34m\u001b[0m\u001b[0m\n\u001b[0;32m----> 7\u001b[0;31m     \u001b[0msync\u001b[0m\u001b[0;34m=\u001b[0m\u001b[0;32mTrue\u001b[0m\u001b[0;34m,\u001b[0m\u001b[0;34m\u001b[0m\u001b[0;34m\u001b[0m\u001b[0m\n\u001b[0m\u001b[1;32m      8\u001b[0m )\n",
      "\u001b[0;32m/opt/conda/lib/python3.7/site-packages/google/cloud/aiplatform/jobs.py\u001b[0m in \u001b[0;36mrun\u001b[0;34m(self, service_account, network, timeout, restart_job_on_worker_restart, enable_web_access, tensorboard, sync, create_request_timeout)\u001b[0m\n\u001b[1;32m   2122\u001b[0m             \u001b[0mtensorboard\u001b[0m\u001b[0;34m=\u001b[0m\u001b[0mtensorboard\u001b[0m\u001b[0;34m,\u001b[0m\u001b[0;34m\u001b[0m\u001b[0;34m\u001b[0m\u001b[0m\n\u001b[1;32m   2123\u001b[0m             \u001b[0msync\u001b[0m\u001b[0;34m=\u001b[0m\u001b[0msync\u001b[0m\u001b[0;34m,\u001b[0m\u001b[0;34m\u001b[0m\u001b[0;34m\u001b[0m\u001b[0m\n\u001b[0;32m-> 2124\u001b[0;31m             \u001b[0mcreate_request_timeout\u001b[0m\u001b[0;34m=\u001b[0m\u001b[0mcreate_request_timeout\u001b[0m\u001b[0;34m,\u001b[0m\u001b[0;34m\u001b[0m\u001b[0;34m\u001b[0m\u001b[0m\n\u001b[0m\u001b[1;32m   2125\u001b[0m         )\n\u001b[1;32m   2126\u001b[0m \u001b[0;34m\u001b[0m\u001b[0m\n",
      "\u001b[0;32m/opt/conda/lib/python3.7/site-packages/google/cloud/aiplatform/base.py\u001b[0m in \u001b[0;36mwrapper\u001b[0;34m(*args, **kwargs)\u001b[0m\n\u001b[1;32m    808\u001b[0m                 \u001b[0;32mif\u001b[0m \u001b[0mself\u001b[0m\u001b[0;34m:\u001b[0m\u001b[0;34m\u001b[0m\u001b[0;34m\u001b[0m\u001b[0m\n\u001b[1;32m    809\u001b[0m                     \u001b[0mVertexAiResourceNounWithFutureManager\u001b[0m\u001b[0;34m.\u001b[0m\u001b[0mwait\u001b[0m\u001b[0;34m(\u001b[0m\u001b[0mself\u001b[0m\u001b[0;34m)\u001b[0m\u001b[0;34m\u001b[0m\u001b[0;34m\u001b[0m\u001b[0m\n\u001b[0;32m--> 810\u001b[0;31m                 \u001b[0;32mreturn\u001b[0m \u001b[0mmethod\u001b[0m\u001b[0;34m(\u001b[0m\u001b[0;34m*\u001b[0m\u001b[0margs\u001b[0m\u001b[0;34m,\u001b[0m \u001b[0;34m**\u001b[0m\u001b[0mkwargs\u001b[0m\u001b[0;34m)\u001b[0m\u001b[0;34m\u001b[0m\u001b[0;34m\u001b[0m\u001b[0m\n\u001b[0m\u001b[1;32m    811\u001b[0m \u001b[0;34m\u001b[0m\u001b[0m\n\u001b[1;32m    812\u001b[0m             \u001b[0;31m# callbacks to call within the Future (in same Thread)\u001b[0m\u001b[0;34m\u001b[0m\u001b[0;34m\u001b[0m\u001b[0;34m\u001b[0m\u001b[0m\n",
      "\u001b[0;32m/opt/conda/lib/python3.7/site-packages/google/cloud/aiplatform/jobs.py\u001b[0m in \u001b[0;36m_run\u001b[0;34m(self, service_account, network, timeout, restart_job_on_worker_restart, enable_web_access, tensorboard, sync, create_request_timeout)\u001b[0m\n\u001b[1;32m   2222\u001b[0m             )\n\u001b[1;32m   2223\u001b[0m \u001b[0;34m\u001b[0m\u001b[0m\n\u001b[0;32m-> 2224\u001b[0;31m         \u001b[0mself\u001b[0m\u001b[0;34m.\u001b[0m\u001b[0m_block_until_complete\u001b[0m\u001b[0;34m(\u001b[0m\u001b[0;34m)\u001b[0m\u001b[0;34m\u001b[0m\u001b[0;34m\u001b[0m\u001b[0m\n\u001b[0m\u001b[1;32m   2225\u001b[0m \u001b[0;34m\u001b[0m\u001b[0m\n\u001b[1;32m   2226\u001b[0m     \u001b[0;34m@\u001b[0m\u001b[0mproperty\u001b[0m\u001b[0;34m\u001b[0m\u001b[0;34m\u001b[0m\u001b[0m\n",
      "\u001b[0;32m/opt/conda/lib/python3.7/site-packages/google/cloud/aiplatform/jobs.py\u001b[0m in \u001b[0;36m_block_until_complete\u001b[0;34m(self)\u001b[0m\n\u001b[1;32m   1067\u001b[0m         \u001b[0;31m# JOB_STATE_FAILED or JOB_STATE_CANCELLED.\u001b[0m\u001b[0;34m\u001b[0m\u001b[0;34m\u001b[0m\u001b[0;34m\u001b[0m\u001b[0m\n\u001b[1;32m   1068\u001b[0m         \u001b[0;32mif\u001b[0m \u001b[0mself\u001b[0m\u001b[0;34m.\u001b[0m\u001b[0m_gca_resource\u001b[0m\u001b[0;34m.\u001b[0m\u001b[0mstate\u001b[0m \u001b[0;32min\u001b[0m \u001b[0m_JOB_ERROR_STATES\u001b[0m\u001b[0;34m:\u001b[0m\u001b[0;34m\u001b[0m\u001b[0;34m\u001b[0m\u001b[0m\n\u001b[0;32m-> 1069\u001b[0;31m             \u001b[0;32mraise\u001b[0m \u001b[0mRuntimeError\u001b[0m\u001b[0;34m(\u001b[0m\u001b[0;34m\"Job failed with:\\n%s\"\u001b[0m \u001b[0;34m%\u001b[0m \u001b[0mself\u001b[0m\u001b[0;34m.\u001b[0m\u001b[0m_gca_resource\u001b[0m\u001b[0;34m.\u001b[0m\u001b[0merror\u001b[0m\u001b[0;34m)\u001b[0m\u001b[0;34m\u001b[0m\u001b[0;34m\u001b[0m\u001b[0m\n\u001b[0m\u001b[1;32m   1070\u001b[0m         \u001b[0;32melse\u001b[0m\u001b[0;34m:\u001b[0m\u001b[0;34m\u001b[0m\u001b[0;34m\u001b[0m\u001b[0m\n\u001b[1;32m   1071\u001b[0m             \u001b[0m_LOGGER\u001b[0m\u001b[0;34m.\u001b[0m\u001b[0mlog_action_completed_against_resource\u001b[0m\u001b[0;34m(\u001b[0m\u001b[0;34m\"run\"\u001b[0m\u001b[0;34m,\u001b[0m \u001b[0;34m\"completed\"\u001b[0m\u001b[0;34m,\u001b[0m \u001b[0mself\u001b[0m\u001b[0;34m)\u001b[0m\u001b[0;34m\u001b[0m\u001b[0;34m\u001b[0m\u001b[0m\n",
      "\u001b[0;31mRuntimeError\u001b[0m: Job failed with:\ncode: 3\nmessage: \"Hyperparameter Tuning Trial #2 Failed before any other successful trials were completed. The failed trial had parameters: learning-rate=0.00036308465366153848, hidden-units=32,32, .  The trial\\'s error message was: The replica workerpool0-0 exited with a non-zero status of 1. \\nTraceback (most recent call last):\\n  File \\\"/opt/conda/lib/python3.7/runpy.py\\\", line 193, in _run_module_as_main\\n    \\\"__main__\\\", mod_spec)\\n  File \\\"/opt/conda/lib/python3.7/runpy.py\\\", line 85, in _run_code\\n    exec(code, run_globals)\\n  File \\\"/root/.local/lib/python3.7/site-packages/src/model_training/task.py\\\", line 27, in <module>\\n    from src.model_training import defaults, trainer, exporter\\n  File \\\"/root/.local/lib/python3.7/site-packages/src/model_training/trainer.py\\\", line 18, in <module>\\n    import tensorflow_transform as tft\\n  File \\\"/opt/conda/lib/python3.7/site-packages/tensorflow_transform/__init__.py\\\", line 19, in <module>\\n    from tensorflow_transform.analyzers import *\\n  File \\\"/opt/conda/lib/python3.7/site-packages/tensorflow_transform/analyzers.py\\\", line 39, in <module>\\n    from tensorflow_transform import analyzer_nodes\\n  File \\\"/opt/conda/lib/python3.7/site-packages/tensorflow_transform/analyzer_nodes.py\\\", line 36, in <module>\\n    from tensorflow_transform import nodes\\n  File \\\"/opt/conda/lib/python3.7/site-packages/tensorflow_transform/nodes.py\\\", line 33, in <module>\\n    from future.utils import with_metaclass\\nModuleNotFoundError: No module named \\'future\\'\\n\\nTo find out more about why your job exited please check the logs: https://console.cloud.google.com/logs/viewer?project=354621994428&resource=ml_job%2Fjob_id%2F4651338393454641152&advancedFilter=resource.type%3D%22ml_job%22%0Aresource.labels.job_id%3D%224651338393454641152%22\"\n"
     ]
    }
   ],
   "source": [
    "print(\"Submitting a hyperparameter tunning job...\")\n",
    "\n",
    "hp_tuning_job.run(\n",
    "    service_account=SERVICE_ACCOUNT,\n",
    "    tensorboard=tensorboard_resource_name,\n",
    "    restart_job_on_worker_restart=False,\n",
    "    sync=True,\n",
    ")"
   ]
  },
  {
   "cell_type": "markdown",
   "id": "c4fd20da",
   "metadata": {},
   "source": [
    "### Retrieve trial results"
   ]
  },
  {
   "cell_type": "code",
   "execution_count": null,
   "id": "3f8352e3",
   "metadata": {},
   "outputs": [],
   "source": [
    "hp_tuning_job.trials"
   ]
  },
  {
   "cell_type": "code",
   "execution_count": null,
   "id": "311922be",
   "metadata": {},
   "outputs": [],
   "source": [
    "best_trial = sorted(\n",
    "    hp_tuning_job.trials, \n",
    "    key=lambda trial: trial.final_measurement.metrics[0].value, \n",
    "    reverse=True\n",
    ")[0]\n",
    "\n",
    "print(\"Best trial ID:\", best_trial.id)\n",
    "print(\"Validation Accuracy:\", best_trial.final_measurement.metrics[0].value)\n",
    "print(\"Hyperparameter Values:\")\n",
    "for parameter in best_trial.parameters:\n",
    "    print(f\" - {parameter.parameter_id}:{parameter.value}\")"
   ]
  },
  {
   "cell_type": "code",
   "execution_count": null,
   "id": "3e88555c",
   "metadata": {},
   "outputs": [],
   "source": []
  }
 ],
 "metadata": {
  "environment": {
   "kernel": "python3",
   "name": "common-cpu.m104",
   "type": "gcloud",
   "uri": "gcr.io/deeplearning-platform-release/base-cpu:m104"
  },
  "kernelspec": {
   "display_name": "Python 3",
   "language": "python",
   "name": "python3"
  },
  "language_info": {
   "codemirror_mode": {
    "name": "ipython",
    "version": 3
   },
   "file_extension": ".py",
   "mimetype": "text/x-python",
   "name": "python",
   "nbconvert_exporter": "python",
   "pygments_lexer": "ipython3",
   "version": "3.7.12"
  }
 },
 "nbformat": 4,
 "nbformat_minor": 5
}

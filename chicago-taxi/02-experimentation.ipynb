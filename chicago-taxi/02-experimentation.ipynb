{
 "cells": [
  {
   "cell_type": "markdown",
   "id": "1eae86f7",
   "metadata": {},
   "source": [
    "# 02 - ML Experimentation with Custom Model\n",
    "\n",
    "The purpose of this notebook is to use [custom training](https://cloud.google.com/ai-platform-unified/docs/training/custom-training) to train a keras classifier to predict whether a given trip will result in a tip > 20%. The notebook covers the following tasks:\n",
    "1. Preprocess the data locally using Apache Beam.\n",
    "2. Train and test custom model locally using a Keras implementation.\n",
    "3. Submit a Dataflow job to preprocess the data at scale.\n",
    "4. Submit a custom training job to Vertex AI using a [pre-built container](https://cloud.google.com/ai-platform-unified/docs/training/pre-built-containers).\n",
    "5. Upload the trained model to Vertex AI.\n",
    "6. Track experiment parameters from [Vertex AI Metadata](https://cloud.google.com/vertex-ai/docs/ml-metadata/introduction).\n",
    "7. Submit a [hyperparameter tuning job](https://cloud.google.com/vertex-ai/docs/training/hyperparameter-tuning-overview) to Vertex AI.\n",
    "\n",
    "We use [Vertex TensorBoard](https://cloud.google.com/vertex-ai/docs/experiments/tensorboard-overview) \n",
    "and [Vertex ML Metadata](https://cloud.google.com/vertex-ai/docs/ml-metadata/introduction) to  track, visualize, and compare ML experiments."
   ]
  },
  {
   "cell_type": "markdown",
   "id": "b5205917",
   "metadata": {},
   "source": [
    "## Setup"
   ]
  },
  {
   "cell_type": "markdown",
   "id": "624c6cfe",
   "metadata": {},
   "source": [
    "### Import libraries"
   ]
  },
  {
   "cell_type": "code",
   "execution_count": 1,
   "id": "4171d42a",
   "metadata": {},
   "outputs": [
    {
     "name": "stderr",
     "output_type": "stream",
     "text": [
      "2022-09-10 03:22:06.394317: W tensorflow/stream_executor/platform/default/dso_loader.cc:64] Could not load dynamic library 'libcudart.so.11.0'; dlerror: libcudart.so.11.0: cannot open shared object file: No such file or directory\n",
      "2022-09-10 03:22:06.394366: I tensorflow/stream_executor/cuda/cudart_stub.cc:29] Ignore above cudart dlerror if you do not have a GPU set up on your machine.\n"
     ]
    },
    {
     "name": "stdout",
     "output_type": "stream",
     "text": [
      "TensorFlow: 2.8.2\n",
      "TensorFlow Transform: 1.8.0\n"
     ]
    }
   ],
   "source": [
    "import os\n",
    "import logging\n",
    "from datetime import datetime\n",
    "import numpy as np\n",
    "\n",
    "import tensorflow as tf\n",
    "import tensorflow_transform as tft\n",
    "import tensorflow.keras as keras\n",
    "\n",
    "from google.cloud import aiplatform as vertex_ai\n",
    "from google.cloud.aiplatform import hyperparameter_tuning as hp_tuning\n",
    "\n",
    "from src.common import features, datasource_utils\n",
    "from src.model_training import data, model, defaults, trainer, exporter\n",
    "from src.preprocessing import etl\n",
    "\n",
    "logging.getLogger().setLevel(logging.INFO)\n",
    "tf.get_logger().setLevel('INFO')\n",
    "\n",
    "print(f\"TensorFlow: {tf.__version__}\")\n",
    "print(f\"TensorFlow Transform: {tft.__version__}\")"
   ]
  },
  {
   "cell_type": "markdown",
   "id": "fde361cf",
   "metadata": {},
   "source": [
    "### Setup Google Cloud project"
   ]
  },
  {
   "cell_type": "code",
   "execution_count": 2,
   "id": "31fce242",
   "metadata": {},
   "outputs": [
    {
     "name": "stdout",
     "output_type": "stream",
     "text": [
      "Project ID: mwpmltr\n",
      "Region: us-central1\n",
      "Bucket name: gcp-certification-chicago-taxi-demo\n",
      "Service Account: 55590906972-compute@developer.gserviceaccount.com\n",
      "Vertex API Parent URI: projects/mwpmltr/locations/us-central1\n"
     ]
    }
   ],
   "source": [
    "PROJECT = 'mwpmltr' # Change to your project id.\n",
    "REGION = 'us-central1' # Change to your region.\n",
    "BUCKET = 'gcp-certification-chicago-taxi-demo' # Change to your bucket name.\n",
    "SERVICE_ACCOUNT = \"55590906972-compute@developer.gserviceaccount.com\"\n",
    "\n",
    "if PROJECT == \"\" or PROJECT is None or PROJECT == \"[your-project-id]\":\n",
    "    # Get your GCP project id from gcloud\n",
    "    shell_output = !gcloud config list --format 'value(core.project)' 2>/dev/null\n",
    "    PROJECT = shell_output[0]\n",
    "    \n",
    "if SERVICE_ACCOUNT == \"\" or SERVICE_ACCOUNT is None or SERVICE_ACCOUNT == \"[your-service-account]\":\n",
    "    # Get your GCP project id from gcloud\n",
    "    shell_output = !gcloud config list --format 'value(core.account)' 2>/dev/null\n",
    "    SERVICE_ACCOUNT = shell_output[0]\n",
    "    \n",
    "if BUCKET == \"\" or BUCKET is None or BUCKET == \"[your-bucket-name]\":\n",
    "    # Get your bucket name to GCP project id\n",
    "    BUCKET = PROJECT\n",
    "    # Try to create the bucket if it doesn'exists\n",
    "    ! gsutil mb -l $REGION gs://$BUCKET\n",
    "    print(\"\")\n",
    "    \n",
    "PARENT = f\"projects/{PROJECT}/locations/{REGION}\"\n",
    "    \n",
    "print(\"Project ID:\", PROJECT)\n",
    "print(\"Region:\", REGION)\n",
    "print(\"Bucket name:\", BUCKET)\n",
    "print(\"Service Account:\", SERVICE_ACCOUNT)\n",
    "print(\"Vertex API Parent URI:\", PARENT)"
   ]
  },
  {
   "cell_type": "markdown",
   "id": "26cfd33f",
   "metadata": {},
   "source": [
    "### Set configurations"
   ]
  },
  {
   "cell_type": "code",
   "execution_count": 3,
   "id": "b363e822",
   "metadata": {},
   "outputs": [],
   "source": [
    "VERSION = 'v01'\n",
    "DATASET_DISPLAY_NAME = 'chicago-taxi-tips'\n",
    "MODEL_DISPLAY_NAME = f'{DATASET_DISPLAY_NAME}-classifier-{VERSION}'\n",
    "\n",
    "WORKSPACE = f'gs://{BUCKET}/{DATASET_DISPLAY_NAME}'\n",
    "EXPERIMENT_ARTIFACTS_DIR = os.path.join(WORKSPACE, 'experiments')\n",
    "RAW_SCHEMA_LOCATION = 'src/raw_schema/schema.pbtxt'\n",
    "\n",
    "TENSORBOARD_DISPLAY_NAME = f'tb-{DATASET_DISPLAY_NAME}'\n",
    "EXPERIMENT_NAME = f'{MODEL_DISPLAY_NAME}'"
   ]
  },
  {
   "cell_type": "markdown",
   "id": "e2cf63d9",
   "metadata": {},
   "source": [
    "## Create Vertex TensorBoard instance "
   ]
  },
  {
   "cell_type": "code",
   "execution_count": 4,
   "id": "1cf8ef5c",
   "metadata": {},
   "outputs": [
    {
     "name": "stdout",
     "output_type": "stream",
     "text": [
      "Creating Tensorboard\n",
      "Create Tensorboard backing LRO: projects/55590906972/locations/us-central1/tensorboards/5815536901632819200/operations/3258526197813870592\n",
      "Tensorboard created. Resource name: projects/55590906972/locations/us-central1/tensorboards/5815536901632819200\n",
      "To use this Tensorboard in another session:\n",
      "tb = aiplatform.Tensorboard('projects/55590906972/locations/us-central1/tensorboards/5815536901632819200')\n",
      "TensorBoard resource name: projects/55590906972/locations/us-central1/tensorboards/5815536901632819200\n"
     ]
    }
   ],
   "source": [
    "tensorboard_resource = vertex_ai.Tensorboard.create(display_name=TENSORBOARD_DISPLAY_NAME)\n",
    "tensorboard_resource_name = tensorboard_resource.gca_resource.name\n",
    "print(\"TensorBoard resource name:\", tensorboard_resource_name)"
   ]
  },
  {
   "cell_type": "markdown",
   "id": "670a3859",
   "metadata": {},
   "source": [
    "## Initialize workspace"
   ]
  },
  {
   "cell_type": "code",
   "execution_count": 5,
   "id": "7d03fba1",
   "metadata": {},
   "outputs": [
    {
     "name": "stdout",
     "output_type": "stream",
     "text": [
      "Workspace is ready.\n",
      "Experiment directory: gs://gcp-certification-chicago-taxi-demo/chicago-taxi-tips/experiments\n"
     ]
    }
   ],
   "source": [
    "REMOVE_EXPERIMENT_ARTIFACTS = False\n",
    "\n",
    "if tf.io.gfile.exists(EXPERIMENT_ARTIFACTS_DIR) and REMOVE_EXPERIMENT_ARTIFACTS:\n",
    "    print(\"Removing previous experiment artifacts...\")\n",
    "    tf.io.gfile.rmtree(EXPERIMENT_ARTIFACTS_DIR)\n",
    "\n",
    "if not tf.io.gfile.exists(EXPERIMENT_ARTIFACTS_DIR):\n",
    "    print(\"Creating new experiment artifacts directory...\")\n",
    "    tf.io.gfile.mkdir(EXPERIMENT_ARTIFACTS_DIR)\n",
    "\n",
    "print(\"Workspace is ready.\")\n",
    "print(\"Experiment directory:\", EXPERIMENT_ARTIFACTS_DIR)"
   ]
  },
  {
   "cell_type": "markdown",
   "id": "bd08e503",
   "metadata": {},
   "source": [
    "## Initialize Vertex AI experiment"
   ]
  },
  {
   "cell_type": "code",
   "execution_count": 6,
   "id": "f3aefc2c",
   "metadata": {},
   "outputs": [
    {
     "name": "stderr",
     "output_type": "stream",
     "text": [
      "INFO:root:Resource chicago-taxi-tips-classifier-v01-run-local-20220910032212 not found.\n",
      "INFO:root:Creating Resource chicago-taxi-tips-classifier-v01-run-local-20220910032212\n",
      "INFO:root:Resource chicago-taxi-tips-classifier-v01-run-local-20220910032212-metrics not found.\n",
      "INFO:root:Creating Resource chicago-taxi-tips-classifier-v01-run-local-20220910032212-metrics\n"
     ]
    },
    {
     "name": "stdout",
     "output_type": "stream",
     "text": [
      "Experiment run directory: gs://gcp-certification-chicago-taxi-demo/chicago-taxi-tips/experiments/chicago-taxi-tips-classifier-v01/run-local-20220910032212\n"
     ]
    }
   ],
   "source": [
    "vertex_ai.init(\n",
    "    project=PROJECT,\n",
    "    location=REGION,\n",
    "    staging_bucket=BUCKET,\n",
    "    experiment=EXPERIMENT_NAME\n",
    ")\n",
    "\n",
    "run_id = f\"run-local-{datetime.now().strftime('%Y%m%d%H%M%S')}\"\n",
    "vertex_ai.start_run(run_id)\n",
    "\n",
    "EXPERIMENT_RUN_DIR = os.path.join(EXPERIMENT_ARTIFACTS_DIR, EXPERIMENT_NAME, run_id)\n",
    "print(\"Experiment run directory:\", EXPERIMENT_RUN_DIR)"
   ]
  },
  {
   "cell_type": "markdown",
   "id": "f9c8cee2",
   "metadata": {},
   "source": [
    "## 1. Preprocess the data using Apache Beam\n",
    "\n",
    "The Apache Beam pipeline of data preprocessing is implemented in the [preprocessing](src/preprocessing) directory."
   ]
  },
  {
   "cell_type": "code",
   "execution_count": 7,
   "id": "84a613a2",
   "metadata": {},
   "outputs": [],
   "source": [
    "EXPORTED_DATA_PREFIX = os.path.join(EXPERIMENT_RUN_DIR, 'exported_data')\n",
    "TRANSFORMED_DATA_PREFIX = os.path.join(EXPERIMENT_RUN_DIR, 'transformed_data')\n",
    "TRANSFORM_ARTIFACTS_DIR = os.path.join(EXPERIMENT_RUN_DIR, 'transform_artifacts')"
   ]
  },
  {
   "cell_type": "code",
   "execution_count": 8,
   "id": "17dcfb0d-c5d9-4472-8ddb-577fe2751a98",
   "metadata": {},
   "outputs": [
    {
     "name": "stdout",
     "output_type": "stream",
     "text": [
      "EXPORTED_DATA_PREFIX=gs://gcp-certification-chicago-taxi-demo/chicago-taxi-tips/experiments/chicago-taxi-tips-classifier-v01/run-local-20220910032212/exported_data\n",
      "TRANSFORMED_DATA_PREFIX=gs://gcp-certification-chicago-taxi-demo/chicago-taxi-tips/experiments/chicago-taxi-tips-classifier-v01/run-local-20220910032212/transformed_data\n",
      "TRANSFORM_ARTIFACTS_DIR= gs://gcp-certification-chicago-taxi-demo/chicago-taxi-tips/experiments/chicago-taxi-tips-classifier-v01/run-local-20220910032212/transform_artifacts\n"
     ]
    }
   ],
   "source": [
    "print(f\"EXPORTED_DATA_PREFIX={EXPORTED_DATA_PREFIX}\")\n",
    "print(f\"TRANSFORMED_DATA_PREFIX={TRANSFORMED_DATA_PREFIX}\")\n",
    "print(f\"TRANSFORM_ARTIFACTS_DIR= {TRANSFORM_ARTIFACTS_DIR}\")"
   ]
  },
  {
   "cell_type": "markdown",
   "id": "264b81f3",
   "metadata": {},
   "source": [
    "### Get Source Query from Managed Dataset"
   ]
  },
  {
   "cell_type": "code",
   "execution_count": 9,
   "id": "c9b8ad0f",
   "metadata": {},
   "outputs": [
    {
     "name": "stdout",
     "output_type": "stream",
     "text": [
      "\n",
      "    SELECT \n",
      "        IF(trip_month IS NULL, -1, trip_month) trip_month,\n",
      "        IF(trip_day IS NULL, -1, trip_day) trip_day,\n",
      "        IF(trip_day_of_week IS NULL, -1, trip_day_of_week) trip_day_of_week,\n",
      "        IF(trip_hour IS NULL, -1, trip_hour) trip_hour,\n",
      "        IF(trip_seconds IS NULL, -1, trip_seconds) trip_seconds,\n",
      "        IF(trip_miles IS NULL, -1, trip_miles) trip_miles,\n",
      "        IF(payment_type IS NULL, 'NA', payment_type) payment_type,\n",
      "        IF(pickup_grid IS NULL, 'NA', pickup_grid) pickup_grid,\n",
      "        IF(dropoff_grid IS NULL, 'NA', dropoff_grid) dropoff_grid,\n",
      "        IF(euclidean IS NULL, -1, euclidean) euclidean,\n",
      "        IF(loc_cross IS NULL, 'NA', loc_cross) loc_cross,\n",
      "        tip_bin\n",
      "    FROM playground_central.chicago_taxitrips_prep \n",
      "    WHERE ML_use = 'UNASSIGNED'\n",
      "    LIMIT 5120\n"
     ]
    }
   ],
   "source": [
    "ML_USE = 'UNASSIGNED'\n",
    "LIMIT = 5120\n",
    "\n",
    "raw_data_query = datasource_utils.get_training_source_query(\n",
    "    project=PROJECT, \n",
    "    region=REGION, \n",
    "    dataset_display_name=DATASET_DISPLAY_NAME, \n",
    "    ml_use=ML_USE, \n",
    "    limit=LIMIT\n",
    ")\n",
    "\n",
    "print(raw_data_query)"
   ]
  },
  {
   "cell_type": "markdown",
   "id": "6047eac1",
   "metadata": {},
   "source": [
    "### Test Data Preprocessing Locally"
   ]
  },
  {
   "cell_type": "code",
   "execution_count": 10,
   "id": "ac9b5b05",
   "metadata": {},
   "outputs": [],
   "source": [
    "args = {\n",
    "    'runner': 'DirectRunner',\n",
    "    'raw_data_query': raw_data_query,\n",
    "    'write_raw_data': True,\n",
    "    'exported_data_prefix': EXPORTED_DATA_PREFIX,\n",
    "    'transformed_data_prefix': TRANSFORMED_DATA_PREFIX,\n",
    "    'transform_artifact_dir': TRANSFORM_ARTIFACTS_DIR,\n",
    "    'temporary_dir': os.path.join(WORKSPACE, 'tmp'),\n",
    "    'gcs_location': f'gs://{BUCKET}/bq_tmp',\n",
    "    'project': PROJECT\n",
    "}"
   ]
  },
  {
   "cell_type": "code",
   "execution_count": 11,
   "id": "6c225f37",
   "metadata": {},
   "outputs": [],
   "source": [
    "vertex_ai.log_params(args)"
   ]
  },
  {
   "cell_type": "code",
   "execution_count": 12,
   "id": "56ece730",
   "metadata": {},
   "outputs": [
    {
     "name": "stdout",
     "output_type": "stream",
     "text": [
      "Data preprocessing started...\n"
     ]
    },
    {
     "data": {
      "application/javascript": [
       "\n",
       "        if (typeof window.interactive_beam_jquery == 'undefined') {\n",
       "          var jqueryScript = document.createElement('script');\n",
       "          jqueryScript.src = 'https://code.jquery.com/jquery-3.4.1.slim.min.js';\n",
       "          jqueryScript.type = 'text/javascript';\n",
       "          jqueryScript.onload = function() {\n",
       "            var datatableScript = document.createElement('script');\n",
       "            datatableScript.src = 'https://cdn.datatables.net/1.10.20/js/jquery.dataTables.min.js';\n",
       "            datatableScript.type = 'text/javascript';\n",
       "            datatableScript.onload = function() {\n",
       "              window.interactive_beam_jquery = jQuery.noConflict(true);\n",
       "              window.interactive_beam_jquery(document).ready(function($){\n",
       "                \n",
       "              });\n",
       "            }\n",
       "            document.head.appendChild(datatableScript);\n",
       "          };\n",
       "          document.head.appendChild(jqueryScript);\n",
       "        } else {\n",
       "          window.interactive_beam_jquery(document).ready(function($){\n",
       "            \n",
       "          });\n",
       "        }"
      ]
     },
     "metadata": {},
     "output_type": "display_data"
    },
    {
     "name": "stdout",
     "output_type": "stream",
     "text": [
      "WARNING:tensorflow:You are passing instance dicts and DatasetMetadata to TFT which will not provide optimal performance. Consider following the TFT guide to upgrade to the TFXIO format (Apache Arrow RecordBatch).\n"
     ]
    },
    {
     "name": "stderr",
     "output_type": "stream",
     "text": [
      "/opt/conda/lib/python3.7/site-packages/apache_beam/io/gcp/bigquery.py:2471: BeamDeprecationWarning: options is deprecated since First stable release. References to <pipeline>.options will not be supported\n",
      "  temp_location = pcoll.pipeline.options.view_as(\n",
      "WARNING:tensorflow:You are passing instance dicts and DatasetMetadata to TFT which will not provide optimal performance. Consider following the TFT guide to upgrade to the TFXIO format (Apache Arrow RecordBatch).\n",
      "INFO:absl:Feature dropoff_grid has a shape dim {\n",
      "  size: 1\n",
      "}\n",
      ". Setting to DenseTensor.\n",
      "INFO:absl:Feature euclidean has a shape dim {\n",
      "  size: 1\n",
      "}\n",
      ". Setting to DenseTensor.\n",
      "INFO:absl:Feature loc_cross has a shape dim {\n",
      "  size: 1\n",
      "}\n",
      ". Setting to DenseTensor.\n",
      "INFO:absl:Feature payment_type has a shape dim {\n",
      "  size: 1\n",
      "}\n",
      ". Setting to DenseTensor.\n",
      "INFO:absl:Feature pickup_grid has a shape dim {\n",
      "  size: 1\n",
      "}\n",
      ". Setting to DenseTensor.\n",
      "INFO:absl:Feature tip_bin has a shape dim {\n",
      "  size: 1\n",
      "}\n",
      ". Setting to DenseTensor.\n",
      "INFO:absl:Feature trip_day has a shape dim {\n",
      "  size: 1\n",
      "}\n",
      ". Setting to DenseTensor.\n",
      "INFO:absl:Feature trip_day_of_week has a shape dim {\n",
      "  size: 1\n",
      "}\n",
      ". Setting to DenseTensor.\n",
      "INFO:absl:Feature trip_hour has a shape dim {\n",
      "  size: 1\n",
      "}\n",
      ". Setting to DenseTensor.\n",
      "INFO:absl:Feature trip_miles has a shape dim {\n",
      "  size: 1\n",
      "}\n",
      ". Setting to DenseTensor.\n",
      "INFO:absl:Feature trip_month has a shape dim {\n",
      "  size: 1\n",
      "}\n",
      ". Setting to DenseTensor.\n",
      "INFO:absl:Feature trip_seconds has a shape dim {\n",
      "  size: 1\n",
      "}\n",
      ". Setting to DenseTensor.\n"
     ]
    },
    {
     "name": "stdout",
     "output_type": "stream",
     "text": [
      "WARNING:tensorflow:From /home/jupyter/.local/lib/python3.7/site-packages/tensorflow_transform/tf_utils.py:326: Tensor.experimental_ref (from tensorflow.python.framework.ops) is deprecated and will be removed in a future version.\n",
      "Instructions for updating:\n",
      "Use ref() instead.\n"
     ]
    },
    {
     "name": "stderr",
     "output_type": "stream",
     "text": [
      "2022-09-10 03:22:15.289157: W tensorflow/stream_executor/platform/default/dso_loader.cc:64] Could not load dynamic library 'libcuda.so.1'; dlerror: libcuda.so.1: cannot open shared object file: No such file or directory\n",
      "2022-09-10 03:22:15.289200: W tensorflow/stream_executor/cuda/cuda_driver.cc:269] failed call to cuInit: UNKNOWN ERROR (303)\n",
      "WARNING:tensorflow:From /home/jupyter/.local/lib/python3.7/site-packages/tensorflow_transform/tf_utils.py:326: Tensor.experimental_ref (from tensorflow.python.framework.ops) is deprecated and will be removed in a future version.\n",
      "Instructions for updating:\n",
      "Use ref() instead.\n",
      "2022-09-10 03:22:15.289222: I tensorflow/stream_executor/cuda/cuda_diagnostics.cc:156] kernel driver does not appear to be running on this host (python-20220624-164215-bjacob): /proc/driver/nvidia/version does not exist\n",
      "2022-09-10 03:22:15.289526: I tensorflow/core/platform/cpu_feature_guard.cc:151] This TensorFlow binary is optimized with oneAPI Deep Neural Network Library (oneDNN) to use the following CPU instructions in performance-critical operations:  AVX2 FMA\n",
      "To enable them in other operations, rebuild TensorFlow with the appropriate compiler flags.\n"
     ]
    },
    {
     "name": "stdout",
     "output_type": "stream",
     "text": [
      "WARNING:tensorflow:You are passing instance dicts and DatasetMetadata to TFT which will not provide optimal performance. Consider following the TFT guide to upgrade to the TFXIO format (Apache Arrow RecordBatch).\n"
     ]
    },
    {
     "name": "stderr",
     "output_type": "stream",
     "text": [
      "WARNING:tensorflow:You are passing instance dicts and DatasetMetadata to TFT which will not provide optimal performance. Consider following the TFT guide to upgrade to the TFXIO format (Apache Arrow RecordBatch).\n",
      "INFO:absl:Feature dropoff_grid has a shape dim {\n",
      "  size: 1\n",
      "}\n",
      ". Setting to DenseTensor.\n",
      "INFO:absl:Feature euclidean has a shape dim {\n",
      "  size: 1\n",
      "}\n",
      ". Setting to DenseTensor.\n",
      "INFO:absl:Feature loc_cross has a shape dim {\n",
      "  size: 1\n",
      "}\n",
      ". Setting to DenseTensor.\n",
      "INFO:absl:Feature payment_type has a shape dim {\n",
      "  size: 1\n",
      "}\n",
      ". Setting to DenseTensor.\n",
      "INFO:absl:Feature pickup_grid has a shape dim {\n",
      "  size: 1\n",
      "}\n",
      ". Setting to DenseTensor.\n",
      "INFO:absl:Feature tip_bin has a shape dim {\n",
      "  size: 1\n",
      "}\n",
      ". Setting to DenseTensor.\n",
      "INFO:absl:Feature trip_day has a shape dim {\n",
      "  size: 1\n",
      "}\n",
      ". Setting to DenseTensor.\n",
      "INFO:absl:Feature trip_day_of_week has a shape dim {\n",
      "  size: 1\n",
      "}\n",
      ". Setting to DenseTensor.\n",
      "INFO:absl:Feature trip_hour has a shape dim {\n",
      "  size: 1\n",
      "}\n",
      ". Setting to DenseTensor.\n",
      "INFO:absl:Feature trip_miles has a shape dim {\n",
      "  size: 1\n",
      "}\n",
      ". Setting to DenseTensor.\n",
      "INFO:absl:Feature trip_month has a shape dim {\n",
      "  size: 1\n",
      "}\n",
      ". Setting to DenseTensor.\n",
      "INFO:absl:Feature trip_seconds has a shape dim {\n",
      "  size: 1\n",
      "}\n",
      ". Setting to DenseTensor.\n"
     ]
    },
    {
     "name": "stdout",
     "output_type": "stream",
     "text": [
      "WARNING:tensorflow:You are passing instance dicts and DatasetMetadata to TFT which will not provide optimal performance. Consider following the TFT guide to upgrade to the TFXIO format (Apache Arrow RecordBatch).\n"
     ]
    },
    {
     "name": "stderr",
     "output_type": "stream",
     "text": [
      "WARNING:tensorflow:You are passing instance dicts and DatasetMetadata to TFT which will not provide optimal performance. Consider following the TFT guide to upgrade to the TFXIO format (Apache Arrow RecordBatch).\n",
      "INFO:absl:Feature dropoff_grid has a shape dim {\n",
      "  size: 1\n",
      "}\n",
      ". Setting to DenseTensor.\n",
      "INFO:absl:Feature euclidean has a shape dim {\n",
      "  size: 1\n",
      "}\n",
      ". Setting to DenseTensor.\n",
      "INFO:absl:Feature loc_cross has a shape dim {\n",
      "  size: 1\n",
      "}\n",
      ". Setting to DenseTensor.\n",
      "INFO:absl:Feature payment_type has a shape dim {\n",
      "  size: 1\n",
      "}\n",
      ". Setting to DenseTensor.\n",
      "INFO:absl:Feature pickup_grid has a shape dim {\n",
      "  size: 1\n",
      "}\n",
      ". Setting to DenseTensor.\n",
      "INFO:absl:Feature tip_bin has a shape dim {\n",
      "  size: 1\n",
      "}\n",
      ". Setting to DenseTensor.\n",
      "INFO:absl:Feature trip_day has a shape dim {\n",
      "  size: 1\n",
      "}\n",
      ". Setting to DenseTensor.\n",
      "INFO:absl:Feature trip_day_of_week has a shape dim {\n",
      "  size: 1\n",
      "}\n",
      ". Setting to DenseTensor.\n",
      "INFO:absl:Feature trip_hour has a shape dim {\n",
      "  size: 1\n",
      "}\n",
      ". Setting to DenseTensor.\n",
      "INFO:absl:Feature trip_miles has a shape dim {\n",
      "  size: 1\n",
      "}\n",
      ". Setting to DenseTensor.\n",
      "INFO:absl:Feature trip_month has a shape dim {\n",
      "  size: 1\n",
      "}\n",
      ". Setting to DenseTensor.\n",
      "INFO:absl:Feature trip_seconds has a shape dim {\n",
      "  size: 1\n",
      "}\n",
      ". Setting to DenseTensor.\n",
      "WARNING:apache_beam.options.pipeline_options:Discarding invalid overrides: {'raw_data_query': \"\\n    SELECT \\n        IF(trip_month IS NULL, -1, trip_month) trip_month,\\n        IF(trip_day IS NULL, -1, trip_day) trip_day,\\n        IF(trip_day_of_week IS NULL, -1, trip_day_of_week) trip_day_of_week,\\n        IF(trip_hour IS NULL, -1, trip_hour) trip_hour,\\n        IF(trip_seconds IS NULL, -1, trip_seconds) trip_seconds,\\n        IF(trip_miles IS NULL, -1, trip_miles) trip_miles,\\n        IF(payment_type IS NULL, 'NA', payment_type) payment_type,\\n        IF(pickup_grid IS NULL, 'NA', pickup_grid) pickup_grid,\\n        IF(dropoff_grid IS NULL, 'NA', dropoff_grid) dropoff_grid,\\n        IF(euclidean IS NULL, -1, euclidean) euclidean,\\n        IF(loc_cross IS NULL, 'NA', loc_cross) loc_cross,\\n        tip_bin\\n    FROM playground_central.chicago_taxitrips_prep \\n    WHERE ML_use = 'UNASSIGNED'\\n    LIMIT 5120\", 'write_raw_data': True, 'exported_data_prefix': 'gs://gcp-certification-chicago-taxi-demo/chicago-taxi-tips/experiments/chicago-taxi-tips-classifier-v01/run-local-20220910032212/exported_data', 'transformed_data_prefix': 'gs://gcp-certification-chicago-taxi-demo/chicago-taxi-tips/experiments/chicago-taxi-tips-classifier-v01/run-local-20220910032212/transformed_data', 'transform_artifact_dir': 'gs://gcp-certification-chicago-taxi-demo/chicago-taxi-tips/experiments/chicago-taxi-tips-classifier-v01/run-local-20220910032212/transform_artifacts', 'temporary_dir': 'gs://gcp-certification-chicago-taxi-demo/chicago-taxi-tips/tmp', 'gcs_location': 'gs://gcp-certification-chicago-taxi-demo/bq_tmp'}\n",
      "WARNING:root:Make sure that locally built Python SDK docker image has Python 3.7 interpreter.\n",
      "INFO:root:Default Python SDK image for environment is apache/beam_python3.7_sdk:2.39.0\n",
      "INFO:apache_beam.runners.portability.fn_api_runner.translations:==================== <function annotate_downstream_side_inputs at 0x7f1a032cc170> ====================\n",
      "INFO:apache_beam.runners.portability.fn_api_runner.translations:==================== <function fix_side_input_pcoll_coders at 0x7f1a032cc290> ====================\n",
      "INFO:apache_beam.runners.portability.fn_api_runner.translations:==================== <function pack_combiners at 0x7f1a032cc7a0> ====================\n",
      "INFO:apache_beam.runners.portability.fn_api_runner.translations:==================== <function lift_combiners at 0x7f1a032cc830> ====================\n",
      "INFO:apache_beam.runners.portability.fn_api_runner.translations:==================== <function expand_sdf at 0x7f1a032cc9e0> ====================\n",
      "INFO:apache_beam.runners.portability.fn_api_runner.translations:==================== <function expand_gbk at 0x7f1a032cca70> ====================\n",
      "INFO:apache_beam.runners.portability.fn_api_runner.translations:==================== <function sink_flattens at 0x7f1a032ccb90> ====================\n",
      "INFO:apache_beam.runners.portability.fn_api_runner.translations:==================== <function greedily_fuse at 0x7f1a032ccc20> ====================\n",
      "INFO:apache_beam.runners.portability.fn_api_runner.translations:==================== <function read_to_impulse at 0x7f1a032cccb0> ====================\n",
      "INFO:apache_beam.runners.portability.fn_api_runner.translations:==================== <function impulse_to_input at 0x7f1a032ccd40> ====================\n",
      "INFO:apache_beam.runners.portability.fn_api_runner.translations:==================== <function sort_stages at 0x7f1a032ccf80> ====================\n",
      "INFO:apache_beam.runners.portability.fn_api_runner.translations:==================== <function add_impulse_to_dangling_transforms at 0x7f1a032cd0e0> ====================\n",
      "INFO:apache_beam.runners.portability.fn_api_runner.translations:==================== <function setup_timer_mapping at 0x7f1a032ccef0> ====================\n",
      "INFO:apache_beam.runners.portability.fn_api_runner.translations:==================== <function populate_data_channel_coders at 0x7f1a032cd050> ====================\n",
      "INFO:apache_beam.runners.worker.statecache:Creating state cache with size 100\n",
      "INFO:apache_beam.runners.portability.fn_api_runner.worker_handlers:Created Worker handler <apache_beam.runners.portability.fn_api_runner.worker_handlers.EmbeddedWorkerHandler object at 0x7f1a02c5d6d0> for environment ref_Environment_default_environment_1 (beam:env:embedded_python:v1, b'')\n",
      "INFO:apache_beam.internal.gcp.auth:Setting socket default timeout to 60 seconds.\n",
      "INFO:apache_beam.internal.gcp.auth:socket default timeout is 60.0 seconds.\n",
      "INFO:apache_beam.io.gcp.bigquery_tools:Started BigQuery job: <JobReference\n",
      " location: 'us-central1'\n",
      " projectId: 'mwpmltr'>\n",
      " bq show -j --format=prettyjson --project_id=mwpmltr None\n",
      "INFO:apache_beam.io.gcp.bigquery_tools:Using location 'us-central1' from table <TableReference\n",
      " datasetId: 'playground_central'\n",
      " projectId: 'mwpmltr'\n",
      " tableId: 'chicago_taxitrips_prep'> referenced by query \n",
      "    SELECT \n",
      "        IF(trip_month IS NULL, -1, trip_month) trip_month,\n",
      "        IF(trip_day IS NULL, -1, trip_day) trip_day,\n",
      "        IF(trip_day_of_week IS NULL, -1, trip_day_of_week) trip_day_of_week,\n",
      "        IF(trip_hour IS NULL, -1, trip_hour) trip_hour,\n",
      "        IF(trip_seconds IS NULL, -1, trip_seconds) trip_seconds,\n",
      "        IF(trip_miles IS NULL, -1, trip_miles) trip_miles,\n",
      "        IF(payment_type IS NULL, 'NA', payment_type) payment_type,\n",
      "        IF(pickup_grid IS NULL, 'NA', pickup_grid) pickup_grid,\n",
      "        IF(dropoff_grid IS NULL, 'NA', dropoff_grid) dropoff_grid,\n",
      "        IF(euclidean IS NULL, -1, euclidean) euclidean,\n",
      "        IF(loc_cross IS NULL, 'NA', loc_cross) loc_cross,\n",
      "        tip_bin\n",
      "    FROM playground_central.chicago_taxitrips_prep \n",
      "    WHERE ML_use = 'UNASSIGNED'\n",
      "    LIMIT 5120\n",
      "WARNING:apache_beam.io.gcp.bigquery_tools:Dataset mwpmltr:beam_temp_dataset_d317d74feffd416f9cdc3a848b33b093 does not exist so we will create it as temporary with location=us-central1\n",
      "INFO:apache_beam.io.gcp.bigquery_tools:Started BigQuery job: <JobReference\n",
      " jobId: 'beam_bq_job_QUERY_BQ_EXPORT_JOB_c5504a9e-6_1662780155_795'\n",
      " location: 'us-central1'\n",
      " projectId: 'mwpmltr'>\n",
      " bq show -j --format=prettyjson --project_id=mwpmltr beam_bq_job_QUERY_BQ_EXPORT_JOB_c5504a9e-6_1662780155_795\n",
      "INFO:root:Job status: RUNNING\n",
      "INFO:root:Job status: DONE\n",
      "INFO:apache_beam.io.gcp.bigquery_tools:Started BigQuery job: <JobReference\n",
      " jobId: 'beam_bq_job_EXPORT_BQ_EXPORT_JOB_c5504a9e-6_1662780161_301'\n",
      " location: 'us-central1'\n",
      " projectId: 'mwpmltr'>\n",
      " bq show -j --format=prettyjson --project_id=mwpmltr beam_bq_job_EXPORT_BQ_EXPORT_JOB_c5504a9e-6_1662780161_301\n",
      "INFO:root:Job status: RUNNING\n",
      "INFO:root:Job status: DONE\n",
      "INFO:apache_beam.io.gcp.gcsio:Starting the file information of the input\n",
      "INFO:apache_beam.io.gcp.gcsio:Finished listing 1 files in 0.048255205154418945 seconds.\n",
      "2022-09-10 03:22:52.530934: W tensorflow/python/util/util.cc:368] Sets are not currently considered sequences, but this may change in the future, so consider avoiding using them.\n"
     ]
    },
    {
     "name": "stdout",
     "output_type": "stream",
     "text": [
      "INFO:tensorflow:Assets written to: gs://gcp-certification-chicago-taxi-demo/chicago-taxi-tips/tmp/tftransform_tmp/bd2450faa82f42b4ba415a394a94b417/assets\n"
     ]
    },
    {
     "name": "stderr",
     "output_type": "stream",
     "text": [
      "INFO:tensorflow:Assets written to: gs://gcp-certification-chicago-taxi-demo/chicago-taxi-tips/tmp/tftransform_tmp/bd2450faa82f42b4ba415a394a94b417/assets\n"
     ]
    },
    {
     "name": "stdout",
     "output_type": "stream",
     "text": [
      "INFO:tensorflow:struct2tensor is not available.\n"
     ]
    },
    {
     "name": "stderr",
     "output_type": "stream",
     "text": [
      "INFO:tensorflow:struct2tensor is not available.\n"
     ]
    },
    {
     "name": "stdout",
     "output_type": "stream",
     "text": [
      "INFO:tensorflow:tensorflow_decision_forests is not available.\n"
     ]
    },
    {
     "name": "stderr",
     "output_type": "stream",
     "text": [
      "INFO:tensorflow:tensorflow_decision_forests is not available.\n"
     ]
    },
    {
     "name": "stdout",
     "output_type": "stream",
     "text": [
      "INFO:tensorflow:tensorflow_text is not available.\n"
     ]
    },
    {
     "name": "stderr",
     "output_type": "stream",
     "text": [
      "INFO:tensorflow:tensorflow_text is not available.\n",
      "WARNING:apache_beam.io.tfrecordio:Couldn't find python-snappy so the implementation of _TFRecordUtil._masked_crc32c is not as fast as it could be.\n",
      "INFO:apache_beam.io.gcp.gcsio:Starting the file information of the input\n",
      "INFO:apache_beam.io.gcp.gcsio:Finished listing 1 files in 0.16290640830993652 seconds.\n",
      "INFO:apache_beam.io.gcp.gcsio:Starting the file information of the input\n",
      "INFO:apache_beam.io.gcp.gcsio:Finished listing 0 files in 0.0414273738861084 seconds.\n",
      "INFO:apache_beam.io.gcp.gcsio:Starting the file information of the input\n",
      "INFO:apache_beam.io.gcp.gcsio:Finished listing 1 files in 0.03756141662597656 seconds.\n",
      "INFO:apache_beam.io.gcp.gcsio:Starting the file information of the input\n",
      "INFO:apache_beam.io.gcp.gcsio:Finished listing 0 files in 0.032288312911987305 seconds.\n",
      "INFO:apache_beam.io.filebasedsink:Starting finalize_write threads with num_shards: 1 (skipped: 0), batches: 1, num_threads: 1\n",
      "INFO:apache_beam.io.filebasedsink:Renamed 1 shards in 0.20 seconds.\n",
      "WARNING:apache_beam.io.filebasedsink:Deleting 1 existing files in target path matching: \n",
      "WARNING:apache_beam.io.filebasedsink:Deleting 1 existing files in target path matching: \n",
      "WARNING:apache_beam.io.filebasedsink:Deleting 1 existing files in target path matching: \n",
      "WARNING:apache_beam.io.filebasedsink:Deleting 1 existing files in target path matching: \n",
      "WARNING:apache_beam.io.filebasedsink:Deleting 1 existing files in target path matching: \n",
      "WARNING:apache_beam.io.filebasedsink:Deleting 1 existing files in target path matching: \n",
      "WARNING:apache_beam.io.filebasedsink:Deleting 1 existing files in target path matching: \n",
      "WARNING:apache_beam.io.filebasedsink:Deleting 1 existing files in target path matching: \n",
      "INFO:apache_beam.io.gcp.gcsio:Starting the file information of the input\n",
      "INFO:apache_beam.io.gcp.gcsio:Finished listing 1 files in 0.0467529296875 seconds.\n",
      "INFO:apache_beam.io.filebasedsink:Starting finalize_write threads with num_shards: 1 (skipped: 0), batches: 1, num_threads: 1\n",
      "INFO:apache_beam.io.filebasedsink:Renamed 1 shards in 0.20 seconds.\n",
      "INFO:apache_beam.io.gcp.gcsio:Starting the file information of the input\n",
      "INFO:apache_beam.io.gcp.gcsio:Finished listing 1 files in 0.03682398796081543 seconds.\n",
      "INFO:apache_beam.io.filebasedsink:Starting finalize_write threads with num_shards: 1 (skipped: 0), batches: 1, num_threads: 1\n",
      "INFO:apache_beam.io.filebasedsink:Renamed 1 shards in 0.20 seconds.\n",
      "INFO:apache_beam.io.gcp.gcsio:Starting the file information of the input\n",
      "INFO:apache_beam.io.gcp.gcsio:Finished listing 1 files in 0.04188823699951172 seconds.\n",
      "INFO:apache_beam.io.filebasedsink:Starting finalize_write threads with num_shards: 1 (skipped: 0), batches: 1, num_threads: 1\n",
      "INFO:apache_beam.io.filebasedsink:Renamed 1 shards in 0.20 seconds.\n",
      "INFO:apache_beam.io.gcp.gcsio:Starting the file information of the input\n",
      "INFO:apache_beam.io.gcp.gcsio:Finished listing 1 files in 0.04621767997741699 seconds.\n",
      "INFO:apache_beam.io.filebasedsink:Starting finalize_write threads with num_shards: 1 (skipped: 0), batches: 1, num_threads: 1\n",
      "INFO:apache_beam.io.filebasedsink:Renamed 1 shards in 0.20 seconds.\n",
      "INFO:apache_beam.io.gcp.gcsio:Starting the file information of the input\n",
      "INFO:apache_beam.io.gcp.gcsio:Finished listing 1 files in 0.04676461219787598 seconds.\n",
      "INFO:apache_beam.io.filebasedsink:Starting finalize_write threads with num_shards: 1 (skipped: 0), batches: 1, num_threads: 1\n",
      "INFO:apache_beam.io.filebasedsink:Renamed 1 shards in 0.20 seconds.\n",
      "INFO:apache_beam.io.gcp.gcsio:Starting the file information of the input\n",
      "INFO:apache_beam.io.gcp.gcsio:Finished listing 1 files in 0.04056978225708008 seconds.\n",
      "INFO:apache_beam.io.filebasedsink:Starting finalize_write threads with num_shards: 1 (skipped: 0), batches: 1, num_threads: 1\n",
      "INFO:apache_beam.io.filebasedsink:Renamed 1 shards in 0.20 seconds.\n",
      "INFO:apache_beam.io.gcp.gcsio:Starting the file information of the input\n",
      "INFO:apache_beam.io.gcp.gcsio:Finished listing 1 files in 0.038634300231933594 seconds.\n",
      "INFO:apache_beam.io.filebasedsink:Starting finalize_write threads with num_shards: 1 (skipped: 0), batches: 1, num_threads: 1\n",
      "INFO:apache_beam.io.filebasedsink:Renamed 1 shards in 0.20 seconds.\n",
      "INFO:apache_beam.io.gcp.gcsio:Starting the file information of the input\n",
      "INFO:apache_beam.io.gcp.gcsio:Finished listing 1 files in 0.03279304504394531 seconds.\n",
      "INFO:apache_beam.io.filebasedsink:Starting finalize_write threads with num_shards: 1 (skipped: 0), batches: 1, num_threads: 1\n",
      "INFO:apache_beam.io.filebasedsink:Renamed 1 shards in 0.20 seconds.\n"
     ]
    },
    {
     "name": "stdout",
     "output_type": "stream",
     "text": [
      "INFO:tensorflow:Assets written to: gs://gcp-certification-chicago-taxi-demo/chicago-taxi-tips/tmp/tftransform_tmp/a745693d28e14b93853de6aedb1502b6/assets\n"
     ]
    },
    {
     "name": "stderr",
     "output_type": "stream",
     "text": [
      "INFO:tensorflow:Assets written to: gs://gcp-certification-chicago-taxi-demo/chicago-taxi-tips/tmp/tftransform_tmp/a745693d28e14b93853de6aedb1502b6/assets\n"
     ]
    },
    {
     "name": "stdout",
     "output_type": "stream",
     "text": [
      "INFO:tensorflow:struct2tensor is not available.\n"
     ]
    },
    {
     "name": "stderr",
     "output_type": "stream",
     "text": [
      "INFO:tensorflow:struct2tensor is not available.\n"
     ]
    },
    {
     "name": "stdout",
     "output_type": "stream",
     "text": [
      "INFO:tensorflow:tensorflow_decision_forests is not available.\n"
     ]
    },
    {
     "name": "stderr",
     "output_type": "stream",
     "text": [
      "INFO:tensorflow:tensorflow_decision_forests is not available.\n"
     ]
    },
    {
     "name": "stdout",
     "output_type": "stream",
     "text": [
      "INFO:tensorflow:tensorflow_text is not available.\n"
     ]
    },
    {
     "name": "stderr",
     "output_type": "stream",
     "text": [
      "INFO:tensorflow:tensorflow_text is not available.\n"
     ]
    },
    {
     "name": "stdout",
     "output_type": "stream",
     "text": [
      "INFO:tensorflow:struct2tensor is not available.\n"
     ]
    },
    {
     "name": "stderr",
     "output_type": "stream",
     "text": [
      "INFO:tensorflow:struct2tensor is not available.\n"
     ]
    },
    {
     "name": "stdout",
     "output_type": "stream",
     "text": [
      "INFO:tensorflow:tensorflow_decision_forests is not available.\n"
     ]
    },
    {
     "name": "stderr",
     "output_type": "stream",
     "text": [
      "INFO:tensorflow:tensorflow_decision_forests is not available.\n"
     ]
    },
    {
     "name": "stdout",
     "output_type": "stream",
     "text": [
      "INFO:tensorflow:tensorflow_text is not available.\n"
     ]
    },
    {
     "name": "stderr",
     "output_type": "stream",
     "text": [
      "INFO:tensorflow:tensorflow_text is not available.\n",
      "INFO:apache_beam.io.gcp.gcsio:Starting the file information of the input\n",
      "INFO:apache_beam.io.gcp.gcsio:Finished listing 0 files in 0.032561540603637695 seconds.\n",
      "INFO:apache_beam.io.gcp.gcsio:Starting the file information of the input\n",
      "INFO:apache_beam.io.gcp.gcsio:Finished listing 0 files in 0.0294802188873291 seconds.\n",
      "INFO:apache_beam.io.gcp.gcsio:Starting the file information of the input\n",
      "INFO:apache_beam.io.gcp.gcsio:Finished listing 1 files in 0.03496408462524414 seconds.\n",
      "INFO:apache_beam.io.gcp.gcsio:Starting the file information of the input\n",
      "INFO:apache_beam.io.gcp.gcsio:Finished listing 0 files in 0.029196739196777344 seconds.\n",
      "INFO:apache_beam.io.filebasedsink:Starting finalize_write threads with num_shards: 1 (skipped: 0), batches: 1, num_threads: 1\n",
      "INFO:apache_beam.io.filebasedsink:Renamed 1 shards in 0.20 seconds.\n",
      "INFO:apache_beam.io.gcp.gcsio:Starting the file information of the input\n",
      "INFO:apache_beam.io.gcp.gcsio:Finished listing 1 files in 0.038743019104003906 seconds.\n",
      "INFO:apache_beam.io.gcp.gcsio:Starting the file information of the input\n",
      "INFO:apache_beam.io.gcp.gcsio:Finished listing 0 files in 0.04016733169555664 seconds.\n",
      "INFO:apache_beam.io.filebasedsink:Starting finalize_write threads with num_shards: 1 (skipped: 0), batches: 1, num_threads: 1\n",
      "INFO:apache_beam.io.filebasedsink:Renamed 1 shards in 0.20 seconds.\n"
     ]
    },
    {
     "name": "stdout",
     "output_type": "stream",
     "text": [
      "Data preprocessing completed.\n"
     ]
    }
   ],
   "source": [
    "print(\"Data preprocessing started...\")\n",
    "etl.run_transform_pipeline(args)\n",
    "print(\"Data preprocessing completed.\")"
   ]
  },
  {
   "cell_type": "code",
   "execution_count": 13,
   "id": "a10911e3",
   "metadata": {},
   "outputs": [
    {
     "name": "stdout",
     "output_type": "stream",
     "text": [
      "gs://gcp-certification-chicago-taxi-demo/chicago-taxi-tips/experiments/chicago-taxi-tips-classifier-v01/run-local-20220910032212/exported_data/\n",
      "gs://gcp-certification-chicago-taxi-demo/chicago-taxi-tips/experiments/chicago-taxi-tips-classifier-v01/run-local-20220910032212/transform_artifacts/\n",
      "gs://gcp-certification-chicago-taxi-demo/chicago-taxi-tips/experiments/chicago-taxi-tips-classifier-v01/run-local-20220910032212/transformed_data/\n"
     ]
    }
   ],
   "source": [
    "!gsutil ls {EXPERIMENT_RUN_DIR}"
   ]
  },
  {
   "cell_type": "markdown",
   "id": "74d252ab",
   "metadata": {},
   "source": [
    "## 2. Train a custom model locally using a Keras\n",
    "\n",
    "The `Keras` implementation of the custom model is in the [model_training](src/model_training) directory."
   ]
  },
  {
   "cell_type": "code",
   "execution_count": 14,
   "id": "c59f7710",
   "metadata": {},
   "outputs": [],
   "source": [
    "LOG_DIR = os.path.join(EXPERIMENT_RUN_DIR, 'logs')\n",
    "EXPORT_DIR = os.path.join(EXPERIMENT_RUN_DIR, 'model')"
   ]
  },
  {
   "cell_type": "code",
   "execution_count": 15,
   "id": "cee0c16f-b663-48dc-8aa7-50403bf1783f",
   "metadata": {},
   "outputs": [
    {
     "name": "stdout",
     "output_type": "stream",
     "text": [
      "gs://gcp-certification-chicago-taxi-demo/chicago-taxi-tips/experiments/chicago-taxi-tips-classifier-v01/run-local-20220910032212/logs\n",
      "gs://gcp-certification-chicago-taxi-demo/chicago-taxi-tips/experiments/chicago-taxi-tips-classifier-v01/run-local-20220910032212/model\n"
     ]
    }
   ],
   "source": [
    "print(LOG_DIR)\n",
    "print(EXPORT_DIR)"
   ]
  },
  {
   "cell_type": "markdown",
   "id": "7a212f14",
   "metadata": {},
   "source": [
    "### Read transformed data"
   ]
  },
  {
   "cell_type": "code",
   "execution_count": 16,
   "id": "204c8580",
   "metadata": {},
   "outputs": [
    {
     "data": {
      "text/plain": [
       "{'dropoff_grid_xf': FixedLenFeature(shape=[], dtype=tf.int64, default_value=None),\n",
       " 'euclidean_xf': FixedLenFeature(shape=[], dtype=tf.float32, default_value=None),\n",
       " 'loc_cross_xf': FixedLenFeature(shape=[], dtype=tf.int64, default_value=None),\n",
       " 'payment_type_xf': FixedLenFeature(shape=[], dtype=tf.int64, default_value=None),\n",
       " 'pickup_grid_xf': FixedLenFeature(shape=[], dtype=tf.int64, default_value=None),\n",
       " 'tip_bin': FixedLenFeature(shape=[], dtype=tf.int64, default_value=None),\n",
       " 'trip_day_of_week_xf': FixedLenFeature(shape=[], dtype=tf.int64, default_value=None),\n",
       " 'trip_day_xf': FixedLenFeature(shape=[], dtype=tf.int64, default_value=None),\n",
       " 'trip_hour_xf': FixedLenFeature(shape=[], dtype=tf.int64, default_value=None),\n",
       " 'trip_miles_xf': FixedLenFeature(shape=[], dtype=tf.float32, default_value=None),\n",
       " 'trip_month_xf': FixedLenFeature(shape=[], dtype=tf.int64, default_value=None),\n",
       " 'trip_seconds_xf': FixedLenFeature(shape=[], dtype=tf.float32, default_value=None)}"
      ]
     },
     "execution_count": 16,
     "metadata": {},
     "output_type": "execute_result"
    }
   ],
   "source": [
    "tft_output = tft.TFTransformOutput(TRANSFORM_ARTIFACTS_DIR)\n",
    "transform_feature_spec = tft_output.transformed_feature_spec()\n",
    "transform_feature_spec"
   ]
  },
  {
   "cell_type": "code",
   "execution_count": 17,
   "id": "0802ce3a",
   "metadata": {},
   "outputs": [
    {
     "name": "stdout",
     "output_type": "stream",
     "text": [
      "dropoff_grid_xf <dtype: 'int64'>: [1, 0, 1]\n",
      "euclidean_xf <dtype: 'float32'>: [0.05347268655896187, 0.36995434761047363, 0.017976930364966393]\n",
      "loc_cross_xf <dtype: 'int64'>: [1, 9, 1]\n",
      "payment_type_xf <dtype: 'int64'>: [0, 0, 2]\n",
      "pickup_grid_xf <dtype: 'int64'>: [0, 2, 0]\n",
      "trip_day_of_week_xf <dtype: 'int64'>: [5, 0, 4]\n",
      "trip_day_xf <dtype: 'int64'>: [24, 15, 3]\n",
      "trip_hour_xf <dtype: 'int64'>: [15, 12, 0]\n",
      "trip_miles_xf <dtype: 'float32'>: [-0.21830813586711884, 0.23577602207660675, 0.031646449118852615]\n",
      "trip_month_xf <dtype: 'int64'>: [0, 1, 1]\n",
      "trip_seconds_xf <dtype: 'float32'>: [-0.06500523537397385, 0.36318129301071167, 0.03750719130039215]\n",
      "target: [0, 0, 0]\n"
     ]
    }
   ],
   "source": [
    "train_data_file_pattern = os.path.join(TRANSFORMED_DATA_PREFIX,'train/data-*.gz')\n",
    "eval_data_file_pattern = os.path.join(TRANSFORMED_DATA_PREFIX,'eval/data-*.gz')\n",
    "\n",
    "for input_features, target in data.get_dataset(\n",
    "    train_data_file_pattern, transform_feature_spec, batch_size=3).take(1):\n",
    "    for key in input_features:\n",
    "        print(f\"{key} {input_features[key].dtype}: {input_features[key].numpy().tolist()}\")\n",
    "    print(f\"target: {target.numpy().tolist()}\")"
   ]
  },
  {
   "cell_type": "markdown",
   "id": "d0f363d4",
   "metadata": {},
   "source": [
    "### Create hyperparameters"
   ]
  },
  {
   "cell_type": "code",
   "execution_count": 18,
   "id": "b4fced82",
   "metadata": {},
   "outputs": [
    {
     "data": {
      "text/plain": [
       "{'hidden_units': [64, 32],\n",
       " 'learning_rate': 0.0001,\n",
       " 'batch_size': 512,\n",
       " 'num_epochs': 10}"
      ]
     },
     "execution_count": 18,
     "metadata": {},
     "output_type": "execute_result"
    }
   ],
   "source": [
    "hyperparams = {\n",
    "    \"hidden_units\": [64, 32]\n",
    "}\n",
    "\n",
    "hyperparams = defaults.update_hyperparams(hyperparams)\n",
    "hyperparams"
   ]
  },
  {
   "cell_type": "markdown",
   "id": "3c17b65e",
   "metadata": {},
   "source": [
    "### Create and test model inputs and outputs"
   ]
  },
  {
   "cell_type": "code",
   "execution_count": 19,
   "id": "a05b0f63",
   "metadata": {},
   "outputs": [
    {
     "name": "stdout",
     "output_type": "stream",
     "text": [
      "Model: \"model\"\n",
      "__________________________________________________________________________________________________\n",
      " Layer (type)                   Output Shape         Param #     Connected to                     \n",
      "==================================================================================================\n",
      " trip_month_xf (InputLayer)     [(None,)]            0           []                               \n",
      "                                                                                                  \n",
      " trip_day_xf (InputLayer)       [(None,)]            0           []                               \n",
      "                                                                                                  \n",
      " trip_day_of_week_xf (InputLaye  [(None,)]           0           []                               \n",
      " r)                                                                                               \n",
      "                                                                                                  \n",
      " trip_hour_xf (InputLayer)      [(None,)]            0           []                               \n",
      "                                                                                                  \n",
      " trip_seconds_xf (InputLayer)   [(None,)]            0           []                               \n",
      "                                                                                                  \n",
      " trip_miles_xf (InputLayer)     [(None,)]            0           []                               \n",
      "                                                                                                  \n",
      " payment_type_xf (InputLayer)   [(None,)]            0           []                               \n",
      "                                                                                                  \n",
      " pickup_grid_xf (InputLayer)    [(None,)]            0           []                               \n",
      "                                                                                                  \n",
      " dropoff_grid_xf (InputLayer)   [(None,)]            0           []                               \n",
      "                                                                                                  \n",
      " euclidean_xf (InputLayer)      [(None,)]            0           []                               \n",
      "                                                                                                  \n",
      " loc_cross_xf (InputLayer)      [(None,)]            0           []                               \n",
      "                                                                                                  \n",
      " trip_month_xf_embedding (Embed  (None, 2)           8           ['trip_month_xf[0][0]']          \n",
      " ding)                                                                                            \n",
      "                                                                                                  \n",
      " trip_day_xf_embedding (Embeddi  (None, 4)           128         ['trip_day_xf[0][0]']            \n",
      " ng)                                                                                              \n",
      "                                                                                                  \n",
      " trip_day_of_week_xf_onehot (Ca  (None, 7)           0           ['trip_day_of_week_xf[0][0]']    \n",
      " tegoryEncoding)                                                                                  \n",
      "                                                                                                  \n",
      " trip_hour_xf_embedding (Embedd  (None, 3)           75          ['trip_hour_xf[0][0]']           \n",
      " ing)                                                                                             \n",
      "                                                                                                  \n",
      " tf.expand_dims (TFOpLambda)    (None, 1)            0           ['trip_seconds_xf[0][0]']        \n",
      "                                                                                                  \n",
      " tf.expand_dims_1 (TFOpLambda)  (None, 1)            0           ['trip_miles_xf[0][0]']          \n",
      "                                                                                                  \n",
      " payment_type_xf_onehot (Catego  (None, 7)           0           ['payment_type_xf[0][0]']        \n",
      " ryEncoding)                                                                                      \n",
      "                                                                                                  \n",
      " pickup_grid_xf_embedding (Embe  (None, 3)           42          ['pickup_grid_xf[0][0]']         \n",
      " dding)                                                                                           \n",
      "                                                                                                  \n",
      " dropoff_grid_xf_embedding (Emb  (None, 3)           42          ['dropoff_grid_xf[0][0]']        \n",
      " edding)                                                                                          \n",
      "                                                                                                  \n",
      " tf.expand_dims_2 (TFOpLambda)  (None, 1)            0           ['euclidean_xf[0][0]']           \n",
      "                                                                                                  \n",
      " loc_cross_xf_embedding (Embedd  (None, 10)          940         ['loc_cross_xf[0][0]']           \n",
      " ing)                                                                                             \n",
      "                                                                                                  \n",
      " combines_inputs (Concatenate)  (None, 42)           0           ['trip_month_xf_embedding[0][0]',\n",
      "                                                                  'trip_day_xf_embedding[0][0]',  \n",
      "                                                                  'trip_day_of_week_xf_onehot[0][0\n",
      "                                                                 ]',                              \n",
      "                                                                  'trip_hour_xf_embedding[0][0]', \n",
      "                                                                  'tf.expand_dims[0][0]',         \n",
      "                                                                  'tf.expand_dims_1[0][0]',       \n",
      "                                                                  'payment_type_xf_onehot[0][0]', \n",
      "                                                                  'pickup_grid_xf_embedding[0][0]'\n",
      "                                                                 , 'dropoff_grid_xf_embedding[0][0\n",
      "                                                                 ]',                              \n",
      "                                                                  'tf.expand_dims_2[0][0]',       \n",
      "                                                                  'loc_cross_xf_embedding[0][0]'] \n",
      "                                                                                                  \n",
      " feedforward_network (Sequentia  (None, 32)          4832        ['combines_inputs[0][0]']        \n",
      " l)                                                                                               \n",
      "                                                                                                  \n",
      " logits (Dense)                 (None, 1)            33          ['feedforward_network[0][0]']    \n",
      "                                                                                                  \n",
      "==================================================================================================\n",
      "Total params: 6,100\n",
      "Trainable params: 6,100\n",
      "Non-trainable params: 0\n",
      "__________________________________________________________________________________________________\n"
     ]
    }
   ],
   "source": [
    "classifier = model.create_binary_classifier(tft_output, hyperparams)\n",
    "classifier.summary()"
   ]
  },
  {
   "cell_type": "code",
   "execution_count": 20,
   "id": "ad4d33eb",
   "metadata": {},
   "outputs": [
    {
     "data": {
      "image/png": "[encoded data removed]",
      "text/plain": [
       "<IPython.core.display.Image object>"
      ]
     },
     "execution_count": 20,
     "metadata": {},
     "output_type": "execute_result"
    }
   ],
   "source": [
    "keras.utils.plot_model(\n",
    "    classifier, \n",
    "    show_shapes=True, \n",
    "    show_dtype=True\n",
    ")"
   ]
  },
  {
   "cell_type": "code",
   "execution_count": 21,
   "id": "f06e056e",
   "metadata": {},
   "outputs": [
    {
     "data": {
      "text/plain": [
       "<tf.Tensor: shape=(3, 1), dtype=float32, numpy=\n",
       "array([[ 0.0572218 ],\n",
       "       [ 0.02036176],\n",
       "       [-0.07194701]], dtype=float32)>"
      ]
     },
     "execution_count": 21,
     "metadata": {},
     "output_type": "execute_result"
    }
   ],
   "source": [
    "classifier(input_features)"
   ]
  },
  {
   "cell_type": "markdown",
   "id": "1d451ef7",
   "metadata": {},
   "source": [
    "### Train the model locally."
   ]
  },
  {
   "cell_type": "code",
   "execution_count": 22,
   "id": "153efc48",
   "metadata": {},
   "outputs": [],
   "source": [
    "logging.getLogger().setLevel(logging.INFO)\n",
    "\n",
    "hyperparams[\"learning_rate\"] = 0.001\n",
    "hyperparams[\"num_epochs\"] = 5\n",
    "hyperparams[\"batch_size\"] = 512\n",
    "\n",
    "vertex_ai.log_params(hyperparams)"
   ]
  },
  {
   "cell_type": "code",
   "execution_count": 23,
   "id": "a91c4924",
   "metadata": {},
   "outputs": [
    {
     "name": "stderr",
     "output_type": "stream",
     "text": [
      "INFO:root:Loading tft output from gs://gcp-certification-chicago-taxi-demo/chicago-taxi-tips/experiments/chicago-taxi-tips-classifier-v01/run-local-20220910032212/transform_artifacts\n",
      "INFO:root:Model training started...\n"
     ]
    },
    {
     "name": "stdout",
     "output_type": "stream",
     "text": [
      "Epoch 1/5\n",
      "7/7 [==============================] - 3s 284ms/step - loss: 0.6017 - accuracy: 0.9997 - val_loss: 0.5314 - val_accuracy: 1.0000\n",
      "Epoch 2/5\n",
      "7/7 [==============================] - 1s 110ms/step - loss: 0.4803 - accuracy: 1.0000 - val_loss: 0.4118 - val_accuracy: 1.0000\n",
      "Epoch 3/5\n",
      "7/7 [==============================] - 1s 109ms/step - loss: 0.3626 - accuracy: 1.0000 - val_loss: 0.3009 - val_accuracy: 1.0000\n",
      "Epoch 4/5\n",
      "7/7 [==============================] - 1s 125ms/step - loss: 0.2582 - accuracy: 1.0000 - val_loss: 0.2050 - val_accuracy: 1.0000\n",
      "Epoch 5/5\n",
      "7/7 [==============================] - 1s 101ms/step - loss: 0.1702 - accuracy: 1.0000 - val_loss: 0.1282 - val_accuracy: 1.0000\n"
     ]
    },
    {
     "name": "stderr",
     "output_type": "stream",
     "text": [
      "INFO:root:Model training completed.\n"
     ]
    }
   ],
   "source": [
    "classifier = trainer.train(\n",
    "    train_data_dir=train_data_file_pattern,\n",
    "    eval_data_dir=eval_data_file_pattern,\n",
    "    tft_output_dir=TRANSFORM_ARTIFACTS_DIR,\n",
    "    hyperparams=hyperparams,\n",
    "    log_dir=LOG_DIR,\n",
    ")"
   ]
  },
  {
   "cell_type": "code",
   "execution_count": 24,
   "id": "ebbce8e8",
   "metadata": {},
   "outputs": [
    {
     "name": "stderr",
     "output_type": "stream",
     "text": [
      "INFO:root:Loading raw schema from src/raw_schema/schema.pbtxt\n",
      "INFO:root:Loading tft output from gs://gcp-certification-chicago-taxi-demo/chicago-taxi-tips/experiments/chicago-taxi-tips-classifier-v01/run-local-20220910032212/transform_artifacts\n",
      "INFO:root:Model evaluation started...\n"
     ]
    },
    {
     "name": "stdout",
     "output_type": "stream",
     "text": [
      "2/2 [==============================] - 0s 20ms/step - loss: 0.1286 - accuracy: 1.0000\n"
     ]
    },
    {
     "name": "stderr",
     "output_type": "stream",
     "text": [
      "INFO:root:Model evaluation completed.\n"
     ]
    }
   ],
   "source": [
    "val_loss, val_accuracy = trainer.evaluate(\n",
    "    model=classifier,\n",
    "    data_dir=eval_data_file_pattern,\n",
    "    raw_schema_location=RAW_SCHEMA_LOCATION,\n",
    "    tft_output_dir=TRANSFORM_ARTIFACTS_DIR,\n",
    "    hyperparams=hyperparams,\n",
    ")"
   ]
  },
  {
   "cell_type": "code",
   "execution_count": 25,
   "id": "30e58239",
   "metadata": {},
   "outputs": [],
   "source": [
    "vertex_ai.log_metrics(\n",
    "    {\"val_loss\": val_loss, \"val_accuracy\": val_accuracy})"
   ]
  },
  {
   "cell_type": "code",
   "execution_count": 26,
   "id": "cff3c829",
   "metadata": {},
   "outputs": [
    {
     "name": "stdout",
     "output_type": "stream",
     "text": [
      "2022-09-10 03:24:14.104522: W tensorflow/stream_executor/platform/default/dso_loader.cc:64] Could not load dynamic library 'libcudart.so.11.0'; dlerror: libcudart.so.11.0: cannot open shared object file: No such file or directory\n",
      "2022-09-10 03:24:14.104572: I tensorflow/stream_executor/cuda/cudart_stub.cc:29] Ignore above cudart dlerror if you do not have a GPU set up on your machine.\n",
      "2022-09-10 03:24:15.804688: W tensorflow/stream_executor/platform/default/dso_loader.cc:64] Could not load dynamic library 'libcuda.so.1'; dlerror: libcuda.so.1: cannot open shared object file: No such file or directory\n",
      "2022-09-10 03:24:15.804738: W tensorflow/stream_executor/cuda/cuda_driver.cc:269] failed call to cuInit: UNKNOWN ERROR (303)\n",
      "2022-09-10 03:24:15.804761: I tensorflow/stream_executor/cuda/cuda_diagnostics.cc:156] kernel driver does not appear to be running on this host (python-20220624-164215-bjacob): /proc/driver/nvidia/version does not exist\n",
      "View your Tensorboard at https://us-central1.tensorboard.googleusercontent.com/experiment/projects+55590906972+locations+us-central1+tensorboards+5815536901632819200+experiments+chicago-taxi-tips-classifier-v01\n",
      "\u001b[1m[2022-09-10T03:24:16]\u001b[0m Started scanning logdir.\n",
      "\u001b[1m[2022-09-10T03:24:17]\u001b[0m Total uploaded: 30 scalars, 0 tensors, 1 binary objects (122.5 kB)\n",
      "\u001b[2K\u001b[33mListening for new data in logdir...\u001b[0m\r"
     ]
    }
   ],
   "source": [
    "!tb-gcp-uploader --tensorboard_resource_name={tensorboard_resource_name} \\\n",
    "  --logdir={LOG_DIR} \\\n",
    "  --experiment_name={EXPERIMENT_NAME} --one_shot=True"
   ]
  },
  {
   "cell_type": "markdown",
   "id": "44268d04",
   "metadata": {},
   "source": [
    "### Export the trained model"
   ]
  },
  {
   "cell_type": "code",
   "execution_count": 27,
   "id": "e2cf46d6",
   "metadata": {},
   "outputs": [
    {
     "name": "stdout",
     "output_type": "stream",
     "text": [
      "INFO:tensorflow:struct2tensor is not available.\n"
     ]
    },
    {
     "name": "stderr",
     "output_type": "stream",
     "text": [
      "INFO:tensorflow:struct2tensor is not available.\n"
     ]
    },
    {
     "name": "stdout",
     "output_type": "stream",
     "text": [
      "INFO:tensorflow:tensorflow_decision_forests is not available.\n"
     ]
    },
    {
     "name": "stderr",
     "output_type": "stream",
     "text": [
      "INFO:tensorflow:tensorflow_decision_forests is not available.\n"
     ]
    },
    {
     "name": "stdout",
     "output_type": "stream",
     "text": [
      "INFO:tensorflow:tensorflow_text is not available.\n"
     ]
    },
    {
     "name": "stderr",
     "output_type": "stream",
     "text": [
      "INFO:tensorflow:tensorflow_text is not available.\n",
      "INFO:root:Model export started...\n"
     ]
    },
    {
     "name": "stdout",
     "output_type": "stream",
     "text": [
      "INFO:tensorflow:Assets written to: gs://gcp-certification-chicago-taxi-demo/chicago-taxi-tips/experiments/chicago-taxi-tips-classifier-v01/run-local-20220910032212/model/assets\n"
     ]
    },
    {
     "name": "stderr",
     "output_type": "stream",
     "text": [
      "INFO:tensorflow:Assets written to: gs://gcp-certification-chicago-taxi-demo/chicago-taxi-tips/experiments/chicago-taxi-tips-classifier-v01/run-local-20220910032212/model/assets\n",
      "INFO:root:Model export completed.\n"
     ]
    }
   ],
   "source": [
    "saved_model_dir = os.path.join(EXPORT_DIR)\n",
    "\n",
    "exporter.export_serving_model(\n",
    "    classifier=classifier,\n",
    "    serving_model_dir=saved_model_dir,\n",
    "    raw_schema_location=RAW_SCHEMA_LOCATION,\n",
    "    tft_output_dir=TRANSFORM_ARTIFACTS_DIR,\n",
    ")"
   ]
  },
  {
   "cell_type": "markdown",
   "id": "dba1ba3e",
   "metadata": {},
   "source": [
    "### Inspect model serving signatures"
   ]
  },
  {
   "cell_type": "code",
   "execution_count": 28,
   "id": "cb8989c2",
   "metadata": {},
   "outputs": [
    {
     "name": "stdout",
     "output_type": "stream",
     "text": [
      "2022-09-10 03:24:34.948234: W tensorflow/stream_executor/platform/default/dso_loader.cc:64] Could not load dynamic library 'libcudart.so.11.0'; dlerror: libcudart.so.11.0: cannot open shared object file: No such file or directory\n",
      "2022-09-10 03:24:34.948280: I tensorflow/stream_executor/cuda/cudart_stub.cc:29] Ignore above cudart dlerror if you do not have a GPU set up on your machine.\n",
      "The given SavedModel SignatureDef contains the following input(s):\n",
      "  inputs['examples'] tensor_info:\n",
      "      dtype: DT_STRING\n",
      "      shape: (-1)\n",
      "      name: serving_tf_example_examples:0\n",
      "The given SavedModel SignatureDef contains the following output(s):\n",
      "  outputs['probabilities'] tensor_info:\n",
      "      dtype: DT_FLOAT\n",
      "      shape: (-1, 1)\n",
      "      name: StatefulPartitionedCall_41:0\n",
      "Method name is: tensorflow/serving/predict\n"
     ]
    }
   ],
   "source": [
    "!saved_model_cli show --dir={saved_model_dir} --tag_set=serve --signature_def=serving_tf_example"
   ]
  },
  {
   "cell_type": "code",
   "execution_count": 29,
   "id": "7517a78b",
   "metadata": {},
   "outputs": [
    {
     "name": "stdout",
     "output_type": "stream",
     "text": [
      "2022-09-10 03:24:38.284245: W tensorflow/stream_executor/platform/default/dso_loader.cc:64] Could not load dynamic library 'libcudart.so.11.0'; dlerror: libcudart.so.11.0: cannot open shared object file: No such file or directory\n",
      "2022-09-10 03:24:38.284300: I tensorflow/stream_executor/cuda/cudart_stub.cc:29] Ignore above cudart dlerror if you do not have a GPU set up on your machine.\n",
      "The given SavedModel SignatureDef contains the following input(s):\n",
      "  inputs['dropoff_grid'] tensor_info:\n",
      "      dtype: DT_STRING\n",
      "      shape: (-1, 1)\n",
      "      name: serving_default_dropoff_grid:0\n",
      "  inputs['euclidean'] tensor_info:\n",
      "      dtype: DT_FLOAT\n",
      "      shape: (-1, 1)\n",
      "      name: serving_default_euclidean:0\n",
      "  inputs['loc_cross'] tensor_info:\n",
      "      dtype: DT_STRING\n",
      "      shape: (-1, 1)\n",
      "      name: serving_default_loc_cross:0\n",
      "  inputs['payment_type'] tensor_info:\n",
      "      dtype: DT_STRING\n",
      "      shape: (-1, 1)\n",
      "      name: serving_default_payment_type:0\n",
      "  inputs['pickup_grid'] tensor_info:\n",
      "      dtype: DT_STRING\n",
      "      shape: (-1, 1)\n",
      "      name: serving_default_pickup_grid:0\n",
      "  inputs['trip_day'] tensor_info:\n",
      "      dtype: DT_INT64\n",
      "      shape: (-1, 1)\n",
      "      name: serving_default_trip_day:0\n",
      "  inputs['trip_day_of_week'] tensor_info:\n",
      "      dtype: DT_INT64\n",
      "      shape: (-1, 1)\n",
      "      name: serving_default_trip_day_of_week:0\n",
      "  inputs['trip_hour'] tensor_info:\n",
      "      dtype: DT_INT64\n",
      "      shape: (-1, 1)\n",
      "      name: serving_default_trip_hour:0\n",
      "  inputs['trip_miles'] tensor_info:\n",
      "      dtype: DT_FLOAT\n",
      "      shape: (-1, 1)\n",
      "      name: serving_default_trip_miles:0\n",
      "  inputs['trip_month'] tensor_info:\n",
      "      dtype: DT_INT64\n",
      "      shape: (-1, 1)\n",
      "      name: serving_default_trip_month:0\n",
      "  inputs['trip_seconds'] tensor_info:\n",
      "      dtype: DT_INT64\n",
      "      shape: (-1, 1)\n",
      "      name: serving_default_trip_seconds:0\n",
      "The given SavedModel SignatureDef contains the following output(s):\n",
      "  outputs['classes'] tensor_info:\n",
      "      dtype: DT_STRING\n",
      "      shape: (-1, 2)\n",
      "      name: StatefulPartitionedCall_40:0\n",
      "  outputs['scores'] tensor_info:\n",
      "      dtype: DT_FLOAT\n",
      "      shape: (-1, 2)\n",
      "      name: StatefulPartitionedCall_40:1\n",
      "Method name is: tensorflow/serving/predict\n"
     ]
    }
   ],
   "source": [
    "!saved_model_cli show --dir={saved_model_dir} --tag_set=serve --signature_def=serving_default"
   ]
  },
  {
   "cell_type": "markdown",
   "id": "7f68ecd0",
   "metadata": {},
   "source": [
    "### Test the exported SavedModel"
   ]
  },
  {
   "cell_type": "code",
   "execution_count": 30,
   "id": "965d7d03",
   "metadata": {},
   "outputs": [
    {
     "name": "stdout",
     "output_type": "stream",
     "text": [
      "Saved model is loaded.\n"
     ]
    }
   ],
   "source": [
    "serving_model = tf.saved_model.load(saved_model_dir)\n",
    "print(\"Saved model is loaded.\")"
   ]
  },
  {
   "cell_type": "code",
   "execution_count": 31,
   "id": "395f6ac6",
   "metadata": {},
   "outputs": [
    {
     "name": "stdout",
     "output_type": "stream",
     "text": [
      "probabilities: [[0.0908809 ]\n",
      " [0.06847423]\n",
      " [0.08567593]]\n"
     ]
    }
   ],
   "source": [
    "# Test the serving_tf_example with TF Examples\n",
    "\n",
    "file_names = tf.data.TFRecordDataset.list_files(EXPORTED_DATA_PREFIX + '/data-*.tfrecord')\n",
    "for batch in tf.data.TFRecordDataset(file_names).batch(3).take(1):\n",
    "    predictions = serving_model.signatures['serving_tf_example'](batch)\n",
    "    for key in predictions:\n",
    "        print(f\"{key}: {predictions[key]}\")"
   ]
  },
  {
   "cell_type": "code",
   "execution_count": 32,
   "id": "41f041d6",
   "metadata": {},
   "outputs": [],
   "source": [
    "# Test the serving_default with feature dictionary\n",
    "\n",
    "import tensorflow_data_validation as tfdv\n",
    "from tensorflow_transform.tf_metadata import schema_utils\n",
    "\n",
    "raw_schema = tfdv.load_schema_text(RAW_SCHEMA_LOCATION)\n",
    "raw_feature_spec = schema_utils.schema_as_feature_spec(raw_schema).feature_spec"
   ]
  },
  {
   "cell_type": "code",
   "execution_count": 33,
   "id": "3d51e9ef",
   "metadata": {},
   "outputs": [],
   "source": [
    "instance = {\n",
    "    \"dropoff_grid\": \"POINT(-87.6 41.9)\",\n",
    "    \"euclidean\": 2064.2696,\n",
    "    \"loc_cross\": \"\",\n",
    "    \"payment_type\": \"Credit Card\",\n",
    "    \"pickup_grid\": \"POINT(-87.6 41.9)\",\n",
    "    \"trip_miles\": 1.37,\n",
    "    \"trip_day\": 12,\n",
    "    \"trip_hour\": 6,\n",
    "    \"trip_month\": 2,\n",
    "    \"trip_day_of_week\": 4,\n",
    "    \"trip_seconds\": 555,\n",
    "}\n",
    "\n",
    "for feature_name in instance:\n",
    "    dtype = raw_feature_spec[feature_name].dtype\n",
    "    instance[feature_name] = tf.constant([[instance[feature_name]]], dtype)"
   ]
  },
  {
   "cell_type": "code",
   "execution_count": 34,
   "id": "6469de0d",
   "metadata": {},
   "outputs": [
    {
     "name": "stdout",
     "output_type": "stream",
     "text": [
      "scores: [[0.15180928 0.8481907 ]]\n",
      "classes: [[b'tip<20%' b'tip>=20%']]\n"
     ]
    }
   ],
   "source": [
    "predictions = serving_model.signatures['serving_default'](**instance)\n",
    "for key in predictions:\n",
    "    print(f\"{key}: {predictions[key].numpy()}\")"
   ]
  },
  {
   "cell_type": "markdown",
   "id": "8cec2080",
   "metadata": {},
   "source": [
    "## Start a new Vertex AI experiment run"
   ]
  },
  {
   "cell_type": "code",
   "execution_count": 35,
   "id": "1d87d0f9",
   "metadata": {},
   "outputs": [],
   "source": [
    "# vertex_ai.init(\n",
    "#     project=PROJECT,\n",
    "#     staging_bucket=BUCKET,\n",
    "#     experiment=EXPERIMENT_NAME)\n",
    "\n",
    "# run_id = f\"run-gcp-{datetime.now().strftime('%Y%m%d%H%M%S')}\"\n",
    "# vertex_ai.start_run(run_id)\n",
    "\n",
    "# EXPERIMENT_RUN_DIR = os.path.join(EXPERIMENT_ARTIFACTS_DIR, EXPERIMENT_NAME, run_id)\n",
    "# print(\"Experiment run directory:\", EXPERIMENT_RUN_DIR)"
   ]
  },
  {
   "cell_type": "markdown",
   "id": "8ade27b7",
   "metadata": {},
   "source": [
    "## 3. Submit a Data Processing Job to Dataflow"
   ]
  },
  {
   "cell_type": "code",
   "execution_count": 36,
   "id": "2d903ff5",
   "metadata": {},
   "outputs": [],
   "source": [
    "# EXPORTED_DATA_PREFIX = os.path.join(EXPERIMENT_RUN_DIR, 'exported_data')\n",
    "# TRANSFORMED_DATA_PREFIX = os.path.join(EXPERIMENT_RUN_DIR, 'transformed_data')\n",
    "# TRANSFORM_ARTIFACTS_DIR = os.path.join(EXPERIMENT_RUN_DIR, 'transform_artifacts')"
   ]
  },
  {
   "cell_type": "code",
   "execution_count": 37,
   "id": "3fac3380",
   "metadata": {},
   "outputs": [],
   "source": [
    "# ML_USE = 'UNASSIGNED'\n",
    "# # LIMIT = 1000000\n",
    "# LIMIT = 10000\n",
    "# raw_data_query = datasource_utils.get_training_source_query(\n",
    "#     project=PROJECT, \n",
    "#     region=REGION, \n",
    "#     dataset_display_name=DATASET_DISPLAY_NAME, \n",
    "#     ml_use=ML_USE, \n",
    "#     limit=LIMIT\n",
    "# )\n",
    "\n",
    "# etl_job_name = f\"etl-{MODEL_DISPLAY_NAME}-{run_id}\"\n",
    "\n",
    "# args = {\n",
    "#     'job_name': etl_job_name,\n",
    "#     'runner': 'DataflowRunner',\n",
    "#     'raw_data_query': raw_data_query,\n",
    "#     'exported_data_prefix': EXPORTED_DATA_PREFIX,\n",
    "#     'transformed_data_prefix': TRANSFORMED_DATA_PREFIX,\n",
    "#     'transform_artifact_dir': TRANSFORM_ARTIFACTS_DIR,\n",
    "#     'write_raw_data': False,\n",
    "#     'temporary_dir': os.path.join(WORKSPACE, 'tmp'),\n",
    "#     'gcs_location': os.path.join(WORKSPACE, 'bq_tmp'),\n",
    "#     'project': PROJECT,\n",
    "#     'region': REGION,\n",
    "#     'setup_file': './setup.py',\n",
    "#     'no_use_public_ips': True\n",
    "# }"
   ]
  },
  {
   "cell_type": "code",
   "execution_count": 38,
   "id": "c909d3ca",
   "metadata": {},
   "outputs": [],
   "source": [
    "# vertex_ai.log_params(args)"
   ]
  },
  {
   "cell_type": "code",
   "execution_count": 39,
   "id": "014e5512",
   "metadata": {},
   "outputs": [],
   "source": [
    "# logging.getLogger().setLevel(logging.ERROR)\n",
    "\n",
    "# print(\"Data preprocessing started...\")\n",
    "# etl.run_transform_pipeline(args)\n",
    "# print(\"Data preprocessing completed.\")"
   ]
  },
  {
   "cell_type": "code",
   "execution_count": 40,
   "id": "92a21c21",
   "metadata": {},
   "outputs": [],
   "source": [
    "# !gsutil ls {EXPERIMENT_RUN_DIR}"
   ]
  },
  {
   "cell_type": "markdown",
   "id": "e5c4dfa8",
   "metadata": {},
   "source": [
    "## 4. Submit a Custom Training Job to Vertex AI"
   ]
  },
  {
   "cell_type": "code",
   "execution_count": 41,
   "id": "5a092f85-e75b-4faa-9ac0-1dac1590d3a3",
   "metadata": {},
   "outputs": [],
   "source": [
    "# Fix this error:\n",
    "# ImportError: /lib/x86_64-linux-gnu/libstdc++.so.6: version `GLIBCXX_3.4.30' not found\n",
    "LD_LIBRARY_PATH = f'/opt/conda/lib/'\n",
    "os.environ[\"LD_LIBRARY_PATH\"] = LD_LIBRARY_PATH"
   ]
  },
  {
   "cell_type": "code",
   "execution_count": 42,
   "id": "50db6947",
   "metadata": {},
   "outputs": [],
   "source": [
    "LOG_DIR = os.path.join(EXPERIMENT_RUN_DIR, 'logs')\n",
    "EXPORT_DIR = os.path.join(EXPERIMENT_RUN_DIR, 'model')"
   ]
  },
  {
   "cell_type": "code",
   "execution_count": 43,
   "id": "b7fd7b1f-bc5b-48d6-b4e5-c32412ab4461",
   "metadata": {},
   "outputs": [
    {
     "name": "stdout",
     "output_type": "stream",
     "text": [
      "gs://gcp-certification-chicago-taxi-demo/chicago-taxi-tips/experiments/chicago-taxi-tips-classifier-v01/run-local-20220910032212/logs \n",
      " gs://gcp-certification-chicago-taxi-demo/chicago-taxi-tips/experiments/chicago-taxi-tips-classifier-v01/run-local-20220910032212/model\n"
     ]
    }
   ],
   "source": [
    "print(LOG_DIR, \"\\n\", EXPORT_DIR)"
   ]
  },
  {
   "cell_type": "markdown",
   "id": "4e998139",
   "metadata": {},
   "source": [
    "### Test the training task locally"
   ]
  },
  {
   "cell_type": "code",
   "execution_count": 44,
   "id": "9382ba6f",
   "metadata": {},
   "outputs": [
    {
     "name": "stdout",
     "output_type": "stream",
     "text": [
      "2022-09-10 03:24:47.437504: W tensorflow/stream_executor/platform/default/dso_loader.cc:64] Could not load dynamic library 'libcudart.so.11.0'; dlerror: libcudart.so.11.0: cannot open shared object file: No such file or directory; LD_LIBRARY_PATH: /opt/conda/lib/\n",
      "2022-09-10 03:24:47.437550: I tensorflow/stream_executor/cuda/cudart_stub.cc:29] Ignore above cudart dlerror if you do not have a GPU set up on your machine.\n",
      "INFO:root:Python Version = 3.7.12 | packaged by conda-forge | (default, Oct 26 2021, 06:08:53) \n",
      "[GCC 9.4.0]\n",
      "INFO:root:TensorFlow Version = 2.8.2\n",
      "INFO:root:TF_CONFIG = Not found\n",
      "2022-09-10 03:24:52.704014: I tensorflow/core/platform/cpu_feature_guard.cc:151] This TensorFlow binary is optimized with oneAPI Deep Neural Network Library (oneDNN) to use the following CPU instructions in performance-critical operations:  AVX2 FMA\n",
      "To enable them in other operations, rebuild TensorFlow with the appropriate compiler flags.\n",
      "2022-09-10 03:24:52.705413: W tensorflow/stream_executor/platform/default/dso_loader.cc:64] Could not load dynamic library 'libcuda.so.1'; dlerror: libcuda.so.1: cannot open shared object file: No such file or directory; LD_LIBRARY_PATH: /opt/conda/lib/\n",
      "2022-09-10 03:24:52.705448: W tensorflow/stream_executor/cuda/cuda_driver.cc:269] failed call to cuInit: UNKNOWN ERROR (303)\n",
      "2022-09-10 03:24:52.705472: I tensorflow/stream_executor/cuda/cuda_diagnostics.cc:156] kernel driver does not appear to be running on this host (python-20220624-164215-bjacob): /proc/driver/nvidia/version does not exist\n",
      "INFO:root:DEVICES = [name: \"/device:CPU:0\"\n",
      "device_type: \"CPU\"\n",
      "memory_limit: 268435456\n",
      "locality {\n",
      "}\n",
      "incarnation: 7839542321135354540\n",
      "xla_global_id: -1\n",
      "]\n",
      "INFO:root:Task started...\n",
      "INFO:root:Hyperparameter: {'model_dir': 'gs://gcp-certification-chicago-taxi-demo/chicago-taxi-tips/experiments/chicago-taxi-tips-classifier-v01/run-local-20220910032212/model', 'log_dir': 'gs://gcp-certification-chicago-taxi-demo/chicago-taxi-tips/experiments/chicago-taxi-tips-classifier-v01/run-local-20220910032212/logs', 'train_data_dir': 'gs://gcp-certification-chicago-taxi-demo/chicago-taxi-tips/experiments/chicago-taxi-tips-classifier-v01/run-local-20220910032212/transformed_data/train/*', 'eval_data_dir': 'gs://gcp-certification-chicago-taxi-demo/chicago-taxi-tips/experiments/chicago-taxi-tips-classifier-v01/run-local-20220910032212/transformed_data/eval/*', 'tft_output_dir': 'gs://gcp-certification-chicago-taxi-demo/chicago-taxi-tips/experiments/chicago-taxi-tips-classifier-v01/run-local-20220910032212/transform_artifacts', 'learning_rate': 0.001, 'batch_size': 512, 'hidden_units': [32, 32], 'num_epochs': 3, 'project': 'mwpmltr', 'region': 'us-central1', 'staging_bucket': 'gcp-certification-chicago-taxi-demo', 'experiment_name': 'chicago-taxi-tips-classifier-v01', 'run_name': 'run-local-20220910032212'}\n",
      "INFO:root:Using Vertex AI experiment: chicago-taxi-tips-classifier-v01\n",
      "INFO:root:Run run-local-20220910032212 started.\n",
      "INFO:root:Loading tft output from gs://gcp-certification-chicago-taxi-demo/chicago-taxi-tips/experiments/chicago-taxi-tips-classifier-v01/run-local-20220910032212/transform_artifacts\n",
      "INFO:root:Model training started...\n",
      "Epoch 1/3\n",
      "7/7 [==============================] - 3s 222ms/step - loss: 0.6851 - accuracy: 0.9754 - val_loss: 0.6198 - val_accuracy: 1.0000\n",
      "Epoch 2/3\n",
      "7/7 [==============================] - 1s 109ms/step - loss: 0.5690 - accuracy: 0.9994 - val_loss: 0.5146 - val_accuracy: 1.0000\n",
      "Epoch 3/3\n",
      "7/7 [==============================] - 1s 102ms/step - loss: 0.4719 - accuracy: 1.0000 - val_loss: 0.4263 - val_accuracy: 1.0000\n",
      "INFO:root:Model training completed.\n",
      "INFO:root:Loading raw schema from /home/jupyter/mlops-with-vertex-ai/src/raw_schema/schema.pbtxt\n",
      "INFO:root:Loading tft output from gs://gcp-certification-chicago-taxi-demo/chicago-taxi-tips/experiments/chicago-taxi-tips-classifier-v01/run-local-20220910032212/transform_artifacts\n",
      "INFO:root:Model evaluation started...\n",
      "2/2 [==============================] - 0s 5ms/step - loss: 0.4254 - accuracy: 1.0000\n",
      "INFO:root:Model evaluation completed.\n",
      "INFO:root:Reporting metric ACCURACY=1.0 to Vertex hypertuner...\n",
      "INFO:root:Logging metrics to Vertex Experiments...\n",
      "INFO:tensorflow:struct2tensor is not available.\n",
      "INFO:tensorflow:struct2tensor is not available.\n",
      "INFO:tensorflow:tensorflow_decision_forests is not available.\n",
      "INFO:tensorflow:tensorflow_decision_forests is not available.\n",
      "INFO:tensorflow:tensorflow_text is not available.\n",
      "INFO:tensorflow:tensorflow_text is not available.\n",
      "INFO:root:Model export started...\n",
      "2022-09-10 03:25:08.211365: W tensorflow/python/util/util.cc:368] Sets are not currently considered sequences, but this may change in the future, so consider avoiding using them.\n",
      "INFO:tensorflow:Assets written to: gs://gcp-certification-chicago-taxi-demo/chicago-taxi-tips/experiments/chicago-taxi-tips-classifier-v01/run-local-20220910032212/model/assets\n",
      "INFO:tensorflow:Assets written to: gs://gcp-certification-chicago-taxi-demo/chicago-taxi-tips/experiments/chicago-taxi-tips-classifier-v01/run-local-20220910032212/model/assets\n",
      "INFO:root:Model export completed.\n",
      "INFO:root:Task completed.\n"
     ]
    }
   ],
   "source": [
    "!python -m src.model_training.task \\\n",
    "    --model-dir={EXPORT_DIR} \\\n",
    "    --log-dir={LOG_DIR} \\\n",
    "    --train-data-dir={TRANSFORMED_DATA_PREFIX}/train/* \\\n",
    "    --eval-data-dir={TRANSFORMED_DATA_PREFIX}/eval/*  \\\n",
    "    --tft-output-dir={TRANSFORM_ARTIFACTS_DIR} \\\n",
    "    --num-epochs=3 \\\n",
    "    --hidden-units=32,32 \\\n",
    "    --experiment-name={EXPERIMENT_NAME} \\\n",
    "    --run-name={run_id} \\\n",
    "    --project={PROJECT} \\\n",
    "    --region={REGION} \\\n",
    "    --staging-bucket={BUCKET}"
   ]
  },
  {
   "cell_type": "markdown",
   "id": "5077e9d4",
   "metadata": {},
   "source": [
    "### Prepare training package"
   ]
  },
  {
   "cell_type": "code",
   "execution_count": 45,
   "id": "d526a189",
   "metadata": {},
   "outputs": [
    {
     "name": "stdout",
     "output_type": "stream",
     "text": [
      "Trainer package upload location: gs://gcp-certification-chicago-taxi-demo/chicago-taxi-tips/trainer_packages\n"
     ]
    }
   ],
   "source": [
    "TRAINER_PACKAGE_DIR = os.path.join(WORKSPACE, 'trainer_packages')\n",
    "TRAINER_PACKAGE_NAME = f'{MODEL_DISPLAY_NAME}_trainer'\n",
    "print(\"Trainer package upload location:\", TRAINER_PACKAGE_DIR)"
   ]
  },
  {
   "cell_type": "code",
   "execution_count": 46,
   "id": "550cc9eb",
   "metadata": {},
   "outputs": [
    {
     "name": "stdout",
     "output_type": "stream",
     "text": [
      "chicago-taxi-tips-classifier-v01_trainer/\n",
      "chicago-taxi-tips-classifier-v01_trainer/src/\n",
      "chicago-taxi-tips-classifier-v01_trainer/src/pipeline_triggering/\n",
      "chicago-taxi-tips-classifier-v01_trainer/src/pipeline_triggering/requirements.txt\n",
      "chicago-taxi-tips-classifier-v01_trainer/src/pipeline_triggering/__init__.py\n",
      "chicago-taxi-tips-classifier-v01_trainer/src/pipeline_triggering/main.py\n",
      "chicago-taxi-tips-classifier-v01_trainer/src/tfx_pipelines/\n",
      "chicago-taxi-tips-classifier-v01_trainer/src/tfx_pipelines/training_pipeline.py\n",
      "chicago-taxi-tips-classifier-v01_trainer/src/tfx_pipelines/components.py\n",
      "chicago-taxi-tips-classifier-v01_trainer/src/tfx_pipelines/config.py\n",
      "chicago-taxi-tips-classifier-v01_trainer/src/tfx_pipelines/prediction_pipeline.py\n",
      "chicago-taxi-tips-classifier-v01_trainer/src/tfx_pipelines/runner.py\n",
      "chicago-taxi-tips-classifier-v01_trainer/src/tfx_pipelines/__init__.py\n",
      "chicago-taxi-tips-classifier-v01_trainer/src/__pycache__/\n",
      "chicago-taxi-tips-classifier-v01_trainer/src/__pycache__/__init__.cpython-37.pyc\n",
      "chicago-taxi-tips-classifier-v01_trainer/src/common/\n",
      "chicago-taxi-tips-classifier-v01_trainer/src/common/datasource_utils.py\n",
      "chicago-taxi-tips-classifier-v01_trainer/src/common/__init__.py\n",
      "chicago-taxi-tips-classifier-v01_trainer/src/common/features.py\n",
      "chicago-taxi-tips-classifier-v01_trainer/src/model_training/\n",
      "chicago-taxi-tips-classifier-v01_trainer/src/model_training/data.py\n",
      "chicago-taxi-tips-classifier-v01_trainer/src/model_training/exporter.py\n",
      "chicago-taxi-tips-classifier-v01_trainer/src/model_training/trainer.py\n",
      "chicago-taxi-tips-classifier-v01_trainer/src/model_training/task.py\n",
      "chicago-taxi-tips-classifier-v01_trainer/src/model_training/model.py\n",
      "chicago-taxi-tips-classifier-v01_trainer/src/model_training/runner.py\n",
      "chicago-taxi-tips-classifier-v01_trainer/src/model_training/__init__.py\n",
      "chicago-taxi-tips-classifier-v01_trainer/src/model_training/defaults.py\n",
      "chicago-taxi-tips-classifier-v01_trainer/src/__init__.py\n",
      "chicago-taxi-tips-classifier-v01_trainer/src/tests/\n",
      "chicago-taxi-tips-classifier-v01_trainer/src/tests/pipeline_deployment_tests.py\n",
      "chicago-taxi-tips-classifier-v01_trainer/src/tests/model_deployment_tests.py\n",
      "chicago-taxi-tips-classifier-v01_trainer/src/tests/datasource_utils_tests.py\n",
      "chicago-taxi-tips-classifier-v01_trainer/src/tests/__init__.py\n",
      "chicago-taxi-tips-classifier-v01_trainer/src/tests/etl_tests.py\n",
      "chicago-taxi-tips-classifier-v01_trainer/src/tests/model_tests.py\n",
      "chicago-taxi-tips-classifier-v01_trainer/src/raw_schema/\n",
      "chicago-taxi-tips-classifier-v01_trainer/src/raw_schema/schema.pbtxt\n",
      "chicago-taxi-tips-classifier-v01_trainer/src/preprocessing/\n",
      "chicago-taxi-tips-classifier-v01_trainer/src/preprocessing/etl.py\n",
      "chicago-taxi-tips-classifier-v01_trainer/src/preprocessing/transformations.py\n",
      "chicago-taxi-tips-classifier-v01_trainer/src/preprocessing/__init__.py\n",
      "chicago-taxi-tips-classifier-v01_trainer/setup.py\n",
      "Copying file://chicago-taxi-tips-classifier-v01_trainer.tar.gz [Content-Type=application/x-tar]...\n",
      "/ [1 files][ 18.1 KiB/ 18.1 KiB]                                                \n",
      "Operation completed over 1 objects/18.1 KiB.                                     \n"
     ]
    }
   ],
   "source": [
    "!rm -r src/*/__pycache__/\n",
    "!rm -r src/*/.ipynb_checkpoints/\n",
    "!rm -f {TRAINER_PACKAGE_NAME}.tar {TRAINER_PACKAGE_NAME}.tar.gz\n",
    "\n",
    "!mkdir {TRAINER_PACKAGE_NAME}\n",
    "\n",
    "!cp setup.py {TRAINER_PACKAGE_NAME}/\n",
    "!cp -r src {TRAINER_PACKAGE_NAME}/\n",
    "!tar cvf {TRAINER_PACKAGE_NAME}.tar {TRAINER_PACKAGE_NAME}\n",
    "!gzip {TRAINER_PACKAGE_NAME}.tar\n",
    "!gsutil cp {TRAINER_PACKAGE_NAME}.tar.gz {TRAINER_PACKAGE_DIR}/\n",
    "!rm -r {TRAINER_PACKAGE_NAME}\n",
    "!rm -r {TRAINER_PACKAGE_NAME}.tar.gz"
   ]
  },
  {
   "cell_type": "markdown",
   "id": "7c3af757",
   "metadata": {},
   "source": [
    "### Prepare the training job"
   ]
  },
  {
   "cell_type": "code",
   "execution_count": 47,
   "id": "e01bf43e",
   "metadata": {},
   "outputs": [
    {
     "name": "stdout",
     "output_type": "stream",
     "text": [
      "Training image: us-docker.pkg.dev/vertex-ai/training/tf-cpu.2-8:latest\n"
     ]
    }
   ],
   "source": [
    "# Note: Training runtime is spelled 'tf-cpu.*\" while in later notebooks, serving runtime is spelled 'tf2-cpu.*\"\n",
    "TRAIN_RUNTIME = 'tf-cpu.2-8'\n",
    "TRAIN_IMAGE = f\"us-docker.pkg.dev/vertex-ai/training/{TRAIN_RUNTIME}:latest\"\n",
    "print(\"Training image:\", TRAIN_IMAGE)"
   ]
  },
  {
   "cell_type": "code",
   "execution_count": 48,
   "id": "6d18dba5",
   "metadata": {},
   "outputs": [],
   "source": [
    "num_epochs = 2\n",
    "learning_rate = 0.001\n",
    "hidden_units = \"64,64\"\n",
    "\n",
    "trainer_args = [\n",
    "    f'--train-data-dir={TRANSFORMED_DATA_PREFIX + \"/train/*\"}',\n",
    "    f'--eval-data-dir={TRANSFORMED_DATA_PREFIX + \"/eval/*\"}',\n",
    "    f'--tft-output-dir={TRANSFORM_ARTIFACTS_DIR}',\n",
    "    f'--num-epochs={num_epochs}',\n",
    "    f'--learning-rate={learning_rate}',\n",
    "    f'--project={PROJECT}',\n",
    "    f'--region={REGION}',\n",
    "    f'--staging-bucket={BUCKET}',\n",
    "    f'--experiment-name={EXPERIMENT_NAME}'\n",
    "]"
   ]
  },
  {
   "cell_type": "code",
   "execution_count": 49,
   "id": "0a30d0d3",
   "metadata": {},
   "outputs": [],
   "source": [
    "package_uri = os.path.join(TRAINER_PACKAGE_DIR, f'{TRAINER_PACKAGE_NAME}.tar.gz')\n",
    "\n",
    "worker_pool_specs = [\n",
    "    {\n",
    "        \"replica_count\": 1,\n",
    "        \"machine_spec\": {\n",
    "            \"machine_type\": 'n1-standard-4',\n",
    "            \"accelerator_count\": 0\n",
    "    },\n",
    "        \"python_package_spec\": {\n",
    "            \"executor_image_uri\": TRAIN_IMAGE,\n",
    "            \"package_uris\": [package_uri],\n",
    "            \"python_module\": \"src.model_training.task\",\n",
    "            \"args\": trainer_args,\n",
    "        }\n",
    "    }\n",
    "]"
   ]
  },
  {
   "cell_type": "markdown",
   "id": "788d6e99",
   "metadata": {},
   "source": [
    "### Submit the training job"
   ]
  },
  {
   "cell_type": "code",
   "execution_count": 50,
   "id": "4544105b",
   "metadata": {},
   "outputs": [
    {
     "name": "stdout",
     "output_type": "stream",
     "text": [
      "Submitting a custom training job...\n",
      "Creating CustomJob\n"
     ]
    },
    {
     "name": "stderr",
     "output_type": "stream",
     "text": [
      "INFO:google.cloud.aiplatform.jobs:Creating CustomJob\n"
     ]
    },
    {
     "name": "stdout",
     "output_type": "stream",
     "text": [
      "CustomJob created. Resource name: projects/55590906972/locations/us-central1/customJobs/6098532777802596352\n"
     ]
    },
    {
     "name": "stderr",
     "output_type": "stream",
     "text": [
      "INFO:google.cloud.aiplatform.jobs:CustomJob created. Resource name: projects/55590906972/locations/us-central1/customJobs/6098532777802596352\n"
     ]
    },
    {
     "name": "stdout",
     "output_type": "stream",
     "text": [
      "To use this CustomJob in another session:\n"
     ]
    },
    {
     "name": "stderr",
     "output_type": "stream",
     "text": [
      "INFO:google.cloud.aiplatform.jobs:To use this CustomJob in another session:\n"
     ]
    },
    {
     "name": "stdout",
     "output_type": "stream",
     "text": [
      "custom_job = aiplatform.CustomJob.get('projects/55590906972/locations/us-central1/customJobs/6098532777802596352')\n"
     ]
    },
    {
     "name": "stderr",
     "output_type": "stream",
     "text": [
      "INFO:google.cloud.aiplatform.jobs:custom_job = aiplatform.CustomJob.get('projects/55590906972/locations/us-central1/customJobs/6098532777802596352')\n"
     ]
    },
    {
     "name": "stdout",
     "output_type": "stream",
     "text": [
      "View Custom Job:\n",
      "https://console.cloud.google.com/ai/platform/locations/us-central1/training/6098532777802596352?project=55590906972\n"
     ]
    },
    {
     "name": "stderr",
     "output_type": "stream",
     "text": [
      "INFO:google.cloud.aiplatform.jobs:View Custom Job:\n",
      "https://console.cloud.google.com/ai/platform/locations/us-central1/training/6098532777802596352?project=55590906972\n"
     ]
    },
    {
     "name": "stdout",
     "output_type": "stream",
     "text": [
      "View Tensorboard:\n",
      "https://us-central1.tensorboard.googleusercontent.com/experiment/projects+55590906972+locations+us-central1+tensorboards+5815536901632819200+experiments+6098532777802596352\n"
     ]
    },
    {
     "name": "stderr",
     "output_type": "stream",
     "text": [
      "INFO:google.cloud.aiplatform.jobs:View Tensorboard:\n",
      "https://us-central1.tensorboard.googleusercontent.com/experiment/projects+55590906972+locations+us-central1+tensorboards+5815536901632819200+experiments+6098532777802596352\n"
     ]
    },
    {
     "name": "stdout",
     "output_type": "stream",
     "text": [
      "CustomJob projects/55590906972/locations/us-central1/customJobs/6098532777802596352 current state:\n",
      "JobState.JOB_STATE_PENDING\n"
     ]
    },
    {
     "name": "stderr",
     "output_type": "stream",
     "text": [
      "INFO:google.cloud.aiplatform.jobs:CustomJob projects/55590906972/locations/us-central1/customJobs/6098532777802596352 current state:\n",
      "JobState.JOB_STATE_PENDING\n"
     ]
    },
    {
     "name": "stdout",
     "output_type": "stream",
     "text": [
      "CustomJob projects/55590906972/locations/us-central1/customJobs/6098532777802596352 current state:\n",
      "JobState.JOB_STATE_PENDING\n"
     ]
    },
    {
     "name": "stderr",
     "output_type": "stream",
     "text": [
      "INFO:google.cloud.aiplatform.jobs:CustomJob projects/55590906972/locations/us-central1/customJobs/6098532777802596352 current state:\n",
      "JobState.JOB_STATE_PENDING\n"
     ]
    },
    {
     "name": "stdout",
     "output_type": "stream",
     "text": [
      "CustomJob projects/55590906972/locations/us-central1/customJobs/6098532777802596352 current state:\n",
      "JobState.JOB_STATE_PENDING\n"
     ]
    },
    {
     "name": "stderr",
     "output_type": "stream",
     "text": [
      "INFO:google.cloud.aiplatform.jobs:CustomJob projects/55590906972/locations/us-central1/customJobs/6098532777802596352 current state:\n",
      "JobState.JOB_STATE_PENDING\n"
     ]
    },
    {
     "name": "stdout",
     "output_type": "stream",
     "text": [
      "CustomJob projects/55590906972/locations/us-central1/customJobs/6098532777802596352 current state:\n",
      "JobState.JOB_STATE_PENDING\n"
     ]
    },
    {
     "name": "stderr",
     "output_type": "stream",
     "text": [
      "INFO:google.cloud.aiplatform.jobs:CustomJob projects/55590906972/locations/us-central1/customJobs/6098532777802596352 current state:\n",
      "JobState.JOB_STATE_PENDING\n"
     ]
    },
    {
     "name": "stdout",
     "output_type": "stream",
     "text": [
      "CustomJob projects/55590906972/locations/us-central1/customJobs/6098532777802596352 current state:\n",
      "JobState.JOB_STATE_PENDING\n"
     ]
    },
    {
     "name": "stderr",
     "output_type": "stream",
     "text": [
      "INFO:google.cloud.aiplatform.jobs:CustomJob projects/55590906972/locations/us-central1/customJobs/6098532777802596352 current state:\n",
      "JobState.JOB_STATE_PENDING\n"
     ]
    },
    {
     "name": "stdout",
     "output_type": "stream",
     "text": [
      "CustomJob projects/55590906972/locations/us-central1/customJobs/6098532777802596352 current state:\n",
      "JobState.JOB_STATE_SUCCEEDED\n"
     ]
    },
    {
     "name": "stderr",
     "output_type": "stream",
     "text": [
      "INFO:google.cloud.aiplatform.jobs:CustomJob projects/55590906972/locations/us-central1/customJobs/6098532777802596352 current state:\n",
      "JobState.JOB_STATE_SUCCEEDED\n"
     ]
    },
    {
     "name": "stdout",
     "output_type": "stream",
     "text": [
      "CustomJob run completed. Resource name: projects/55590906972/locations/us-central1/customJobs/6098532777802596352\n"
     ]
    },
    {
     "name": "stderr",
     "output_type": "stream",
     "text": [
      "INFO:google.cloud.aiplatform.jobs:CustomJob run completed. Resource name: projects/55590906972/locations/us-central1/customJobs/6098532777802596352\n"
     ]
    }
   ],
   "source": [
    "print(\"Submitting a custom training job...\")\n",
    "\n",
    "training_job_display_name = f\"{TRAINER_PACKAGE_NAME}_{run_id}\"\n",
    "\n",
    "training_job = vertex_ai.CustomJob(\n",
    "    display_name=training_job_display_name,\n",
    "    worker_pool_specs=worker_pool_specs,\n",
    "    base_output_dir=EXPERIMENT_RUN_DIR,\n",
    ")\n",
    "\n",
    "training_job.run(\n",
    "    service_account=SERVICE_ACCOUNT,\n",
    "    tensorboard=tensorboard_resource_name,\n",
    "    sync=True\n",
    ")"
   ]
  },
  {
   "cell_type": "markdown",
   "id": "c2896b59",
   "metadata": {},
   "source": [
    "## 5. Upload exported model to Vertex AI Models"
   ]
  },
  {
   "cell_type": "code",
   "execution_count": 51,
   "id": "e86b288b",
   "metadata": {},
   "outputs": [
    {
     "name": "stdout",
     "output_type": "stream",
     "text": [
      "gs://gcp-certification-chicago-taxi-demo/chicago-taxi-tips/experiments/chicago-taxi-tips-classifier-v01/run-local-20220910032212/model/\n",
      "gs://gcp-certification-chicago-taxi-demo/chicago-taxi-tips/experiments/chicago-taxi-tips-classifier-v01/run-local-20220910032212/model/keras_metadata.pb\n",
      "gs://gcp-certification-chicago-taxi-demo/chicago-taxi-tips/experiments/chicago-taxi-tips-classifier-v01/run-local-20220910032212/model/saved_model.pb\n",
      "gs://gcp-certification-chicago-taxi-demo/chicago-taxi-tips/experiments/chicago-taxi-tips-classifier-v01/run-local-20220910032212/model/assets/\n",
      "gs://gcp-certification-chicago-taxi-demo/chicago-taxi-tips/experiments/chicago-taxi-tips-classifier-v01/run-local-20220910032212/model/variables/\n"
     ]
    }
   ],
   "source": [
    "!gsutil ls {EXPORT_DIR}"
   ]
  },
  {
   "cell_type": "markdown",
   "id": "f40e0c39",
   "metadata": {},
   "source": [
    "### Generate the Explanation metadata"
   ]
  },
  {
   "cell_type": "code",
   "execution_count": 52,
   "id": "e3d5df4c",
   "metadata": {},
   "outputs": [
    {
     "data": {
      "text/plain": [
       "{'inputs': {'trip_month': {'input_tensor_name': 'trip_month',\n",
       "   'encoding': 'IDENTITY',\n",
       "   'modality': 'categorical'},\n",
       "  'trip_day': {'input_tensor_name': 'trip_day',\n",
       "   'encoding': 'IDENTITY',\n",
       "   'modality': 'categorical'},\n",
       "  'trip_day_of_week': {'input_tensor_name': 'trip_day_of_week',\n",
       "   'encoding': 'IDENTITY',\n",
       "   'modality': 'categorical'},\n",
       "  'trip_hour': {'input_tensor_name': 'trip_hour',\n",
       "   'encoding': 'IDENTITY',\n",
       "   'modality': 'categorical'},\n",
       "  'trip_seconds': {'input_tensor_name': 'trip_seconds', 'modality': 'numeric'},\n",
       "  'trip_miles': {'input_tensor_name': 'trip_miles', 'modality': 'numeric'},\n",
       "  'payment_type': {'input_tensor_name': 'payment_type',\n",
       "   'encoding': 'IDENTITY',\n",
       "   'modality': 'categorical'},\n",
       "  'pickup_grid': {'input_tensor_name': 'pickup_grid',\n",
       "   'encoding': 'IDENTITY',\n",
       "   'modality': 'categorical'},\n",
       "  'dropoff_grid': {'input_tensor_name': 'dropoff_grid',\n",
       "   'encoding': 'IDENTITY',\n",
       "   'modality': 'categorical'},\n",
       "  'euclidean': {'input_tensor_name': 'euclidean', 'modality': 'numeric'},\n",
       "  'loc_cross': {'input_tensor_name': 'loc_cross',\n",
       "   'encoding': 'IDENTITY',\n",
       "   'modality': 'categorical'}},\n",
       " 'outputs': {'scores': {'output_tensor_name': 'scores'}},\n",
       " 'params': {'sampled_shapley_attribution': {'path_count': 10}}}"
      ]
     },
     "execution_count": 52,
     "metadata": {},
     "output_type": "execute_result"
    }
   ],
   "source": [
    "explanation_config = features.generate_explanation_config()\n",
    "explanation_config"
   ]
  },
  {
   "cell_type": "markdown",
   "id": "85cd0587",
   "metadata": {},
   "source": [
    "### Upload model"
   ]
  },
  {
   "cell_type": "code",
   "execution_count": 53,
   "id": "a6d0dbb2",
   "metadata": {},
   "outputs": [],
   "source": [
    "# SERVING_RUNTIME='tf-cpu.2-8'\n",
    "# SERVING_IMAGE = f\"us-docker.pkg.dev/vertex-ai/prediction/{SERVING_RUNTIME}:latest\"\n",
    "# print(\"Serving image:\", SERVING_IMAGE)"
   ]
  },
  {
   "cell_type": "code",
   "execution_count": 54,
   "id": "1b24abd6",
   "metadata": {},
   "outputs": [],
   "source": [
    "# explanation_metadata = vertex_ai.explain.ExplanationMetadata(\n",
    "#     inputs=explanation_config[\"inputs\"],\n",
    "#     outputs=explanation_config[\"outputs\"],\n",
    "# )\n",
    "# explanation_parameters = vertex_ai.explain.ExplanationParameters(\n",
    "#     explanation_config[\"params\"]\n",
    "# )\n",
    "\n",
    "# vertex_model = vertex_ai.Model.upload(\n",
    "#     display_name=MODEL_DISPLAY_NAME,\n",
    "#     artifact_uri=EXPORT_DIR,\n",
    "#     serving_container_image_uri=SERVING_IMAGE,\n",
    "#     parameters_schema_uri=None,\n",
    "#     instance_schema_uri=None,\n",
    "#     explanation_metadata=explanation_metadata,\n",
    "#     explanation_parameters=explanation_parameters,\n",
    "#     labels={\n",
    "#         'dataset_name': DATASET_DISPLAY_NAME,\n",
    "#         'experiment': run_id\n",
    "#     }\n",
    "# )"
   ]
  },
  {
   "cell_type": "code",
   "execution_count": 56,
   "id": "51756dbb",
   "metadata": {},
   "outputs": [],
   "source": [
    "# vertex_model.gca_resource"
   ]
  },
  {
   "cell_type": "markdown",
   "id": "4aa55220",
   "metadata": {},
   "source": [
    "## 6. Extract experiment run parameters"
   ]
  },
  {
   "cell_type": "code",
   "execution_count": 57,
   "id": "07808f8a",
   "metadata": {},
   "outputs": [
    {
     "data": {
      "text/html": [
       "<div>\n",
       "<style scoped>\n",
       "    .dataframe tbody tr th:only-of-type {\n",
       "        vertical-align: middle;\n",
       "    }\n",
       "\n",
       "    .dataframe tbody tr th {\n",
       "        vertical-align: top;\n",
       "    }\n",
       "\n",
       "    .dataframe thead th {\n",
       "        text-align: right;\n",
       "    }\n",
       "</style>\n",
       "<table border=\"1\" class=\"dataframe\">\n",
       "  <thead>\n",
       "    <tr style=\"text-align: right;\">\n",
       "      <th></th>\n",
       "      <th>0</th>\n",
       "      <th>1</th>\n",
       "      <th>2</th>\n",
       "      <th>3</th>\n",
       "      <th>4</th>\n",
       "      <th>5</th>\n",
       "      <th>6</th>\n",
       "      <th>7</th>\n",
       "      <th>8</th>\n",
       "      <th>9</th>\n",
       "      <th>...</th>\n",
       "      <th>74</th>\n",
       "      <th>75</th>\n",
       "      <th>76</th>\n",
       "      <th>77</th>\n",
       "      <th>78</th>\n",
       "      <th>79</th>\n",
       "      <th>80</th>\n",
       "      <th>81</th>\n",
       "      <th>82</th>\n",
       "      <th>83</th>\n",
       "    </tr>\n",
       "  </thead>\n",
       "  <tbody>\n",
       "    <tr>\n",
       "      <th>experiment_name</th>\n",
       "      <td>chicago-taxi-tips-classifier-v01</td>\n",
       "      <td>chicago-taxi-tips-classifier-v01</td>\n",
       "      <td>chicago-taxi-tips-classifier-v01</td>\n",
       "      <td>chicago-taxi-tips-classifier-v01</td>\n",
       "      <td>chicago-taxi-tips-classifier-v01</td>\n",
       "      <td>chicago-taxi-tips-classifier-v01</td>\n",
       "      <td>chicago-taxi-tips-classifier-v01</td>\n",
       "      <td>chicago-taxi-tips-classifier-v01</td>\n",
       "      <td>chicago-taxi-tips-classifier-v01</td>\n",
       "      <td>chicago-taxi-tips-classifier-v01</td>\n",
       "      <td>...</td>\n",
       "      <td>chicago-taxi-tips-classifier-v01</td>\n",
       "      <td>chicago-taxi-tips-classifier-v01</td>\n",
       "      <td>chicago-taxi-tips-classifier-v01</td>\n",
       "      <td>chicago-taxi-tips-classifier-v01</td>\n",
       "      <td>chicago-taxi-tips-classifier-v01</td>\n",
       "      <td>chicago-taxi-tips-classifier-v01</td>\n",
       "      <td>chicago-taxi-tips-classifier-v01</td>\n",
       "      <td>chicago-taxi-tips-classifier-v01</td>\n",
       "      <td>chicago-taxi-tips-classifier-v01</td>\n",
       "      <td>chicago-taxi-tips-classifier-v01</td>\n",
       "    </tr>\n",
       "    <tr>\n",
       "      <th>run_name</th>\n",
       "      <td>run-gcp-20220910032914</td>\n",
       "      <td>run-local-20220910032212</td>\n",
       "      <td>run-gcp-20220910031232</td>\n",
       "      <td>run-local-20220910030531</td>\n",
       "      <td>run-gcp-20220910030000</td>\n",
       "      <td>run-local-20220910012954</td>\n",
       "      <td>run-local-20220909230509</td>\n",
       "      <td>run-local-20220909222408</td>\n",
       "      <td>run-local-20220909215535</td>\n",
       "      <td>run-local-20220909175528</td>\n",
       "      <td>...</td>\n",
       "      <td>run-local-20220612193802</td>\n",
       "      <td>run-gcp-20220611212947</td>\n",
       "      <td>run-local-20220611212646</td>\n",
       "      <td>run-local-20220611212015</td>\n",
       "      <td>run-local-20220611203051</td>\n",
       "      <td>run-gcp-20220609223604</td>\n",
       "      <td>run-gcp-20220609222555</td>\n",
       "      <td>run-local-20220609222100</td>\n",
       "      <td>run-gcp-20220609192612</td>\n",
       "      <td>run-local-20220609180402</td>\n",
       "    </tr>\n",
       "    <tr>\n",
       "      <th>param.learning_rate</th>\n",
       "      <td>0.001</td>\n",
       "      <td>0.001</td>\n",
       "      <td>0.001</td>\n",
       "      <td>0.001</td>\n",
       "      <td>0.001</td>\n",
       "      <td>0.001</td>\n",
       "      <td>0.001</td>\n",
       "      <td>0.001</td>\n",
       "      <td>0.001</td>\n",
       "      <td>0.001</td>\n",
       "      <td>...</td>\n",
       "      <td>0.001</td>\n",
       "      <td>0.001</td>\n",
       "      <td>0.001</td>\n",
       "      <td>0.001</td>\n",
       "      <td>0.001</td>\n",
       "      <td>0.001</td>\n",
       "      <td>NaN</td>\n",
       "      <td>0.001</td>\n",
       "      <td>NaN</td>\n",
       "      <td>0.001</td>\n",
       "    </tr>\n",
       "    <tr>\n",
       "      <th>param.eval_data_dir</th>\n",
       "      <td>gs://gcp-certification-chicago-taxi-demo/chica...</td>\n",
       "      <td>gs://gcp-certification-chicago-taxi-demo/chica...</td>\n",
       "      <td>gs://gcp-certification-chicago-taxi-demo/chica...</td>\n",
       "      <td>gs://gcp-certification-chicago-taxi-demo/chica...</td>\n",
       "      <td>gs://gcp-certification-chicago-taxi-demo/chica...</td>\n",
       "      <td>gs://gcp-certification-chicago-taxi-demo/chica...</td>\n",
       "      <td>gs://gcp-certification-chicago-taxi-demo/chica...</td>\n",
       "      <td>gs://gcp-certification-chicago-taxi-demo/chica...</td>\n",
       "      <td>gs://gcp-certification-chicago-taxi-demo/chica...</td>\n",
       "      <td>gs://gcp-certification-chicago-taxi-demo/chica...</td>\n",
       "      <td>...</td>\n",
       "      <td>NaN</td>\n",
       "      <td>gs://ml-workshop-chicago-taxi-demo/chicago-tax...</td>\n",
       "      <td>NaN</td>\n",
       "      <td>NaN</td>\n",
       "      <td>NaN</td>\n",
       "      <td>gs://ml-workshop-chicago-taxi-demo/chicago-tax...</td>\n",
       "      <td>NaN</td>\n",
       "      <td>NaN</td>\n",
       "      <td>NaN</td>\n",
       "      <td>NaN</td>\n",
       "    </tr>\n",
       "    <tr>\n",
       "      <th>param.batch_size</th>\n",
       "      <td>512.0</td>\n",
       "      <td>512.0</td>\n",
       "      <td>512.0</td>\n",
       "      <td>512.0</td>\n",
       "      <td>512.0</td>\n",
       "      <td>512.0</td>\n",
       "      <td>512.0</td>\n",
       "      <td>512.0</td>\n",
       "      <td>512.0</td>\n",
       "      <td>512.0</td>\n",
       "      <td>...</td>\n",
       "      <td>512.0</td>\n",
       "      <td>512.0</td>\n",
       "      <td>512.0</td>\n",
       "      <td>512.0</td>\n",
       "      <td>512.0</td>\n",
       "      <td>512.0</td>\n",
       "      <td>NaN</td>\n",
       "      <td>512.0</td>\n",
       "      <td>NaN</td>\n",
       "      <td>512.0</td>\n",
       "    </tr>\n",
       "    <tr>\n",
       "      <th>param.tft_output_dir</th>\n",
       "      <td>gs://gcp-certification-chicago-taxi-demo/chica...</td>\n",
       "      <td>gs://gcp-certification-chicago-taxi-demo/chica...</td>\n",
       "      <td>gs://gcp-certification-chicago-taxi-demo/chica...</td>\n",
       "      <td>gs://gcp-certification-chicago-taxi-demo/chica...</td>\n",
       "      <td>gs://gcp-certification-chicago-taxi-demo/chica...</td>\n",
       "      <td>gs://gcp-certification-chicago-taxi-demo/chica...</td>\n",
       "      <td>gs://gcp-certification-chicago-taxi-demo/chica...</td>\n",
       "      <td>gs://gcp-certification-chicago-taxi-demo/chica...</td>\n",
       "      <td>gs://gcp-certification-chicago-taxi-demo/chica...</td>\n",
       "      <td>gs://gcp-certification-chicago-taxi-demo/chica...</td>\n",
       "      <td>...</td>\n",
       "      <td>NaN</td>\n",
       "      <td>gs://ml-workshop-chicago-taxi-demo/chicago-tax...</td>\n",
       "      <td>NaN</td>\n",
       "      <td>NaN</td>\n",
       "      <td>NaN</td>\n",
       "      <td>gs://ml-workshop-chicago-taxi-demo/chicago-tax...</td>\n",
       "      <td>NaN</td>\n",
       "      <td>NaN</td>\n",
       "      <td>NaN</td>\n",
       "      <td>NaN</td>\n",
       "    </tr>\n",
       "    <tr>\n",
       "      <th>param.project</th>\n",
       "      <td>mwpmltr</td>\n",
       "      <td>mwpmltr</td>\n",
       "      <td>mwpmltr</td>\n",
       "      <td>mwpmltr</td>\n",
       "      <td>mwpmltr</td>\n",
       "      <td>mwpmltr</td>\n",
       "      <td>mwpmltr</td>\n",
       "      <td>mwpmltr</td>\n",
       "      <td>mwpmltr</td>\n",
       "      <td>mwpmltr</td>\n",
       "      <td>...</td>\n",
       "      <td>mwpmltr</td>\n",
       "      <td>mwpmltr</td>\n",
       "      <td>mwpmltr</td>\n",
       "      <td>mwpmltr</td>\n",
       "      <td>mwpmltr</td>\n",
       "      <td>mwpmltr</td>\n",
       "      <td>mwpmltr</td>\n",
       "      <td>mwpmltr</td>\n",
       "      <td>mwpmltr</td>\n",
       "      <td>mwpmltr</td>\n",
       "    </tr>\n",
       "    <tr>\n",
       "      <th>param.region</th>\n",
       "      <td>us-central1</td>\n",
       "      <td>us-central1</td>\n",
       "      <td>us-central1</td>\n",
       "      <td>us-central1</td>\n",
       "      <td>us-central1</td>\n",
       "      <td>us-central1</td>\n",
       "      <td>us-central1</td>\n",
       "      <td>us-central1</td>\n",
       "      <td>us-central1</td>\n",
       "      <td>us-central1</td>\n",
       "      <td>...</td>\n",
       "      <td>NaN</td>\n",
       "      <td>us-central1</td>\n",
       "      <td>NaN</td>\n",
       "      <td>NaN</td>\n",
       "      <td>NaN</td>\n",
       "      <td>us-central1</td>\n",
       "      <td>us-central1</td>\n",
       "      <td>NaN</td>\n",
       "      <td>us-central1</td>\n",
       "      <td>NaN</td>\n",
       "    </tr>\n",
       "    <tr>\n",
       "      <th>param.num_epochs</th>\n",
       "      <td>2.0</td>\n",
       "      <td>3.0</td>\n",
       "      <td>2.0</td>\n",
       "      <td>3.0</td>\n",
       "      <td>2.0</td>\n",
       "      <td>3.0</td>\n",
       "      <td>3.0</td>\n",
       "      <td>3.0</td>\n",
       "      <td>3.0</td>\n",
       "      <td>3.0</td>\n",
       "      <td>...</td>\n",
       "      <td>5.0</td>\n",
       "      <td>3.0</td>\n",
       "      <td>5.0</td>\n",
       "      <td>5.0</td>\n",
       "      <td>5.0</td>\n",
       "      <td>10.0</td>\n",
       "      <td>NaN</td>\n",
       "      <td>5.0</td>\n",
       "      <td>NaN</td>\n",
       "      <td>5.0</td>\n",
       "    </tr>\n",
       "    <tr>\n",
       "      <th>param.staging_bucket</th>\n",
       "      <td>gcp-certification-chicago-taxi-demo</td>\n",
       "      <td>gcp-certification-chicago-taxi-demo</td>\n",
       "      <td>gcp-certification-chicago-taxi-demo</td>\n",
       "      <td>gcp-certification-chicago-taxi-demo</td>\n",
       "      <td>gcp-certification-chicago-taxi-demo</td>\n",
       "      <td>gcp-certification-chicago-taxi-demo</td>\n",
       "      <td>gcp-certification-chicago-taxi-demo</td>\n",
       "      <td>gcp-certification-chicago-taxi-demo</td>\n",
       "      <td>gcp-certification-chicago-taxi-demo</td>\n",
       "      <td>gcp-certification-chicago-taxi-demo</td>\n",
       "      <td>...</td>\n",
       "      <td>NaN</td>\n",
       "      <td>ml-workshop-chicago-taxi-demo</td>\n",
       "      <td>NaN</td>\n",
       "      <td>NaN</td>\n",
       "      <td>NaN</td>\n",
       "      <td>ml-workshop-chicago-taxi-demo</td>\n",
       "      <td>NaN</td>\n",
       "      <td>NaN</td>\n",
       "      <td>NaN</td>\n",
       "      <td>NaN</td>\n",
       "    </tr>\n",
       "    <tr>\n",
       "      <th>param.model_dir</th>\n",
       "      <td>gs://gcp-certification-chicago-taxi-demo/chica...</td>\n",
       "      <td>gs://gcp-certification-chicago-taxi-demo/chica...</td>\n",
       "      <td>gs://gcp-certification-chicago-taxi-demo/chica...</td>\n",
       "      <td>gs://gcp-certification-chicago-taxi-demo/chica...</td>\n",
       "      <td>gs://gcp-certification-chicago-taxi-demo/chica...</td>\n",
       "      <td>gs://gcp-certification-chicago-taxi-demo/chica...</td>\n",
       "      <td>gs://gcp-certification-chicago-taxi-demo/chica...</td>\n",
       "      <td>gs://gcp-certification-chicago-taxi-demo/chica...</td>\n",
       "      <td>gs://gcp-certification-chicago-taxi-demo/chica...</td>\n",
       "      <td>gs://gcp-certification-chicago-taxi-demo/chica...</td>\n",
       "      <td>...</td>\n",
       "      <td>NaN</td>\n",
       "      <td>gs://ml-workshop-chicago-taxi-demo/chicago-tax...</td>\n",
       "      <td>NaN</td>\n",
       "      <td>NaN</td>\n",
       "      <td>NaN</td>\n",
       "      <td>gs://ml-workshop-chicago-taxi-demo/chicago-tax...</td>\n",
       "      <td>NaN</td>\n",
       "      <td>NaN</td>\n",
       "      <td>NaN</td>\n",
       "      <td>NaN</td>\n",
       "    </tr>\n",
       "    <tr>\n",
       "      <th>param.train_data_dir</th>\n",
       "      <td>gs://gcp-certification-chicago-taxi-demo/chica...</td>\n",
       "      <td>gs://gcp-certification-chicago-taxi-demo/chica...</td>\n",
       "      <td>gs://gcp-certification-chicago-taxi-demo/chica...</td>\n",
       "      <td>gs://gcp-certification-chicago-taxi-demo/chica...</td>\n",
       "      <td>gs://gcp-certification-chicago-taxi-demo/chica...</td>\n",
       "      <td>gs://gcp-certification-chicago-taxi-demo/chica...</td>\n",
       "      <td>gs://gcp-certification-chicago-taxi-demo/chica...</td>\n",
       "      <td>gs://gcp-certification-chicago-taxi-demo/chica...</td>\n",
       "      <td>gs://gcp-certification-chicago-taxi-demo/chica...</td>\n",
       "      <td>gs://gcp-certification-chicago-taxi-demo/chica...</td>\n",
       "      <td>...</td>\n",
       "      <td>NaN</td>\n",
       "      <td>gs://ml-workshop-chicago-taxi-demo/chicago-tax...</td>\n",
       "      <td>NaN</td>\n",
       "      <td>NaN</td>\n",
       "      <td>NaN</td>\n",
       "      <td>gs://ml-workshop-chicago-taxi-demo/chicago-tax...</td>\n",
       "      <td>NaN</td>\n",
       "      <td>NaN</td>\n",
       "      <td>NaN</td>\n",
       "      <td>NaN</td>\n",
       "    </tr>\n",
       "    <tr>\n",
       "      <th>param.experiment_name</th>\n",
       "      <td>chicago-taxi-tips-classifier-v01</td>\n",
       "      <td>chicago-taxi-tips-classifier-v01</td>\n",
       "      <td>chicago-taxi-tips-classifier-v01</td>\n",
       "      <td>chicago-taxi-tips-classifier-v01</td>\n",
       "      <td>chicago-taxi-tips-classifier-v01</td>\n",
       "      <td>chicago-taxi-tips-classifier-v01</td>\n",
       "      <td>chicago-taxi-tips-classifier-v01</td>\n",
       "      <td>chicago-taxi-tips-classifier-v01</td>\n",
       "      <td>chicago-taxi-tips-classifier-v01</td>\n",
       "      <td>chicago-taxi-tips-classifier-v01</td>\n",
       "      <td>...</td>\n",
       "      <td>NaN</td>\n",
       "      <td>chicago-taxi-tips-classifier-v01</td>\n",
       "      <td>NaN</td>\n",
       "      <td>NaN</td>\n",
       "      <td>NaN</td>\n",
       "      <td>chicago-taxi-tips-classifier-v01</td>\n",
       "      <td>NaN</td>\n",
       "      <td>NaN</td>\n",
       "      <td>NaN</td>\n",
       "      <td>NaN</td>\n",
       "    </tr>\n",
       "    <tr>\n",
       "      <th>param.hidden_units</th>\n",
       "      <td>[64.0, 32.0]</td>\n",
       "      <td>[32.0, 32.0]</td>\n",
       "      <td>[64.0, 32.0]</td>\n",
       "      <td>[32.0, 32.0]</td>\n",
       "      <td>[64.0, 32.0]</td>\n",
       "      <td>[32.0, 32.0]</td>\n",
       "      <td>[32.0, 32.0]</td>\n",
       "      <td>[32.0, 32.0]</td>\n",
       "      <td>[32.0, 32.0]</td>\n",
       "      <td>[32.0, 32.0]</td>\n",
       "      <td>...</td>\n",
       "      <td>[64.0, 32.0]</td>\n",
       "      <td>[32.0, 32.0]</td>\n",
       "      <td>[64.0, 32.0]</td>\n",
       "      <td>[64.0, 32.0]</td>\n",
       "      <td>[64.0, 32.0]</td>\n",
       "      <td>[64.0, 32.0]</td>\n",
       "      <td>NaN</td>\n",
       "      <td>[64.0, 32.0]</td>\n",
       "      <td>NaN</td>\n",
       "      <td>[64.0, 32.0]</td>\n",
       "    </tr>\n",
       "    <tr>\n",
       "      <th>param.log_dir</th>\n",
       "      <td>gs://gcp-certification-chicago-taxi-demo/chica...</td>\n",
       "      <td>gs://gcp-certification-chicago-taxi-demo/chica...</td>\n",
       "      <td>gs://gcp-certification-chicago-taxi-demo/chica...</td>\n",
       "      <td>gs://gcp-certification-chicago-taxi-demo/chica...</td>\n",
       "      <td>gs://gcp-certification-chicago-taxi-demo/chica...</td>\n",
       "      <td>gs://gcp-certification-chicago-taxi-demo/chica...</td>\n",
       "      <td>gs://gcp-certification-chicago-taxi-demo/chica...</td>\n",
       "      <td>gs://gcp-certification-chicago-taxi-demo/chica...</td>\n",
       "      <td>gs://gcp-certification-chicago-taxi-demo/chica...</td>\n",
       "      <td>gs://gcp-certification-chicago-taxi-demo/chica...</td>\n",
       "      <td>...</td>\n",
       "      <td>NaN</td>\n",
       "      <td>gs://ml-workshop-chicago-taxi-demo/chicago-tax...</td>\n",
       "      <td>NaN</td>\n",
       "      <td>NaN</td>\n",
       "      <td>NaN</td>\n",
       "      <td>gs://ml-workshop-chicago-taxi-demo/chicago-tax...</td>\n",
       "      <td>NaN</td>\n",
       "      <td>NaN</td>\n",
       "      <td>NaN</td>\n",
       "      <td>NaN</td>\n",
       "    </tr>\n",
       "    <tr>\n",
       "      <th>param.run_name</th>\n",
       "      <td>None</td>\n",
       "      <td>run-local-20220910032212</td>\n",
       "      <td>None</td>\n",
       "      <td>run-local-20220910030531</td>\n",
       "      <td>None</td>\n",
       "      <td>run-local-20220910012954</td>\n",
       "      <td>run-local-20220909230509</td>\n",
       "      <td>run-local-20220909222408</td>\n",
       "      <td>run-local-20220909215535</td>\n",
       "      <td>run-local-20220909175528</td>\n",
       "      <td>...</td>\n",
       "      <td>NaN</td>\n",
       "      <td>run-gcp-20220611212947</td>\n",
       "      <td>NaN</td>\n",
       "      <td>NaN</td>\n",
       "      <td>NaN</td>\n",
       "      <td>None</td>\n",
       "      <td>NaN</td>\n",
       "      <td>NaN</td>\n",
       "      <td>NaN</td>\n",
       "      <td>NaN</td>\n",
       "    </tr>\n",
       "    <tr>\n",
       "      <th>metric.val_loss</th>\n",
       "      <td>0.520015</td>\n",
       "      <td>0.425412</td>\n",
       "      <td>0.423835</td>\n",
       "      <td>0.476993</td>\n",
       "      <td>0.318549</td>\n",
       "      <td>0.347568</td>\n",
       "      <td>0.355062</td>\n",
       "      <td>0.368179</td>\n",
       "      <td>0.296807</td>\n",
       "      <td>0.422544</td>\n",
       "      <td>...</td>\n",
       "      <td>0.326443</td>\n",
       "      <td>NaN</td>\n",
       "      <td>0.299839</td>\n",
       "      <td>0.318655</td>\n",
       "      <td>0.292976</td>\n",
       "      <td>NaN</td>\n",
       "      <td>NaN</td>\n",
       "      <td>0.294624</td>\n",
       "      <td>NaN</td>\n",
       "      <td>0.309407</td>\n",
       "    </tr>\n",
       "    <tr>\n",
       "      <th>metric.val_accuracy</th>\n",
       "      <td>1.0</td>\n",
       "      <td>1.0</td>\n",
       "      <td>1.0</td>\n",
       "      <td>1.0</td>\n",
       "      <td>1.0</td>\n",
       "      <td>1.0</td>\n",
       "      <td>1.0</td>\n",
       "      <td>1.0</td>\n",
       "      <td>1.0</td>\n",
       "      <td>1.0</td>\n",
       "      <td>...</td>\n",
       "      <td>0.889648</td>\n",
       "      <td>NaN</td>\n",
       "      <td>0.890625</td>\n",
       "      <td>0.891602</td>\n",
       "      <td>0.888672</td>\n",
       "      <td>NaN</td>\n",
       "      <td>NaN</td>\n",
       "      <td>0.890625</td>\n",
       "      <td>NaN</td>\n",
       "      <td>0.889648</td>\n",
       "    </tr>\n",
       "    <tr>\n",
       "      <th>param.temporary_dir</th>\n",
       "      <td>NaN</td>\n",
       "      <td>gs://gcp-certification-chicago-taxi-demo/chica...</td>\n",
       "      <td>NaN</td>\n",
       "      <td>gs://gcp-certification-chicago-taxi-demo/chica...</td>\n",
       "      <td>NaN</td>\n",
       "      <td>gs://gcp-certification-chicago-taxi-demo/chica...</td>\n",
       "      <td>gs://gcp-certification-chicago-taxi-demo/chica...</td>\n",
       "      <td>gs://gcp-certification-chicago-taxi-demo/chica...</td>\n",
       "      <td>gs://gcp-certification-chicago-taxi-demo/chica...</td>\n",
       "      <td>gs://gcp-certification-chicago-taxi-demo/chica...</td>\n",
       "      <td>...</td>\n",
       "      <td>gs://ml-workshop-chicago-taxi-demo/chicago-tax...</td>\n",
       "      <td>gs://ml-workshop-chicago-taxi-demo/chicago-tax...</td>\n",
       "      <td>gs://ml-workshop-chicago-taxi-demo/chicago-tax...</td>\n",
       "      <td>gs://ml-workshop-chicago-taxi-demo/chicago-tax...</td>\n",
       "      <td>gs://ml-workshop-chicago-taxi-demo/chicago-tax...</td>\n",
       "      <td>NaN</td>\n",
       "      <td>gs://ml-workshop-chicago-taxi-demo/chicago-tax...</td>\n",
       "      <td>gs://ml-workshop-chicago-taxi-demo/chicago-tax...</td>\n",
       "      <td>gs://ml-workshop-chicago-taxi-demo/chicago-tax...</td>\n",
       "      <td>gs://ml-workshop-chicago-taxi-demo/chicago-tax...</td>\n",
       "    </tr>\n",
       "    <tr>\n",
       "      <th>param.transform_artifact_dir</th>\n",
       "      <td>NaN</td>\n",
       "      <td>gs://gcp-certification-chicago-taxi-demo/chica...</td>\n",
       "      <td>NaN</td>\n",
       "      <td>gs://gcp-certification-chicago-taxi-demo/chica...</td>\n",
       "      <td>NaN</td>\n",
       "      <td>gs://gcp-certification-chicago-taxi-demo/chica...</td>\n",
       "      <td>gs://gcp-certification-chicago-taxi-demo/chica...</td>\n",
       "      <td>gs://gcp-certification-chicago-taxi-demo/chica...</td>\n",
       "      <td>gs://gcp-certification-chicago-taxi-demo/chica...</td>\n",
       "      <td>gs://gcp-certification-chicago-taxi-demo/chica...</td>\n",
       "      <td>...</td>\n",
       "      <td>gs://ml-workshop-chicago-taxi-demo/chicago-tax...</td>\n",
       "      <td>gs://ml-workshop-chicago-taxi-demo/chicago-tax...</td>\n",
       "      <td>gs://ml-workshop-chicago-taxi-demo/chicago-tax...</td>\n",
       "      <td>gs://ml-workshop-chicago-taxi-demo/chicago-tax...</td>\n",
       "      <td>gs://ml-workshop-chicago-taxi-demo/chicago-tax...</td>\n",
       "      <td>NaN</td>\n",
       "      <td>gs://ml-workshop-chicago-taxi-demo/chicago-tax...</td>\n",
       "      <td>gs://ml-workshop-chicago-taxi-demo/chicago-tax...</td>\n",
       "      <td>gs://ml-workshop-chicago-taxi-demo/chicago-tax...</td>\n",
       "      <td>gs://ml-workshop-chicago-taxi-demo/chicago-tax...</td>\n",
       "    </tr>\n",
       "    <tr>\n",
       "      <th>param.transformed_data_prefix</th>\n",
       "      <td>NaN</td>\n",
       "      <td>gs://gcp-certification-chicago-taxi-demo/chica...</td>\n",
       "      <td>NaN</td>\n",
       "      <td>gs://gcp-certification-chicago-taxi-demo/chica...</td>\n",
       "      <td>NaN</td>\n",
       "      <td>gs://gcp-certification-chicago-taxi-demo/chica...</td>\n",
       "      <td>gs://gcp-certification-chicago-taxi-demo/chica...</td>\n",
       "      <td>gs://gcp-certification-chicago-taxi-demo/chica...</td>\n",
       "      <td>gs://gcp-certification-chicago-taxi-demo/chica...</td>\n",
       "      <td>gs://gcp-certification-chicago-taxi-demo/chica...</td>\n",
       "      <td>...</td>\n",
       "      <td>gs://ml-workshop-chicago-taxi-demo/chicago-tax...</td>\n",
       "      <td>gs://ml-workshop-chicago-taxi-demo/chicago-tax...</td>\n",
       "      <td>gs://ml-workshop-chicago-taxi-demo/chicago-tax...</td>\n",
       "      <td>gs://ml-workshop-chicago-taxi-demo/chicago-tax...</td>\n",
       "      <td>gs://ml-workshop-chicago-taxi-demo/chicago-tax...</td>\n",
       "      <td>NaN</td>\n",
       "      <td>gs://ml-workshop-chicago-taxi-demo/chicago-tax...</td>\n",
       "      <td>gs://ml-workshop-chicago-taxi-demo/chicago-tax...</td>\n",
       "      <td>gs://ml-workshop-chicago-taxi-demo/chicago-tax...</td>\n",
       "      <td>gs://ml-workshop-chicago-taxi-demo/chicago-tax...</td>\n",
       "    </tr>\n",
       "    <tr>\n",
       "      <th>param.gcs_location</th>\n",
       "      <td>NaN</td>\n",
       "      <td>gs://gcp-certification-chicago-taxi-demo/bq_tmp</td>\n",
       "      <td>NaN</td>\n",
       "      <td>gs://gcp-certification-chicago-taxi-demo/bq_tmp</td>\n",
       "      <td>NaN</td>\n",
       "      <td>gs://gcp-certification-chicago-taxi-demo/bq_tmp</td>\n",
       "      <td>gs://gcp-certification-chicago-taxi-demo/bq_tmp</td>\n",
       "      <td>gs://gcp-certification-chicago-taxi-demo/bq_tmp</td>\n",
       "      <td>gs://gcp-certification-chicago-taxi-demo/bq_tmp</td>\n",
       "      <td>gs://gcp-certification-chicago-taxi-demo/bq_tmp</td>\n",
       "      <td>...</td>\n",
       "      <td>gs://ml-workshop-chicago-taxi-demo/bq_tmp</td>\n",
       "      <td>gs://ml-workshop-chicago-taxi-demo/chicago-tax...</td>\n",
       "      <td>gs://ml-workshop-chicago-taxi-demo/bq_tmp</td>\n",
       "      <td>gs://ml-workshop-chicago-taxi-demo/bq_tmp</td>\n",
       "      <td>gs://ml-workshop-chicago-taxi-demo/bq_tmp</td>\n",
       "      <td>NaN</td>\n",
       "      <td>gs://ml-workshop-chicago-taxi-demo/chicago-tax...</td>\n",
       "      <td>gs://ml-workshop-chicago-taxi-demo/bq_tmp</td>\n",
       "      <td>gs://ml-workshop-chicago-taxi-demo/chicago-tax...</td>\n",
       "      <td>gs://ml-workshop-chicago-taxi-demo/bq_tmp</td>\n",
       "    </tr>\n",
       "    <tr>\n",
       "      <th>param.raw_data_query</th>\n",
       "      <td>NaN</td>\n",
       "      <td>\\n    SELECT \\n        IF(trip_month IS NULL, ...</td>\n",
       "      <td>NaN</td>\n",
       "      <td>\\n    SELECT \\n        IF(trip_month IS NULL, ...</td>\n",
       "      <td>NaN</td>\n",
       "      <td>\\n    SELECT \\n        IF(trip_month IS NULL, ...</td>\n",
       "      <td>\\n    SELECT \\n        IF(trip_month IS NULL, ...</td>\n",
       "      <td>\\n    SELECT \\n        IF(trip_month IS NULL, ...</td>\n",
       "      <td>\\n    SELECT \\n        IF(trip_month IS NULL, ...</td>\n",
       "      <td>\\n    SELECT \\n        IF(trip_month IS NULL, ...</td>\n",
       "      <td>...</td>\n",
       "      <td>\\n    SELECT \\n        IF(trip_month IS NULL, ...</td>\n",
       "      <td>\\n    SELECT \\n        IF(trip_month IS NULL, ...</td>\n",
       "      <td>\\n    SELECT \\n        IF(trip_month IS NULL, ...</td>\n",
       "      <td>\\n    SELECT \\n        IF(trip_month IS NULL, ...</td>\n",
       "      <td>\\n    SELECT \\n        IF(trip_month IS NULL, ...</td>\n",
       "      <td>NaN</td>\n",
       "      <td>\\n    SELECT \\n        IF(trip_month IS NULL, ...</td>\n",
       "      <td>\\n    SELECT \\n        IF(trip_month IS NULL, ...</td>\n",
       "      <td>\\n    SELECT \\n        IF(trip_month IS NULL, ...</td>\n",
       "      <td>\\n    SELECT \\n        IF(trip_month IS NULL, ...</td>\n",
       "    </tr>\n",
       "    <tr>\n",
       "      <th>param.exported_data_prefix</th>\n",
       "      <td>NaN</td>\n",
       "      <td>gs://gcp-certification-chicago-taxi-demo/chica...</td>\n",
       "      <td>NaN</td>\n",
       "      <td>gs://gcp-certification-chicago-taxi-demo/chica...</td>\n",
       "      <td>NaN</td>\n",
       "      <td>gs://gcp-certification-chicago-taxi-demo/chica...</td>\n",
       "      <td>gs://gcp-certification-chicago-taxi-demo/chica...</td>\n",
       "      <td>gs://gcp-certification-chicago-taxi-demo/chica...</td>\n",
       "      <td>gs://gcp-certification-chicago-taxi-demo/chica...</td>\n",
       "      <td>gs://gcp-certification-chicago-taxi-demo/chica...</td>\n",
       "      <td>...</td>\n",
       "      <td>gs://ml-workshop-chicago-taxi-demo/chicago-tax...</td>\n",
       "      <td>gs://ml-workshop-chicago-taxi-demo/chicago-tax...</td>\n",
       "      <td>gs://ml-workshop-chicago-taxi-demo/chicago-tax...</td>\n",
       "      <td>gs://ml-workshop-chicago-taxi-demo/chicago-tax...</td>\n",
       "      <td>gs://ml-workshop-chicago-taxi-demo/chicago-tax...</td>\n",
       "      <td>NaN</td>\n",
       "      <td>gs://ml-workshop-chicago-taxi-demo/chicago-tax...</td>\n",
       "      <td>gs://ml-workshop-chicago-taxi-demo/chicago-tax...</td>\n",
       "      <td>gs://ml-workshop-chicago-taxi-demo/chicago-tax...</td>\n",
       "      <td>gs://ml-workshop-chicago-taxi-demo/chicago-tax...</td>\n",
       "    </tr>\n",
       "    <tr>\n",
       "      <th>param.write_raw_data</th>\n",
       "      <td>NaN</td>\n",
       "      <td>True</td>\n",
       "      <td>NaN</td>\n",
       "      <td>True</td>\n",
       "      <td>NaN</td>\n",
       "      <td>True</td>\n",
       "      <td>True</td>\n",
       "      <td>True</td>\n",
       "      <td>True</td>\n",
       "      <td>True</td>\n",
       "      <td>...</td>\n",
       "      <td>True</td>\n",
       "      <td>False</td>\n",
       "      <td>True</td>\n",
       "      <td>True</td>\n",
       "      <td>True</td>\n",
       "      <td>NaN</td>\n",
       "      <td>False</td>\n",
       "      <td>True</td>\n",
       "      <td>False</td>\n",
       "      <td>True</td>\n",
       "    </tr>\n",
       "    <tr>\n",
       "      <th>param.runner</th>\n",
       "      <td>NaN</td>\n",
       "      <td>DirectRunner</td>\n",
       "      <td>NaN</td>\n",
       "      <td>DirectRunner</td>\n",
       "      <td>NaN</td>\n",
       "      <td>DirectRunner</td>\n",
       "      <td>DirectRunner</td>\n",
       "      <td>DirectRunner</td>\n",
       "      <td>DirectRunner</td>\n",
       "      <td>DirectRunner</td>\n",
       "      <td>...</td>\n",
       "      <td>DirectRunner</td>\n",
       "      <td>DataflowRunner</td>\n",
       "      <td>DirectRunner</td>\n",
       "      <td>DirectRunner</td>\n",
       "      <td>DirectRunner</td>\n",
       "      <td>NaN</td>\n",
       "      <td>DataflowRunner</td>\n",
       "      <td>DirectRunner</td>\n",
       "      <td>DataflowRunner</td>\n",
       "      <td>DirectRunner</td>\n",
       "    </tr>\n",
       "    <tr>\n",
       "      <th>param.setup_file</th>\n",
       "      <td>NaN</td>\n",
       "      <td>NaN</td>\n",
       "      <td>NaN</td>\n",
       "      <td>NaN</td>\n",
       "      <td>NaN</td>\n",
       "      <td>NaN</td>\n",
       "      <td>NaN</td>\n",
       "      <td>NaN</td>\n",
       "      <td>NaN</td>\n",
       "      <td>NaN</td>\n",
       "      <td>...</td>\n",
       "      <td>NaN</td>\n",
       "      <td>./setup.py</td>\n",
       "      <td>NaN</td>\n",
       "      <td>NaN</td>\n",
       "      <td>NaN</td>\n",
       "      <td>NaN</td>\n",
       "      <td>./setup.py</td>\n",
       "      <td>NaN</td>\n",
       "      <td>./setup.py</td>\n",
       "      <td>NaN</td>\n",
       "    </tr>\n",
       "    <tr>\n",
       "      <th>param.no_use_public_ips</th>\n",
       "      <td>NaN</td>\n",
       "      <td>NaN</td>\n",
       "      <td>NaN</td>\n",
       "      <td>NaN</td>\n",
       "      <td>NaN</td>\n",
       "      <td>NaN</td>\n",
       "      <td>NaN</td>\n",
       "      <td>NaN</td>\n",
       "      <td>NaN</td>\n",
       "      <td>NaN</td>\n",
       "      <td>...</td>\n",
       "      <td>NaN</td>\n",
       "      <td>NaN</td>\n",
       "      <td>NaN</td>\n",
       "      <td>NaN</td>\n",
       "      <td>NaN</td>\n",
       "      <td>NaN</td>\n",
       "      <td>NaN</td>\n",
       "      <td>NaN</td>\n",
       "      <td>NaN</td>\n",
       "      <td>NaN</td>\n",
       "    </tr>\n",
       "    <tr>\n",
       "      <th>param.job_name</th>\n",
       "      <td>NaN</td>\n",
       "      <td>NaN</td>\n",
       "      <td>NaN</td>\n",
       "      <td>NaN</td>\n",
       "      <td>NaN</td>\n",
       "      <td>NaN</td>\n",
       "      <td>NaN</td>\n",
       "      <td>NaN</td>\n",
       "      <td>NaN</td>\n",
       "      <td>NaN</td>\n",
       "      <td>...</td>\n",
       "      <td>NaN</td>\n",
       "      <td>etl-chicago-taxi-tips-classifier-v01-run-gcp-2...</td>\n",
       "      <td>NaN</td>\n",
       "      <td>NaN</td>\n",
       "      <td>NaN</td>\n",
       "      <td>NaN</td>\n",
       "      <td>etl-chicago-taxi-tips-classifier-v01-run-gcp-2...</td>\n",
       "      <td>NaN</td>\n",
       "      <td>etl-chicago-taxi-tips-classifier-v01-run-gcp-2...</td>\n",
       "      <td>NaN</td>\n",
       "    </tr>\n",
       "    <tr>\n",
       "      <th>param.network</th>\n",
       "      <td>NaN</td>\n",
       "      <td>NaN</td>\n",
       "      <td>NaN</td>\n",
       "      <td>NaN</td>\n",
       "      <td>NaN</td>\n",
       "      <td>NaN</td>\n",
       "      <td>NaN</td>\n",
       "      <td>NaN</td>\n",
       "      <td>NaN</td>\n",
       "      <td>NaN</td>\n",
       "      <td>...</td>\n",
       "      <td>NaN</td>\n",
       "      <td>NaN</td>\n",
       "      <td>NaN</td>\n",
       "      <td>NaN</td>\n",
       "      <td>NaN</td>\n",
       "      <td>NaN</td>\n",
       "      <td>NaN</td>\n",
       "      <td>NaN</td>\n",
       "      <td>NaN</td>\n",
       "      <td>NaN</td>\n",
       "    </tr>\n",
       "    <tr>\n",
       "      <th>param.subnetwork</th>\n",
       "      <td>NaN</td>\n",
       "      <td>NaN</td>\n",
       "      <td>NaN</td>\n",
       "      <td>NaN</td>\n",
       "      <td>NaN</td>\n",
       "      <td>NaN</td>\n",
       "      <td>NaN</td>\n",
       "      <td>NaN</td>\n",
       "      <td>NaN</td>\n",
       "      <td>NaN</td>\n",
       "      <td>...</td>\n",
       "      <td>NaN</td>\n",
       "      <td>NaN</td>\n",
       "      <td>NaN</td>\n",
       "      <td>NaN</td>\n",
       "      <td>NaN</td>\n",
       "      <td>NaN</td>\n",
       "      <td>NaN</td>\n",
       "      <td>NaN</td>\n",
       "      <td>NaN</td>\n",
       "      <td>NaN</td>\n",
       "    </tr>\n",
       "  </tbody>\n",
       "</table>\n",
       "<p>31 rows × 84 columns</p>\n",
       "</div>"
      ],
      "text/plain": [
       "                                                                              0   \\\n",
       "experiment_name                                 chicago-taxi-tips-classifier-v01   \n",
       "run_name                                                  run-gcp-20220910032914   \n",
       "param.learning_rate                                                        0.001   \n",
       "param.eval_data_dir            gs://gcp-certification-chicago-taxi-demo/chica...   \n",
       "param.batch_size                                                           512.0   \n",
       "param.tft_output_dir           gs://gcp-certification-chicago-taxi-demo/chica...   \n",
       "param.project                                                            mwpmltr   \n",
       "param.region                                                         us-central1   \n",
       "param.num_epochs                                                             2.0   \n",
       "param.staging_bucket                         gcp-certification-chicago-taxi-demo   \n",
       "param.model_dir                gs://gcp-certification-chicago-taxi-demo/chica...   \n",
       "param.train_data_dir           gs://gcp-certification-chicago-taxi-demo/chica...   \n",
       "param.experiment_name                           chicago-taxi-tips-classifier-v01   \n",
       "param.hidden_units                                                  [64.0, 32.0]   \n",
       "param.log_dir                  gs://gcp-certification-chicago-taxi-demo/chica...   \n",
       "param.run_name                                                              None   \n",
       "metric.val_loss                                                         0.520015   \n",
       "metric.val_accuracy                                                          1.0   \n",
       "param.temporary_dir                                                          NaN   \n",
       "param.transform_artifact_dir                                                 NaN   \n",
       "param.transformed_data_prefix                                                NaN   \n",
       "param.gcs_location                                                           NaN   \n",
       "param.raw_data_query                                                         NaN   \n",
       "param.exported_data_prefix                                                   NaN   \n",
       "param.write_raw_data                                                         NaN   \n",
       "param.runner                                                                 NaN   \n",
       "param.setup_file                                                             NaN   \n",
       "param.no_use_public_ips                                                      NaN   \n",
       "param.job_name                                                               NaN   \n",
       "param.network                                                                NaN   \n",
       "param.subnetwork                                                             NaN   \n",
       "\n",
       "                                                                              1   \\\n",
       "experiment_name                                 chicago-taxi-tips-classifier-v01   \n",
       "run_name                                                run-local-20220910032212   \n",
       "param.learning_rate                                                        0.001   \n",
       "param.eval_data_dir            gs://gcp-certification-chicago-taxi-demo/chica...   \n",
       "param.batch_size                                                           512.0   \n",
       "param.tft_output_dir           gs://gcp-certification-chicago-taxi-demo/chica...   \n",
       "param.project                                                            mwpmltr   \n",
       "param.region                                                         us-central1   \n",
       "param.num_epochs                                                             3.0   \n",
       "param.staging_bucket                         gcp-certification-chicago-taxi-demo   \n",
       "param.model_dir                gs://gcp-certification-chicago-taxi-demo/chica...   \n",
       "param.train_data_dir           gs://gcp-certification-chicago-taxi-demo/chica...   \n",
       "param.experiment_name                           chicago-taxi-tips-classifier-v01   \n",
       "param.hidden_units                                                  [32.0, 32.0]   \n",
       "param.log_dir                  gs://gcp-certification-chicago-taxi-demo/chica...   \n",
       "param.run_name                                          run-local-20220910032212   \n",
       "metric.val_loss                                                         0.425412   \n",
       "metric.val_accuracy                                                          1.0   \n",
       "param.temporary_dir            gs://gcp-certification-chicago-taxi-demo/chica...   \n",
       "param.transform_artifact_dir   gs://gcp-certification-chicago-taxi-demo/chica...   \n",
       "param.transformed_data_prefix  gs://gcp-certification-chicago-taxi-demo/chica...   \n",
       "param.gcs_location               gs://gcp-certification-chicago-taxi-demo/bq_tmp   \n",
       "param.raw_data_query           \\n    SELECT \\n        IF(trip_month IS NULL, ...   \n",
       "param.exported_data_prefix     gs://gcp-certification-chicago-taxi-demo/chica...   \n",
       "param.write_raw_data                                                        True   \n",
       "param.runner                                                        DirectRunner   \n",
       "param.setup_file                                                             NaN   \n",
       "param.no_use_public_ips                                                      NaN   \n",
       "param.job_name                                                               NaN   \n",
       "param.network                                                                NaN   \n",
       "param.subnetwork                                                             NaN   \n",
       "\n",
       "                                                                              2   \\\n",
       "experiment_name                                 chicago-taxi-tips-classifier-v01   \n",
       "run_name                                                  run-gcp-20220910031232   \n",
       "param.learning_rate                                                        0.001   \n",
       "param.eval_data_dir            gs://gcp-certification-chicago-taxi-demo/chica...   \n",
       "param.batch_size                                                           512.0   \n",
       "param.tft_output_dir           gs://gcp-certification-chicago-taxi-demo/chica...   \n",
       "param.project                                                            mwpmltr   \n",
       "param.region                                                         us-central1   \n",
       "param.num_epochs                                                             2.0   \n",
       "param.staging_bucket                         gcp-certification-chicago-taxi-demo   \n",
       "param.model_dir                gs://gcp-certification-chicago-taxi-demo/chica...   \n",
       "param.train_data_dir           gs://gcp-certification-chicago-taxi-demo/chica...   \n",
       "param.experiment_name                           chicago-taxi-tips-classifier-v01   \n",
       "param.hidden_units                                                  [64.0, 32.0]   \n",
       "param.log_dir                  gs://gcp-certification-chicago-taxi-demo/chica...   \n",
       "param.run_name                                                              None   \n",
       "metric.val_loss                                                         0.423835   \n",
       "metric.val_accuracy                                                          1.0   \n",
       "param.temporary_dir                                                          NaN   \n",
       "param.transform_artifact_dir                                                 NaN   \n",
       "param.transformed_data_prefix                                                NaN   \n",
       "param.gcs_location                                                           NaN   \n",
       "param.raw_data_query                                                         NaN   \n",
       "param.exported_data_prefix                                                   NaN   \n",
       "param.write_raw_data                                                         NaN   \n",
       "param.runner                                                                 NaN   \n",
       "param.setup_file                                                             NaN   \n",
       "param.no_use_public_ips                                                      NaN   \n",
       "param.job_name                                                               NaN   \n",
       "param.network                                                                NaN   \n",
       "param.subnetwork                                                             NaN   \n",
       "\n",
       "                                                                              3   \\\n",
       "experiment_name                                 chicago-taxi-tips-classifier-v01   \n",
       "run_name                                                run-local-20220910030531   \n",
       "param.learning_rate                                                        0.001   \n",
       "param.eval_data_dir            gs://gcp-certification-chicago-taxi-demo/chica...   \n",
       "param.batch_size                                                           512.0   \n",
       "param.tft_output_dir           gs://gcp-certification-chicago-taxi-demo/chica...   \n",
       "param.project                                                            mwpmltr   \n",
       "param.region                                                         us-central1   \n",
       "param.num_epochs                                                             3.0   \n",
       "param.staging_bucket                         gcp-certification-chicago-taxi-demo   \n",
       "param.model_dir                gs://gcp-certification-chicago-taxi-demo/chica...   \n",
       "param.train_data_dir           gs://gcp-certification-chicago-taxi-demo/chica...   \n",
       "param.experiment_name                           chicago-taxi-tips-classifier-v01   \n",
       "param.hidden_units                                                  [32.0, 32.0]   \n",
       "param.log_dir                  gs://gcp-certification-chicago-taxi-demo/chica...   \n",
       "param.run_name                                          run-local-20220910030531   \n",
       "metric.val_loss                                                         0.476993   \n",
       "metric.val_accuracy                                                          1.0   \n",
       "param.temporary_dir            gs://gcp-certification-chicago-taxi-demo/chica...   \n",
       "param.transform_artifact_dir   gs://gcp-certification-chicago-taxi-demo/chica...   \n",
       "param.transformed_data_prefix  gs://gcp-certification-chicago-taxi-demo/chica...   \n",
       "param.gcs_location               gs://gcp-certification-chicago-taxi-demo/bq_tmp   \n",
       "param.raw_data_query           \\n    SELECT \\n        IF(trip_month IS NULL, ...   \n",
       "param.exported_data_prefix     gs://gcp-certification-chicago-taxi-demo/chica...   \n",
       "param.write_raw_data                                                        True   \n",
       "param.runner                                                        DirectRunner   \n",
       "param.setup_file                                                             NaN   \n",
       "param.no_use_public_ips                                                      NaN   \n",
       "param.job_name                                                               NaN   \n",
       "param.network                                                                NaN   \n",
       "param.subnetwork                                                             NaN   \n",
       "\n",
       "                                                                              4   \\\n",
       "experiment_name                                 chicago-taxi-tips-classifier-v01   \n",
       "run_name                                                  run-gcp-20220910030000   \n",
       "param.learning_rate                                                        0.001   \n",
       "param.eval_data_dir            gs://gcp-certification-chicago-taxi-demo/chica...   \n",
       "param.batch_size                                                           512.0   \n",
       "param.tft_output_dir           gs://gcp-certification-chicago-taxi-demo/chica...   \n",
       "param.project                                                            mwpmltr   \n",
       "param.region                                                         us-central1   \n",
       "param.num_epochs                                                             2.0   \n",
       "param.staging_bucket                         gcp-certification-chicago-taxi-demo   \n",
       "param.model_dir                gs://gcp-certification-chicago-taxi-demo/chica...   \n",
       "param.train_data_dir           gs://gcp-certification-chicago-taxi-demo/chica...   \n",
       "param.experiment_name                           chicago-taxi-tips-classifier-v01   \n",
       "param.hidden_units                                                  [64.0, 32.0]   \n",
       "param.log_dir                  gs://gcp-certification-chicago-taxi-demo/chica...   \n",
       "param.run_name                                                              None   \n",
       "metric.val_loss                                                         0.318549   \n",
       "metric.val_accuracy                                                          1.0   \n",
       "param.temporary_dir                                                          NaN   \n",
       "param.transform_artifact_dir                                                 NaN   \n",
       "param.transformed_data_prefix                                                NaN   \n",
       "param.gcs_location                                                           NaN   \n",
       "param.raw_data_query                                                         NaN   \n",
       "param.exported_data_prefix                                                   NaN   \n",
       "param.write_raw_data                                                         NaN   \n",
       "param.runner                                                                 NaN   \n",
       "param.setup_file                                                             NaN   \n",
       "param.no_use_public_ips                                                      NaN   \n",
       "param.job_name                                                               NaN   \n",
       "param.network                                                                NaN   \n",
       "param.subnetwork                                                             NaN   \n",
       "\n",
       "                                                                              5   \\\n",
       "experiment_name                                 chicago-taxi-tips-classifier-v01   \n",
       "run_name                                                run-local-20220910012954   \n",
       "param.learning_rate                                                        0.001   \n",
       "param.eval_data_dir            gs://gcp-certification-chicago-taxi-demo/chica...   \n",
       "param.batch_size                                                           512.0   \n",
       "param.tft_output_dir           gs://gcp-certification-chicago-taxi-demo/chica...   \n",
       "param.project                                                            mwpmltr   \n",
       "param.region                                                         us-central1   \n",
       "param.num_epochs                                                             3.0   \n",
       "param.staging_bucket                         gcp-certification-chicago-taxi-demo   \n",
       "param.model_dir                gs://gcp-certification-chicago-taxi-demo/chica...   \n",
       "param.train_data_dir           gs://gcp-certification-chicago-taxi-demo/chica...   \n",
       "param.experiment_name                           chicago-taxi-tips-classifier-v01   \n",
       "param.hidden_units                                                  [32.0, 32.0]   \n",
       "param.log_dir                  gs://gcp-certification-chicago-taxi-demo/chica...   \n",
       "param.run_name                                          run-local-20220910012954   \n",
       "metric.val_loss                                                         0.347568   \n",
       "metric.val_accuracy                                                          1.0   \n",
       "param.temporary_dir            gs://gcp-certification-chicago-taxi-demo/chica...   \n",
       "param.transform_artifact_dir   gs://gcp-certification-chicago-taxi-demo/chica...   \n",
       "param.transformed_data_prefix  gs://gcp-certification-chicago-taxi-demo/chica...   \n",
       "param.gcs_location               gs://gcp-certification-chicago-taxi-demo/bq_tmp   \n",
       "param.raw_data_query           \\n    SELECT \\n        IF(trip_month IS NULL, ...   \n",
       "param.exported_data_prefix     gs://gcp-certification-chicago-taxi-demo/chica...   \n",
       "param.write_raw_data                                                        True   \n",
       "param.runner                                                        DirectRunner   \n",
       "param.setup_file                                                             NaN   \n",
       "param.no_use_public_ips                                                      NaN   \n",
       "param.job_name                                                               NaN   \n",
       "param.network                                                                NaN   \n",
       "param.subnetwork                                                             NaN   \n",
       "\n",
       "                                                                              6   \\\n",
       "experiment_name                                 chicago-taxi-tips-classifier-v01   \n",
       "run_name                                                run-local-20220909230509   \n",
       "param.learning_rate                                                        0.001   \n",
       "param.eval_data_dir            gs://gcp-certification-chicago-taxi-demo/chica...   \n",
       "param.batch_size                                                           512.0   \n",
       "param.tft_output_dir           gs://gcp-certification-chicago-taxi-demo/chica...   \n",
       "param.project                                                            mwpmltr   \n",
       "param.region                                                         us-central1   \n",
       "param.num_epochs                                                             3.0   \n",
       "param.staging_bucket                         gcp-certification-chicago-taxi-demo   \n",
       "param.model_dir                gs://gcp-certification-chicago-taxi-demo/chica...   \n",
       "param.train_data_dir           gs://gcp-certification-chicago-taxi-demo/chica...   \n",
       "param.experiment_name                           chicago-taxi-tips-classifier-v01   \n",
       "param.hidden_units                                                  [32.0, 32.0]   \n",
       "param.log_dir                  gs://gcp-certification-chicago-taxi-demo/chica...   \n",
       "param.run_name                                          run-local-20220909230509   \n",
       "metric.val_loss                                                         0.355062   \n",
       "metric.val_accuracy                                                          1.0   \n",
       "param.temporary_dir            gs://gcp-certification-chicago-taxi-demo/chica...   \n",
       "param.transform_artifact_dir   gs://gcp-certification-chicago-taxi-demo/chica...   \n",
       "param.transformed_data_prefix  gs://gcp-certification-chicago-taxi-demo/chica...   \n",
       "param.gcs_location               gs://gcp-certification-chicago-taxi-demo/bq_tmp   \n",
       "param.raw_data_query           \\n    SELECT \\n        IF(trip_month IS NULL, ...   \n",
       "param.exported_data_prefix     gs://gcp-certification-chicago-taxi-demo/chica...   \n",
       "param.write_raw_data                                                        True   \n",
       "param.runner                                                        DirectRunner   \n",
       "param.setup_file                                                             NaN   \n",
       "param.no_use_public_ips                                                      NaN   \n",
       "param.job_name                                                               NaN   \n",
       "param.network                                                                NaN   \n",
       "param.subnetwork                                                             NaN   \n",
       "\n",
       "                                                                              7   \\\n",
       "experiment_name                                 chicago-taxi-tips-classifier-v01   \n",
       "run_name                                                run-local-20220909222408   \n",
       "param.learning_rate                                                        0.001   \n",
       "param.eval_data_dir            gs://gcp-certification-chicago-taxi-demo/chica...   \n",
       "param.batch_size                                                           512.0   \n",
       "param.tft_output_dir           gs://gcp-certification-chicago-taxi-demo/chica...   \n",
       "param.project                                                            mwpmltr   \n",
       "param.region                                                         us-central1   \n",
       "param.num_epochs                                                             3.0   \n",
       "param.staging_bucket                         gcp-certification-chicago-taxi-demo   \n",
       "param.model_dir                gs://gcp-certification-chicago-taxi-demo/chica...   \n",
       "param.train_data_dir           gs://gcp-certification-chicago-taxi-demo/chica...   \n",
       "param.experiment_name                           chicago-taxi-tips-classifier-v01   \n",
       "param.hidden_units                                                  [32.0, 32.0]   \n",
       "param.log_dir                  gs://gcp-certification-chicago-taxi-demo/chica...   \n",
       "param.run_name                                          run-local-20220909222408   \n",
       "metric.val_loss                                                         0.368179   \n",
       "metric.val_accuracy                                                          1.0   \n",
       "param.temporary_dir            gs://gcp-certification-chicago-taxi-demo/chica...   \n",
       "param.transform_artifact_dir   gs://gcp-certification-chicago-taxi-demo/chica...   \n",
       "param.transformed_data_prefix  gs://gcp-certification-chicago-taxi-demo/chica...   \n",
       "param.gcs_location               gs://gcp-certification-chicago-taxi-demo/bq_tmp   \n",
       "param.raw_data_query           \\n    SELECT \\n        IF(trip_month IS NULL, ...   \n",
       "param.exported_data_prefix     gs://gcp-certification-chicago-taxi-demo/chica...   \n",
       "param.write_raw_data                                                        True   \n",
       "param.runner                                                        DirectRunner   \n",
       "param.setup_file                                                             NaN   \n",
       "param.no_use_public_ips                                                      NaN   \n",
       "param.job_name                                                               NaN   \n",
       "param.network                                                                NaN   \n",
       "param.subnetwork                                                             NaN   \n",
       "\n",
       "                                                                              8   \\\n",
       "experiment_name                                 chicago-taxi-tips-classifier-v01   \n",
       "run_name                                                run-local-20220909215535   \n",
       "param.learning_rate                                                        0.001   \n",
       "param.eval_data_dir            gs://gcp-certification-chicago-taxi-demo/chica...   \n",
       "param.batch_size                                                           512.0   \n",
       "param.tft_output_dir           gs://gcp-certification-chicago-taxi-demo/chica...   \n",
       "param.project                                                            mwpmltr   \n",
       "param.region                                                         us-central1   \n",
       "param.num_epochs                                                             3.0   \n",
       "param.staging_bucket                         gcp-certification-chicago-taxi-demo   \n",
       "param.model_dir                gs://gcp-certification-chicago-taxi-demo/chica...   \n",
       "param.train_data_dir           gs://gcp-certification-chicago-taxi-demo/chica...   \n",
       "param.experiment_name                           chicago-taxi-tips-classifier-v01   \n",
       "param.hidden_units                                                  [32.0, 32.0]   \n",
       "param.log_dir                  gs://gcp-certification-chicago-taxi-demo/chica...   \n",
       "param.run_name                                          run-local-20220909215535   \n",
       "metric.val_loss                                                         0.296807   \n",
       "metric.val_accuracy                                                          1.0   \n",
       "param.temporary_dir            gs://gcp-certification-chicago-taxi-demo/chica...   \n",
       "param.transform_artifact_dir   gs://gcp-certification-chicago-taxi-demo/chica...   \n",
       "param.transformed_data_prefix  gs://gcp-certification-chicago-taxi-demo/chica...   \n",
       "param.gcs_location               gs://gcp-certification-chicago-taxi-demo/bq_tmp   \n",
       "param.raw_data_query           \\n    SELECT \\n        IF(trip_month IS NULL, ...   \n",
       "param.exported_data_prefix     gs://gcp-certification-chicago-taxi-demo/chica...   \n",
       "param.write_raw_data                                                        True   \n",
       "param.runner                                                        DirectRunner   \n",
       "param.setup_file                                                             NaN   \n",
       "param.no_use_public_ips                                                      NaN   \n",
       "param.job_name                                                               NaN   \n",
       "param.network                                                                NaN   \n",
       "param.subnetwork                                                             NaN   \n",
       "\n",
       "                                                                              9   \\\n",
       "experiment_name                                 chicago-taxi-tips-classifier-v01   \n",
       "run_name                                                run-local-20220909175528   \n",
       "param.learning_rate                                                        0.001   \n",
       "param.eval_data_dir            gs://gcp-certification-chicago-taxi-demo/chica...   \n",
       "param.batch_size                                                           512.0   \n",
       "param.tft_output_dir           gs://gcp-certification-chicago-taxi-demo/chica...   \n",
       "param.project                                                            mwpmltr   \n",
       "param.region                                                         us-central1   \n",
       "param.num_epochs                                                             3.0   \n",
       "param.staging_bucket                         gcp-certification-chicago-taxi-demo   \n",
       "param.model_dir                gs://gcp-certification-chicago-taxi-demo/chica...   \n",
       "param.train_data_dir           gs://gcp-certification-chicago-taxi-demo/chica...   \n",
       "param.experiment_name                           chicago-taxi-tips-classifier-v01   \n",
       "param.hidden_units                                                  [32.0, 32.0]   \n",
       "param.log_dir                  gs://gcp-certification-chicago-taxi-demo/chica...   \n",
       "param.run_name                                          run-local-20220909175528   \n",
       "metric.val_loss                                                         0.422544   \n",
       "metric.val_accuracy                                                          1.0   \n",
       "param.temporary_dir            gs://gcp-certification-chicago-taxi-demo/chica...   \n",
       "param.transform_artifact_dir   gs://gcp-certification-chicago-taxi-demo/chica...   \n",
       "param.transformed_data_prefix  gs://gcp-certification-chicago-taxi-demo/chica...   \n",
       "param.gcs_location               gs://gcp-certification-chicago-taxi-demo/bq_tmp   \n",
       "param.raw_data_query           \\n    SELECT \\n        IF(trip_month IS NULL, ...   \n",
       "param.exported_data_prefix     gs://gcp-certification-chicago-taxi-demo/chica...   \n",
       "param.write_raw_data                                                        True   \n",
       "param.runner                                                        DirectRunner   \n",
       "param.setup_file                                                             NaN   \n",
       "param.no_use_public_ips                                                      NaN   \n",
       "param.job_name                                                               NaN   \n",
       "param.network                                                                NaN   \n",
       "param.subnetwork                                                             NaN   \n",
       "\n",
       "                               ...  \\\n",
       "experiment_name                ...   \n",
       "run_name                       ...   \n",
       "param.learning_rate            ...   \n",
       "param.eval_data_dir            ...   \n",
       "param.batch_size               ...   \n",
       "param.tft_output_dir           ...   \n",
       "param.project                  ...   \n",
       "param.region                   ...   \n",
       "param.num_epochs               ...   \n",
       "param.staging_bucket           ...   \n",
       "param.model_dir                ...   \n",
       "param.train_data_dir           ...   \n",
       "param.experiment_name          ...   \n",
       "param.hidden_units             ...   \n",
       "param.log_dir                  ...   \n",
       "param.run_name                 ...   \n",
       "metric.val_loss                ...   \n",
       "metric.val_accuracy            ...   \n",
       "param.temporary_dir            ...   \n",
       "param.transform_artifact_dir   ...   \n",
       "param.transformed_data_prefix  ...   \n",
       "param.gcs_location             ...   \n",
       "param.raw_data_query           ...   \n",
       "param.exported_data_prefix     ...   \n",
       "param.write_raw_data           ...   \n",
       "param.runner                   ...   \n",
       "param.setup_file               ...   \n",
       "param.no_use_public_ips        ...   \n",
       "param.job_name                 ...   \n",
       "param.network                  ...   \n",
       "param.subnetwork               ...   \n",
       "\n",
       "                                                                              74  \\\n",
       "experiment_name                                 chicago-taxi-tips-classifier-v01   \n",
       "run_name                                                run-local-20220612193802   \n",
       "param.learning_rate                                                        0.001   \n",
       "param.eval_data_dir                                                          NaN   \n",
       "param.batch_size                                                           512.0   \n",
       "param.tft_output_dir                                                         NaN   \n",
       "param.project                                                            mwpmltr   \n",
       "param.region                                                                 NaN   \n",
       "param.num_epochs                                                             5.0   \n",
       "param.staging_bucket                                                         NaN   \n",
       "param.model_dir                                                              NaN   \n",
       "param.train_data_dir                                                         NaN   \n",
       "param.experiment_name                                                        NaN   \n",
       "param.hidden_units                                                  [64.0, 32.0]   \n",
       "param.log_dir                                                                NaN   \n",
       "param.run_name                                                               NaN   \n",
       "metric.val_loss                                                         0.326443   \n",
       "metric.val_accuracy                                                     0.889648   \n",
       "param.temporary_dir            gs://ml-workshop-chicago-taxi-demo/chicago-tax...   \n",
       "param.transform_artifact_dir   gs://ml-workshop-chicago-taxi-demo/chicago-tax...   \n",
       "param.transformed_data_prefix  gs://ml-workshop-chicago-taxi-demo/chicago-tax...   \n",
       "param.gcs_location                     gs://ml-workshop-chicago-taxi-demo/bq_tmp   \n",
       "param.raw_data_query           \\n    SELECT \\n        IF(trip_month IS NULL, ...   \n",
       "param.exported_data_prefix     gs://ml-workshop-chicago-taxi-demo/chicago-tax...   \n",
       "param.write_raw_data                                                        True   \n",
       "param.runner                                                        DirectRunner   \n",
       "param.setup_file                                                             NaN   \n",
       "param.no_use_public_ips                                                      NaN   \n",
       "param.job_name                                                               NaN   \n",
       "param.network                                                                NaN   \n",
       "param.subnetwork                                                             NaN   \n",
       "\n",
       "                                                                              75  \\\n",
       "experiment_name                                 chicago-taxi-tips-classifier-v01   \n",
       "run_name                                                  run-gcp-20220611212947   \n",
       "param.learning_rate                                                        0.001   \n",
       "param.eval_data_dir            gs://ml-workshop-chicago-taxi-demo/chicago-tax...   \n",
       "param.batch_size                                                           512.0   \n",
       "param.tft_output_dir           gs://ml-workshop-chicago-taxi-demo/chicago-tax...   \n",
       "param.project                                                            mwpmltr   \n",
       "param.region                                                         us-central1   \n",
       "param.num_epochs                                                             3.0   \n",
       "param.staging_bucket                               ml-workshop-chicago-taxi-demo   \n",
       "param.model_dir                gs://ml-workshop-chicago-taxi-demo/chicago-tax...   \n",
       "param.train_data_dir           gs://ml-workshop-chicago-taxi-demo/chicago-tax...   \n",
       "param.experiment_name                           chicago-taxi-tips-classifier-v01   \n",
       "param.hidden_units                                                  [32.0, 32.0]   \n",
       "param.log_dir                  gs://ml-workshop-chicago-taxi-demo/chicago-tax...   \n",
       "param.run_name                                            run-gcp-20220611212947   \n",
       "metric.val_loss                                                              NaN   \n",
       "metric.val_accuracy                                                          NaN   \n",
       "param.temporary_dir            gs://ml-workshop-chicago-taxi-demo/chicago-tax...   \n",
       "param.transform_artifact_dir   gs://ml-workshop-chicago-taxi-demo/chicago-tax...   \n",
       "param.transformed_data_prefix  gs://ml-workshop-chicago-taxi-demo/chicago-tax...   \n",
       "param.gcs_location             gs://ml-workshop-chicago-taxi-demo/chicago-tax...   \n",
       "param.raw_data_query           \\n    SELECT \\n        IF(trip_month IS NULL, ...   \n",
       "param.exported_data_prefix     gs://ml-workshop-chicago-taxi-demo/chicago-tax...   \n",
       "param.write_raw_data                                                       False   \n",
       "param.runner                                                      DataflowRunner   \n",
       "param.setup_file                                                      ./setup.py   \n",
       "param.no_use_public_ips                                                      NaN   \n",
       "param.job_name                 etl-chicago-taxi-tips-classifier-v01-run-gcp-2...   \n",
       "param.network                                                                NaN   \n",
       "param.subnetwork                                                             NaN   \n",
       "\n",
       "                                                                              76  \\\n",
       "experiment_name                                 chicago-taxi-tips-classifier-v01   \n",
       "run_name                                                run-local-20220611212646   \n",
       "param.learning_rate                                                        0.001   \n",
       "param.eval_data_dir                                                          NaN   \n",
       "param.batch_size                                                           512.0   \n",
       "param.tft_output_dir                                                         NaN   \n",
       "param.project                                                            mwpmltr   \n",
       "param.region                                                                 NaN   \n",
       "param.num_epochs                                                             5.0   \n",
       "param.staging_bucket                                                         NaN   \n",
       "param.model_dir                                                              NaN   \n",
       "param.train_data_dir                                                         NaN   \n",
       "param.experiment_name                                                        NaN   \n",
       "param.hidden_units                                                  [64.0, 32.0]   \n",
       "param.log_dir                                                                NaN   \n",
       "param.run_name                                                               NaN   \n",
       "metric.val_loss                                                         0.299839   \n",
       "metric.val_accuracy                                                     0.890625   \n",
       "param.temporary_dir            gs://ml-workshop-chicago-taxi-demo/chicago-tax...   \n",
       "param.transform_artifact_dir   gs://ml-workshop-chicago-taxi-demo/chicago-tax...   \n",
       "param.transformed_data_prefix  gs://ml-workshop-chicago-taxi-demo/chicago-tax...   \n",
       "param.gcs_location                     gs://ml-workshop-chicago-taxi-demo/bq_tmp   \n",
       "param.raw_data_query           \\n    SELECT \\n        IF(trip_month IS NULL, ...   \n",
       "param.exported_data_prefix     gs://ml-workshop-chicago-taxi-demo/chicago-tax...   \n",
       "param.write_raw_data                                                        True   \n",
       "param.runner                                                        DirectRunner   \n",
       "param.setup_file                                                             NaN   \n",
       "param.no_use_public_ips                                                      NaN   \n",
       "param.job_name                                                               NaN   \n",
       "param.network                                                                NaN   \n",
       "param.subnetwork                                                             NaN   \n",
       "\n",
       "                                                                              77  \\\n",
       "experiment_name                                 chicago-taxi-tips-classifier-v01   \n",
       "run_name                                                run-local-20220611212015   \n",
       "param.learning_rate                                                        0.001   \n",
       "param.eval_data_dir                                                          NaN   \n",
       "param.batch_size                                                           512.0   \n",
       "param.tft_output_dir                                                         NaN   \n",
       "param.project                                                            mwpmltr   \n",
       "param.region                                                                 NaN   \n",
       "param.num_epochs                                                             5.0   \n",
       "param.staging_bucket                                                         NaN   \n",
       "param.model_dir                                                              NaN   \n",
       "param.train_data_dir                                                         NaN   \n",
       "param.experiment_name                                                        NaN   \n",
       "param.hidden_units                                                  [64.0, 32.0]   \n",
       "param.log_dir                                                                NaN   \n",
       "param.run_name                                                               NaN   \n",
       "metric.val_loss                                                         0.318655   \n",
       "metric.val_accuracy                                                     0.891602   \n",
       "param.temporary_dir            gs://ml-workshop-chicago-taxi-demo/chicago-tax...   \n",
       "param.transform_artifact_dir   gs://ml-workshop-chicago-taxi-demo/chicago-tax...   \n",
       "param.transformed_data_prefix  gs://ml-workshop-chicago-taxi-demo/chicago-tax...   \n",
       "param.gcs_location                     gs://ml-workshop-chicago-taxi-demo/bq_tmp   \n",
       "param.raw_data_query           \\n    SELECT \\n        IF(trip_month IS NULL, ...   \n",
       "param.exported_data_prefix     gs://ml-workshop-chicago-taxi-demo/chicago-tax...   \n",
       "param.write_raw_data                                                        True   \n",
       "param.runner                                                        DirectRunner   \n",
       "param.setup_file                                                             NaN   \n",
       "param.no_use_public_ips                                                      NaN   \n",
       "param.job_name                                                               NaN   \n",
       "param.network                                                                NaN   \n",
       "param.subnetwork                                                             NaN   \n",
       "\n",
       "                                                                              78  \\\n",
       "experiment_name                                 chicago-taxi-tips-classifier-v01   \n",
       "run_name                                                run-local-20220611203051   \n",
       "param.learning_rate                                                        0.001   \n",
       "param.eval_data_dir                                                          NaN   \n",
       "param.batch_size                                                           512.0   \n",
       "param.tft_output_dir                                                         NaN   \n",
       "param.project                                                            mwpmltr   \n",
       "param.region                                                                 NaN   \n",
       "param.num_epochs                                                             5.0   \n",
       "param.staging_bucket                                                         NaN   \n",
       "param.model_dir                                                              NaN   \n",
       "param.train_data_dir                                                         NaN   \n",
       "param.experiment_name                                                        NaN   \n",
       "param.hidden_units                                                  [64.0, 32.0]   \n",
       "param.log_dir                                                                NaN   \n",
       "param.run_name                                                               NaN   \n",
       "metric.val_loss                                                         0.292976   \n",
       "metric.val_accuracy                                                     0.888672   \n",
       "param.temporary_dir            gs://ml-workshop-chicago-taxi-demo/chicago-tax...   \n",
       "param.transform_artifact_dir   gs://ml-workshop-chicago-taxi-demo/chicago-tax...   \n",
       "param.transformed_data_prefix  gs://ml-workshop-chicago-taxi-demo/chicago-tax...   \n",
       "param.gcs_location                     gs://ml-workshop-chicago-taxi-demo/bq_tmp   \n",
       "param.raw_data_query           \\n    SELECT \\n        IF(trip_month IS NULL, ...   \n",
       "param.exported_data_prefix     gs://ml-workshop-chicago-taxi-demo/chicago-tax...   \n",
       "param.write_raw_data                                                        True   \n",
       "param.runner                                                        DirectRunner   \n",
       "param.setup_file                                                             NaN   \n",
       "param.no_use_public_ips                                                      NaN   \n",
       "param.job_name                                                               NaN   \n",
       "param.network                                                                NaN   \n",
       "param.subnetwork                                                             NaN   \n",
       "\n",
       "                                                                              79  \\\n",
       "experiment_name                                 chicago-taxi-tips-classifier-v01   \n",
       "run_name                                                  run-gcp-20220609223604   \n",
       "param.learning_rate                                                        0.001   \n",
       "param.eval_data_dir            gs://ml-workshop-chicago-taxi-demo/chicago-tax...   \n",
       "param.batch_size                                                           512.0   \n",
       "param.tft_output_dir           gs://ml-workshop-chicago-taxi-demo/chicago-tax...   \n",
       "param.project                                                            mwpmltr   \n",
       "param.region                                                         us-central1   \n",
       "param.num_epochs                                                            10.0   \n",
       "param.staging_bucket                               ml-workshop-chicago-taxi-demo   \n",
       "param.model_dir                gs://ml-workshop-chicago-taxi-demo/chicago-tax...   \n",
       "param.train_data_dir           gs://ml-workshop-chicago-taxi-demo/chicago-tax...   \n",
       "param.experiment_name                           chicago-taxi-tips-classifier-v01   \n",
       "param.hidden_units                                                  [64.0, 32.0]   \n",
       "param.log_dir                  gs://ml-workshop-chicago-taxi-demo/chicago-tax...   \n",
       "param.run_name                                                              None   \n",
       "metric.val_loss                                                              NaN   \n",
       "metric.val_accuracy                                                          NaN   \n",
       "param.temporary_dir                                                          NaN   \n",
       "param.transform_artifact_dir                                                 NaN   \n",
       "param.transformed_data_prefix                                                NaN   \n",
       "param.gcs_location                                                           NaN   \n",
       "param.raw_data_query                                                         NaN   \n",
       "param.exported_data_prefix                                                   NaN   \n",
       "param.write_raw_data                                                         NaN   \n",
       "param.runner                                                                 NaN   \n",
       "param.setup_file                                                             NaN   \n",
       "param.no_use_public_ips                                                      NaN   \n",
       "param.job_name                                                               NaN   \n",
       "param.network                                                                NaN   \n",
       "param.subnetwork                                                             NaN   \n",
       "\n",
       "                                                                              80  \\\n",
       "experiment_name                                 chicago-taxi-tips-classifier-v01   \n",
       "run_name                                                  run-gcp-20220609222555   \n",
       "param.learning_rate                                                          NaN   \n",
       "param.eval_data_dir                                                          NaN   \n",
       "param.batch_size                                                             NaN   \n",
       "param.tft_output_dir                                                         NaN   \n",
       "param.project                                                            mwpmltr   \n",
       "param.region                                                         us-central1   \n",
       "param.num_epochs                                                             NaN   \n",
       "param.staging_bucket                                                         NaN   \n",
       "param.model_dir                                                              NaN   \n",
       "param.train_data_dir                                                         NaN   \n",
       "param.experiment_name                                                        NaN   \n",
       "param.hidden_units                                                           NaN   \n",
       "param.log_dir                                                                NaN   \n",
       "param.run_name                                                               NaN   \n",
       "metric.val_loss                                                              NaN   \n",
       "metric.val_accuracy                                                          NaN   \n",
       "param.temporary_dir            gs://ml-workshop-chicago-taxi-demo/chicago-tax...   \n",
       "param.transform_artifact_dir   gs://ml-workshop-chicago-taxi-demo/chicago-tax...   \n",
       "param.transformed_data_prefix  gs://ml-workshop-chicago-taxi-demo/chicago-tax...   \n",
       "param.gcs_location             gs://ml-workshop-chicago-taxi-demo/chicago-tax...   \n",
       "param.raw_data_query           \\n    SELECT \\n        IF(trip_month IS NULL, ...   \n",
       "param.exported_data_prefix     gs://ml-workshop-chicago-taxi-demo/chicago-tax...   \n",
       "param.write_raw_data                                                       False   \n",
       "param.runner                                                      DataflowRunner   \n",
       "param.setup_file                                                      ./setup.py   \n",
       "param.no_use_public_ips                                                      NaN   \n",
       "param.job_name                 etl-chicago-taxi-tips-classifier-v01-run-gcp-2...   \n",
       "param.network                                                                NaN   \n",
       "param.subnetwork                                                             NaN   \n",
       "\n",
       "                                                                              81  \\\n",
       "experiment_name                                 chicago-taxi-tips-classifier-v01   \n",
       "run_name                                                run-local-20220609222100   \n",
       "param.learning_rate                                                        0.001   \n",
       "param.eval_data_dir                                                          NaN   \n",
       "param.batch_size                                                           512.0   \n",
       "param.tft_output_dir                                                         NaN   \n",
       "param.project                                                            mwpmltr   \n",
       "param.region                                                                 NaN   \n",
       "param.num_epochs                                                             5.0   \n",
       "param.staging_bucket                                                         NaN   \n",
       "param.model_dir                                                              NaN   \n",
       "param.train_data_dir                                                         NaN   \n",
       "param.experiment_name                                                        NaN   \n",
       "param.hidden_units                                                  [64.0, 32.0]   \n",
       "param.log_dir                                                                NaN   \n",
       "param.run_name                                                               NaN   \n",
       "metric.val_loss                                                         0.294624   \n",
       "metric.val_accuracy                                                     0.890625   \n",
       "param.temporary_dir            gs://ml-workshop-chicago-taxi-demo/chicago-tax...   \n",
       "param.transform_artifact_dir   gs://ml-workshop-chicago-taxi-demo/chicago-tax...   \n",
       "param.transformed_data_prefix  gs://ml-workshop-chicago-taxi-demo/chicago-tax...   \n",
       "param.gcs_location                     gs://ml-workshop-chicago-taxi-demo/bq_tmp   \n",
       "param.raw_data_query           \\n    SELECT \\n        IF(trip_month IS NULL, ...   \n",
       "param.exported_data_prefix     gs://ml-workshop-chicago-taxi-demo/chicago-tax...   \n",
       "param.write_raw_data                                                        True   \n",
       "param.runner                                                        DirectRunner   \n",
       "param.setup_file                                                             NaN   \n",
       "param.no_use_public_ips                                                      NaN   \n",
       "param.job_name                                                               NaN   \n",
       "param.network                                                                NaN   \n",
       "param.subnetwork                                                             NaN   \n",
       "\n",
       "                                                                              82  \\\n",
       "experiment_name                                 chicago-taxi-tips-classifier-v01   \n",
       "run_name                                                  run-gcp-20220609192612   \n",
       "param.learning_rate                                                          NaN   \n",
       "param.eval_data_dir                                                          NaN   \n",
       "param.batch_size                                                             NaN   \n",
       "param.tft_output_dir                                                         NaN   \n",
       "param.project                                                            mwpmltr   \n",
       "param.region                                                         us-central1   \n",
       "param.num_epochs                                                             NaN   \n",
       "param.staging_bucket                                                         NaN   \n",
       "param.model_dir                                                              NaN   \n",
       "param.train_data_dir                                                         NaN   \n",
       "param.experiment_name                                                        NaN   \n",
       "param.hidden_units                                                           NaN   \n",
       "param.log_dir                                                                NaN   \n",
       "param.run_name                                                               NaN   \n",
       "metric.val_loss                                                              NaN   \n",
       "metric.val_accuracy                                                          NaN   \n",
       "param.temporary_dir            gs://ml-workshop-chicago-taxi-demo/chicago-tax...   \n",
       "param.transform_artifact_dir   gs://ml-workshop-chicago-taxi-demo/chicago-tax...   \n",
       "param.transformed_data_prefix  gs://ml-workshop-chicago-taxi-demo/chicago-tax...   \n",
       "param.gcs_location             gs://ml-workshop-chicago-taxi-demo/chicago-tax...   \n",
       "param.raw_data_query           \\n    SELECT \\n        IF(trip_month IS NULL, ...   \n",
       "param.exported_data_prefix     gs://ml-workshop-chicago-taxi-demo/chicago-tax...   \n",
       "param.write_raw_data                                                       False   \n",
       "param.runner                                                      DataflowRunner   \n",
       "param.setup_file                                                      ./setup.py   \n",
       "param.no_use_public_ips                                                      NaN   \n",
       "param.job_name                 etl-chicago-taxi-tips-classifier-v01-run-gcp-2...   \n",
       "param.network                                                                NaN   \n",
       "param.subnetwork                                                             NaN   \n",
       "\n",
       "                                                                              83  \n",
       "experiment_name                                 chicago-taxi-tips-classifier-v01  \n",
       "run_name                                                run-local-20220609180402  \n",
       "param.learning_rate                                                        0.001  \n",
       "param.eval_data_dir                                                          NaN  \n",
       "param.batch_size                                                           512.0  \n",
       "param.tft_output_dir                                                         NaN  \n",
       "param.project                                                            mwpmltr  \n",
       "param.region                                                                 NaN  \n",
       "param.num_epochs                                                             5.0  \n",
       "param.staging_bucket                                                         NaN  \n",
       "param.model_dir                                                              NaN  \n",
       "param.train_data_dir                                                         NaN  \n",
       "param.experiment_name                                                        NaN  \n",
       "param.hidden_units                                                  [64.0, 32.0]  \n",
       "param.log_dir                                                                NaN  \n",
       "param.run_name                                                               NaN  \n",
       "metric.val_loss                                                         0.309407  \n",
       "metric.val_accuracy                                                     0.889648  \n",
       "param.temporary_dir            gs://ml-workshop-chicago-taxi-demo/chicago-tax...  \n",
       "param.transform_artifact_dir   gs://ml-workshop-chicago-taxi-demo/chicago-tax...  \n",
       "param.transformed_data_prefix  gs://ml-workshop-chicago-taxi-demo/chicago-tax...  \n",
       "param.gcs_location                     gs://ml-workshop-chicago-taxi-demo/bq_tmp  \n",
       "param.raw_data_query           \\n    SELECT \\n        IF(trip_month IS NULL, ...  \n",
       "param.exported_data_prefix     gs://ml-workshop-chicago-taxi-demo/chicago-tax...  \n",
       "param.write_raw_data                                                        True  \n",
       "param.runner                                                        DirectRunner  \n",
       "param.setup_file                                                             NaN  \n",
       "param.no_use_public_ips                                                      NaN  \n",
       "param.job_name                                                               NaN  \n",
       "param.network                                                                NaN  \n",
       "param.subnetwork                                                             NaN  \n",
       "\n",
       "[31 rows x 84 columns]"
      ]
     },
     "execution_count": 57,
     "metadata": {},
     "output_type": "execute_result"
    }
   ],
   "source": [
    "experiment_df = vertex_ai.get_experiment_df()\n",
    "experiment_df = experiment_df[experiment_df.experiment_name == EXPERIMENT_NAME]\n",
    "experiment_df.T"
   ]
  },
  {
   "cell_type": "code",
   "execution_count": 58,
   "id": "367183aa",
   "metadata": {},
   "outputs": [
    {
     "name": "stdout",
     "output_type": "stream",
     "text": [
      "Vertex AI Experiments:\n",
      "https://console.cloud.google.com/vertex-ai/locationsus-central1/experiments/chicago-taxi-tips-classifier-v01/metrics?project=mwpmltr\n"
     ]
    }
   ],
   "source": [
    "print(\"Vertex AI Experiments:\")\n",
    "print(\n",
    "    f\"https://console.cloud.google.com/vertex-ai/locations{REGION}/experiments/{EXPERIMENT_NAME}/metrics?project={PROJECT}\"\n",
    ")"
   ]
  },
  {
   "cell_type": "markdown",
   "id": "c96618f6",
   "metadata": {},
   "source": [
    "## 7. Submit a Hyperparameter Tuning Job to Vertex AI\n",
    "\n",
    "For more information about configuring a hyperparameter study, refer to [Vertex AI Hyperparameter job configuration](https://cloud.google.com/vertex-ai/docs/training/using-hyperparameter-tuning)."
   ]
  },
  {
   "cell_type": "markdown",
   "id": "bc1b87cd",
   "metadata": {},
   "source": [
    "### Configure a hyperparameter job"
   ]
  },
  {
   "cell_type": "code",
   "execution_count": 59,
   "id": "66ffa249",
   "metadata": {},
   "outputs": [],
   "source": [
    "metric_spec = {\n",
    "    'ACCURACY': 'maximize'\n",
    "}\n",
    "\n",
    "parameter_spec = {\n",
    "    'learning-rate': hp_tuning.DoubleParameterSpec(min=0.0001, max=0.01, scale='log'),\n",
    "    'hidden-units': hp_tuning.CategoricalParameterSpec(values=[\"32,32\", \"64,64\", \"128,128\"])\n",
    "}"
   ]
  },
  {
   "cell_type": "code",
   "execution_count": 60,
   "id": "d2454dc5",
   "metadata": {},
   "outputs": [],
   "source": [
    "tuning_job_display_name = f\"hpt_{TRAINER_PACKAGE_NAME}_{run_id}\"\n",
    "\n",
    "hp_tuning_job = vertex_ai.HyperparameterTuningJob(\n",
    "    display_name=tuning_job_display_name,\n",
    "    custom_job=training_job,\n",
    "    metric_spec=metric_spec,\n",
    "    parameter_spec=parameter_spec,\n",
    "    max_trial_count=4,\n",
    "    parallel_trial_count=2,\n",
    "    search_algorithm=None # Bayesian optimization.\n",
    ")"
   ]
  },
  {
   "cell_type": "markdown",
   "id": "b8e4ee22",
   "metadata": {},
   "source": [
    "### Submit the hyperparameter tuning job"
   ]
  },
  {
   "cell_type": "code",
   "execution_count": 61,
   "id": "dc5b434d",
   "metadata": {},
   "outputs": [
    {
     "name": "stdout",
     "output_type": "stream",
     "text": [
      "Submitting a hyperparameter tunning job...\n",
      "Creating HyperparameterTuningJob\n"
     ]
    },
    {
     "name": "stderr",
     "output_type": "stream",
     "text": [
      "INFO:google.cloud.aiplatform.jobs:Creating HyperparameterTuningJob\n"
     ]
    },
    {
     "name": "stdout",
     "output_type": "stream",
     "text": [
      "HyperparameterTuningJob created. Resource name: projects/55590906972/locations/us-central1/hyperparameterTuningJobs/6902425311288229888\n"
     ]
    },
    {
     "name": "stderr",
     "output_type": "stream",
     "text": [
      "INFO:google.cloud.aiplatform.jobs:HyperparameterTuningJob created. Resource name: projects/55590906972/locations/us-central1/hyperparameterTuningJobs/6902425311288229888\n"
     ]
    },
    {
     "name": "stdout",
     "output_type": "stream",
     "text": [
      "To use this HyperparameterTuningJob in another session:\n"
     ]
    },
    {
     "name": "stderr",
     "output_type": "stream",
     "text": [
      "INFO:google.cloud.aiplatform.jobs:To use this HyperparameterTuningJob in another session:\n"
     ]
    },
    {
     "name": "stdout",
     "output_type": "stream",
     "text": [
      "hpt_job = aiplatform.HyperparameterTuningJob.get('projects/55590906972/locations/us-central1/hyperparameterTuningJobs/6902425311288229888')\n"
     ]
    },
    {
     "name": "stderr",
     "output_type": "stream",
     "text": [
      "INFO:google.cloud.aiplatform.jobs:hpt_job = aiplatform.HyperparameterTuningJob.get('projects/55590906972/locations/us-central1/hyperparameterTuningJobs/6902425311288229888')\n"
     ]
    },
    {
     "name": "stdout",
     "output_type": "stream",
     "text": [
      "View HyperparameterTuningJob:\n",
      "https://console.cloud.google.com/ai/platform/locations/us-central1/training/6902425311288229888?project=55590906972\n"
     ]
    },
    {
     "name": "stderr",
     "output_type": "stream",
     "text": [
      "INFO:google.cloud.aiplatform.jobs:View HyperparameterTuningJob:\n",
      "https://console.cloud.google.com/ai/platform/locations/us-central1/training/6902425311288229888?project=55590906972\n"
     ]
    },
    {
     "name": "stdout",
     "output_type": "stream",
     "text": [
      "View Tensorboard:\n",
      "https://us-central1.tensorboard.googleusercontent.com/experiment/projects+55590906972+locations+us-central1+tensorboards+5815536901632819200+experiments+6902425311288229888\n"
     ]
    },
    {
     "name": "stderr",
     "output_type": "stream",
     "text": [
      "INFO:google.cloud.aiplatform.jobs:View Tensorboard:\n",
      "https://us-central1.tensorboard.googleusercontent.com/experiment/projects+55590906972+locations+us-central1+tensorboards+5815536901632819200+experiments+6902425311288229888\n"
     ]
    },
    {
     "name": "stdout",
     "output_type": "stream",
     "text": [
      "HyperparameterTuningJob projects/55590906972/locations/us-central1/hyperparameterTuningJobs/6902425311288229888 current state:\n",
      "JobState.JOB_STATE_PENDING\n"
     ]
    },
    {
     "name": "stderr",
     "output_type": "stream",
     "text": [
      "INFO:google.cloud.aiplatform.jobs:HyperparameterTuningJob projects/55590906972/locations/us-central1/hyperparameterTuningJobs/6902425311288229888 current state:\n",
      "JobState.JOB_STATE_PENDING\n"
     ]
    },
    {
     "name": "stdout",
     "output_type": "stream",
     "text": [
      "HyperparameterTuningJob projects/55590906972/locations/us-central1/hyperparameterTuningJobs/6902425311288229888 current state:\n",
      "JobState.JOB_STATE_RUNNING\n"
     ]
    },
    {
     "name": "stderr",
     "output_type": "stream",
     "text": [
      "INFO:google.cloud.aiplatform.jobs:HyperparameterTuningJob projects/55590906972/locations/us-central1/hyperparameterTuningJobs/6902425311288229888 current state:\n",
      "JobState.JOB_STATE_RUNNING\n"
     ]
    },
    {
     "name": "stdout",
     "output_type": "stream",
     "text": [
      "HyperparameterTuningJob projects/55590906972/locations/us-central1/hyperparameterTuningJobs/6902425311288229888 current state:\n",
      "JobState.JOB_STATE_RUNNING\n"
     ]
    },
    {
     "name": "stderr",
     "output_type": "stream",
     "text": [
      "INFO:google.cloud.aiplatform.jobs:HyperparameterTuningJob projects/55590906972/locations/us-central1/hyperparameterTuningJobs/6902425311288229888 current state:\n",
      "JobState.JOB_STATE_RUNNING\n"
     ]
    },
    {
     "name": "stdout",
     "output_type": "stream",
     "text": [
      "HyperparameterTuningJob projects/55590906972/locations/us-central1/hyperparameterTuningJobs/6902425311288229888 current state:\n",
      "JobState.JOB_STATE_RUNNING\n"
     ]
    },
    {
     "name": "stderr",
     "output_type": "stream",
     "text": [
      "INFO:google.cloud.aiplatform.jobs:HyperparameterTuningJob projects/55590906972/locations/us-central1/hyperparameterTuningJobs/6902425311288229888 current state:\n",
      "JobState.JOB_STATE_RUNNING\n"
     ]
    },
    {
     "name": "stdout",
     "output_type": "stream",
     "text": [
      "HyperparameterTuningJob projects/55590906972/locations/us-central1/hyperparameterTuningJobs/6902425311288229888 current state:\n",
      "JobState.JOB_STATE_RUNNING\n"
     ]
    },
    {
     "name": "stderr",
     "output_type": "stream",
     "text": [
      "INFO:google.cloud.aiplatform.jobs:HyperparameterTuningJob projects/55590906972/locations/us-central1/hyperparameterTuningJobs/6902425311288229888 current state:\n",
      "JobState.JOB_STATE_RUNNING\n"
     ]
    },
    {
     "name": "stdout",
     "output_type": "stream",
     "text": [
      "HyperparameterTuningJob projects/55590906972/locations/us-central1/hyperparameterTuningJobs/6902425311288229888 current state:\n",
      "JobState.JOB_STATE_RUNNING\n"
     ]
    },
    {
     "name": "stderr",
     "output_type": "stream",
     "text": [
      "INFO:google.cloud.aiplatform.jobs:HyperparameterTuningJob projects/55590906972/locations/us-central1/hyperparameterTuningJobs/6902425311288229888 current state:\n",
      "JobState.JOB_STATE_RUNNING\n"
     ]
    },
    {
     "name": "stdout",
     "output_type": "stream",
     "text": [
      "HyperparameterTuningJob projects/55590906972/locations/us-central1/hyperparameterTuningJobs/6902425311288229888 current state:\n",
      "JobState.JOB_STATE_RUNNING\n"
     ]
    },
    {
     "name": "stderr",
     "output_type": "stream",
     "text": [
      "INFO:google.cloud.aiplatform.jobs:HyperparameterTuningJob projects/55590906972/locations/us-central1/hyperparameterTuningJobs/6902425311288229888 current state:\n",
      "JobState.JOB_STATE_RUNNING\n"
     ]
    },
    {
     "name": "stdout",
     "output_type": "stream",
     "text": [
      "HyperparameterTuningJob projects/55590906972/locations/us-central1/hyperparameterTuningJobs/6902425311288229888 current state:\n",
      "JobState.JOB_STATE_RUNNING\n"
     ]
    },
    {
     "name": "stderr",
     "output_type": "stream",
     "text": [
      "INFO:google.cloud.aiplatform.jobs:HyperparameterTuningJob projects/55590906972/locations/us-central1/hyperparameterTuningJobs/6902425311288229888 current state:\n",
      "JobState.JOB_STATE_RUNNING\n"
     ]
    },
    {
     "name": "stdout",
     "output_type": "stream",
     "text": [
      "HyperparameterTuningJob projects/55590906972/locations/us-central1/hyperparameterTuningJobs/6902425311288229888 current state:\n",
      "JobState.JOB_STATE_SUCCEEDED\n"
     ]
    },
    {
     "name": "stderr",
     "output_type": "stream",
     "text": [
      "INFO:google.cloud.aiplatform.jobs:HyperparameterTuningJob projects/55590906972/locations/us-central1/hyperparameterTuningJobs/6902425311288229888 current state:\n",
      "JobState.JOB_STATE_SUCCEEDED\n"
     ]
    },
    {
     "name": "stdout",
     "output_type": "stream",
     "text": [
      "HyperparameterTuningJob run completed. Resource name: projects/55590906972/locations/us-central1/hyperparameterTuningJobs/6902425311288229888\n"
     ]
    },
    {
     "name": "stderr",
     "output_type": "stream",
     "text": [
      "INFO:google.cloud.aiplatform.jobs:HyperparameterTuningJob run completed. Resource name: projects/55590906972/locations/us-central1/hyperparameterTuningJobs/6902425311288229888\n"
     ]
    }
   ],
   "source": [
    "print(\"Submitting a hyperparameter tunning job...\")\n",
    "\n",
    "hp_tuning_job.run(\n",
    "    service_account=SERVICE_ACCOUNT,\n",
    "    tensorboard=tensorboard_resource_name,\n",
    "    restart_job_on_worker_restart=False,\n",
    "    sync=True,\n",
    ")"
   ]
  },
  {
   "cell_type": "markdown",
   "id": "c4fd20da",
   "metadata": {},
   "source": [
    "### Retrieve trial results"
   ]
  },
  {
   "cell_type": "code",
   "execution_count": 62,
   "id": "3f8352e3",
   "metadata": {},
   "outputs": [
    {
     "data": {
      "text/plain": [
       "[id: \"1\"\n",
       " state: SUCCEEDED\n",
       " parameters {\n",
       "   parameter_id: \"hidden-units\"\n",
       "   value {\n",
       "     string_value: \"128,128\"\n",
       "   }\n",
       " }\n",
       " parameters {\n",
       "   parameter_id: \"learning-rate\"\n",
       "   value {\n",
       "     number_value: 0.0010000000000000002\n",
       "   }\n",
       " }\n",
       " final_measurement {\n",
       "   step_count: 1024\n",
       "   metrics {\n",
       "     metric_id: \"ACCURACY\"\n",
       "     value: 1.0\n",
       "   }\n",
       " }\n",
       " start_time {\n",
       "   seconds: 1662781077\n",
       "   nanos: 580170019\n",
       " }\n",
       " end_time {\n",
       "   seconds: 1662781349\n",
       " },\n",
       " id: \"2\"\n",
       " state: SUCCEEDED\n",
       " parameters {\n",
       "   parameter_id: \"hidden-units\"\n",
       "   value {\n",
       "     string_value: \"32,32\"\n",
       "   }\n",
       " }\n",
       " parameters {\n",
       "   parameter_id: \"learning-rate\"\n",
       "   value {\n",
       "     number_value: 0.00036314651245554605\n",
       "   }\n",
       " }\n",
       " final_measurement {\n",
       "   step_count: 1024\n",
       "   metrics {\n",
       "     metric_id: \"ACCURACY\"\n",
       "     value: 0.998046875\n",
       "   }\n",
       " }\n",
       " start_time {\n",
       "   seconds: 1662781077\n",
       "   nanos: 580322459\n",
       " }\n",
       " end_time {\n",
       "   seconds: 1662781387\n",
       " },\n",
       " id: \"3\"\n",
       " state: SUCCEEDED\n",
       " parameters {\n",
       "   parameter_id: \"hidden-units\"\n",
       "   value {\n",
       "     string_value: \"128,128\"\n",
       "   }\n",
       " }\n",
       " parameters {\n",
       "   parameter_id: \"learning-rate\"\n",
       "   value {\n",
       "     number_value: 0.00012025343614203747\n",
       "   }\n",
       " }\n",
       " final_measurement {\n",
       "   step_count: 1024\n",
       "   metrics {\n",
       "     metric_id: \"ACCURACY\"\n",
       "     value: 1.0\n",
       "   }\n",
       " }\n",
       " start_time {\n",
       "   seconds: 1662781628\n",
       "   nanos: 762488200\n",
       " }\n",
       " end_time {\n",
       "   seconds: 1662781936\n",
       " },\n",
       " id: \"4\"\n",
       " state: SUCCEEDED\n",
       " parameters {\n",
       "   parameter_id: \"hidden-units\"\n",
       "   value {\n",
       "     string_value: \"128,128\"\n",
       "   }\n",
       " }\n",
       " parameters {\n",
       "   parameter_id: \"learning-rate\"\n",
       "   value {\n",
       "     number_value: 0.0033112553939492204\n",
       "   }\n",
       " }\n",
       " final_measurement {\n",
       "   step_count: 1024\n",
       "   metrics {\n",
       "     metric_id: \"ACCURACY\"\n",
       "     value: 1.0\n",
       "   }\n",
       " }\n",
       " start_time {\n",
       "   seconds: 1662781630\n",
       "   nanos: 268685985\n",
       " }\n",
       " end_time {\n",
       "   seconds: 1662781944\n",
       " }]"
      ]
     },
     "execution_count": 62,
     "metadata": {},
     "output_type": "execute_result"
    }
   ],
   "source": [
    "hp_tuning_job.trials"
   ]
  },
  {
   "cell_type": "code",
   "execution_count": 63,
   "id": "311922be",
   "metadata": {},
   "outputs": [
    {
     "name": "stdout",
     "output_type": "stream",
     "text": [
      "Best trial ID: 1\n",
      "Validation Accuracy: 1.0\n",
      "Hyperparameter Values:\n",
      " - hidden-units:128,128\n",
      " - learning-rate:0.0010000000000000002\n"
     ]
    }
   ],
   "source": [
    "best_trial = sorted(\n",
    "    hp_tuning_job.trials, \n",
    "    key=lambda trial: trial.final_measurement.metrics[0].value, \n",
    "    reverse=True\n",
    ")[0]\n",
    "\n",
    "print(\"Best trial ID:\", best_trial.id)\n",
    "print(\"Validation Accuracy:\", best_trial.final_measurement.metrics[0].value)\n",
    "print(\"Hyperparameter Values:\")\n",
    "for parameter in best_trial.parameters:\n",
    "    print(f\" - {parameter.parameter_id}:{parameter.value}\")"
   ]
  },
  {
   "cell_type": "code",
   "execution_count": null,
   "id": "3e88555c",
   "metadata": {},
   "outputs": [],
   "source": []
  }
 ],
 "metadata": {
  "environment": {
   "kernel": "python3",
   "name": "common-cpu.m93",
   "type": "gcloud",
   "uri": "gcr.io/deeplearning-platform-release/base-cpu:m93"
  },
  "kernelspec": {
   "display_name": "Python 3",
   "language": "python",
   "name": "python3"
  },
  "language_info": {
   "codemirror_mode": {
    "name": "ipython",
    "version": 3
   },
   "file_extension": ".py",
   "mimetype": "text/x-python",
   "name": "python",
   "nbconvert_exporter": "python",
   "pygments_lexer": "ipython3",
   "version": "3.7.12"
  }
 },
 "nbformat": 4,
 "nbformat_minor": 5
}

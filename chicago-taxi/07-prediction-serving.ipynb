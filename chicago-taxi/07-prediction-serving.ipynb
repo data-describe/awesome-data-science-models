{
 "cells": [
  {
   "cell_type": "markdown",
   "id": "4004af63",
   "metadata": {},
   "source": [
    "# 07 - Prediction Serving\n",
    "\n",
    "The purpose of the notebook is to show how to use the deployed model for online and batch prediction.\n",
    "The notebook covers the following tasks:\n",
    "1. Test the endpoints for online prediction.\n",
    "2. Use the uploaded custom model for batch prediction.\n",
    "3. Run a the batch prediction pipeline using `Vertex Pipelines`."
   ]
  },
  {
   "cell_type": "markdown",
   "id": "3dad1f75",
   "metadata": {},
   "source": [
    "## Setup"
   ]
  },
  {
   "cell_type": "markdown",
   "id": "6d02a9d5",
   "metadata": {},
   "source": [
    "### Import libraries"
   ]
  },
  {
   "cell_type": "code",
   "execution_count": 1,
   "id": "c7f3ce81",
   "metadata": {},
   "outputs": [
    {
     "name": "stderr",
     "output_type": "stream",
     "text": [
      "2022-09-11 00:45:32.402357: W tensorflow/stream_executor/platform/default/dso_loader.cc:64] Could not load dynamic library 'libcudart.so.11.0'; dlerror: libcudart.so.11.0: cannot open shared object file: No such file or directory\n",
      "2022-09-11 00:45:32.402397: I tensorflow/stream_executor/cuda/cudart_stub.cc:29] Ignore above cudart dlerror if you do not have a GPU set up on your machine.\n"
     ]
    }
   ],
   "source": [
    "import os\n",
    "from datetime import datetime\n",
    "import tensorflow as tf\n",
    "\n",
    "from google.cloud import aiplatform as vertex_ai"
   ]
  },
  {
   "cell_type": "markdown",
   "id": "8e73bc25",
   "metadata": {},
   "source": [
    "### Setup Google Cloud project"
   ]
  },
  {
   "cell_type": "code",
   "execution_count": 2,
   "id": "29ea9b0a",
   "metadata": {},
   "outputs": [
    {
     "name": "stdout",
     "output_type": "stream",
     "text": [
      "Project ID: mwpmltr\n",
      "Region: us-central1\n",
      "Bucket name: gcp-certification-chicago-taxi-demo\n"
     ]
    }
   ],
   "source": [
    "PROJECT = 'mwpmltr' # Change to your project id.\n",
    "REGION = 'us-central1' # Change to your region.\n",
    "BUCKET = 'gcp-certification-chicago-taxi-demo' # Change to your bucket name.\n",
    "\n",
    "if PROJECT == \"\" or PROJECT is None or PROJECT == \"[your-project-id]\":\n",
    "    # Get your GCP project id from gcloud\n",
    "    shell_output = !gcloud config list --format 'value(core.project)' 2>/dev/null\n",
    "    PROJECT = shell_output[0]\n",
    "    \n",
    "if BUCKET == \"\" or BUCKET is None or BUCKET == \"[your-bucket-name]\":\n",
    "    # Get your bucket name to GCP project id\n",
    "    BUCKET = PROJECT\n",
    "    # Try to create the bucket if it doesn't exists\n",
    "    ! gsutil mb -l $REGION gs://$BUCKET\n",
    "    print(\"\")\n",
    "    \n",
    "print(\"Project ID:\", PROJECT)\n",
    "print(\"Region:\", REGION)\n",
    "print(\"Bucket name:\", BUCKET)"
   ]
  },
  {
   "cell_type": "markdown",
   "id": "ecba79b0",
   "metadata": {},
   "source": [
    "### Set configurations"
   ]
  },
  {
   "cell_type": "code",
   "execution_count": 3,
   "id": "537732be",
   "metadata": {},
   "outputs": [],
   "source": [
    "VERSION = 'v01'\n",
    "DATASET_DISPLAY_NAME = 'chicago-taxi-tips'\n",
    "MODEL_DISPLAY_NAME = f'{DATASET_DISPLAY_NAME}-classifier-{VERSION}'\n",
    "ENDPOINT_DISPLAY_NAME = f'{DATASET_DISPLAY_NAME}-classifier'\n",
    "\n",
    "SERVE_BQ_DATASET_NAME = 'playground_central' # Change to your serving BigQuery dataset name.\n",
    "SERVE_BQ_TABLE_NAME = 'chicago_taxitrips_prep' # Change to your serving BigQuery table name."
   ]
  },
  {
   "cell_type": "markdown",
   "id": "4e508dd0",
   "metadata": {},
   "source": [
    "## 1. Making Online Predicitons\n"
   ]
  },
  {
   "cell_type": "code",
   "execution_count": 4,
   "id": "38be76f5",
   "metadata": {},
   "outputs": [],
   "source": [
    "vertex_ai.init(\n",
    "    project=PROJECT,\n",
    "    location=REGION,\n",
    "    staging_bucket=BUCKET\n",
    ")\n",
    "\n",
    "endpoint_name = vertex_ai.Endpoint.list(\n",
    "    filter=f'display_name={ENDPOINT_DISPLAY_NAME}', \n",
    "    order_by=\"update_time\")[-1].gca_resource.name\n",
    "\n",
    "endpoint = vertex_ai.Endpoint(endpoint_name)"
   ]
  },
  {
   "cell_type": "code",
   "execution_count": 5,
   "id": "f6b8053d",
   "metadata": {},
   "outputs": [],
   "source": [
    "test_instances = [  \n",
    "    {\n",
    "        \"dropoff_grid\": [\"POINT(-87.6 41.9)\"],\n",
    "        \"euclidean\": [2064.2696],\n",
    "        \"loc_cross\": [\"\"],\n",
    "        \"payment_type\": [\"Credit Card\"],\n",
    "        \"pickup_grid\": [\"POINT(-87.6 41.9)\"],\n",
    "        \"trip_miles\": [1.37],\n",
    "        \"trip_day\": [12],\n",
    "        \"trip_hour\": [16],\n",
    "        \"trip_month\": [2],\n",
    "        \"trip_day_of_week\": [4],\n",
    "        \"trip_seconds\": [555]\n",
    "    }\n",
    "]"
   ]
  },
  {
   "cell_type": "code",
   "execution_count": 6,
   "id": "f7cb447e",
   "metadata": {},
   "outputs": [
    {
     "name": "stdout",
     "output_type": "stream",
     "text": [
      "{'classes': ['tip<20%', 'tip>=20%'], 'scores': [0.164241076, 0.835758924]}\n"
     ]
    }
   ],
   "source": [
    "predictions = endpoint.predict(test_instances).predictions\n",
    "\n",
    "for prediction in predictions:\n",
    "    print(prediction)"
   ]
  },
  {
   "cell_type": "code",
   "execution_count": 7,
   "id": "330d9dfc",
   "metadata": {},
   "outputs": [],
   "source": [
    "# explanations = endpoint.explain(test_instances).explanations\n",
    "\n",
    "# for explanation in explanations:\n",
    "#     print(explanation)"
   ]
  },
  {
   "cell_type": "markdown",
   "id": "ddc90ffa",
   "metadata": {},
   "source": [
    "## 2. Batch Prediction"
   ]
  },
  {
   "cell_type": "code",
   "execution_count": 8,
   "id": "046757e2",
   "metadata": {},
   "outputs": [],
   "source": [
    "WORKSPACE = f\"gs://{BUCKET}/{DATASET_DISPLAY_NAME}/\"\n",
    "SERVING_DATA_DIR = os.path.join(WORKSPACE, 'serving_data')\n",
    "SERVING_INPUT_DATA_DIR = os.path.join(SERVING_DATA_DIR, 'input_data')\n",
    "SERVING_OUTPUT_DATA_DIR = os.path.join(SERVING_DATA_DIR, 'output_predictions')"
   ]
  },
  {
   "cell_type": "code",
   "execution_count": 9,
   "id": "cb962f53-fde6-4f23-bb86-f059114ae61e",
   "metadata": {},
   "outputs": [
    {
     "name": "stdout",
     "output_type": "stream",
     "text": [
      "WORKSPACE = gs://gcp-certification-chicago-taxi-demo/chicago-taxi-tips/\n",
      "SERVING_DATA_DIR = gs://gcp-certification-chicago-taxi-demo/chicago-taxi-tips/serving_data\n",
      "SERVING_INPUT_DATA_DIR = gs://gcp-certification-chicago-taxi-demo/chicago-taxi-tips/serving_data/input_data\n",
      "SERVING_OUTPUT_DATA_DIR = gs://gcp-certification-chicago-taxi-demo/chicago-taxi-tips/serving_data/output_predictions\n"
     ]
    }
   ],
   "source": [
    "print(f\"WORKSPACE = {WORKSPACE}\")\n",
    "print(f\"SERVING_DATA_DIR = {SERVING_DATA_DIR}\")\n",
    "print(f\"SERVING_INPUT_DATA_DIR = {SERVING_INPUT_DATA_DIR}\")\n",
    "print(f\"SERVING_OUTPUT_DATA_DIR = {SERVING_OUTPUT_DATA_DIR}\")"
   ]
  },
  {
   "cell_type": "code",
   "execution_count": 10,
   "id": "0e8fbc4d",
   "metadata": {},
   "outputs": [
    {
     "name": "stdout",
     "output_type": "stream",
     "text": [
      "Removing previous serving data...\n",
      "Creating serving data directory...\n",
      "Serving data directory is ready.\n"
     ]
    }
   ],
   "source": [
    "if tf.io.gfile.exists(SERVING_DATA_DIR):\n",
    "    print(\"Removing previous serving data...\")\n",
    "    tf.io.gfile.rmtree(SERVING_DATA_DIR)\n",
    "    \n",
    "print(\"Creating serving data directory...\")\n",
    "tf.io.gfile.mkdir(SERVING_DATA_DIR)\n",
    "print(\"Serving data directory is ready.\")"
   ]
  },
  {
   "cell_type": "markdown",
   "id": "6f7b60fa",
   "metadata": {},
   "source": [
    "### Extract serving data to Cloud Storage as JSONL"
   ]
  },
  {
   "cell_type": "code",
   "execution_count": 11,
   "id": "04bb69ff",
   "metadata": {},
   "outputs": [],
   "source": [
    "from src.common import datasource_utils\n",
    "from src.preprocessing import etl"
   ]
  },
  {
   "cell_type": "code",
   "execution_count": 12,
   "id": "dfd4cf91",
   "metadata": {},
   "outputs": [
    {
     "name": "stdout",
     "output_type": "stream",
     "text": [
      "\n",
      "    SELECT \n",
      "        IF(trip_month IS NULL, -1, trip_month) trip_month,\n",
      "        IF(trip_day IS NULL, -1, trip_day) trip_day,\n",
      "        IF(trip_day_of_week IS NULL, -1, trip_day_of_week) trip_day_of_week,\n",
      "        IF(trip_hour IS NULL, -1, trip_hour) trip_hour,\n",
      "        IF(trip_seconds IS NULL, -1, trip_seconds) trip_seconds,\n",
      "        IF(trip_miles IS NULL, -1, trip_miles) trip_miles,\n",
      "        IF(payment_type IS NULL, 'NA', payment_type) payment_type,\n",
      "        IF(pickup_grid IS NULL, 'NA', pickup_grid) pickup_grid,\n",
      "        IF(dropoff_grid IS NULL, 'NA', dropoff_grid) dropoff_grid,\n",
      "        IF(euclidean IS NULL, -1, euclidean) euclidean,\n",
      "        IF(loc_cross IS NULL, 'NA', loc_cross) loc_cross\n",
      "    FROM playground_central.chicago_taxitrips_prep \n",
      "    LIMIT 100\n"
     ]
    }
   ],
   "source": [
    "# LIMIT = 10000 # <- 25 min\n",
    "LIMIT = 100 \n",
    "\n",
    "sql_query = datasource_utils.get_serving_source_query(\n",
    "    bq_dataset_name=SERVE_BQ_DATASET_NAME, \n",
    "    bq_table_name=SERVE_BQ_TABLE_NAME,\n",
    "    limit=LIMIT\n",
    ")\n",
    "\n",
    "print(sql_query)"
   ]
  },
  {
   "cell_type": "code",
   "execution_count": 13,
   "id": "5f5afb73",
   "metadata": {},
   "outputs": [],
   "source": [
    "job_name = f\"extract-{DATASET_DISPLAY_NAME}-serving-{datetime.now().strftime('%Y%m%d%H%M%S')}\"\n",
    "\n",
    "args = {\n",
    "    'job_name': job_name,\n",
    "    #'runner': 'DataflowRunner',\n",
    "    'sql_query': sql_query,\n",
    "    'exported_data_prefix': os.path.join(SERVING_INPUT_DATA_DIR, \"data-\"),\n",
    "    'temporary_dir': os.path.join(WORKSPACE, 'tmp'),\n",
    "    'gcs_location': os.path.join(WORKSPACE, 'bq_tmp'),\n",
    "    'project': PROJECT,\n",
    "    'region': REGION,\n",
    "    'setup_file': './setup.py'\n",
    "}"
   ]
  },
  {
   "cell_type": "code",
   "execution_count": 14,
   "id": "588e1949",
   "metadata": {},
   "outputs": [
    {
     "name": "stdout",
     "output_type": "stream",
     "text": [
      "Data extraction started...\n"
     ]
    },
    {
     "data": {
      "application/javascript": [
       "\n",
       "        if (typeof window.interactive_beam_jquery == 'undefined') {\n",
       "          var jqueryScript = document.createElement('script');\n",
       "          jqueryScript.src = 'https://code.jquery.com/jquery-3.4.1.slim.min.js';\n",
       "          jqueryScript.type = 'text/javascript';\n",
       "          jqueryScript.onload = function() {\n",
       "            var datatableScript = document.createElement('script');\n",
       "            datatableScript.src = 'https://cdn.datatables.net/1.10.20/js/jquery.dataTables.min.js';\n",
       "            datatableScript.type = 'text/javascript';\n",
       "            datatableScript.onload = function() {\n",
       "              window.interactive_beam_jquery = jQuery.noConflict(true);\n",
       "              window.interactive_beam_jquery(document).ready(function($){\n",
       "                \n",
       "              });\n",
       "            }\n",
       "            document.head.appendChild(datatableScript);\n",
       "          };\n",
       "          document.head.appendChild(jqueryScript);\n",
       "        } else {\n",
       "          window.interactive_beam_jquery(document).ready(function($){\n",
       "            \n",
       "          });\n",
       "        }"
      ]
     },
     "metadata": {},
     "output_type": "display_data"
    },
    {
     "name": "stderr",
     "output_type": "stream",
     "text": [
      "/opt/conda/lib/python3.7/site-packages/apache_beam/io/gcp/bigquery.py:2471: BeamDeprecationWarning: options is deprecated since First stable release. References to <pipeline>.options will not be supported\n",
      "  temp_location = pcoll.pipeline.options.view_as(\n",
      "WARNING:apache_beam.options.pipeline_options:Discarding invalid overrides: {'sql_query': \"\\n    SELECT \\n        IF(trip_month IS NULL, -1, trip_month) trip_month,\\n        IF(trip_day IS NULL, -1, trip_day) trip_day,\\n        IF(trip_day_of_week IS NULL, -1, trip_day_of_week) trip_day_of_week,\\n        IF(trip_hour IS NULL, -1, trip_hour) trip_hour,\\n        IF(trip_seconds IS NULL, -1, trip_seconds) trip_seconds,\\n        IF(trip_miles IS NULL, -1, trip_miles) trip_miles,\\n        IF(payment_type IS NULL, 'NA', payment_type) payment_type,\\n        IF(pickup_grid IS NULL, 'NA', pickup_grid) pickup_grid,\\n        IF(dropoff_grid IS NULL, 'NA', dropoff_grid) dropoff_grid,\\n        IF(euclidean IS NULL, -1, euclidean) euclidean,\\n        IF(loc_cross IS NULL, 'NA', loc_cross) loc_cross\\n    FROM playground_central.chicago_taxitrips_prep \\n    LIMIT 100\", 'exported_data_prefix': 'gs://gcp-certification-chicago-taxi-demo/chicago-taxi-tips/serving_data/input_data/data-', 'temporary_dir': 'gs://gcp-certification-chicago-taxi-demo/chicago-taxi-tips/tmp', 'gcs_location': 'gs://gcp-certification-chicago-taxi-demo/chicago-taxi-tips/bq_tmp'}\n",
      "WARNING:root:Make sure that locally built Python SDK docker image has Python 3.7 interpreter.\n",
      "WARNING:apache_beam.io.gcp.bigquery_tools:Dataset mwpmltr:beam_temp_dataset_498e50f6d3a8436ca789c164d828c669 does not exist so we will create it as temporary with location=us-central1\n"
     ]
    },
    {
     "name": "stdout",
     "output_type": "stream",
     "text": [
      "Data extraction completed.\n"
     ]
    }
   ],
   "source": [
    "tf.get_logger().setLevel('ERROR')\n",
    "\n",
    "print(\"Data extraction started...\")\n",
    "etl.run_extract_pipeline(args)\n",
    "print(\"Data extraction completed.\")"
   ]
  },
  {
   "cell_type": "code",
   "execution_count": 15,
   "id": "a036944a",
   "metadata": {},
   "outputs": [
    {
     "name": "stdout",
     "output_type": "stream",
     "text": [
      "gs://gcp-certification-chicago-taxi-demo/chicago-taxi-tips/serving_data/input_data/data--00000-of-00001.jsonl\n"
     ]
    }
   ],
   "source": [
    "!gsutil ls {SERVING_INPUT_DATA_DIR}"
   ]
  },
  {
   "cell_type": "markdown",
   "id": "5ff0d72b",
   "metadata": {},
   "source": [
    "### Submit the batch prediction job"
   ]
  },
  {
   "cell_type": "code",
   "execution_count": 16,
   "id": "eb72b16e",
   "metadata": {},
   "outputs": [],
   "source": [
    "model_name =  vertex_ai.Model.list(\n",
    "    filter=f'display_name={MODEL_DISPLAY_NAME}',\n",
    "    order_by=\"update_time\")[-1].gca_resource.name"
   ]
  },
  {
   "cell_type": "code",
   "execution_count": 17,
   "id": "5c950ee9-81c2-4ccc-93e2-643439f85751",
   "metadata": {},
   "outputs": [
    {
     "data": {
      "text/plain": [
       "'projects/55590906972/locations/us-central1/models/5832755253723791360'"
      ]
     },
     "execution_count": 17,
     "metadata": {},
     "output_type": "execute_result"
    }
   ],
   "source": [
    "model_name"
   ]
  },
  {
   "cell_type": "code",
   "execution_count": 18,
   "id": "dac58bf2",
   "metadata": {},
   "outputs": [
    {
     "name": "stdout",
     "output_type": "stream",
     "text": [
      "Creating BatchPredictionJob\n"
     ]
    },
    {
     "name": "stderr",
     "output_type": "stream",
     "text": [
      "INFO:google.cloud.aiplatform.jobs:Creating BatchPredictionJob\n"
     ]
    },
    {
     "name": "stdout",
     "output_type": "stream",
     "text": [
      "BatchPredictionJob created. Resource name: projects/55590906972/locations/us-central1/batchPredictionJobs/1394945179479179264\n"
     ]
    },
    {
     "name": "stderr",
     "output_type": "stream",
     "text": [
      "INFO:google.cloud.aiplatform.jobs:BatchPredictionJob created. Resource name: projects/55590906972/locations/us-central1/batchPredictionJobs/1394945179479179264\n"
     ]
    },
    {
     "name": "stdout",
     "output_type": "stream",
     "text": [
      "To use this BatchPredictionJob in another session:\n"
     ]
    },
    {
     "name": "stderr",
     "output_type": "stream",
     "text": [
      "INFO:google.cloud.aiplatform.jobs:To use this BatchPredictionJob in another session:\n"
     ]
    },
    {
     "name": "stdout",
     "output_type": "stream",
     "text": [
      "bpj = aiplatform.BatchPredictionJob('projects/55590906972/locations/us-central1/batchPredictionJobs/1394945179479179264')\n"
     ]
    },
    {
     "name": "stderr",
     "output_type": "stream",
     "text": [
      "INFO:google.cloud.aiplatform.jobs:bpj = aiplatform.BatchPredictionJob('projects/55590906972/locations/us-central1/batchPredictionJobs/1394945179479179264')\n"
     ]
    },
    {
     "name": "stdout",
     "output_type": "stream",
     "text": [
      "View Batch Prediction Job:\n",
      "https://console.cloud.google.com/ai/platform/locations/us-central1/batch-predictions/1394945179479179264?project=55590906972\n"
     ]
    },
    {
     "name": "stderr",
     "output_type": "stream",
     "text": [
      "INFO:google.cloud.aiplatform.jobs:View Batch Prediction Job:\n",
      "https://console.cloud.google.com/ai/platform/locations/us-central1/batch-predictions/1394945179479179264?project=55590906972\n"
     ]
    },
    {
     "name": "stdout",
     "output_type": "stream",
     "text": [
      "BatchPredictionJob projects/55590906972/locations/us-central1/batchPredictionJobs/1394945179479179264 current state:\n",
      "JobState.JOB_STATE_RUNNING\n"
     ]
    },
    {
     "name": "stderr",
     "output_type": "stream",
     "text": [
      "INFO:google.cloud.aiplatform.jobs:BatchPredictionJob projects/55590906972/locations/us-central1/batchPredictionJobs/1394945179479179264 current state:\n",
      "JobState.JOB_STATE_RUNNING\n"
     ]
    },
    {
     "name": "stdout",
     "output_type": "stream",
     "text": [
      "BatchPredictionJob projects/55590906972/locations/us-central1/batchPredictionJobs/1394945179479179264 current state:\n",
      "JobState.JOB_STATE_RUNNING\n"
     ]
    },
    {
     "name": "stderr",
     "output_type": "stream",
     "text": [
      "INFO:google.cloud.aiplatform.jobs:BatchPredictionJob projects/55590906972/locations/us-central1/batchPredictionJobs/1394945179479179264 current state:\n",
      "JobState.JOB_STATE_RUNNING\n"
     ]
    },
    {
     "name": "stdout",
     "output_type": "stream",
     "text": [
      "BatchPredictionJob projects/55590906972/locations/us-central1/batchPredictionJobs/1394945179479179264 current state:\n",
      "JobState.JOB_STATE_RUNNING\n"
     ]
    },
    {
     "name": "stderr",
     "output_type": "stream",
     "text": [
      "INFO:google.cloud.aiplatform.jobs:BatchPredictionJob projects/55590906972/locations/us-central1/batchPredictionJobs/1394945179479179264 current state:\n",
      "JobState.JOB_STATE_RUNNING\n"
     ]
    },
    {
     "name": "stdout",
     "output_type": "stream",
     "text": [
      "BatchPredictionJob projects/55590906972/locations/us-central1/batchPredictionJobs/1394945179479179264 current state:\n",
      "JobState.JOB_STATE_RUNNING\n"
     ]
    },
    {
     "name": "stderr",
     "output_type": "stream",
     "text": [
      "INFO:google.cloud.aiplatform.jobs:BatchPredictionJob projects/55590906972/locations/us-central1/batchPredictionJobs/1394945179479179264 current state:\n",
      "JobState.JOB_STATE_RUNNING\n"
     ]
    },
    {
     "name": "stdout",
     "output_type": "stream",
     "text": [
      "BatchPredictionJob projects/55590906972/locations/us-central1/batchPredictionJobs/1394945179479179264 current state:\n",
      "JobState.JOB_STATE_RUNNING\n"
     ]
    },
    {
     "name": "stderr",
     "output_type": "stream",
     "text": [
      "INFO:google.cloud.aiplatform.jobs:BatchPredictionJob projects/55590906972/locations/us-central1/batchPredictionJobs/1394945179479179264 current state:\n",
      "JobState.JOB_STATE_RUNNING\n"
     ]
    },
    {
     "name": "stdout",
     "output_type": "stream",
     "text": [
      "BatchPredictionJob projects/55590906972/locations/us-central1/batchPredictionJobs/1394945179479179264 current state:\n",
      "JobState.JOB_STATE_RUNNING\n"
     ]
    },
    {
     "name": "stderr",
     "output_type": "stream",
     "text": [
      "INFO:google.cloud.aiplatform.jobs:BatchPredictionJob projects/55590906972/locations/us-central1/batchPredictionJobs/1394945179479179264 current state:\n",
      "JobState.JOB_STATE_RUNNING\n"
     ]
    },
    {
     "name": "stdout",
     "output_type": "stream",
     "text": [
      "BatchPredictionJob projects/55590906972/locations/us-central1/batchPredictionJobs/1394945179479179264 current state:\n",
      "JobState.JOB_STATE_RUNNING\n"
     ]
    },
    {
     "name": "stderr",
     "output_type": "stream",
     "text": [
      "INFO:google.cloud.aiplatform.jobs:BatchPredictionJob projects/55590906972/locations/us-central1/batchPredictionJobs/1394945179479179264 current state:\n",
      "JobState.JOB_STATE_RUNNING\n"
     ]
    },
    {
     "name": "stdout",
     "output_type": "stream",
     "text": [
      "BatchPredictionJob projects/55590906972/locations/us-central1/batchPredictionJobs/1394945179479179264 current state:\n",
      "JobState.JOB_STATE_RUNNING\n"
     ]
    },
    {
     "name": "stderr",
     "output_type": "stream",
     "text": [
      "INFO:google.cloud.aiplatform.jobs:BatchPredictionJob projects/55590906972/locations/us-central1/batchPredictionJobs/1394945179479179264 current state:\n",
      "JobState.JOB_STATE_RUNNING\n"
     ]
    },
    {
     "name": "stdout",
     "output_type": "stream",
     "text": [
      "BatchPredictionJob projects/55590906972/locations/us-central1/batchPredictionJobs/1394945179479179264 current state:\n",
      "JobState.JOB_STATE_RUNNING\n"
     ]
    },
    {
     "name": "stderr",
     "output_type": "stream",
     "text": [
      "INFO:google.cloud.aiplatform.jobs:BatchPredictionJob projects/55590906972/locations/us-central1/batchPredictionJobs/1394945179479179264 current state:\n",
      "JobState.JOB_STATE_RUNNING\n"
     ]
    },
    {
     "name": "stdout",
     "output_type": "stream",
     "text": [
      "BatchPredictionJob projects/55590906972/locations/us-central1/batchPredictionJobs/1394945179479179264 current state:\n",
      "JobState.JOB_STATE_SUCCEEDED\n"
     ]
    },
    {
     "name": "stderr",
     "output_type": "stream",
     "text": [
      "INFO:google.cloud.aiplatform.jobs:BatchPredictionJob projects/55590906972/locations/us-central1/batchPredictionJobs/1394945179479179264 current state:\n",
      "JobState.JOB_STATE_SUCCEEDED\n"
     ]
    },
    {
     "name": "stdout",
     "output_type": "stream",
     "text": [
      "BatchPredictionJob run completed. Resource name: projects/55590906972/locations/us-central1/batchPredictionJobs/1394945179479179264\n"
     ]
    },
    {
     "name": "stderr",
     "output_type": "stream",
     "text": [
      "INFO:google.cloud.aiplatform.jobs:BatchPredictionJob run completed. Resource name: projects/55590906972/locations/us-central1/batchPredictionJobs/1394945179479179264\n"
     ]
    },
    {
     "data": {
      "text/plain": [
       "<google.cloud.aiplatform.jobs.BatchPredictionJob object at 0x7f529c5ab250> \n",
       "resource name: projects/55590906972/locations/us-central1/batchPredictionJobs/1394945179479179264"
      ]
     },
     "execution_count": 18,
     "metadata": {},
     "output_type": "execute_result"
    }
   ],
   "source": [
    "job_resources =  {\n",
    "    \"machine_type\": 'n1-standard-2',\n",
    "    #'accelerator_count': 1,\n",
    "    #'accelerator_type': 'NVIDIA_TESLA_T4'\n",
    "    \"starting_replica_count\": 1,\n",
    "    \"max_replica_count\": 10,\n",
    "}\n",
    "\n",
    "job_display_name = f\"{MODEL_DISPLAY_NAME}-prediction-job-{datetime.now().strftime('%Y%m%d%H%M%S')}\"\n",
    "\n",
    "vertex_ai.BatchPredictionJob.create(\n",
    "    job_display_name=job_display_name,\n",
    "    model_name=model_name,\n",
    "    gcs_source=SERVING_INPUT_DATA_DIR + '/*.jsonl',\n",
    "    gcs_destination_prefix=SERVING_OUTPUT_DATA_DIR,\n",
    "    instances_format='jsonl',\n",
    "    predictions_format='jsonl',\n",
    "    sync=True,\n",
    "    **job_resources,\n",
    ")"
   ]
  },
  {
   "cell_type": "markdown",
   "id": "a4f281a9",
   "metadata": {},
   "source": [
    "## 3. Run the batch prediction pipeline using Vertex Pipelines"
   ]
  },
  {
   "cell_type": "code",
   "execution_count": 19,
   "id": "809ba028",
   "metadata": {},
   "outputs": [],
   "source": [
    "WORKSPACE = f\"gs://{BUCKET}/{DATASET_DISPLAY_NAME}/\"\n",
    "ARTIFACT_STORE = os.path.join(WORKSPACE, 'tfx_artifacts')\n",
    "PIPELINE_NAME = f'{MODEL_DISPLAY_NAME}-predict-pipeline'"
   ]
  },
  {
   "cell_type": "markdown",
   "id": "769a1d9e",
   "metadata": {},
   "source": [
    "### Set the pipeline configurations for the Vertex AI run"
   ]
  },
  {
   "cell_type": "code",
   "execution_count": 20,
   "id": "c5add19d",
   "metadata": {},
   "outputs": [],
   "source": [
    "os.environ[\"PROJECT\"] = PROJECT\n",
    "os.environ[\"REGION\"] = REGION\n",
    "os.environ[\"GCS_LOCATION\"] = f\"gs://{BUCKET}/{DATASET_DISPLAY_NAME}\"\n",
    "os.environ[\"MODEL_DISPLAY_NAME\"] = MODEL_DISPLAY_NAME\n",
    "os.environ[\"PIPELINE_NAME\"] = PIPELINE_NAME\n",
    "os.environ[\"ARTIFACT_STORE_URI\"] = ARTIFACT_STORE\n",
    "os.environ[\"BATCH_PREDICTION_BQ_DATASET_NAME\"] = SERVE_BQ_DATASET_NAME\n",
    "os.environ[\"BATCH_PREDICTION_BQ_TABLE_NAME\"] = SERVE_BQ_TABLE_NAME\n",
    "os.environ[\"SERVE_LIMIT\"] = \"1000\"\n",
    "os.environ[\"BEAM_RUNNER\"] = \"DirectRunner\"\n",
    "os.environ[\"TFX_IMAGE_URI\"] = f\"gcr.io/{PROJECT}/{DATASET_DISPLAY_NAME}:{VERSION}\""
   ]
  },
  {
   "cell_type": "code",
   "execution_count": 21,
   "id": "51401afd-2f6d-4700-a49f-8a41e46f9009",
   "metadata": {},
   "outputs": [],
   "source": [
    "os.environ[\"ENABLE_CACHE\"] = \"1\"\n",
    "os.environ[\"SERVING_RUNTIME\"] = \"tf-cpu.2-8\""
   ]
  },
  {
   "cell_type": "code",
   "execution_count": 22,
   "id": "f6d0e2ec",
   "metadata": {},
   "outputs": [
    {
     "name": "stdout",
     "output_type": "stream",
     "text": [
      "PROJECT: mwpmltr\n",
      "REGION: us-central1\n",
      "GCS_LOCATION: gs://gcp-certification-chicago-taxi-demo/chicago-taxi-tips\n",
      "ARTIFACT_STORE_URI: gs://gcp-certification-chicago-taxi-demo/chicago-taxi-tips/tfx_artifacts\n",
      "MODEL_REGISTRY_URI: gs://gcp-certification-chicago-taxi-demo/chicago-taxi-tips/model_registry\n",
      "DATASET_DISPLAY_NAME: chicago-taxi-tips\n",
      "MODEL_DISPLAY_NAME: chicago-taxi-tips-classifier-v01\n",
      "PIPELINE_NAME: chicago-taxi-tips-classifier-v01-predict-pipeline\n",
      "ML_USE_COLUMN: ml_use\n",
      "EXCLUDE_COLUMNS: trip_start_timestamp\n",
      "TRAIN_LIMIT: 0\n",
      "TEST_LIMIT: 0\n",
      "SERVE_LIMIT: 1000\n",
      "NUM_TRAIN_SPLITS: 4\n",
      "NUM_EVAL_SPLITS: 1\n",
      "ACCURACY_THRESHOLD: 0.8\n",
      "USE_KFP_SA: False\n",
      "TFX_IMAGE_URI: gcr.io/mwpmltr/chicago-taxi-tips:v01\n",
      "BEAM_RUNNER: DirectRunner\n",
      "BEAM_DIRECT_PIPELINE_ARGS: ['--project=mwpmltr', '--temp_location=gs://gcp-certification-chicago-taxi-demo/chicago-taxi-tips/temp']\n",
      "BEAM_DATAFLOW_PIPELINE_ARGS: ['--project=mwpmltr', '--temp_location=gs://gcp-certification-chicago-taxi-demo/chicago-taxi-tips/temp', '--region=us-central1', '--runner=DirectRunner']\n",
      "TRAINING_RUNNER: local\n",
      "VERTEX_TRAINING_ARGS: {'project': 'mwpmltr', 'worker_pool_specs': [{'machine_spec': {'machine_type': 'n1-standard-4'}, 'replica_count': 1, 'container_spec': {'image_uri': 'gcr.io/mwpmltr/chicago-taxi-tips:v01'}}]}\n",
      "VERTEX_TRAINING_CONFIG: {'ai_platform_training_enable_ucaip': True, 'ai_platform_training_ucaip_region': 'us-central1', 'ai_platform_training_args': {'project': 'mwpmltr', 'worker_pool_specs': [{'machine_spec': {'machine_type': 'n1-standard-4'}, 'replica_count': 1, 'container_spec': {'image_uri': 'gcr.io/mwpmltr/chicago-taxi-tips:v01'}}]}, 'use_gpu': False}\n",
      "SERVING_RUNTIME: tf-cpu.2-8\n",
      "SERVING_IMAGE_URI: us-docker.pkg.dev/vertex-ai/prediction/tf-cpu.2-8:latest\n",
      "BATCH_PREDICTION_BQ_DATASET_NAME: playground_central\n",
      "BATCH_PREDICTION_BQ_TABLE_NAME: chicago_taxitrips_prep\n",
      "BATCH_PREDICTION_BEAM_ARGS: {'runner': 'DirectRunner', 'temporary_dir': 'gs://gcp-certification-chicago-taxi-demo/chicago-taxi-tips/temp', 'gcs_location': 'gs://gcp-certification-chicago-taxi-demo/chicago-taxi-tips/temp', 'project': 'mwpmltr', 'region': 'us-central1', 'setup_file': './setup.py'}\n",
      "BATCH_PREDICTION_JOB_RESOURCES: {'machine_type': 'n1-standard-2', 'starting_replica_count': 1, 'max_replica_count': 10}\n",
      "DATASTORE_PREDICTION_KIND: chicago-taxi-tips-classifier-v01-predictions\n",
      "ENABLE_CACHE: 1\n",
      "UPLOAD_MODEL: 1\n"
     ]
    }
   ],
   "source": [
    "import importlib\n",
    "from src.tfx_pipelines import config\n",
    "importlib.reload(config)\n",
    "\n",
    "for key, value in config.__dict__.items():\n",
    "    if key.isupper(): print(f'{key}: {value}')"
   ]
  },
  {
   "cell_type": "markdown",
   "id": "f128b46e",
   "metadata": {},
   "source": [
    "### (Optional) Build the ML container image\n",
    "\n",
    "This is the `TFX` runtime environment for the training pipeline steps."
   ]
  },
  {
   "cell_type": "code",
   "execution_count": 23,
   "id": "f24fa5e6",
   "metadata": {},
   "outputs": [
    {
     "name": "stdout",
     "output_type": "stream",
     "text": [
      "gcr.io/mwpmltr/chicago-taxi-tips:v01\n"
     ]
    }
   ],
   "source": [
    "!echo $TFX_IMAGE_URI"
   ]
  },
  {
   "cell_type": "code",
   "execution_count": 24,
   "id": "3949cc7e",
   "metadata": {},
   "outputs": [
    {
     "name": "stdout",
     "output_type": "stream",
     "text": [
      "Creating temporary tarball archive of 59 file(s) totalling 2.2 MiB before compression.\n",
      "Some files were not included in the source upload.\n",
      "\n",
      "Check the gcloud log [/home/jupyter/.config/gcloud/logs/2022.09.11/01.09.38.077000.log] to see which files and the contents of the\n",
      "default gcloudignore file used (see `$ gcloud topic gcloudignore` to learn\n",
      "more).\n",
      "\n",
      "Uploading tarball of [.] to [gs://mwpmltr_cloudbuild/source/1662858578.17596-4a0ddedfc85c45c7bba9cad927fb3ee8.tgz]\n",
      "Created [https://cloudbuild.googleapis.com/v1/projects/mwpmltr/locations/global/builds/d89a6bee-2ed8-4d2f-9068-8bc06f144e98].\n",
      "Logs are available at [https://console.cloud.google.com/cloud-build/builds/d89a6bee-2ed8-4d2f-9068-8bc06f144e98?project=55590906972].\n",
      "----------------------------- REMOTE BUILD OUTPUT ------------------------------\n",
      "starting build \"d89a6bee-2ed8-4d2f-9068-8bc06f144e98\"\n",
      "\n",
      "FETCHSOURCE\n",
      "Fetching storage object: gs://mwpmltr_cloudbuild/source/1662858578.17596-4a0ddedfc85c45c7bba9cad927fb3ee8.tgz#1662858578758521\n",
      "Copying gs://mwpmltr_cloudbuild/source/1662858578.17596-4a0ddedfc85c45c7bba9cad927fb3ee8.tgz#1662858578758521...\n",
      "/ [1 files][393.5 KiB/393.5 KiB]                                                \n",
      "Operation completed over 1 objects/393.5 KiB.\n",
      "BUILD\n",
      "Already have image (with digest): gcr.io/cloud-builders/docker\n",
      "Sending build context to Docker daemon  2.362MB\n",
      "Step 1/5 : FROM gcr.io/tfx-oss-public/tfx:1.8.0\n",
      "1.8.0: Pulling from tfx-oss-public/tfx\n",
      "d5fd17ec1767: Pulling fs layer\n",
      "086b79b77a03: Pulling fs layer\n",
      "4698168f5888: Pulling fs layer\n",
      "86de3d566666: Pulling fs layer\n",
      "30d00d530989: Pulling fs layer\n",
      "69a2bfee9a44: Pulling fs layer\n",
      "381964195b8b: Pulling fs layer\n",
      "fe1468e51d2b: Pulling fs layer\n",
      "e807ad87032f: Pulling fs layer\n",
      "0c557f25f33e: Pulling fs layer\n",
      "67cab7d11474: Pulling fs layer\n",
      "4f4fb700ef54: Pulling fs layer\n",
      "999747c8e1ca: Pulling fs layer\n",
      "e92bc58784f1: Pulling fs layer\n",
      "a9d25440a572: Pulling fs layer\n",
      "ee75ae25ade1: Pulling fs layer\n",
      "b13c015c05f0: Pulling fs layer\n",
      "8f0d2639aefc: Pulling fs layer\n",
      "11646adc2850: Pulling fs layer\n",
      "86de3d566666: Waiting\n",
      "381964195b8b: Waiting\n",
      "14c7723c1bbe: Pulling fs layer\n",
      "6252b7e4a35a: Pulling fs layer\n",
      "30d00d530989: Waiting\n",
      "fe1468e51d2b: Waiting\n",
      "ae96ea101185: Pulling fs layer\n",
      "69a2bfee9a44: Waiting\n",
      "8553e38f9d3b: Pulling fs layer\n",
      "b4375d47e797: Pulling fs layer\n",
      "999747c8e1ca: Waiting\n",
      "e807ad87032f: Waiting\n",
      "906cdf1c6b78: Pulling fs layer\n",
      "e92bc58784f1: Waiting\n",
      "d70342317ce5: Pulling fs layer\n",
      "0c557f25f33e: Waiting\n",
      "a9d25440a572: Waiting\n",
      "acea7e9af8f8: Pulling fs layer\n",
      "ee75ae25ade1: Waiting\n",
      "67cab7d11474: Waiting\n",
      "b13c015c05f0: Waiting\n",
      "e9ec5ae321aa: Pulling fs layer\n",
      "4f4fb700ef54: Waiting\n",
      "8f0d2639aefc: Waiting\n",
      "32eed1f081f7: Pulling fs layer\n",
      "4b5c1c89bd3d: Pulling fs layer\n",
      "11646adc2850: Waiting\n",
      "80c2cbe5e4a8: Pulling fs layer\n",
      "14c7723c1bbe: Waiting\n",
      "85c3c971789d: Pulling fs layer\n",
      "6252b7e4a35a: Waiting\n",
      "fa58d293bde3: Pulling fs layer\n",
      "ae96ea101185: Waiting\n",
      "a0efb95d3b56: Pulling fs layer\n",
      "8553e38f9d3b: Waiting\n",
      "1bb05b14fb7d: Pulling fs layer\n",
      "b4375d47e797: Waiting\n",
      "3cebcf201134: Pulling fs layer\n",
      "906cdf1c6b78: Waiting\n",
      "d70342317ce5: Waiting\n",
      "acea7e9af8f8: Waiting\n",
      "e9ec5ae321aa: Waiting\n",
      "32eed1f081f7: Waiting\n",
      "4b5c1c89bd3d: Waiting\n",
      "80c2cbe5e4a8: Waiting\n",
      "85c3c971789d: Waiting\n",
      "fa58d293bde3: Waiting\n",
      "a0efb95d3b56: Waiting\n",
      "1bb05b14fb7d: Waiting\n",
      "3cebcf201134: Waiting\n",
      "d5fd17ec1767: Verifying Checksum\n",
      "d5fd17ec1767: Download complete\n",
      "086b79b77a03: Verifying Checksum\n",
      "086b79b77a03: Download complete\n",
      "86de3d566666: Download complete\n",
      "30d00d530989: Verifying Checksum\n",
      "30d00d530989: Download complete\n",
      "4698168f5888: Verifying Checksum\n",
      "4698168f5888: Download complete\n",
      "381964195b8b: Verifying Checksum\n",
      "381964195b8b: Download complete\n",
      "e807ad87032f: Download complete\n",
      "d5fd17ec1767: Pull complete\n",
      "086b79b77a03: Pull complete\n",
      "4698168f5888: Pull complete\n",
      "86de3d566666: Pull complete\n",
      "30d00d530989: Pull complete\n",
      "69a2bfee9a44: Verifying Checksum\n",
      "69a2bfee9a44: Download complete\n",
      "67cab7d11474: Verifying Checksum\n",
      "67cab7d11474: Download complete\n",
      "4f4fb700ef54: Download complete\n",
      "999747c8e1ca: Verifying Checksum\n",
      "999747c8e1ca: Download complete\n",
      "fe1468e51d2b: Verifying Checksum\n",
      "fe1468e51d2b: Download complete\n",
      "a9d25440a572: Verifying Checksum\n",
      "a9d25440a572: Download complete\n",
      "ee75ae25ade1: Verifying Checksum\n",
      "ee75ae25ade1: Download complete\n",
      "e92bc58784f1: Verifying Checksum\n",
      "e92bc58784f1: Download complete\n",
      "8f0d2639aefc: Verifying Checksum\n",
      "8f0d2639aefc: Download complete\n",
      "11646adc2850: Download complete\n",
      "14c7723c1bbe: Verifying Checksum\n",
      "14c7723c1bbe: Download complete\n",
      "6252b7e4a35a: Download complete\n",
      "ae96ea101185: Verifying Checksum\n",
      "ae96ea101185: Download complete\n",
      "8553e38f9d3b: Verifying Checksum\n",
      "8553e38f9d3b: Download complete\n",
      "b4375d47e797: Verifying Checksum\n",
      "b4375d47e797: Download complete\n",
      "906cdf1c6b78: Verifying Checksum\n",
      "906cdf1c6b78: Download complete\n",
      "d70342317ce5: Verifying Checksum\n",
      "d70342317ce5: Download complete\n",
      "b13c015c05f0: Verifying Checksum\n",
      "b13c015c05f0: Download complete\n",
      "acea7e9af8f8: Verifying Checksum\n",
      "acea7e9af8f8: Download complete\n",
      "32eed1f081f7: Download complete\n",
      "0c557f25f33e: Verifying Checksum\n",
      "0c557f25f33e: Download complete\n",
      "80c2cbe5e4a8: Verifying Checksum\n",
      "80c2cbe5e4a8: Download complete\n",
      "85c3c971789d: Verifying Checksum\n",
      "85c3c971789d: Download complete\n",
      "fa58d293bde3: Verifying Checksum\n",
      "fa58d293bde3: Download complete\n",
      "a0efb95d3b56: Verifying Checksum\n",
      "a0efb95d3b56: Download complete\n",
      "1bb05b14fb7d: Verifying Checksum\n",
      "1bb05b14fb7d: Download complete\n",
      "4b5c1c89bd3d: Verifying Checksum\n",
      "4b5c1c89bd3d: Download complete\n",
      "3cebcf201134: Download complete\n",
      "e9ec5ae321aa: Download complete\n",
      "69a2bfee9a44: Pull complete\n",
      "381964195b8b: Pull complete\n",
      "fe1468e51d2b: Pull complete\n",
      "e807ad87032f: Pull complete\n",
      "0c557f25f33e: Pull complete\n",
      "67cab7d11474: Pull complete\n",
      "4f4fb700ef54: Pull complete\n",
      "999747c8e1ca: Pull complete\n",
      "e92bc58784f1: Pull complete\n",
      "a9d25440a572: Pull complete\n",
      "ee75ae25ade1: Pull complete\n",
      "b13c015c05f0: Pull complete\n",
      "8f0d2639aefc: Pull complete\n",
      "11646adc2850: Pull complete\n",
      "14c7723c1bbe: Pull complete\n",
      "6252b7e4a35a: Pull complete\n",
      "ae96ea101185: Pull complete\n",
      "8553e38f9d3b: Pull complete\n",
      "b4375d47e797: Pull complete\n",
      "906cdf1c6b78: Pull complete\n",
      "d70342317ce5: Pull complete\n",
      "acea7e9af8f8: Pull complete\n",
      "e9ec5ae321aa: Pull complete\n",
      "32eed1f081f7: Pull complete\n",
      "4b5c1c89bd3d: Pull complete\n",
      "80c2cbe5e4a8: Pull complete\n",
      "85c3c971789d: Pull complete\n",
      "fa58d293bde3: Pull complete\n",
      "a0efb95d3b56: Pull complete\n",
      "1bb05b14fb7d: Pull complete\n",
      "3cebcf201134: Pull complete\n",
      "Digest: sha256:5d99c562fcc484d1bd104abab75267f37586d23a97a5a6e354c7828a1d2dfb83\n",
      "Status: Downloaded newer image for gcr.io/tfx-oss-public/tfx:1.8.0\n",
      " ---> 864d5f66048d\n",
      "Step 2/5 : COPY requirements.txt requirements.txt\n",
      " ---> 2c79dd8e9a8d\n",
      "Step 3/5 : RUN pip install -r requirements.txt\n",
      " ---> Running in cc7507888c32\n",
      "Collecting kfp==1.8.12\n",
      "  Downloading kfp-1.8.12.tar.gz (301 kB)\n",
      "     ━━━━━━━━━━━━━━━━━━━━━━━━━━━━━━━━━━━━━━━ 301.2/301.2 kB 7.5 MB/s eta 0:00:00\n",
      "  Preparing metadata (setup.py): started\n",
      "  Preparing metadata (setup.py): finished with status 'done'\n",
      "Requirement already satisfied: google-cloud-bigquery==2.34.3 in /opt/conda/lib/python3.7/site-packages (from -r requirements.txt (line 2)) (2.34.3)\n",
      "Requirement already satisfied: google-cloud-bigquery-storage==2.13.1 in /opt/conda/lib/python3.7/site-packages (from -r requirements.txt (line 3)) (2.13.1)\n",
      "Requirement already satisfied: google-cloud-aiplatform==1.13.0 in /opt/conda/lib/python3.7/site-packages (from -r requirements.txt (line 4)) (1.13.0)\n",
      "Collecting cloudml-hypertune==0.1.0.dev6\n",
      "  Downloading cloudml-hypertune-0.1.0.dev6.tar.gz (3.2 kB)\n",
      "  Preparing metadata (setup.py): started\n",
      "  Preparing metadata (setup.py): finished with status 'done'\n",
      "Collecting pytest\n",
      "  Downloading pytest-7.1.3-py3-none-any.whl (298 kB)\n",
      "     ━━━━━━━━━━━━━━━━━━━━━━━━━━━━━━━━━━━━━━ 298.2/298.2 kB 35.8 MB/s eta 0:00:00\n",
      "Requirement already satisfied: absl-py<2,>=0.9 in /opt/conda/lib/python3.7/site-packages (from kfp==1.8.12->-r requirements.txt (line 1)) (1.0.0)\n",
      "Requirement already satisfied: PyYAML<6,>=5.3 in /opt/conda/lib/python3.7/site-packages (from kfp==1.8.12->-r requirements.txt (line 1)) (5.4.1)\n",
      "Requirement already satisfied: google-api-core!=2.0.*,!=2.1.*,!=2.2.*,!=2.3.0,<3.0.0dev,>=1.31.5 in /opt/conda/lib/python3.7/site-packages (from kfp==1.8.12->-r requirements.txt (line 1)) (1.31.5)\n",
      "Collecting google-cloud-storage<2,>=1.20.0\n",
      "  Downloading google_cloud_storage-1.44.0-py2.py3-none-any.whl (106 kB)\n",
      "     ━━━━━━━━━━━━━━━━━━━━━━━━━━━━━━━━━━━━━━ 106.8/106.8 kB 19.3 MB/s eta 0:00:00\n",
      "Requirement already satisfied: kubernetes<19,>=8.0.0 in /opt/conda/lib/python3.7/site-packages (from kfp==1.8.12->-r requirements.txt (line 1)) (12.0.1)\n",
      "Requirement already satisfied: google-api-python-client<2,>=1.7.8 in /opt/conda/lib/python3.7/site-packages (from kfp==1.8.12->-r requirements.txt (line 1)) (1.12.11)\n",
      "Requirement already satisfied: google-auth<2,>=1.6.1 in /opt/conda/lib/python3.7/site-packages (from kfp==1.8.12->-r requirements.txt (line 1)) (1.35.0)\n",
      "Collecting requests-toolbelt<1,>=0.8.0\n",
      "  Downloading requests_toolbelt-0.9.1-py2.py3-none-any.whl (54 kB)\n",
      "     ━━━━━━━━━━━━━━━━━━━━━━━━━━━━━━━━━━━━━━━━ 54.3/54.3 kB 7.9 MB/s eta 0:00:00\n",
      "Requirement already satisfied: cloudpickle<3,>=2.0.0 in /opt/conda/lib/python3.7/site-packages (from kfp==1.8.12->-r requirements.txt (line 1)) (2.0.0)\n",
      "Collecting kfp-server-api<2.0.0,>=1.1.2\n",
      "  Downloading kfp-server-api-1.8.5.tar.gz (58 kB)\n",
      "     ━━━━━━━━━━━━━━━━━━━━━━━━━━━━━━━━━━━━━━━━ 58.1/58.1 kB 11.2 MB/s eta 0:00:00\n",
      "  Preparing metadata (setup.py): started\n",
      "  Preparing metadata (setup.py): finished with status 'done'\n",
      "Collecting jsonschema<4,>=3.0.1\n",
      "  Downloading jsonschema-3.2.0-py2.py3-none-any.whl (56 kB)\n",
      "     ━━━━━━━━━━━━━━━━━━━━━━━━━━━━━━━━━━━━━━━━ 56.3/56.3 kB 10.7 MB/s eta 0:00:00\n",
      "Collecting tabulate<1,>=0.8.6\n",
      "  Downloading tabulate-0.8.10-py3-none-any.whl (29 kB)\n",
      "Requirement already satisfied: click<9,>=7.1.2 in /opt/conda/lib/python3.7/site-packages (from kfp==1.8.12->-r requirements.txt (line 1)) (7.1.2)\n",
      "Collecting Deprecated<2,>=1.2.7\n",
      "  Downloading Deprecated-1.2.13-py2.py3-none-any.whl (9.6 kB)\n",
      "Collecting strip-hints<1,>=0.1.8\n",
      "  Downloading strip-hints-0.1.10.tar.gz (29 kB)\n",
      "  Preparing metadata (setup.py): started\n",
      "  Preparing metadata (setup.py): finished with status 'done'\n",
      "Collecting docstring-parser<1,>=0.7.3\n",
      "  Downloading docstring_parser-0.15-py3-none-any.whl (36 kB)\n",
      "Requirement already satisfied: kfp-pipeline-spec<0.2.0,>=0.1.14 in /opt/conda/lib/python3.7/site-packages (from kfp==1.8.12->-r requirements.txt (line 1)) (0.1.15)\n",
      "Collecting fire<1,>=0.3.1\n",
      "  Downloading fire-0.4.0.tar.gz (87 kB)\n",
      "     ━━━━━━━━━━━━━━━━━━━━━━━━━━━━━━━━━━━━━━━━ 87.7/87.7 kB 13.4 MB/s eta 0:00:00\n",
      "  Preparing metadata (setup.py): started\n",
      "  Preparing metadata (setup.py): finished with status 'done'\n",
      "Requirement already satisfied: protobuf<4,>=3.13.0 in /opt/conda/lib/python3.7/site-packages (from kfp==1.8.12->-r requirements.txt (line 1)) (3.20.1)\n",
      "Requirement already satisfied: uritemplate<4,>=3.0.1 in /opt/conda/lib/python3.7/site-packages (from kfp==1.8.12->-r requirements.txt (line 1)) (3.0.1)\n",
      "Requirement already satisfied: pydantic<2,>=1.8.2 in /opt/conda/lib/python3.7/site-packages (from kfp==1.8.12->-r requirements.txt (line 1)) (1.9.0)\n",
      "Collecting typer<1.0,>=0.3.2\n",
      "  Downloading typer-0.6.1-py3-none-any.whl (38 kB)\n",
      "Collecting typing-extensions<4,>=3.7.4\n",
      "  Downloading typing_extensions-3.10.0.2-py3-none-any.whl (26 kB)\n",
      "Requirement already satisfied: grpcio<2.0dev,>=1.38.1 in /opt/conda/lib/python3.7/site-packages (from google-cloud-bigquery==2.34.3->-r requirements.txt (line 2)) (1.46.1)\n",
      "Requirement already satisfied: packaging>=14.3 in /opt/conda/lib/python3.7/site-packages (from google-cloud-bigquery==2.34.3->-r requirements.txt (line 2)) (20.9)\n",
      "Requirement already satisfied: google-resumable-media<3.0dev,>=0.6.0 in /opt/conda/lib/python3.7/site-packages (from google-cloud-bigquery==2.34.3->-r requirements.txt (line 2)) (2.3.2)\n",
      "Requirement already satisfied: google-cloud-core<3.0.0dev,>=1.4.1 in /opt/conda/lib/python3.7/site-packages (from google-cloud-bigquery==2.34.3->-r requirements.txt (line 2)) (2.2.2)\n",
      "Requirement already satisfied: python-dateutil<3.0dev,>=2.7.2 in /opt/conda/lib/python3.7/site-packages (from google-cloud-bigquery==2.34.3->-r requirements.txt (line 2)) (2.8.2)\n",
      "Requirement already satisfied: requests<3.0.0dev,>=2.18.0 in /opt/conda/lib/python3.7/site-packages (from google-cloud-bigquery==2.34.3->-r requirements.txt (line 2)) (2.27.1)\n",
      "Requirement already satisfied: proto-plus>=1.15.0 in /opt/conda/lib/python3.7/site-packages (from google-cloud-bigquery==2.34.3->-r requirements.txt (line 2)) (1.20.3)\n",
      "Requirement already satisfied: google-cloud-resource-manager<3.0.0dev,>=1.3.3 in /opt/conda/lib/python3.7/site-packages (from google-cloud-aiplatform==1.13.0->-r requirements.txt (line 4)) (1.4.1)\n",
      "Collecting py>=1.8.2\n",
      "  Downloading py-1.11.0-py2.py3-none-any.whl (98 kB)\n",
      "     ━━━━━━━━━━━━━━━━━━━━━━━━━━━━━━━━━━━━━━━━ 98.7/98.7 kB 16.2 MB/s eta 0:00:00\n",
      "Requirement already satisfied: importlib-metadata>=0.12 in /opt/conda/lib/python3.7/site-packages (from pytest->-r requirements.txt (line 6)) (4.11.3)\n",
      "Collecting iniconfig\n",
      "  Downloading iniconfig-1.1.1-py2.py3-none-any.whl (5.0 kB)\n",
      "Requirement already satisfied: pluggy<2.0,>=0.12 in /opt/conda/lib/python3.7/site-packages (from pytest->-r requirements.txt (line 6)) (1.0.0)\n",
      "Requirement already satisfied: attrs>=19.2.0 in /opt/conda/lib/python3.7/site-packages (from pytest->-r requirements.txt (line 6)) (20.3.0)\n",
      "Requirement already satisfied: tomli>=1.0.0 in /opt/conda/lib/python3.7/site-packages (from pytest->-r requirements.txt (line 6)) (2.0.1)\n",
      "Requirement already satisfied: six in /opt/conda/lib/python3.7/site-packages (from absl-py<2,>=0.9->kfp==1.8.12->-r requirements.txt (line 1)) (1.16.0)\n",
      "Requirement already satisfied: wrapt<2,>=1.10 in /opt/conda/lib/python3.7/site-packages (from Deprecated<2,>=1.2.7->kfp==1.8.12->-r requirements.txt (line 1)) (1.14.1)\n",
      "Requirement already satisfied: termcolor in /opt/conda/lib/python3.7/site-packages (from fire<1,>=0.3.1->kfp==1.8.12->-r requirements.txt (line 1)) (1.1.0)\n",
      "Requirement already satisfied: googleapis-common-protos<2.0dev,>=1.6.0 in /opt/conda/lib/python3.7/site-packages (from google-api-core!=2.0.*,!=2.1.*,!=2.2.*,!=2.3.0,<3.0.0dev,>=1.31.5->kfp==1.8.12->-r requirements.txt (line 1)) (1.56.1)\n",
      "Requirement already satisfied: setuptools>=40.3.0 in /opt/conda/lib/python3.7/site-packages (from google-api-core!=2.0.*,!=2.1.*,!=2.2.*,!=2.3.0,<3.0.0dev,>=1.31.5->kfp==1.8.12->-r requirements.txt (line 1)) (59.8.0)\n",
      "Requirement already satisfied: pytz in /opt/conda/lib/python3.7/site-packages (from google-api-core!=2.0.*,!=2.1.*,!=2.2.*,!=2.3.0,<3.0.0dev,>=1.31.5->kfp==1.8.12->-r requirements.txt (line 1)) (2022.1)\n",
      "Requirement already satisfied: google-auth-httplib2>=0.0.3 in /opt/conda/lib/python3.7/site-packages (from google-api-python-client<2,>=1.7.8->kfp==1.8.12->-r requirements.txt (line 1)) (0.1.0)\n",
      "Requirement already satisfied: httplib2<1dev,>=0.15.0 in /opt/conda/lib/python3.7/site-packages (from google-api-python-client<2,>=1.7.8->kfp==1.8.12->-r requirements.txt (line 1)) (0.19.1)\n",
      "Requirement already satisfied: cachetools<5.0,>=2.0.0 in /opt/conda/lib/python3.7/site-packages (from google-auth<2,>=1.6.1->kfp==1.8.12->-r requirements.txt (line 1)) (4.2.4)\n",
      "Requirement already satisfied: rsa<5,>=3.1.4 in /opt/conda/lib/python3.7/site-packages (from google-auth<2,>=1.6.1->kfp==1.8.12->-r requirements.txt (line 1)) (4.8)\n",
      "Requirement already satisfied: pyasn1-modules>=0.2.1 in /opt/conda/lib/python3.7/site-packages (from google-auth<2,>=1.6.1->kfp==1.8.12->-r requirements.txt (line 1)) (0.2.7)\n",
      "Requirement already satisfied: grpc-google-iam-v1<0.13dev,>=0.12.3 in /opt/conda/lib/python3.7/site-packages (from google-cloud-resource-manager<3.0.0dev,>=1.3.3->google-cloud-aiplatform==1.13.0->-r requirements.txt (line 4)) (0.12.4)\n",
      "Requirement already satisfied: google-crc32c<2.0dev,>=1.0 in /opt/conda/lib/python3.7/site-packages (from google-resumable-media<3.0dev,>=0.6.0->google-cloud-bigquery==2.34.3->-r requirements.txt (line 2)) (1.1.2)\n",
      "Requirement already satisfied: zipp>=0.5 in /opt/conda/lib/python3.7/site-packages (from importlib-metadata>=0.12->pytest->-r requirements.txt (line 6)) (3.8.0)\n",
      "Requirement already satisfied: pyrsistent>=0.14.0 in /opt/conda/lib/python3.7/site-packages (from jsonschema<4,>=3.0.1->kfp==1.8.12->-r requirements.txt (line 1)) (0.18.1)\n",
      "Requirement already satisfied: urllib3>=1.15 in /opt/conda/lib/python3.7/site-packages (from kfp-server-api<2.0.0,>=1.1.2->kfp==1.8.12->-r requirements.txt (line 1)) (1.26.9)\n",
      "Requirement already satisfied: certifi in /opt/conda/lib/python3.7/site-packages (from kfp-server-api<2.0.0,>=1.1.2->kfp==1.8.12->-r requirements.txt (line 1)) (2021.10.8)\n",
      "Requirement already satisfied: requests-oauthlib in /opt/conda/lib/python3.7/site-packages (from kubernetes<19,>=8.0.0->kfp==1.8.12->-r requirements.txt (line 1)) (1.3.1)\n",
      "Requirement already satisfied: websocket-client!=0.40.0,!=0.41.*,!=0.42.*,>=0.32.0 in /opt/conda/lib/python3.7/site-packages (from kubernetes<19,>=8.0.0->kfp==1.8.12->-r requirements.txt (line 1)) (1.3.2)\n",
      "Requirement already satisfied: pyparsing>=2.0.2 in /opt/conda/lib/python3.7/site-packages (from packaging>=14.3->google-cloud-bigquery==2.34.3->-r requirements.txt (line 2)) (2.4.7)\n",
      "Requirement already satisfied: idna<4,>=2.5 in /opt/conda/lib/python3.7/site-packages (from requests<3.0.0dev,>=2.18.0->google-cloud-bigquery==2.34.3->-r requirements.txt (line 2)) (3.3)\n",
      "Requirement already satisfied: charset-normalizer~=2.0.0 in /opt/conda/lib/python3.7/site-packages (from requests<3.0.0dev,>=2.18.0->google-cloud-bigquery==2.34.3->-r requirements.txt (line 2)) (2.0.12)\n",
      "Requirement already satisfied: wheel in /opt/conda/lib/python3.7/site-packages (from strip-hints<1,>=0.1.8->kfp==1.8.12->-r requirements.txt (line 1)) (0.37.1)\n",
      "Requirement already satisfied: cffi>=1.0.0 in /opt/conda/lib/python3.7/site-packages (from google-crc32c<2.0dev,>=1.0->google-resumable-media<3.0dev,>=0.6.0->google-cloud-bigquery==2.34.3->-r requirements.txt (line 2)) (1.15.0)\n",
      "Requirement already satisfied: pyasn1<0.5.0,>=0.4.6 in /opt/conda/lib/python3.7/site-packages (from pyasn1-modules>=0.2.1->google-auth<2,>=1.6.1->kfp==1.8.12->-r requirements.txt (line 1)) (0.4.8)\n",
      "Requirement already satisfied: oauthlib>=3.0.0 in /opt/conda/lib/python3.7/site-packages (from requests-oauthlib->kubernetes<19,>=8.0.0->kfp==1.8.12->-r requirements.txt (line 1)) (3.2.0)\n",
      "Requirement already satisfied: pycparser in /opt/conda/lib/python3.7/site-packages (from cffi>=1.0.0->google-crc32c<2.0dev,>=1.0->google-resumable-media<3.0dev,>=0.6.0->google-cloud-bigquery==2.34.3->-r requirements.txt (line 2)) (2.21)\n",
      "Building wheels for collected packages: kfp, cloudml-hypertune, fire, kfp-server-api, strip-hints\n",
      "  Building wheel for kfp (setup.py): started\n",
      "  Building wheel for kfp (setup.py): finished with status 'done'\n",
      "  Created wheel for kfp: filename=kfp-1.8.12-py3-none-any.whl size=419048 sha256=5f971810d6d8d50a2d92b9336217f7bc3305bf2942b261dfa9d33c67ff3d511c\n",
      "  Stored in directory: /root/.cache/pip/wheels/54/0c/4a/3fc55077bc88cc17eacaae34c5fd3f6178c1d16d2ee3b0afdf\n",
      "  Building wheel for cloudml-hypertune (setup.py): started\n",
      "  Building wheel for cloudml-hypertune (setup.py): finished with status 'done'\n",
      "  Created wheel for cloudml-hypertune: filename=cloudml_hypertune-0.1.0.dev6-py2.py3-none-any.whl size=3987 sha256=f13a8fee74e837984ce26656d4bbf04fa567078380cc7791a849066ef7e3b074\n",
      "  Stored in directory: /root/.cache/pip/wheels/a7/ff/87/e7bed0c2741fe219b3d6da67c2431d7f7fedb183032e00f81e\n",
      "  Building wheel for fire (setup.py): started\n",
      "  Building wheel for fire (setup.py): finished with status 'done'\n",
      "  Created wheel for fire: filename=fire-0.4.0-py2.py3-none-any.whl size=115942 sha256=63098620faab7521ae73553dc330134779defe957670b512eace8a0bd6c510d0\n",
      "  Stored in directory: /root/.cache/pip/wheels/8a/67/fb/2e8a12fa16661b9d5af1f654bd199366799740a85c64981226\n",
      "  Building wheel for kfp-server-api (setup.py): started\n",
      "  Building wheel for kfp-server-api (setup.py): finished with status 'done'\n",
      "  Created wheel for kfp-server-api: filename=kfp_server_api-1.8.5-py3-none-any.whl size=99715 sha256=5425e8f829fbbb03805da47cc80acbeb312f3bab6825f7ab1062e876584cf473\n",
      "  Stored in directory: /root/.cache/pip/wheels/77/0e/7b/ed385d69453b7b754834c01d83fa9f5708ba66b4f6ed5d6a35\n",
      "  Building wheel for strip-hints (setup.py): started\n",
      "  Building wheel for strip-hints (setup.py): finished with status 'done'\n",
      "  Created wheel for strip-hints: filename=strip_hints-0.1.10-py2.py3-none-any.whl size=22302 sha256=ae56f97daaff7b5f1234e29fe211121afa459ea24fca3e2c5d8a93df267b44da\n",
      "  Stored in directory: /root/.cache/pip/wheels/5e/14/c3/6e44e9b2545f2d570b03f5b6d38c00b7534aa8abb376978363\n",
      "Successfully built kfp cloudml-hypertune fire kfp-server-api strip-hints\n",
      "Installing collected packages: typing-extensions, iniconfig, cloudml-hypertune, typer, tabulate, strip-hints, py, fire, docstring-parser, Deprecated, requests-toolbelt, kfp-server-api, jsonschema, pytest, google-cloud-storage, kfp\n",
      "  Attempting uninstall: typing-extensions\n",
      "    Found existing installation: typing_extensions 4.2.0\n",
      "    Uninstalling typing_extensions-4.2.0:\n",
      "      Successfully uninstalled typing_extensions-4.2.0\n",
      "  Attempting uninstall: jsonschema\n",
      "    Found existing installation: jsonschema 4.5.1\n",
      "    Uninstalling jsonschema-4.5.1:\n",
      "      Successfully uninstalled jsonschema-4.5.1\n",
      "  Attempting uninstall: google-cloud-storage\n",
      "    Found existing installation: google-cloud-storage 2.2.1\n",
      "    Uninstalling google-cloud-storage-2.2.1:\n",
      "      Successfully uninstalled google-cloud-storage-2.2.1\n",
      "\u001b[91mERROR: pip's dependency resolver does not currently take into account all the packages that are installed. This behaviour is the source of the following dependency conflicts.\n",
      "black 22.3.0 requires click>=8.0.0, but you have click 7.1.2 which is incompatible.\n",
      "\u001b[0mSuccessfully installed Deprecated-1.2.13 cloudml-hypertune-0.1.0.dev6 docstring-parser-0.15 fire-0.4.0 google-cloud-storage-2.1.0 iniconfig-1.1.1 jsonschema-3.2.0 kfp-1.8.12 kfp-server-api-1.8.5 py-1.11.0 pytest-7.1.3 requests-toolbelt-0.9.1 strip-hints-0.1.10 tabulate-0.8.10 typer-0.6.1 typing-extensions-3.10.0.2\n",
      "\u001b[91mWARNING: Running pip as the 'root' user can result in broken permissions and conflicting behaviour with the system package manager. It is recommended to use a virtual environment instead: https://pip.pypa.io/warnings/venv\n",
      "\u001b[0m\u001b[91mWARNING: There was an error checking the latest version of pip.\n",
      "\u001b[0mRemoving intermediate container cc7507888c32\n",
      " ---> 8a1f500b06c6\n",
      "Step 4/5 : COPY src/ src/\n",
      " ---> aa2bfe12c6be\n",
      "Step 5/5 : ENV PYTHONPATH=\"/pipeline:${PYTHONPATH}\"\n",
      " ---> Running in c8c5f9305e37\n",
      "Removing intermediate container c8c5f9305e37\n",
      " ---> a37a58246c28\n",
      "Successfully built a37a58246c28\n",
      "Successfully tagged gcr.io/mwpmltr/chicago-taxi-tips:v01\n",
      "PUSH\n",
      "Pushing gcr.io/mwpmltr/chicago-taxi-tips:v01\n",
      "The push refers to repository [gcr.io/mwpmltr/chicago-taxi-tips]\n",
      "1a21e9f90947: Preparing\n",
      "4f96c9be7d60: Preparing\n",
      "6714c42c0345: Preparing\n",
      "849f99ab0557: Preparing\n",
      "003ab0deb210: Preparing\n",
      "051b5111dbe3: Preparing\n",
      "105aac973237: Preparing\n",
      "6b279ee1dea4: Preparing\n",
      "0f5815af70ed: Preparing\n",
      "a439fe54d797: Preparing\n",
      "e5bb7384706a: Preparing\n",
      "529b51f6018a: Preparing\n",
      "4d5391a66f17: Preparing\n",
      "8776dda77d84: Preparing\n",
      "f7bf6100a736: Preparing\n",
      "2427ba19d9ab: Preparing\n",
      "c5d8ddc90738: Preparing\n",
      "f9d66d415903: Preparing\n",
      "0a0b70a03299: Preparing\n",
      "01d285020d37: Preparing\n",
      "ad52cc5ce980: Preparing\n",
      "40d867f1633d: Preparing\n",
      "695cde20e218: Preparing\n",
      "eab9c045ef1b: Preparing\n",
      "ad7c511b31df: Preparing\n",
      "cd9f5c9bd89e: Preparing\n",
      "ca40136e604d: Preparing\n",
      "5f70bf18a086: Preparing\n",
      "08e753b98db4: Preparing\n",
      "8f9243705224: Preparing\n",
      "ba42d5f65b46: Preparing\n",
      "51981f322139: Preparing\n",
      "cbe679dd18e3: Preparing\n",
      "ce07be50029c: Preparing\n",
      "7011392a3aa0: Preparing\n",
      "0cfddc66f231: Preparing\n",
      "a4a375cdde15: Preparing\n",
      "ac5045d5adeb: Preparing\n",
      "bf8cedc62fb3: Preparing\n",
      "051b5111dbe3: Waiting\n",
      "105aac973237: Waiting\n",
      "6b279ee1dea4: Waiting\n",
      "0f5815af70ed: Waiting\n",
      "695cde20e218: Waiting\n",
      "eab9c045ef1b: Waiting\n",
      "a439fe54d797: Waiting\n",
      "e5bb7384706a: Waiting\n",
      "529b51f6018a: Waiting\n",
      "4d5391a66f17: Waiting\n",
      "8776dda77d84: Waiting\n",
      "f7bf6100a736: Waiting\n",
      "2427ba19d9ab: Waiting\n",
      "c5d8ddc90738: Waiting\n",
      "f9d66d415903: Waiting\n",
      "0a0b70a03299: Waiting\n",
      "01d285020d37: Waiting\n",
      "ad52cc5ce980: Waiting\n",
      "40d867f1633d: Waiting\n",
      "ad7c511b31df: Waiting\n",
      "cbe679dd18e3: Waiting\n",
      "cd9f5c9bd89e: Waiting\n",
      "08e753b98db4: Waiting\n",
      "ca40136e604d: Waiting\n",
      "8f9243705224: Waiting\n",
      "5f70bf18a086: Waiting\n",
      "ba42d5f65b46: Waiting\n",
      "51981f322139: Waiting\n",
      "ce07be50029c: Waiting\n",
      "7011392a3aa0: Waiting\n",
      "0cfddc66f231: Waiting\n",
      "a4a375cdde15: Waiting\n",
      "bf8cedc62fb3: Waiting\n",
      "ac5045d5adeb: Waiting\n",
      "849f99ab0557: Layer already exists\n",
      "003ab0deb210: Layer already exists\n",
      "051b5111dbe3: Layer already exists\n",
      "105aac973237: Layer already exists\n",
      "6b279ee1dea4: Layer already exists\n",
      "0f5815af70ed: Layer already exists\n",
      "a439fe54d797: Layer already exists\n",
      "529b51f6018a: Layer already exists\n",
      "e5bb7384706a: Layer already exists\n",
      "4d5391a66f17: Layer already exists\n",
      "8776dda77d84: Layer already exists\n",
      "2427ba19d9ab: Layer already exists\n",
      "f7bf6100a736: Layer already exists\n",
      "c5d8ddc90738: Layer already exists\n",
      "f9d66d415903: Layer already exists\n",
      "0a0b70a03299: Layer already exists\n",
      "01d285020d37: Layer already exists\n",
      "40d867f1633d: Layer already exists\n",
      "695cde20e218: Layer already exists\n",
      "eab9c045ef1b: Layer already exists\n",
      "ad7c511b31df: Layer already exists\n",
      "ad52cc5ce980: Layer already exists\n",
      "cd9f5c9bd89e: Layer already exists\n",
      "ca40136e604d: Layer already exists\n",
      "5f70bf18a086: Layer already exists\n",
      "08e753b98db4: Layer already exists\n",
      "8f9243705224: Layer already exists\n",
      "ba42d5f65b46: Layer already exists\n",
      "51981f322139: Layer already exists\n",
      "cbe679dd18e3: Layer already exists\n",
      "7011392a3aa0: Layer already exists\n",
      "ce07be50029c: Layer already exists\n",
      "0cfddc66f231: Layer already exists\n",
      "a4a375cdde15: Layer already exists\n",
      "ac5045d5adeb: Layer already exists\n",
      "bf8cedc62fb3: Layer already exists\n",
      "6714c42c0345: Pushed\n",
      "1a21e9f90947: Pushed\n",
      "4f96c9be7d60: Pushed\n",
      "v01: digest: sha256:9fffedf5b9c16e076f5a0808ce140d6ebe990970c3fbd1458bad29c0b66eab2b size: 8513\n",
      "DONE\n",
      "--------------------------------------------------------------------------------\n",
      "ID                                    CREATE_TIME                DURATION  SOURCE                                                                                IMAGES                                STATUS\n",
      "d89a6bee-2ed8-4d2f-9068-8bc06f144e98  2022-09-11T01:09:38+00:00  3M23S     gs://mwpmltr_cloudbuild/source/1662858578.17596-4a0ddedfc85c45c7bba9cad927fb3ee8.tgz  gcr.io/mwpmltr/chicago-taxi-tips:v01  SUCCESS\n"
     ]
    }
   ],
   "source": [
    "!gcloud builds submit --tag $TFX_IMAGE_URI . --timeout=15m --machine-type=e2-highcpu-8"
   ]
  },
  {
   "cell_type": "markdown",
   "id": "98a9890d",
   "metadata": {},
   "source": [
    "### Compile pipeline"
   ]
  },
  {
   "cell_type": "code",
   "execution_count": 25,
   "id": "09c8a3a0",
   "metadata": {},
   "outputs": [],
   "source": [
    "from src.tfx_pipelines import runner\n",
    "\n",
    "pipeline_definition_file = f'{config.PIPELINE_NAME}.json'\n",
    "pipeline_definition = runner.compile_prediction_pipeline(pipeline_definition_file)"
   ]
  },
  {
   "cell_type": "markdown",
   "id": "2bc2792a",
   "metadata": {},
   "source": [
    "### Submit run to Vertex Pipelines"
   ]
  },
  {
   "cell_type": "code",
   "execution_count": 26,
   "id": "37dcc92d",
   "metadata": {},
   "outputs": [
    {
     "name": "stderr",
     "output_type": "stream",
     "text": [
      "/home/jupyter/.local/lib/python3.7/site-packages/kfp/v2/google/client/client.py:173: FutureWarning: AIPlatformClient will be deprecated in v2.0.0. Please use PipelineJob https://googleapis.dev/python/aiplatform/latest/_modules/google/cloud/aiplatform/pipeline_jobs.html in Vertex SDK. Install the SDK using \"pip install google-cloud-aiplatform\"\n",
      "  category=FutureWarning,\n"
     ]
    },
    {
     "data": {
      "text/html": [
       "See the Pipeline job <a href=\"https://console.cloud.google.com/vertex-ai/locations/us-central1/pipelines/runs/chicago-taxi-tips-classifier-v01-predict-pipeline-20220911011349?project=mwpmltr\" target=\"_blank\" >here</a>."
      ],
      "text/plain": [
       "<IPython.core.display.HTML object>"
      ]
     },
     "metadata": {},
     "output_type": "display_data"
    },
    {
     "data": {
      "text/plain": [
       "{'name': 'projects/55590906972/locations/us-central1/pipelineJobs/chicago-taxi-tips-classifier-v01-predict-pipeline-20220911011349',\n",
       " 'displayName': 'chicago-taxi-tips-classifier-v01-predict-pipeline-20220911011349',\n",
       " 'createTime': '2022-09-11T01:13:49.987038Z',\n",
       " 'updateTime': '2022-09-11T01:13:49.987038Z',\n",
       " 'pipelineSpec': {'deploymentConfig': {'@type': 'type.googleapis.com/ml_pipelines.PipelineDeploymentConfig',\n",
       "   'executors': {'bigquery_data_gen_executor': {'container': {'image': 'gcr.io/mwpmltr/chicago-taxi-tips:v01',\n",
       "      'command': ['python',\n",
       "       '-m',\n",
       "       'tfx.orchestration.kubeflow.v2.container.kubeflow_v2_run_executor'],\n",
       "      'args': ['--executor_class_path',\n",
       "       'src.tfx_pipelines.components.bigquery_data_gen_Executor',\n",
       "       '--json_serialized_invocation_args',\n",
       "       '{{$}}',\n",
       "       '--project=mwpmltr',\n",
       "       '--temp_location=gs://gcp-certification-chicago-taxi-demo/chicago-taxi-tips/temp']}},\n",
       "    'datastore_prediction_writer_executor': {'container': {'image': 'gcr.io/mwpmltr/chicago-taxi-tips:v01',\n",
       "      'command': ['python',\n",
       "       '-m',\n",
       "       'tfx.orchestration.kubeflow.v2.container.kubeflow_v2_run_executor'],\n",
       "      'args': ['--executor_class_path',\n",
       "       'src.tfx_pipelines.components.datastore_prediction_writer_Executor',\n",
       "       '--json_serialized_invocation_args',\n",
       "       '{{$}}',\n",
       "       '--project=mwpmltr',\n",
       "       '--temp_location=gs://gcp-certification-chicago-taxi-demo/chicago-taxi-tips/temp']}},\n",
       "    'vertex_batch_prediction_executor': {'container': {'image': 'gcr.io/mwpmltr/chicago-taxi-tips:v01',\n",
       "      'command': ['python',\n",
       "       '-m',\n",
       "       'tfx.orchestration.kubeflow.v2.container.kubeflow_v2_run_executor'],\n",
       "      'args': ['--executor_class_path',\n",
       "       'src.tfx_pipelines.components.vertex_batch_prediction_Executor',\n",
       "       '--json_serialized_invocation_args',\n",
       "       '{{$}}',\n",
       "       '--project=mwpmltr',\n",
       "       '--temp_location=gs://gcp-certification-chicago-taxi-demo/chicago-taxi-tips/temp']}}}},\n",
       "  'components': {'bigquery_data_gen': {'inputDefinitions': {'parameters': {'beam_args': {'type': 'STRING'},\n",
       "      'output_data_format': {'type': 'STRING'},\n",
       "      'sql_query': {'type': 'STRING'}}},\n",
       "    'outputDefinitions': {'artifacts': {'serving_dataset': {'artifactType': {'instanceSchema': 'title: tfx.Dataset\\ntype: object\\n'}}}},\n",
       "    'executorLabel': 'bigquery_data_gen_executor'},\n",
       "   'datastore_prediction_writer': {'inputDefinitions': {'artifacts': {'prediction_results': {'artifactType': {'instanceSchema': 'title: tfx.Dataset\\ntype: object\\n'}}},\n",
       "     'parameters': {'beam_args': {'type': 'STRING'},\n",
       "      'datastore_kind': {'type': 'STRING'},\n",
       "      'predictions_format': {'type': 'STRING'}}},\n",
       "    'executorLabel': 'datastore_prediction_writer_executor'},\n",
       "   'vertex_batch_prediction': {'inputDefinitions': {'artifacts': {'serving_dataset': {'artifactType': {'instanceSchema': 'title: tfx.Dataset\\ntype: object\\n'}}},\n",
       "     'parameters': {'instances_format': {'type': 'STRING'},\n",
       "      'job_resources': {'type': 'STRING'},\n",
       "      'model_display_name': {'type': 'STRING'},\n",
       "      'predictions_format': {'type': 'STRING'},\n",
       "      'project': {'type': 'STRING'},\n",
       "      'region': {'type': 'STRING'}}},\n",
       "    'outputDefinitions': {'artifacts': {'prediction_results': {'artifactType': {'instanceSchema': 'title: tfx.Dataset\\ntype: object\\n'}}}},\n",
       "    'executorLabel': 'vertex_batch_prediction_executor'}},\n",
       "  'schemaVersion': '2.0.0',\n",
       "  'root': {'dag': {'tasks': {'bigquery_data_gen': {'taskInfo': {'name': 'bigquery_data_gen'},\n",
       "      'inputs': {'parameters': {'beam_args': {'runtimeValue': {'constantValue': {'stringValue': '{\"runner\": \"DirectRunner\", \"temporary_dir\": \"gs://gcp-certification-chicago-taxi-demo/chicago-taxi-tips/temp\", \"gcs_location\": \"gs://gcp-certification-chicago-taxi-demo/chicago-taxi-tips/temp\", \"project\": \"mwpmltr\", \"region\": \"us-central1\", \"setup_file\": \"./setup.py\"}'}}},\n",
       "        'output_data_format': {'runtimeValue': {'constantValue': {'stringValue': 'jsonl'}}},\n",
       "        'sql_query': {'runtimeValue': {'constantValue': {'stringValue': \"\\n    SELECT \\n        IF(trip_month IS NULL, -1, trip_month) trip_month,\\n        IF(trip_day IS NULL, -1, trip_day) trip_day,\\n        IF(trip_day_of_week IS NULL, -1, trip_day_of_week) trip_day_of_week,\\n        IF(trip_hour IS NULL, -1, trip_hour) trip_hour,\\n        IF(trip_seconds IS NULL, -1, trip_seconds) trip_seconds,\\n        IF(trip_miles IS NULL, -1, trip_miles) trip_miles,\\n        IF(payment_type IS NULL, 'NA', payment_type) payment_type,\\n        IF(pickup_grid IS NULL, 'NA', pickup_grid) pickup_grid,\\n        IF(dropoff_grid IS NULL, 'NA', dropoff_grid) dropoff_grid,\\n        IF(euclidean IS NULL, -1, euclidean) euclidean,\\n        IF(loc_cross IS NULL, 'NA', loc_cross) loc_cross\\n    FROM playground_central.chicago_taxitrips_prep \\n    LIMIT 1000\"}}}}},\n",
       "      'cachingOptions': {'enableCache': True},\n",
       "      'componentRef': {'name': 'bigquery_data_gen'}},\n",
       "     'datastore_prediction_writer': {'taskInfo': {'name': 'datastore_prediction_writer'},\n",
       "      'inputs': {'parameters': {'beam_args': {'runtimeValue': {'constantValue': {'stringValue': '{\"runner\": \"DirectRunner\", \"temporary_dir\": \"gs://gcp-certification-chicago-taxi-demo/chicago-taxi-tips/temp\", \"gcs_location\": \"gs://gcp-certification-chicago-taxi-demo/chicago-taxi-tips/temp\", \"project\": \"mwpmltr\", \"region\": \"us-central1\", \"setup_file\": \"./setup.py\"}'}}},\n",
       "        'datastore_kind': {'runtimeValue': {'constantValue': {'stringValue': 'chicago-taxi-tips-classifier-v01-predictions'}}},\n",
       "        'predictions_format': {'runtimeValue': {'constantValue': {'stringValue': 'jsonl'}}}},\n",
       "       'artifacts': {'prediction_results': {'taskOutputArtifact': {'producerTask': 'vertex_batch_prediction',\n",
       "          'outputArtifactKey': 'prediction_results'}}}},\n",
       "      'dependentTasks': ['vertex_batch_prediction'],\n",
       "      'cachingOptions': {'enableCache': True},\n",
       "      'componentRef': {'name': 'datastore_prediction_writer'}},\n",
       "     'vertex_batch_prediction': {'taskInfo': {'name': 'vertex_batch_prediction'},\n",
       "      'inputs': {'parameters': {'instances_format': {'runtimeValue': {'constantValue': {'stringValue': 'jsonl'}}},\n",
       "        'job_resources': {'runtimeValue': {'constantValue': {'stringValue': '{\"machine_type\": \"n1-standard-2\", \"starting_replica_count\": 1, \"max_replica_count\": 10}'}}},\n",
       "        'model_display_name': {'runtimeValue': {'constantValue': {'stringValue': 'chicago-taxi-tips-classifier-v01'}}},\n",
       "        'predictions_format': {'runtimeValue': {'constantValue': {'stringValue': 'jsonl'}}},\n",
       "        'project': {'runtimeValue': {'constantValue': {'stringValue': 'mwpmltr'}}},\n",
       "        'region': {'runtimeValue': {'constantValue': {'stringValue': 'us-central1'}}}},\n",
       "       'artifacts': {'serving_dataset': {'taskOutputArtifact': {'producerTask': 'bigquery_data_gen',\n",
       "          'outputArtifactKey': 'serving_dataset'}}}},\n",
       "      'dependentTasks': ['bigquery_data_gen'],\n",
       "      'cachingOptions': {'enableCache': True},\n",
       "      'componentRef': {'name': 'vertex_batch_prediction'}}}}},\n",
       "  'sdkVersion': 'tfx-1.8.0',\n",
       "  'pipelineInfo': {'name': 'chicago-taxi-tips-classifier-v01-predict-pipeline'},\n",
       "  'deploymentSpec': {'executors': {'bigquery_data_gen_executor': {'container': {'image': 'gcr.io/mwpmltr/chicago-taxi-tips:v01',\n",
       "      'command': ['python',\n",
       "       '-m',\n",
       "       'tfx.orchestration.kubeflow.v2.container.kubeflow_v2_run_executor'],\n",
       "      'args': ['--executor_class_path',\n",
       "       'src.tfx_pipelines.components.bigquery_data_gen_Executor',\n",
       "       '--json_serialized_invocation_args',\n",
       "       '{{$}}',\n",
       "       '--project=mwpmltr',\n",
       "       '--temp_location=gs://gcp-certification-chicago-taxi-demo/chicago-taxi-tips/temp']}},\n",
       "    'datastore_prediction_writer_executor': {'container': {'image': 'gcr.io/mwpmltr/chicago-taxi-tips:v01',\n",
       "      'command': ['python',\n",
       "       '-m',\n",
       "       'tfx.orchestration.kubeflow.v2.container.kubeflow_v2_run_executor'],\n",
       "      'args': ['--executor_class_path',\n",
       "       'src.tfx_pipelines.components.datastore_prediction_writer_Executor',\n",
       "       '--json_serialized_invocation_args',\n",
       "       '{{$}}',\n",
       "       '--project=mwpmltr',\n",
       "       '--temp_location=gs://gcp-certification-chicago-taxi-demo/chicago-taxi-tips/temp']}},\n",
       "    'vertex_batch_prediction_executor': {'container': {'image': 'gcr.io/mwpmltr/chicago-taxi-tips:v01',\n",
       "      'command': ['python',\n",
       "       '-m',\n",
       "       'tfx.orchestration.kubeflow.v2.container.kubeflow_v2_run_executor'],\n",
       "      'args': ['--executor_class_path',\n",
       "       'src.tfx_pipelines.components.vertex_batch_prediction_Executor',\n",
       "       '--json_serialized_invocation_args',\n",
       "       '{{$}}',\n",
       "       '--project=mwpmltr',\n",
       "       '--temp_location=gs://gcp-certification-chicago-taxi-demo/chicago-taxi-tips/temp']}}}}},\n",
       " 'state': 'PIPELINE_STATE_PENDING',\n",
       " 'labels': {'tfx_py_version': '3-7',\n",
       "  'tfx_runner': 'kubeflow_v2',\n",
       "  'tfx_version': '1-8-0'},\n",
       " 'runtimeConfig': {'gcsOutputDirectory': 'gs://gcp-certification-chicago-taxi-demo/chicago-taxi-tips/tfx_artifacts/chicago-taxi-tips-classifier-v01-predict-pipeline'},\n",
       " 'serviceAccount': '55590906972-compute@developer.gserviceaccount.com'}"
      ]
     },
     "execution_count": 26,
     "metadata": {},
     "output_type": "execute_result"
    }
   ],
   "source": [
    "from kfp.v2.google.client import AIPlatformClient\n",
    "\n",
    "pipeline_client = AIPlatformClient(\n",
    "    project_id=PROJECT, region=REGION)\n",
    "                 \n",
    "pipeline_client.create_run_from_job_spec(\n",
    "    job_spec_path=pipeline_definition_file\n",
    ")"
   ]
  },
  {
   "cell_type": "code",
   "execution_count": null,
   "id": "5e0d5bef",
   "metadata": {},
   "outputs": [],
   "source": []
  }
 ],
 "metadata": {
  "environment": {
   "kernel": "python3",
   "name": "common-cpu.m93",
   "type": "gcloud",
   "uri": "gcr.io/deeplearning-platform-release/base-cpu:m93"
  },
  "kernelspec": {
   "display_name": "Python 3",
   "language": "python",
   "name": "python3"
  },
  "language_info": {
   "codemirror_mode": {
    "name": "ipython",
    "version": 3
   },
   "file_extension": ".py",
   "mimetype": "text/x-python",
   "name": "python",
   "nbconvert_exporter": "python",
   "pygments_lexer": "ipython3",
   "version": "3.7.12"
  }
 },
 "nbformat": 4,
 "nbformat_minor": 5
}

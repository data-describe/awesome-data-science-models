{
 "cells": [
  {
   "cell_type": "markdown",
   "id": "5043bfb9",
   "metadata": {},
   "source": [
    "# 05 - Continuous Training\n",
    "\n",
    "After testing, compiling, and uploading the pipeline definition to Cloud Storage, the pipeline is executed with respect to a trigger. We use [Cloud Functions](https://cloud.google.com/functions) and [Cloud Pub/Sub](https://cloud.google.com/pubsub) as a triggering mechanism. The triggering can be scheduled using [Cloud Scheduler](https://cloud.google.com/scheduler). The trigger source sends a message to a Cloud Pub/Sub topic that the Cloud Function listens to, and then it submits the pipeline to AI Platform Managed Pipelines to be executed.\n",
    "\n",
    "This notebook covers the following steps:\n",
    "1. Create the Cloud Pub/Sub topic.\n",
    "2. Deploy the Cloud Function \n",
    "3. Test triggering a pipeline.\n",
    "4. Extracting pipeline run metadata."
   ]
  },
  {
   "cell_type": "markdown",
   "id": "6f2f9013",
   "metadata": {},
   "source": [
    "## Setup"
   ]
  },
  {
   "cell_type": "markdown",
   "id": "a0e71c08",
   "metadata": {},
   "source": [
    "### Import libraries"
   ]
  },
  {
   "cell_type": "code",
   "execution_count": 1,
   "id": "37cefa26",
   "metadata": {},
   "outputs": [
    {
     "name": "stderr",
     "output_type": "stream",
     "text": [
      "2022-09-11 00:05:26.497687: W tensorflow/stream_executor/platform/default/dso_loader.cc:64] Could not load dynamic library 'libcudart.so.11.0'; dlerror: libcudart.so.11.0: cannot open shared object file: No such file or directory\n",
      "2022-09-11 00:05:26.497730: I tensorflow/stream_executor/cuda/cudart_stub.cc:29] Ignore above cudart dlerror if you do not have a GPU set up on your machine.\n"
     ]
    },
    {
     "name": "stdout",
     "output_type": "stream",
     "text": [
      "Tensorflow Version: 1.8.0\n"
     ]
    }
   ],
   "source": [
    "import json\n",
    "import os\n",
    "import logging\n",
    "import tensorflow as tf\n",
    "import tfx\n",
    "import IPython \n",
    "\n",
    "logging.getLogger().setLevel(logging.INFO)\n",
    "\n",
    "print(\"Tensorflow Version:\", tfx.__version__)"
   ]
  },
  {
   "cell_type": "markdown",
   "id": "ab763d6d",
   "metadata": {},
   "source": [
    "### Setup Google Cloud project"
   ]
  },
  {
   "cell_type": "code",
   "execution_count": 2,
   "id": "5260d069",
   "metadata": {},
   "outputs": [
    {
     "name": "stdout",
     "output_type": "stream",
     "text": [
      "Project ID: mwpmltr\n",
      "Region: us-central1\n",
      "Bucket name: gcp-certification-chicago-taxi-demo\n"
     ]
    }
   ],
   "source": [
    "PROJECT = 'mwpmltr' # Change to your project id.\n",
    "REGION = 'us-central1' # Change to your region.\n",
    "BUCKET = 'gcp-certification-chicago-taxi-demo' # Change to your bucket name.\n",
    "\n",
    "if PROJECT == \"\" or PROJECT is None or PROJECT == \"[your-project-id]\":\n",
    "    # Get your GCP project id from gcloud\n",
    "    shell_output = !gcloud config list --format 'value(core.project)' 2>/dev/null\n",
    "    PROJECT = shell_output[0]\n",
    "    \n",
    "if BUCKET == \"\" or BUCKET is None or BUCKET == \"[your-bucket-name]\":\n",
    "    # Get your bucket name to GCP projet id\n",
    "    BUCKET = PROJECT\n",
    "\n",
    "print(\"Project ID:\", PROJECT)\n",
    "print(\"Region:\", REGION)\n",
    "print(\"Bucket name:\", BUCKET)"
   ]
  },
  {
   "cell_type": "markdown",
   "id": "85dd5e16",
   "metadata": {},
   "source": [
    "### Set configurations"
   ]
  },
  {
   "cell_type": "code",
   "execution_count": 3,
   "id": "171a800f",
   "metadata": {},
   "outputs": [],
   "source": [
    "VERSION = 'v01'\n",
    "DATASET_DISPLAY_NAME = 'chicago-taxi-tips'\n",
    "MODEL_DISPLAY_NAME = f'{DATASET_DISPLAY_NAME}-classifier-{VERSION}'\n",
    "PIPELINE_NAME = f'{MODEL_DISPLAY_NAME}-train-pipeline'\n",
    "\n",
    "PIPELINES_STORE = f'gs://{BUCKET}/{DATASET_DISPLAY_NAME}/compiled_pipelines/'\n",
    "GCS_PIPELINE_FILE_LOCATION = os.path.join(PIPELINES_STORE, f'{PIPELINE_NAME}.json')\n",
    "PUBSUB_TOPIC = f'trigger-{PIPELINE_NAME}'\n",
    "CLOUD_FUNCTION_NAME = f'trigger-{PIPELINE_NAME}-fn'"
   ]
  },
  {
   "cell_type": "code",
   "execution_count": 4,
   "id": "016df25c",
   "metadata": {},
   "outputs": [
    {
     "name": "stdout",
     "output_type": "stream",
     "text": [
      "gs://gcp-certification-chicago-taxi-demo/chicago-taxi-tips/compiled_pipelines/chicago-taxi-tips-classifier-v01-train-pipeline.json\n"
     ]
    }
   ],
   "source": [
    "!gsutil ls {GCS_PIPELINE_FILE_LOCATION}"
   ]
  },
  {
   "cell_type": "markdown",
   "id": "76d82223",
   "metadata": {},
   "source": [
    "## 1. Create a Pub/Sub topic"
   ]
  },
  {
   "cell_type": "code",
   "execution_count": 5,
   "id": "0c1032c6",
   "metadata": {},
   "outputs": [
    {
     "name": "stdout",
     "output_type": "stream",
     "text": [
      "\u001b[1;31mERROR:\u001b[0m Failed to create topic [projects/mwpmltr/topics/trigger-chicago-taxi-tips-classifier-v01-train-pipeline]: Resource already exists in the project (resource=trigger-chicago-taxi-tips-classifier-v01-train-pipeline).\n",
      "\u001b[1;31mERROR:\u001b[0m (gcloud.pubsub.topics.create) Failed to create the following: [trigger-chicago-taxi-tips-classifier-v01-train-pipeline].\n"
     ]
    }
   ],
   "source": [
    "!gcloud pubsub topics create {PUBSUB_TOPIC}"
   ]
  },
  {
   "cell_type": "markdown",
   "id": "08de54ef",
   "metadata": {},
   "source": [
    "## 2. Deploy the Cloud Function"
   ]
  },
  {
   "cell_type": "code",
   "execution_count": 6,
   "id": "8597ad8d",
   "metadata": {},
   "outputs": [
    {
     "name": "stdout",
     "output_type": "stream",
     "text": [
      "PROJECT=mwpmltr,REGION=us-central1,GCS_PIPELINE_FILE_LOCATION=gs://gcp-certification-chicago-taxi-demo/chicago-taxi-tips/compiled_pipelines/chicago-taxi-tips-classifier-v01-train-pipeline.json\n"
     ]
    }
   ],
   "source": [
    "ENV_VARS=f\"\"\"\\\n",
    "PROJECT={PROJECT},\\\n",
    "REGION={REGION},\\\n",
    "GCS_PIPELINE_FILE_LOCATION={GCS_PIPELINE_FILE_LOCATION}\n",
    "\"\"\"\n",
    "\n",
    "!echo {ENV_VARS}"
   ]
  },
  {
   "cell_type": "code",
   "execution_count": 7,
   "id": "01a3d62a",
   "metadata": {},
   "outputs": [
    {
     "name": "stdout",
     "output_type": "stream",
     "text": [
      "rm: cannot remove 'src/pipeline_triggering/.ipynb_checkpoints': No such file or directory\n"
     ]
    }
   ],
   "source": [
    "!rm -r src/pipeline_triggering/.ipynb_checkpoints"
   ]
  },
  {
   "cell_type": "code",
   "execution_count": 8,
   "id": "b5acdb73",
   "metadata": {},
   "outputs": [
    {
     "name": "stdout",
     "output_type": "stream",
     "text": [
      "Deploying function (may take a while - up to 2 minutes)...⠹                    \n",
      "For Cloud Build Logs, visit: https://console.cloud.google.com/cloud-build/builds;region=us-central1/e17c45df-e4f2-4649-b9e5-becc769837f5?project=55590906972\n",
      "Deploying function (may take a while - up to 2 minutes)...done.                \n",
      "availableMemoryMb: 256\n",
      "buildId: e17c45df-e4f2-4649-b9e5-becc769837f5\n",
      "buildName: projects/55590906972/locations/us-central1/builds/e17c45df-e4f2-4649-b9e5-becc769837f5\n",
      "dockerRegistry: CONTAINER_REGISTRY\n",
      "entryPoint: trigger_pipeline\n",
      "environmentVariables:\n",
      "  GCS_PIPELINE_FILE_LOCATION: gs://gcp-certification-chicago-taxi-demo/chicago-taxi-tips/compiled_pipelines/chicago-taxi-tips-classifier-v01-train-pipeline.json\n",
      "  PROJECT: mwpmltr\n",
      "  REGION: us-central1\n",
      "eventTrigger:\n",
      "  eventType: google.pubsub.topic.publish\n",
      "  failurePolicy: {}\n",
      "  resource: projects/mwpmltr/topics/trigger-chicago-taxi-tips-classifier-v01-train-pipeline\n",
      "  service: pubsub.googleapis.com\n",
      "ingressSettings: ALLOW_ALL\n",
      "labels:\n",
      "  deployment-tool: cli-gcloud\n",
      "name: projects/mwpmltr/locations/us-central1/functions/trigger-chicago-taxi-tips-classifier-v01-train-pipeline-fn\n",
      "runtime: python37\n",
      "serviceAccountEmail: mwpmltr@appspot.gserviceaccount.com\n",
      "sourceArchiveUrl: gs://gcp-certification-chicago-taxi-demo/us-central1-projects/mwpmltr/locations/us-central1/functions/trigger-chicago-taxi-tips-classifier-v01-train-pipeline-fn-sivngfhshhux.zip\n",
      "status: ACTIVE\n",
      "timeout: 60s\n",
      "updateTime: '2022-09-11T00:08:05.039Z'\n",
      "versionId: '2'\n"
     ]
    }
   ],
   "source": [
    "!gcloud functions deploy {CLOUD_FUNCTION_NAME} \\\n",
    "    --region={REGION} \\\n",
    "    --trigger-topic={PUBSUB_TOPIC} \\\n",
    "    --runtime=python37 \\\n",
    "    --source=src/pipeline_triggering\\\n",
    "    --entry-point=trigger_pipeline\\\n",
    "    --stage-bucket={BUCKET}\\\n",
    "    --update-env-vars={ENV_VARS}"
   ]
  },
  {
   "cell_type": "code",
   "execution_count": 9,
   "id": "5a5c41af",
   "metadata": {},
   "outputs": [
    {
     "data": {
      "text/html": [
       "See the Cloud Function details <a href=\"https://console.cloud.google.com/functions/details/us-central1/trigger-chicago-taxi-tips-classifier-v01-train-pipeline-fn\" target=\"_blank\">here</a>."
      ],
      "text/plain": [
       "<IPython.core.display.HTML object>"
      ]
     },
     "metadata": {},
     "output_type": "display_data"
    }
   ],
   "source": [
    "cloud_fn_url = f\"https://console.cloud.google.com/functions/details/{REGION}/{CLOUD_FUNCTION_NAME}\"\n",
    "html = f'See the Cloud Function details <a href=\"{cloud_fn_url}\" target=\"_blank\">here</a>.'\n",
    "IPython.display.display(IPython.display.HTML(html))"
   ]
  },
  {
   "cell_type": "markdown",
   "id": "ebbe047a",
   "metadata": {},
   "source": [
    "## 3. Trigger the pipeline"
   ]
  },
  {
   "cell_type": "code",
   "execution_count": 10,
   "id": "0c30028d",
   "metadata": {},
   "outputs": [],
   "source": [
    "from google.cloud import pubsub\n",
    "\n",
    "publish_client = pubsub.PublisherClient()\n",
    "topic = f'projects/{PROJECT}/topics/{PUBSUB_TOPIC}'\n",
    "data = {\n",
    "    'num_epochs': 3,\n",
    "    'learning_rate': 0.0015,\n",
    "    'batch_size': 512,\n",
    "    'hidden_units': '256,126'\n",
    "}\n",
    "message = json.dumps(data)\n",
    "\n",
    "_ = publish_client.publish(topic, message.encode())"
   ]
  },
  {
   "cell_type": "markdown",
   "id": "7ba049fe",
   "metadata": {},
   "source": [
    "Wait for a few seconds for the pipeline run to be submitted, then you can see the run in the Cloud Console"
   ]
  },
  {
   "cell_type": "code",
   "execution_count": 11,
   "id": "0dc29797",
   "metadata": {},
   "outputs": [
    {
     "name": "stderr",
     "output_type": "stream",
     "text": [
      "/home/jupyter/.local/lib/python3.7/site-packages/kfp/v2/google/client/client.py:173: FutureWarning: AIPlatformClient will be deprecated in v2.0.0. Please use PipelineJob https://googleapis.dev/python/aiplatform/latest/_modules/google/cloud/aiplatform/pipeline_jobs.html in Vertex SDK. Install the SDK using \"pip install google-cloud-aiplatform\"\n",
      "  category=FutureWarning,\n"
     ]
    },
    {
     "data": {
      "text/html": [
       "See the Pipeline job <a href=\"https://console.cloud.google.com/vertex-ai/locations/us-central1/pipelines/runs/chicago-taxi-tips-classifier-v01-train-pipeline-20220910235402\" target=\"_blank\">here</a>."
      ],
      "text/plain": [
       "<IPython.core.display.HTML object>"
      ]
     },
     "metadata": {},
     "output_type": "display_data"
    }
   ],
   "source": [
    "from kfp.v2.google.client import AIPlatformClient\n",
    "\n",
    "pipeline_client = AIPlatformClient(\n",
    "    project_id=PROJECT, region=REGION)\n",
    " \n",
    "job_display_name = pipeline_client.list_jobs()['pipelineJobs'][0]['displayName']\n",
    "job_url = f\"https://console.cloud.google.com/vertex-ai/locations/{REGION}/pipelines/runs/{job_display_name}\"\n",
    "html = f'See the Pipeline job <a href=\"{job_url}\" target=\"_blank\">here</a>.'\n",
    "IPython.display.display(IPython.display.HTML(html))"
   ]
  },
  {
   "cell_type": "markdown",
   "id": "b4b3ff42",
   "metadata": {},
   "source": [
    "## 4. Extracting pipeline runs metadata"
   ]
  },
  {
   "cell_type": "code",
   "execution_count": 12,
   "id": "b13c1b19",
   "metadata": {},
   "outputs": [
    {
     "data": {
      "text/html": [
       "<div>\n",
       "<style scoped>\n",
       "    .dataframe tbody tr th:only-of-type {\n",
       "        vertical-align: middle;\n",
       "    }\n",
       "\n",
       "    .dataframe tbody tr th {\n",
       "        vertical-align: top;\n",
       "    }\n",
       "\n",
       "    .dataframe thead th {\n",
       "        text-align: right;\n",
       "    }\n",
       "</style>\n",
       "<table border=\"1\" class=\"dataframe\">\n",
       "  <thead>\n",
       "    <tr style=\"text-align: right;\">\n",
       "      <th></th>\n",
       "      <th>0</th>\n",
       "      <th>1</th>\n",
       "      <th>2</th>\n",
       "      <th>3</th>\n",
       "      <th>4</th>\n",
       "      <th>5</th>\n",
       "      <th>6</th>\n",
       "      <th>7</th>\n",
       "      <th>8</th>\n",
       "      <th>9</th>\n",
       "      <th>10</th>\n",
       "      <th>11</th>\n",
       "      <th>12</th>\n",
       "      <th>13</th>\n",
       "      <th>14</th>\n",
       "      <th>15</th>\n",
       "    </tr>\n",
       "  </thead>\n",
       "  <tbody>\n",
       "    <tr>\n",
       "      <th>pipeline_name</th>\n",
       "      <td>chicago-taxi-tips-classifier-v01-train-pipeline</td>\n",
       "      <td>chicago-taxi-tips-classifier-v01-train-pipeline</td>\n",
       "      <td>chicago-taxi-tips-classifier-v01-train-pipeline</td>\n",
       "      <td>chicago-taxi-tips-classifier-v01-train-pipeline</td>\n",
       "      <td>chicago-taxi-tips-classifier-v01-train-pipeline</td>\n",
       "      <td>chicago-taxi-tips-classifier-v01-train-pipeline</td>\n",
       "      <td>chicago-taxi-tips-classifier-v01-train-pipeline</td>\n",
       "      <td>chicago-taxi-tips-classifier-v01-train-pipeline</td>\n",
       "      <td>chicago-taxi-tips-classifier-v01-train-pipeline</td>\n",
       "      <td>chicago-taxi-tips-classifier-v01-train-pipeline</td>\n",
       "      <td>chicago-taxi-tips-classifier-v01-train-pipeline</td>\n",
       "      <td>chicago-taxi-tips-classifier-v01-train-pipeline</td>\n",
       "      <td>chicago-taxi-tips-classifier-v01-train-pipeline</td>\n",
       "      <td>chicago-taxi-tips-classifier-v01-train-pipeline</td>\n",
       "      <td>chicago-taxi-tips-classifier-v01-train-pipeline</td>\n",
       "      <td>chicago-taxi-tips-classifier-v01-train-pipeline</td>\n",
       "    </tr>\n",
       "    <tr>\n",
       "      <th>run_name</th>\n",
       "      <td>chicago-taxi-tips-classifier-v01-train-pipelin...</td>\n",
       "      <td>chicago-taxi-tips-classifier-v01-train-pipelin...</td>\n",
       "      <td>chicago-taxi-tips-classifier-v01-train-pipelin...</td>\n",
       "      <td>chicago-taxi-tips-classifier-v01-train-pipelin...</td>\n",
       "      <td>chicago-taxi-tips-classifier-v01-train-pipelin...</td>\n",
       "      <td>chicago-taxi-tips-classifier-v01-train-pipelin...</td>\n",
       "      <td>chicago-taxi-tips-classifier-v01-train-pipelin...</td>\n",
       "      <td>chicago-taxi-tips-classifier-v01-train-pipelin...</td>\n",
       "      <td>chicago-taxi-tips-classifier-v01-train-pipelin...</td>\n",
       "      <td>chicago-taxi-tips-classifier-v01-train-pipelin...</td>\n",
       "      <td>chicago-taxi-tips-classifier-v01-train-pipelin...</td>\n",
       "      <td>chicago-taxi-tips-classifier-v01-train-pipelin...</td>\n",
       "      <td>chicago-taxi-tips-classifier-v01-train-pipelin...</td>\n",
       "      <td>chicago-taxi-tips-classifier-v01-train-pipelin...</td>\n",
       "      <td>chicago-taxi-tips-classifier-v01-train-pipelin...</td>\n",
       "      <td>chicago-taxi-tips-classifier-v01-train-pipelin...</td>\n",
       "    </tr>\n",
       "    <tr>\n",
       "      <th>param.input:learning_rate</th>\n",
       "      <td>0.003</td>\n",
       "      <td>0.003</td>\n",
       "      <td>0.0015</td>\n",
       "      <td>0.003</td>\n",
       "      <td>0.003</td>\n",
       "      <td>0.003</td>\n",
       "      <td>0.003</td>\n",
       "      <td>0.003</td>\n",
       "      <td>0.003</td>\n",
       "      <td>0.003</td>\n",
       "      <td>0.003</td>\n",
       "      <td>0.003</td>\n",
       "      <td>0.003</td>\n",
       "      <td>0.003</td>\n",
       "      <td>0.003</td>\n",
       "      <td>0.003</td>\n",
       "    </tr>\n",
       "    <tr>\n",
       "      <th>param.input:batch_size</th>\n",
       "      <td>512</td>\n",
       "      <td>512</td>\n",
       "      <td>512</td>\n",
       "      <td>512</td>\n",
       "      <td>512</td>\n",
       "      <td>512</td>\n",
       "      <td>512</td>\n",
       "      <td>512</td>\n",
       "      <td>512</td>\n",
       "      <td>512</td>\n",
       "      <td>512</td>\n",
       "      <td>512</td>\n",
       "      <td>512</td>\n",
       "      <td>512</td>\n",
       "      <td>512</td>\n",
       "      <td>512</td>\n",
       "    </tr>\n",
       "    <tr>\n",
       "      <th>param.input:num_epochs</th>\n",
       "      <td>30</td>\n",
       "      <td>30</td>\n",
       "      <td>3</td>\n",
       "      <td>30</td>\n",
       "      <td>1</td>\n",
       "      <td>1</td>\n",
       "      <td>1</td>\n",
       "      <td>1</td>\n",
       "      <td>30</td>\n",
       "      <td>30</td>\n",
       "      <td>30</td>\n",
       "      <td>30</td>\n",
       "      <td>30</td>\n",
       "      <td>30</td>\n",
       "      <td>30</td>\n",
       "      <td>30</td>\n",
       "    </tr>\n",
       "    <tr>\n",
       "      <th>param.input:hidden_units</th>\n",
       "      <td>128,128</td>\n",
       "      <td>128,128</td>\n",
       "      <td>256,126</td>\n",
       "      <td>128,128</td>\n",
       "      <td>128,128</td>\n",
       "      <td>128,128</td>\n",
       "      <td>128,128</td>\n",
       "      <td>128,128</td>\n",
       "      <td>128,128</td>\n",
       "      <td>128,128</td>\n",
       "      <td>128,128</td>\n",
       "      <td>128,128</td>\n",
       "      <td>128,128</td>\n",
       "      <td>128,128</td>\n",
       "      <td>128,128</td>\n",
       "      <td>128,128</td>\n",
       "    </tr>\n",
       "  </tbody>\n",
       "</table>\n",
       "</div>"
      ],
      "text/plain": [
       "                                                                          0   \\\n",
       "pipeline_name                chicago-taxi-tips-classifier-v01-train-pipeline   \n",
       "run_name                   chicago-taxi-tips-classifier-v01-train-pipelin...   \n",
       "param.input:learning_rate                                              0.003   \n",
       "param.input:batch_size                                                   512   \n",
       "param.input:num_epochs                                                    30   \n",
       "param.input:hidden_units                                             128,128   \n",
       "\n",
       "                                                                          1   \\\n",
       "pipeline_name                chicago-taxi-tips-classifier-v01-train-pipeline   \n",
       "run_name                   chicago-taxi-tips-classifier-v01-train-pipelin...   \n",
       "param.input:learning_rate                                              0.003   \n",
       "param.input:batch_size                                                   512   \n",
       "param.input:num_epochs                                                    30   \n",
       "param.input:hidden_units                                             128,128   \n",
       "\n",
       "                                                                          2   \\\n",
       "pipeline_name                chicago-taxi-tips-classifier-v01-train-pipeline   \n",
       "run_name                   chicago-taxi-tips-classifier-v01-train-pipelin...   \n",
       "param.input:learning_rate                                             0.0015   \n",
       "param.input:batch_size                                                   512   \n",
       "param.input:num_epochs                                                     3   \n",
       "param.input:hidden_units                                             256,126   \n",
       "\n",
       "                                                                          3   \\\n",
       "pipeline_name                chicago-taxi-tips-classifier-v01-train-pipeline   \n",
       "run_name                   chicago-taxi-tips-classifier-v01-train-pipelin...   \n",
       "param.input:learning_rate                                              0.003   \n",
       "param.input:batch_size                                                   512   \n",
       "param.input:num_epochs                                                    30   \n",
       "param.input:hidden_units                                             128,128   \n",
       "\n",
       "                                                                          4   \\\n",
       "pipeline_name                chicago-taxi-tips-classifier-v01-train-pipeline   \n",
       "run_name                   chicago-taxi-tips-classifier-v01-train-pipelin...   \n",
       "param.input:learning_rate                                              0.003   \n",
       "param.input:batch_size                                                   512   \n",
       "param.input:num_epochs                                                     1   \n",
       "param.input:hidden_units                                             128,128   \n",
       "\n",
       "                                                                          5   \\\n",
       "pipeline_name                chicago-taxi-tips-classifier-v01-train-pipeline   \n",
       "run_name                   chicago-taxi-tips-classifier-v01-train-pipelin...   \n",
       "param.input:learning_rate                                              0.003   \n",
       "param.input:batch_size                                                   512   \n",
       "param.input:num_epochs                                                     1   \n",
       "param.input:hidden_units                                             128,128   \n",
       "\n",
       "                                                                          6   \\\n",
       "pipeline_name                chicago-taxi-tips-classifier-v01-train-pipeline   \n",
       "run_name                   chicago-taxi-tips-classifier-v01-train-pipelin...   \n",
       "param.input:learning_rate                                              0.003   \n",
       "param.input:batch_size                                                   512   \n",
       "param.input:num_epochs                                                     1   \n",
       "param.input:hidden_units                                             128,128   \n",
       "\n",
       "                                                                          7   \\\n",
       "pipeline_name                chicago-taxi-tips-classifier-v01-train-pipeline   \n",
       "run_name                   chicago-taxi-tips-classifier-v01-train-pipelin...   \n",
       "param.input:learning_rate                                              0.003   \n",
       "param.input:batch_size                                                   512   \n",
       "param.input:num_epochs                                                     1   \n",
       "param.input:hidden_units                                             128,128   \n",
       "\n",
       "                                                                          8   \\\n",
       "pipeline_name                chicago-taxi-tips-classifier-v01-train-pipeline   \n",
       "run_name                   chicago-taxi-tips-classifier-v01-train-pipelin...   \n",
       "param.input:learning_rate                                              0.003   \n",
       "param.input:batch_size                                                   512   \n",
       "param.input:num_epochs                                                    30   \n",
       "param.input:hidden_units                                             128,128   \n",
       "\n",
       "                                                                          9   \\\n",
       "pipeline_name                chicago-taxi-tips-classifier-v01-train-pipeline   \n",
       "run_name                   chicago-taxi-tips-classifier-v01-train-pipelin...   \n",
       "param.input:learning_rate                                              0.003   \n",
       "param.input:batch_size                                                   512   \n",
       "param.input:num_epochs                                                    30   \n",
       "param.input:hidden_units                                             128,128   \n",
       "\n",
       "                                                                          10  \\\n",
       "pipeline_name                chicago-taxi-tips-classifier-v01-train-pipeline   \n",
       "run_name                   chicago-taxi-tips-classifier-v01-train-pipelin...   \n",
       "param.input:learning_rate                                              0.003   \n",
       "param.input:batch_size                                                   512   \n",
       "param.input:num_epochs                                                    30   \n",
       "param.input:hidden_units                                             128,128   \n",
       "\n",
       "                                                                          11  \\\n",
       "pipeline_name                chicago-taxi-tips-classifier-v01-train-pipeline   \n",
       "run_name                   chicago-taxi-tips-classifier-v01-train-pipelin...   \n",
       "param.input:learning_rate                                              0.003   \n",
       "param.input:batch_size                                                   512   \n",
       "param.input:num_epochs                                                    30   \n",
       "param.input:hidden_units                                             128,128   \n",
       "\n",
       "                                                                          12  \\\n",
       "pipeline_name                chicago-taxi-tips-classifier-v01-train-pipeline   \n",
       "run_name                   chicago-taxi-tips-classifier-v01-train-pipelin...   \n",
       "param.input:learning_rate                                              0.003   \n",
       "param.input:batch_size                                                   512   \n",
       "param.input:num_epochs                                                    30   \n",
       "param.input:hidden_units                                             128,128   \n",
       "\n",
       "                                                                          13  \\\n",
       "pipeline_name                chicago-taxi-tips-classifier-v01-train-pipeline   \n",
       "run_name                   chicago-taxi-tips-classifier-v01-train-pipelin...   \n",
       "param.input:learning_rate                                              0.003   \n",
       "param.input:batch_size                                                   512   \n",
       "param.input:num_epochs                                                    30   \n",
       "param.input:hidden_units                                             128,128   \n",
       "\n",
       "                                                                          14  \\\n",
       "pipeline_name                chicago-taxi-tips-classifier-v01-train-pipeline   \n",
       "run_name                   chicago-taxi-tips-classifier-v01-train-pipelin...   \n",
       "param.input:learning_rate                                              0.003   \n",
       "param.input:batch_size                                                   512   \n",
       "param.input:num_epochs                                                    30   \n",
       "param.input:hidden_units                                             128,128   \n",
       "\n",
       "                                                                          15  \n",
       "pipeline_name                chicago-taxi-tips-classifier-v01-train-pipeline  \n",
       "run_name                   chicago-taxi-tips-classifier-v01-train-pipelin...  \n",
       "param.input:learning_rate                                              0.003  \n",
       "param.input:batch_size                                                   512  \n",
       "param.input:num_epochs                                                    30  \n",
       "param.input:hidden_units                                             128,128  "
      ]
     },
     "execution_count": 12,
     "metadata": {},
     "output_type": "execute_result"
    }
   ],
   "source": [
    "from google.cloud import aiplatform as vertex_ai\n",
    "\n",
    "pipeline_df = vertex_ai.get_pipeline_df(PIPELINE_NAME)\n",
    "pipeline_df = pipeline_df[pipeline_df.pipeline_name == PIPELINE_NAME]\n",
    "pipeline_df.T"
   ]
  },
  {
   "cell_type": "code",
   "execution_count": null,
   "id": "9254cbc3",
   "metadata": {},
   "outputs": [],
   "source": []
  }
 ],
 "metadata": {
  "environment": {
   "kernel": "python3",
   "name": "common-cpu.m93",
   "type": "gcloud",
   "uri": "gcr.io/deeplearning-platform-release/base-cpu:m93"
  },
  "kernelspec": {
   "display_name": "Python 3",
   "language": "python",
   "name": "python3"
  },
  "language_info": {
   "codemirror_mode": {
    "name": "ipython",
    "version": 3
   },
   "file_extension": ".py",
   "mimetype": "text/x-python",
   "name": "python",
   "nbconvert_exporter": "python",
   "pygments_lexer": "ipython3",
   "version": "3.7.12"
  }
 },
 "nbformat": 4,
 "nbformat_minor": 5
}

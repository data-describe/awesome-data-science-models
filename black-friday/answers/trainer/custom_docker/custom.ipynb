{
 "cells": [
  {
   "cell_type": "code",
   "execution_count": null,
   "id": "87d4d20a-c01f-4fb1-b1a6-5629b1ac302e",
   "metadata": {},
   "outputs": [],
   "source": [
    "# !PROJECT_ID=\"\" \n",
    "# !REGION=us-central1  \n",
    "# !REPOSITORY=black-friday-v2 \n",
    "# !IMAGE=black-friday-image \n",
    "\n",
    "\n",
    "%env PROJECT_ID= \n",
    "%env REGION=us-central1  \n",
    "%env REPOSITORY=black-friday-v1 \n",
    "%env IMAGE=black-friday-image "
   ]
  },
  {
   "cell_type": "code",
   "execution_count": null,
   "id": "69cbe54f-0afe-4057-a7e5-438c22dc1f3d",
   "metadata": {},
   "outputs": [],
   "source": [
    "! pwd"
   ]
  },
  {
   "cell_type": "code",
   "execution_count": null,
   "id": "e914e0ef-81b1-4440-a248-29406066d463",
   "metadata": {},
   "outputs": [],
   "source": [
    "! gcloud beta artifacts repositories create $REPOSITORY  \\\n",
    " --repository-format=docker \\\n",
    " --location=$REGION"
   ]
  },
  {
   "cell_type": "code",
   "execution_count": null,
   "id": "73342b10-5b6b-47b3-a319-674b7b024d82",
   "metadata": {},
   "outputs": [],
   "source": [
    "! docker push $REGION-docker.pkg.dev/$PROJECT_ID/$REPOSITORY/$IMAGE\n"
   ]
  },
  {
   "cell_type": "code",
   "execution_count": null,
   "id": "9bd57005-245f-4074-a4f1-9f013aeff405",
   "metadata": {},
   "outputs": [],
   "source": [
    "! gcloud beta ai models upload \\\n",
    "  --region=us-central1 \\\n",
    "  --display-name=black-friday-model \\\n",
    "  --container-image-uri=$REGION-docker.pkg.dev/$PROJECT_ID/$REPOSITORY/$IMAGE \\\n",
    "  --container-ports=5005 \\\n",
    "  --container-health-route=/healthz \\\n",
    "  --container-predict-route=/predict"
   ]
  },
  {
   "cell_type": "code",
   "execution_count": null,
   "id": "c64886e0-c387-4928-9207-7daadbc03e30",
   "metadata": {},
   "outputs": [],
   "source": [
    "!gcloud beta ai models list \\\n",
    "  --region=us-central1 \\\n",
    "  --filter=display_name=black-friday-model"
   ]
  },
  {
   "cell_type": "code",
   "execution_count": null,
   "id": "e3a820b9-e8fe-4a7f-9de6-12aeacfcdddb",
   "metadata": {},
   "outputs": [],
   "source": [
    "\n",
    "!gcloud beta ai endpoints create \\\n",
    "  --region=us-central1 \\\n",
    "  --display-name=black-friday-test-v2"
   ]
  },
  {
   "cell_type": "code",
   "execution_count": null,
   "id": "c7666e99-a100-4707-b1ce-c2a236abb1cf",
   "metadata": {},
   "outputs": [],
   "source": [
    "# errors out over here \n",
    "!gcloud beta ai endpoints deploy-model 7245157104439263232 \\\n",
    "  --region=us-central1 \\\n",
    "  --model=1949385737535225856 \\\n",
    "  --display-name=black-friday-model1 \\\n",
    "  --machine-type=n1-standard-4 \\\n",
    "  --min-replica-count=1 \\\n",
    "  --max-replica-count=2 \\\n",
    "  --traffic-split=0=100"
   ]
  },
  {
   "cell_type": "code",
   "execution_count": null,
   "id": "84994347-23c2-4a34-96ea-e35e5270c4a7",
   "metadata": {},
   "outputs": [],
   "source": [
    "ENDPOINT_ID=\"4047601369006211072\"\n",
    "INPUT_DATA_FILE=\"INPUT-JSON\""
   ]
  },
  {
   "cell_type": "code",
   "execution_count": null,
   "id": "d6b98933-628f-4cf8-b6e5-07356e9d6bd7",
   "metadata": {},
   "outputs": [],
   "source": []
  },
  {
   "cell_type": "code",
   "execution_count": null,
   "id": "fac8b4e6-417a-4304-b44e-4b55aaba641e",
   "metadata": {},
   "outputs": [],
   "source": []
  },
  {
   "cell_type": "code",
   "execution_count": null,
   "id": "92e155d0-8193-4a09-9721-001fef1f7f61",
   "metadata": {},
   "outputs": [],
   "source": [
    "!curl -X POST -d \"input.json\" -H \"Content-Type: application/json\" http://localhost:5005/predict\n"
   ]
  },
  {
   "cell_type": "code",
   "execution_count": null,
   "id": "3dd27a85-7374-4f6a-ba4e-43c5630b8fc9",
   "metadata": {},
   "outputs": [],
   "source": [
    "import requests\n",
    "import json\n"
   ]
  },
  {
   "cell_type": "code",
   "execution_count": null,
   "id": "f74c9d43-9343-447d-97c2-c8553aa95402",
   "metadata": {},
   "outputs": [],
   "source": [
    "url = 'http://0.0.0.0:5005/predict'\n",
    "d = json.load(open(\"input.json\", \"rb\"))\n",
    "# data = json.load()\n",
    "payload = {'instances': d}\n",
    "# y_predict = requests.post(url, json=payload)\n",
    "r = requests.post(url,json=payload)\n"
   ]
  },
  {
   "cell_type": "code",
   "execution_count": null,
   "id": "3f04ec46-2683-4cb8-8110-77640b643c81",
   "metadata": {},
   "outputs": [],
   "source": [
    "r.status_code"
   ]
  },
  {
   "cell_type": "code",
   "execution_count": null,
   "id": "3eaf5100-fadf-4da6-bcb9-bd94c5db2191",
   "metadata": {},
   "outputs": [],
   "source": [
    "r.text"
   ]
  },
  {
   "cell_type": "code",
   "execution_count": null,
   "id": "79b79f96-49fe-4b48-96f0-624e5260567a",
   "metadata": {},
   "outputs": [],
   "source": [
    "r.json"
   ]
  },
  {
   "cell_type": "code",
   "execution_count": null,
   "id": "704508ec-49e3-4bee-9935-b9bbe0c1696e",
   "metadata": {},
   "outputs": [],
   "source": [
    "import pickle\n",
    "model = pickle.load(open(\"model.pkl\", \"rb\"))\n"
   ]
  },
  {
   "cell_type": "code",
   "execution_count": null,
   "id": "32c5575a-45d4-4252-a6f0-6455b39ab81a",
   "metadata": {},
   "outputs": [],
   "source": [
    "model.predict([data]).tolist()[0]"
   ]
  },
  {
   "cell_type": "code",
   "execution_count": null,
   "id": "056c0e41-4637-4781-b78e-106bc43a05d2",
   "metadata": {},
   "outputs": [],
   "source": [
    "! curl \\\n",
    "-X POST \\\n",
    "-H \"Authorization: Bearer $(gcloud auth print-access-token)\" \\\n",
    "-H \"Content-Type: application/json\" \\\n",
    "https://us-central1-aiplatform.googleapis.com/v1/projects/mwpmltr/locations/us-central1/endpoints/4047601369006211072:predict \\\n",
    "-d \"@$input.json\""
   ]
  },
  {
   "cell_type": "code",
   "execution_count": null,
   "id": "9b9ec9b1-80a8-433c-ae9f-e6066d423340",
   "metadata": {},
   "outputs": [],
   "source": []
  }
 ],
 "metadata": {
  "kernelspec": {
   "display_name": "Python 3 (ipykernel)",
   "language": "python",
   "name": "python3"
  },
  "language_info": {
   "codemirror_mode": {
    "name": "ipython",
    "version": 3
   },
   "file_extension": ".py",
   "mimetype": "text/x-python",
   "name": "python",
   "nbconvert_exporter": "python",
   "pygments_lexer": "ipython3",
   "version": "3.9.12"
  }
 },
 "nbformat": 4,
 "nbformat_minor": 5
}

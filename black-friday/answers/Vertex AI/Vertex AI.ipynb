{
 "cells": [
  {
   "cell_type": "markdown",
   "id": "a3354248-c588-4bfc-8664-c3ba5d45eecc",
   "metadata": {},
   "source": [
    "**Check environment dependencies**"
   ]
  },
  {
   "cell_type": "code",
   "execution_count": 1,
   "id": "df90229e-28ca-471b-b779-ff3a24780788",
   "metadata": {},
   "outputs": [
    {
     "name": "stdout",
     "output_type": "stream",
     "text": [
      "KFP SDK version: 1.8.19\n",
      "google_cloud_pipeline_components version: 1.0.41\n",
      "Sklearn version: 1.0.2\n"
     ]
    }
   ],
   "source": [
    "! python3 -c \"import kfp; print('KFP SDK version: {}'.format(kfp.__version__))\"\n",
    "! python3 -c \"import google_cloud_pipeline_components; print('google_cloud_pipeline_components version: {}'.format(google_cloud_pipeline_components.__version__))\"\n",
    "! python3 -c \"import sklearn; print('Sklearn version: {}'.format(sklearn.__version__))\""
   ]
  },
  {
   "cell_type": "code",
   "execution_count": 3,
   "id": "049e5fb7-126a-4a55-832a-cd8c2912f585",
   "metadata": {},
   "outputs": [],
   "source": [
    "from datetime import datetime\n",
    "\n",
    "import google.cloud.aiplatform as aip\n",
    "from google.cloud import aiplatform\n",
    "import kfp\n",
    "from kfp.v2 import dsl, compiler\n",
    "from kfp.v2.google.client import AIPlatformClient\n",
    "\n",
    "# custom code for data processing and model training\n",
    "from utils import create_data, train_model"
   ]
  },
  {
   "cell_type": "markdown",
   "id": "26c0883b-2a55-47ce-a36b-beec0ddbd0d1",
   "metadata": {},
   "source": [
    "**Define environment variables**\n",
    "\n",
    "User should update the <code>BUCKET_NAME</code>. The <code>PROJECT_ID</code> is picked up based on the gcloud configuration"
   ]
  },
  {
   "cell_type": "code",
   "execution_count": 4,
   "id": "17454251-5aec-42fd-9f4d-4e4e90884a53",
   "metadata": {
    "tags": []
   },
   "outputs": [],
   "source": [
    "TIMESTAMP = datetime.now().strftime(\"%Y%m%d%H%M%S\")\n",
    "BUCKET_NAME = \"black-friday-dataset-aaa\"  # modify\n",
    "BUCKET_URI = f\"gs://{BUCKET_NAME}\"\n",
    "REGION = \"us-central1\"\n",
    "PIPELINE_ROOT = \"{}/pipeline_root/black_friday\".format(BUCKET_URI)\n",
    "DISPLAY_NAME = \"black-friday-\" + TIMESTAMP\n",
    "PACKAGE_PATH = \"pipeline.json\"\n",
    "project_id_shell_output = !gcloud config list --format 'value(core.project)' 2>/dev/null\n",
    "PROJECT_ID = project_id_shell_output[0]"
   ]
  },
  {
   "cell_type": "markdown",
   "id": "429da3ea-1030-465b-9927-bbbbbdccb342",
   "metadata": {},
   "source": [
    "## Data processing and model training"
   ]
  },
  {
   "cell_type": "markdown",
   "id": "1a171a67-679e-4ec5-b652-553e9e5bd6e7",
   "metadata": {},
   "source": [
    "**Initialize the client**"
   ]
  },
  {
   "cell_type": "code",
   "execution_count": 5,
   "id": "b6c6042a-b8f9-479c-a5ba-ac83b419b780",
   "metadata": {},
   "outputs": [],
   "source": [
    "aip.init(project=PROJECT_ID, staging_bucket=BUCKET_URI)"
   ]
  },
  {
   "cell_type": "markdown",
   "id": "6e1b4036-d0c7-4759-92a4-7b3feec4058c",
   "metadata": {},
   "source": [
    "**Define the pipeline**"
   ]
  },
  {
   "cell_type": "code",
   "execution_count": 6,
   "id": "1660bd45-c40b-4da9-b4b8-eac783bfb8dc",
   "metadata": {},
   "outputs": [],
   "source": [
    "@dsl.pipeline(\n",
    "    pipeline_root=PIPELINE_ROOT,\n",
    "    name=\"black-friday-pipeline\",\n",
    ")\n",
    "def pipeline(\n",
    "    train_file_x: str,\n",
    "    train_file_y: str,\n",
    "    test_file_x: str,\n",
    "    test_file_y: str,\n",
    "    best_params_file: str,\n",
    "    metrics_file: str,\n",
    "    num_iterations: int,\n",
    "    hp_tune: bool,\n",
    "    best_params: dict,\n",
    "    use_demographic: bool,\n",
    "):\n",
    "\n",
    "    create_data_task = create_data(\n",
    "        project_id=\"ds-training-380514\",\n",
    "        bucket_name=BUCKET_NAME,\n",
    "        dataset_id=\"black_friday\",\n",
    "        use_demographic=use_demographic,\n",
    "    )\n",
    "\n",
    "    train_model_task = train_model(\n",
    "        hp_tune=hp_tune,\n",
    "        project_id=\"ds-training-380514\",\n",
    "        bucket_name=BUCKET_NAME,\n",
    "        best_params=best_params,\n",
    "        num_iterations=num_iterations,\n",
    "        train_file_x=create_data_task.outputs[\"train_file_x\"],\n",
    "        test_file_x=create_data_task.outputs[\"test_file_x\"],\n",
    "        train_file_y=create_data_task.outputs[\"train_file_y\"],\n",
    "        test_file_y=create_data_task.outputs[\"test_file_y\"],\n",
    "    )"
   ]
  },
  {
   "cell_type": "code",
   "execution_count": 7,
   "id": "7f4dbfb9-8844-4f2a-b8de-911c3a9d8c3a",
   "metadata": {},
   "outputs": [
    {
     "name": "stderr",
     "output_type": "stream",
     "text": [
      "/opt/conda/envs/black_friday_env/lib/python3.9/site-packages/kfp/v2/compiler/compiler.py:1290: FutureWarning: APIs imported from the v1 namespace (e.g. kfp.dsl, kfp.components, etc) will not be supported by the v2 compiler since v2.0.0\n",
      "  warnings.warn(\n"
     ]
    }
   ],
   "source": [
    "compiler.Compiler().compile(pipeline_func=pipeline, package_path=PACKAGE_PATH)"
   ]
  },
  {
   "cell_type": "markdown",
   "id": "54d3249d-1a8e-4582-bc78-5623845b30c6",
   "metadata": {},
   "source": [
    "**Submit the pipeline to Vertex AI Pipeline**"
   ]
  },
  {
   "cell_type": "code",
   "execution_count": 8,
   "id": "a93f467f-a7e0-42d4-a67f-a20b2f7424a9",
   "metadata": {},
   "outputs": [
    {
     "name": "stdout",
     "output_type": "stream",
     "text": [
      "Creating PipelineJob\n",
      "PipelineJob created. Resource name: projects/354621994428/locations/us-central1/pipelineJobs/black-friday-pipeline-20230328211523\n",
      "To use this PipelineJob in another session:\n",
      "pipeline_job = aiplatform.PipelineJob.get('projects/354621994428/locations/us-central1/pipelineJobs/black-friday-pipeline-20230328211523')\n",
      "View Pipeline Job:\n",
      "https://console.cloud.google.com/vertex-ai/locations/us-central1/pipelines/runs/black-friday-pipeline-20230328211523?project=354621994428\n",
      "PipelineJob projects/354621994428/locations/us-central1/pipelineJobs/black-friday-pipeline-20230328211523 current state:\n",
      "PipelineState.PIPELINE_STATE_RUNNING\n",
      "PipelineJob projects/354621994428/locations/us-central1/pipelineJobs/black-friday-pipeline-20230328211523 current state:\n",
      "PipelineState.PIPELINE_STATE_RUNNING\n",
      "PipelineJob projects/354621994428/locations/us-central1/pipelineJobs/black-friday-pipeline-20230328211523 current state:\n",
      "PipelineState.PIPELINE_STATE_RUNNING\n",
      "PipelineJob projects/354621994428/locations/us-central1/pipelineJobs/black-friday-pipeline-20230328211523 current state:\n",
      "PipelineState.PIPELINE_STATE_RUNNING\n",
      "PipelineJob projects/354621994428/locations/us-central1/pipelineJobs/black-friday-pipeline-20230328211523 current state:\n",
      "PipelineState.PIPELINE_STATE_RUNNING\n",
      "PipelineJob projects/354621994428/locations/us-central1/pipelineJobs/black-friday-pipeline-20230328211523 current state:\n",
      "PipelineState.PIPELINE_STATE_RUNNING\n",
      "PipelineJob run completed. Resource name: projects/354621994428/locations/us-central1/pipelineJobs/black-friday-pipeline-20230328211523\n"
     ]
    }
   ],
   "source": [
    "job = aip.PipelineJob(\n",
    "    display_name=DISPLAY_NAME,\n",
    "    template_path=PACKAGE_PATH,\n",
    "    pipeline_root=PIPELINE_ROOT,\n",
    "    enable_caching=True,\n",
    "    parameter_values={\n",
    "        \"train_file_x\": \"x_train.csv\",\n",
    "        \"train_file_y\": \"y_train.csv\",\n",
    "        \"test_file_x\": \"x_test.csv\",\n",
    "        \"test_file_y\": \"y_test.csv\",\n",
    "        \"metrics_file\": \"metrics.json\",\n",
    "        \"num_iterations\": 2,\n",
    "        \"hp_tune\": True,\n",
    "        \"best_params_file\": \"best_params.json\",\n",
    "        \"best_params\": {\n",
    "            \"n_estimators\": 644,\n",
    "            \"max_depth\": 343,\n",
    "            \"min_samples_split\": 6,\n",
    "            \"min_samples_leaf\": 1,\n",
    "            \"max_features\": \"auto\",\n",
    "        },\n",
    "        \"use_demographic\": True,\n",
    "    },\n",
    ")\n",
    "\n",
    "job.run()"
   ]
  },
  {
   "cell_type": "markdown",
   "id": "63650b76-29a9-4999-87a4-a9a7b0bc74d7",
   "metadata": {},
   "source": [
    "**Build same model with demographic data removed**"
   ]
  },
  {
   "cell_type": "code",
   "execution_count": 9,
   "id": "aa5e9614-9448-46a1-abf1-3a6ff23549f4",
   "metadata": {},
   "outputs": [
    {
     "name": "stdout",
     "output_type": "stream",
     "text": [
      "Creating PipelineJob\n",
      "PipelineJob created. Resource name: projects/354621994428/locations/us-central1/pipelineJobs/black-friday-pipeline-20230328212758\n",
      "To use this PipelineJob in another session:\n",
      "pipeline_job = aiplatform.PipelineJob.get('projects/354621994428/locations/us-central1/pipelineJobs/black-friday-pipeline-20230328212758')\n",
      "View Pipeline Job:\n",
      "https://console.cloud.google.com/vertex-ai/locations/us-central1/pipelines/runs/black-friday-pipeline-20230328212758?project=354621994428\n",
      "PipelineJob projects/354621994428/locations/us-central1/pipelineJobs/black-friday-pipeline-20230328212758 current state:\n",
      "PipelineState.PIPELINE_STATE_RUNNING\n",
      "PipelineJob projects/354621994428/locations/us-central1/pipelineJobs/black-friday-pipeline-20230328212758 current state:\n",
      "PipelineState.PIPELINE_STATE_RUNNING\n",
      "PipelineJob projects/354621994428/locations/us-central1/pipelineJobs/black-friday-pipeline-20230328212758 current state:\n",
      "PipelineState.PIPELINE_STATE_RUNNING\n",
      "PipelineJob projects/354621994428/locations/us-central1/pipelineJobs/black-friday-pipeline-20230328212758 current state:\n",
      "PipelineState.PIPELINE_STATE_RUNNING\n",
      "PipelineJob projects/354621994428/locations/us-central1/pipelineJobs/black-friday-pipeline-20230328212758 current state:\n",
      "PipelineState.PIPELINE_STATE_RUNNING\n",
      "PipelineJob run completed. Resource name: projects/354621994428/locations/us-central1/pipelineJobs/black-friday-pipeline-20230328212758\n"
     ]
    }
   ],
   "source": [
    "job = aip.PipelineJob(\n",
    "    display_name=DISPLAY_NAME,\n",
    "    template_path=PACKAGE_PATH,\n",
    "    pipeline_root=PIPELINE_ROOT,\n",
    "    enable_caching=True,\n",
    "    parameter_values={\n",
    "        \"train_file_x\": \"x_train.csv\",\n",
    "        \"train_file_y\": \"y_train.csv\",\n",
    "        \"test_file_x\": \"x_test.csv\",\n",
    "        \"test_file_y\": \"y_test.csv\",\n",
    "        \"metrics_file\": \"metrics.json\",\n",
    "        \"num_iterations\": 2,\n",
    "        \"hp_tune\": True,\n",
    "        \"best_params_file\": \"best_params.json\",\n",
    "        \"best_params\": {\n",
    "            \"n_estimators\": 644,\n",
    "            \"max_depth\": 343,\n",
    "            \"min_samples_split\": 6,\n",
    "            \"min_samples_leaf\": 1,\n",
    "            \"max_features\": \"auto\",\n",
    "        },\n",
    "        \"use_demographic\": False,\n",
    "    },\n",
    ")\n",
    "\n",
    "job.run()"
   ]
  },
  {
   "cell_type": "markdown",
   "id": "9e2ab02e-a038-41c4-9318-cf099b842dfe",
   "metadata": {},
   "source": [
    "**Copy the model to your local directory**\n",
    "\n",
    "Get the URI of the model file by clicking through the Vertex AI Pipeline UI. Select the model artifact and follow the path to the model"
   ]
  },
  {
   "cell_type": "code",
   "execution_count": 13,
   "id": "430b3fdb-ebbc-419a-889a-0e3dcdc3f216",
   "metadata": {},
   "outputs": [
    {
     "name": "stdout",
     "output_type": "stream",
     "text": [
      "Copying gs://black-friday-dataset-aaa/pipeline_root/black_friday/354621994428/black-friday-pipeline-20230328212758/train-model_-120342922049617920/model_file.pkl...\n",
      "- [1 files][347.6 MiB/347.6 MiB]                                                \n",
      "Operation completed over 1 objects/347.6 MiB.                                    \n"
     ]
    }
   ],
   "source": [
    "# model without demographic data\n",
    "! gsutil cp gs://black-friday-dataset-aaa/pipeline_root/black_friday/354621994428/black-friday-pipeline-20230328212758/train-model_-120342922049617920/model_file.pkl model.pkl"
   ]
  },
  {
   "cell_type": "markdown",
   "id": "9a0d06b9-1acc-4030-9f8c-b70b05f4df8f",
   "metadata": {},
   "source": [
    "## Model Deployment"
   ]
  },
  {
   "cell_type": "markdown",
   "id": "6069f980-deb4-41a9-b6dd-294746be97aa",
   "metadata": {},
   "source": [
    "**Set environment variables for command line arguments**\n",
    "\n",
    "For custom prediction routines, a docker image must be provided"
   ]
  },
  {
   "cell_type": "code",
   "execution_count": 14,
   "id": "62afd03d-8b18-4775-abac-6ae1b7864996",
   "metadata": {},
   "outputs": [
    {
     "name": "stdout",
     "output_type": "stream",
     "text": [
      "env: PROJECT_ID=ds-training-380514\n",
      "env: REGION=us-central1\n",
      "env: REPOSITORY=black-friday-v1\n",
      "env: IMAGE=black-friday-image\n"
     ]
    }
   ],
   "source": [
    "%env PROJECT_ID={PROJECT_ID}\n",
    "%env REGION={REGION}\n",
    "%env REPOSITORY=black-friday-v1\n",
    "%env IMAGE=black-friday-image"
   ]
  },
  {
   "cell_type": "code",
   "execution_count": 15,
   "id": "c2a45aac-fa02-421d-be0e-7e9d0032dd6c",
   "metadata": {},
   "outputs": [
    {
     "name": "stdout",
     "output_type": "stream",
     "text": [
      "Sending build context to Docker daemon  364.6MB\n",
      "Step 1/6 : FROM python:3.9-slim\n",
      "3.9-slim: Pulling from library/python\n",
      "\n",
      "\u001b[1B6f570256: Pulling fs layer \n",
      "\u001b[1B01660885: Pulling fs layer \n",
      "\u001b[1B40b65f34: Pulling fs layer \n",
      "\u001b[1B763962ba: Pulling fs layer \n",
      "\u001b[1B10d4c3ff: Pull complete 196MB/3.196MBB\u001b[4A\u001b[2K\u001b[3A\u001b[2K\u001b[5A\u001b[2K\u001b[1A\u001b[2K\u001b[1A\u001b[2K\u001b[5A\u001b[2K\u001b[5A\u001b[2K\u001b[5A\u001b[2K\u001b[5A\u001b[2K\u001b[5A\u001b[2K\u001b[5A\u001b[2K\u001b[5A\u001b[2K\u001b[5A\u001b[2K\u001b[5A\u001b[2K\u001b[5A\u001b[2K\u001b[5A\u001b[2K\u001b[5A\u001b[2K\u001b[5A\u001b[2K\u001b[5A\u001b[2K\u001b[5A\u001b[2K\u001b[5A\u001b[2K\u001b[4A\u001b[2K\u001b[4A\u001b[2K\u001b[4A\u001b[2K\u001b[3A\u001b[2K\u001b[3A\u001b[2K\u001b[3A\u001b[2K\u001b[3A\u001b[2K\u001b[3A\u001b[2K\u001b[3A\u001b[2K\u001b[3A\u001b[2K\u001b[2A\u001b[2K\u001b[1A\u001b[2K\u001b[1A\u001b[2K\u001b[1A\u001b[2K\u001b[1A\u001b[2KDigest: sha256:5192f07402cbe8b0267eef13085b321d50ab8aaac79d2f0657f96810c3f4555c\n",
      "Status: Downloaded newer image for python:3.9-slim\n",
      " ---> 3279228d157d\n",
      "Step 2/6 : WORKDIR /app\n",
      " ---> Running in 94d994d7e477\n",
      "Removing intermediate container 94d994d7e477\n",
      " ---> 7b635a7cf4a9\n",
      "Step 3/6 : COPY . /app\n",
      " ---> bddeeec4bfbe\n",
      "Step 4/6 : RUN pip3 install scikit-learn==1.1.3 gunicorn flask flask-cors\n",
      " ---> Running in 69c825e947ba\n",
      "Collecting scikit-learn==1.1.3\n",
      "  Downloading scikit_learn-1.1.3-cp39-cp39-manylinux_2_17_x86_64.manylinux2014_x86_64.whl (30.8 MB)\n",
      "     ━━━━━━━━━━━━━━━━━━━━━━━━━━━━━━━━━━━━━━━━ 30.8/30.8 MB 39.2 MB/s eta 0:00:00\n",
      "Collecting gunicorn\n",
      "  Downloading gunicorn-20.1.0-py3-none-any.whl (79 kB)\n",
      "     ━━━━━━━━━━━━━━━━━━━━━━━━━━━━━━━━━━━━━━━━ 79.5/79.5 KB 10.9 MB/s eta 0:00:00\n",
      "Collecting flask\n",
      "  Downloading Flask-2.2.3-py3-none-any.whl (101 kB)\n",
      "     ━━━━━━━━━━━━━━━━━━━━━━━━━━━━━━━━━━━━━━ 101.8/101.8 KB 13.2 MB/s eta 0:00:00\n",
      "Collecting flask-cors\n",
      "  Downloading Flask_Cors-3.0.10-py2.py3-none-any.whl (14 kB)\n",
      "Collecting scipy>=1.3.2\n",
      "  Downloading scipy-1.10.1-cp39-cp39-manylinux_2_17_x86_64.manylinux2014_x86_64.whl (34.5 MB)\n",
      "     ━━━━━━━━━━━━━━━━━━━━━━━━━━━━━━━━━━━━━━━━ 34.5/34.5 MB 40.1 MB/s eta 0:00:00\n",
      "Collecting numpy>=1.17.3\n",
      "  Downloading numpy-1.24.2-cp39-cp39-manylinux_2_17_x86_64.manylinux2014_x86_64.whl (17.3 MB)\n",
      "     ━━━━━━━━━━━━━━━━━━━━━━━━━━━━━━━━━━━━━━━━ 17.3/17.3 MB 71.3 MB/s eta 0:00:00\n",
      "Collecting threadpoolctl>=2.0.0\n",
      "  Downloading threadpoolctl-3.1.0-py3-none-any.whl (14 kB)\n",
      "Collecting joblib>=1.0.0\n",
      "  Downloading joblib-1.2.0-py3-none-any.whl (297 kB)\n",
      "     ━━━━━━━━━━━━━━━━━━━━━━━━━━━━━━━━━━━━━━ 298.0/298.0 KB 31.5 MB/s eta 0:00:00\n",
      "Requirement already satisfied: setuptools>=3.0 in /usr/local/lib/python3.9/site-packages (from gunicorn) (58.1.0)\n",
      "Collecting click>=8.0\n",
      "  Downloading click-8.1.3-py3-none-any.whl (96 kB)\n",
      "     ━━━━━━━━━━━━━━━━━━━━━━━━━━━━━━━━━━━━━━━━ 96.6/96.6 KB 10.8 MB/s eta 0:00:00\n",
      "Collecting Werkzeug>=2.2.2\n",
      "  Downloading Werkzeug-2.2.3-py3-none-any.whl (233 kB)\n",
      "     ━━━━━━━━━━━━━━━━━━━━━━━━━━━━━━━━━━━━━━ 233.6/233.6 KB 24.7 MB/s eta 0:00:00\n",
      "Collecting Jinja2>=3.0\n",
      "  Downloading Jinja2-3.1.2-py3-none-any.whl (133 kB)\n",
      "     ━━━━━━━━━━━━━━━━━━━━━━━━━━━━━━━━━━━━━━ 133.1/133.1 KB 16.9 MB/s eta 0:00:00\n",
      "Collecting importlib-metadata>=3.6.0\n",
      "  Downloading importlib_metadata-6.1.0-py3-none-any.whl (21 kB)\n",
      "Collecting itsdangerous>=2.0\n",
      "  Downloading itsdangerous-2.1.2-py3-none-any.whl (15 kB)\n",
      "Collecting Six\n",
      "  Downloading six-1.16.0-py2.py3-none-any.whl (11 kB)\n",
      "Collecting zipp>=0.5\n",
      "  Downloading zipp-3.15.0-py3-none-any.whl (6.8 kB)\n",
      "Collecting MarkupSafe>=2.0\n",
      "  Downloading MarkupSafe-2.1.2-cp39-cp39-manylinux_2_17_x86_64.manylinux2014_x86_64.whl (25 kB)\n",
      "Installing collected packages: zipp, threadpoolctl, Six, numpy, MarkupSafe, joblib, itsdangerous, gunicorn, click, Werkzeug, scipy, Jinja2, importlib-metadata, scikit-learn, flask, flask-cors\n",
      "Successfully installed Jinja2-3.1.2 MarkupSafe-2.1.2 Six-1.16.0 Werkzeug-2.2.3 click-8.1.3 flask-2.2.3 flask-cors-3.0.10 gunicorn-20.1.0 importlib-metadata-6.1.0 itsdangerous-2.1.2 joblib-1.2.0 numpy-1.24.2 scikit-learn-1.1.3 scipy-1.10.1 threadpoolctl-3.1.0 zipp-3.15.0\n",
      "\u001b[91mWARNING: Running pip as the 'root' user can result in broken permissions and conflicting behaviour with the system package manager. It is recommended to use a virtual environment instead: https://pip.pypa.io/warnings/venv\n",
      "\u001b[0m\u001b[91mWARNING: You are using pip version 22.0.4; however, version 23.0.1 is available.\n",
      "You should consider upgrading via the '/usr/local/bin/python -m pip install --upgrade pip' command.\n",
      "\u001b[0mRemoving intermediate container 69c825e947ba\n",
      " ---> b3f58c78746c\n",
      "Step 5/6 : CMD gunicorn --bind 0.0.0.0:5005 --timeout=150 app:app -w 1\n",
      " ---> Running in dfb41be933c0\n",
      "Removing intermediate container dfb41be933c0\n",
      " ---> 5934dc2c90fa\n",
      "Step 6/6 : EXPOSE 5005\n",
      " ---> Running in 29eabf35bc6d\n",
      "Removing intermediate container 29eabf35bc6d\n",
      " ---> 986daeeffd7a\n",
      "Successfully built 986daeeffd7a\n",
      "Successfully tagged us-central1-docker.pkg.dev/ds-training-380514/black-friday-v1/black-friday-image:latest\n"
     ]
    }
   ],
   "source": [
    "# build image\n",
    "!docker build --tag=$REGION-docker.pkg.dev/$PROJECT_ID/$REPOSITORY/$IMAGE ."
   ]
  },
  {
   "cell_type": "code",
   "execution_count": 16,
   "id": "80b9a608-acb0-4ab6-b65e-95d68d3817a0",
   "metadata": {},
   "outputs": [
    {
     "name": "stdout",
     "output_type": "stream",
     "text": [
      "Create request issued for: [black-friday-v1]\n",
      "Waiting for operation [projects/ds-training-380514/locations/us-central1/operat\n",
      "ions/8f03b197-cbb1-42f8-bc29-15e38b2b5bee] to complete...done.                 \n",
      "Created repository [black-friday-v1].\n"
     ]
    }
   ],
   "source": [
    "# create repository in artifact repository\n",
    "! gcloud artifacts repositories create $REPOSITORY  \\\n",
    "                             --repository-format=docker \\\n",
    "                             --location=$REGION"
   ]
  },
  {
   "cell_type": "code",
   "execution_count": 30,
   "id": "3ef839d9-64fe-4a9b-9b2f-202630d46ef0",
   "metadata": {},
   "outputs": [
    {
     "name": "stdout",
     "output_type": "stream",
     "text": [
      "Using default tag: latest\n",
      "The push refers to repository [us-central1-docker.pkg.dev/ds-training-380514/black-friday-v1/black-friday-image]\n",
      "\n",
      "\u001b[1B575b3d6d: Preparing \n",
      "\u001b[1B87e19ebb: Preparing \n",
      "\u001b[1Bb4af9a47: Preparing \n",
      "\u001b[1Bc5e17780: Preparing \n",
      "\u001b[1Ba85d1cef: Preparing \n",
      "\u001b[1B7cd997d9: Preparing \n",
      "\u001b[1B6c2423f1: Preparing \n",
      "\u001b[8B575b3d6d: Pushed   409.3MB/404.3MB\u001b[8A\u001b[2K\u001b[4A\u001b[2K\u001b[8A\u001b[2K\u001b[5A\u001b[2K\u001b[8A\u001b[2K\u001b[5A\u001b[2K\u001b[7A\u001b[2K\u001b[5A\u001b[2K\u001b[7A\u001b[2K\u001b[5A\u001b[2K\u001b[7A\u001b[2K\u001b[8A\u001b[2K\u001b[2A\u001b[2K\u001b[5A\u001b[2K\u001b[3A\u001b[2K\u001b[2A\u001b[2K\u001b[8A\u001b[2K\u001b[5A\u001b[2K\u001b[2A\u001b[2K\u001b[3A\u001b[2K\u001b[5A\u001b[2K\u001b[2A\u001b[2K\u001b[2A\u001b[2K\u001b[2A\u001b[2K\u001b[8A\u001b[2K\u001b[2A\u001b[2K\u001b[5A\u001b[2K\u001b[7A\u001b[2K\u001b[3A\u001b[2K\u001b[1A\u001b[2K\u001b[7A\u001b[2K\u001b[2A\u001b[2K\u001b[3A\u001b[2K\u001b[1A\u001b[2K\u001b[8A\u001b[2K\u001b[1A\u001b[2K\u001b[7A\u001b[2K\u001b[8A\u001b[2K\u001b[3A\u001b[2K\u001b[3A\u001b[2K\u001b[1A\u001b[2K\u001b[3A\u001b[2K\u001b[1A\u001b[2K\u001b[3A\u001b[2K\u001b[8A\u001b[2K\u001b[3A\u001b[2K\u001b[7A\u001b[2K\u001b[1A\u001b[2K\u001b[8A\u001b[2K\u001b[1A\u001b[2K\u001b[3A\u001b[2K\u001b[7A\u001b[2K\u001b[3A\u001b[2K\u001b[8A\u001b[2K\u001b[3A\u001b[2K\u001b[8A\u001b[2K\u001b[3A\u001b[2K\u001b[1A\u001b[2K\u001b[3A\u001b[2K\u001b[1A\u001b[2K\u001b[7A\u001b[2K\u001b[3A\u001b[2K\u001b[8A\u001b[2K\u001b[1A\u001b[2K\u001b[3A\u001b[2K\u001b[1A\u001b[2K\u001b[8A\u001b[2K\u001b[7A\u001b[2K\u001b[1A\u001b[2K\u001b[7A\u001b[2K\u001b[1A\u001b[2K\u001b[8A\u001b[2K\u001b[7A\u001b[2K\u001b[1A\u001b[2K\u001b[7A\u001b[2K\u001b[8A\u001b[2K\u001b[7A\u001b[2K\u001b[1A\u001b[2K\u001b[7A\u001b[2K\u001b[8A\u001b[2K\u001b[1A\u001b[2K\u001b[8A\u001b[2K\u001b[7A\u001b[2K\u001b[8A\u001b[2K\u001b[1A\u001b[2K\u001b[8A\u001b[2K\u001b[1A\u001b[2K\u001b[8A\u001b[2K\u001b[1A\u001b[2K\u001b[8A\u001b[2K\u001b[1A\u001b[2K\u001b[7A\u001b[2K\u001b[1A\u001b[2K\u001b[7A\u001b[2K\u001b[7A\u001b[2K\u001b[7A\u001b[2K\u001b[1A\u001b[2K\u001b[7A\u001b[2K\u001b[8A\u001b[2K\u001b[7A\u001b[2K\u001b[8A\u001b[2K\u001b[7A\u001b[2K\u001b[8A\u001b[2K\u001b[7A\u001b[2K\u001b[8A\u001b[2K\u001b[1A\u001b[2K\u001b[8A\u001b[2K\u001b[7A\u001b[2K\u001b[8A\u001b[2K\u001b[7A\u001b[2K\u001b[1A\u001b[2K\u001b[8A\u001b[2K\u001b[1A\u001b[2K\u001b[7A\u001b[2K\u001b[7A\u001b[2K\u001b[1A\u001b[2K\u001b[7A\u001b[2K\u001b[1A\u001b[2K\u001b[7A\u001b[2K\u001b[8A\u001b[2K\u001b[7A\u001b[2K\u001b[1A\u001b[2K\u001b[7A\u001b[2K\u001b[1A\u001b[2K\u001b[7A\u001b[2K\u001b[1A\u001b[2K\u001b[7A\u001b[2K\u001b[1A\u001b[2K\u001b[8A\u001b[2K\u001b[1A\u001b[2K\u001b[8A\u001b[2K\u001b[1A\u001b[2K\u001b[7A\u001b[2K\u001b[1A\u001b[2K\u001b[7A\u001b[2K\u001b[8A\u001b[2K\u001b[7A\u001b[2K\u001b[8A\u001b[2K\u001b[7A\u001b[2K\u001b[8A\u001b[2K\u001b[1A\u001b[2K\u001b[8A\u001b[2K\u001b[1A\u001b[2K\u001b[8A\u001b[2K\u001b[7A\u001b[2K\u001b[1A\u001b[2K\u001b[7A\u001b[2K\u001b[8A\u001b[2K\u001b[7A\u001b[2K\u001b[1A\u001b[2K\u001b[7A\u001b[2K\u001b[8A\u001b[2K\u001b[7A\u001b[2K\u001b[8A\u001b[2K\u001b[7A\u001b[2K\u001b[7A\u001b[2K\u001b[7A\u001b[2K\u001b[7A\u001b[2K\u001b[7A\u001b[2K\u001b[8A\u001b[2K\u001b[7A\u001b[2K\u001b[8A\u001b[2K\u001b[7A\u001b[2K\u001b[8A\u001b[2K\u001b[7A\u001b[2K\u001b[8A\u001b[2K\u001b[7A\u001b[2K\u001b[8A\u001b[2K\u001b[7A\u001b[2K\u001b[8A\u001b[2K\u001b[7A\u001b[2K\u001b[8A\u001b[2K\u001b[7A\u001b[2K\u001b[8A\u001b[2K\u001b[7A\u001b[2K\u001b[8A\u001b[2K\u001b[7A\u001b[2K\u001b[8A\u001b[2K\u001b[7A\u001b[2K\u001b[7A\u001b[2K\u001b[8A\u001b[2K\u001b[7A\u001b[2K\u001b[8A\u001b[2K\u001b[7A\u001b[2K\u001b[8A\u001b[2K\u001b[7A\u001b[2K\u001b[8A\u001b[2K\u001b[7A\u001b[2K\u001b[7A\u001b[2K\u001b[8A\u001b[2K\u001b[7A\u001b[2K\u001b[8A\u001b[2K\u001b[7A\u001b[2K\u001b[8A\u001b[2K\u001b[7A\u001b[2K\u001b[8A\u001b[2K\u001b[7A\u001b[2K\u001b[8A\u001b[2K\u001b[7A\u001b[2K\u001b[8A\u001b[2K\u001b[7A\u001b[2K\u001b[8A\u001b[2K\u001b[7A\u001b[2K\u001b[7A\u001b[2K\u001b[7A\u001b[2K\u001b[7A\u001b[2K\u001b[7A\u001b[2K\u001b[8A\u001b[2K\u001b[7A\u001b[2K\u001b[8A\u001b[2K\u001b[7A\u001b[2K\u001b[8A\u001b[2K\u001b[7A\u001b[2K\u001b[8A\u001b[2K\u001b[7A\u001b[2K\u001b[8A\u001b[2K\u001b[7A\u001b[2K\u001b[8A\u001b[2K\u001b[8A\u001b[2K\u001b[8A\u001b[2K\u001b[7A\u001b[2K\u001b[8A\u001b[2K\u001b[8A\u001b[2K\u001b[8A\u001b[2K\u001b[8A\u001b[2K\u001b[8A\u001b[2K\u001b[8A\u001b[2K\u001b[8A\u001b[2K\u001b[8A\u001b[2K\u001b[8A\u001b[2K\u001b[8A\u001b[2K\u001b[8A\u001b[2K\u001b[8A\u001b[2K\u001b[8A\u001b[2K\u001b[8A\u001b[2K\u001b[8A\u001b[2K\u001b[8A\u001b[2K\u001b[8A\u001b[2K\u001b[8A\u001b[2K\u001b[8A\u001b[2K\u001b[8A\u001b[2K\u001b[8A\u001b[2K\u001b[8A\u001b[2K\u001b[8A\u001b[2K\u001b[8A\u001b[2K\u001b[8A\u001b[2K\u001b[8A\u001b[2K\u001b[8A\u001b[2K\u001b[8A\u001b[2K\u001b[8A\u001b[2K\u001b[8A\u001b[2K\u001b[8A\u001b[2K\u001b[8A\u001b[2K\u001b[8A\u001b[2K\u001b[8A\u001b[2K\u001b[8A\u001b[2K\u001b[8A\u001b[2K\u001b[8A\u001b[2K\u001b[8A\u001b[2K\u001b[8A\u001b[2K\u001b[8A\u001b[2K\u001b[8A\u001b[2K\u001b[8A\u001b[2K\u001b[8A\u001b[2K\u001b[8A\u001b[2K\u001b[8A\u001b[2K\u001b[8A\u001b[2K\u001b[8A\u001b[2K\u001b[8A\u001b[2K\u001b[8A\u001b[2K\u001b[8A\u001b[2K\u001b[8A\u001b[2K\u001b[8A\u001b[2K\u001b[8A\u001b[2K\u001b[8A\u001b[2K\u001b[8A\u001b[2K\u001b[8A\u001b[2K\u001b[8A\u001b[2K\u001b[8A\u001b[2K\u001b[8A\u001b[2K\u001b[8A\u001b[2K\u001b[8A\u001b[2K\u001b[8A\u001b[2K\u001b[8A\u001b[2K\u001b[8A\u001b[2K\u001b[8A\u001b[2K\u001b[8A\u001b[2K\u001b[8A\u001b[2K\u001b[8A\u001b[2K\u001b[8A\u001b[2K\u001b[8A\u001b[2K\u001b[8A\u001b[2K\u001b[8A\u001b[2K\u001b[8A\u001b[2K\u001b[8A\u001b[2K\u001b[8A\u001b[2K\u001b[8A\u001b[2K\u001b[8A\u001b[2K\u001b[8A\u001b[2K\u001b[8A\u001b[2K\u001b[8A\u001b[2K\u001b[8A\u001b[2K\u001b[8A\u001b[2K\u001b[8A\u001b[2K\u001b[8A\u001b[2K\u001b[8A\u001b[2K\u001b[8A\u001b[2K\u001b[8A\u001b[2K\u001b[8A\u001b[2K\u001b[8A\u001b[2K\u001b[8A\u001b[2K\u001b[8A\u001b[2K\u001b[8A\u001b[2Klatest: digest: sha256:71a767a37625cf604797ad549f0f4a35f448509036bfe7f6fbe954cee9d7c813 size: 2002\n"
     ]
    }
   ],
   "source": [
    "# push docker image to the newly created artifact repository\n",
    "! docker push $REGION-docker.pkg.dev/$PROJECT_ID/$REPOSITORY/$IMAGE"
   ]
  },
  {
   "cell_type": "code",
   "execution_count": 31,
   "id": "60a874e6-f2d7-4d46-b07a-2b430e288df2",
   "metadata": {},
   "outputs": [
    {
     "name": "stdout",
     "output_type": "stream",
     "text": [
      "Using endpoint [https://us-central1-aiplatform.googleapis.com/]\n",
      "Waiting for operation [379980017284677632]...done.                             \n"
     ]
    }
   ],
   "source": [
    "# upload model to Vertex AI  model registry\n",
    "! gcloud ai models upload \\\n",
    "  --region=$REGION \\\n",
    "  --display-name=black-friday-model \\\n",
    "  --container-image-uri=$REGION-docker.pkg.dev/$PROJECT_ID/$REPOSITORY/$IMAGE \\\n",
    "  --container-ports=5005 \\\n",
    "  --container-health-route=/healthz \\\n",
    "  --container-predict-route=/predict"
   ]
  },
  {
   "cell_type": "code",
   "execution_count": 32,
   "id": "73f58662-5d33-405c-bfbb-dbe0e2465fc5",
   "metadata": {},
   "outputs": [
    {
     "name": "stdout",
     "output_type": "stream",
     "text": [
      "Using endpoint [https://us-central1-aiplatform.googleapis.com/]\n",
      "MODEL_ID             DISPLAY_NAME\n",
      "8326014417938415616  black-friday-model\n"
     ]
    }
   ],
   "source": [
    "# list models to double check\n",
    "!gcloud ai models list \\\n",
    "  --region=us-central1 \\\n",
    "  --filter=display_name=black-friday-model"
   ]
  },
  {
   "cell_type": "code",
   "execution_count": 33,
   "id": "f7a99b39-4964-42b8-87ae-01bb1e4ba78c",
   "metadata": {},
   "outputs": [
    {
     "name": "stdout",
     "output_type": "stream",
     "text": [
      "Using endpoint [https://us-central1-aiplatform.googleapis.com/]\n",
      "Waiting for operation [4209165600456441856]...done.                            \n",
      "Created Vertex AI endpoint: projects/354621994428/locations/us-central1/endpoints/8591966489488130048.\n"
     ]
    }
   ],
   "source": [
    "# create a Vertex AI endpoint\n",
    "!gcloud ai endpoints create \\\n",
    "  --region=us-central1 \\\n",
    "  --display-name=black-friday"
   ]
  },
  {
   "cell_type": "markdown",
   "id": "a025a80e-60d5-49f3-be16-4f09b0746d69",
   "metadata": {},
   "source": [
    "**Deploy the model to the endpoint**\n",
    "\n",
    "The model endpoint is collected from the previous cell. The model id is collected from the list of models"
   ]
  },
  {
   "cell_type": "code",
   "execution_count": 35,
   "id": "889266a5-a72a-488f-a7f4-2708c7d9281c",
   "metadata": {},
   "outputs": [
    {
     "name": "stdout",
     "output_type": "stream",
     "text": [
      "Using endpoint [https://us-central1-aiplatform.googleapis.com/]\n",
      "Waiting for operation [2860337512058978304]...done.                            \n",
      "Deployed a model to the endpoint 8591966489488130048. Id of the deployed model: 514256981473624064.\n"
     ]
    }
   ],
   "source": [
    "!gcloud ai endpoints deploy-model 8591966489488130048 \\\n",
    "  --region=us-central1 \\\n",
    "  --model=8326014417938415616 \\\n",
    "  --display-name=black-friday-model \\\n",
    "  --machine-type=n1-standard-4 \\\n",
    "  --min-replica-count=1 \\\n",
    "  --max-replica-count=2 "
   ]
  },
  {
   "cell_type": "markdown",
   "id": "b5cd7ad7-c8ae-4bf5-adde-84c96daccadb",
   "metadata": {},
   "source": [
    "## Sample Prediction"
   ]
  },
  {
   "cell_type": "code",
   "execution_count": 38,
   "id": "72e6bae4-75b1-424b-9254-8e94d6cb3528",
   "metadata": {},
   "outputs": [],
   "source": [
    "import pandas as pd\n",
    "\n",
    "data = pd.read_csv(\n",
    "    \"gs://black-friday-dataset-aaa/pipeline_root/black_friday/354621994428/black-friday-pipeline-20230328211523/create-data_5752350992041508864/test_file_x\",\n",
    "    header=None,\n",
    ")"
   ]
  },
  {
   "cell_type": "code",
   "execution_count": 39,
   "id": "d8423ce8-7fa7-4da9-ab43-154cd4580189",
   "metadata": {},
   "outputs": [],
   "source": [
    "ENDPOINT_ID = \"8591966489488130048\"\n",
    "PROJECT_ID = \"354621994428\""
   ]
  },
  {
   "cell_type": "code",
   "execution_count": 40,
   "id": "96bb41a8-4067-4975-8b52-501f237bb9e6",
   "metadata": {},
   "outputs": [],
   "source": [
    "def endpoint_predict_sample(\n",
    "    project: str, location: str, instances: list, endpoint: str\n",
    "):\n",
    "    aiplatform.init(project=project, location=location)\n",
    "\n",
    "    endpoint = aiplatform.Endpoint(endpoint)\n",
    "\n",
    "    prediction = endpoint.predict(instances=instances)\n",
    "    print(prediction)\n",
    "    return prediction"
   ]
  },
  {
   "cell_type": "code",
   "execution_count": 41,
   "id": "1276df1e-b0f4-419c-bed0-70bdc44ba7d4",
   "metadata": {},
   "outputs": [
    {
     "name": "stdout",
     "output_type": "stream",
     "text": [
      "Prediction(predictions=['Product Category 1'], deployed_model_id='514256981473624064', model_version_id='1', model_resource_name='projects/354621994428/locations/us-central1/models/8326014417938415616', explanations=None)\n"
     ]
    },
    {
     "data": {
      "text/plain": [
       "Prediction(predictions=['Product Category 1'], deployed_model_id='514256981473624064', model_version_id='1', model_resource_name='projects/354621994428/locations/us-central1/models/8326014417938415616', explanations=None)"
      ]
     },
     "execution_count": 41,
     "metadata": {},
     "output_type": "execute_result"
    }
   ],
   "source": [
    "endpoint_predict_sample(\n",
    "    project=PROJECT_ID,\n",
    "    location=REGION,\n",
    "    instances=data.iloc[0].tolist()[4:],\n",
    "    endpoint=ENDPOINT_ID,\n",
    ")  # [4:] to remove the demographic features"
   ]
  },
  {
   "cell_type": "code",
   "execution_count": null,
   "id": "25bf1faf-ee97-481c-ab9b-fcf64d88e1fc",
   "metadata": {},
   "outputs": [],
   "source": []
  }
 ],
 "metadata": {
  "environment": {
   "kernel": "black_friday_env",
   "name": "common-cpu.m104",
   "type": "gcloud",
   "uri": "gcr.io/deeplearning-platform-release/base-cpu:m104"
  },
  "kernelspec": {
   "display_name": "black_friday_env",
   "language": "python",
   "name": "black_friday_env"
  },
  "language_info": {
   "codemirror_mode": {
    "name": "ipython",
    "version": 3
   },
   "file_extension": ".py",
   "mimetype": "text/x-python",
   "name": "python",
   "nbconvert_exporter": "python",
   "pygments_lexer": "ipython3",
   "version": "3.9.16"
  }
 },
 "nbformat": 4,
 "nbformat_minor": 5
}

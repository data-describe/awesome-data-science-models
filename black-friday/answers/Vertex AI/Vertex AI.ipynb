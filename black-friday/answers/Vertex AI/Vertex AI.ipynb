{
 "cells": [
  {
   "cell_type": "markdown",
   "id": "a3354248-c588-4bfc-8664-c3ba5d45eecc",
   "metadata": {},
   "source": [
    "**Check environment dependencies**"
   ]
  },
  {
   "cell_type": "code",
   "execution_count": 1,
   "id": "df90229e-28ca-471b-b779-ff3a24780788",
   "metadata": {},
   "outputs": [
    {
     "name": "stdout",
     "output_type": "stream",
     "text": [
      "KFP SDK version: 1.8.14\n",
      "google_cloud_pipeline_components version: 1.0.26\n",
      "Sklearn version: 1.1.2\n"
     ]
    }
   ],
   "source": [
    "! python3 -c \"import kfp; print('KFP SDK version: {}'.format(kfp.__version__))\"\n",
    "! python3 -c \"import google_cloud_pipeline_components; print('google_cloud_pipeline_components version: {}'.format(google_cloud_pipeline_components.__version__))\"\n",
    "! python3 -c \"import sklearn; print('Sklearn version: {}'.format(sklearn.__version__))\""
   ]
  },
  {
   "cell_type": "code",
   "execution_count": 2,
   "id": "049e5fb7-126a-4a55-832a-cd8c2912f585",
   "metadata": {},
   "outputs": [],
   "source": [
    "from datetime import datetime\n",
    "\n",
    "import google.cloud.aiplatform as aip\n",
    "from google.cloud import aiplatform\n",
    "import kfp\n",
    "from kfp.v2 import dsl, compiler\n",
    "from kfp.v2.google.client import AIPlatformClient\n",
    "\n",
    "# custom code for data processing and model training\n",
    "from utils import create_data, train_model"
   ]
  },
  {
   "cell_type": "markdown",
   "id": "26c0883b-2a55-47ce-a36b-beec0ddbd0d1",
   "metadata": {},
   "source": [
    "**Define environment variables**\n",
    "\n",
    "User should update the <code>BUCKET_NAME</code>. The <code>PROJECT_ID</code> is picked up based on the gcloud configuration"
   ]
  },
  {
   "cell_type": "code",
   "execution_count": 3,
   "id": "17454251-5aec-42fd-9f4d-4e4e90884a53",
   "metadata": {
    "tags": []
   },
   "outputs": [],
   "source": [
    "TIMESTAMP = datetime.now().strftime(\"%Y%m%d%H%M%S\")\n",
    "BUCKET_NAME = \"black-friday-dataset-test\"  # modify\n",
    "BUCKET_URI = f\"gs://{BUCKET_NAME}\"\n",
    "REGION = \"us-central1\"\n",
    "PIPELINE_ROOT = \"{}/pipeline_root/black_friday\".format(BUCKET_URI)\n",
    "DISPLAY_NAME = \"black-friday-\" + TIMESTAMP\n",
    "PACKAGE_PATH = \"pipeline.json\"\n",
    "project_id_shell_output = !gcloud config list --format 'value(core.project)' 2>/dev/null\n",
    "PROJECT_ID = project_id_shell_output[0]"
   ]
  },
  {
   "cell_type": "markdown",
   "id": "429da3ea-1030-465b-9927-bbbbbdccb342",
   "metadata": {},
   "source": [
    "## Data processing and model training"
   ]
  },
  {
   "cell_type": "markdown",
   "id": "1a171a67-679e-4ec5-b652-553e9e5bd6e7",
   "metadata": {},
   "source": [
    "**Initialize the client**"
   ]
  },
  {
   "cell_type": "code",
   "execution_count": 4,
   "id": "b6c6042a-b8f9-479c-a5ba-ac83b419b780",
   "metadata": {},
   "outputs": [],
   "source": [
    "aip.init(project=PROJECT_ID, staging_bucket=BUCKET_URI)"
   ]
  },
  {
   "cell_type": "markdown",
   "id": "6e1b4036-d0c7-4759-92a4-7b3feec4058c",
   "metadata": {},
   "source": [
    "**Define the pipeline**"
   ]
  },
  {
   "cell_type": "code",
   "execution_count": 5,
   "id": "1660bd45-c40b-4da9-b4b8-eac783bfb8dc",
   "metadata": {},
   "outputs": [],
   "source": [
    "@dsl.pipeline(\n",
    "    pipeline_root=PIPELINE_ROOT,\n",
    "    name=\"black-friday-pipeline\",\n",
    ")\n",
    "def pipeline(\n",
    "    train_file_x: str,\n",
    "    train_file_y: str,\n",
    "    test_file_x: str,\n",
    "    test_file_y: str,\n",
    "    best_params_file: str,\n",
    "    metrics_file: str,\n",
    "    num_iterations: int,\n",
    "    hp_tune: bool,\n",
    "):\n",
    "\n",
    "    create_data_task = create_data(\n",
    "        project_id=\"mwpmltr\", bucket_name=BUCKET_NAME, dataset_id=\"black_friday\"\n",
    "    )\n",
    "\n",
    "    train_model_task = train_model(\n",
    "        hp_tune=hp_tune,\n",
    "        project_id=\"mwpmltr\",\n",
    "        bucket_name=BUCKET_NAME,\n",
    "        num_iterations=num_iterations,\n",
    "        train_file_x=create_data_task.outputs[\"train_file_x\"],\n",
    "        test_file_x=create_data_task.outputs[\"test_file_x\"],\n",
    "        train_file_y=create_data_task.outputs[\"train_file_y\"],\n",
    "        test_file_y=create_data_task.outputs[\"test_file_y\"],\n",
    "    )"
   ]
  },
  {
   "cell_type": "code",
   "execution_count": 6,
   "id": "7f4dbfb9-8844-4f2a-b8de-911c3a9d8c3a",
   "metadata": {},
   "outputs": [
    {
     "name": "stderr",
     "output_type": "stream",
     "text": [
      "/Users/rtcrichard/opt/miniconda3/lib/python3.9/site-packages/kfp/v2/compiler/compiler.py:1290: FutureWarning: APIs imported from the v1 namespace (e.g. kfp.dsl, kfp.components, etc) will not be supported by the v2 compiler since v2.0.0\n",
      "  warnings.warn(\n"
     ]
    }
   ],
   "source": [
    "compiler.Compiler().compile(pipeline_func=pipeline, package_path=PACKAGE_PATH)"
   ]
  },
  {
   "cell_type": "markdown",
   "id": "54d3249d-1a8e-4582-bc78-5623845b30c6",
   "metadata": {},
   "source": [
    "**Submit the pipeline to Vertex AI Pipeline**"
   ]
  },
  {
   "cell_type": "code",
   "execution_count": 7,
   "id": "a93f467f-a7e0-42d4-a67f-a20b2f7424a9",
   "metadata": {},
   "outputs": [
    {
     "name": "stdout",
     "output_type": "stream",
     "text": [
      "Creating PipelineJob\n",
      "PipelineJob created. Resource name: projects/55590906972/locations/us-central1/pipelineJobs/black-friday-pipeline-20221102205557\n",
      "To use this PipelineJob in another session:\n",
      "pipeline_job = aiplatform.PipelineJob.get('projects/55590906972/locations/us-central1/pipelineJobs/black-friday-pipeline-20221102205557')\n",
      "View Pipeline Job:\n",
      "https://console.cloud.google.com/vertex-ai/locations/us-central1/pipelines/runs/black-friday-pipeline-20221102205557?project=55590906972\n",
      "PipelineJob projects/55590906972/locations/us-central1/pipelineJobs/black-friday-pipeline-20221102205557 current state:\n",
      "PipelineState.PIPELINE_STATE_PENDING\n",
      "PipelineJob projects/55590906972/locations/us-central1/pipelineJobs/black-friday-pipeline-20221102205557 current state:\n",
      "PipelineState.PIPELINE_STATE_PENDING\n",
      "PipelineJob projects/55590906972/locations/us-central1/pipelineJobs/black-friday-pipeline-20221102205557 current state:\n",
      "PipelineState.PIPELINE_STATE_RUNNING\n",
      "PipelineJob projects/55590906972/locations/us-central1/pipelineJobs/black-friday-pipeline-20221102205557 current state:\n",
      "PipelineState.PIPELINE_STATE_RUNNING\n",
      "PipelineJob projects/55590906972/locations/us-central1/pipelineJobs/black-friday-pipeline-20221102205557 current state:\n",
      "PipelineState.PIPELINE_STATE_RUNNING\n",
      "PipelineJob projects/55590906972/locations/us-central1/pipelineJobs/black-friday-pipeline-20221102205557 current state:\n",
      "PipelineState.PIPELINE_STATE_RUNNING\n",
      "PipelineJob projects/55590906972/locations/us-central1/pipelineJobs/black-friday-pipeline-20221102205557 current state:\n",
      "PipelineState.PIPELINE_STATE_RUNNING\n",
      "PipelineJob projects/55590906972/locations/us-central1/pipelineJobs/black-friday-pipeline-20221102205557 current state:\n",
      "PipelineState.PIPELINE_STATE_RUNNING\n",
      "PipelineJob projects/55590906972/locations/us-central1/pipelineJobs/black-friday-pipeline-20221102205557 current state:\n",
      "PipelineState.PIPELINE_STATE_RUNNING\n",
      "PipelineJob projects/55590906972/locations/us-central1/pipelineJobs/black-friday-pipeline-20221102205557 current state:\n",
      "PipelineState.PIPELINE_STATE_RUNNING\n",
      "PipelineJob projects/55590906972/locations/us-central1/pipelineJobs/black-friday-pipeline-20221102205557 current state:\n",
      "PipelineState.PIPELINE_STATE_RUNNING\n",
      "PipelineJob projects/55590906972/locations/us-central1/pipelineJobs/black-friday-pipeline-20221102205557 current state:\n",
      "PipelineState.PIPELINE_STATE_RUNNING\n",
      "PipelineJob run completed. Resource name: projects/55590906972/locations/us-central1/pipelineJobs/black-friday-pipeline-20221102205557\n"
     ]
    }
   ],
   "source": [
    "job = aip.PipelineJob(\n",
    "    display_name=DISPLAY_NAME,\n",
    "    template_path=PACKAGE_PATH,\n",
    "    pipeline_root=PIPELINE_ROOT,\n",
    "    parameter_values={\n",
    "        \"train_file_x\": \"x_train.csv\",\n",
    "        \"train_file_y\": \"y_train.csv\",\n",
    "        \"test_file_x\": \"x_test.csv\",\n",
    "        \"test_file_y\": \"y_test.csv\",\n",
    "        \"best_params_file\": \"best_params.json\",\n",
    "        \"metrics_file\": \"metrics.json\",\n",
    "        \"num_iterations\": 100,\n",
    "        \"hp_tune\": True,\n",
    "    },\n",
    ")\n",
    "\n",
    "job.run()"
   ]
  },
  {
   "cell_type": "markdown",
   "id": "9e2ab02e-a038-41c4-9318-cf099b842dfe",
   "metadata": {},
   "source": [
    "**Copy the model to your local directory**\n",
    "\n",
    "Get the URI of the model file by clicking through the Vertex AI Pipeline UI. Select the model artifact and follow the path to the model"
   ]
  },
  {
   "cell_type": "code",
   "execution_count": 8,
   "id": "430b3fdb-ebbc-419a-889a-0e3dcdc3f216",
   "metadata": {},
   "outputs": [
    {
     "name": "stdout",
     "output_type": "stream",
     "text": [
      "\n",
      "\n",
      "Updates are available for some Google Cloud CLI components.  To install them,\n",
      "please run:\n",
      "  $ gcloud components update\n",
      "\n",
      "Copying gs://black-friday-dataset-test/pipeline_root/black_friday/55590906972/black-friday-pipeline-20221102205557/train-model_-8375679907920871424/model_file.pkl...\n",
      "==> NOTE: You are downloading one or more large file(s), which would            \n",
      "run significantly faster if you enabled sliced object downloads. This\n",
      "feature is enabled by default but requires that compiled crcmod be\n",
      "installed (see \"gsutil help crcmod\").\n",
      "\n",
      "| [1 files][519.2 MiB/519.2 MiB]   1001 KiB/s                                   \n",
      "Operation completed over 1 objects/519.2 MiB.                                    \n"
     ]
    }
   ],
   "source": [
    "! gsutil cp gs://black-friday-dataset-test/pipeline_root/black_friday/55590906972/black-friday-pipeline-20221102205557/train-model_-8375679907920871424/model_file.pkl model.pkl"
   ]
  },
  {
   "cell_type": "markdown",
   "id": "9a0d06b9-1acc-4030-9f8c-b70b05f4df8f",
   "metadata": {},
   "source": [
    "## Model Deployment"
   ]
  },
  {
   "cell_type": "markdown",
   "id": "6069f980-deb4-41a9-b6dd-294746be97aa",
   "metadata": {},
   "source": [
    "**Set environment variables for command line arguments**\n",
    "\n",
    "For custom prediction routines, a docker image must be provided"
   ]
  },
  {
   "cell_type": "code",
   "execution_count": null,
   "id": "62afd03d-8b18-4775-abac-6ae1b7864996",
   "metadata": {},
   "outputs": [],
   "source": [
    "%env PROJECT_ID={PROJECT_ID}\n",
    "%env REGION={REGION}\n",
    "%env REPOSITORY=black-friday-v1\n",
    "%env IMAGE=black-friday-image"
   ]
  },
  {
   "cell_type": "code",
   "execution_count": null,
   "id": "c2a45aac-fa02-421d-be0e-7e9d0032dd6c",
   "metadata": {},
   "outputs": [],
   "source": [
    "# build image\n",
    "!docker build --tag=$REGION-docker.pkg.dev/$PROJECT_ID/$REPOSITORY/$IMAGE ."
   ]
  },
  {
   "cell_type": "code",
   "execution_count": null,
   "id": "80b9a608-acb0-4ab6-b65e-95d68d3817a0",
   "metadata": {},
   "outputs": [],
   "source": [
    "# create repository in artifact repository\n",
    "! gcloud artifacts repositories create $REPOSITORY  \\\n",
    "                             --repository-format=docker \\\n",
    "                             --location=$REGION"
   ]
  },
  {
   "cell_type": "code",
   "execution_count": null,
   "id": "3ef839d9-64fe-4a9b-9b2f-202630d46ef0",
   "metadata": {},
   "outputs": [],
   "source": [
    "# push docker image to the newly created artifact repository\n",
    "! docker push $REGION-docker.pkg.dev/$PROJECT_ID/$REPOSITORY/$IMAGE"
   ]
  },
  {
   "cell_type": "code",
   "execution_count": null,
   "id": "60a874e6-f2d7-4d46-b07a-2b430e288df2",
   "metadata": {},
   "outputs": [],
   "source": [
    "# upload model to Vertex AI  model registry\n",
    "! gcloud ai models upload \\\n",
    "  --region=us-central1 \\\n",
    "  --display-name=black-friday-model \\\n",
    "  --container-image-uri=$REGION-docker.pkg.dev/$PROJECT_ID/$REPOSITORY/$IMAGE \\\n",
    "  --container-ports=5005 \\\n",
    "  --container-health-route=/healthz \\\n",
    "  --container-predict-route=/predict"
   ]
  },
  {
   "cell_type": "code",
   "execution_count": null,
   "id": "73f58662-5d33-405c-bfbb-dbe0e2465fc5",
   "metadata": {},
   "outputs": [],
   "source": [
    "# list models to double check\n",
    "!gcloud ai models list \\\n",
    "  --region=us-central1 \\\n",
    "  --filter=display_name=black-friday-model"
   ]
  },
  {
   "cell_type": "code",
   "execution_count": null,
   "id": "f7a99b39-4964-42b8-87ae-01bb1e4ba78c",
   "metadata": {},
   "outputs": [],
   "source": [
    "# create a Vertex AI endpoint\n",
    "!gcloud ai endpoints create \\\n",
    "  --region=us-central1 \\\n",
    "  --display-name=black-friday-test2"
   ]
  },
  {
   "cell_type": "markdown",
   "id": "a025a80e-60d5-49f3-be16-4f09b0746d69",
   "metadata": {},
   "source": [
    "**Deploy the model to the endpoint**\n",
    "\n",
    "The model endpoint is collected from the previous cell. The model id is collected from the list of models"
   ]
  },
  {
   "cell_type": "code",
   "execution_count": null,
   "id": "889266a5-a72a-488f-a7f4-2708c7d9281c",
   "metadata": {},
   "outputs": [],
   "source": [
    "\n",
    "!gcloud ai endpoints deploy-model 4126638662857261056 \\\n",
    "  --region=us-central1 \\\n",
    "  --model=7845406890321248256 \\\n",
    "  --display-name=black-friday-model \\\n",
    "  --machine-type=n1-standard-4 \\\n",
    "  --min-replica-count=1 \\\n",
    "  --max-replica-count=2 "
   ]
  },
  {
   "cell_type": "code",
   "execution_count": 12,
   "id": "7c0e74ad-b41c-40ca-9d0c-70cdf94ea802",
   "metadata": {},
   "outputs": [],
   "source": [
    "import pandas as pd\n",
    "d = pd.read_csv(\"gs://black-friday-dataset-test/pipeline_root/black_friday/55590906972/black-friday-pipeline-20221102205557/create-data_847692128933904384/train_file_x\")"
   ]
  },
  {
   "cell_type": "code",
   "execution_count": 13,
   "id": "564057c7-8cd2-4969-ba35-8a598c55176b",
   "metadata": {},
   "outputs": [
    {
     "data": {
      "text/plain": [
       "(4716, 82)"
      ]
     },
     "execution_count": 13,
     "metadata": {},
     "output_type": "execute_result"
    }
   ],
   "source": [
    "d.shape"
   ]
  },
  {
   "cell_type": "code",
   "execution_count": 18,
   "id": "806518c9-bf63-4e97-af9c-1c73353e3d07",
   "metadata": {},
   "outputs": [],
   "source": [
    "metrics = pd.read_csv(\"gs://black-friday-dataset-test/pipeline_root/black_friday/55590906972/black-friday-pipeline-20221102205557/train-model_-8375679907920871424/metrics_file.json\")"
   ]
  },
  {
   "cell_type": "code",
   "execution_count": 16,
   "id": "7aa26e18-a245-45eb-82d3-1e8afd941674",
   "metadata": {},
   "outputs": [
    {
     "data": {
      "text/html": [
       "<div>\n",
       "<style scoped>\n",
       "    .dataframe tbody tr th:only-of-type {\n",
       "        vertical-align: middle;\n",
       "    }\n",
       "\n",
       "    .dataframe tbody tr th {\n",
       "        vertical-align: top;\n",
       "    }\n",
       "\n",
       "    .dataframe thead th {\n",
       "        text-align: right;\n",
       "    }\n",
       "</style>\n",
       "<table border=\"1\" class=\"dataframe\">\n",
       "  <thead>\n",
       "    <tr style=\"text-align: right;\">\n",
       "      <th></th>\n",
       "      <th>{\"iteraion_0_accuracy\": 0.036016949152542374</th>\n",
       "      <th>\"iteraion_1_accuracy\": 0.037076271186440676</th>\n",
       "      <th>\"iteraion_2_accuracy\": 0.036016949152542374</th>\n",
       "      <th>\"iteraion_3_accuracy\": 0.0423728813559322</th>\n",
       "      <th>\"iteraion_4_accuracy\": 0.046610169491525424</th>\n",
       "      <th>\"iteraion_5_accuracy\": 0.036016949152542374</th>\n",
       "      <th>\"iteraion_6_accuracy\": 0.04766949152542373</th>\n",
       "      <th>\"iteraion_7_accuracy\": 0.048728813559322036</th>\n",
       "      <th>\"iteraion_8_accuracy\": 0.04343220338983051</th>\n",
       "      <th>\"iteraion_9_accuracy\": 0.04978813559322034</th>\n",
       "      <th>...</th>\n",
       "      <th>\"iteraion_91_accuracy\": 0.028601694915254237</th>\n",
       "      <th>\"iteraion_92_accuracy\": 0.03283898305084746</th>\n",
       "      <th>\"iteraion_93_accuracy\": 0.037076271186440676</th>\n",
       "      <th>\"iteraion_94_accuracy\": 0.037076271186440676</th>\n",
       "      <th>\"iteraion_95_accuracy\": 0.046610169491525424</th>\n",
       "      <th>\"iteraion_96_accuracy\": 0.04766949152542373</th>\n",
       "      <th>\"iteraion_97_accuracy\": 0.04025423728813559</th>\n",
       "      <th>\"iteraion_98_accuracy\": 0.0423728813559322</th>\n",
       "      <th>\"iteraion_99_accuracy\": 0.05084745762711865</th>\n",
       "      <th>\"final_model_accuracy\": \"4\"}</th>\n",
       "    </tr>\n",
       "  </thead>\n",
       "  <tbody>\n",
       "  </tbody>\n",
       "</table>\n",
       "<p>0 rows × 101 columns</p>\n",
       "</div>"
      ],
      "text/plain": [
       "Empty DataFrame\n",
       "Columns: [{\"iteraion_0_accuracy\": 0.036016949152542374,  \"iteraion_1_accuracy\": 0.037076271186440676,  \"iteraion_2_accuracy\": 0.036016949152542374,  \"iteraion_3_accuracy\": 0.0423728813559322,  \"iteraion_4_accuracy\": 0.046610169491525424,  \"iteraion_5_accuracy\": 0.036016949152542374,  \"iteraion_6_accuracy\": 0.04766949152542373,  \"iteraion_7_accuracy\": 0.048728813559322036,  \"iteraion_8_accuracy\": 0.04343220338983051,  \"iteraion_9_accuracy\": 0.04978813559322034,  \"iteraion_10_accuracy\": 0.04025423728813559,  \"iteraion_11_accuracy\": 0.038135593220338986,  \"iteraion_12_accuracy\": 0.0423728813559322,  \"iteraion_13_accuracy\": 0.03072033898305085,  \"iteraion_14_accuracy\": 0.0423728813559322,  \"iteraion_15_accuracy\": 0.03072033898305085,  \"iteraion_16_accuracy\": 0.04025423728813559,  \"iteraion_17_accuracy\": 0.03919491525423729,  \"iteraion_18_accuracy\": 0.04343220338983051,  \"iteraion_19_accuracy\": 0.045550847457627115,  \"iteraion_20_accuracy\": 0.03389830508474576,  \"iteraion_21_accuracy\": 0.04766949152542373,  \"iteraion_22_accuracy\": 0.038135593220338986,  \"iteraion_23_accuracy\": 0.05190677966101695,  \"iteraion_24_accuracy\": 0.04025423728813559,  \"iteraion_25_accuracy\": 0.036016949152542374,  \"iteraion_26_accuracy\": 0.034957627118644065,  \"iteraion_27_accuracy\": 0.036016949152542374,  \"iteraion_28_accuracy\": 0.03389830508474576,  \"iteraion_29_accuracy\": 0.045550847457627115,  \"iteraion_30_accuracy\": 0.0413135593220339,  \"iteraion_31_accuracy\": 0.03919491525423729,  \"iteraion_32_accuracy\": 0.03919491525423729,  \"iteraion_33_accuracy\": 0.036016949152542374,  \"iteraion_34_accuracy\": 0.05190677966101695,  \"iteraion_35_accuracy\": 0.046610169491525424,  \"iteraion_36_accuracy\": 0.0423728813559322,  \"iteraion_37_accuracy\": 0.037076271186440676,  \"iteraion_38_accuracy\": 0.034957627118644065,  \"iteraion_39_accuracy\": 0.038135593220338986,  \"iteraion_40_accuracy\": 0.04343220338983051,  \"iteraion_41_accuracy\": 0.0413135593220339,  \"iteraion_42_accuracy\": 0.038135593220338986,  \"iteraion_43_accuracy\": 0.0413135593220339,  \"iteraion_44_accuracy\": 0.038135593220338986,  \"iteraion_45_accuracy\": 0.04766949152542373,  \"iteraion_46_accuracy\": 0.04978813559322034,  \"iteraion_47_accuracy\": 0.038135593220338986,  \"iteraion_48_accuracy\": 0.05296610169491525,  \"iteraion_49_accuracy\": 0.04025423728813559,  \"iteraion_50_accuracy\": 0.03919491525423729,  \"iteraion_51_accuracy\": 0.04978813559322034,  \"iteraion_52_accuracy\": 0.0423728813559322,  \"iteraion_53_accuracy\": 0.03389830508474576,  \"iteraion_54_accuracy\": 0.026483050847457626,  \"iteraion_55_accuracy\": 0.04343220338983051,  \"iteraion_56_accuracy\": 0.0423728813559322,  \"iteraion_57_accuracy\": 0.05190677966101695,  \"iteraion_58_accuracy\": 0.045550847457627115,  \"iteraion_59_accuracy\": 0.03283898305084746,  \"iteraion_60_accuracy\": 0.059322033898305086,  \"iteraion_61_accuracy\": 0.04449152542372881,  \"iteraion_62_accuracy\": 0.037076271186440676,  \"iteraion_63_accuracy\": 0.037076271186440676,  \"iteraion_64_accuracy\": 0.03919491525423729,  \"iteraion_65_accuracy\": 0.04025423728813559,  \"iteraion_66_accuracy\": 0.03177966101694915,  \"iteraion_67_accuracy\": 0.04025423728813559,  \"iteraion_68_accuracy\": 0.03389830508474576,  \"iteraion_69_accuracy\": 0.0413135593220339,  \"iteraion_70_accuracy\": 0.04766949152542373,  \"iteraion_71_accuracy\": 0.04449152542372881,  \"iteraion_72_accuracy\": 0.046610169491525424,  \"iteraion_73_accuracy\": 0.0423728813559322,  \"iteraion_74_accuracy\": 0.028601694915254237,  \"iteraion_75_accuracy\": 0.038135593220338986,  \"iteraion_76_accuracy\": 0.05508474576271186,  \"iteraion_77_accuracy\": 0.05402542372881356,  \"iteraion_78_accuracy\": 0.045550847457627115,  \"iteraion_79_accuracy\": 0.026483050847457626,  \"iteraion_80_accuracy\": 0.045550847457627115,  \"iteraion_81_accuracy\": 0.04025423728813559,  \"iteraion_82_accuracy\": 0.03283898305084746,  \"iteraion_83_accuracy\": 0.034957627118644065,  \"iteraion_84_accuracy\": 0.04343220338983051,  \"iteraion_85_accuracy\": 0.03177966101694915,  \"iteraion_86_accuracy\": 0.048728813559322036,  \"iteraion_87_accuracy\": 0.034957627118644065,  \"iteraion_88_accuracy\": 0.036016949152542374,  \"iteraion_89_accuracy\": 0.037076271186440676,  \"iteraion_90_accuracy\": 0.03283898305084746,  \"iteraion_91_accuracy\": 0.028601694915254237,  \"iteraion_92_accuracy\": 0.03283898305084746,  \"iteraion_93_accuracy\": 0.037076271186440676,  \"iteraion_94_accuracy\": 0.037076271186440676,  \"iteraion_95_accuracy\": 0.046610169491525424,  \"iteraion_96_accuracy\": 0.04766949152542373,  \"iteraion_97_accuracy\": 0.04025423728813559,  \"iteraion_98_accuracy\": 0.0423728813559322,  \"iteraion_99_accuracy\": 0.05084745762711865, ...]\n",
       "Index: []\n",
       "\n",
       "[0 rows x 101 columns]"
      ]
     },
     "execution_count": 16,
     "metadata": {},
     "output_type": "execute_result"
    }
   ],
   "source": [
    "metrics"
   ]
  },
  {
   "cell_type": "code",
   "execution_count": null,
   "id": "72e6bae4-75b1-424b-9254-8e94d6cb3528",
   "metadata": {},
   "outputs": [],
   "source": []
  }
 ],
 "metadata": {
  "environment": {
   "kernel": "python3",
   "name": "common-cpu.m99",
   "type": "gcloud",
   "uri": "gcr.io/deeplearning-platform-release/base-cpu:m99"
  },
  "kernelspec": {
   "display_name": "Python 3 (ipykernel)",
   "language": "python",
   "name": "python3"
  },
  "language_info": {
   "codemirror_mode": {
    "name": "ipython",
    "version": 3
   },
   "file_extension": ".py",
   "mimetype": "text/x-python",
   "name": "python",
   "nbconvert_exporter": "python",
   "pygments_lexer": "ipython3",
   "version": "3.9.12"
  }
 },
 "nbformat": 4,
 "nbformat_minor": 5
}

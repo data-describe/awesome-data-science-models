{
 "cells": [
  {
   "cell_type": "markdown",
   "id": "a3354248-c588-4bfc-8664-c3ba5d45eecc",
   "metadata": {},
   "source": [
    "**Check environment dependencies**"
   ]
  },
  {
   "cell_type": "code",
   "execution_count": 1,
   "id": "df90229e-28ca-471b-b779-ff3a24780788",
   "metadata": {},
   "outputs": [
    {
     "name": "stdout",
     "output_type": "stream",
     "text": [
      "KFP SDK version: 1.8.14\n",
      "google_cloud_pipeline_components version: 1.0.26\n",
      "Sklearn version: 1.0.2\n"
     ]
    }
   ],
   "source": [
    "! python3 -c \"import kfp; print('KFP SDK version: {}'.format(kfp.__version__))\"\n",
    "! python3 -c \"import google_cloud_pipeline_components; print('google_cloud_pipeline_components version: {}'.format(google_cloud_pipeline_components.__version__))\"\n",
    "! python3 -c \"import sklearn; print('Sklearn version: {}'.format(sklearn.__version__))\""
   ]
  },
  {
   "cell_type": "code",
   "execution_count": 8,
   "id": "049e5fb7-126a-4a55-832a-cd8c2912f585",
   "metadata": {},
   "outputs": [],
   "source": [
    "from datetime import datetime\n",
    "\n",
    "import google.cloud.aiplatform as aip\n",
    "from google.cloud import aiplatform\n",
    "import kfp\n",
    "from kfp.v2 import dsl, compiler\n",
    "from kfp.v2.google.client import AIPlatformClient\n",
    "\n",
    "# custom code for data processing and model training\n",
    "from utils import create_data, train_model"
   ]
  },
  {
   "cell_type": "markdown",
   "id": "26c0883b-2a55-47ce-a36b-beec0ddbd0d1",
   "metadata": {},
   "source": [
    "**Define environment variables**\n",
    "\n",
    "User should update the <code>BUCKET_NAME</code>. The <code>PROJECT_ID</code> is picked up based on the gcloud configuration"
   ]
  },
  {
   "cell_type": "code",
   "execution_count": 9,
   "id": "17454251-5aec-42fd-9f4d-4e4e90884a53",
   "metadata": {
    "tags": []
   },
   "outputs": [],
   "source": [
    "TIMESTAMP = datetime.now().strftime(\"%Y%m%d%H%M%S\")\n",
    "BUCKET_NAME = \"black-friday-dataset-test\"  # modify\n",
    "BUCKET_URI = f\"gs://{BUCKET_NAME}\"\n",
    "REGION = \"us-central1\"\n",
    "PIPELINE_ROOT = \"{}/pipeline_root/black_friday\".format(BUCKET_URI)\n",
    "DISPLAY_NAME = \"black-friday-\" + TIMESTAMP\n",
    "PACKAGE_PATH = \"pipeline.json\"\n",
    "project_id_shell_output = !gcloud config list --format 'value(core.project)' 2>/dev/null\n",
    "PROJECT_ID = project_id_shell_output[0]"
   ]
  },
  {
   "cell_type": "markdown",
   "id": "429da3ea-1030-465b-9927-bbbbbdccb342",
   "metadata": {},
   "source": [
    "## Data processing and model training"
   ]
  },
  {
   "cell_type": "markdown",
   "id": "1a171a67-679e-4ec5-b652-553e9e5bd6e7",
   "metadata": {},
   "source": [
    "**Initialize the client**"
   ]
  },
  {
   "cell_type": "code",
   "execution_count": 10,
   "id": "b6c6042a-b8f9-479c-a5ba-ac83b419b780",
   "metadata": {},
   "outputs": [],
   "source": [
    "aip.init(project=PROJECT_ID, staging_bucket=BUCKET_URI)"
   ]
  },
  {
   "cell_type": "markdown",
   "id": "6e1b4036-d0c7-4759-92a4-7b3feec4058c",
   "metadata": {},
   "source": [
    "**Define the pipeline**"
   ]
  },
  {
   "cell_type": "code",
   "execution_count": 5,
   "id": "1660bd45-c40b-4da9-b4b8-eac783bfb8dc",
   "metadata": {},
   "outputs": [],
   "source": [
    "@dsl.pipeline(\n",
    "    pipeline_root=PIPELINE_ROOT,\n",
    "    name=\"black-friday-pipeline\",\n",
    ")\n",
    "def pipeline(\n",
    "    train_file_x: str,\n",
    "    train_file_y: str,\n",
    "    test_file_x: str,\n",
    "    test_file_y: str,\n",
    "    best_params_file: str,\n",
    "    metrics_file: str,\n",
    "    num_iterations: int,\n",
    "    hp_tune: bool,\n",
    "):\n",
    "\n",
    "    create_data_task = create_data(\n",
    "        project_id=\"mwpmltr\", bucket_name=BUCKET_NAME, dataset_id=\"black_friday\"\n",
    "    )\n",
    "\n",
    "    train_model_task = train_model(\n",
    "        hp_tune=hp_tune,\n",
    "        project_id=\"mwpmltr\",\n",
    "        bucket_name=BUCKET_NAME,\n",
    "        num_iterations=num_iterations,\n",
    "        train_file_x=create_data_task.outputs[\"train_file_x\"],\n",
    "        test_file_x=create_data_task.outputs[\"test_file_x\"],\n",
    "        train_file_y=create_data_task.outputs[\"train_file_y\"],\n",
    "        test_file_y=create_data_task.outputs[\"test_file_y\"],\n",
    "    )"
   ]
  },
  {
   "cell_type": "code",
   "execution_count": 6,
   "id": "7f4dbfb9-8844-4f2a-b8de-911c3a9d8c3a",
   "metadata": {},
   "outputs": [
    {
     "name": "stderr",
     "output_type": "stream",
     "text": [
      "/Users/rtcrichard/opt/miniconda3/lib/python3.9/site-packages/kfp/v2/compiler/compiler.py:1290: FutureWarning: APIs imported from the v1 namespace (e.g. kfp.dsl, kfp.components, etc) will not be supported by the v2 compiler since v2.0.0\n",
      "  warnings.warn(\n"
     ]
    }
   ],
   "source": [
    "compiler.Compiler().compile(pipeline_func=pipeline, package_path=PACKAGE_PATH)"
   ]
  },
  {
   "cell_type": "markdown",
   "id": "54d3249d-1a8e-4582-bc78-5623845b30c6",
   "metadata": {},
   "source": [
    "**Submit the pipeline to Vertex AI Pipeline**"
   ]
  },
  {
   "cell_type": "code",
   "execution_count": 7,
   "id": "a93f467f-a7e0-42d4-a67f-a20b2f7424a9",
   "metadata": {},
   "outputs": [
    {
     "name": "stdout",
     "output_type": "stream",
     "text": [
      "Creating PipelineJob\n",
      "PipelineJob created. Resource name: projects/55590906972/locations/us-central1/pipelineJobs/black-friday-pipeline-20221102205557\n",
      "To use this PipelineJob in another session:\n",
      "pipeline_job = aiplatform.PipelineJob.get('projects/55590906972/locations/us-central1/pipelineJobs/black-friday-pipeline-20221102205557')\n",
      "View Pipeline Job:\n",
      "https://console.cloud.google.com/vertex-ai/locations/us-central1/pipelines/runs/black-friday-pipeline-20221102205557?project=55590906972\n",
      "PipelineJob projects/55590906972/locations/us-central1/pipelineJobs/black-friday-pipeline-20221102205557 current state:\n",
      "PipelineState.PIPELINE_STATE_PENDING\n",
      "PipelineJob projects/55590906972/locations/us-central1/pipelineJobs/black-friday-pipeline-20221102205557 current state:\n",
      "PipelineState.PIPELINE_STATE_PENDING\n",
      "PipelineJob projects/55590906972/locations/us-central1/pipelineJobs/black-friday-pipeline-20221102205557 current state:\n",
      "PipelineState.PIPELINE_STATE_RUNNING\n",
      "PipelineJob projects/55590906972/locations/us-central1/pipelineJobs/black-friday-pipeline-20221102205557 current state:\n",
      "PipelineState.PIPELINE_STATE_RUNNING\n",
      "PipelineJob projects/55590906972/locations/us-central1/pipelineJobs/black-friday-pipeline-20221102205557 current state:\n",
      "PipelineState.PIPELINE_STATE_RUNNING\n",
      "PipelineJob projects/55590906972/locations/us-central1/pipelineJobs/black-friday-pipeline-20221102205557 current state:\n",
      "PipelineState.PIPELINE_STATE_RUNNING\n",
      "PipelineJob projects/55590906972/locations/us-central1/pipelineJobs/black-friday-pipeline-20221102205557 current state:\n",
      "PipelineState.PIPELINE_STATE_RUNNING\n",
      "PipelineJob projects/55590906972/locations/us-central1/pipelineJobs/black-friday-pipeline-20221102205557 current state:\n",
      "PipelineState.PIPELINE_STATE_RUNNING\n",
      "PipelineJob projects/55590906972/locations/us-central1/pipelineJobs/black-friday-pipeline-20221102205557 current state:\n",
      "PipelineState.PIPELINE_STATE_RUNNING\n",
      "PipelineJob projects/55590906972/locations/us-central1/pipelineJobs/black-friday-pipeline-20221102205557 current state:\n",
      "PipelineState.PIPELINE_STATE_RUNNING\n",
      "PipelineJob projects/55590906972/locations/us-central1/pipelineJobs/black-friday-pipeline-20221102205557 current state:\n",
      "PipelineState.PIPELINE_STATE_RUNNING\n",
      "PipelineJob projects/55590906972/locations/us-central1/pipelineJobs/black-friday-pipeline-20221102205557 current state:\n",
      "PipelineState.PIPELINE_STATE_RUNNING\n",
      "PipelineJob run completed. Resource name: projects/55590906972/locations/us-central1/pipelineJobs/black-friday-pipeline-20221102205557\n"
     ]
    }
   ],
   "source": [
    "job = aip.PipelineJob(\n",
    "    display_name=DISPLAY_NAME,\n",
    "    template_path=PACKAGE_PATH,\n",
    "    pipeline_root=PIPELINE_ROOT,\n",
    "    parameter_values={\n",
    "        \"train_file_x\": \"x_train.csv\",\n",
    "        \"train_file_y\": \"y_train.csv\",\n",
    "        \"test_file_x\": \"x_test.csv\",\n",
    "        \"test_file_y\": \"y_test.csv\",\n",
    "        \"best_params_file\": \"best_params.json\",\n",
    "        \"metrics_file\": \"metrics.json\",\n",
    "        \"num_iterations\": 100,\n",
    "        \"hp_tune\": True,\n",
    "    },\n",
    ")\n",
    "\n",
    "job.run()"
   ]
  },
  {
   "cell_type": "markdown",
   "id": "9e2ab02e-a038-41c4-9318-cf099b842dfe",
   "metadata": {},
   "source": [
    "**Copy the model to your local directory**\n",
    "\n",
    "Get the URI of the model file by clicking through the Vertex AI Pipeline UI. Select the model artifact and follow the path to the model"
   ]
  },
  {
   "cell_type": "code",
   "execution_count": 8,
   "id": "430b3fdb-ebbc-419a-889a-0e3dcdc3f216",
   "metadata": {},
   "outputs": [
    {
     "name": "stdout",
     "output_type": "stream",
     "text": [
      "\n",
      "\n",
      "Updates are available for some Google Cloud CLI components.  To install them,\n",
      "please run:\n",
      "  $ gcloud components update\n",
      "\n",
      "Copying gs://black-friday-dataset-test/pipeline_root/black_friday/55590906972/black-friday-pipeline-20221102205557/train-model_-8375679907920871424/model_file.pkl...\n",
      "==> NOTE: You are downloading one or more large file(s), which would            \n",
      "run significantly faster if you enabled sliced object downloads. This\n",
      "feature is enabled by default but requires that compiled crcmod be\n",
      "installed (see \"gsutil help crcmod\").\n",
      "\n",
      "| [1 files][519.2 MiB/519.2 MiB]   1001 KiB/s                                   \n",
      "Operation completed over 1 objects/519.2 MiB.                                    \n"
     ]
    }
   ],
   "source": [
    "! gsutil cp gs://black-friday-dataset-test/pipeline_root/black_friday/55590906972/black-friday-pipeline-20221102205557/train-model_-8375679907920871424/model_file.pkl model.pkl"
   ]
  },
  {
   "cell_type": "markdown",
   "id": "9a0d06b9-1acc-4030-9f8c-b70b05f4df8f",
   "metadata": {},
   "source": [
    "## Model Deployment"
   ]
  },
  {
   "cell_type": "markdown",
   "id": "6069f980-deb4-41a9-b6dd-294746be97aa",
   "metadata": {},
   "source": [
    "**Set environment variables for command line arguments**\n",
    "\n",
    "For custom prediction routines, a docker image must be provided"
   ]
  },
  {
   "cell_type": "code",
   "execution_count": 5,
   "id": "62afd03d-8b18-4775-abac-6ae1b7864996",
   "metadata": {},
   "outputs": [
    {
     "name": "stdout",
     "output_type": "stream",
     "text": [
      "env: PROJECT_ID=mwpmltr\n",
      "env: REGION=us-central1\n",
      "env: REPOSITORY=black-friday-v1\n",
      "env: IMAGE=black-friday-image\n"
     ]
    }
   ],
   "source": [
    "%env PROJECT_ID={PROJECT_ID}\n",
    "%env REGION={REGION}\n",
    "%env REPOSITORY=black-friday-v1\n",
    "%env IMAGE=black-friday-image"
   ]
  },
  {
   "cell_type": "code",
   "execution_count": 6,
   "id": "c2a45aac-fa02-421d-be0e-7e9d0032dd6c",
   "metadata": {},
   "outputs": [
    {
     "name": "stdout",
     "output_type": "stream",
     "text": [
      "Sending build context to Docker daemon  544.5MB\n",
      "Step 1/6 : FROM python:3.9-slim\n",
      " ---> f550e60adaa9\n",
      "Step 2/6 : WORKDIR /app\n",
      " ---> Using cache\n",
      " ---> 93c16a38e41e\n",
      "Step 3/6 : COPY . /app\n",
      " ---> 24e1f2494e63\n",
      "Step 4/6 : RUN pip3 install scikit-learn==1.1.3 gunicorn flask flask-cors\n",
      " ---> Running in 2ff0371183d3\n",
      "Collecting scikit-learn==1.1.3\n",
      "  Downloading scikit_learn-1.1.3-cp39-cp39-manylinux_2_17_x86_64.manylinux2014_x86_64.whl (30.8 MB)\n",
      "     ━━━━━━━━━━━━━━━━━━━━━━━━━━━━━━━━━━━━━━━━ 30.8/30.8 MB 44.2 MB/s eta 0:00:00\n",
      "Collecting gunicorn\n",
      "  Downloading gunicorn-20.1.0-py3-none-any.whl (79 kB)\n",
      "     ━━━━━━━━━━━━━━━━━━━━━━━━━━━━━━━━━━━━━━━━ 79.5/79.5 KB 12.6 MB/s eta 0:00:00\n",
      "Collecting flask\n",
      "  Downloading Flask-2.2.2-py3-none-any.whl (101 kB)\n",
      "     ━━━━━━━━━━━━━━━━━━━━━━━━━━━━━━━━━━━━━━ 101.5/101.5 KB 14.3 MB/s eta 0:00:00\n",
      "Collecting flask-cors\n",
      "  Downloading Flask_Cors-3.0.10-py2.py3-none-any.whl (14 kB)\n",
      "Collecting scipy>=1.3.2\n",
      "  Downloading scipy-1.9.3-cp39-cp39-manylinux_2_17_x86_64.manylinux2014_x86_64.whl (33.8 MB)\n",
      "     ━━━━━━━━━━━━━━━━━━━━━━━━━━━━━━━━━━━━━━━━ 33.8/33.8 MB 40.9 MB/s eta 0:00:00\n",
      "Collecting numpy>=1.17.3\n",
      "  Downloading numpy-1.23.4-cp39-cp39-manylinux_2_17_x86_64.manylinux2014_x86_64.whl (17.1 MB)\n",
      "     ━━━━━━━━━━━━━━━━━━━━━━━━━━━━━━━━━━━━━━━━ 17.1/17.1 MB 67.9 MB/s eta 0:00:00\n",
      "Collecting threadpoolctl>=2.0.0\n",
      "  Downloading threadpoolctl-3.1.0-py3-none-any.whl (14 kB)\n",
      "Collecting joblib>=1.0.0\n",
      "  Downloading joblib-1.2.0-py3-none-any.whl (297 kB)\n",
      "     ━━━━━━━━━━━━━━━━━━━━━━━━━━━━━━━━━━━━━━ 298.0/298.0 KB 35.2 MB/s eta 0:00:00\n",
      "Requirement already satisfied: setuptools>=3.0 in /usr/local/lib/python3.9/site-packages (from gunicorn) (58.1.0)\n",
      "Collecting Werkzeug>=2.2.2\n",
      "  Downloading Werkzeug-2.2.2-py3-none-any.whl (232 kB)\n",
      "     ━━━━━━━━━━━━━━━━━━━━━━━━━━━━━━━━━━━━━━ 232.7/232.7 KB 27.4 MB/s eta 0:00:00\n",
      "Collecting Jinja2>=3.0\n",
      "  Downloading Jinja2-3.1.2-py3-none-any.whl (133 kB)\n",
      "     ━━━━━━━━━━━━━━━━━━━━━━━━━━━━━━━━━━━━━━ 133.1/133.1 KB 17.8 MB/s eta 0:00:00\n",
      "Collecting importlib-metadata>=3.6.0\n",
      "  Downloading importlib_metadata-5.0.0-py3-none-any.whl (21 kB)\n",
      "Collecting itsdangerous>=2.0\n",
      "  Downloading itsdangerous-2.1.2-py3-none-any.whl (15 kB)\n",
      "Collecting click>=8.0\n",
      "  Downloading click-8.1.3-py3-none-any.whl (96 kB)\n",
      "     ━━━━━━━━━━━━━━━━━━━━━━━━━━━━━━━━━━━━━━━━ 96.6/96.6 KB 13.5 MB/s eta 0:00:00\n",
      "Collecting Six\n",
      "  Downloading six-1.16.0-py2.py3-none-any.whl (11 kB)\n",
      "Collecting zipp>=0.5\n",
      "  Downloading zipp-3.10.0-py3-none-any.whl (6.2 kB)\n",
      "Collecting MarkupSafe>=2.0\n",
      "  Downloading MarkupSafe-2.1.1-cp39-cp39-manylinux_2_17_x86_64.manylinux2014_x86_64.whl (25 kB)\n",
      "Installing collected packages: zipp, threadpoolctl, Six, numpy, MarkupSafe, joblib, itsdangerous, gunicorn, click, Werkzeug, scipy, Jinja2, importlib-metadata, scikit-learn, flask, flask-cors\n",
      "Successfully installed Jinja2-3.1.2 MarkupSafe-2.1.1 Six-1.16.0 Werkzeug-2.2.2 click-8.1.3 flask-2.2.2 flask-cors-3.0.10 gunicorn-20.1.0 importlib-metadata-5.0.0 itsdangerous-2.1.2 joblib-1.2.0 numpy-1.23.4 scikit-learn-1.1.3 scipy-1.9.3 threadpoolctl-3.1.0 zipp-3.10.0\n",
      "\u001b[91mWARNING: Running pip as the 'root' user can result in broken permissions and conflicting behaviour with the system package manager. It is recommended to use a virtual environment instead: https://pip.pypa.io/warnings/venv\n",
      "\u001b[0m\u001b[91mWARNING: You are using pip version 22.0.4; however, version 22.3 is available.\n",
      "You should consider upgrading via the '/usr/local/bin/python -m pip install --upgrade pip' command.\n",
      "\u001b[0mRemoving intermediate container 2ff0371183d3\n",
      " ---> 2905e8753c95\n",
      "Step 5/6 : CMD gunicorn --bind 0.0.0.0:5005 --timeout=150 app:app -w 1\n",
      " ---> Running in 0f99ebcd1bdd\n",
      "Removing intermediate container 0f99ebcd1bdd\n",
      " ---> 55228913eb1f\n",
      "Step 6/6 : EXPOSE 5005\n",
      " ---> Running in 0978310708e6\n",
      "Removing intermediate container 0978310708e6\n",
      " ---> 6e3a4770f226\n",
      "Successfully built 6e3a4770f226\n",
      "Successfully tagged us-central1-docker.pkg.dev/mwpmltr/black-friday-v1/black-friday-image:latest\n"
     ]
    }
   ],
   "source": [
    "# build image\n",
    "!docker build --tag=$REGION-docker.pkg.dev/$PROJECT_ID/$REPOSITORY/$IMAGE ."
   ]
  },
  {
   "cell_type": "code",
   "execution_count": 11,
   "id": "aac1280a-ac73-41ff-b1ec-f7af1d9fa763",
   "metadata": {},
   "outputs": [],
   "source": [
    "# import os \n",
    "# os.environ['GOOGLE_APPLICATION_CREDENTIALS'] = 'rtc_service_account_key2.json'\n",
    "# ! gcloud auth activate-service-account rtcrichard@mwpmltr.iam.gserviceaccount.com --key-file=rtc_service_account_key2.json"
   ]
  },
  {
   "cell_type": "code",
   "execution_count": 12,
   "id": "80b9a608-acb0-4ab6-b65e-95d68d3817a0",
   "metadata": {},
   "outputs": [
    {
     "name": "stdout",
     "output_type": "stream",
     "text": [
      "\u001b[1;31mERROR:\u001b[0m (gcloud.artifacts.repositories.create) ALREADY_EXISTS: the repository already exists\n"
     ]
    }
   ],
   "source": [
    "# create repository in artifact repository\n",
    "! gcloud artifacts repositories create $REPOSITORY  \\\n",
    "                             --repository-format=docker \\\n",
    "                             --location=$REGION"
   ]
  },
  {
   "cell_type": "code",
   "execution_count": 7,
   "id": "3ef839d9-64fe-4a9b-9b2f-202630d46ef0",
   "metadata": {},
   "outputs": [
    {
     "name": "stdout",
     "output_type": "stream",
     "text": [
      "Using default tag: latest\n",
      "The push refers to repository [us-central1-docker.pkg.dev/mwpmltr/black-friday-v1/black-friday-image]\n",
      "\n",
      "\u001b[1Be4e6a48f: Preparing \n",
      "\u001b[1B1f48f276: Preparing \n",
      "\u001b[1Ba62c7f75: Preparing \n",
      "\u001b[1Be1641be0: Preparing \n",
      "\u001b[1Be0b737bd: Preparing \n",
      "\u001b[1Bbe188a46: Preparing \n",
      "\u001b[1Bb8372e59: Preparing \n",
      "\u001b[8Be4e6a48f: Pushed     405MB/400MBMB\u001b[6A\u001b[2K\u001b[1A\u001b[2K\u001b[8A\u001b[2K\u001b[8A\u001b[2K\u001b[8A\u001b[2K\u001b[8A\u001b[2K\u001b[7A\u001b[2K\u001b[8A\u001b[2K\u001b[7A\u001b[2K\u001b[8A\u001b[2K\u001b[7A\u001b[2K\u001b[8A\u001b[2K\u001b[8A\u001b[2K\u001b[8A\u001b[2K\u001b[8A\u001b[2K\u001b[8A\u001b[2K\u001b[8A\u001b[2K\u001b[8A\u001b[2K\u001b[8A\u001b[2K\u001b[8A\u001b[2K\u001b[8A\u001b[2K\u001b[8A\u001b[2K\u001b[8A\u001b[2K\u001b[7A\u001b[2K\u001b[7A\u001b[2K\u001b[7A\u001b[2K\u001b[8A\u001b[2K\u001b[7A\u001b[2K\u001b[8A\u001b[2K\u001b[7A\u001b[2K\u001b[7A\u001b[2K\u001b[7A\u001b[2K\u001b[7A\u001b[2K\u001b[7A\u001b[2K\u001b[7A\u001b[2K\u001b[8A\u001b[2K\u001b[7A\u001b[2K\u001b[8A\u001b[2K\u001b[7A\u001b[2K\u001b[8A\u001b[2K\u001b[7A\u001b[2K\u001b[8A\u001b[2K\u001b[7A\u001b[2K\u001b[8A\u001b[2K\u001b[7A\u001b[2K\u001b[8A\u001b[2K\u001b[7A\u001b[2K\u001b[8A\u001b[2K\u001b[7A\u001b[2K\u001b[8A\u001b[2K\u001b[7A\u001b[2K\u001b[8A\u001b[2K\u001b[7A\u001b[2K\u001b[8A\u001b[2K\u001b[7A\u001b[2K\u001b[8A\u001b[2K\u001b[7A\u001b[2K\u001b[8A\u001b[2K\u001b[7A\u001b[2K\u001b[8A\u001b[2K\u001b[7A\u001b[2K\u001b[8A\u001b[2K\u001b[7A\u001b[2K\u001b[8A\u001b[2K\u001b[8A\u001b[2K\u001b[7A\u001b[2K\u001b[7A\u001b[2K\u001b[8A\u001b[2K\u001b[7A\u001b[2K\u001b[8A\u001b[2K\u001b[7A\u001b[2K\u001b[8A\u001b[2K\u001b[7A\u001b[2K\u001b[7A\u001b[2K\u001b[8A\u001b[2K\u001b[7A\u001b[2K\u001b[8A\u001b[2K\u001b[7A\u001b[2K\u001b[8A\u001b[2K\u001b[7A\u001b[2K\u001b[8A\u001b[2K\u001b[7A\u001b[2K\u001b[8A\u001b[2K\u001b[7A\u001b[2K\u001b[8A\u001b[2K\u001b[8A\u001b[2K\u001b[7A\u001b[2K\u001b[7A\u001b[2K\u001b[8A\u001b[2K\u001b[7A\u001b[2K\u001b[8A\u001b[2K\u001b[7A\u001b[2K\u001b[8A\u001b[2K\u001b[7A\u001b[2K\u001b[8A\u001b[2K\u001b[7A\u001b[2K\u001b[7A\u001b[2K\u001b[7A\u001b[2K\u001b[7A\u001b[2K\u001b[8A\u001b[2K\u001b[7A\u001b[2K\u001b[8A\u001b[2K\u001b[7A\u001b[2K\u001b[8A\u001b[2K\u001b[7A\u001b[2K\u001b[8A\u001b[2K\u001b[7A\u001b[2K\u001b[8A\u001b[2K\u001b[7A\u001b[2K\u001b[8A\u001b[2K\u001b[7A\u001b[2K\u001b[8A\u001b[2K\u001b[7A\u001b[2K\u001b[7A\u001b[2K\u001b[8A\u001b[2K\u001b[7A\u001b[2K\u001b[8A\u001b[2K\u001b[7A\u001b[2K\u001b[8A\u001b[2K\u001b[7A\u001b[2K\u001b[8A\u001b[2K\u001b[7A\u001b[2K\u001b[8A\u001b[2K\u001b[7A\u001b[2K\u001b[8A\u001b[2K\u001b[7A\u001b[2K\u001b[8A\u001b[2K\u001b[7A\u001b[2K\u001b[8A\u001b[2K\u001b[7A\u001b[2K\u001b[7A\u001b[2K\u001b[7A\u001b[2K\u001b[7A\u001b[2K\u001b[8A\u001b[2K\u001b[7A\u001b[2K\u001b[8A\u001b[2K\u001b[7A\u001b[2K\u001b[8A\u001b[2K\u001b[7A\u001b[2K\u001b[8A\u001b[2K\u001b[7A\u001b[2K\u001b[8A\u001b[2K\u001b[7A\u001b[2K\u001b[8A\u001b[2K\u001b[7A\u001b[2K\u001b[8A\u001b[2K\u001b[7A\u001b[2K\u001b[8A\u001b[2K\u001b[7A\u001b[2K\u001b[8A\u001b[2K\u001b[7A\u001b[2K\u001b[8A\u001b[2K\u001b[8A\u001b[2K\u001b[8A\u001b[2K\u001b[7A\u001b[2K\u001b[8A\u001b[2K\u001b[7A\u001b[2K\u001b[7A\u001b[2K\u001b[8A\u001b[2K\u001b[7A\u001b[2K\u001b[8A\u001b[2K\u001b[7A\u001b[2K\u001b[8A\u001b[2K\u001b[7A\u001b[2K\u001b[7A\u001b[2K\u001b[7A\u001b[2K\u001b[7A\u001b[2K\u001b[7A\u001b[2K\u001b[8A\u001b[2K\u001b[7A\u001b[2K\u001b[8A\u001b[2K\u001b[7A\u001b[2K\u001b[8A\u001b[2K\u001b[8A\u001b[2K\u001b[7A\u001b[2K\u001b[8A\u001b[2K\u001b[7A\u001b[2K\u001b[8A\u001b[2K\u001b[7A\u001b[2K\u001b[8A\u001b[2K\u001b[7A\u001b[2K\u001b[8A\u001b[2K\u001b[7A\u001b[2K\u001b[8A\u001b[2K\u001b[7A\u001b[2K\u001b[8A\u001b[2K\u001b[7A\u001b[2K\u001b[7A\u001b[2K\u001b[7A\u001b[2K\u001b[7A\u001b[2K\u001b[8A\u001b[2K\u001b[7A\u001b[2K\u001b[8A\u001b[2K\u001b[7A\u001b[2K\u001b[8A\u001b[2K\u001b[7A\u001b[2K\u001b[8A\u001b[2K\u001b[8A\u001b[2K\u001b[8A\u001b[2K\u001b[8A\u001b[2K\u001b[8A\u001b[2K\u001b[8A\u001b[2K\u001b[7A\u001b[2K\u001b[7A\u001b[2K\u001b[8A\u001b[2K\u001b[7A\u001b[2K\u001b[8A\u001b[2K\u001b[7A\u001b[2K\u001b[8A\u001b[2K\u001b[7A\u001b[2K\u001b[8A\u001b[2K\u001b[7A\u001b[2K\u001b[8A\u001b[2K\u001b[8A\u001b[2K\u001b[7A\u001b[2K\u001b[8A\u001b[2K\u001b[8A\u001b[2K\u001b[8A\u001b[2K\u001b[8A\u001b[2K\u001b[8A\u001b[2K\u001b[8A\u001b[2K\u001b[8A\u001b[2K\u001b[8A\u001b[2K\u001b[8A\u001b[2K\u001b[8A\u001b[2K\u001b[8A\u001b[2K\u001b[8A\u001b[2K\u001b[8A\u001b[2K\u001b[8A\u001b[2K\u001b[8A\u001b[2K\u001b[8A\u001b[2K\u001b[8A\u001b[2K\u001b[8A\u001b[2K\u001b[8A\u001b[2K\u001b[8A\u001b[2K\u001b[8A\u001b[2K\u001b[8A\u001b[2K\u001b[8A\u001b[2K\u001b[8A\u001b[2K\u001b[8A\u001b[2K\u001b[8A\u001b[2K\u001b[8A\u001b[2K\u001b[8A\u001b[2K\u001b[8A\u001b[2K\u001b[8A\u001b[2K\u001b[8A\u001b[2K\u001b[8A\u001b[2K\u001b[8A\u001b[2K\u001b[8A\u001b[2K\u001b[8A\u001b[2K\u001b[8A\u001b[2K\u001b[8A\u001b[2K\u001b[8A\u001b[2K\u001b[8A\u001b[2K\u001b[8A\u001b[2K\u001b[8A\u001b[2K\u001b[8A\u001b[2K\u001b[8A\u001b[2K\u001b[8A\u001b[2K\u001b[8A\u001b[2K\u001b[8A\u001b[2K\u001b[8A\u001b[2K\u001b[8A\u001b[2K\u001b[8A\u001b[2K\u001b[8A\u001b[2K\u001b[8A\u001b[2K\u001b[8A\u001b[2K\u001b[8A\u001b[2K\u001b[8A\u001b[2K\u001b[8A\u001b[2K\u001b[8A\u001b[2K\u001b[8A\u001b[2K\u001b[8A\u001b[2K\u001b[8A\u001b[2Klatest: digest: sha256:1280b2c3fd6d320379cf4d3452376901b4a94a6035723c1c4b595965bca6b0a1 size: 2002\n"
     ]
    }
   ],
   "source": [
    "# push docker image to the newly created artifact repository\n",
    "! docker push $REGION-docker.pkg.dev/$PROJECT_ID/$REPOSITORY/$IMAGE"
   ]
  },
  {
   "cell_type": "code",
   "execution_count": 8,
   "id": "60a874e6-f2d7-4d46-b07a-2b430e288df2",
   "metadata": {},
   "outputs": [
    {
     "name": "stdout",
     "output_type": "stream",
     "text": [
      "Using endpoint [https://us-central1-aiplatform.googleapis.com/]\n",
      "Waiting for operation [3834895690652188672]...done.                            \n"
     ]
    }
   ],
   "source": [
    "# upload model to Vertex AI  model registry\n",
    "! gcloud ai models upload \\\n",
    "  --region=$REGION \\\n",
    "  --display-name=black-friday-model \\\n",
    "  --container-image-uri=$REGION-docker.pkg.dev/$PROJECT_ID/$REPOSITORY/$IMAGE \\\n",
    "  --container-ports=5005 \\\n",
    "  --container-health-route=/healthz \\\n",
    "  --container-predict-route=/predict"
   ]
  },
  {
   "cell_type": "code",
   "execution_count": 9,
   "id": "73f58662-5d33-405c-bfbb-dbe0e2465fc5",
   "metadata": {},
   "outputs": [
    {
     "name": "stdout",
     "output_type": "stream",
     "text": [
      "Using endpoint [https://us-central1-aiplatform.googleapis.com/]\n",
      "MODEL_ID             DISPLAY_NAME\n",
      "2448194580638597120  black-friday-model\n",
      "1954628208976461824  black-friday-model\n"
     ]
    }
   ],
   "source": [
    "# list models to double check\n",
    "!gcloud ai models list \\\n",
    "  --region=us-central1 \\\n",
    "  --filter=display_name=black-friday-model"
   ]
  },
  {
   "cell_type": "code",
   "execution_count": 10,
   "id": "f7a99b39-4964-42b8-87ae-01bb1e4ba78c",
   "metadata": {},
   "outputs": [
    {
     "name": "stdout",
     "output_type": "stream",
     "text": [
      "Using endpoint [https://us-central1-aiplatform.googleapis.com/]\n",
      "Waiting for operation [4693957319573110784]...done.                            \n",
      "Created Vertex AI endpoint: projects/55590906972/locations/us-central1/endpoints/3469676067214589952.\n"
     ]
    }
   ],
   "source": [
    "# create a Vertex AI endpoint\n",
    "!gcloud ai endpoints create \\\n",
    "  --region=us-central1 \\\n",
    "  --display-name=black-friday"
   ]
  },
  {
   "cell_type": "markdown",
   "id": "a025a80e-60d5-49f3-be16-4f09b0746d69",
   "metadata": {},
   "source": [
    "**Deploy the model to the endpoint**\n",
    "\n",
    "The model endpoint is collected from the previous cell. The model id is collected from the list of models"
   ]
  },
  {
   "cell_type": "code",
   "execution_count": 11,
   "id": "889266a5-a72a-488f-a7f4-2708c7d9281c",
   "metadata": {},
   "outputs": [
    {
     "name": "stdout",
     "output_type": "stream",
     "text": [
      "Using endpoint [https://us-central1-aiplatform.googleapis.com/]\n",
      "Waiting for operation [5178094279515439104]...done.                            \n",
      "Deployed a model to the endpoint 3469676067214589952. Id of the deployed model: 3031331567545876480.\n"
     ]
    }
   ],
   "source": [
    "\n",
    "!gcloud ai endpoints deploy-model 3469676067214589952 \\\n",
    "  --region=us-central1 \\\n",
    "  --model=2448194580638597120 \\\n",
    "  --display-name=black-friday-model \\\n",
    "  --machine-type=n1-standard-4 \\\n",
    "  --min-replica-count=1 \\\n",
    "  --max-replica-count=2 "
   ]
  },
  {
   "cell_type": "markdown",
   "id": "f79fdbf9-3c2a-4d26-a5a4-071e7babdd46",
   "metadata": {},
   "source": [
    "## Sample Prediction"
   ]
  },
  {
   "cell_type": "code",
   "execution_count": 1,
   "id": "0c98aa8e-096c-4c08-9056-825d14d61702",
   "metadata": {},
   "outputs": [],
   "source": [
    "import pandas as pd\n",
    "data = pd.read_csv(\"gs://black-friday-dataset-test/pipeline_root/black_friday/55590906972/black-friday-pipeline-20221102205557/create-data_847692128933904384/test_file_x\", header=None)"
   ]
  },
  {
   "cell_type": "code",
   "execution_count": 5,
   "id": "1b9de791-7913-448b-b0da-64de058d5788",
   "metadata": {},
   "outputs": [],
   "source": [
    "ENDPOINT_ID=\"3469676067214589952\"\n",
    "PROJECT_ID=\"55590906972\"\n",
    "REGION= \"us-central1\""
   ]
  },
  {
   "cell_type": "code",
   "execution_count": 11,
   "id": "3f845d5a-1f63-4242-ba68-0cee3dbcc2e8",
   "metadata": {},
   "outputs": [],
   "source": [
    "def endpoint_predict_sample(\n",
    "    project: str, location: str, instances: list, endpoint: str\n",
    "):\n",
    "    aiplatform.init(project=project, location=location)\n",
    "\n",
    "    endpoint = aiplatform.Endpoint(endpoint)\n",
    "\n",
    "    prediction = endpoint.predict(instances=instances)\n",
    "    print(prediction)\n",
    "    return prediction"
   ]
  },
  {
   "cell_type": "code",
   "execution_count": 12,
   "id": "139f3135-0ec6-44a0-bf33-d010729e3413",
   "metadata": {},
   "outputs": [
    {
     "name": "stdout",
     "output_type": "stream",
     "text": [
      "Prediction(predictions=[[0.0, 0.0, 0.0, 0.0, 0.0, 0.0, 0.0, 0.0, 0.0, 0.0, 0.0, 0.0, 0.0, 0.0, 0.0, 0.0, 0.0, 0.0, 0.0, 0.0]], deployed_model_id='3031331567545876480', model_version_id='1', model_resource_name='projects/55590906972/locations/us-central1/models/2448194580638597120', explanations=None)\n"
     ]
    },
    {
     "data": {
      "text/plain": [
       "Prediction(predictions=[[0.0, 0.0, 0.0, 0.0, 0.0, 0.0, 0.0, 0.0, 0.0, 0.0, 0.0, 0.0, 0.0, 0.0, 0.0, 0.0, 0.0, 0.0, 0.0, 0.0]], deployed_model_id='3031331567545876480', model_version_id='1', model_resource_name='projects/55590906972/locations/us-central1/models/2448194580638597120', explanations=None)"
      ]
     },
     "execution_count": 12,
     "metadata": {},
     "output_type": "execute_result"
    }
   ],
   "source": [
    "endpoint_predict_sample(project=PROJECT_ID, location=REGION, instances=data.iloc[0].tolist(), endpoint=ENDPOINT_ID)"
   ]
  },
  {
   "cell_type": "code",
   "execution_count": null,
   "id": "4b9a0120-d02a-400c-b9a8-afe5f193eb6a",
   "metadata": {},
   "outputs": [],
   "source": []
  }
 ],
 "metadata": {
  "environment": {
   "kernel": "python3",
   "name": "common-cpu.m98",
   "type": "gcloud",
   "uri": "gcr.io/deeplearning-platform-release/base-cpu:m98"
  },
  "kernelspec": {
   "display_name": "Python 3 (ipykernel)",
   "language": "python",
   "name": "python3"
  },
  "language_info": {
   "codemirror_mode": {
    "name": "ipython",
    "version": 3
   },
   "file_extension": ".py",
   "mimetype": "text/x-python",
   "name": "python",
   "nbconvert_exporter": "python",
   "pygments_lexer": "ipython3",
   "version": "3.9.12"
  }
 },
 "nbformat": 4,
 "nbformat_minor": 5
}

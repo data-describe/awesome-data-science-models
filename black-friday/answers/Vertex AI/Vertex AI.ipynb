{
 "cells": [
  {
   "cell_type": "markdown",
   "id": "a3354248-c588-4bfc-8664-c3ba5d45eecc",
   "metadata": {},
   "source": [
    "**Check environment dependencies**"
   ]
  },
  {
   "cell_type": "code",
   "execution_count": 1,
   "id": "df90229e-28ca-471b-b779-ff3a24780788",
   "metadata": {},
   "outputs": [
    {
     "name": "stdout",
     "output_type": "stream",
     "text": [
      "KFP SDK version: 1.8.14\n",
      "google_cloud_pipeline_components version: 1.0.26\n",
      "Sklearn version: 1.0.2\n"
     ]
    }
   ],
   "source": [
    "! python3 -c \"import kfp; print('KFP SDK version: {}'.format(kfp.__version__))\"\n",
    "! python3 -c \"import google_cloud_pipeline_components; print('google_cloud_pipeline_components version: {}'.format(google_cloud_pipeline_components.__version__))\"\n",
    "! python3 -c \"import sklearn; print('Sklearn version: {}'.format(sklearn.__version__))\""
   ]
  },
  {
   "cell_type": "code",
   "execution_count": 2,
   "id": "049e5fb7-126a-4a55-832a-cd8c2912f585",
   "metadata": {},
   "outputs": [],
   "source": [
    "from datetime import datetime\n",
    "\n",
    "import google.cloud.aiplatform as aip\n",
    "from google.cloud import aiplatform\n",
    "import kfp\n",
    "from kfp.v2 import dsl, compiler\n",
    "from kfp.v2.google.client import AIPlatformClient\n",
    "\n",
    "# custom code for data processing and model training\n",
    "from utils import create_data, train_model"
   ]
  },
  {
   "cell_type": "markdown",
   "id": "26c0883b-2a55-47ce-a36b-beec0ddbd0d1",
   "metadata": {},
   "source": [
    "**Define environment variables**\n",
    "\n",
    "User should update the <code>BUCKET_NAME</code>. The <code>PROJECT_ID</code> is picked up based on the gcloud configuration"
   ]
  },
  {
   "cell_type": "code",
   "execution_count": 3,
   "id": "17454251-5aec-42fd-9f4d-4e4e90884a53",
   "metadata": {
    "tags": []
   },
   "outputs": [],
   "source": [
    "TIMESTAMP = datetime.now().strftime(\"%Y%m%d%H%M%S\")\n",
    "BUCKET_NAME = \"black-friday-dataset-test\"  # modify\n",
    "BUCKET_URI = f\"gs://{BUCKET_NAME}\"\n",
    "REGION = \"us-central1\"\n",
    "PIPELINE_ROOT = \"{}/pipeline_root/black_friday\".format(BUCKET_URI)\n",
    "DISPLAY_NAME = \"black-friday-\" + TIMESTAMP\n",
    "PACKAGE_PATH = \"pipeline.json\"\n",
    "project_id_shell_output = !gcloud config list --format 'value(core.project)' 2>/dev/null\n",
    "PROJECT_ID = project_id_shell_output[0]"
   ]
  },
  {
   "cell_type": "markdown",
   "id": "429da3ea-1030-465b-9927-bbbbbdccb342",
   "metadata": {},
   "source": [
    "## Data processing and model training"
   ]
  },
  {
   "cell_type": "markdown",
   "id": "1a171a67-679e-4ec5-b652-553e9e5bd6e7",
   "metadata": {},
   "source": [
    "**Initialize the client**"
   ]
  },
  {
   "cell_type": "code",
   "execution_count": 4,
   "id": "b6c6042a-b8f9-479c-a5ba-ac83b419b780",
   "metadata": {},
   "outputs": [],
   "source": [
    "aip.init(project=PROJECT_ID, staging_bucket=BUCKET_URI)"
   ]
  },
  {
   "cell_type": "markdown",
   "id": "6e1b4036-d0c7-4759-92a4-7b3feec4058c",
   "metadata": {},
   "source": [
    "**Define the pipeline**"
   ]
  },
  {
   "cell_type": "code",
   "execution_count": 5,
   "id": "1660bd45-c40b-4da9-b4b8-eac783bfb8dc",
   "metadata": {},
   "outputs": [],
   "source": [
    "@dsl.pipeline(\n",
    "    pipeline_root=PIPELINE_ROOT,\n",
    "    name=\"black-friday-pipeline\",\n",
    ")\n",
    "def pipeline(\n",
    "    train_file_x: str,\n",
    "    train_file_y: str,\n",
    "    test_file_x: str,\n",
    "    test_file_y: str,\n",
    "    best_params_file: str,\n",
    "    metrics_file: str,\n",
    "    num_iterations: int,\n",
    "    hp_tune: bool,\n",
    "    best_params: dict,\n",
    "    use_demographic: bool,\n",
    "):\n",
    "\n",
    "    create_data_task = create_data(\n",
    "        project_id=\"mwpmltr\",\n",
    "        bucket_name=BUCKET_NAME,\n",
    "        dataset_id=\"black_friday\",\n",
    "        use_demographic=use_demographic,\n",
    "    )\n",
    "\n",
    "    train_model_task = train_model(\n",
    "        hp_tune=hp_tune,\n",
    "        project_id=\"mwpmltr\",\n",
    "        bucket_name=BUCKET_NAME,\n",
    "        best_params=best_params,\n",
    "        num_iterations=num_iterations,\n",
    "        train_file_x=create_data_task.outputs[\"train_file_x\"],\n",
    "        test_file_x=create_data_task.outputs[\"test_file_x\"],\n",
    "        train_file_y=create_data_task.outputs[\"train_file_y\"],\n",
    "        test_file_y=create_data_task.outputs[\"test_file_y\"],\n",
    "    )"
   ]
  },
  {
   "cell_type": "code",
   "execution_count": 6,
   "id": "7f4dbfb9-8844-4f2a-b8de-911c3a9d8c3a",
   "metadata": {},
   "outputs": [
    {
     "name": "stderr",
     "output_type": "stream",
     "text": [
      "/opt/conda/lib/python3.7/site-packages/kfp/v2/compiler/compiler.py:1293: FutureWarning: APIs imported from the v1 namespace (e.g. kfp.dsl, kfp.components, etc) will not be supported by the v2 compiler since v2.0.0\n",
      "  category=FutureWarning,\n"
     ]
    }
   ],
   "source": [
    "compiler.Compiler().compile(pipeline_func=pipeline, package_path=PACKAGE_PATH)"
   ]
  },
  {
   "cell_type": "markdown",
   "id": "54d3249d-1a8e-4582-bc78-5623845b30c6",
   "metadata": {},
   "source": [
    "**Submit the pipeline to Vertex AI Pipeline**"
   ]
  },
  {
   "cell_type": "code",
   "execution_count": null,
   "id": "a93f467f-a7e0-42d4-a67f-a20b2f7424a9",
   "metadata": {},
   "outputs": [],
   "source": [
    "job = aip.PipelineJob(\n",
    "    display_name=DISPLAY_NAME,\n",
    "    template_path=PACKAGE_PATH,\n",
    "    pipeline_root=PIPELINE_ROOT,\n",
    "    parameter_values={\n",
    "        \"train_file_x\": \"x_train.csv\",\n",
    "        \"train_file_y\": \"y_train.csv\",\n",
    "        \"test_file_x\": \"x_test.csv\",\n",
    "        \"test_file_y\": \"y_test.csv\",\n",
    "        \"metrics_file\": \"metrics.json\",\n",
    "        \"num_iterations\": 100,\n",
    "        \"hp_tune\": True,\n",
    "        \"best_params_file\": \"best_params.json\",\n",
    "        \"best_params\": {\n",
    "            \"n_estimators\": 644,\n",
    "            \"max_depth\": 343,\n",
    "            \"min_samples_split\": 6,\n",
    "            \"min_samples_leaf\": 1,\n",
    "            \"max_features\": \"auto\",\n",
    "        },\n",
    "        \"use_demographic\": True,\n",
    "    },\n",
    ")\n",
    "\n",
    "job.run()"
   ]
  },
  {
   "cell_type": "markdown",
   "id": "63650b76-29a9-4999-87a4-a9a7b0bc74d7",
   "metadata": {},
   "source": [
    "**Build same model with demographic data removed**"
   ]
  },
  {
   "cell_type": "code",
   "execution_count": 7,
   "id": "aa5e9614-9448-46a1-abf1-3a6ff23549f4",
   "metadata": {},
   "outputs": [
    {
     "name": "stdout",
     "output_type": "stream",
     "text": [
      "Creating PipelineJob\n",
      "PipelineJob created. Resource name: projects/55590906972/locations/us-central1/pipelineJobs/black-friday-pipeline-20221104045631\n",
      "To use this PipelineJob in another session:\n",
      "pipeline_job = aiplatform.PipelineJob.get('projects/55590906972/locations/us-central1/pipelineJobs/black-friday-pipeline-20221104045631')\n",
      "View Pipeline Job:\n",
      "https://console.cloud.google.com/vertex-ai/locations/us-central1/pipelines/runs/black-friday-pipeline-20221104045631?project=55590906972\n",
      "PipelineJob projects/55590906972/locations/us-central1/pipelineJobs/black-friday-pipeline-20221104045631 current state:\n",
      "PipelineState.PIPELINE_STATE_RUNNING\n",
      "PipelineJob projects/55590906972/locations/us-central1/pipelineJobs/black-friday-pipeline-20221104045631 current state:\n",
      "PipelineState.PIPELINE_STATE_RUNNING\n",
      "PipelineJob projects/55590906972/locations/us-central1/pipelineJobs/black-friday-pipeline-20221104045631 current state:\n",
      "PipelineState.PIPELINE_STATE_RUNNING\n",
      "PipelineJob projects/55590906972/locations/us-central1/pipelineJobs/black-friday-pipeline-20221104045631 current state:\n",
      "PipelineState.PIPELINE_STATE_RUNNING\n",
      "PipelineJob projects/55590906972/locations/us-central1/pipelineJobs/black-friday-pipeline-20221104045631 current state:\n",
      "PipelineState.PIPELINE_STATE_RUNNING\n",
      "PipelineJob projects/55590906972/locations/us-central1/pipelineJobs/black-friday-pipeline-20221104045631 current state:\n",
      "PipelineState.PIPELINE_STATE_RUNNING\n",
      "PipelineJob projects/55590906972/locations/us-central1/pipelineJobs/black-friday-pipeline-20221104045631 current state:\n",
      "PipelineState.PIPELINE_STATE_RUNNING\n",
      "PipelineJob projects/55590906972/locations/us-central1/pipelineJobs/black-friday-pipeline-20221104045631 current state:\n",
      "PipelineState.PIPELINE_STATE_RUNNING\n",
      "PipelineJob run completed. Resource name: projects/55590906972/locations/us-central1/pipelineJobs/black-friday-pipeline-20221104045631\n"
     ]
    }
   ],
   "source": [
    "job = aip.PipelineJob(\n",
    "    display_name=DISPLAY_NAME,\n",
    "    template_path=PACKAGE_PATH,\n",
    "    pipeline_root=PIPELINE_ROOT,\n",
    "    parameter_values={\n",
    "        \"train_file_x\": \"x_train.csv\",\n",
    "        \"train_file_y\": \"y_train.csv\",\n",
    "        \"test_file_x\": \"x_test.csv\",\n",
    "        \"test_file_y\": \"y_test.csv\",\n",
    "        \"metrics_file\": \"metrics.json\",\n",
    "        \"num_iterations\": 100,\n",
    "        \"hp_tune\": True,\n",
    "        \"best_params_file\": \"best_params.json\",\n",
    "        \"best_params\": {\n",
    "            \"n_estimators\": 644,\n",
    "            \"max_depth\": 343,\n",
    "            \"min_samples_split\": 6,\n",
    "            \"min_samples_leaf\": 1,\n",
    "            \"max_features\": \"auto\",\n",
    "        },\n",
    "        \"use_demographic\": False,\n",
    "    },\n",
    ")\n",
    "\n",
    "job.run()"
   ]
  },
  {
   "cell_type": "markdown",
   "id": "9e2ab02e-a038-41c4-9318-cf099b842dfe",
   "metadata": {},
   "source": [
    "**Copy the model to your local directory**\n",
    "\n",
    "Get the URI of the model file by clicking through the Vertex AI Pipeline UI. Select the model artifact and follow the path to the model"
   ]
  },
  {
   "cell_type": "code",
   "execution_count": 27,
   "id": "430b3fdb-ebbc-419a-889a-0e3dcdc3f216",
   "metadata": {},
   "outputs": [
    {
     "name": "stdout",
     "output_type": "stream",
     "text": [
      "Copying gs://black-friday-dataset-test/pipeline_root/black_friday/55590906972/black-friday-pipeline-20221103222823/train-model_910918445577535488/model_file.pkl...\n",
      "- [1 files][ 61.9 MiB/ 61.9 MiB]                                                \n",
      "Operation completed over 1 objects/61.9 MiB.                                     \n"
     ]
    }
   ],
   "source": [
    "# model without demographic data\n",
    "! gsutil cp gs://black-friday-dataset-test/pipeline_root/black_friday/55590906972/black-friday-pipeline-20221103222823/train-model_910918445577535488/model_file.pkl model.pkl"
   ]
  },
  {
   "cell_type": "markdown",
   "id": "9a0d06b9-1acc-4030-9f8c-b70b05f4df8f",
   "metadata": {},
   "source": [
    "## Model Deployment"
   ]
  },
  {
   "cell_type": "markdown",
   "id": "6069f980-deb4-41a9-b6dd-294746be97aa",
   "metadata": {},
   "source": [
    "**Set environment variables for command line arguments**\n",
    "\n",
    "For custom prediction routines, a docker image must be provided"
   ]
  },
  {
   "cell_type": "code",
   "execution_count": 28,
   "id": "62afd03d-8b18-4775-abac-6ae1b7864996",
   "metadata": {},
   "outputs": [
    {
     "name": "stdout",
     "output_type": "stream",
     "text": [
      "env: PROJECT_ID=55590906972\n",
      "env: REGION=us-central1\n",
      "env: REPOSITORY=black-friday-v1\n",
      "env: IMAGE=black-friday-image\n"
     ]
    }
   ],
   "source": [
    "%env PROJECT_ID={PROJECT_ID}\n",
    "%env REGION={REGION}\n",
    "%env REPOSITORY=black-friday-v1\n",
    "%env IMAGE=black-friday-image"
   ]
  },
  {
   "cell_type": "code",
   "execution_count": null,
   "id": "c2a45aac-fa02-421d-be0e-7e9d0032dd6c",
   "metadata": {},
   "outputs": [],
   "source": [
    "# build image\n",
    "!docker build --tag=$REGION-docker.pkg.dev/$PROJECT_ID/$REPOSITORY/$IMAGE ."
   ]
  },
  {
   "cell_type": "code",
   "execution_count": null,
   "id": "80b9a608-acb0-4ab6-b65e-95d68d3817a0",
   "metadata": {},
   "outputs": [],
   "source": [
    "# create repository in artifact repository\n",
    "! gcloud artifacts repositories create $REPOSITORY  \\\n",
    "                             --repository-format=docker \\\n",
    "                             --location=$REGION"
   ]
  },
  {
   "cell_type": "code",
   "execution_count": null,
   "id": "3ef839d9-64fe-4a9b-9b2f-202630d46ef0",
   "metadata": {},
   "outputs": [],
   "source": [
    "# push docker image to the newly created artifact repository\n",
    "! docker push $REGION-docker.pkg.dev/$PROJECT_ID/$REPOSITORY/$IMAGE"
   ]
  },
  {
   "cell_type": "code",
   "execution_count": null,
   "id": "60a874e6-f2d7-4d46-b07a-2b430e288df2",
   "metadata": {},
   "outputs": [],
   "source": [
    "# upload model to Vertex AI  model registry\n",
    "! gcloud ai models upload \\\n",
    "  --region=$REGION \\\n",
    "  --display-name=black-friday-model \\\n",
    "  --container-image-uri=$REGION-docker.pkg.dev/$PROJECT_ID/$REPOSITORY/$IMAGE \\\n",
    "  --container-ports=5005 \\\n",
    "  --container-health-route=/healthz \\\n",
    "  --container-predict-route=/predict"
   ]
  },
  {
   "cell_type": "code",
   "execution_count": 32,
   "id": "73f58662-5d33-405c-bfbb-dbe0e2465fc5",
   "metadata": {},
   "outputs": [
    {
     "name": "stdout",
     "output_type": "stream",
     "text": [
      "Using endpoint [https://us-central1-aiplatform.googleapis.com/]\n",
      "MODEL_ID             DISPLAY_NAME\n",
      "3372558404156391424  black-friday-model\n",
      "1954628208976461824  black-friday-model\n"
     ]
    }
   ],
   "source": [
    "# list models to double check\n",
    "!gcloud ai models list \\\n",
    "  --region=us-central1 \\\n",
    "  --filter=display_name=black-friday-model"
   ]
  },
  {
   "cell_type": "code",
   "execution_count": 19,
   "id": "f7a99b39-4964-42b8-87ae-01bb1e4ba78c",
   "metadata": {},
   "outputs": [
    {
     "name": "stdout",
     "output_type": "stream",
     "text": [
      "Using endpoint [https://us-central1-aiplatform.googleapis.com/]\n",
      "Waiting for operation [8548616388137189376]...done.                            \n",
      "Created Vertex AI endpoint: projects/55590906972/locations/us-central1/endpoints/549654658818244608.\n"
     ]
    }
   ],
   "source": [
    "# create a Vertex AI endpoint\n",
    "!gcloud ai endpoints create \\\n",
    "  --region=us-central1 \\\n",
    "  --display-name=black-friday"
   ]
  },
  {
   "cell_type": "markdown",
   "id": "a025a80e-60d5-49f3-be16-4f09b0746d69",
   "metadata": {},
   "source": [
    "**Deploy the model to the endpoint**\n",
    "\n",
    "The model endpoint is collected from the previous cell. The model id is collected from the list of models"
   ]
  },
  {
   "cell_type": "code",
   "execution_count": null,
   "id": "889266a5-a72a-488f-a7f4-2708c7d9281c",
   "metadata": {},
   "outputs": [],
   "source": [
    "!gcloud ai endpoints deploy-model 549654658818244608 \\\n",
    "  --region=us-central1 \\\n",
    "  --model=3372558404156391424 \\\n",
    "  --display-name=black-friday-model \\\n",
    "  --machine-type=n1-standard-4 \\\n",
    "  --min-replica-count=1 \\\n",
    "  --max-replica-count=2 "
   ]
  },
  {
   "cell_type": "markdown",
   "id": "b5cd7ad7-c8ae-4bf5-adde-84c96daccadb",
   "metadata": {},
   "source": [
    "## Sample Prediction"
   ]
  },
  {
   "cell_type": "code",
   "execution_count": 21,
   "id": "72e6bae4-75b1-424b-9254-8e94d6cb3528",
   "metadata": {},
   "outputs": [],
   "source": [
    "import pandas as pd\n",
    "\n",
    "data = pd.read_csv(\n",
    "    \"gs://black-friday-dataset-test/pipeline_root/black_friday/55590906972/black-friday-pipeline-20221102205557/create-data_847692128933904384/test_file_x\",\n",
    "    header=None,\n",
    ")"
   ]
  },
  {
   "cell_type": "code",
   "execution_count": 22,
   "id": "d8423ce8-7fa7-4da9-ab43-154cd4580189",
   "metadata": {},
   "outputs": [],
   "source": [
    "ENDPOINT_ID = \"549654658818244608\"\n",
    "PROJECT_ID = \"55590906972\""
   ]
  },
  {
   "cell_type": "code",
   "execution_count": 25,
   "id": "96bb41a8-4067-4975-8b52-501f237bb9e6",
   "metadata": {},
   "outputs": [],
   "source": [
    "def endpoint_predict_sample(\n",
    "    project: str, location: str, instances: list, endpoint: str\n",
    "):\n",
    "    aiplatform.init(project=project, location=location)\n",
    "\n",
    "    endpoint = aiplatform.Endpoint(endpoint)\n",
    "\n",
    "    prediction = endpoint.predict(instances=instances)\n",
    "    print(prediction)\n",
    "    return prediction"
   ]
  },
  {
   "cell_type": "code",
   "execution_count": 35,
   "id": "1276df1e-b0f4-419c-bed0-70bdc44ba7d4",
   "metadata": {},
   "outputs": [
    {
     "name": "stdout",
     "output_type": "stream",
     "text": [
      "Prediction(predictions=['Product Category 1'], deployed_model_id='8709526272729939968', model_version_id='1', model_resource_name='projects/55590906972/locations/us-central1/models/3372558404156391424', explanations=None)\n"
     ]
    },
    {
     "data": {
      "text/plain": [
       "Prediction(predictions=['Product Category 1'], deployed_model_id='8709526272729939968', model_version_id='1', model_resource_name='projects/55590906972/locations/us-central1/models/3372558404156391424', explanations=None)"
      ]
     },
     "execution_count": 35,
     "metadata": {},
     "output_type": "execute_result"
    }
   ],
   "source": [
    "endpoint_predict_sample(\n",
    "    project=PROJECT_ID,\n",
    "    location=REGION,\n",
    "    instances=data.iloc[0].tolist()[4:],\n",
    "    endpoint=ENDPOINT_ID,\n",
    ")  # [4:] to remove the demographic features"
   ]
  }
 ],
 "metadata": {
  "environment": {
   "kernel": "python3",
   "name": "common-cpu.m98",
   "type": "gcloud",
   "uri": "gcr.io/deeplearning-platform-release/base-cpu:m98"
  },
  "kernelspec": {
   "display_name": "Python 3",
   "language": "python",
   "name": "python3"
  },
  "language_info": {
   "codemirror_mode": {
    "name": "ipython",
    "version": 3
   },
   "file_extension": ".py",
   "mimetype": "text/x-python",
   "name": "python",
   "nbconvert_exporter": "python",
   "pygments_lexer": "ipython3",
   "version": "3.7.12"
  }
 },
 "nbformat": 4,
 "nbformat_minor": 5
}

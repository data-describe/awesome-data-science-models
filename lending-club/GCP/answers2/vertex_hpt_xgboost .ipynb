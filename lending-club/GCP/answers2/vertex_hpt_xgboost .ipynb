{
 "cells": [
  {
   "cell_type": "code",
   "execution_count": null,
   "metadata": {
    "id": "copyright"
   },
   "outputs": [],
   "source": [
    "# Copyright 2022 Google LLC\n",
    "#\n",
    "# Licensed under the Apache License, Version 2.0 (the \"License\");\n",
    "# you may not use this file except in compliance with the License.\n",
    "# You may obtain a copy of the License at\n",
    "#\n",
    "#     https://www.apache.org/licenses/LICENSE-2.0\n",
    "#\n",
    "# Unless required by applicable law or agreed to in writing, software\n",
    "# distributed under the License is distributed on an \"AS IS\" BASIS,\n",
    "# WITHOUT WARRANTIES OR CONDITIONS OF ANY KIND, either express or implied.\n",
    "# See the License for the specific language governing permissions and\n",
    "# limitations under the License."
   ]
  },
  {
   "cell_type": "markdown",
   "metadata": {
    "id": "title:generic,gcp"
   },
   "source": [
    "# Vertex AI Hyperparameter Tuning for XGBoost"
   ]
  },
  {
   "cell_type": "markdown",
   "metadata": {
    "id": "overview:mlops"
   },
   "source": [
    "## Overview\n",
    "\n",
    "\n",
    "This tutorial demonstrates how to use Vertex AI to perform Hyperparameter Tuning for XGBoost model."
   ]
  },
  {
   "cell_type": "markdown",
   "metadata": {
    "id": "objective:mlops,stage2,get_started_vertex_training_xgboost"
   },
   "source": [
    "\n",
    "This tutorial uses the following Google Cloud ML services:\n",
    "\n",
    "- `Vertex AI Training`\n",
    "- `Vertex AI Hyperparameter Tuning`\n",
    "- `Vertex AI Vizier`\n",
    "- `Vertex AI Model` resource\n",
    "\n",
    "The steps performed include:\n",
    "\n",
    "- Training using a Python package.\n",
    "- Report accuracy when hyperparameter tuning is done.\n",
    "- Save the model artifacts to Cloud Storage using GCSFuse.\n",
    "- Create a `Vertex AI Model` resource."
   ]
  },
  {
   "cell_type": "markdown",
   "metadata": {
    "id": "dataset:iris,lcn"
   },
   "source": [
    "### Dataset\n",
    "\n",
    "The dataset used for this tutorial is the [Iris dataset](https://www.tensorflow.org/datasets/catalog/iris). This dataset does not require any feature engineering. The version of the dataset in this tutorial is stored in a public Cloud Storage bucket. The trained model predicts the type of Iris flower species from a class of three species: setosa, virginica, or versicolor."
   ]
  },
  {
   "cell_type": "markdown",
   "metadata": {
    "id": "4fc0ad661ebb"
   },
   "source": [
    "### Costs \n",
    "\n",
    "This tutorial uses billable components of Google Cloud:\n",
    "\n",
    "* Vertex AI\n",
    "* Cloud Storage\n"
   ]
  },
  {
   "cell_type": "markdown",
   "metadata": {
    "id": "install_mlops"
   },
   "source": [
    "## Installations\n",
    "\n",
    "Install the following packages to execute this notebook."
   ]
  },
  {
   "cell_type": "code",
   "execution_count": 3,
   "metadata": {
    "id": "ncRJ_Dfdox9L"
   },
   "outputs": [],
   "source": [
    "import os\n",
    "\n",
    "USER_FLAG = \"--user\"\n",
    "\n",
    "! pip3 install --upgrade google-cloud-aiplatform $USER_FLAG -q"
   ]
  },
  {
   "cell_type": "markdown",
   "metadata": {
    "id": "restart"
   },
   "source": [
    "### Restart the kernel\n",
    "\n",
    "Once you've installed the additional packages, you need to restart the notebook kernel so it can find the packages."
   ]
  },
  {
   "cell_type": "code",
   "execution_count": 5,
   "metadata": {
    "id": "restart"
   },
   "outputs": [
    {
     "data": {
      "text/plain": [
       "{'status': 'ok', 'restart': True}"
      ]
     },
     "execution_count": 5,
     "metadata": {},
     "output_type": "execute_result"
    }
   ],
   "source": [
    "import os\n",
    "import IPython\n",
    "\n",
    "app = IPython.Application.instance()\n",
    "app.kernel.do_shutdown(True)"
   ]
  },
  {
   "cell_type": "markdown",
   "metadata": {
    "id": "2721ef0202d9"
   },
   "source": [
    "## Before you begin\n",
    "\n",
    "### Set up your Google Cloud project\n",
    "\n",
    "The following steps are required\n",
    "\n",
    "\n",
    "1. [Enable the Vertex AI API](https://console.cloud.google.com/flows/enableapi?apiid=aiplatform.googleapis.com). \n",
    "\n",
    "\n",
    "2. Enter your project ID in the cell below. Then run the cell to make sure the\n"
   ]
  },
  {
   "cell_type": "markdown",
   "metadata": {
    "id": "project_id"
   },
   "source": [
    "#### Set your project ID\n",
    "\n",
    "**If you don't know your project ID**, you may be able to get your project ID using `gcloud`."
   ]
  },
  {
   "cell_type": "code",
   "execution_count": 2,
   "metadata": {
    "id": "set_project_id"
   },
   "outputs": [],
   "source": [
    "PROJECT_ID = 'ds-training-380514'  # @param {type:\"string\"}"
   ]
  },
  {
   "cell_type": "code",
   "execution_count": 3,
   "metadata": {
    "id": "set_gcloud_project_id"
   },
   "outputs": [
    {
     "name": "stdout",
     "output_type": "stream",
     "text": [
      "Updated property [core/project].\n"
     ]
    }
   ],
   "source": [
    "! gcloud config set project $PROJECT_ID --quiet"
   ]
  },
  {
   "cell_type": "code",
   "execution_count": 4,
   "metadata": {
    "id": "sKBTnvJpox9P"
   },
   "outputs": [],
   "source": [
    "REGION = \"us-central1\"  # @param {type: \"string\"}"
   ]
  },
  {
   "cell_type": "markdown",
   "metadata": {
    "id": "timestamp"
   },
   "source": [
    "#### Timestamp\n",
    "\n",
    "If you are in a live tutorial session, you might be using a shared test account or project. To avoid name collisions between users on resources created, you create a timestamp for each instance session, and append the timestamp onto the name of resources you create in this tutorial."
   ]
  },
  {
   "cell_type": "code",
   "execution_count": 5,
   "metadata": {
    "id": "JYtXOocrox9Q"
   },
   "outputs": [],
   "source": [
    "from datetime import datetime\n",
    "\n",
    "TIMESTAMP = datetime.now().strftime(\"%Y%m%d%H%M%S\")"
   ]
  },
  {
   "cell_type": "markdown",
   "metadata": {
    "id": "bucket:mbsdk"
   },
   "source": [
    "### Create a Cloud Storage bucket"
   ]
  },
  {
   "cell_type": "code",
   "execution_count": 6,
   "metadata": {
    "id": "autoset_bucket"
   },
   "outputs": [],
   "source": [
    "BUCKET_NAME = 'lending-club-xgb-model01'\n",
    "BUCKET_URI = \"gs://\" + BUCKET_NAME"
   ]
  },
  {
   "cell_type": "markdown",
   "metadata": {
    "id": "create_bucket"
   },
   "source": [
    "**Only if your bucket doesn't already exist**: Run the following cell to create your Cloud Storage bucket."
   ]
  },
  {
   "cell_type": "code",
   "execution_count": 7,
   "metadata": {
    "id": "aO4sKJfFox9R"
   },
   "outputs": [
    {
     "name": "stdout",
     "output_type": "stream",
     "text": [
      "Creating gs://lending-club-xgb-model01/...\n"
     ]
    }
   ],
   "source": [
    "! gsutil mb -l $REGION $BUCKET_URI"
   ]
  },
  {
   "cell_type": "markdown",
   "metadata": {
    "id": "validate_bucket"
   },
   "source": [
    "Finally, validate access to your Cloud Storage bucket by examining its contents:"
   ]
  },
  {
   "cell_type": "code",
   "execution_count": 8,
   "metadata": {
    "id": "yWnghzKFox9S"
   },
   "outputs": [],
   "source": [
    "! gsutil ls -al $BUCKET_URI"
   ]
  },
  {
   "cell_type": "markdown",
   "metadata": {
    "id": "setup_vars"
   },
   "source": [
    "### Set up variables\n",
    "\n",
    "Next, set up some variables used throughout the tutorial.\n",
    "### Import libraries and define constants"
   ]
  },
  {
   "cell_type": "code",
   "execution_count": 9,
   "metadata": {
    "id": "import_aip:mbsdk"
   },
   "outputs": [],
   "source": [
    "import google.cloud.aiplatform as aip"
   ]
  },
  {
   "cell_type": "markdown",
   "metadata": {
    "id": "init_aip:mbsdk"
   },
   "source": [
    "### Initialize Vertex AI SDK for Python\n",
    "\n",
    "Initialize the Vertex AI SDK for Python for your project and corresponding bucket."
   ]
  },
  {
   "cell_type": "code",
   "execution_count": 10,
   "metadata": {
    "id": "JZg2sszQox9T"
   },
   "outputs": [],
   "source": [
    "aip.init(project=PROJECT_ID, staging_bucket=BUCKET_URI)"
   ]
  },
  {
   "cell_type": "markdown",
   "metadata": {
    "id": "container:training,prediction,xgboost"
   },
   "source": [
    "#### Set pre-built containers\n",
    "\n",
    "Set the pre-built Docker container image for training and prediction.\n",
    "\n",
    "\n",
    "For the latest list, see [Pre-built containers for training](https://cloud.google.com/ai-platform-unified/docs/training/pre-built-containers).\n",
    "\n",
    "\n",
    "For the latest list, see [Pre-built containers for prediction](https://cloud.google.com/ai-platform-unified/docs/predictions/pre-built-containers)."
   ]
  },
  {
   "cell_type": "code",
   "execution_count": 65,
   "metadata": {
    "id": "XujRA5ueox9U"
   },
   "outputs": [],
   "source": [
    "TRAIN_VERSION = \"xgboost-cpu.1-1\"\n",
    "DEPLOY_VERSION = \"xgboost-cpu.1-1\"\n",
    "\n",
    "TRAIN_IMAGE = \"{}-docker.pkg.dev/vertex-ai/training/{}:latest\".format(\n",
    "    REGION.split(\"-\")[0], TRAIN_VERSION\n",
    ")\n",
    "DEPLOY_IMAGE = \"{}-docker.pkg.dev/vertex-ai/prediction/{}:latest\".format(\n",
    "    REGION.split(\"-\")[0], DEPLOY_VERSION\n",
    ")"
   ]
  },
  {
   "cell_type": "markdown",
   "metadata": {
    "id": "machine:training"
   },
   "source": [
    "#### Set machine type\n",
    "\n",
    "Next, set the machine type to use for training.\n",
    "\n",
    "- Set the variable `TRAIN_COMPUTE` to configure  the compute resources for the VMs you will use for for training.\n",
    " - `machine type`\n",
    "     - `n1-standard`: 3.75GB of memory per vCPU.\n",
    "     - `n1-highmem`: 6.5GB of memory per vCPU\n",
    "     - `n1-highcpu`: 0.9 GB of memory per vCPU\n",
    " - `vCPUs`: number of \\[2, 4, 8, 16, 32, 64, 96 \\]\n",
    "\n",
    "*Note: The following is not supported for training:*\n",
    "\n",
    " - `standard`: 2 vCPUs\n",
    " - `highcpu`: 2, 4 and 8 vCPUs"
   ]
  },
  {
   "cell_type": "code",
   "execution_count": 12,
   "metadata": {
    "id": "UMPFgENkox9U"
   },
   "outputs": [
    {
     "name": "stdout",
     "output_type": "stream",
     "text": [
      "Train machine type n1-standard-4\n"
     ]
    }
   ],
   "source": [
    "\n",
    "MACHINE_TYPE = \"n1-standard\"\n",
    "\n",
    "VCPU = \"4\"\n",
    "TRAIN_COMPUTE = MACHINE_TYPE + \"-\" + VCPU\n",
    "print(\"Train machine type\", TRAIN_COMPUTE)"
   ]
  },
  {
   "cell_type": "markdown",
   "metadata": {
    "id": "xgboost_intro"
   },
   "source": [
    "## Introduction to XGBoost training\n",
    "\n",
    "Once you have trained a XGBoost model, you will want to save it at a Cloud Storage location, so it can subsequently be uploaded to a `Vertex AI Model` resource.\n",
    "The XGBoost package does not have support to save the model to a Cloud Storage location. Instead, you will do the following steps to save to a Cloud Storage location.\n",
    "\n",
    "1. Save the in-memory model to the local filesystem (e.g., model.bst).\n",
    "2. Use gsutil to copy the local copy to the specified Cloud Storage location.\n",
    "\n",
    "## Vertex AI Hyperparameter Tuning service\n",
    "\n",
    "The following example demonstrates how to setup, execute and evaluate trials using the Vertex AI Hyperparameter Tuning service with `Vizier` search algorithm.\n",
    "\n",
    "Learn more about [Overview of hyperparameter tuning](https://cloud.google.com/vertex-ai/docs/training/hyperparameter-tuning-overview)"
   ]
  },
  {
   "cell_type": "markdown",
   "metadata": {
    "id": "examine_training_package:xgboost"
   },
   "source": [
    "### Examine the training package\n",
    "\n",
    "#### Package layout\n",
    "\n",
    "Before you start the training, you will look at how a Python package is assembled for a custom training job. When unarchived, the package contains the following directory/file layout.\n",
    "\n",
    "- PKG-INFO\n",
    "- README.md\n",
    "- setup.cfg\n",
    "- setup.py\n",
    "- trainer\n",
    "  - \\_\\_init\\_\\_.py\n",
    "  - task.py\n",
    "\n",
    "The files `setup.cfg` and `setup.py` are the instructions for installing the package into the operating environment of the Docker image.\n",
    "\n",
    "The file `trainer/task.py` is the Python script for executing the custom training job. *Note*, when we referred to it in the worker pool specification, we replace the directory slash with a dot (`trainer.task`) and dropped the file suffix (`.py`).\n",
    "\n",
    "#### Package Assembly\n",
    "\n",
    "In the following cells, you will assemble the training package."
   ]
  },
  {
   "cell_type": "code",
   "execution_count": 13,
   "metadata": {
    "id": "f4wS4eISox9V"
   },
   "outputs": [],
   "source": [
    "# Make folder for Python training script\n",
    "! rm -rf custom\n",
    "! mkdir custom\n",
    "\n",
    "# Add package information\n",
    "! touch custom/README.md\n",
    "\n",
    "setup_cfg = \"[egg_info]\\n\\ntag_build =\\n\\ntag_date = 0\"\n",
    "! echo \"$setup_cfg\" > custom/setup.cfg\n",
    "\n",
    "setup_py = \"import setuptools\\n\\nsetuptools.setup(\\n\\n    install_requires=[\\n\\n        'cloudml-hypertune',\\n\\n    ],\\n\\n    packages=setuptools.find_packages())\"\n",
    "! echo \"$setup_py\" > custom/setup.py\n",
    "\n",
    "pkg_info = \"Metadata-Version: 1.0\\n\\nName: Iris tabular classification\\n\\nVersion: 0.0.0\\n\\nSummary: Demostration training script\\n\\nHome-page: www.google.com\\n\\nAuthor: Google\\n\\nAuthor-email: aferlitsch@google.com\\n\\nLicense: Public\\n\\nDescription: Demo\\n\\nPlatform: Vertex\"\n",
    "! echo \"$pkg_info\" > custom/PKG-INFO\n",
    "\n",
    "# Make the training subfolder\n",
    "! mkdir custom/trainer\n",
    "! touch custom/trainer/__init__.py"
   ]
  },
  {
   "cell_type": "markdown",
   "metadata": {
    "id": "taskpy_contents:iris,xgboost"
   },
   "source": [
    "### Create the task script for the Python training package\n",
    "\n",
    "Next, you create the `task.py` script for driving the training package. Some noteable steps include:\n",
    "\n",
    "- Command-line arguments:\n",
    "    - `model-dir`: The location to save the trained model. When using Vertex AI custom training, the location will be specified in the environment variable: `AIP_MODEL_DIR`,\n",
    "    - `dataset_data_url`: The location of the training data to download.\n",
    "    - `dataset_labels_url`: The location of the training labels to download.\n",
    "    - `boost-rounds`: Tunable hyperparameter\n",
    "- Data preprocessing (`get_data()`):\n",
    "    - Download the dataset and split into training and test.\n",
    "- Training (`train_model()`):\n",
    "    - Trains the model\n",
    "- Evaluation (`evaluate_model()`):\n",
    "    - Evaluates the model.\n",
    "    - If hyperparameter tuning, reports the metric for accuracy.\n",
    "- Model artifact saving\n",
    "    - Saves the model artifacts and evaluation metrics where the Cloud Storage location specified by `model-dir`."
   ]
  },
  {
   "cell_type": "code",
   "execution_count": 14,
   "metadata": {
    "id": "WiSnFuDoox9W"
   },
   "outputs": [
    {
     "name": "stdout",
     "output_type": "stream",
     "text": [
      "Writing custom/trainer/task.py\n"
     ]
    }
   ],
   "source": [
    "%%writefile custom/trainer/task.py\n",
    "import datetime\n",
    "import os\n",
    "import subprocess\n",
    "import sys\n",
    "import pandas as pd\n",
    "import xgboost as xgb\n",
    "import hypertune\n",
    "import argparse\n",
    "import logging\n",
    "\n",
    "from sklearn.model_selection import train_test_split\n",
    "from sklearn.metrics import accuracy_score\n",
    "\n",
    "parser = argparse.ArgumentParser()\n",
    "parser.add_argument('--model-dir', dest='model_dir',\n",
    "                    default=os.getenv('AIP_MODEL_DIR'), type=str, help='Model dir.')\n",
    "parser.add_argument(\"--dataset-data-url\", dest=\"dataset_data_url\",\n",
    "                    type=str, help=\"Download url for the training data.\")\n",
    "parser.add_argument(\"--dataset-labels-url\", dest=\"dataset_labels_url\",\n",
    "                    type=str, help=\"Download url for the training data labels.\")\n",
    "parser.add_argument(\"--boost-rounds\", dest=\"boost_rounds\",\n",
    "                    default=20, type=int, help=\"Number of boosted rounds\")\n",
    "args = parser.parse_args()\n",
    "\n",
    "logging.getLogger().setLevel(logging.INFO)\n",
    "\n",
    "def get_data():\n",
    "    logging.info(\"Downloading training data and labelsfrom: {}, {}\".format(args.dataset_data_url, args.dataset_labels_url))\n",
    "    # gsutil outputs everything to stderr so we need to divert it to stdout.\n",
    "    subprocess.check_call(['gsutil', 'cp', args.dataset_data_url, 'data.csv'], stderr=sys.stdout)\n",
    "    # gsutil outputs everything to stderr so we need to divert it to stdout.\n",
    "    subprocess.check_call(['gsutil', 'cp', args.dataset_labels_url, 'labels.csv'], stderr=sys.stdout)\n",
    "\n",
    "\n",
    "    # Load data into pandas, then use `.values` to get NumPy arrays\n",
    "    data = pd.read_csv('data.csv').values\n",
    "    labels = pd.read_csv('labels.csv').values\n",
    "\n",
    "    # Convert one-column 2D array into 1D array for use with XGBoost\n",
    "    labels = labels.reshape((labels.size,))\n",
    "\n",
    "    train_data, test_data, train_labels, test_labels = train_test_split(data, labels, test_size=0.2, random_state=7)\n",
    "\n",
    "    # Load data into DMatrix object\n",
    "    dtrain = xgb.DMatrix(train_data, label=train_labels)\n",
    "    return dtrain, test_data, test_labels\n",
    "\n",
    "def train_model(dtrain):\n",
    "    logging.info(\"Start training ...\")\n",
    "    # Train XGBoost model\n",
    "    model = xgb.train({}, dtrain, num_boost_round=args.boost_rounds)\n",
    "    logging.info(\"Training completed\")\n",
    "    return model\n",
    "\n",
    "def evaluate_model(model, test_data, test_labels):\n",
    "    dtest = xgb.DMatrix(test_data)\n",
    "    pred = model.predict(dtest)\n",
    "    predictions = [round(value) for value in pred]\n",
    "    # evaluate predictions\n",
    "    accuracy = accuracy_score(test_labels, predictions)\n",
    "    logging.info(f\"Evaluation completed with model accuracy: {accuracy}\")\n",
    "\n",
    "    # report metric for hyperparameter tuning\n",
    "    hpt = hypertune.HyperTune()\n",
    "    hpt.report_hyperparameter_tuning_metric(\n",
    "        hyperparameter_metric_tag='accuracy',\n",
    "        metric_value=accuracy\n",
    "    )\n",
    "    return accuracy\n",
    "\n",
    "\n",
    "dtrain, test_data, test_labels = get_data()\n",
    "model = train_model(dtrain)\n",
    "accuracy = evaluate_model(model, test_data, test_labels)\n",
    "\n",
    "# GCSFuse conversion\n",
    "gs_prefix = 'gs://'\n",
    "gcsfuse_prefix = '/gcs/'\n",
    "if args.model_dir.startswith(gs_prefix):\n",
    "    args.model_dir = args.model_dir.replace(gs_prefix, gcsfuse_prefix)\n",
    "    dirpath = os.path.split(args.model_dir)[0]\n",
    "    if not os.path.isdir(dirpath):\n",
    "        os.makedirs(dirpath)\n",
    "\n",
    "# Export the classifier to a file\n",
    "gcs_model_path = os.path.join(args.model_dir, 'model.bst')\n",
    "logging.info(\"Saving model artifacts to {}\". format(gcs_model_path))\n",
    "model.save_model(gcs_model_path)\n",
    "\n",
    "logging.info(\"Saving metrics to {}/metrics.json\". format(args.model_dir))\n",
    "gcs_metrics_path = os.path.join(args.model_dir, 'metrics.json')\n",
    "with open(gcs_metrics_path, \"w\") as f:\n",
    "    f.write(f\"{'accuracy: {accuracy}'}\")"
   ]
  },
  {
   "cell_type": "markdown",
   "metadata": {
    "id": "tarball_training_script"
   },
   "source": [
    "#### Store training script on your Cloud Storage bucket\n",
    "\n",
    "Next, you package the training folder into a compressed tar ball, and then store it in your Cloud Storage bucket."
   ]
  },
  {
   "cell_type": "code",
   "execution_count": 18,
   "metadata": {
    "id": "dnmdycf6ox9X"
   },
   "outputs": [
    {
     "name": "stdout",
     "output_type": "stream",
     "text": [
      "custom/\n",
      "custom/PKG-INFO\n",
      "custom/setup.cfg\n",
      "custom/setup.py\n",
      "custom/trainer/\n",
      "custom/trainer/task.py\n",
      "custom/trainer/__init__.py\n",
      "custom/README.md\n",
      "Copying file://custom.tar.gz [Content-Type=application/x-tar]...\n",
      "/ [1 files][  1.8 KiB/  1.8 KiB]                                                \n",
      "Operation completed over 1 objects/1.8 KiB.                                      \n"
     ]
    }
   ],
   "source": [
    "! rm -f custom.tar custom.tar.gz\n",
    "! tar cvf custom.tar custom\n",
    "! gzip custom.tar\n",
    "! gsutil cp custom.tar.gz $BUCKET_URI/trainer_iris.tar.gz"
   ]
  },
  {
   "cell_type": "markdown",
   "metadata": {
    "id": "train_custom_job_machine_specification"
   },
   "source": [
    "### Prepare your machine specification\n",
    "\n",
    "Now define the machine specification for your custom hyperparameter tuning job. This tells Vertex what type of machine instance to provision for the hyperparameter tuning.\n",
    "  - `machine_type`: The type of GCP instance to provision -- e.g., n1-standard-8.\n",
    "  - `accelerator_type`: The type, if any, of hardware accelerator. In this tutorial if you previously set the variable `TRAIN_GPU != None`, you are using a GPU; otherwise you will use a CPU.\n",
    "  - `accelerator_count`: The number of accelerators."
   ]
  },
  {
   "cell_type": "code",
   "execution_count": 19,
   "metadata": {
    "id": "train_custom_job_machine_specification"
   },
   "outputs": [],
   "source": [
    "\n",
    "machine_spec = {\"machine_type\": TRAIN_COMPUTE, \"accelerator_count\": 0}"
   ]
  },
  {
   "cell_type": "markdown",
   "metadata": {
    "id": "train_custom_job_disk_specification"
   },
   "source": [
    "### Prepare your disk specification\n",
    "\n",
    "(optional) Now define the disk specification for your custom hyperparameter tuning job. This tells Vertex what type and size of disk to provision in each machine instance for the hyperparameter tuning.\n",
    "\n",
    "  - `boot_disk_type`: Either SSD or Standard. SSD is faster, and Standard is less expensive. Defaults to SSD.\n",
    "  - `boot_disk_size_gb`: Size of disk in GB."
   ]
  },
  {
   "cell_type": "code",
   "execution_count": 20,
   "metadata": {
    "id": "train_custom_job_disk_specification"
   },
   "outputs": [],
   "source": [
    "DISK_TYPE = \"pd-ssd\"  # [ pd-ssd, pd-standard]\n",
    "DISK_SIZE = 200  # GB\n",
    "\n",
    "disk_spec = {\"boot_disk_type\": DISK_TYPE, \"boot_disk_size_gb\": DISK_SIZE}"
   ]
  },
  {
   "cell_type": "code",
   "execution_count": 87,
   "metadata": {},
   "outputs": [],
   "source": [
    "DATASET_DIR = \"gs://cloud-samples-data/ai-platform/iris\""
   ]
  },
  {
   "cell_type": "code",
   "execution_count": 88,
   "metadata": {},
   "outputs": [],
   "source": [
    "label_uri= DATASET_DIR + \"/iris_target.csv\""
   ]
  },
  {
   "cell_type": "code",
   "execution_count": 90,
   "metadata": {},
   "outputs": [
    {
     "data": {
      "text/plain": [
       "array([0, 1, 2])"
      ]
     },
     "execution_count": 90,
     "metadata": {},
     "output_type": "execute_result"
    }
   ],
   "source": [
    "df_label=pd.read_csv(label_uri)\n",
    "df_label.iloc[:,0].unique()"
   ]
  },
  {
   "cell_type": "markdown",
   "metadata": {
    "id": "prepare_custom_cmdargs:iris,xgboost"
   },
   "source": [
    "### Prepare your command-line arguments\n",
    "\n",
    "Now define the command-line arguments for your custom training container:\n",
    "\n",
    "- `args`: The command-line arguments to pass to the executable that is set as the entry point into the container.\n",
    "  - `--model-dir` : For our demonstrations, we use this command-line argument to specify where to store the model artifacts.\n",
    "      - direct: You pass the Cloud Storage location as a command line argument to your training script (set variable `DIRECT = True`), or\n",
    "      - indirect: The service passes the Cloud Storage location as the environment variable `AIP_MODEL_DIR` to your training script (set variable `DIRECT = False`). In this case, you tell the service the model artifact location in the job specification.\n",
    "  - `--dataset-data-url`: The location of the training data to download.\n",
    "  - `--dataset-labels-url`: The location of the training labels to download.\n",
    "  - `--boost-rounds`: Tunable hyperparameter."
   ]
  },
  {
   "cell_type": "code",
   "execution_count": 21,
   "metadata": {
    "id": "AoUfpBqVox9Y"
   },
   "outputs": [],
   "source": [
    "MODEL_DIR = \"{}/aiplatform-custom-job-{}\".format(BUCKET_URI, TIMESTAMP)\n",
    "DATASET_DIR = \"gs://cloud-samples-data/ai-platform/iris\"\n",
    "\n",
    "\n",
    "CMDARGS = [\n",
    "    \"--dataset-data-url=\" + DATASET_DIR + \"/iris_data.csv\",\n",
    "    \"--dataset-labels-url=\" + DATASET_DIR + \"/iris_target.csv\",\n",
    "]\n",
    "\n",
    "worker_pool_spec = [\n",
    "    {\n",
    "        \"replica_count\": 1,\n",
    "        \"machine_spec\": machine_spec,\n",
    "        \"disk_spec\": disk_spec,\n",
    "        \"python_package_spec\": {\n",
    "            \"executor_image_uri\": TRAIN_IMAGE,\n",
    "            \"package_uris\": [BUCKET_URI + \"/trainer_iris.tar.gz\"],\n",
    "            \"python_module\": \"trainer.task\",\n",
    "            \"args\": CMDARGS,\n",
    "        },\n",
    "    }\n",
    "]"
   ]
  },
  {
   "cell_type": "markdown",
   "metadata": {
    "id": "create_custom_job:mbsdk"
   },
   "source": [
    "## Create a custom job\n",
    "\n",
    "Use the class `CustomJob` to create a custom job, such as for hyperparameter tuning, with the following parameters:\n",
    "\n",
    "- `display_name`: A human readable name for the custom job.\n",
    "- `worker_pool_specs`: The specification for the corresponding VM instances.\n",
    "- `base_output_dir`: The Cloud Storage location for storing the model artifacts."
   ]
  },
  {
   "cell_type": "code",
   "execution_count": 24,
   "metadata": {
    "id": "create_custom_job:mbsdk"
   },
   "outputs": [],
   "source": [
    "job = aip.CustomJob(\n",
    "    display_name=\"iris_\" + TIMESTAMP,\n",
    "    worker_pool_specs=worker_pool_spec,\n",
    "    base_output_dir=MODEL_DIR,\n",
    ")"
   ]
  },
  {
   "cell_type": "markdown",
   "metadata": {
    "id": "create_hpt_job:mbsdk"
   },
   "source": [
    "## Create a hyperparameter tuning job\n",
    "\n",
    "Use the class `HyperparameterTuningJob` to create a hyperparameter tuning job, with the following parameters:\n",
    "\n",
    "- `display_name`: A human readable name for the custom job.\n",
    "- `custom_job`: The worker pool spec from this custom job applies to the CustomJobs created in all the trials.\n",
    "- `metrics_spec`: The metrics to optimize. The dictionary key is the metric_id, which is reported by your training job, and the dictionary value is the optimization goal of the metric('minimize' or 'maximize').\n",
    "- `parameter_spec`: The parameters to optimize. The dictionary key is the metric_id, which is passed into your training job as a command line key word argument, and the dictionary value is the parameter specification of the metric.\n",
    "- `search_algorithm`: The search algorithm to use: `grid`, `random` and `None`. If `None` is specified, the `Vizier` service (Bayesian) is used.\n",
    "- `max_trial_count`: The maximum number of trials to perform."
   ]
  },
  {
   "cell_type": "code",
   "execution_count": 25,
   "metadata": {
    "id": "create_hpt_job:mbsdk"
   },
   "outputs": [],
   "source": [
    "from google.cloud.aiplatform import hyperparameter_tuning as hpt\n",
    "\n",
    "hpt_job = aip.HyperparameterTuningJob(\n",
    "    display_name=\"iris_\" + TIMESTAMP,\n",
    "    custom_job=job,\n",
    "    metric_spec={\n",
    "        \"accuracy\": \"maximize\",\n",
    "    },\n",
    "    parameter_spec={\n",
    "        \"boost-rounds\": hpt.IntegerParameterSpec(min=10, max=100, scale=\"linear\"),\n",
    "    },\n",
    "    search_algorithm=None,\n",
    "    max_trial_count=6,\n",
    "    parallel_trial_count=2,\n",
    ")"
   ]
  },
  {
   "cell_type": "markdown",
   "metadata": {
    "id": "run_hpt_job:mbsdk"
   },
   "source": [
    "## Run the hyperparameter tuning job\n",
    "\n",
    "Use the `run()` method to execute the hyperparameter tuning job."
   ]
  },
  {
   "cell_type": "code",
   "execution_count": 26,
   "metadata": {
    "id": "run_hpt_job:mbsdk"
   },
   "outputs": [
    {
     "name": "stdout",
     "output_type": "stream",
     "text": [
      "Creating HyperparameterTuningJob\n",
      "HyperparameterTuningJob created. Resource name: projects/354621994428/locations/us-central1/hyperparameterTuningJobs/4656744417250508800\n",
      "To use this HyperparameterTuningJob in another session:\n",
      "hpt_job = aiplatform.HyperparameterTuningJob.get('projects/354621994428/locations/us-central1/hyperparameterTuningJobs/4656744417250508800')\n",
      "View HyperparameterTuningJob:\n",
      "https://console.cloud.google.com/ai/platform/locations/us-central1/training/4656744417250508800?project=354621994428\n",
      "HyperparameterTuningJob projects/354621994428/locations/us-central1/hyperparameterTuningJobs/4656744417250508800 current state:\n",
      "JobState.JOB_STATE_PENDING\n",
      "HyperparameterTuningJob projects/354621994428/locations/us-central1/hyperparameterTuningJobs/4656744417250508800 current state:\n",
      "JobState.JOB_STATE_RUNNING\n",
      "HyperparameterTuningJob projects/354621994428/locations/us-central1/hyperparameterTuningJobs/4656744417250508800 current state:\n",
      "JobState.JOB_STATE_RUNNING\n",
      "HyperparameterTuningJob projects/354621994428/locations/us-central1/hyperparameterTuningJobs/4656744417250508800 current state:\n",
      "JobState.JOB_STATE_RUNNING\n",
      "HyperparameterTuningJob projects/354621994428/locations/us-central1/hyperparameterTuningJobs/4656744417250508800 current state:\n",
      "JobState.JOB_STATE_RUNNING\n",
      "HyperparameterTuningJob projects/354621994428/locations/us-central1/hyperparameterTuningJobs/4656744417250508800 current state:\n",
      "JobState.JOB_STATE_RUNNING\n",
      "HyperparameterTuningJob projects/354621994428/locations/us-central1/hyperparameterTuningJobs/4656744417250508800 current state:\n",
      "JobState.JOB_STATE_RUNNING\n",
      "HyperparameterTuningJob projects/354621994428/locations/us-central1/hyperparameterTuningJobs/4656744417250508800 current state:\n",
      "JobState.JOB_STATE_RUNNING\n",
      "HyperparameterTuningJob projects/354621994428/locations/us-central1/hyperparameterTuningJobs/4656744417250508800 current state:\n",
      "JobState.JOB_STATE_RUNNING\n",
      "HyperparameterTuningJob projects/354621994428/locations/us-central1/hyperparameterTuningJobs/4656744417250508800 current state:\n",
      "JobState.JOB_STATE_RUNNING\n",
      "HyperparameterTuningJob projects/354621994428/locations/us-central1/hyperparameterTuningJobs/4656744417250508800 current state:\n",
      "JobState.JOB_STATE_RUNNING\n",
      "HyperparameterTuningJob projects/354621994428/locations/us-central1/hyperparameterTuningJobs/4656744417250508800 current state:\n",
      "JobState.JOB_STATE_RUNNING\n",
      "HyperparameterTuningJob projects/354621994428/locations/us-central1/hyperparameterTuningJobs/4656744417250508800 current state:\n",
      "JobState.JOB_STATE_RUNNING\n",
      "HyperparameterTuningJob projects/354621994428/locations/us-central1/hyperparameterTuningJobs/4656744417250508800 current state:\n",
      "JobState.JOB_STATE_RUNNING\n",
      "HyperparameterTuningJob projects/354621994428/locations/us-central1/hyperparameterTuningJobs/4656744417250508800 current state:\n",
      "JobState.JOB_STATE_RUNNING\n",
      "HyperparameterTuningJob projects/354621994428/locations/us-central1/hyperparameterTuningJobs/4656744417250508800 current state:\n",
      "JobState.JOB_STATE_RUNNING\n",
      "HyperparameterTuningJob projects/354621994428/locations/us-central1/hyperparameterTuningJobs/4656744417250508800 current state:\n",
      "JobState.JOB_STATE_RUNNING\n",
      "HyperparameterTuningJob projects/354621994428/locations/us-central1/hyperparameterTuningJobs/4656744417250508800 current state:\n",
      "JobState.JOB_STATE_RUNNING\n",
      "HyperparameterTuningJob projects/354621994428/locations/us-central1/hyperparameterTuningJobs/4656744417250508800 current state:\n",
      "JobState.JOB_STATE_RUNNING\n",
      "HyperparameterTuningJob projects/354621994428/locations/us-central1/hyperparameterTuningJobs/4656744417250508800 current state:\n",
      "JobState.JOB_STATE_RUNNING\n",
      "HyperparameterTuningJob projects/354621994428/locations/us-central1/hyperparameterTuningJobs/4656744417250508800 current state:\n",
      "JobState.JOB_STATE_RUNNING\n",
      "HyperparameterTuningJob projects/354621994428/locations/us-central1/hyperparameterTuningJobs/4656744417250508800 current state:\n",
      "JobState.JOB_STATE_RUNNING\n",
      "HyperparameterTuningJob projects/354621994428/locations/us-central1/hyperparameterTuningJobs/4656744417250508800 current state:\n",
      "JobState.JOB_STATE_RUNNING\n",
      "HyperparameterTuningJob projects/354621994428/locations/us-central1/hyperparameterTuningJobs/4656744417250508800 current state:\n",
      "JobState.JOB_STATE_RUNNING\n",
      "HyperparameterTuningJob projects/354621994428/locations/us-central1/hyperparameterTuningJobs/4656744417250508800 current state:\n",
      "JobState.JOB_STATE_RUNNING\n",
      "HyperparameterTuningJob projects/354621994428/locations/us-central1/hyperparameterTuningJobs/4656744417250508800 current state:\n",
      "JobState.JOB_STATE_RUNNING\n",
      "HyperparameterTuningJob projects/354621994428/locations/us-central1/hyperparameterTuningJobs/4656744417250508800 current state:\n",
      "JobState.JOB_STATE_RUNNING\n",
      "HyperparameterTuningJob projects/354621994428/locations/us-central1/hyperparameterTuningJobs/4656744417250508800 current state:\n",
      "JobState.JOB_STATE_RUNNING\n",
      "HyperparameterTuningJob projects/354621994428/locations/us-central1/hyperparameterTuningJobs/4656744417250508800 current state:\n",
      "JobState.JOB_STATE_RUNNING\n",
      "HyperparameterTuningJob projects/354621994428/locations/us-central1/hyperparameterTuningJobs/4656744417250508800 current state:\n",
      "JobState.JOB_STATE_RUNNING\n",
      "HyperparameterTuningJob projects/354621994428/locations/us-central1/hyperparameterTuningJobs/4656744417250508800 current state:\n",
      "JobState.JOB_STATE_RUNNING\n",
      "HyperparameterTuningJob projects/354621994428/locations/us-central1/hyperparameterTuningJobs/4656744417250508800 current state:\n",
      "JobState.JOB_STATE_RUNNING\n",
      "HyperparameterTuningJob projects/354621994428/locations/us-central1/hyperparameterTuningJobs/4656744417250508800 current state:\n",
      "JobState.JOB_STATE_RUNNING\n",
      "HyperparameterTuningJob projects/354621994428/locations/us-central1/hyperparameterTuningJobs/4656744417250508800 current state:\n",
      "JobState.JOB_STATE_RUNNING\n",
      "HyperparameterTuningJob projects/354621994428/locations/us-central1/hyperparameterTuningJobs/4656744417250508800 current state:\n",
      "JobState.JOB_STATE_RUNNING\n",
      "HyperparameterTuningJob projects/354621994428/locations/us-central1/hyperparameterTuningJobs/4656744417250508800 current state:\n",
      "JobState.JOB_STATE_RUNNING\n",
      "HyperparameterTuningJob projects/354621994428/locations/us-central1/hyperparameterTuningJobs/4656744417250508800 current state:\n",
      "JobState.JOB_STATE_RUNNING\n",
      "HyperparameterTuningJob projects/354621994428/locations/us-central1/hyperparameterTuningJobs/4656744417250508800 current state:\n",
      "JobState.JOB_STATE_RUNNING\n",
      "HyperparameterTuningJob projects/354621994428/locations/us-central1/hyperparameterTuningJobs/4656744417250508800 current state:\n",
      "JobState.JOB_STATE_RUNNING\n",
      "HyperparameterTuningJob projects/354621994428/locations/us-central1/hyperparameterTuningJobs/4656744417250508800 current state:\n",
      "JobState.JOB_STATE_RUNNING\n",
      "HyperparameterTuningJob projects/354621994428/locations/us-central1/hyperparameterTuningJobs/4656744417250508800 current state:\n",
      "JobState.JOB_STATE_RUNNING\n",
      "HyperparameterTuningJob projects/354621994428/locations/us-central1/hyperparameterTuningJobs/4656744417250508800 current state:\n",
      "JobState.JOB_STATE_RUNNING\n",
      "HyperparameterTuningJob projects/354621994428/locations/us-central1/hyperparameterTuningJobs/4656744417250508800 current state:\n",
      "JobState.JOB_STATE_RUNNING\n",
      "HyperparameterTuningJob projects/354621994428/locations/us-central1/hyperparameterTuningJobs/4656744417250508800 current state:\n",
      "JobState.JOB_STATE_RUNNING\n",
      "HyperparameterTuningJob projects/354621994428/locations/us-central1/hyperparameterTuningJobs/4656744417250508800 current state:\n",
      "JobState.JOB_STATE_RUNNING\n",
      "HyperparameterTuningJob projects/354621994428/locations/us-central1/hyperparameterTuningJobs/4656744417250508800 current state:\n",
      "JobState.JOB_STATE_RUNNING\n",
      "HyperparameterTuningJob projects/354621994428/locations/us-central1/hyperparameterTuningJobs/4656744417250508800 current state:\n",
      "JobState.JOB_STATE_RUNNING\n",
      "HyperparameterTuningJob projects/354621994428/locations/us-central1/hyperparameterTuningJobs/4656744417250508800 current state:\n",
      "JobState.JOB_STATE_RUNNING\n",
      "HyperparameterTuningJob projects/354621994428/locations/us-central1/hyperparameterTuningJobs/4656744417250508800 current state:\n",
      "JobState.JOB_STATE_RUNNING\n",
      "HyperparameterTuningJob projects/354621994428/locations/us-central1/hyperparameterTuningJobs/4656744417250508800 current state:\n",
      "JobState.JOB_STATE_RUNNING\n",
      "HyperparameterTuningJob projects/354621994428/locations/us-central1/hyperparameterTuningJobs/4656744417250508800 current state:\n",
      "JobState.JOB_STATE_RUNNING\n",
      "HyperparameterTuningJob projects/354621994428/locations/us-central1/hyperparameterTuningJobs/4656744417250508800 current state:\n",
      "JobState.JOB_STATE_RUNNING\n",
      "HyperparameterTuningJob projects/354621994428/locations/us-central1/hyperparameterTuningJobs/4656744417250508800 current state:\n",
      "JobState.JOB_STATE_RUNNING\n",
      "HyperparameterTuningJob projects/354621994428/locations/us-central1/hyperparameterTuningJobs/4656744417250508800 current state:\n",
      "JobState.JOB_STATE_RUNNING\n",
      "HyperparameterTuningJob projects/354621994428/locations/us-central1/hyperparameterTuningJobs/4656744417250508800 current state:\n",
      "JobState.JOB_STATE_RUNNING\n",
      "HyperparameterTuningJob projects/354621994428/locations/us-central1/hyperparameterTuningJobs/4656744417250508800 current state:\n",
      "JobState.JOB_STATE_RUNNING\n",
      "HyperparameterTuningJob projects/354621994428/locations/us-central1/hyperparameterTuningJobs/4656744417250508800 current state:\n",
      "JobState.JOB_STATE_RUNNING\n",
      "HyperparameterTuningJob projects/354621994428/locations/us-central1/hyperparameterTuningJobs/4656744417250508800 current state:\n",
      "JobState.JOB_STATE_RUNNING\n",
      "HyperparameterTuningJob projects/354621994428/locations/us-central1/hyperparameterTuningJobs/4656744417250508800 current state:\n",
      "JobState.JOB_STATE_RUNNING\n",
      "HyperparameterTuningJob projects/354621994428/locations/us-central1/hyperparameterTuningJobs/4656744417250508800 current state:\n",
      "JobState.JOB_STATE_RUNNING\n",
      "HyperparameterTuningJob projects/354621994428/locations/us-central1/hyperparameterTuningJobs/4656744417250508800 current state:\n",
      "JobState.JOB_STATE_RUNNING\n",
      "HyperparameterTuningJob projects/354621994428/locations/us-central1/hyperparameterTuningJobs/4656744417250508800 current state:\n",
      "JobState.JOB_STATE_RUNNING\n",
      "HyperparameterTuningJob projects/354621994428/locations/us-central1/hyperparameterTuningJobs/4656744417250508800 current state:\n",
      "JobState.JOB_STATE_RUNNING\n",
      "HyperparameterTuningJob projects/354621994428/locations/us-central1/hyperparameterTuningJobs/4656744417250508800 current state:\n",
      "JobState.JOB_STATE_RUNNING\n",
      "HyperparameterTuningJob projects/354621994428/locations/us-central1/hyperparameterTuningJobs/4656744417250508800 current state:\n",
      "JobState.JOB_STATE_RUNNING\n",
      "HyperparameterTuningJob projects/354621994428/locations/us-central1/hyperparameterTuningJobs/4656744417250508800 current state:\n",
      "JobState.JOB_STATE_RUNNING\n",
      "HyperparameterTuningJob projects/354621994428/locations/us-central1/hyperparameterTuningJobs/4656744417250508800 current state:\n",
      "JobState.JOB_STATE_RUNNING\n",
      "HyperparameterTuningJob projects/354621994428/locations/us-central1/hyperparameterTuningJobs/4656744417250508800 current state:\n",
      "JobState.JOB_STATE_RUNNING\n",
      "HyperparameterTuningJob projects/354621994428/locations/us-central1/hyperparameterTuningJobs/4656744417250508800 current state:\n",
      "JobState.JOB_STATE_RUNNING\n",
      "HyperparameterTuningJob projects/354621994428/locations/us-central1/hyperparameterTuningJobs/4656744417250508800 current state:\n",
      "JobState.JOB_STATE_RUNNING\n",
      "HyperparameterTuningJob projects/354621994428/locations/us-central1/hyperparameterTuningJobs/4656744417250508800 current state:\n",
      "JobState.JOB_STATE_RUNNING\n",
      "HyperparameterTuningJob projects/354621994428/locations/us-central1/hyperparameterTuningJobs/4656744417250508800 current state:\n",
      "JobState.JOB_STATE_RUNNING\n",
      "HyperparameterTuningJob projects/354621994428/locations/us-central1/hyperparameterTuningJobs/4656744417250508800 current state:\n",
      "JobState.JOB_STATE_RUNNING\n",
      "HyperparameterTuningJob projects/354621994428/locations/us-central1/hyperparameterTuningJobs/4656744417250508800 current state:\n",
      "JobState.JOB_STATE_RUNNING\n",
      "HyperparameterTuningJob projects/354621994428/locations/us-central1/hyperparameterTuningJobs/4656744417250508800 current state:\n",
      "JobState.JOB_STATE_RUNNING\n",
      "HyperparameterTuningJob projects/354621994428/locations/us-central1/hyperparameterTuningJobs/4656744417250508800 current state:\n",
      "JobState.JOB_STATE_RUNNING\n",
      "HyperparameterTuningJob projects/354621994428/locations/us-central1/hyperparameterTuningJobs/4656744417250508800 current state:\n",
      "JobState.JOB_STATE_RUNNING\n",
      "HyperparameterTuningJob projects/354621994428/locations/us-central1/hyperparameterTuningJobs/4656744417250508800 current state:\n",
      "JobState.JOB_STATE_RUNNING\n",
      "HyperparameterTuningJob projects/354621994428/locations/us-central1/hyperparameterTuningJobs/4656744417250508800 current state:\n",
      "JobState.JOB_STATE_RUNNING\n",
      "HyperparameterTuningJob projects/354621994428/locations/us-central1/hyperparameterTuningJobs/4656744417250508800 current state:\n",
      "JobState.JOB_STATE_RUNNING\n",
      "HyperparameterTuningJob projects/354621994428/locations/us-central1/hyperparameterTuningJobs/4656744417250508800 current state:\n",
      "JobState.JOB_STATE_RUNNING\n",
      "HyperparameterTuningJob projects/354621994428/locations/us-central1/hyperparameterTuningJobs/4656744417250508800 current state:\n",
      "JobState.JOB_STATE_RUNNING\n",
      "HyperparameterTuningJob projects/354621994428/locations/us-central1/hyperparameterTuningJobs/4656744417250508800 current state:\n",
      "JobState.JOB_STATE_RUNNING\n",
      "HyperparameterTuningJob projects/354621994428/locations/us-central1/hyperparameterTuningJobs/4656744417250508800 current state:\n",
      "JobState.JOB_STATE_RUNNING\n",
      "HyperparameterTuningJob projects/354621994428/locations/us-central1/hyperparameterTuningJobs/4656744417250508800 current state:\n",
      "JobState.JOB_STATE_RUNNING\n",
      "HyperparameterTuningJob projects/354621994428/locations/us-central1/hyperparameterTuningJobs/4656744417250508800 current state:\n",
      "JobState.JOB_STATE_RUNNING\n",
      "HyperparameterTuningJob projects/354621994428/locations/us-central1/hyperparameterTuningJobs/4656744417250508800 current state:\n",
      "JobState.JOB_STATE_RUNNING\n",
      "HyperparameterTuningJob projects/354621994428/locations/us-central1/hyperparameterTuningJobs/4656744417250508800 current state:\n",
      "JobState.JOB_STATE_RUNNING\n",
      "HyperparameterTuningJob projects/354621994428/locations/us-central1/hyperparameterTuningJobs/4656744417250508800 current state:\n",
      "JobState.JOB_STATE_RUNNING\n",
      "HyperparameterTuningJob projects/354621994428/locations/us-central1/hyperparameterTuningJobs/4656744417250508800 current state:\n",
      "JobState.JOB_STATE_RUNNING\n",
      "HyperparameterTuningJob projects/354621994428/locations/us-central1/hyperparameterTuningJobs/4656744417250508800 current state:\n",
      "JobState.JOB_STATE_RUNNING\n",
      "HyperparameterTuningJob projects/354621994428/locations/us-central1/hyperparameterTuningJobs/4656744417250508800 current state:\n",
      "JobState.JOB_STATE_RUNNING\n",
      "HyperparameterTuningJob projects/354621994428/locations/us-central1/hyperparameterTuningJobs/4656744417250508800 current state:\n",
      "JobState.JOB_STATE_RUNNING\n",
      "HyperparameterTuningJob projects/354621994428/locations/us-central1/hyperparameterTuningJobs/4656744417250508800 current state:\n",
      "JobState.JOB_STATE_RUNNING\n",
      "HyperparameterTuningJob projects/354621994428/locations/us-central1/hyperparameterTuningJobs/4656744417250508800 current state:\n",
      "JobState.JOB_STATE_RUNNING\n",
      "HyperparameterTuningJob projects/354621994428/locations/us-central1/hyperparameterTuningJobs/4656744417250508800 current state:\n",
      "JobState.JOB_STATE_RUNNING\n",
      "HyperparameterTuningJob projects/354621994428/locations/us-central1/hyperparameterTuningJobs/4656744417250508800 current state:\n",
      "JobState.JOB_STATE_RUNNING\n",
      "HyperparameterTuningJob projects/354621994428/locations/us-central1/hyperparameterTuningJobs/4656744417250508800 current state:\n",
      "JobState.JOB_STATE_RUNNING\n",
      "HyperparameterTuningJob projects/354621994428/locations/us-central1/hyperparameterTuningJobs/4656744417250508800 current state:\n",
      "JobState.JOB_STATE_RUNNING\n",
      "HyperparameterTuningJob projects/354621994428/locations/us-central1/hyperparameterTuningJobs/4656744417250508800 current state:\n",
      "JobState.JOB_STATE_RUNNING\n",
      "HyperparameterTuningJob projects/354621994428/locations/us-central1/hyperparameterTuningJobs/4656744417250508800 current state:\n",
      "JobState.JOB_STATE_RUNNING\n",
      "HyperparameterTuningJob projects/354621994428/locations/us-central1/hyperparameterTuningJobs/4656744417250508800 current state:\n",
      "JobState.JOB_STATE_RUNNING\n",
      "HyperparameterTuningJob projects/354621994428/locations/us-central1/hyperparameterTuningJobs/4656744417250508800 current state:\n",
      "JobState.JOB_STATE_RUNNING\n",
      "HyperparameterTuningJob projects/354621994428/locations/us-central1/hyperparameterTuningJobs/4656744417250508800 current state:\n",
      "JobState.JOB_STATE_RUNNING\n",
      "HyperparameterTuningJob projects/354621994428/locations/us-central1/hyperparameterTuningJobs/4656744417250508800 current state:\n",
      "JobState.JOB_STATE_RUNNING\n",
      "HyperparameterTuningJob projects/354621994428/locations/us-central1/hyperparameterTuningJobs/4656744417250508800 current state:\n",
      "JobState.JOB_STATE_RUNNING\n",
      "HyperparameterTuningJob projects/354621994428/locations/us-central1/hyperparameterTuningJobs/4656744417250508800 current state:\n",
      "JobState.JOB_STATE_RUNNING\n",
      "HyperparameterTuningJob projects/354621994428/locations/us-central1/hyperparameterTuningJobs/4656744417250508800 current state:\n",
      "JobState.JOB_STATE_RUNNING\n",
      "HyperparameterTuningJob projects/354621994428/locations/us-central1/hyperparameterTuningJobs/4656744417250508800 current state:\n",
      "JobState.JOB_STATE_RUNNING\n",
      "HyperparameterTuningJob projects/354621994428/locations/us-central1/hyperparameterTuningJobs/4656744417250508800 current state:\n",
      "JobState.JOB_STATE_RUNNING\n",
      "HyperparameterTuningJob projects/354621994428/locations/us-central1/hyperparameterTuningJobs/4656744417250508800 current state:\n",
      "JobState.JOB_STATE_RUNNING\n",
      "HyperparameterTuningJob projects/354621994428/locations/us-central1/hyperparameterTuningJobs/4656744417250508800 current state:\n",
      "JobState.JOB_STATE_RUNNING\n",
      "HyperparameterTuningJob projects/354621994428/locations/us-central1/hyperparameterTuningJobs/4656744417250508800 current state:\n",
      "JobState.JOB_STATE_RUNNING\n",
      "HyperparameterTuningJob projects/354621994428/locations/us-central1/hyperparameterTuningJobs/4656744417250508800 current state:\n",
      "JobState.JOB_STATE_RUNNING\n",
      "HyperparameterTuningJob projects/354621994428/locations/us-central1/hyperparameterTuningJobs/4656744417250508800 current state:\n",
      "JobState.JOB_STATE_RUNNING\n",
      "HyperparameterTuningJob projects/354621994428/locations/us-central1/hyperparameterTuningJobs/4656744417250508800 current state:\n",
      "JobState.JOB_STATE_RUNNING\n",
      "HyperparameterTuningJob projects/354621994428/locations/us-central1/hyperparameterTuningJobs/4656744417250508800 current state:\n",
      "JobState.JOB_STATE_RUNNING\n",
      "HyperparameterTuningJob projects/354621994428/locations/us-central1/hyperparameterTuningJobs/4656744417250508800 current state:\n",
      "JobState.JOB_STATE_RUNNING\n",
      "HyperparameterTuningJob projects/354621994428/locations/us-central1/hyperparameterTuningJobs/4656744417250508800 current state:\n",
      "JobState.JOB_STATE_RUNNING\n",
      "HyperparameterTuningJob projects/354621994428/locations/us-central1/hyperparameterTuningJobs/4656744417250508800 current state:\n",
      "JobState.JOB_STATE_RUNNING\n",
      "HyperparameterTuningJob projects/354621994428/locations/us-central1/hyperparameterTuningJobs/4656744417250508800 current state:\n",
      "JobState.JOB_STATE_RUNNING\n",
      "HyperparameterTuningJob projects/354621994428/locations/us-central1/hyperparameterTuningJobs/4656744417250508800 current state:\n",
      "JobState.JOB_STATE_RUNNING\n",
      "HyperparameterTuningJob projects/354621994428/locations/us-central1/hyperparameterTuningJobs/4656744417250508800 current state:\n",
      "JobState.JOB_STATE_RUNNING\n",
      "HyperparameterTuningJob projects/354621994428/locations/us-central1/hyperparameterTuningJobs/4656744417250508800 current state:\n",
      "JobState.JOB_STATE_RUNNING\n",
      "HyperparameterTuningJob projects/354621994428/locations/us-central1/hyperparameterTuningJobs/4656744417250508800 current state:\n",
      "JobState.JOB_STATE_RUNNING\n",
      "HyperparameterTuningJob projects/354621994428/locations/us-central1/hyperparameterTuningJobs/4656744417250508800 current state:\n",
      "JobState.JOB_STATE_RUNNING\n",
      "HyperparameterTuningJob projects/354621994428/locations/us-central1/hyperparameterTuningJobs/4656744417250508800 current state:\n",
      "JobState.JOB_STATE_RUNNING\n",
      "HyperparameterTuningJob projects/354621994428/locations/us-central1/hyperparameterTuningJobs/4656744417250508800 current state:\n",
      "JobState.JOB_STATE_RUNNING\n",
      "HyperparameterTuningJob projects/354621994428/locations/us-central1/hyperparameterTuningJobs/4656744417250508800 current state:\n",
      "JobState.JOB_STATE_RUNNING\n",
      "HyperparameterTuningJob projects/354621994428/locations/us-central1/hyperparameterTuningJobs/4656744417250508800 current state:\n",
      "JobState.JOB_STATE_RUNNING\n",
      "HyperparameterTuningJob projects/354621994428/locations/us-central1/hyperparameterTuningJobs/4656744417250508800 current state:\n",
      "JobState.JOB_STATE_RUNNING\n",
      "HyperparameterTuningJob projects/354621994428/locations/us-central1/hyperparameterTuningJobs/4656744417250508800 current state:\n",
      "JobState.JOB_STATE_RUNNING\n",
      "HyperparameterTuningJob projects/354621994428/locations/us-central1/hyperparameterTuningJobs/4656744417250508800 current state:\n",
      "JobState.JOB_STATE_RUNNING\n",
      "HyperparameterTuningJob projects/354621994428/locations/us-central1/hyperparameterTuningJobs/4656744417250508800 current state:\n",
      "JobState.JOB_STATE_RUNNING\n",
      "HyperparameterTuningJob projects/354621994428/locations/us-central1/hyperparameterTuningJobs/4656744417250508800 current state:\n",
      "JobState.JOB_STATE_RUNNING\n",
      "HyperparameterTuningJob projects/354621994428/locations/us-central1/hyperparameterTuningJobs/4656744417250508800 current state:\n",
      "JobState.JOB_STATE_RUNNING\n",
      "HyperparameterTuningJob projects/354621994428/locations/us-central1/hyperparameterTuningJobs/4656744417250508800 current state:\n",
      "JobState.JOB_STATE_RUNNING\n",
      "HyperparameterTuningJob projects/354621994428/locations/us-central1/hyperparameterTuningJobs/4656744417250508800 current state:\n",
      "JobState.JOB_STATE_RUNNING\n",
      "HyperparameterTuningJob projects/354621994428/locations/us-central1/hyperparameterTuningJobs/4656744417250508800 current state:\n",
      "JobState.JOB_STATE_RUNNING\n",
      "HyperparameterTuningJob projects/354621994428/locations/us-central1/hyperparameterTuningJobs/4656744417250508800 current state:\n",
      "JobState.JOB_STATE_RUNNING\n",
      "HyperparameterTuningJob projects/354621994428/locations/us-central1/hyperparameterTuningJobs/4656744417250508800 current state:\n",
      "JobState.JOB_STATE_RUNNING\n",
      "HyperparameterTuningJob projects/354621994428/locations/us-central1/hyperparameterTuningJobs/4656744417250508800 current state:\n",
      "JobState.JOB_STATE_RUNNING\n",
      "HyperparameterTuningJob projects/354621994428/locations/us-central1/hyperparameterTuningJobs/4656744417250508800 current state:\n",
      "JobState.JOB_STATE_RUNNING\n",
      "HyperparameterTuningJob projects/354621994428/locations/us-central1/hyperparameterTuningJobs/4656744417250508800 current state:\n",
      "JobState.JOB_STATE_RUNNING\n",
      "HyperparameterTuningJob projects/354621994428/locations/us-central1/hyperparameterTuningJobs/4656744417250508800 current state:\n",
      "JobState.JOB_STATE_RUNNING\n",
      "HyperparameterTuningJob projects/354621994428/locations/us-central1/hyperparameterTuningJobs/4656744417250508800 current state:\n",
      "JobState.JOB_STATE_RUNNING\n",
      "HyperparameterTuningJob projects/354621994428/locations/us-central1/hyperparameterTuningJobs/4656744417250508800 current state:\n",
      "JobState.JOB_STATE_RUNNING\n",
      "HyperparameterTuningJob projects/354621994428/locations/us-central1/hyperparameterTuningJobs/4656744417250508800 current state:\n",
      "JobState.JOB_STATE_RUNNING\n",
      "HyperparameterTuningJob projects/354621994428/locations/us-central1/hyperparameterTuningJobs/4656744417250508800 current state:\n",
      "JobState.JOB_STATE_RUNNING\n",
      "HyperparameterTuningJob projects/354621994428/locations/us-central1/hyperparameterTuningJobs/4656744417250508800 current state:\n",
      "JobState.JOB_STATE_RUNNING\n",
      "HyperparameterTuningJob projects/354621994428/locations/us-central1/hyperparameterTuningJobs/4656744417250508800 current state:\n",
      "JobState.JOB_STATE_RUNNING\n",
      "HyperparameterTuningJob projects/354621994428/locations/us-central1/hyperparameterTuningJobs/4656744417250508800 current state:\n",
      "JobState.JOB_STATE_RUNNING\n",
      "HyperparameterTuningJob projects/354621994428/locations/us-central1/hyperparameterTuningJobs/4656744417250508800 current state:\n",
      "JobState.JOB_STATE_RUNNING\n",
      "HyperparameterTuningJob projects/354621994428/locations/us-central1/hyperparameterTuningJobs/4656744417250508800 current state:\n",
      "JobState.JOB_STATE_RUNNING\n",
      "HyperparameterTuningJob projects/354621994428/locations/us-central1/hyperparameterTuningJobs/4656744417250508800 current state:\n",
      "JobState.JOB_STATE_RUNNING\n",
      "HyperparameterTuningJob projects/354621994428/locations/us-central1/hyperparameterTuningJobs/4656744417250508800 current state:\n",
      "JobState.JOB_STATE_RUNNING\n",
      "HyperparameterTuningJob projects/354621994428/locations/us-central1/hyperparameterTuningJobs/4656744417250508800 current state:\n",
      "JobState.JOB_STATE_RUNNING\n",
      "HyperparameterTuningJob projects/354621994428/locations/us-central1/hyperparameterTuningJobs/4656744417250508800 current state:\n",
      "JobState.JOB_STATE_RUNNING\n",
      "HyperparameterTuningJob projects/354621994428/locations/us-central1/hyperparameterTuningJobs/4656744417250508800 current state:\n",
      "JobState.JOB_STATE_RUNNING\n",
      "HyperparameterTuningJob projects/354621994428/locations/us-central1/hyperparameterTuningJobs/4656744417250508800 current state:\n",
      "JobState.JOB_STATE_RUNNING\n",
      "HyperparameterTuningJob projects/354621994428/locations/us-central1/hyperparameterTuningJobs/4656744417250508800 current state:\n",
      "JobState.JOB_STATE_RUNNING\n",
      "HyperparameterTuningJob projects/354621994428/locations/us-central1/hyperparameterTuningJobs/4656744417250508800 current state:\n",
      "JobState.JOB_STATE_RUNNING\n",
      "HyperparameterTuningJob projects/354621994428/locations/us-central1/hyperparameterTuningJobs/4656744417250508800 current state:\n",
      "JobState.JOB_STATE_RUNNING\n",
      "HyperparameterTuningJob projects/354621994428/locations/us-central1/hyperparameterTuningJobs/4656744417250508800 current state:\n",
      "JobState.JOB_STATE_RUNNING\n",
      "HyperparameterTuningJob projects/354621994428/locations/us-central1/hyperparameterTuningJobs/4656744417250508800 current state:\n",
      "JobState.JOB_STATE_RUNNING\n",
      "HyperparameterTuningJob projects/354621994428/locations/us-central1/hyperparameterTuningJobs/4656744417250508800 current state:\n",
      "JobState.JOB_STATE_RUNNING\n",
      "HyperparameterTuningJob projects/354621994428/locations/us-central1/hyperparameterTuningJobs/4656744417250508800 current state:\n",
      "JobState.JOB_STATE_RUNNING\n",
      "HyperparameterTuningJob projects/354621994428/locations/us-central1/hyperparameterTuningJobs/4656744417250508800 current state:\n",
      "JobState.JOB_STATE_RUNNING\n",
      "HyperparameterTuningJob projects/354621994428/locations/us-central1/hyperparameterTuningJobs/4656744417250508800 current state:\n",
      "JobState.JOB_STATE_RUNNING\n",
      "HyperparameterTuningJob projects/354621994428/locations/us-central1/hyperparameterTuningJobs/4656744417250508800 current state:\n",
      "JobState.JOB_STATE_RUNNING\n",
      "HyperparameterTuningJob projects/354621994428/locations/us-central1/hyperparameterTuningJobs/4656744417250508800 current state:\n",
      "JobState.JOB_STATE_RUNNING\n",
      "HyperparameterTuningJob projects/354621994428/locations/us-central1/hyperparameterTuningJobs/4656744417250508800 current state:\n",
      "JobState.JOB_STATE_RUNNING\n",
      "HyperparameterTuningJob projects/354621994428/locations/us-central1/hyperparameterTuningJobs/4656744417250508800 current state:\n",
      "JobState.JOB_STATE_RUNNING\n",
      "HyperparameterTuningJob projects/354621994428/locations/us-central1/hyperparameterTuningJobs/4656744417250508800 current state:\n",
      "JobState.JOB_STATE_RUNNING\n",
      "HyperparameterTuningJob projects/354621994428/locations/us-central1/hyperparameterTuningJobs/4656744417250508800 current state:\n",
      "JobState.JOB_STATE_RUNNING\n",
      "HyperparameterTuningJob projects/354621994428/locations/us-central1/hyperparameterTuningJobs/4656744417250508800 current state:\n",
      "JobState.JOB_STATE_RUNNING\n",
      "HyperparameterTuningJob projects/354621994428/locations/us-central1/hyperparameterTuningJobs/4656744417250508800 current state:\n",
      "JobState.JOB_STATE_RUNNING\n",
      "HyperparameterTuningJob projects/354621994428/locations/us-central1/hyperparameterTuningJobs/4656744417250508800 current state:\n",
      "JobState.JOB_STATE_RUNNING\n",
      "HyperparameterTuningJob projects/354621994428/locations/us-central1/hyperparameterTuningJobs/4656744417250508800 current state:\n",
      "JobState.JOB_STATE_RUNNING\n",
      "HyperparameterTuningJob projects/354621994428/locations/us-central1/hyperparameterTuningJobs/4656744417250508800 current state:\n",
      "JobState.JOB_STATE_RUNNING\n",
      "HyperparameterTuningJob projects/354621994428/locations/us-central1/hyperparameterTuningJobs/4656744417250508800 current state:\n",
      "JobState.JOB_STATE_RUNNING\n",
      "HyperparameterTuningJob projects/354621994428/locations/us-central1/hyperparameterTuningJobs/4656744417250508800 current state:\n",
      "JobState.JOB_STATE_RUNNING\n",
      "HyperparameterTuningJob projects/354621994428/locations/us-central1/hyperparameterTuningJobs/4656744417250508800 current state:\n",
      "JobState.JOB_STATE_RUNNING\n",
      "HyperparameterTuningJob projects/354621994428/locations/us-central1/hyperparameterTuningJobs/4656744417250508800 current state:\n",
      "JobState.JOB_STATE_RUNNING\n",
      "HyperparameterTuningJob projects/354621994428/locations/us-central1/hyperparameterTuningJobs/4656744417250508800 current state:\n",
      "JobState.JOB_STATE_RUNNING\n",
      "HyperparameterTuningJob projects/354621994428/locations/us-central1/hyperparameterTuningJobs/4656744417250508800 current state:\n",
      "JobState.JOB_STATE_RUNNING\n",
      "HyperparameterTuningJob projects/354621994428/locations/us-central1/hyperparameterTuningJobs/4656744417250508800 current state:\n",
      "JobState.JOB_STATE_RUNNING\n",
      "HyperparameterTuningJob projects/354621994428/locations/us-central1/hyperparameterTuningJobs/4656744417250508800 current state:\n",
      "JobState.JOB_STATE_RUNNING\n",
      "HyperparameterTuningJob projects/354621994428/locations/us-central1/hyperparameterTuningJobs/4656744417250508800 current state:\n",
      "JobState.JOB_STATE_RUNNING\n",
      "HyperparameterTuningJob projects/354621994428/locations/us-central1/hyperparameterTuningJobs/4656744417250508800 current state:\n",
      "JobState.JOB_STATE_RUNNING\n",
      "HyperparameterTuningJob projects/354621994428/locations/us-central1/hyperparameterTuningJobs/4656744417250508800 current state:\n",
      "JobState.JOB_STATE_RUNNING\n",
      "HyperparameterTuningJob projects/354621994428/locations/us-central1/hyperparameterTuningJobs/4656744417250508800 current state:\n",
      "JobState.JOB_STATE_RUNNING\n",
      "HyperparameterTuningJob projects/354621994428/locations/us-central1/hyperparameterTuningJobs/4656744417250508800 current state:\n",
      "JobState.JOB_STATE_RUNNING\n",
      "HyperparameterTuningJob projects/354621994428/locations/us-central1/hyperparameterTuningJobs/4656744417250508800 current state:\n",
      "JobState.JOB_STATE_RUNNING\n",
      "HyperparameterTuningJob projects/354621994428/locations/us-central1/hyperparameterTuningJobs/4656744417250508800 current state:\n",
      "JobState.JOB_STATE_RUNNING\n",
      "HyperparameterTuningJob projects/354621994428/locations/us-central1/hyperparameterTuningJobs/4656744417250508800 current state:\n",
      "JobState.JOB_STATE_RUNNING\n",
      "HyperparameterTuningJob projects/354621994428/locations/us-central1/hyperparameterTuningJobs/4656744417250508800 current state:\n",
      "JobState.JOB_STATE_RUNNING\n",
      "HyperparameterTuningJob projects/354621994428/locations/us-central1/hyperparameterTuningJobs/4656744417250508800 current state:\n",
      "JobState.JOB_STATE_RUNNING\n",
      "HyperparameterTuningJob projects/354621994428/locations/us-central1/hyperparameterTuningJobs/4656744417250508800 current state:\n",
      "JobState.JOB_STATE_RUNNING\n",
      "HyperparameterTuningJob projects/354621994428/locations/us-central1/hyperparameterTuningJobs/4656744417250508800 current state:\n",
      "JobState.JOB_STATE_RUNNING\n",
      "HyperparameterTuningJob projects/354621994428/locations/us-central1/hyperparameterTuningJobs/4656744417250508800 current state:\n",
      "JobState.JOB_STATE_RUNNING\n",
      "HyperparameterTuningJob projects/354621994428/locations/us-central1/hyperparameterTuningJobs/4656744417250508800 current state:\n",
      "JobState.JOB_STATE_RUNNING\n",
      "HyperparameterTuningJob projects/354621994428/locations/us-central1/hyperparameterTuningJobs/4656744417250508800 current state:\n",
      "JobState.JOB_STATE_RUNNING\n",
      "HyperparameterTuningJob projects/354621994428/locations/us-central1/hyperparameterTuningJobs/4656744417250508800 current state:\n",
      "JobState.JOB_STATE_RUNNING\n",
      "HyperparameterTuningJob projects/354621994428/locations/us-central1/hyperparameterTuningJobs/4656744417250508800 current state:\n",
      "JobState.JOB_STATE_RUNNING\n",
      "HyperparameterTuningJob projects/354621994428/locations/us-central1/hyperparameterTuningJobs/4656744417250508800 current state:\n",
      "JobState.JOB_STATE_RUNNING\n",
      "HyperparameterTuningJob projects/354621994428/locations/us-central1/hyperparameterTuningJobs/4656744417250508800 current state:\n",
      "JobState.JOB_STATE_RUNNING\n",
      "HyperparameterTuningJob projects/354621994428/locations/us-central1/hyperparameterTuningJobs/4656744417250508800 current state:\n",
      "JobState.JOB_STATE_RUNNING\n",
      "HyperparameterTuningJob projects/354621994428/locations/us-central1/hyperparameterTuningJobs/4656744417250508800 current state:\n",
      "JobState.JOB_STATE_RUNNING\n",
      "HyperparameterTuningJob projects/354621994428/locations/us-central1/hyperparameterTuningJobs/4656744417250508800 current state:\n",
      "JobState.JOB_STATE_RUNNING\n",
      "HyperparameterTuningJob projects/354621994428/locations/us-central1/hyperparameterTuningJobs/4656744417250508800 current state:\n",
      "JobState.JOB_STATE_RUNNING\n",
      "HyperparameterTuningJob projects/354621994428/locations/us-central1/hyperparameterTuningJobs/4656744417250508800 current state:\n",
      "JobState.JOB_STATE_RUNNING\n",
      "HyperparameterTuningJob projects/354621994428/locations/us-central1/hyperparameterTuningJobs/4656744417250508800 current state:\n",
      "JobState.JOB_STATE_RUNNING\n",
      "HyperparameterTuningJob projects/354621994428/locations/us-central1/hyperparameterTuningJobs/4656744417250508800 current state:\n",
      "JobState.JOB_STATE_RUNNING\n",
      "HyperparameterTuningJob projects/354621994428/locations/us-central1/hyperparameterTuningJobs/4656744417250508800 current state:\n",
      "JobState.JOB_STATE_RUNNING\n",
      "HyperparameterTuningJob projects/354621994428/locations/us-central1/hyperparameterTuningJobs/4656744417250508800 current state:\n",
      "JobState.JOB_STATE_RUNNING\n",
      "HyperparameterTuningJob projects/354621994428/locations/us-central1/hyperparameterTuningJobs/4656744417250508800 current state:\n",
      "JobState.JOB_STATE_RUNNING\n",
      "HyperparameterTuningJob projects/354621994428/locations/us-central1/hyperparameterTuningJobs/4656744417250508800 current state:\n",
      "JobState.JOB_STATE_RUNNING\n",
      "HyperparameterTuningJob projects/354621994428/locations/us-central1/hyperparameterTuningJobs/4656744417250508800 current state:\n",
      "JobState.JOB_STATE_RUNNING\n",
      "HyperparameterTuningJob projects/354621994428/locations/us-central1/hyperparameterTuningJobs/4656744417250508800 current state:\n",
      "JobState.JOB_STATE_RUNNING\n",
      "HyperparameterTuningJob projects/354621994428/locations/us-central1/hyperparameterTuningJobs/4656744417250508800 current state:\n",
      "JobState.JOB_STATE_RUNNING\n",
      "HyperparameterTuningJob projects/354621994428/locations/us-central1/hyperparameterTuningJobs/4656744417250508800 current state:\n",
      "JobState.JOB_STATE_RUNNING\n",
      "HyperparameterTuningJob projects/354621994428/locations/us-central1/hyperparameterTuningJobs/4656744417250508800 current state:\n",
      "JobState.JOB_STATE_RUNNING\n",
      "HyperparameterTuningJob projects/354621994428/locations/us-central1/hyperparameterTuningJobs/4656744417250508800 current state:\n",
      "JobState.JOB_STATE_RUNNING\n",
      "HyperparameterTuningJob projects/354621994428/locations/us-central1/hyperparameterTuningJobs/4656744417250508800 current state:\n",
      "JobState.JOB_STATE_RUNNING\n",
      "HyperparameterTuningJob projects/354621994428/locations/us-central1/hyperparameterTuningJobs/4656744417250508800 current state:\n",
      "JobState.JOB_STATE_RUNNING\n",
      "HyperparameterTuningJob projects/354621994428/locations/us-central1/hyperparameterTuningJobs/4656744417250508800 current state:\n",
      "JobState.JOB_STATE_RUNNING\n",
      "HyperparameterTuningJob projects/354621994428/locations/us-central1/hyperparameterTuningJobs/4656744417250508800 current state:\n",
      "JobState.JOB_STATE_RUNNING\n",
      "HyperparameterTuningJob projects/354621994428/locations/us-central1/hyperparameterTuningJobs/4656744417250508800 current state:\n",
      "JobState.JOB_STATE_RUNNING\n",
      "HyperparameterTuningJob projects/354621994428/locations/us-central1/hyperparameterTuningJobs/4656744417250508800 current state:\n",
      "JobState.JOB_STATE_RUNNING\n",
      "HyperparameterTuningJob projects/354621994428/locations/us-central1/hyperparameterTuningJobs/4656744417250508800 current state:\n",
      "JobState.JOB_STATE_RUNNING\n",
      "HyperparameterTuningJob projects/354621994428/locations/us-central1/hyperparameterTuningJobs/4656744417250508800 current state:\n",
      "JobState.JOB_STATE_RUNNING\n",
      "HyperparameterTuningJob projects/354621994428/locations/us-central1/hyperparameterTuningJobs/4656744417250508800 current state:\n",
      "JobState.JOB_STATE_RUNNING\n",
      "HyperparameterTuningJob projects/354621994428/locations/us-central1/hyperparameterTuningJobs/4656744417250508800 current state:\n",
      "JobState.JOB_STATE_RUNNING\n",
      "HyperparameterTuningJob projects/354621994428/locations/us-central1/hyperparameterTuningJobs/4656744417250508800 current state:\n",
      "JobState.JOB_STATE_RUNNING\n",
      "HyperparameterTuningJob projects/354621994428/locations/us-central1/hyperparameterTuningJobs/4656744417250508800 current state:\n",
      "JobState.JOB_STATE_RUNNING\n",
      "HyperparameterTuningJob projects/354621994428/locations/us-central1/hyperparameterTuningJobs/4656744417250508800 current state:\n",
      "JobState.JOB_STATE_RUNNING\n",
      "HyperparameterTuningJob projects/354621994428/locations/us-central1/hyperparameterTuningJobs/4656744417250508800 current state:\n",
      "JobState.JOB_STATE_RUNNING\n",
      "HyperparameterTuningJob projects/354621994428/locations/us-central1/hyperparameterTuningJobs/4656744417250508800 current state:\n",
      "JobState.JOB_STATE_RUNNING\n",
      "HyperparameterTuningJob projects/354621994428/locations/us-central1/hyperparameterTuningJobs/4656744417250508800 current state:\n",
      "JobState.JOB_STATE_RUNNING\n",
      "HyperparameterTuningJob projects/354621994428/locations/us-central1/hyperparameterTuningJobs/4656744417250508800 current state:\n",
      "JobState.JOB_STATE_RUNNING\n",
      "HyperparameterTuningJob projects/354621994428/locations/us-central1/hyperparameterTuningJobs/4656744417250508800 current state:\n",
      "JobState.JOB_STATE_RUNNING\n",
      "HyperparameterTuningJob projects/354621994428/locations/us-central1/hyperparameterTuningJobs/4656744417250508800 current state:\n",
      "JobState.JOB_STATE_RUNNING\n",
      "HyperparameterTuningJob projects/354621994428/locations/us-central1/hyperparameterTuningJobs/4656744417250508800 current state:\n",
      "JobState.JOB_STATE_RUNNING\n",
      "HyperparameterTuningJob projects/354621994428/locations/us-central1/hyperparameterTuningJobs/4656744417250508800 current state:\n",
      "JobState.JOB_STATE_RUNNING\n",
      "HyperparameterTuningJob projects/354621994428/locations/us-central1/hyperparameterTuningJobs/4656744417250508800 current state:\n",
      "JobState.JOB_STATE_RUNNING\n",
      "HyperparameterTuningJob projects/354621994428/locations/us-central1/hyperparameterTuningJobs/4656744417250508800 current state:\n",
      "JobState.JOB_STATE_RUNNING\n",
      "HyperparameterTuningJob projects/354621994428/locations/us-central1/hyperparameterTuningJobs/4656744417250508800 current state:\n",
      "JobState.JOB_STATE_RUNNING\n",
      "HyperparameterTuningJob projects/354621994428/locations/us-central1/hyperparameterTuningJobs/4656744417250508800 current state:\n",
      "JobState.JOB_STATE_RUNNING\n",
      "HyperparameterTuningJob projects/354621994428/locations/us-central1/hyperparameterTuningJobs/4656744417250508800 current state:\n",
      "JobState.JOB_STATE_RUNNING\n",
      "HyperparameterTuningJob projects/354621994428/locations/us-central1/hyperparameterTuningJobs/4656744417250508800 current state:\n",
      "JobState.JOB_STATE_RUNNING\n",
      "HyperparameterTuningJob projects/354621994428/locations/us-central1/hyperparameterTuningJobs/4656744417250508800 current state:\n",
      "JobState.JOB_STATE_RUNNING\n",
      "HyperparameterTuningJob projects/354621994428/locations/us-central1/hyperparameterTuningJobs/4656744417250508800 current state:\n",
      "JobState.JOB_STATE_RUNNING\n",
      "HyperparameterTuningJob projects/354621994428/locations/us-central1/hyperparameterTuningJobs/4656744417250508800 current state:\n",
      "JobState.JOB_STATE_RUNNING\n",
      "HyperparameterTuningJob projects/354621994428/locations/us-central1/hyperparameterTuningJobs/4656744417250508800 current state:\n",
      "JobState.JOB_STATE_RUNNING\n",
      "HyperparameterTuningJob projects/354621994428/locations/us-central1/hyperparameterTuningJobs/4656744417250508800 current state:\n",
      "JobState.JOB_STATE_RUNNING\n",
      "HyperparameterTuningJob projects/354621994428/locations/us-central1/hyperparameterTuningJobs/4656744417250508800 current state:\n",
      "JobState.JOB_STATE_RUNNING\n",
      "HyperparameterTuningJob projects/354621994428/locations/us-central1/hyperparameterTuningJobs/4656744417250508800 current state:\n",
      "JobState.JOB_STATE_RUNNING\n",
      "HyperparameterTuningJob projects/354621994428/locations/us-central1/hyperparameterTuningJobs/4656744417250508800 current state:\n",
      "JobState.JOB_STATE_RUNNING\n",
      "HyperparameterTuningJob projects/354621994428/locations/us-central1/hyperparameterTuningJobs/4656744417250508800 current state:\n",
      "JobState.JOB_STATE_RUNNING\n",
      "HyperparameterTuningJob projects/354621994428/locations/us-central1/hyperparameterTuningJobs/4656744417250508800 current state:\n",
      "JobState.JOB_STATE_RUNNING\n",
      "HyperparameterTuningJob projects/354621994428/locations/us-central1/hyperparameterTuningJobs/4656744417250508800 current state:\n",
      "JobState.JOB_STATE_RUNNING\n",
      "HyperparameterTuningJob projects/354621994428/locations/us-central1/hyperparameterTuningJobs/4656744417250508800 current state:\n",
      "JobState.JOB_STATE_RUNNING\n",
      "HyperparameterTuningJob projects/354621994428/locations/us-central1/hyperparameterTuningJobs/4656744417250508800 current state:\n",
      "JobState.JOB_STATE_RUNNING\n",
      "HyperparameterTuningJob projects/354621994428/locations/us-central1/hyperparameterTuningJobs/4656744417250508800 current state:\n",
      "JobState.JOB_STATE_RUNNING\n",
      "HyperparameterTuningJob projects/354621994428/locations/us-central1/hyperparameterTuningJobs/4656744417250508800 current state:\n",
      "JobState.JOB_STATE_RUNNING\n",
      "HyperparameterTuningJob projects/354621994428/locations/us-central1/hyperparameterTuningJobs/4656744417250508800 current state:\n",
      "JobState.JOB_STATE_RUNNING\n",
      "HyperparameterTuningJob projects/354621994428/locations/us-central1/hyperparameterTuningJobs/4656744417250508800 current state:\n",
      "JobState.JOB_STATE_RUNNING\n",
      "HyperparameterTuningJob projects/354621994428/locations/us-central1/hyperparameterTuningJobs/4656744417250508800 current state:\n",
      "JobState.JOB_STATE_RUNNING\n",
      "HyperparameterTuningJob projects/354621994428/locations/us-central1/hyperparameterTuningJobs/4656744417250508800 current state:\n",
      "JobState.JOB_STATE_RUNNING\n",
      "HyperparameterTuningJob projects/354621994428/locations/us-central1/hyperparameterTuningJobs/4656744417250508800 current state:\n",
      "JobState.JOB_STATE_RUNNING\n",
      "HyperparameterTuningJob projects/354621994428/locations/us-central1/hyperparameterTuningJobs/4656744417250508800 current state:\n",
      "JobState.JOB_STATE_RUNNING\n",
      "HyperparameterTuningJob projects/354621994428/locations/us-central1/hyperparameterTuningJobs/4656744417250508800 current state:\n",
      "JobState.JOB_STATE_RUNNING\n",
      "HyperparameterTuningJob projects/354621994428/locations/us-central1/hyperparameterTuningJobs/4656744417250508800 current state:\n",
      "JobState.JOB_STATE_RUNNING\n",
      "HyperparameterTuningJob projects/354621994428/locations/us-central1/hyperparameterTuningJobs/4656744417250508800 current state:\n",
      "JobState.JOB_STATE_RUNNING\n",
      "HyperparameterTuningJob projects/354621994428/locations/us-central1/hyperparameterTuningJobs/4656744417250508800 current state:\n",
      "JobState.JOB_STATE_RUNNING\n",
      "HyperparameterTuningJob projects/354621994428/locations/us-central1/hyperparameterTuningJobs/4656744417250508800 current state:\n",
      "JobState.JOB_STATE_RUNNING\n",
      "HyperparameterTuningJob projects/354621994428/locations/us-central1/hyperparameterTuningJobs/4656744417250508800 current state:\n",
      "JobState.JOB_STATE_RUNNING\n",
      "HyperparameterTuningJob projects/354621994428/locations/us-central1/hyperparameterTuningJobs/4656744417250508800 current state:\n",
      "JobState.JOB_STATE_RUNNING\n",
      "HyperparameterTuningJob projects/354621994428/locations/us-central1/hyperparameterTuningJobs/4656744417250508800 current state:\n",
      "JobState.JOB_STATE_RUNNING\n",
      "HyperparameterTuningJob projects/354621994428/locations/us-central1/hyperparameterTuningJobs/4656744417250508800 current state:\n",
      "JobState.JOB_STATE_RUNNING\n",
      "HyperparameterTuningJob projects/354621994428/locations/us-central1/hyperparameterTuningJobs/4656744417250508800 current state:\n",
      "JobState.JOB_STATE_RUNNING\n",
      "HyperparameterTuningJob projects/354621994428/locations/us-central1/hyperparameterTuningJobs/4656744417250508800 current state:\n",
      "JobState.JOB_STATE_RUNNING\n",
      "HyperparameterTuningJob projects/354621994428/locations/us-central1/hyperparameterTuningJobs/4656744417250508800 current state:\n",
      "JobState.JOB_STATE_RUNNING\n",
      "HyperparameterTuningJob projects/354621994428/locations/us-central1/hyperparameterTuningJobs/4656744417250508800 current state:\n",
      "JobState.JOB_STATE_RUNNING\n",
      "HyperparameterTuningJob projects/354621994428/locations/us-central1/hyperparameterTuningJobs/4656744417250508800 current state:\n",
      "JobState.JOB_STATE_RUNNING\n",
      "HyperparameterTuningJob projects/354621994428/locations/us-central1/hyperparameterTuningJobs/4656744417250508800 current state:\n",
      "JobState.JOB_STATE_RUNNING\n",
      "HyperparameterTuningJob projects/354621994428/locations/us-central1/hyperparameterTuningJobs/4656744417250508800 current state:\n",
      "JobState.JOB_STATE_RUNNING\n",
      "HyperparameterTuningJob projects/354621994428/locations/us-central1/hyperparameterTuningJobs/4656744417250508800 current state:\n",
      "JobState.JOB_STATE_RUNNING\n",
      "HyperparameterTuningJob projects/354621994428/locations/us-central1/hyperparameterTuningJobs/4656744417250508800 current state:\n",
      "JobState.JOB_STATE_RUNNING\n",
      "HyperparameterTuningJob projects/354621994428/locations/us-central1/hyperparameterTuningJobs/4656744417250508800 current state:\n",
      "JobState.JOB_STATE_RUNNING\n",
      "HyperparameterTuningJob projects/354621994428/locations/us-central1/hyperparameterTuningJobs/4656744417250508800 current state:\n",
      "JobState.JOB_STATE_RUNNING\n",
      "HyperparameterTuningJob projects/354621994428/locations/us-central1/hyperparameterTuningJobs/4656744417250508800 current state:\n",
      "JobState.JOB_STATE_RUNNING\n",
      "HyperparameterTuningJob projects/354621994428/locations/us-central1/hyperparameterTuningJobs/4656744417250508800 current state:\n",
      "JobState.JOB_STATE_RUNNING\n",
      "HyperparameterTuningJob projects/354621994428/locations/us-central1/hyperparameterTuningJobs/4656744417250508800 current state:\n",
      "JobState.JOB_STATE_SUCCEEDED\n",
      "HyperparameterTuningJob run completed. Resource name: projects/354621994428/locations/us-central1/hyperparameterTuningJobs/4656744417250508800\n"
     ]
    }
   ],
   "source": [
    "hpt_job.run()"
   ]
  },
  {
   "cell_type": "markdown",
   "metadata": {
    "id": "hpt_trial_results:mbsdk"
   },
   "source": [
    "### Display the hyperparameter tuning job trial results\n",
    "\n",
    "After the hyperparameter tuning job has completed, the property `trials` will return the results for each trial."
   ]
  },
  {
   "cell_type": "code",
   "execution_count": 27,
   "metadata": {
    "id": "hpt_trial_results:mbsdk"
   },
   "outputs": [
    {
     "name": "stdout",
     "output_type": "stream",
     "text": [
      "[id: \"1\"\n",
      "state: SUCCEEDED\n",
      "parameters {\n",
      "  parameter_id: \"boost-rounds\"\n",
      "  value {\n",
      "    number_value: 55.0\n",
      "  }\n",
      "}\n",
      "final_measurement {\n",
      "  step_count: 1\n",
      "  metrics {\n",
      "    metric_id: \"accuracy\"\n",
      "    value: 0.8666666666666667\n",
      "  }\n",
      "}\n",
      "start_time {\n",
      "  seconds: 1680679064\n",
      "  nanos: 80007852\n",
      "}\n",
      "end_time {\n",
      "  seconds: 1680679197\n",
      "}\n",
      ", id: \"2\"\n",
      "state: SUCCEEDED\n",
      "parameters {\n",
      "  parameter_id: \"boost-rounds\"\n",
      "  value {\n",
      "    number_value: 35.0\n",
      "  }\n",
      "}\n",
      "final_measurement {\n",
      "  step_count: 1\n",
      "  metrics {\n",
      "    metric_id: \"accuracy\"\n",
      "    value: 0.8666666666666667\n",
      "  }\n",
      "}\n",
      "start_time {\n",
      "  seconds: 1680679064\n",
      "  nanos: 80111896\n",
      "}\n",
      "end_time {\n",
      "  seconds: 1680679210\n",
      "}\n",
      ", id: \"3\"\n",
      "state: SUCCEEDED\n",
      "parameters {\n",
      "  parameter_id: \"boost-rounds\"\n",
      "  value {\n",
      "    number_value: 79.0\n",
      "  }\n",
      "}\n",
      "final_measurement {\n",
      "  step_count: 1\n",
      "  metrics {\n",
      "    metric_id: \"accuracy\"\n",
      "    value: 0.8666666666666667\n",
      "  }\n",
      "}\n",
      "start_time {\n",
      "  seconds: 1680679586\n",
      "  nanos: 127397975\n",
      "}\n",
      "end_time {\n",
      "  seconds: 1680679712\n",
      "}\n",
      ", id: \"4\"\n",
      "state: SUCCEEDED\n",
      "parameters {\n",
      "  parameter_id: \"boost-rounds\"\n",
      "  value {\n",
      "    number_value: 10.0\n",
      "  }\n",
      "}\n",
      "final_measurement {\n",
      "  step_count: 1\n",
      "  metrics {\n",
      "    metric_id: \"accuracy\"\n",
      "    value: 0.8666666666666667\n",
      "  }\n",
      "}\n",
      "start_time {\n",
      "  seconds: 1680679586\n",
      "  nanos: 127492043\n",
      "}\n",
      "end_time {\n",
      "  seconds: 1680679722\n",
      "}\n",
      ", id: \"5\"\n",
      "state: SUCCEEDED\n",
      "parameters {\n",
      "  parameter_id: \"boost-rounds\"\n",
      "  value {\n",
      "    number_value: 100.0\n",
      "  }\n",
      "}\n",
      "final_measurement {\n",
      "  step_count: 1\n",
      "  metrics {\n",
      "    metric_id: \"accuracy\"\n",
      "    value: 0.8666666666666667\n",
      "  }\n",
      "}\n",
      "start_time {\n",
      "  seconds: 1680680098\n",
      "  nanos: 622598295\n",
      "}\n",
      "end_time {\n",
      "  seconds: 1680680228\n",
      "}\n",
      ", id: \"6\"\n",
      "state: SUCCEEDED\n",
      "parameters {\n",
      "  parameter_id: \"boost-rounds\"\n",
      "  value {\n",
      "    number_value: 29.0\n",
      "  }\n",
      "}\n",
      "final_measurement {\n",
      "  step_count: 1\n",
      "  metrics {\n",
      "    metric_id: \"accuracy\"\n",
      "    value: 0.8666666666666667\n",
      "  }\n",
      "}\n",
      "start_time {\n",
      "  seconds: 1680680098\n",
      "  nanos: 622741552\n",
      "}\n",
      "end_time {\n",
      "  seconds: 1680680236\n",
      "}\n",
      "]\n"
     ]
    }
   ],
   "source": [
    "print(hpt_job.trials)"
   ]
  },
  {
   "cell_type": "markdown",
   "metadata": {
    "id": "best_trial:mbsdk"
   },
   "source": [
    "### Best trial\n",
    "\n",
    "Now look at which trial was the best:"
   ]
  },
  {
   "cell_type": "code",
   "execution_count": 28,
   "metadata": {
    "id": "best_trial:mbsdk"
   },
   "outputs": [
    {
     "name": "stdout",
     "output_type": "stream",
     "text": [
      "('1', 55.0, None, 0.8666666666666667)\n"
     ]
    }
   ],
   "source": [
    "best = (None, None, None, 0.0)\n",
    "for trial in hpt_job.trials:\n",
    "    # Keep track of the best outcome\n",
    "    if float(trial.final_measurement.metrics[0].value) > best[3]:\n",
    "        try:\n",
    "            best = (\n",
    "                trial.id,\n",
    "                float(trial.parameters[0].value),\n",
    "                float(trial.parameters[1].value),\n",
    "                float(trial.final_measurement.metrics[0].value),\n",
    "            )\n",
    "        except:\n",
    "            best = (\n",
    "                trial.id,\n",
    "                float(trial.parameters[0].value),\n",
    "                None,\n",
    "                float(trial.final_measurement.metrics[0].value),\n",
    "            )\n",
    "\n",
    "print(best)"
   ]
  },
  {
   "cell_type": "markdown",
   "metadata": {
    "id": "get_best_model"
   },
   "source": [
    "### Get the Best Model\n",
    "\n",
    "If you used the method of having the service tell the tuning script where to save the model artifacts (`DIRECT = False`), then the model artifacts for the best model are saved at:\n",
    "\n",
    "    MODEL_DIR/<best_trial_id>/model"
   ]
  },
  {
   "cell_type": "code",
   "execution_count": 29,
   "metadata": {
    "id": "get_best_model"
   },
   "outputs": [
    {
     "name": "stdout",
     "output_type": "stream",
     "text": [
      "gs://lending-club-xgb-model01/aiplatform-custom-job-20230405071155/1/model/\n",
      "gs://lending-club-xgb-model01/aiplatform-custom-job-20230405071155/1/model/metrics.json\n",
      "gs://lending-club-xgb-model01/aiplatform-custom-job-20230405071155/1/model/model.bst\n"
     ]
    }
   ],
   "source": [
    "BEST_MODEL_DIR = MODEL_DIR + \"/\" + best[0] + \"/model\"\n",
    "\n",
    "! gsutil ls {BEST_MODEL_DIR}"
   ]
  },
  {
   "cell_type": "markdown",
   "metadata": {},
   "source": [
    "# Deploy the model to Vertex AI Prediction"
   ]
  },
  {
   "cell_type": "code",
   "execution_count": 66,
   "metadata": {},
   "outputs": [],
   "source": [
    "MODEL_NAME = 'xgb_classifier_2'\n",
    "SERVING_CONTAINER_IMAGE_URI = DEPLOY_IMAGE\n",
    "SERVING_MACHINE_TYPE = \"n1-standard-2\"\n"
   ]
  },
  {
   "cell_type": "code",
   "execution_count": 54,
   "metadata": {},
   "outputs": [],
   "source": [
    "from google.cloud import aiplatform"
   ]
  },
  {
   "cell_type": "markdown",
   "metadata": {},
   "source": [
    "### Uploading the trained model"
   ]
  },
  {
   "cell_type": "code",
   "execution_count": 67,
   "metadata": {},
   "outputs": [
    {
     "name": "stdout",
     "output_type": "stream",
     "text": [
      "Creating Model\n",
      "Create Model backing LRO: projects/354621994428/locations/us-central1/models/3676355665934155776/operations/1789059143861010432\n",
      "Model created. Resource name: projects/354621994428/locations/us-central1/models/3676355665934155776@1\n",
      "To use this Model in another session:\n",
      "model = aiplatform.Model('projects/354621994428/locations/us-central1/models/3676355665934155776@1')\n"
     ]
    }
   ],
   "source": [
    "uploaded_model = aiplatform.Model.upload(\n",
    "    display_name=MODEL_NAME,\n",
    "    artifact_uri=BEST_MODEL_DIR,\n",
    "    serving_container_image_uri=SERVING_CONTAINER_IMAGE_URI,\n",
    ")"
   ]
  },
  {
   "cell_type": "code",
   "execution_count": 95,
   "metadata": {},
   "outputs": [
    {
     "data": {
      "text/html": [
       "<div>\n",
       "<style scoped>\n",
       "    .dataframe tbody tr th:only-of-type {\n",
       "        vertical-align: middle;\n",
       "    }\n",
       "\n",
       "    .dataframe tbody tr th {\n",
       "        vertical-align: top;\n",
       "    }\n",
       "\n",
       "    .dataframe thead th {\n",
       "        text-align: right;\n",
       "    }\n",
       "</style>\n",
       "<table border=\"1\" class=\"dataframe\">\n",
       "  <thead>\n",
       "    <tr style=\"text-align: right;\">\n",
       "      <th></th>\n",
       "      <th>0</th>\n",
       "    </tr>\n",
       "  </thead>\n",
       "  <tbody>\n",
       "    <tr>\n",
       "      <th>0</th>\n",
       "      <td>0</td>\n",
       "    </tr>\n",
       "    <tr>\n",
       "      <th>1</th>\n",
       "      <td>0</td>\n",
       "    </tr>\n",
       "    <tr>\n",
       "      <th>66</th>\n",
       "      <td>1</td>\n",
       "    </tr>\n",
       "    <tr>\n",
       "      <th>88</th>\n",
       "      <td>1</td>\n",
       "    </tr>\n",
       "    <tr>\n",
       "      <th>145</th>\n",
       "      <td>2</td>\n",
       "    </tr>\n",
       "    <tr>\n",
       "      <th>148</th>\n",
       "      <td>2</td>\n",
       "    </tr>\n",
       "  </tbody>\n",
       "</table>\n",
       "</div>"
      ],
      "text/plain": [
       "     0\n",
       "0    0\n",
       "1    0\n",
       "66   1\n",
       "88   1\n",
       "145  2\n",
       "148  2"
      ]
     },
     "execution_count": 95,
     "metadata": {},
     "output_type": "execute_result"
    }
   ],
   "source": [
    "\n",
    "import pandas as pd\n",
    "TARGET_DIR = \"gs://cloud-samples-data/ai-platform/iris/iris_target.csv\"\n",
    "\n",
    "\n",
    "df_target = pd.read_csv(TARGET_DIR).iloc[[0,1,66,88,145,148],:]\n",
    "df_target"
   ]
  },
  {
   "cell_type": "code",
   "execution_count": 96,
   "metadata": {},
   "outputs": [
    {
     "data": {
      "text/html": [
       "<div>\n",
       "<style scoped>\n",
       "    .dataframe tbody tr th:only-of-type {\n",
       "        vertical-align: middle;\n",
       "    }\n",
       "\n",
       "    .dataframe tbody tr th {\n",
       "        vertical-align: top;\n",
       "    }\n",
       "\n",
       "    .dataframe thead th {\n",
       "        text-align: right;\n",
       "    }\n",
       "</style>\n",
       "<table border=\"1\" class=\"dataframe\">\n",
       "  <thead>\n",
       "    <tr style=\"text-align: right;\">\n",
       "      <th></th>\n",
       "      <th>0</th>\n",
       "      <th>1</th>\n",
       "      <th>2</th>\n",
       "      <th>3</th>\n",
       "    </tr>\n",
       "  </thead>\n",
       "  <tbody>\n",
       "    <tr>\n",
       "      <th>0</th>\n",
       "      <td>5.1</td>\n",
       "      <td>3.5</td>\n",
       "      <td>1.4</td>\n",
       "      <td>0.2</td>\n",
       "    </tr>\n",
       "    <tr>\n",
       "      <th>1</th>\n",
       "      <td>4.9</td>\n",
       "      <td>3.0</td>\n",
       "      <td>1.4</td>\n",
       "      <td>0.2</td>\n",
       "    </tr>\n",
       "    <tr>\n",
       "      <th>66</th>\n",
       "      <td>5.6</td>\n",
       "      <td>3.0</td>\n",
       "      <td>4.5</td>\n",
       "      <td>1.5</td>\n",
       "    </tr>\n",
       "    <tr>\n",
       "      <th>88</th>\n",
       "      <td>5.6</td>\n",
       "      <td>3.0</td>\n",
       "      <td>4.1</td>\n",
       "      <td>1.3</td>\n",
       "    </tr>\n",
       "    <tr>\n",
       "      <th>145</th>\n",
       "      <td>6.7</td>\n",
       "      <td>3.0</td>\n",
       "      <td>5.2</td>\n",
       "      <td>2.3</td>\n",
       "    </tr>\n",
       "  </tbody>\n",
       "</table>\n",
       "</div>"
      ],
      "text/plain": [
       "       0    1    2    3\n",
       "0    5.1  3.5  1.4  0.2\n",
       "1    4.9  3.0  1.4  0.2\n",
       "66   5.6  3.0  4.5  1.5\n",
       "88   5.6  3.0  4.1  1.3\n",
       "145  6.7  3.0  5.2  2.3"
      ]
     },
     "execution_count": 96,
     "metadata": {},
     "output_type": "execute_result"
    }
   ],
   "source": [
    "import pandas as pd\n",
    "DATASET_DIR = \"gs://cloud-samples-data/ai-platform/iris/iris_data.csv\"\n",
    "\n",
    "\n",
    "df_inference = pd.read_csv(DATASET_DIR).iloc[:10,:]\n",
    "df_inference = pd.read_csv(DATASET_DIR).iloc[[0,1,66,88,145,148],:]\n",
    "df_inference.head()"
   ]
  },
  {
   "cell_type": "code",
   "execution_count": 124,
   "metadata": {},
   "outputs": [
    {
     "data": {
      "text/plain": [
       "[0, 1, 66, 88, 145, 148]"
      ]
     },
     "execution_count": 124,
     "metadata": {},
     "output_type": "execute_result"
    }
   ],
   "source": [
    "df_inference.index.tolist()"
   ]
  },
  {
   "cell_type": "code",
   "execution_count": 98,
   "metadata": {},
   "outputs": [],
   "source": [
    "import xgboost as xgb\n",
    "dtest = xgb.DMatrix(df_inference)"
   ]
  },
  {
   "cell_type": "code",
   "execution_count": 113,
   "metadata": {},
   "outputs": [],
   "source": [
    "df_inference.to_csv(\"gs://lending-club-xgb-model01/aiplatform-custom-job-20230405071155/inference_data.csv\",index=False)"
   ]
  },
  {
   "cell_type": "code",
   "execution_count": 114,
   "metadata": {},
   "outputs": [],
   "source": [
    "# parameters\n",
    "LOCATION = \"us-central1\"\n",
    "PROJECT = \"ds-training-380514\"\n",
    "BATCH_JOB_NAME = \"lending_batch\"\n",
    "MODEL_ID = \"projects/354621994428/locations/us-central1/models/3676355665934155776@1\"\n",
    "URI = \"gs://lending-club-xgb-model01/aiplatform-custom-job-20230405071155/inference_data.csv\"\n",
    "OUTPUT_URI_PREFIX = \"gs://lending-club-xgb-model01/aiplatform-custom-job-20230405071155/batch_predict_output\"\n",
    "MACHINE_TYPE = SERVING_MACHINE_TYPE\n",
    "STARTING_REPLICA_COUNT = 1\n",
    "MAX_REPLICA_COUNT = 10  # default\n",
    "GENERATE_EXPLANATION = \"false\"  # default value"
   ]
  },
  {
   "cell_type": "code",
   "execution_count": 115,
   "metadata": {},
   "outputs": [],
   "source": [
    "request_body = {\n",
    "    \"displayName\": BATCH_JOB_NAME,\n",
    "    \"model\": MODEL_ID,\n",
    "    \"inputConfig\": {\n",
    "        \"instancesFormat\": \"csv\",\n",
    "        \"gcsSource\": {\n",
    "            \"uris\": [\n",
    "                URI\n",
    "            ]\n",
    "        },\n",
    "    },\n",
    "    \"outputConfig\": {\n",
    "        \"predictionsFormat\": \"jsonl\",\n",
    "        \"gcsDestination\": {\n",
    "            \"outputUriPrefix\": OUTPUT_URI_PREFIX\n",
    "        }\n",
    "    },\n",
    "    \"dedicatedResources\": {\n",
    "        \"machineSpec\": {\n",
    "            \"machineType\": MACHINE_TYPE,\n",
    "            \"acceleratorCount\": \"0\"\n",
    "        },\n",
    "        \"startingReplicaCount\": STARTING_REPLICA_COUNT,\n",
    "        \"maxReplicaCount\": MAX_REPLICA_COUNT\n",
    "    },\n",
    "    \"generateExplanation\": GENERATE_EXPLANATION\n",
    "}"
   ]
  },
  {
   "cell_type": "code",
   "execution_count": 116,
   "metadata": {},
   "outputs": [
    {
     "data": {
      "text/plain": [
       "{'displayName': 'lending_batch',\n",
       " 'model': 'projects/354621994428/locations/us-central1/models/3676355665934155776@1',\n",
       " 'inputConfig': {'instancesFormat': 'csv',\n",
       "  'gcsSource': {'uris': ['gs://lending-club-xgb-model01/aiplatform-custom-job-20230405071155/inference_data.csv']}},\n",
       " 'outputConfig': {'predictionsFormat': 'jsonl',\n",
       "  'gcsDestination': {'outputUriPrefix': 'gs://lending-club-xgb-model01/aiplatform-custom-job-20230405071155/batch_predict_output'}},\n",
       " 'dedicatedResources': {'machineSpec': {'machineType': 'n1-standard-2',\n",
       "   'acceleratorCount': '0'},\n",
       "  'startingReplicaCount': 1,\n",
       "  'maxReplicaCount': 10},\n",
       " 'generateExplanation': 'false'}"
      ]
     },
     "execution_count": 116,
     "metadata": {},
     "output_type": "execute_result"
    }
   ],
   "source": [
    "request_body"
   ]
  },
  {
   "cell_type": "code",
   "execution_count": 117,
   "metadata": {},
   "outputs": [],
   "source": [
    "import json\n",
    "with open(\"requestay.json\", \"w\") as outfile:\n",
    "    outfile.write(json.dumps(request_body))"
   ]
  },
  {
   "cell_type": "code",
   "execution_count": 118,
   "metadata": {},
   "outputs": [],
   "source": [
    "region='us-central1'\n",
    "project = 'ds-training-380514'"
   ]
  },
  {
   "cell_type": "code",
   "execution_count": 119,
   "metadata": {},
   "outputs": [],
   "source": [
    "api_endpoint = f\"https://{region}-aiplatform.googleapis.com/v1/projects/{project}/locations/{region}/batchPredictionJobs\""
   ]
  },
  {
   "cell_type": "code",
   "execution_count": 120,
   "metadata": {},
   "outputs": [
    {
     "name": "stdout",
     "output_type": "stream",
     "text": [
      "{\n",
      "  \"name\": \"projects/354621994428/locations/us-central1/batchPredictionJobs/9093775212628934656\",\n",
      "  \"displayName\": \"lending_batch\",\n",
      "  \"model\": \"projects/354621994428/locations/us-central1/models/3676355665934155776\",\n",
      "  \"inputConfig\": {\n",
      "    \"instancesFormat\": \"csv\",\n",
      "    \"gcsSource\": {\n",
      "      \"uris\": [\n",
      "        \"gs://lending-club-xgb-model01/aiplatform-custom-job-20230405071155/inference_data.csv\"\n",
      "      ]\n",
      "    }\n",
      "  },\n",
      "  \"outputConfig\": {\n",
      "    \"predictionsFormat\": \"jsonl\",\n",
      "    \"gcsDestination\": {\n",
      "      \"outputUriPrefix\": \"gs://lending-club-xgb-model01/aiplatform-custom-job-20230405071155/batch_predict_output\"\n",
      "    }\n",
      "  },\n",
      "  \"dedicatedResources\": {\n",
      "    \"machineSpec\": {\n",
      "      \"machineType\": \"n1-standard-2\"\n",
      "    },\n",
      "    \"startingReplicaCount\": 1,\n",
      "    \"maxReplicaCount\": 10\n",
      "  },\n",
      "  \"manualBatchTuningParameters\": {},\n",
      "  \"state\": \"JOB_STATE_PENDING\",\n",
      "  \"createTime\": \"2023-04-05T15:37:05.055976Z\",\n",
      "  \"updateTime\": \"2023-04-05T15:37:05.055976Z\",\n",
      "  \"modelVersionId\": \"1\"\n",
      "}\n"
     ]
    }
   ],
   "source": [
    "!curl -X POST \\\n",
    "    -H \"Authorization: Bearer $(gcloud auth print-access-token)\" \\\n",
    "    -H \"Content-Type: application/json; charset=utf-8\" \\\n",
    "    -d @requestay.json \\\n",
    "    {api_endpoint}"
   ]
  },
  {
   "cell_type": "code",
   "execution_count": 121,
   "metadata": {},
   "outputs": [
    {
     "data": {
      "text/html": [
       "<div>\n",
       "<style scoped>\n",
       "    .dataframe tbody tr th:only-of-type {\n",
       "        vertical-align: middle;\n",
       "    }\n",
       "\n",
       "    .dataframe tbody tr th {\n",
       "        vertical-align: top;\n",
       "    }\n",
       "\n",
       "    .dataframe thead th {\n",
       "        text-align: right;\n",
       "    }\n",
       "</style>\n",
       "<table border=\"1\" class=\"dataframe\">\n",
       "  <thead>\n",
       "    <tr style=\"text-align: right;\">\n",
       "      <th></th>\n",
       "      <th>instance</th>\n",
       "      <th>prediction</th>\n",
       "    </tr>\n",
       "  </thead>\n",
       "  <tbody>\n",
       "    <tr>\n",
       "      <th>0</th>\n",
       "      <td>[5.1, 3.5, 1.4, 0.2]</td>\n",
       "      <td>0.000102</td>\n",
       "    </tr>\n",
       "    <tr>\n",
       "      <th>1</th>\n",
       "      <td>[4.9, 3.1, 1.5, 0.1]</td>\n",
       "      <td>0.000102</td>\n",
       "    </tr>\n",
       "    <tr>\n",
       "      <th>2</th>\n",
       "      <td>[5.0, 3.6, 1.4, 0.2]</td>\n",
       "      <td>0.000102</td>\n",
       "    </tr>\n",
       "    <tr>\n",
       "      <th>3</th>\n",
       "      <td>[4.6, 3.4, 1.4, 0.30000000000000004]</td>\n",
       "      <td>0.000102</td>\n",
       "    </tr>\n",
       "    <tr>\n",
       "      <th>4</th>\n",
       "      <td>[5.0, 3.4, 1.5, 0.2]</td>\n",
       "      <td>0.000102</td>\n",
       "    </tr>\n",
       "    <tr>\n",
       "      <th>5</th>\n",
       "      <td>[4.7, 3.2, 1.3, 0.2]</td>\n",
       "      <td>0.000102</td>\n",
       "    </tr>\n",
       "    <tr>\n",
       "      <th>6</th>\n",
       "      <td>[5.4, 3.9, 1.7000000000000002, 0.4]</td>\n",
       "      <td>0.000102</td>\n",
       "    </tr>\n",
       "  </tbody>\n",
       "</table>\n",
       "</div>"
      ],
      "text/plain": [
       "                               instance  prediction\n",
       "0                  [5.1, 3.5, 1.4, 0.2]    0.000102\n",
       "1                  [4.9, 3.1, 1.5, 0.1]    0.000102\n",
       "2                  [5.0, 3.6, 1.4, 0.2]    0.000102\n",
       "3  [4.6, 3.4, 1.4, 0.30000000000000004]    0.000102\n",
       "4                  [5.0, 3.4, 1.5, 0.2]    0.000102\n",
       "5                  [4.7, 3.2, 1.3, 0.2]    0.000102\n",
       "6   [5.4, 3.9, 1.7000000000000002, 0.4]    0.000102"
      ]
     },
     "execution_count": 121,
     "metadata": {},
     "output_type": "execute_result"
    }
   ],
   "source": [
    "import pandas as pd \n",
    "file_path = \"gs://lending-club-xgb-model01/aiplatform-custom-job-20230405071155/batch_predict_output/prediction-xgb_classifier_2-2023_04_05T06_19_32_065Z/prediction.results-00000-of-00002\"\n",
    "jsonObj = pd.read_json(path_or_buf=file_path, lines=True)\n",
    "jsonObj"
   ]
  },
  {
   "cell_type": "code",
   "execution_count": null,
   "metadata": {},
   "outputs": [],
   "source": []
  },
  {
   "cell_type": "markdown",
   "metadata": {},
   "source": [
    "### Deploying the uploaded model"
   ]
  },
  {
   "cell_type": "code",
   "execution_count": 83,
   "metadata": {},
   "outputs": [
    {
     "name": "stdout",
     "output_type": "stream",
     "text": [
      "Creating Endpoint\n",
      "Create Endpoint backing LRO: projects/354621994428/locations/us-central1/endpoints/7409490112326664192/operations/97957483783389184\n",
      "Endpoint created. Resource name: projects/354621994428/locations/us-central1/endpoints/7409490112326664192\n",
      "To use this Endpoint in another session:\n",
      "endpoint = aiplatform.Endpoint('projects/354621994428/locations/us-central1/endpoints/7409490112326664192')\n",
      "Deploying model to Endpoint : projects/354621994428/locations/us-central1/endpoints/7409490112326664192\n",
      "Deploy Endpoint model backing LRO: projects/354621994428/locations/us-central1/endpoints/7409490112326664192/operations/4975355880225636352\n",
      "Endpoint model deployed. Resource name: projects/354621994428/locations/us-central1/endpoints/7409490112326664192\n"
     ]
    }
   ],
   "source": [
    "endpoint = uploaded_model.deploy(\n",
    "    machine_type=SERVING_MACHINE_TYPE,\n",
    "    accelerator_type=None,\n",
    "    accelerator_count=None,\n",
    ")"
   ]
  },
  {
   "cell_type": "markdown",
   "metadata": {},
   "source": [
    "### Serve predictions"
   ]
  },
  {
   "cell_type": "code",
   "execution_count": 134,
   "metadata": {},
   "outputs": [
    {
     "name": "stdout",
     "output_type": "stream",
     "text": [
      "[0.0001016855239868164]\n",
      "[0.0001016855239868164]\n",
      "[0.9999709725379944]\n",
      "[0.9999709725379944]\n",
      "[2.000031232833862]\n",
      "[1.999940752983093]\n"
     ]
    }
   ],
   "source": [
    "for i in range(df_inference.shape[0]):\n",
    "    instance = df_inference.iloc[i,:].values.tolist()\n",
    "    response= endpoint.predict([instance])\n",
    "    #print(endpoint.predict([instance]))\n",
    "    print(response.predictions)"
   ]
  },
  {
   "cell_type": "code",
   "execution_count": 135,
   "metadata": {},
   "outputs": [],
   "source": [
    "from typing import List, Dict\n",
    "\n",
    "def predict_tabular_classification(\n",
    "    project: str,\n",
    "    location: str,\n",
    "    endpoint_name: str,\n",
    "    instances: List[Dict],\n",
    "):\n",
    "    \"\"\"\n",
    "    Args\n",
    "        project: Your project ID or project number.\n",
    "        location: Region where Endpoint is located. For example, 'us-central1'.\n",
    "        endpoint_name: A fully qualified endpoint name or endpoint ID. Example: \"projects/123/locations/us-central1/endpoints/456\" or\n",
    "               \"456\" when project and location are initialized or passed.\n",
    "        instances: A list of one or more instances (examples) to return a prediction for.\n",
    "    \"\"\"\n",
    "    aiplatform.init(project=project, location=location)\n",
    "\n",
    "    endpoint = aiplatform.Endpoint(endpoint_name)\n",
    "\n",
    "    response = endpoint.predict(instances=instances)\n",
    "\n",
    "    for prediction_ in response.predictions:\n",
    "        print(prediction_)"
   ]
  },
  {
   "cell_type": "code",
   "execution_count": 138,
   "metadata": {
    "id": "delete_hpt_job"
   },
   "outputs": [
    {
     "name": "stdout",
     "output_type": "stream",
     "text": [
      "0.0001016855239868164\n",
      "0.0001016855239868164\n",
      "0.9999709725379944\n",
      "0.9999709725379944\n",
      "2.000031232833862\n",
      "1.999940752983093\n"
     ]
    }
   ],
   "source": [
    "for i in range(df_inference.shape[0]):\n",
    "    instance = df_inference.iloc[i,:].values.tolist()\n",
    "    inference_results = predict_tabular_classification(PROJECT_ID, REGION, 'projects/354621994428/locations/us-central1/endpoints/7409490112326664192', [instance])\n"
   ]
  },
  {
   "cell_type": "markdown",
   "metadata": {
    "id": "cleanup:mbsdk"
   },
   "source": [
    "# Cleaning up\n",
    "\n",
    "To clean up all Google Cloud resources used in this project, you can [delete the Google Cloud\n",
    "project](https://cloud.google.com/resource-manager/docs/creating-managing-projects#shutting_down_projects) you used for the tutorial.\n",
    "\n",
    "Otherwise, you can delete the individual resources you created in this tutorial:\n",
    "\n",
    "- Custom Job (Custome Training job is remove in previous step)\n",
    "- Cloud Storage Bucket"
   ]
  },
  {
   "cell_type": "code",
   "execution_count": null,
   "metadata": {
    "id": "JyWy23gDox9a"
   },
   "outputs": [],
   "source": [
    "delete_bucket = False\n",
    "\n",
    "if delete_bucket :\n",
    "    ! gsutil rm -r $BUCKET_URI"
   ]
  }
 ],
 "metadata": {
  "colab": {
   "name": "get_started_vertex_hpt_xgboost.ipynb",
   "toc_visible": true
  },
  "environment": {
   "kernel": "python3",
   "name": "common-cpu.m105",
   "type": "gcloud",
   "uri": "gcr.io/deeplearning-platform-release/base-cpu:m105"
  },
  "kernelspec": {
   "display_name": "Python 3 (ipykernel)",
   "language": "python",
   "name": "python3"
  },
  "language_info": {
   "codemirror_mode": {
    "name": "ipython",
    "version": 3
   },
   "file_extension": ".py",
   "mimetype": "text/x-python",
   "name": "python",
   "nbconvert_exporter": "python",
   "pygments_lexer": "ipython3",
   "version": "3.7.12"
  }
 },
 "nbformat": 4,
 "nbformat_minor": 4
}
